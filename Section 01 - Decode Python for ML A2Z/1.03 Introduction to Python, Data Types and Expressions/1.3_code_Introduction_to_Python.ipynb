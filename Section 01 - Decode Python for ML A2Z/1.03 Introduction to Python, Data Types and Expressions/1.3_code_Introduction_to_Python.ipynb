{
 "cells": [
  {
   "cell_type": "markdown",
   "id": "d884f304-84f5-4d5e-957f-8485d59758ea",
   "metadata": {},
   "source": [
    "# Introduction to Python!\n",
    "\n",
    "> *“Any fool can write code that a computer can understand. Good programmers write code that humans can understand.”*  \n",
    "> — Martin Fowler\n",
    "\n",
    "---\n",
    "## 📘 Topics to be Covered\n",
    "\n",
    "1. **What is Python ?**  \n",
    "2. **Key Features of Python**  \n",
    "3. **Limitations of Python**  \n",
    "4. **Scope of Python**  \n",
    "5. **Python — A Programming or a Scripting Language?**  \n",
    "6. **Data types in Python**\n",
    "7. **Expressions in Python**  \n",
    "8. **Programming Errors**  \n",
    "\n",
    "---"
   ]
  },
  {
   "cell_type": "markdown",
   "id": "1863e40a-581a-46dd-82f1-86b0ac7fc624",
   "metadata": {},
   "source": [
    "\n",
    "## 1. What is Python?\n",
    "\n",
    "**Python** is a high-level, interpreted programming language known for its **simplicity**, **readability**, and **versatility**.\n",
    "\n",
    "- Created by **Guido van Rossum**\n",
    "- First released in **1991**\n",
    "- Now used by companies like **Google**, **Netflix**, **NASA**, **Tesla**, and **Meta**\n",
    "\n",
    "Python makes it **easy for beginners to start**, while still being **powerful enough** for experts to build complex systems.\n",
    "\n",
    "Python is one of the most popular programming language. why ? \n",
    "\n",
    "- Used in **cutting-edge fields**: AI, Machine Learning, Data Science, Automation, and more.\n",
    "- Beginner-friendly syntax.\n",
    "- Fast development and prototyping.\n",
    "- A huge collection of libraries for **everything**.\n",
    "- A massive, supportive community.\n",
    "\n",
    "---\n",
    "\n",
    "## 2. Key Features of Python\n",
    "\n",
    "- **Interpreted** – No compilation required; run code line-by-line.\n",
    "- **Dynamically Typed** – No need to declare variable types.\n",
    "- **High-Level Language** – Write code like you're writing English.\n",
    "- **Object-Oriented** – Build reusable and organized code.\n",
    "- **Cross-Platform** – Runs on Windows, Mac, Linux seamlessly.\n",
    "\n",
    "---\n",
    "## 3. Limitations of Python\n",
    "\n",
    "Even the best tools have limitations:\n",
    "\n",
    "- **Slower than C++/Java** because it is interpreted.\n",
    "- **Not ideal for mobile app development.**\n",
    "- **GIL (Global Interpreter Lock)**: Limits true multithreading.\n",
    "- **Runtime Errors** due to dynamic typing.\n",
    "- **High memory usage** compared to lower-level languages.\n",
    "\n",
    "---\n",
    "\n",
    "## 4. Scope of Python\n",
    "\n",
    "Python shines in:\n",
    "\n",
    "| Domain             | Tools/Libraries         | What You Can Build                             |\n",
    "|-------------------|-------------------------|------------------------------------------------|\n",
    "| Data Science       | `pandas`, `numpy`        | Analyze real-world data                        |\n",
    "| Machine Learning   | `scikit-learn`, `xgboost`| Predict house prices, recommend videos         |\n",
    "| AI / Deep Learning | `tensorflow`, `pytorch`  | Build chatbots, autonomous systems             |\n",
    "| Web Development    | `Flask`, `Django`        | Build websites and REST APIs                   |\n",
    "| Automation         | `selenium`, `pyautogui`  | Auto-fill forms, schedule emails               |\n",
    "| Games              | `pygame`                 | Build 2D games and interactive apps            |\n",
    "\n",
    "---\n"
   ]
  },
  {
   "cell_type": "markdown",
   "id": "aa726349-2226-4a66-9d5f-6b121efe932a",
   "metadata": {},
   "source": [
    "## 5. Python — A Programming or a Scripting Language?\n",
    "\n",
    "---\n",
    "- Python is a general-purpose programming language that is often used as a scripting language.\n",
    "- Python as a scripting language - Used for quick automation or system-level tasks.\n",
    "  ```python\n",
    "  \n",
    "    # Rename all .txt files in a folder\n",
    "    import os\n",
    "    folder = \"C:/Users/Sanjeev/Desktop/textfiles\"\n",
    "    for filename in os.listdir(folder):\n",
    "        if filename.endswith(\".txt\"):\n",
    "            new_name = filename.replace(\" \", \"_\")\n",
    "            os.rename(os.path.join(folder, filename), os.path.join(folder, new_name))\n",
    "            \n",
    "  ```\n",
    "- Python as a programming language - Used to build applications by organizing code using modules/classes/functions.\n",
    "    ```python\n",
    "  \n",
    "    # Simple Student Management System\n",
    "    class Student:\n",
    "        def __init__(self, name, marks):\n",
    "            self.name = name\n",
    "            self.marks = marks\n",
    "    \n",
    "        def get_grade(self):\n",
    "            if self.marks >= 90:\n",
    "                return \"A\"\n",
    "            elif self.marks >= 75:\n",
    "                return \"B\"\n",
    "            else:\n",
    "                return \"C\"\n",
    "    \n",
    "    def main():\n",
    "        students = [\n",
    "            Student(\"Aman\", 88),\n",
    "            Student(\"Rahul\", 95)\n",
    "        ]\n",
    "    \n",
    "        for s in students:\n",
    "            print(f\"{s.name} got grade: {s.get_grade()}\")\n",
    "    \n",
    "    if __name__ == \"__main__\":\n",
    "        main()\n",
    "    \n",
    "                \n",
    "   ```\n",
    "- **Python is an object-oriented programming language like Java** – you can write class-based code, just like Java.  \n",
    "- **Python is interpreted**, but **Java is compiled** – it runs via an interpreter rather than being compiled to machine code directly.\n",
    "\n",
    "Let’s understand this more clearly with an analogy:\n",
    "\n",
    "Analogy: Chef & Recipe\n",
    "\n",
    "| Concept                        |  **Python**                |   **Java**                       |\n",
    "|-------------------------------|-----------------------------|----------------------------------|\n",
    "| **Cooking Style (OOP)**        | Object-Oriented             | Object-Oriented                  |\n",
    "| **Cooking Method (Execution)** | Interpreted *(live cooking)* | Compiled *(pre-cooked and served)* |\n",
    "\n",
    "---"
   ]
  },
  {
   "cell_type": "markdown",
   "id": "01bba19a-0562-494a-99c0-cf7ca8b54ed7",
   "metadata": {},
   "source": [
    "## 6. Data types in Python\n",
    "In Python, datatypes define what kind of value a variable can hold. Python is dynamically typed, so you don’t have to declare types explicitly—they're inferred at runtime.\n",
    " ![Data Types Example](datatypes.png)\n",
    "Fundamental (or primitive) data types are the basic building blocks of data in Python. They are simple, core types from which more complex structures can be made.\n",
    "\n",
    "Integer, float, boolean, None, and string are **primitive data types** because they represent a single value.\n",
    "\n",
    "Other data types like list, tuple, set, frozenset and dictionary are often called **data structures or containers** because they hold multiple pieces of data together.\n",
    "\n",
    "A literal is a value. A variable is a name pointing to that value.\n",
    "\n",
    "A variable in Python is defined through assignment. There is no concept of declaring a variable outside of that assignment."
   ]
  },
  {
   "cell_type": "code",
   "execution_count": null,
   "id": "e716701b-e1c2-4f1e-b283-1c27e312da9b",
   "metadata": {},
   "outputs": [],
   "source": []
  },
  {
   "cell_type": "markdown",
   "id": "d7a5ca4d-fa8b-4906-ac3f-7ba44f4bd820",
   "metadata": {},
   "source": [
    "### Integers\n",
    "\n",
    "Integer literals are created by any number without a decimal or complex component."
   ]
  },
  {
   "cell_type": "code",
   "execution_count": 11,
   "id": "cf84d4de-1180-42f8-a23c-5b776f612e81",
   "metadata": {},
   "outputs": [
    {
     "name": "stdout",
     "output_type": "stream",
     "text": [
      "Type : <class 'int'>\n",
      "val : 1234\n"
     ]
    }
   ],
   "source": [
    "# integers\n",
    "x = 1234\n",
    "\n",
    "print(f'Type : {type(x)}')\n",
    "print(f'val : {x}')"
   ]
  },
  {
   "cell_type": "markdown",
   "id": "52091ca6-fa66-4b01-87d3-a92df2680a52",
   "metadata": {},
   "source": [
    "In Python, everything — even primitive data types like int, str, bool, etc. — is a class\n",
    "\n",
    "Every value (even 5, \"hello\", True) is an instance of a class.\n",
    "\n",
    "This makes Python powerful and flexible."
   ]
  },
  {
   "cell_type": "markdown",
   "id": "21b14672-a733-432f-86c7-875e57666b19",
   "metadata": {},
   "source": [
    "### Floats\n",
    "\n",
    "Float literals can be created by adding a decimal component to a number."
   ]
  },
  {
   "cell_type": "code",
   "execution_count": 12,
   "id": "c478f341-195f-4c5d-8c46-ca96cb149a35",
   "metadata": {},
   "outputs": [
    {
     "name": "stdout",
     "output_type": "stream",
     "text": [
      "Type : <class 'float'>\n",
      "val : 1.0\n"
     ]
    }
   ],
   "source": [
    "# float\n",
    "x = 1.0\n",
    "\n",
    "print(f'Type : {type(x)}')\n",
    "print(f'val : {x}')"
   ]
  },
  {
   "cell_type": "markdown",
   "id": "1f2ae8c1-194f-4114-875d-a20dba2f97c6",
   "metadata": {},
   "source": [
    "### Boolean\n",
    "\n",
    "Boolean can be defined by typing True/False without quotes"
   ]
  },
  {
   "cell_type": "code",
   "execution_count": 13,
   "id": "46c4bc0f-6a17-4748-a9e2-42601b8054bb",
   "metadata": {},
   "outputs": [
    {
     "name": "stdout",
     "output_type": "stream",
     "text": [
      "Type : <class 'bool'>\n",
      "val : True\n"
     ]
    }
   ],
   "source": [
    "# boolean\n",
    "b1 = True\n",
    "b2 = False\n",
    "\n",
    "print(f'Type : {type(b1)}')\n",
    "print(f'val : {b1}')"
   ]
  },
  {
   "cell_type": "code",
   "execution_count": 19,
   "id": "53ed6cf8-384f-4f6a-beaf-e6e143d3baee",
   "metadata": {},
   "outputs": [
    {
     "name": "stdout",
     "output_type": "stream",
     "text": [
      "False\n",
      "True\n",
      "False\n",
      "True\n"
     ]
    }
   ],
   "source": [
    "# Boolean evaluation\n",
    "print(True and False)\n",
    "print(True or False)\n",
    "print(not True)\n",
    "print('a' == 'a')"
   ]
  },
  {
   "cell_type": "markdown",
   "id": "6f43234a-a14d-452a-8b8e-da6ed6dc25fc",
   "metadata": {},
   "source": [
    "### Strings\n",
    "\n",
    "String literals can be defined with any of single quotes ('), double quotes (\") or triple quotes (''' or \"\"\"). All give the same result with two important differences.\n",
    "\n",
    "If you quote with single quotes, you do not have to escape double quotes and vice-versa.\n",
    "If you quote with triple quotes, your string can span multiple lines."
   ]
  },
  {
   "cell_type": "code",
   "execution_count": 14,
   "id": "4f22b601-7132-4b58-a5d6-7c26f50e9a0e",
   "metadata": {},
   "outputs": [
    {
     "name": "stdout",
     "output_type": "stream",
     "text": [
      "name Type : <class 'str'>\n",
      "name val : Hello I'm double quotes !\n",
      "greet Type : <class 'str'>\n",
      "greet val : Hello I'm single quotes!\n",
      "multi_line Type : <class 'str'>\n",
      "multi_line val : \n",
      "Hi\n",
      "This is Python\n",
      "\n"
     ]
    }
   ],
   "source": [
    "name = \"Hello I'm double quotes !\"           # Double quotes\n",
    "print(f'name Type : {type(name)}')\n",
    "print(f'name val : {name}')\n",
    "#--------------\n",
    "greet = 'Hello I\\'m single quotes!'            # Single quotes\n",
    "print(f'greet Type : {type(greet)}')\n",
    "print(f'greet val : {greet}')\n",
    "#--------------\n",
    "multi_line = '''\n",
    "Hi\n",
    "This is Python\n",
    "'''          # Triple quotes for multi-line strings\n",
    "print(f'multi_line Type : {type(multi_line)}')\n",
    "print(f'multi_line val : {multi_line}')"
   ]
  },
  {
   "cell_type": "markdown",
   "id": "d3e143a0-6615-4b91-a91f-1b7e9347552a",
   "metadata": {},
   "source": [
    "### Complex\n",
    "\n",
    "Complex literals can be created by using the notation x + yj where x is the real component and y is the imaginary component."
   ]
  },
  {
   "cell_type": "code",
   "execution_count": 15,
   "id": "2686b89b-f2b8-491b-bbe2-85ccb0125df3",
   "metadata": {},
   "outputs": [
    {
     "data": {
      "text/plain": [
       "complex"
      ]
     },
     "execution_count": 15,
     "metadata": {},
     "output_type": "execute_result"
    }
   ],
   "source": [
    "# complex numbers: note the use of `j` to specify the imaginary part\n",
    "x = 1.0 - 2.0j\n",
    "type(x)"
   ]
  },
  {
   "cell_type": "code",
   "execution_count": 16,
   "id": "aab66c16-fe4e-4e2c-bdde-dc5b75e18285",
   "metadata": {},
   "outputs": [
    {
     "name": "stdout",
     "output_type": "stream",
     "text": [
      "(1-2j)\n"
     ]
    }
   ],
   "source": [
    "print(x)"
   ]
  },
  {
   "cell_type": "code",
   "execution_count": 17,
   "id": "e5a04c61-9c56-4af5-98b6-35d6c4660431",
   "metadata": {},
   "outputs": [
    {
     "name": "stdout",
     "output_type": "stream",
     "text": [
      "1.0 -2.0\n"
     ]
    }
   ],
   "source": [
    "print(x.real, x.imag)"
   ]
  },
  {
   "cell_type": "markdown",
   "id": "99175e38-b7da-4831-9572-405a6c26b0ab",
   "metadata": {},
   "source": [
    "### Dynamic Typing\n",
    "\n",
    "In Python, while the value that a variable points to has a type, the variable itself has no strict type in its definition. You can re-use the same variable to point to an object of a different type. "
   ]
  },
  {
   "cell_type": "code",
   "execution_count": 18,
   "id": "3a5afb0e-7f82-405b-99c0-10132eb3765a",
   "metadata": {},
   "outputs": [
    {
     "name": "stdout",
     "output_type": "stream",
     "text": [
      "10\n",
      "ten\n"
     ]
    }
   ],
   "source": [
    "ten = 10\n",
    "print(ten)\n",
    "\n",
    "ten = 'ten'\n",
    "print(ten)"
   ]
  },
  {
   "cell_type": "markdown",
   "id": "45d807e4-9195-41dd-9762-313845db8072",
   "metadata": {},
   "source": [
    "### None Type\n",
    "\n",
    "Represents the absence of a value."
   ]
  },
  {
   "cell_type": "code",
   "execution_count": 20,
   "id": "38bfe5cd-437b-4e3b-98c5-1c7e52ce8637",
   "metadata": {},
   "outputs": [
    {
     "name": "stdout",
     "output_type": "stream",
     "text": [
      "None\n",
      "<class 'NoneType'>\n"
     ]
    }
   ],
   "source": [
    "data = None\n",
    "print(data)\n",
    "print(type(data))"
   ]
  },
  {
   "cell_type": "markdown",
   "id": "4809a19c-059f-404c-9936-ecff177b374b",
   "metadata": {},
   "source": [
    "### Type Checking and Conversion"
   ]
  },
  {
   "cell_type": "code",
   "execution_count": 21,
   "id": "e9736f77-2c7e-446d-868e-1d026d0183a5",
   "metadata": {},
   "outputs": [
    {
     "name": "stdout",
     "output_type": "stream",
     "text": [
      "<class 'str'>\n",
      "<class 'int'>\n"
     ]
    }
   ],
   "source": [
    "a = \"10\"\n",
    "print(type(a))\n",
    "a = int(a)\n",
    "print(type(a))"
   ]
  },
  {
   "cell_type": "code",
   "execution_count": 7,
   "id": "9bfabdaf-908a-4c6a-87ae-a74ce9b87fc5",
   "metadata": {},
   "outputs": [
    {
     "data": {
      "text/plain": [
       "'9'"
      ]
     },
     "execution_count": 7,
     "metadata": {},
     "output_type": "execute_result"
    }
   ],
   "source": [
    "#Converting integer to string\n",
    "str(9)"
   ]
  },
  {
   "cell_type": "code",
   "execution_count": 8,
   "id": "5bb1f81b-d290-49e7-9c5e-0596aa62cca8",
   "metadata": {},
   "outputs": [
    {
     "data": {
      "text/plain": [
       "4.5"
      ]
     },
     "execution_count": 8,
     "metadata": {},
     "output_type": "execute_result"
    }
   ],
   "source": [
    "#Converting string to float\n",
    "float(\"4.5\")"
   ]
  },
  {
   "cell_type": "code",
   "execution_count": 9,
   "id": "12e11523-f9c1-434b-ba88-9730a5886e02",
   "metadata": {},
   "outputs": [
    {
     "data": {
      "text/plain": [
       "1"
      ]
     },
     "execution_count": 9,
     "metadata": {},
     "output_type": "execute_result"
    }
   ],
   "source": [
    "#Converting bool to integer\n",
    "int(True)"
   ]
  },
  {
   "cell_type": "markdown",
   "id": "ca1bd993-b75d-444e-9613-48235b1f23d4",
   "metadata": {},
   "source": [
    "Sometimes, conversion of a value may not be possible. For example, it is not possible to convert the variable greeting defined below to a number:"
   ]
  },
  {
   "cell_type": "code",
   "execution_count": 11,
   "id": "18effeee-b4eb-448a-bc40-70fcaec43e58",
   "metadata": {},
   "outputs": [],
   "source": [
    "greeting = \"hello\"\n",
    "int(greeting) # ValueError: invalid literal for int() with base 10: 'hello'"
   ]
  },
  {
   "cell_type": "markdown",
   "id": "2f598676-73c6-4c75-8edc-fcbf8b215f52",
   "metadata": {},
   "source": [
    "However, in some cases, mathematical operators such as + and * can be applied on strings. The operator + concatenates multiple strings, while the operator * can be used to concatenate a string to itself multiple times:"
   ]
  },
  {
   "cell_type": "code",
   "execution_count": 12,
   "id": "c8211781-da44-458e-aeff-1b4df82c0b00",
   "metadata": {},
   "outputs": [
    {
     "data": {
      "text/plain": [
       "'Hi there!'"
      ]
     },
     "execution_count": 12,
     "metadata": {},
     "output_type": "execute_result"
    }
   ],
   "source": [
    "\"Hi\" + \" there!\""
   ]
  },
  {
   "cell_type": "code",
   "execution_count": 13,
   "id": "46ac22e1-cc91-42d7-8209-e4654a00be34",
   "metadata": {},
   "outputs": [
    {
     "data": {
      "text/plain": [
       "'53'"
      ]
     },
     "execution_count": 13,
     "metadata": {},
     "output_type": "execute_result"
    }
   ],
   "source": [
    "\"5\" + '3'"
   ]
  },
  {
   "cell_type": "code",
   "execution_count": 14,
   "id": "d529dc2f-2e1a-4a17-bf95-c2cf09c54b7b",
   "metadata": {},
   "outputs": [
    {
     "data": {
      "text/plain": [
       "'55555555'"
      ]
     },
     "execution_count": 14,
     "metadata": {},
     "output_type": "execute_result"
    }
   ],
   "source": [
    "\"5\"*8"
   ]
  },
  {
   "cell_type": "markdown",
   "id": "45f09d3e-a178-4415-8153-2858ccbcb1ac",
   "metadata": {},
   "source": [
    "### Block Structure and Whitespace\n",
    "\n",
    "The code that is executed when a specific condition is met is defined in a \"block.\" \n",
    "\n",
    "In Python, the block structure is signalled by changes in indentation. Each line of code in a certain block level must be indented equally and indented more than the surrounding scope. The standard (defined in PEP-8) is to use 4 spaces for each level of block indentation. Statements preceding blocks generally end with a colon (:).\n",
    "\n",
    "Because there are no semi-colons or other end-of-line indicators in Python, breaking lines of code requires either a continuation character (\\ as the last char) or for the break to occur inside an unfinished structure (such as open parentheses)."
   ]
  },
  {
   "cell_type": "code",
   "execution_count": 3,
   "id": "6221d7c8-00fa-465e-927d-d07fd764bee1",
   "metadata": {},
   "outputs": [
    {
     "name": "stdout",
     "output_type": "stream",
     "text": [
      "150\n"
     ]
    }
   ],
   "source": [
    "total = 10 + 20 + 30 + \\\n",
    "        40 + 50\n",
    "print(total)"
   ]
  },
  {
   "cell_type": "markdown",
   "id": "bfd377e4-16e2-4348-86ed-4f634991ab45",
   "metadata": {},
   "source": [
    "In Python, primitive data types and container data types are fundamental concepts that help you store and manage data in different ways.\n",
    "\n",
    "Since we have already seen Primitive data types in last lecture, let's see some common Container data types."
   ]
  },
  {
   "cell_type": "markdown",
   "id": "7165e82a-74d7-44cd-8cf1-807cb45377d8",
   "metadata": {},
   "source": [
    "### Containers in Python\n",
    "\n",
    "In Python, containers are built-in data types that hold collections of items. They allow you to group multiple values together into a single object, making it easier to manage, organize, and manipulate data. \n",
    "\n",
    "They are part of Python’s core language — available by default without importing anything.\n",
    "\n",
    "Let's see some common containers.\n",
    "\n",
    "| Type        | Description                             | Mutable? | Ordered? | Duplicates? |\n",
    "| ----------- | --------------------------------------- | -------- | -------- | ----------- |\n",
    "| `list`      | Ordered collection of items             | ✅ Yes    | ✅ Yes    | ✅ Yes       |\n",
    "| `tuple`     | Immutable ordered collection            | ❌ No     | ✅ Yes    | ✅ Yes       |\n",
    "| `dict`      | Key-value pairs                         | ✅ Yes    | ✅ Yes    | ❌ No (keys) |\n",
    "| `set`       | Unordered collection of unique elements | ✅ Yes    | ❌ No     | ❌ No        |\n",
    "| `frozenset` | Immutable version of a set              | ❌ No     | ❌ No     | ❌ No        |\n",
    "| `str`       | Immutable sequence of characters        | ❌ No     | ✅ Yes    | ✅ Yes       |\n",
    "\n",
    "Let's see in brief some examples for each of these items."
   ]
  },
  {
   "cell_type": "code",
   "execution_count": 1,
   "id": "0cfd01eb-5def-411c-8d46-49f724f65dd1",
   "metadata": {},
   "outputs": [
    {
     "name": "stdout",
     "output_type": "stream",
     "text": [
      "['apple', 'banana', 'cherry', 'orange']\n"
     ]
    }
   ],
   "source": [
    "# 1. list – A Mutable Ordered Container\n",
    "\n",
    "fruits = [\"apple\", \"banana\", \"cherry\"]\n",
    "fruits.append(\"orange\")\n",
    "print(fruits)  # ['apple', 'banana', 'cherry', 'orange']"
   ]
  },
  {
   "cell_type": "code",
   "execution_count": 2,
   "id": "80e639c7-4d53-49a4-a060-a1b9198a091b",
   "metadata": {},
   "outputs": [],
   "source": [
    "# 2. tuple – An Immutable Ordered Container\n",
    "\n",
    "coordinates = (10, 20)\n",
    "# coordinates[0] = 30  # ❌ Error, tuples can't be modified"
   ]
  },
  {
   "cell_type": "code",
   "execution_count": 3,
   "id": "bf5a3bd9-e0a0-40e0-86fe-86f8d3b9e247",
   "metadata": {},
   "outputs": [
    {
     "name": "stdout",
     "output_type": "stream",
     "text": [
      "{'name': 'Alice', 'age': 22, 'grade': 'A'}\n"
     ]
    }
   ],
   "source": [
    "# 3. dict – A Key-Value Pair Container\n",
    "\n",
    "student = {\"name\": \"Alice\", \"age\": 22}\n",
    "student[\"grade\"] = \"A\"\n",
    "print(student)  # {'name': 'Alice', 'age': 22, 'grade': 'A'}"
   ]
  },
  {
   "cell_type": "code",
   "execution_count": 4,
   "id": "7b420e4f-1fb9-45d8-979b-c5779a146fda",
   "metadata": {},
   "outputs": [
    {
     "name": "stdout",
     "output_type": "stream",
     "text": [
      "{1, 2, 3}\n"
     ]
    }
   ],
   "source": [
    "# 4. set – A Collection of Unique Elements\n",
    "\n",
    "unique_numbers = {1, 2, 3, 2, 1}\n",
    "print(unique_numbers)  # {1, 2, 3}"
   ]
  },
  {
   "cell_type": "code",
   "execution_count": 5,
   "id": "6a10e160-2d19-44cc-9082-94418ddf211b",
   "metadata": {},
   "outputs": [],
   "source": [
    "# 5. frozenset – Immutable Set\n",
    "\n",
    "fs = frozenset([1, 2, 3])\n",
    "# fs.add(4)  # ❌ Error: frozenset is immutable"
   ]
  },
  {
   "cell_type": "code",
   "execution_count": 6,
   "id": "2e111f8a-01b3-4ddb-b6f6-8304d8cfd6b6",
   "metadata": {},
   "outputs": [
    {
     "name": "stdout",
     "output_type": "stream",
     "text": [
      "e\n"
     ]
    }
   ],
   "source": [
    "# 6. str – Technically a Container of Characters\n",
    "\n",
    "message = \"hello\"\n",
    "print(message[1])  # 'e'\n",
    "# message[0] = 'H'  # ❌ Error: strings are immutable"
   ]
  },
  {
   "cell_type": "markdown",
   "id": "e4dc8927-3883-43e5-8446-3584ee69c1a6",
   "metadata": {},
   "source": [
    "**We will see few containers in very details in the next lecture.**"
   ]
  },
  {
   "cell_type": "markdown",
   "id": "3470ce2f-8274-40a4-a90d-67c2f6b3bed4",
   "metadata": {},
   "source": [
    "### 7. Expressions in Python\n",
    "\n",
    "An expression is a combination of operators and operands that is interpreted to produce some other value. \n",
    "\n",
    "In any programming language, an expression is evaluated as per the precedence and associativity of its operators.\n",
    "\n",
    "So that if there is more than one operator in an expression, their precedence decides which operation will be performed first. \n",
    "\n",
    "If an expression contains two or more operators with the same precedence then Operator Associativity is used to determine. It can either be Left to Right or from Right to Left.\n",
    "\n",
    "Let's discuss different types of expressions in Python."
   ]
  },
  {
   "cell_type": "code",
   "execution_count": null,
   "id": "7950df47-be6f-4d77-83e6-084642f62685",
   "metadata": {},
   "outputs": [],
   "source": [
    "#Operator types in python\n",
    "'''\n",
    "Exponent: **\n",
    "Remainder: %\n",
    "Multiplication: *\n",
    "Division: /\n",
    "Floor Division: //\n",
    "Addition: +\n",
    "Subtraction: -\n",
    "'''"
   ]
  },
  {
   "cell_type": "code",
   "execution_count": 31,
   "id": "e8547d60-a727-4d91-b699-c5846cf5f318",
   "metadata": {},
   "outputs": [
    {
     "name": "stdout",
     "output_type": "stream",
     "text": [
      "16.3\n"
     ]
    }
   ],
   "source": [
    "# 1. Constant Expressions: These are the expressions that have constant values only.\n",
    "\n",
    "x = 15 + 1.3\n",
    "\n",
    "print(x)"
   ]
  },
  {
   "cell_type": "code",
   "execution_count": 32,
   "id": "b62f6f52-e917-43fe-bbc1-ba2446e8a026",
   "metadata": {},
   "outputs": [
    {
     "name": "stdout",
     "output_type": "stream",
     "text": [
      "52\n",
      "28\n",
      "480\n",
      "3.3333333333333335\n"
     ]
    }
   ],
   "source": [
    "# 2. Arithmetic Expressions: An arithmetic expression is a combination of numeric values, operators, and sometimes parenthesis.\n",
    "\n",
    "# Arithmetic Expressions\n",
    "x = 40\n",
    "y = 12\n",
    "\n",
    "add = x + y\n",
    "sub = x - y\n",
    "pro = x * y\n",
    "div = x / y\n",
    "\n",
    "print(add)\n",
    "print(sub)\n",
    "print(pro)\n",
    "print(div)"
   ]
  },
  {
   "cell_type": "code",
   "execution_count": 33,
   "id": "4ef36559-19b9-4b09-a55e-cf12950f3d15",
   "metadata": {},
   "outputs": [
    {
     "name": "stdout",
     "output_type": "stream",
     "text": [
      "True\n"
     ]
    }
   ],
   "source": [
    "# 3. Relational Expressions: Also called Boolean Expression because it produce a boolean output in the end. \n",
    "a = 21\n",
    "b = 13\n",
    "c = 40\n",
    "d = 37\n",
    "\n",
    "p = (a + b) >= (c - d)\n",
    "print(p)"
   ]
  },
  {
   "cell_type": "code",
   "execution_count": 34,
   "id": "ee35915c-9b91-4469-b497-a05ace24521f",
   "metadata": {},
   "outputs": [
    {
     "name": "stdout",
     "output_type": "stream",
     "text": [
      "False\n",
      "True\n",
      "True\n"
     ]
    }
   ],
   "source": [
    "# 4. Logical Expressions: These are kinds of expressions that result in either True or False. It basically specifies one or more conditions.\n",
    "P = (10 == 9)\n",
    "Q = (7 > 5)\n",
    "\n",
    "# Logical Expressions\n",
    "R = P and Q\n",
    "S = P or Q\n",
    "T = not P\n",
    "\n",
    "print(R)\n",
    "print(S)\n",
    "print(T)"
   ]
  },
  {
   "cell_type": "code",
   "execution_count": 35,
   "id": "88eeadff-add2-4607-93ae-b283310acbfb",
   "metadata": {},
   "outputs": [
    {
     "name": "stdout",
     "output_type": "stream",
     "text": [
      "3 24\n"
     ]
    }
   ],
   "source": [
    "# 5. Bitwise Expressions: These are the kind of expressions in which computations are performed at bit level.\n",
    "\n",
    "a = 12\n",
    "\n",
    "x = a >> 2\n",
    "y = a << 1\n",
    "\n",
    "print(x, y)"
   ]
  },
  {
   "cell_type": "markdown",
   "id": "ec8bf5bc-2e4d-4d8b-9364-37c54311e57a",
   "metadata": {},
   "source": [
    "# Python Operator Precedence and Associativity\n",
    "\n",
    "| Precedence Level | Operators                                      | Description                                      | Associativity        |\n",
    "|------------------|------------------------------------------------|--------------------------------------------------|----------------------|\n",
    "| 1 (Highest)      | `()`                                           | Parentheses (grouping)                          | N/A                  |\n",
    "| 2                | `x[index]`, `x[attr]`, `x(...)`, `x(...)`      | Subscription, attribute reference, function call | Left-to-right        |\n",
    "| 3                | `**`                                           | Exponentiation                                   | Right-to-left        |\n",
    "| 4                | `+x`, `-x`, `~x`                               | Unary plus, minus, bitwise NOT                   | Right-to-left        |\n",
    "| 5                | `*`, `/`, `//`, `%`                            | Multiplication, division, floor division, modulo | Left-to-right        |\n",
    "| 6                | `+`, `-`                                       | Addition, subtraction                            | Left-to-right        |\n",
    "| 7                | `<<`, `>>`                                     | Bitwise shift operators                          | Left-to-right        |\n",
    "| 8                | `&`                                            | Bitwise AND                                      | Left-to-right        |\n",
    "| 9                | `^`                                            | Bitwise XOR                                      | Left-to-right        |\n",
    "| 10               | `\\|`                                            | Bitwise OR                                       | Left-to-right        |\n",
    "| 11               | `in`, `not in`, `is`, `is not`, `<`, `<=`, `>`, `>=`, `!=`, `==` | Comparisons, identity, membership tests | Left-to-right        |\n",
    "| 12               | `not`                                          | Logical NOT                                      | Right-to-left        |\n",
    "| 13               | `and`                                          | Logical AND                                      | Left-to-right        |\n",
    "| 14               | `or`                                           | Logical OR                                       | Left-to-right        |\n",
    "| 15               | `if - else`                                    | Conditional expressions                          | Right-to-left        |\n",
    "| 16               | `lambda`                                       | Lambda expressions                               | Right-to-left        |\n",
    "| 17 (Lowest)      | `:=`                                           | Assignment expression (walrus operator)          | Right-to-left        |\n",
    "\n",
    "> 🔹 **Note**: Lower number means **higher precedence**. Operators with the same precedence level follow the associativity rule shown.\n"
   ]
  },
  {
   "cell_type": "code",
   "execution_count": 21,
   "id": "e15112c5-8e2f-4412-b50f-36f58fa5d4d7",
   "metadata": {},
   "outputs": [
    {
     "data": {
      "text/plain": [
       "8"
      ]
     },
     "execution_count": 21,
     "metadata": {},
     "output_type": "execute_result"
    }
   ],
   "source": [
    "2+3%4*2 # (2+ ((3%4) *2))"
   ]
  },
  {
   "cell_type": "code",
   "execution_count": 30,
   "id": "bc13cd7a-1532-4237-89f1-0a6edd288458",
   "metadata": {},
   "outputs": [
    {
     "data": {
      "text/plain": [
       "1.6"
      ]
     },
     "execution_count": 30,
     "metadata": {},
     "output_type": "execute_result"
    }
   ],
   "source": [
    "2*(4/5)"
   ]
  },
  {
   "cell_type": "code",
   "execution_count": null,
   "id": "cce8f267-0110-48ba-b923-705caa0196cf",
   "metadata": {},
   "outputs": [],
   "source": [
    "1%2**3*2+1"
   ]
  },
  {
   "cell_type": "markdown",
   "id": "583fb9d8-e11f-4722-8406-a7765d0616ca",
   "metadata": {},
   "source": [
    "### 8. Programming errors"
   ]
  },
  {
   "cell_type": "markdown",
   "id": "2408319c-a8a8-41df-848d-b2dd17fb7b1c",
   "metadata": {},
   "source": [
    "**1. Syntax Error**\n",
    "\n",
    "Syntax errors occur if the code is written in a way that it does not comply with the rules / standards / laws of the language (python in this case)."
   ]
  },
  {
   "cell_type": "code",
   "execution_count": null,
   "id": "378421b7-bd28-4b89-b825-e48c11b9e13a",
   "metadata": {},
   "outputs": [],
   "source": [
    "9value = 2"
   ]
  },
  {
   "cell_type": "markdown",
   "id": "d3e6c521-ebe8-42e9-8baf-036d4f2c83f8",
   "metadata": {},
   "source": [
    "**2. Run-time Error**\n",
    "\n",
    "Run-time errors occur when a code is syntactically correct, but there are other issues with the code such as:\n",
    "\n",
    "1. Misspelled or incorrectly capitalized variable and function names\n",
    "2. Attempts to perform operations (such as math operations) on data of the wrong type (ex. attempting to subtract two variables that hold string values)\n",
    "3. Dividing by zero\n",
    "4. Attempts to use a type conversion function such as int on a value that can’t be converted to an int"
   ]
  },
  {
   "cell_type": "code",
   "execution_count": 19,
   "id": "147d659f-0f05-406d-bb06-fe27c171a141",
   "metadata": {},
   "outputs": [],
   "source": [
    "multiplication_result = x * 4"
   ]
  },
  {
   "cell_type": "markdown",
   "id": "b8ac3ece-2118-4b2e-a2ad-cba7fd58efcc",
   "metadata": {},
   "source": [
    "## 📚 References\n",
    "- https://nustat.github.io/Intro_to_programming_for_data_sci/Variable_expressions_statements.html"
   ]
  }
 ],
 "metadata": {
  "kernelspec": {
   "display_name": "Python 3 (ipykernel)",
   "language": "python",
   "name": "python3"
  },
  "language_info": {
   "codemirror_mode": {
    "name": "ipython",
    "version": 3
   },
   "file_extension": ".py",
   "mimetype": "text/x-python",
   "name": "python",
   "nbconvert_exporter": "python",
   "pygments_lexer": "ipython3",
   "version": "3.13.5"
  }
 },
 "nbformat": 4,
 "nbformat_minor": 5
}
