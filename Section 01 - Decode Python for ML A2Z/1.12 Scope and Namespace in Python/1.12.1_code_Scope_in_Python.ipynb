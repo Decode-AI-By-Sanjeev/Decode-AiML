{
 "cells": [
  {
   "cell_type": "markdown",
   "metadata": {
    "id": "61bkyAe-mLX7"
   },
   "source": [
    "# Scope in Python\n",
    "\n",
    "In Python, **scope** refers to the region of a program where a **variable is recognized** and can be **accessed**.\n"
   ]
  },
  {
   "cell_type": "code",
   "execution_count": 4,
   "metadata": {},
   "outputs": [
    {
     "name": "stdout",
     "output_type": "stream",
     "text": [
      "2\n"
     ]
    }
   ],
   "source": [
    "x = 2\n",
    "print(x) # x- recognized and accessible"
   ]
  },
  {
   "cell_type": "code",
   "execution_count": 9,
   "metadata": {},
   "outputs": [
    {
     "ename": "NameError",
     "evalue": "name 'y' is not defined",
     "output_type": "error",
     "traceback": [
      "\u001b[31m---------------------------------------------------------------------------\u001b[39m",
      "\u001b[31mNameError\u001b[39m                                 Traceback (most recent call last)",
      "\u001b[36mCell\u001b[39m\u001b[36m \u001b[39m\u001b[32mIn[9]\u001b[39m\u001b[32m, line 6\u001b[39m\n\u001b[32m      3\u001b[39m \u001b[38;5;28;01mdef\u001b[39;00m\u001b[38;5;250m \u001b[39m\u001b[34mtest\u001b[39m():\n\u001b[32m      4\u001b[39m     \u001b[38;5;28mprint\u001b[39m(y)\n\u001b[32m----> \u001b[39m\u001b[32m6\u001b[39m test()\n",
      "\u001b[36mCell\u001b[39m\u001b[36m \u001b[39m\u001b[32mIn[9]\u001b[39m\u001b[32m, line 4\u001b[39m, in \u001b[36mtest\u001b[39m\u001b[34m()\u001b[39m\n\u001b[32m      3\u001b[39m \u001b[38;5;28;01mdef\u001b[39;00m\u001b[38;5;250m \u001b[39m\u001b[34mtest\u001b[39m():\n\u001b[32m----> \u001b[39m\u001b[32m4\u001b[39m     \u001b[38;5;28mprint\u001b[39m(y)\n",
      "\u001b[31mNameError\u001b[39m: name 'y' is not defined"
     ]
    }
   ],
   "source": [
    "# not recognized, not accessible\n",
    "\n",
    "def test():\n",
    "    print(y) # NameError: name 'y' is not defined\n",
    "\n",
    "test()"
   ]
  },
  {
   "cell_type": "code",
   "execution_count": 10,
   "metadata": {
    "colab": {
     "base_uri": "https://localhost:8080/"
    },
    "executionInfo": {
     "elapsed": 51,
     "status": "ok",
     "timestamp": 1752763510319,
     "user": {
      "displayName": "Decode AI",
      "userId": "00665917665354843584"
     },
     "user_tz": -330
    },
    "id": "5bKBZqNW16q3",
    "outputId": "6171d86d-09df-4ef1-a5e9-76588ad055a1"
   },
   "outputs": [
    {
     "name": "stdout",
     "output_type": "stream",
     "text": [
      "5\n"
     ]
    }
   ],
   "source": [
    " # recognized and accessible\n",
    "x = 5\n",
    "def test():\n",
    "    print(x)\n",
    "\n",
    "test()"
   ]
  },
  {
   "cell_type": "code",
   "execution_count": 13,
   "metadata": {},
   "outputs": [
    {
     "ename": "UnboundLocalError",
     "evalue": "cannot access local variable 'x' where it is not associated with a value",
     "output_type": "error",
     "traceback": [
      "\u001b[31m---------------------------------------------------------------------------\u001b[39m",
      "\u001b[31mUnboundLocalError\u001b[39m                         Traceback (most recent call last)",
      "\u001b[36mCell\u001b[39m\u001b[36m \u001b[39m\u001b[32mIn[13]\u001b[39m\u001b[32m, line 8\u001b[39m\n\u001b[32m      5\u001b[39m     \u001b[38;5;28mprint\u001b[39m(x)   \u001b[38;5;66;03m# Trying to access x\u001b[39;00m\n\u001b[32m      6\u001b[39m     x = \u001b[32m10\u001b[39m     \u001b[38;5;66;03m# Local assignment\u001b[39;00m\n\u001b[32m----> \u001b[39m\u001b[32m8\u001b[39m test()\n",
      "\u001b[36mCell\u001b[39m\u001b[36m \u001b[39m\u001b[32mIn[13]\u001b[39m\u001b[32m, line 5\u001b[39m, in \u001b[36mtest\u001b[39m\u001b[34m()\u001b[39m\n\u001b[32m      4\u001b[39m \u001b[38;5;28;01mdef\u001b[39;00m\u001b[38;5;250m \u001b[39m\u001b[34mtest\u001b[39m():\n\u001b[32m----> \u001b[39m\u001b[32m5\u001b[39m     \u001b[38;5;28mprint\u001b[39m(x)   \u001b[38;5;66;03m# Trying to access x\u001b[39;00m\n\u001b[32m      6\u001b[39m     x = \u001b[32m10\u001b[39m\n",
      "\u001b[31mUnboundLocalError\u001b[39m: cannot access local variable 'x' where it is not associated with a value"
     ]
    }
   ],
   "source": [
    "# recognized but not accessible\n",
    "x = 5\n",
    "\n",
    "def test():\n",
    "    print(x)   # UnboundLocalError: \n",
    "    x = 10     # Local assignment\n",
    "\n",
    "test()\n"
   ]
  },
  {
   "cell_type": "code",
   "execution_count": null,
   "metadata": {
    "id": "XH-dX7bN2L70"
   },
   "outputs": [],
   "source": [
    "# Python recognizes x as a local variable because it sees x = 10 later in the function.\n",
    "\n",
    "# But when print(x) is executed, x has not yet been assigned, so it's not accessible — even though it’s recognized."
   ]
  },
  {
   "cell_type": "markdown",
   "metadata": {},
   "source": [
    "### Types of Scope\n",
    "\n",
    "1. **Local Scope**\n",
    "2. **Enclosing Scope**\n",
    "3. **Global Scope**\n",
    "4. **Built-in Scope**"
   ]
  },
  {
   "cell_type": "markdown",
   "metadata": {
    "id": "ijyKOYvUm1EK"
   },
   "source": [
    "---\n",
    "\n",
    "1. **L – Local Scope**\n",
    "   - Names defined within a function or method.\n",
    "   - Accessible only inside that function."
   ]
  },
  {
   "cell_type": "code",
   "execution_count": 14,
   "metadata": {
    "colab": {
     "base_uri": "https://localhost:8080/"
    },
    "executionInfo": {
     "elapsed": 12,
     "status": "ok",
     "timestamp": 1752760265375,
     "user": {
      "displayName": "Decode AI",
      "userId": "00665917665354843584"
     },
     "user_tz": -330
    },
    "id": "nVeuYtKmoSdW",
    "outputId": "4d49c847-b708-41de-cec4-43a39ce0ec74"
   },
   "outputs": [
    {
     "name": "stdout",
     "output_type": "stream",
     "text": [
      "Hello Decode AiML !\n"
     ]
    },
    {
     "ename": "NameError",
     "evalue": "name 'msg' is not defined",
     "output_type": "error",
     "traceback": [
      "\u001b[31m---------------------------------------------------------------------------\u001b[39m",
      "\u001b[31mNameError\u001b[39m                                 Traceback (most recent call last)",
      "\u001b[36mCell\u001b[39m\u001b[36m \u001b[39m\u001b[32mIn[14]\u001b[39m\u001b[32m, line 6\u001b[39m\n\u001b[32m      3\u001b[39m   \u001b[38;5;28mprint\u001b[39m(msg)\n\u001b[32m      5\u001b[39m greet() \u001b[38;5;66;03m# Hello Decode AiML !\u001b[39;00m\n\u001b[32m----> \u001b[39m\u001b[32m6\u001b[39m \u001b[38;5;28mprint\u001b[39m(msg)\n",
      "\u001b[31mNameError\u001b[39m: name 'msg' is not defined"
     ]
    }
   ],
   "source": [
    "def greet():\n",
    "  msg = \"Hello Decode AiML !\" # local variable\n",
    "  print(msg)\n",
    "\n",
    "greet() # Hello Decode AiML !\n",
    "#print(msg) # NameError: name 'msg' is not defined"
   ]
  },
  {
   "cell_type": "markdown",
   "metadata": {
    "id": "KK-BaTH8m28V"
   },
   "source": [
    "---\n",
    "2. **E – Enclosing Scope**\n",
    "   - Applies to nested functions.\n",
    "   - The outer function’s scope for inner functions."
   ]
  },
  {
   "cell_type": "code",
   "execution_count": 26,
   "metadata": {
    "colab": {
     "base_uri": "https://localhost:8080/"
    },
    "executionInfo": {
     "elapsed": 55,
     "status": "ok",
     "timestamp": 1752762304118,
     "user": {
      "displayName": "Decode AI",
      "userId": "00665917665354843584"
     },
     "user_tz": -330
    },
    "id": "EpdSkQkcw7Ox",
    "outputId": "05e84cbb-4197-40a2-c8f5-92a64f459060"
   },
   "outputs": [
    {
     "name": "stdout",
     "output_type": "stream",
     "text": [
      "greet_inner() - Hello Decode AiML from greet_outer() !\n",
      "greet_outer() - Hello Decode AiML from greet_outer() !\n"
     ]
    }
   ],
   "source": [
    "def greet_outer(): # enclosing function\n",
    "    msg = \"Hello Decode AiML from greet_outer() !\" # local variable\n",
    "    def greet_inner(): # enclosed function\n",
    "        print(f\"greet_inner() - {msg}\")\n",
    "    greet_inner()\n",
    "    print(f\"greet_outer() - {msg}\")\n",
    "\n",
    "greet_outer() # Hello Decode AiML !"
   ]
  },
  {
   "cell_type": "code",
   "execution_count": 28,
   "metadata": {
    "colab": {
     "base_uri": "https://localhost:8080/"
    },
    "executionInfo": {
     "elapsed": 10,
     "status": "ok",
     "timestamp": 1752762348020,
     "user": {
      "displayName": "Decode AI",
      "userId": "00665917665354843584"
     },
     "user_tz": -330
    },
    "id": "NziNbNxToTX8",
    "outputId": "e5d1f541-0b05-4db3-9e7e-3e614aa2879a"
   },
   "outputs": [
    {
     "name": "stdout",
     "output_type": "stream",
     "text": [
      "Hello Decode AiML from greet_inner() !\n"
     ]
    }
   ],
   "source": [
    "def greet_outer(): # enclosing function\n",
    "    msg = \"Hello Decode AiML from greet_outer() !\" # local variable\n",
    "\n",
    "    def greet_inner(): # enclosed function\n",
    "        nonlocal msg\n",
    "        msg = \"Hello Decode AiML from greet_inner() !\"\n",
    "\n",
    "    greet_inner()\n",
    "    print(msg)\n",
    "\n",
    "greet_outer() # Hello Decode AiML !"
   ]
  },
  {
   "cell_type": "markdown",
   "metadata": {
    "id": "JD646dNzm_Ny"
   },
   "source": [
    "---\n",
    "\n",
    "3. **G – Global Scope**\n",
    "   - Names defined at the top-level of a module or file.\n",
    "   - Accessible throughout the module."
   ]
  },
  {
   "cell_type": "code",
   "execution_count": 29,
   "metadata": {
    "colab": {
     "base_uri": "https://localhost:8080/"
    },
    "executionInfo": {
     "elapsed": 46,
     "status": "ok",
     "timestamp": 1752761406739,
     "user": {
      "displayName": "Decode AI",
      "userId": "00665917665354843584"
     },
     "user_tz": -330
    },
    "id": "gESCHmtBoUIK",
    "outputId": "4f6d52b6-8e4b-4068-c09c-a1d1376aacb2"
   },
   "outputs": [
    {
     "name": "stdout",
     "output_type": "stream",
     "text": [
      "Hello Decode AiML !\n",
      "Hello Decode AiML !\n"
     ]
    }
   ],
   "source": [
    "msg = \"Hello Decode AiML !\" # Global variable\n",
    "\n",
    "def greet():\n",
    "  print(msg)\n",
    "\n",
    "\n",
    "greet() # Hello Decode AiML !\n",
    "print(msg) # Hello Decode AiML !"
   ]
  },
  {
   "cell_type": "code",
   "execution_count": 36,
   "metadata": {
    "colab": {
     "base_uri": "https://localhost:8080/"
    },
    "executionInfo": {
     "elapsed": 23,
     "status": "ok",
     "timestamp": 1752760472932,
     "user": {
      "displayName": "Decode AI",
      "userId": "00665917665354843584"
     },
     "user_tz": -330
    },
    "id": "s8Nxjqr5qSwX",
    "outputId": "52bf3f68-693f-43cb-f879-439d624a80f1"
   },
   "outputs": [
    {
     "name": "stdout",
     "output_type": "stream",
     "text": [
      "Hello Decode AiML Global!\n"
     ]
    }
   ],
   "source": [
    "# Case 1\n",
    "\n",
    "msg = \"Hello Decode AiML Global!\" # Global variable\n",
    "\n",
    "def greet():\n",
    "    msg = \"Hello Decode AiML Local!\"\n",
    "\n",
    "greet()\n",
    "print(msg)"
   ]
  },
  {
   "cell_type": "markdown",
   "metadata": {
    "id": "YMODSlykvD9D"
   },
   "source": [
    "**NOTE: Any variable which is changed or created inside of a function is local, if it hasn’t been declared as a global variable.**"
   ]
  },
  {
   "cell_type": "code",
   "execution_count": 37,
   "metadata": {
    "colab": {
     "base_uri": "https://localhost:8080/"
    },
    "executionInfo": {
     "elapsed": 55,
     "status": "ok",
     "timestamp": 1752760925755,
     "user": {
      "displayName": "Decode AI",
      "userId": "00665917665354843584"
     },
     "user_tz": -330
    },
    "id": "ppmSc3iPrern",
    "outputId": "d07ee20f-7be8-4d24-882b-b36888da1cf6"
   },
   "outputs": [
    {
     "name": "stdout",
     "output_type": "stream",
     "text": [
      "Modified Hello Decode AiML Global!\n"
     ]
    }
   ],
   "source": [
    "# Case 2\n",
    "\n",
    "msg = \"Hello Decode AiML Global!\" # Global variable\n",
    "\n",
    "def greet():\n",
    "    global msg\n",
    "    msg = \"Modified Hello Decode AiML Global!\"\n",
    "\n",
    "greet() \n",
    "print(msg)"
   ]
  },
  {
   "cell_type": "code",
   "execution_count": 38,
   "metadata": {
    "colab": {
     "base_uri": "https://localhost:8080/"
    },
    "executionInfo": {
     "elapsed": 47,
     "status": "ok",
     "timestamp": 1752761133796,
     "user": {
      "displayName": "Decode AI",
      "userId": "00665917665354843584"
     },
     "user_tz": -330
    },
    "id": "Wy7YJKDNrrAg",
    "outputId": "306c8db8-71ac-4815-a60a-a30cc07a0cbf"
   },
   "outputs": [
    {
     "name": "stdout",
     "output_type": "stream",
     "text": [
      "Hello Decode AiML Global!\n",
      "Hello Decode AiML Local!\n",
      "Hello Decode AiML Local!\n"
     ]
    }
   ],
   "source": [
    "# Case 3\n",
    "\n",
    "msg = \"Hello Decode AiML Global!\" # Global variable\n",
    "\n",
    "def greet():\n",
    "  global msg\n",
    "  print(msg)\n",
    "  msg = \"Hello Decode AiML Local!\"\n",
    "  print(msg)\n",
    "\n",
    "greet()\n",
    "print(msg)"
   ]
  },
  {
   "cell_type": "code",
   "execution_count": 39,
   "metadata": {
    "colab": {
     "base_uri": "https://localhost:8080/"
    },
    "executionInfo": {
     "elapsed": 19,
     "status": "ok",
     "timestamp": 1752762006362,
     "user": {
      "displayName": "Decode AI",
      "userId": "00665917665354843584"
     },
     "user_tz": -330
    },
    "id": "u1PzY_RvtZKN",
    "outputId": "889d1b32-b380-4d39-d855-5c31ac043ce4"
   },
   "outputs": [
    {
     "name": "stdout",
     "output_type": "stream",
     "text": [
      "global before start:  hello Decode AiML\n",
      "Inside access_global() :  hello Decode AiML\n",
      "Inside access_local() :  hello Decode AiML local\n",
      "Inside modify_global() :  Modified hello Decode AiML local\n",
      "global after update:  Modified hello Decode AiML local\n"
     ]
    }
   ],
   "source": [
    "# Example: Python program to demonstrate scope of variable\n",
    "\n",
    "msg = \"hello Decode AiML\"\n",
    "\n",
    "# Uses global because there is no local 'msg'\n",
    "def access_global():\n",
    "    print('Inside access_global() : ', msg)\n",
    "\n",
    "# Variable 'msg' is redefined as a local\n",
    "def access_local():\n",
    "    msg = \"hello Decode AiML local\"\n",
    "    print('Inside access_local() : ', msg)\n",
    "\n",
    "# Uses global keyword to modify global 'a'\n",
    "def modify_global():\n",
    "    global msg\n",
    "    msg = \"Modified hello Decode AiML local\"\n",
    "    print('Inside modify_global() : ', msg)\n",
    "\n",
    "# Global scope\n",
    "print('global before start: ', msg)\n",
    "access_global()\n",
    "access_local()\n",
    "modify_global()\n",
    "print('global after update: ', msg)"
   ]
  },
  {
   "cell_type": "markdown",
   "metadata": {
    "id": "EjeGWT5LnYat"
   },
   "source": [
    "\n",
    "\n",
    "#### NOTE\n",
    "1. Python follows the **LEGB Rule** to resolve variable names\n",
    "  - Local (inside current function)\n",
    "  - Enclosing (in outer functions)\n",
    "  - Global (module-level)\n",
    "  - Built-in\n",
    "\n",
    "2. You can use `global` and `nonlocal` keywords to modify variables in outer scopes."
   ]
  },
  {
   "cell_type": "code",
   "execution_count": 42,
   "metadata": {},
   "outputs": [
    {
     "name": "stdout",
     "output_type": "stream",
     "text": [
      "Inner: local\n",
      "Enclosing: enclosing\n",
      "Global: global\n"
     ]
    }
   ],
   "source": [
    "x = \"global\"  # Global scope\n",
    "\n",
    "def outer():\n",
    "    x = \"enclosing\"  # Enclosing scope\n",
    "    def inner():\n",
    "        x = \"local\"  # Local scope\n",
    "        print(\"Inner:\", x)\n",
    "        \n",
    "    inner()\n",
    "    print(\"Enclosing:\", x)\n",
    "\n",
    "outer()\n",
    "print(\"Global:\", x)"
   ]
  },
  {
   "cell_type": "markdown",
   "metadata": {
    "id": "UOxfCp-vycVr"
   },
   "source": [
    "---\n",
    "\n",
    "4. **B – Built-in Scope**\n",
    "   - Names that are preloaded by Python (e.g., `len`, `range`, `print`).\n",
    "   - Available everywhere."
   ]
  },
  {
   "cell_type": "markdown",
   "metadata": {
    "id": "g_9eWBU7ysz3"
   },
   "source": [
    "**When you reference a variable like len, Python looks for it in LEGB order**"
   ]
  },
  {
   "cell_type": "code",
   "execution_count": 44,
   "metadata": {
    "colab": {
     "base_uri": "https://localhost:8080/"
    },
    "executionInfo": {
     "elapsed": 11,
     "status": "ok",
     "timestamp": 1752762706102,
     "user": {
      "displayName": "Decode AI",
      "userId": "00665917665354843584"
     },
     "user_tz": -330
    },
    "id": "8X4B_xqEyeI6",
    "outputId": "2f07e0e5-cf89-42d6-bc2d-d0a3c5da1fe5"
   },
   "outputs": [
    {
     "name": "stdout",
     "output_type": "stream",
     "text": [
      "19\n"
     ]
    }
   ],
   "source": [
    "print(len(\"Hello Decode AiML !\"))  # Uses built-in print() and len()"
   ]
  },
  {
   "cell_type": "code",
   "execution_count": 45,
   "metadata": {
    "colab": {
     "base_uri": "https://localhost:8080/"
    },
    "executionInfo": {
     "elapsed": 16,
     "status": "ok",
     "timestamp": 1752762706499,
     "user": {
      "displayName": "Decode AI",
      "userId": "00665917665354843584"
     },
     "user_tz": -330
    },
    "id": "ujDjQ9nzy0jM",
    "outputId": "9d7f7362-800e-4e16-be14-90400147c8a5"
   },
   "outputs": [
    {
     "name": "stdout",
     "output_type": "stream",
     "text": [
      "Hacked !!\n"
     ]
    }
   ],
   "source": [
    "# Overriding Built-ins (Be Careful!)\n",
    "def len(data):\n",
    "    return \"Hacked !!\"\n",
    "\n",
    "print(len(\"Hello Decode AiML !\"))  # This hides built-in len!"
   ]
  },
  {
   "cell_type": "code",
   "execution_count": null,
   "metadata": {},
   "outputs": [],
   "source": []
  }
 ],
 "metadata": {
  "colab": {
   "authorship_tag": "ABX9TyN0MIfDS8xiGKmy35wdlAS5",
   "provenance": []
  },
  "kernelspec": {
   "display_name": "Python 3 (ipykernel)",
   "language": "python",
   "name": "python3"
  },
  "language_info": {
   "codemirror_mode": {
    "name": "ipython",
    "version": 3
   },
   "file_extension": ".py",
   "mimetype": "text/x-python",
   "name": "python",
   "nbconvert_exporter": "python",
   "pygments_lexer": "ipython3",
   "version": "3.13.5"
  }
 },
 "nbformat": 4,
 "nbformat_minor": 4
}
