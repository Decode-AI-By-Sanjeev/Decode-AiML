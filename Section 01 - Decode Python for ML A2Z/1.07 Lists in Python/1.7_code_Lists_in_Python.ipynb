{
 "cells": [
  {
   "cell_type": "markdown",
   "id": "72773887-b54c-4622-be6b-9f074276b7eb",
   "metadata": {
    "id": "72773887-b54c-4622-be6b-9f074276b7eb"
   },
   "source": [
    "<!-- <p align=\"center\">\n",
    "  <img src=\"DECODE_AI_BANNER.png\" alt=\"Description\" width=\"1400\"/>\n",
    "</p> -->\n"
   ]
  },
  {
   "cell_type": "markdown",
   "id": "2bcdc7b9-f8e0-42c9-a448-6d7e9569c7ee",
   "metadata": {},
   "source": [
    "<p align=\"center\">\n",
    "  <img src=\"DECODE_AI_BANNER.png\" alt=\"Description\" width=\"1400\"/>\n",
    "</p>\n"
   ]
  },
  {
   "cell_type": "markdown",
   "id": "5326c10e-d410-4358-b32d-e8579576e55c",
   "metadata": {
    "id": "5326c10e-d410-4358-b32d-e8579576e55c"
   },
   "source": [
    "<h1 align=\"center\">Lists in Python</h1>\n",
    "\n",
    "\n",
    "In Python, Lists can be considered as the most general version of a \"sequence\". Unlike strings, they are mutable which means the elements inside a list can be changed!\n",
    "\n",
    "Lists are constructed with brackets `[]` and commas separating every element in the list."
   ]
  },
  {
   "cell_type": "markdown",
   "id": "4c8cd9a3-16e8-442b-8caf-4e3434e58c95",
   "metadata": {
    "id": "4c8cd9a3-16e8-442b-8caf-4e3434e58c95"
   },
   "source": [
    "✅ **Key Features of Lists:**\n",
    "\n",
    "- **Ordered**: Items have a defined order and can be accessed by index.\n",
    "\n",
    "- **Mutable**: You can change, add, or remove items after the list is created.\n",
    "\n",
    "- **Allows duplicates**: Lists can have repeated values.\n",
    "\n",
    "- **Heterogeneous**: Can store different data types together.\n"
   ]
  },
  {
   "cell_type": "markdown",
   "id": "9f686f11-151b-46f3-8642-37cd9c481764",
   "metadata": {},
   "source": [
    "<div align=\"center\">\n",
    "\n",
    "## Hands on Time  \n",
    "\n",
    "</div>\n"
   ]
  },
  {
   "cell_type": "markdown",
   "id": "_FkjPwKgZin9",
   "metadata": {
    "id": "_FkjPwKgZin9"
   },
   "source": [
    "**Examples of list**"
   ]
  },
  {
   "cell_type": "code",
   "execution_count": 5,
   "id": "0b39f1d8-1882-493f-bf33-6d613c3d181e",
   "metadata": {
    "id": "0b39f1d8-1882-493f-bf33-6d613c3d181e"
   },
   "outputs": [],
   "source": [
    "# Examples of list\n",
    "\n",
    "# 1. Homogenous Data\n",
    "numbers = [10, 20, 30, 40, 50] # List of Int\n",
    "fruits = [\"apple\", \"banana\", \"cherry\"] # List of strings\n",
    "bools = [True, False, True, False] # List of boolean\n",
    "temperatures = [36.6, 37.0, 36.4] # List of float"
   ]
  },
  {
   "cell_type": "code",
   "execution_count": 6,
   "id": "BwSBncYtZhBq",
   "metadata": {
    "id": "BwSBncYtZhBq"
   },
   "outputs": [],
   "source": [
    "# 2. Hetrogenous Data\n",
    "mixed = [101, \"Alice\", True, 99.5] # contains only primitive data\n",
    "employee = [\"John\", 32, 5.8, True, [\"Python\", \"C++\"]] # nested - List of List"
   ]
  },
  {
   "cell_type": "code",
   "execution_count": 7,
   "id": "igTqIvtnZrH0",
   "metadata": {
    "id": "igTqIvtnZrH0"
   },
   "outputs": [],
   "source": [
    "my_list = ['A string',23,100.232,'o']"
   ]
  },
  {
   "cell_type": "code",
   "execution_count": 8,
   "id": "HwgE-wNcZrLb",
   "metadata": {
    "colab": {
     "base_uri": "https://localhost:8080/"
    },
    "id": "HwgE-wNcZrLb",
    "outputId": "d3afe203-b277-49fc-b4af-128693297a47"
   },
   "outputs": [
    {
     "data": {
      "text/plain": [
       "4"
      ]
     },
     "execution_count": 8,
     "metadata": {},
     "output_type": "execute_result"
    }
   ],
   "source": [
    "len(my_list)"
   ]
  },
  {
   "cell_type": "markdown",
   "id": "g0hw7bMLaFK4",
   "metadata": {
    "id": "g0hw7bMLaFK4"
   },
   "source": [
    "### Indexing and Slicing\n",
    "\n",
    "Slicing allows you to extract a portion of a list using a clean, flexible syntax.\n",
    "\n",
    "`list[start : stop : step]`\n",
    "\n",
    "Indexing and slicing of lists works just like in Strings. Let's make a new list to remind ourselves of how this works:"
   ]
  },
  {
   "cell_type": "code",
   "execution_count": 9,
   "id": "3tp9NnvYZrOp",
   "metadata": {
    "id": "3tp9NnvYZrOp"
   },
   "outputs": [],
   "source": [
    "my_list = ['one','two','three', 4, 5]"
   ]
  },
  {
   "cell_type": "code",
   "execution_count": 10,
   "id": "TO6mG79OZ_Qp",
   "metadata": {
    "colab": {
     "base_uri": "https://localhost:8080/",
     "height": 35
    },
    "id": "TO6mG79OZ_Qp",
    "outputId": "af870277-781c-4998-8846-725e7a62b092"
   },
   "outputs": [
    {
     "data": {
      "text/plain": [
       "'one'"
      ]
     },
     "execution_count": 10,
     "metadata": {},
     "output_type": "execute_result"
    }
   ],
   "source": [
    "# Grab element at index 0\n",
    "my_list[0]"
   ]
  },
  {
   "cell_type": "code",
   "execution_count": 11,
   "id": "Mk1Ur6phZ_T8",
   "metadata": {
    "colab": {
     "base_uri": "https://localhost:8080/"
    },
    "id": "Mk1Ur6phZ_T8",
    "outputId": "c5b724cb-cdea-4800-d7ff-c993ff727a9e"
   },
   "outputs": [
    {
     "data": {
      "text/plain": [
       "['two', 'three', 4, 5]"
      ]
     },
     "execution_count": 11,
     "metadata": {},
     "output_type": "execute_result"
    }
   ],
   "source": [
    "# Grab index 1 and everything past it\n",
    "my_list[1:]"
   ]
  },
  {
   "cell_type": "code",
   "execution_count": 12,
   "id": "W-4XtobTZ_XK",
   "metadata": {
    "colab": {
     "base_uri": "https://localhost:8080/"
    },
    "id": "W-4XtobTZ_XK",
    "outputId": "425d7087-69b7-4ddf-849e-617d993062bd"
   },
   "outputs": [
    {
     "data": {
      "text/plain": [
       "['one', 'two', 'three']"
      ]
     },
     "execution_count": 12,
     "metadata": {},
     "output_type": "execute_result"
    }
   ],
   "source": [
    "# Grab everything UP TO index 3\n",
    "my_list[:3]"
   ]
  },
  {
   "cell_type": "markdown",
   "id": "SgOFGrG5aqvl",
   "metadata": {
    "id": "SgOFGrG5aqvl"
   },
   "source": [
    "We can also use \"+\" to concatenate lists, just like we did for Strings."
   ]
  },
  {
   "cell_type": "code",
   "execution_count": 13,
   "id": "FAOm53hlZ_bs",
   "metadata": {
    "colab": {
     "base_uri": "https://localhost:8080/"
    },
    "id": "FAOm53hlZ_bs",
    "outputId": "1117eda7-9656-4ab4-8f2b-2834f1a06409"
   },
   "outputs": [
    {
     "data": {
      "text/plain": [
       "['one', 'two', 'three', 4, 5, 'new item']"
      ]
     },
     "execution_count": 13,
     "metadata": {},
     "output_type": "execute_result"
    }
   ],
   "source": [
    "my_list + ['new item']"
   ]
  },
  {
   "cell_type": "code",
   "execution_count": 14,
   "id": "fuqxujgHaujf",
   "metadata": {
    "colab": {
     "base_uri": "https://localhost:8080/"
    },
    "id": "fuqxujgHaujf",
    "outputId": "b3414fe5-c706-4f4f-afc8-031b548aaa31"
   },
   "outputs": [
    {
     "data": {
      "text/plain": [
       "['one', 'two', 'three', 4, 5]"
      ]
     },
     "execution_count": 14,
     "metadata": {},
     "output_type": "execute_result"
    }
   ],
   "source": [
    "# The original list doesnot change\n",
    "my_list"
   ]
  },
  {
   "cell_type": "markdown",
   "id": "v2GUTOK7a6Y2",
   "metadata": {
    "id": "v2GUTOK7a6Y2"
   },
   "source": [
    "In this case, you have to reassign the list to make the permanent change."
   ]
  },
  {
   "cell_type": "code",
   "execution_count": 15,
   "id": "jzornKeBaumd",
   "metadata": {
    "id": "jzornKeBaumd"
   },
   "outputs": [],
   "source": [
    "# Reassign\n",
    "my_list = my_list + ['add new item permanently']"
   ]
  },
  {
   "cell_type": "code",
   "execution_count": 16,
   "id": "dE1ugy3QaupW",
   "metadata": {
    "colab": {
     "base_uri": "https://localhost:8080/"
    },
    "id": "dE1ugy3QaupW",
    "outputId": "cfde2cee-57ef-4394-b01f-55d06c81cc00"
   },
   "outputs": [
    {
     "data": {
      "text/plain": [
       "['one', 'two', 'three', 4, 5, 'add new item permanently']"
      ]
     },
     "execution_count": 16,
     "metadata": {},
     "output_type": "execute_result"
    }
   ],
   "source": [
    "my_list"
   ]
  },
  {
   "cell_type": "code",
   "execution_count": 17,
   "id": "4GfHdQzYausW",
   "metadata": {
    "colab": {
     "base_uri": "https://localhost:8080/"
    },
    "id": "4GfHdQzYausW",
    "outputId": "b72569ec-9791-4132-bd01-b1ab6f93cb41"
   },
   "outputs": [
    {
     "data": {
      "text/plain": [
       "['one',\n",
       " 'two',\n",
       " 'three',\n",
       " 4,\n",
       " 5,\n",
       " 'add new item permanently',\n",
       " 'one',\n",
       " 'two',\n",
       " 'three',\n",
       " 4,\n",
       " 5,\n",
       " 'add new item permanently']"
      ]
     },
     "execution_count": 17,
     "metadata": {},
     "output_type": "execute_result"
    }
   ],
   "source": [
    "my_list * 2"
   ]
  },
  {
   "cell_type": "markdown",
   "id": "IfBmHKPBbUbD",
   "metadata": {
    "id": "IfBmHKPBbUbD"
   },
   "source": [
    "## Basic List Methods"
   ]
  },
  {
   "cell_type": "code",
   "execution_count": 18,
   "id": "w3rH76DsbTMx",
   "metadata": {
    "id": "w3rH76DsbTMx"
   },
   "outputs": [],
   "source": [
    "# Create a new list\n",
    "l = [1,2,3]"
   ]
  },
  {
   "cell_type": "code",
   "execution_count": 19,
   "id": "TCF0TPklbTTa",
   "metadata": {
    "id": "TCF0TPklbTTa"
   },
   "outputs": [],
   "source": [
    "# Append\n",
    "l.append('append me!')"
   ]
  },
  {
   "cell_type": "code",
   "execution_count": 20,
   "id": "Aa9Yex-8bTWO",
   "metadata": {
    "colab": {
     "base_uri": "https://localhost:8080/"
    },
    "id": "Aa9Yex-8bTWO",
    "outputId": "26fe64b1-f6dc-4e97-cde7-1b9d11a3ceb6"
   },
   "outputs": [
    {
     "data": {
      "text/plain": [
       "[1, 2, 3, 'append me!']"
      ]
     },
     "execution_count": 20,
     "metadata": {},
     "output_type": "execute_result"
    }
   ],
   "source": [
    "# Show\n",
    "l"
   ]
  },
  {
   "cell_type": "code",
   "execution_count": 22,
   "id": "wSoalDlVbTZh",
   "metadata": {
    "colab": {
     "base_uri": "https://localhost:8080/"
    },
    "id": "wSoalDlVbTZh",
    "outputId": "65eaf2e1-3668-47c8-a03b-bc01ab26040b"
   },
   "outputs": [
    {
     "data": {
      "text/plain": [
       "2"
      ]
     },
     "execution_count": 22,
     "metadata": {},
     "output_type": "execute_result"
    }
   ],
   "source": [
    "# list.pop([index]) -> Pop off the 0 indexed item\n",
    "l.pop(0)"
   ]
  },
  {
   "cell_type": "code",
   "execution_count": 23,
   "id": "94cMhA7_bTcb",
   "metadata": {
    "colab": {
     "base_uri": "https://localhost:8080/"
    },
    "id": "94cMhA7_bTcb",
    "outputId": "ede06440-3e08-4bc8-daf3-b66edf8a3b62"
   },
   "outputs": [
    {
     "data": {
      "text/plain": [
       "[3, 'append me!']"
      ]
     },
     "execution_count": 23,
     "metadata": {},
     "output_type": "execute_result"
    }
   ],
   "source": [
    "# Show\n",
    "l"
   ]
  },
  {
   "cell_type": "code",
   "execution_count": 24,
   "id": "zZp_NCyLbTgN",
   "metadata": {
    "id": "zZp_NCyLbTgN"
   },
   "outputs": [],
   "source": [
    "# Assign the popped element, remember default popped index is -1\n",
    "popped_item = l.pop()"
   ]
  },
  {
   "cell_type": "markdown",
   "id": "XEV172iNbxvn",
   "metadata": {
    "id": "XEV172iNbxvn"
   },
   "source": [
    "## Sort and Reverse in Lists"
   ]
  },
  {
   "cell_type": "code",
   "execution_count": 25,
   "id": "lqGmPL_AbTjs",
   "metadata": {
    "id": "lqGmPL_AbTjs"
   },
   "outputs": [],
   "source": [
    "new_list = ['a','e','x','b','c']"
   ]
  },
  {
   "cell_type": "code",
   "execution_count": 26,
   "id": "sXL3paqtauvw",
   "metadata": {
    "colab": {
     "base_uri": "https://localhost:8080/"
    },
    "id": "sXL3paqtauvw",
    "outputId": "910065a4-f91e-443c-cf15-daa472269397"
   },
   "outputs": [
    {
     "data": {
      "text/plain": [
       "['a', 'e', 'x', 'b', 'c']"
      ]
     },
     "execution_count": 26,
     "metadata": {},
     "output_type": "execute_result"
    }
   ],
   "source": [
    "#Show\n",
    "new_list"
   ]
  },
  {
   "cell_type": "code",
   "execution_count": 27,
   "id": "OiZCEBM7b3KT",
   "metadata": {
    "id": "OiZCEBM7b3KT"
   },
   "outputs": [],
   "source": [
    "# list.reverse() -> Use reverse to reverse order (this is permanent!)\n",
    "new_list.reverse()"
   ]
  },
  {
   "cell_type": "code",
   "execution_count": 28,
   "id": "746wuq9Gb3NF",
   "metadata": {
    "colab": {
     "base_uri": "https://localhost:8080/"
    },
    "id": "746wuq9Gb3NF",
    "outputId": "76e82094-eda9-4310-8f9b-eafecfeec089"
   },
   "outputs": [
    {
     "data": {
      "text/plain": [
       "['c', 'b', 'x', 'e', 'a']"
      ]
     },
     "execution_count": 28,
     "metadata": {},
     "output_type": "execute_result"
    }
   ],
   "source": [
    "new_list"
   ]
  },
  {
   "cell_type": "code",
   "execution_count": 29,
   "id": "-12xmU2sb3P9",
   "metadata": {
    "id": "-12xmU2sb3P9"
   },
   "outputs": [],
   "source": [
    "# list.sort(key=None, reverse=False) => Use sort to sort the list (in this case alphabetical order, but for numbers it will go ascending)\n",
    "new_list.sort()"
   ]
  },
  {
   "cell_type": "code",
   "execution_count": 30,
   "id": "MPYO8Hsvb3TB",
   "metadata": {
    "colab": {
     "base_uri": "https://localhost:8080/"
    },
    "id": "MPYO8Hsvb3TB",
    "outputId": "fc0c9c7a-ab2f-4fb4-979a-d7d0f6dbe5d5"
   },
   "outputs": [
    {
     "data": {
      "text/plain": [
       "['a', 'b', 'c', 'e', 'x']"
      ]
     },
     "execution_count": 30,
     "metadata": {},
     "output_type": "execute_result"
    }
   ],
   "source": [
    "new_list"
   ]
  },
  {
   "cell_type": "code",
   "execution_count": null,
   "id": "ACfpg3D1cLAh",
   "metadata": {
    "id": "ACfpg3D1cLAh"
   },
   "outputs": [],
   "source": []
  },
  {
   "cell_type": "markdown",
   "id": "aSTs8vhgcKLF",
   "metadata": {
    "id": "aSTs8vhgcKLF"
   },
   "source": [
    "## Nesting Lists\n",
    "\n",
    "Nesting Lists is one of the great features in Python data structures. Nesting Lists means we can have data structures within data structures.\n",
    "\n",
    "For example: A list inside a list."
   ]
  },
  {
   "cell_type": "code",
   "execution_count": 31,
   "id": "6UOt9vtLb3We",
   "metadata": {
    "id": "6UOt9vtLb3We"
   },
   "outputs": [],
   "source": [
    "# Let's make three lists\n",
    "lst_1=[1,2,3]\n",
    "lst_2=[4,5,6]\n",
    "lst_3=[7,8,9]\n",
    "\n",
    "# Make a list of lists to form a matrix\n",
    "matrix = [lst_1,lst_2,lst_3]"
   ]
  },
  {
   "cell_type": "code",
   "execution_count": 32,
   "id": "caC6ZjubcI2y",
   "metadata": {
    "colab": {
     "base_uri": "https://localhost:8080/"
    },
    "id": "caC6ZjubcI2y",
    "outputId": "78f6d537-8a9f-4aa5-f54f-0e6f2ad1277e"
   },
   "outputs": [
    {
     "data": {
      "text/plain": [
       "[[1, 2, 3], [4, 5, 6], [7, 8, 9]]"
      ]
     },
     "execution_count": 32,
     "metadata": {},
     "output_type": "execute_result"
    }
   ],
   "source": [
    "# Show\n",
    "matrix"
   ]
  },
  {
   "cell_type": "code",
   "execution_count": 33,
   "id": "UiOMeS_2cI5h",
   "metadata": {
    "colab": {
     "base_uri": "https://localhost:8080/"
    },
    "id": "UiOMeS_2cI5h",
    "outputId": "418145fd-320d-42d2-fc7b-237f3e43417b"
   },
   "outputs": [
    {
     "data": {
      "text/plain": [
       "[1, 2, 3]"
      ]
     },
     "execution_count": 33,
     "metadata": {},
     "output_type": "execute_result"
    }
   ],
   "source": [
    "# Grab first item in matrix object\n",
    "matrix[0]"
   ]
  },
  {
   "cell_type": "markdown",
   "id": "xR4GXFWacdqP",
   "metadata": {
    "id": "xR4GXFWacdqP"
   },
   "source": [
    "# List Comprehensions\n",
    "\n",
    "Python has an advanced feature called list comprehensions which allows for quick construction of lists.\n",
    "\n",
    "Here are few of oue examples which helps you to understand list comprehensions."
   ]
  },
  {
   "cell_type": "code",
   "execution_count": 34,
   "id": "ea76c0b2-247f-4379-b4a4-978cee6245b4",
   "metadata": {},
   "outputs": [
    {
     "data": {
      "text/plain": [
       "[[1, 2, 3], [4, 5, 6], [7, 8, 9]]"
      ]
     },
     "execution_count": 34,
     "metadata": {},
     "output_type": "execute_result"
    }
   ],
   "source": [
    "matrix"
   ]
  },
  {
   "cell_type": "code",
   "execution_count": 35,
   "id": "f84e2ce2-26d9-4292-9762-7a51a4a17d64",
   "metadata": {},
   "outputs": [],
   "source": [
    "# Problem: from matrix list extract the first column data."
   ]
  },
  {
   "cell_type": "code",
   "execution_count": 36,
   "id": "coN3iHQIcI8Q",
   "metadata": {
    "id": "coN3iHQIcI8Q"
   },
   "outputs": [],
   "source": [
    "# Build a list comprehension by deconstructing a for loop within a []\n",
    "first_col = [row[0] for row in matrix]"
   ]
  },
  {
   "cell_type": "code",
   "execution_count": 37,
   "id": "d3bbIg71cI_S",
   "metadata": {
    "colab": {
     "base_uri": "https://localhost:8080/"
    },
    "id": "d3bbIg71cI_S",
    "outputId": "eab1fc11-6b33-4667-eb74-cfcd9cc328e1"
   },
   "outputs": [
    {
     "data": {
      "text/plain": [
       "[1, 4, 7]"
      ]
     },
     "execution_count": 37,
     "metadata": {},
     "output_type": "execute_result"
    }
   ],
   "source": [
    "first_col"
   ]
  },
  {
   "cell_type": "markdown",
   "id": "mzPjZXwBctHb",
   "metadata": {
    "id": "mzPjZXwBctHb"
   },
   "source": [
    "# some miscellaneous List methods"
   ]
  },
  {
   "cell_type": "code",
   "execution_count": 38,
   "id": "c0ZmhuGgcJCU",
   "metadata": {
    "id": "c0ZmhuGgcJCU"
   },
   "outputs": [],
   "source": [
    "l = [1,2,3]"
   ]
  },
  {
   "cell_type": "code",
   "execution_count": 39,
   "id": "w_5e-G1mcJF6",
   "metadata": {
    "id": "w_5e-G1mcJF6"
   },
   "outputs": [],
   "source": [
    "# list.append(element) -> append in list\n",
    "l.append(4)"
   ]
  },
  {
   "cell_type": "code",
   "execution_count": 40,
   "id": "oS5GXF0Mc25_",
   "metadata": {
    "colab": {
     "base_uri": "https://localhost:8080/"
    },
    "id": "oS5GXF0Mc25_",
    "outputId": "4c4b6f23-5edd-42ea-ebfe-25023327b1f1"
   },
   "outputs": [
    {
     "data": {
      "text/plain": [
       "1"
      ]
     },
     "execution_count": 40,
     "metadata": {},
     "output_type": "execute_result"
    }
   ],
   "source": [
    "# list.count(element) -> count in list\n",
    "l.count(3)"
   ]
  },
  {
   "cell_type": "code",
   "execution_count": 42,
   "id": "IT6SxA7rdXuu",
   "metadata": {
    "id": "IT6SxA7rdXuu"
   },
   "outputs": [
    {
     "name": "stdout",
     "output_type": "stream",
     "text": [
      "[1, 2, 3, [4, 5]]\n"
     ]
    }
   ],
   "source": [
    "# list.append(element) -> append in list\n",
    "\n",
    "x = [1, 2, 3]\n",
    "x.append([4, 5])\n",
    "print(x)"
   ]
  },
  {
   "cell_type": "code",
   "execution_count": 43,
   "id": "wPMkfrXrc29H",
   "metadata": {
    "colab": {
     "base_uri": "https://localhost:8080/"
    },
    "id": "wPMkfrXrc29H",
    "outputId": "bd82711c-4750-46c2-a560-a72887e0c9d3"
   },
   "outputs": [
    {
     "name": "stdout",
     "output_type": "stream",
     "text": [
      "[1, 2, 3, 4, 5]\n"
     ]
    }
   ],
   "source": [
    "# list.extend(iterable) -> extend in list\n",
    "\n",
    "x = [1, 2, 3]\n",
    "x.extend([4, 5])\n",
    "print(x)"
   ]
  },
  {
   "cell_type": "code",
   "execution_count": 45,
   "id": "LMUrnoIOc2_0",
   "metadata": {
    "colab": {
     "base_uri": "https://localhost:8080/"
    },
    "id": "LMUrnoIOc2_0",
    "outputId": "a68d139d-34f4-4b0a-a359-d3b74d423abb"
   },
   "outputs": [
    {
     "data": {
      "text/plain": [
       "1"
      ]
     },
     "execution_count": 45,
     "metadata": {},
     "output_type": "execute_result"
    }
   ],
   "source": [
    "# list.index(element, start=0, end=len(list)) ->index in list - Make a note that if the element is not in the list then it returns an error.\n",
    "l.index(2)"
   ]
  },
  {
   "cell_type": "code",
   "execution_count": 46,
   "id": "Pa6Kz9Prc3C8",
   "metadata": {
    "colab": {
     "base_uri": "https://localhost:8080/"
    },
    "id": "Pa6Kz9Prc3C8",
    "outputId": "e401eae4-a4a9-47e6-cfaa-a9b0f08a7f06"
   },
   "outputs": [
    {
     "name": "stdout",
     "output_type": "stream",
     "text": [
      "[1, 2, 'inserted', 3, 4]\n"
     ]
    }
   ],
   "source": [
    "# insert(index,object) in list\n",
    "l = [1,2,3,4]\n",
    "\n",
    "# Place a letter at the index 2\n",
    "l.insert(2,'inserted')\n",
    "print(l)"
   ]
  },
  {
   "cell_type": "code",
   "execution_count": 47,
   "id": "wgmEj-pic3Fq",
   "metadata": {
    "colab": {
     "base_uri": "https://localhost:8080/"
    },
    "id": "wgmEj-pic3Fq",
    "outputId": "3561a772-8b67-4973-f6e9-cb7cab3ce6fa"
   },
   "outputs": [
    {
     "data": {
      "text/plain": [
       "4"
      ]
     },
     "execution_count": 47,
     "metadata": {},
     "output_type": "execute_result"
    }
   ],
   "source": [
    "# pop() in list\n",
    "l = [1,2,3,4]\n",
    "l.pop()"
   ]
  },
  {
   "cell_type": "code",
   "execution_count": 48,
   "id": "_nASN6fqc3JL",
   "metadata": {
    "colab": {
     "base_uri": "https://localhost:8080/"
    },
    "id": "_nASN6fqc3JL",
    "outputId": "5ce125b6-566b-40ac-a595-e954bc3aa843"
   },
   "outputs": [
    {
     "name": "stdout",
     "output_type": "stream",
     "text": [
      "[1, 2, 3]\n"
     ]
    }
   ],
   "source": [
    "print(l)"
   ]
  },
  {
   "cell_type": "code",
   "execution_count": 49,
   "id": "ZP_5mzYld8Cm",
   "metadata": {
    "id": "ZP_5mzYld8Cm"
   },
   "outputs": [],
   "source": [
    "# list.remove(element) - The remove() method removes the first occurrence of a value.\n",
    "l = [1, 2, 'inserted', 3, 4]\n",
    "l.remove('inserted')"
   ]
  },
  {
   "cell_type": "code",
   "execution_count": 50,
   "id": "l8m4qohBd8Fw",
   "metadata": {
    "colab": {
     "base_uri": "https://localhost:8080/"
    },
    "id": "l8m4qohBd8Fw",
    "outputId": "97fa25c3-db13-4736-86b7-af95288eb643"
   },
   "outputs": [
    {
     "name": "stdout",
     "output_type": "stream",
     "text": [
      "[1, 2, 3, 4]\n"
     ]
    }
   ],
   "source": [
    "print(l)"
   ]
  },
  {
   "cell_type": "code",
   "execution_count": null,
   "id": "mkc7C-gud8Pl",
   "metadata": {
    "id": "mkc7C-gud8Pl"
   },
   "outputs": [],
   "source": []
  },
  {
   "cell_type": "markdown",
   "id": "c51c723c-b921-43f8-a297-22354a6e60e6",
   "metadata": {
    "id": "c51c723c-b921-43f8-a297-22354a6e60e6"
   },
   "source": [
    "### 📚 References\n",
    "1. https://docs.python.org/3/library/stdtypes.html#text-sequence-type-str\n",
    "2. https://arpitbhayani.me/blogs/string-interning-python/"
   ]
  },
  {
   "cell_type": "markdown",
   "id": "e377c93d-5610-4c59-97cd-6886d00eb2c5",
   "metadata": {},
   "source": [
    "<div align=\"center\">\n",
    "\n",
    "## 📘 Curated by Team Decode-AI \n",
    "### Decoding AI Interviews at Top-Tech Companies\n",
    "\n",
    "</div>\n"
   ]
  }
 ],
 "metadata": {
  "colab": {
   "provenance": []
  },
  "kernelspec": {
   "display_name": "Python 3 (ipykernel)",
   "language": "python",
   "name": "python3"
  },
  "language_info": {
   "codemirror_mode": {
    "name": "ipython",
    "version": 3
   },
   "file_extension": ".py",
   "mimetype": "text/x-python",
   "name": "python",
   "nbconvert_exporter": "python",
   "pygments_lexer": "ipython3",
   "version": "3.13.5"
  }
 },
 "nbformat": 4,
 "nbformat_minor": 5
}
