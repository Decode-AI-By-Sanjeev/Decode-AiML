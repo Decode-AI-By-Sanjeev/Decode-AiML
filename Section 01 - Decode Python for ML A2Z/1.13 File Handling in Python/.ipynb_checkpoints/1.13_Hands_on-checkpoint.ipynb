{
 "cells": [
  {
   "cell_type": "markdown",
   "metadata": {
    "id": "3RZWScob4R8-"
   },
   "source": [
    "# File Handling in Python\n",
    "\n",
    "A file is a collection of data or information stored on a computer or storage device (like a hard disk, SSD, or USB drive) that is identified by a name and a file extension (like .txt, .jpg, .pdf).\n",
    "\n",
    "File handling in Python refers to the process of working with files, which are used to store data on a computer's storage system.\n",
    "\n",
    "Files can be used to store a wide range of information, such as:\n",
    "- Text\n",
    "- Numbers\n",
    "- Images\n",
    "- And more\n",
    "\n",
    "In Python, you can perform various operations on files, such as:\n",
    "- Creating files\n",
    "- Reading content\n",
    "- Writing data\n",
    "- Updating existing content\n"
   ]
  },
  {
   "cell_type": "markdown",
   "metadata": {
    "id": "sxNOchw-4adk"
   },
   "source": [
    "**Example 1: See all the files in your directory**"
   ]
  },
  {
   "cell_type": "code",
   "execution_count": 18,
   "metadata": {},
   "outputs": [],
   "source": [
    "# check current dir\n"
   ]
  },
  {
   "cell_type": "code",
   "execution_count": 17,
   "metadata": {},
   "outputs": [],
   "source": [
    "# import os module"
   ]
  },
  {
   "cell_type": "code",
   "execution_count": 19,
   "metadata": {
    "id": "PXX_iOha4jVz"
   },
   "outputs": [],
   "source": [
    "def show_files():\n",
    "    # Set the folder path\n",
    "    folder = \"D:\\\\decode ai\\\\github\\\\Decode-AI\\\\\"\n",
    "\n",
    "    # Get list of all files and folders in the folder\n",
    "\n",
    "\n",
    "    # If the folder is not empty, print each item\n",
    "\n"
   ]
  },
  {
   "cell_type": "code",
   "execution_count": null,
   "metadata": {
    "colab": {
     "base_uri": "https://localhost:8080/",
     "height": 272
    },
    "id": "c99Rh_B-4ng8",
    "outputId": "4a5d5ba3-0136-4d9f-ea1f-284a1da943b4"
   },
   "outputs": [],
   "source": []
  },
  {
   "cell_type": "markdown",
   "metadata": {
    "id": "5IyxVULK4zFn"
   },
   "source": [
    "**Example 2: Read the file and output to console**"
   ]
  },
  {
   "cell_type": "markdown",
   "metadata": {},
   "source": [
    "Syntax: `with open(file_path, 'r') as file`"
   ]
  },
  {
   "cell_type": "code",
   "execution_count": null,
   "metadata": {},
   "outputs": [],
   "source": [
    "# with statement\n",
    "# Automatically closes both files after the block is executed — no need to call close()."
   ]
  },
  {
   "cell_type": "code",
   "execution_count": 23,
   "metadata": {
    "id": "fG0VsViC4qLK"
   },
   "outputs": [],
   "source": [
    "def read_numbers_from_file():\n",
    "    # Set the path of the file to read\n",
    "    file_path = \"D:\\\\decode ai\\\\github\\\\Decode-AI\\\\input.txt\"\n",
    "\n",
    "    try:\n",
    "        # Open the file in read mode\n",
    "\n",
    "    \n",
    "\n",
    "    except FileNotFoundError:\n",
    "        print(\"File not found:\", file_path)"
   ]
  },
  {
   "cell_type": "code",
   "execution_count": null,
   "metadata": {
    "id": "9PK4Bx3N4-dt"
   },
   "outputs": [],
   "source": []
  },
  {
   "cell_type": "markdown",
   "metadata": {
    "id": "59Sp7WMR5lvJ"
   },
   "source": [
    "**Modes Summary**\n",
    "\n",
    "| Mode   | Action                      | File Must Exist | Creates New File | Truncates Existing File |\n",
    "| ------ | --------------------------- | --------------- | ---------------- | ----------------------- |\n",
    "| `\"r\"`  | Read                        | ✅               | ❌                | ❌                       |\n",
    "| `\"w\"`  | Write                       | ❌               | ✅                | ✅                       |\n",
    "| `\"a\"`  | Append                      | ❌               | ✅                | ❌                       |\n",
    "| `\"r+\"` | Read and Write              | ✅               | ❌                | ❌                       |\n",
    "| `\"w+\"` | Write and Read              | ❌               | ✅                | ✅                       |\n",
    "| `\"x\"`  | Create (fail if exists)     | ❌               | ✅                | ❌                       |\n",
    "| `\"b\"`  | Binary (combine with above) | ❌               | ❌                | ❌                       |\n",
    "\n",
    "---"
   ]
  },
  {
   "cell_type": "markdown",
   "metadata": {
    "id": "_cY8PlM55AqP"
   },
   "source": [
    "**Example 3: Read the file and output to another file**\n",
    "\n",
    "Q. you have a file with some list of values. you need to read the file and copy all values to another file."
   ]
  },
  {
   "cell_type": "code",
   "execution_count": 9,
   "metadata": {
    "id": "llGuyW9A5Ltx"
   },
   "outputs": [],
   "source": [
    "def copy_and_show_file():\n",
    "    # File paths\n",
    "    input_file = \"D:\\\\decode ai\\\\github\\\\Decode-AI\\\\input.txt\"\n",
    "    output_file = \"D:\\\\decode ai\\\\github\\\\Decode-AI\\\\output.txt\"\n",
    "\n",
    "    try:\n",
    "        # Copy content from input.txt to output.txt\n",
    "\n",
    "\n",
    "\n",
    "        # Read and print content from output.txt\n",
    "\n",
    "\n",
    "\n",
    "    except IOError as error:\n",
    "        print(\"Error while reading or writing file:\", error)\n"
   ]
  },
  {
   "cell_type": "code",
   "execution_count": null,
   "metadata": {},
   "outputs": [],
   "source": []
  },
  {
   "cell_type": "markdown",
   "metadata": {
    "id": "7ENUM78M5fA8"
   },
   "source": [
    "**Example 4: Read, do operations and output to another file**\n",
    "\n",
    "Q. you have a file with some list of values. you need to read the file and store the square of all values to another file.\n"
   ]
  },
  {
   "cell_type": "code",
   "execution_count": 24,
   "metadata": {
    "id": "xEL0rxgO5pii"
   },
   "outputs": [],
   "source": [
    "def copy_and_show_file():\n",
    "    # File paths\n",
    "    input_file = \"D:\\\\decode ai\\\\github\\\\Decode-AI\\\\input.txt\"\n",
    "    output_file = \"D:\\\\decode ai\\\\github\\\\Decode-AI\\\\output.txt\"\n",
    "\n",
    "    try:\n",
    "        # Copy content from input.txt to output.txt\n",
    "\n",
    "\n",
    "\n",
    "        # Read and print content from output.txt\n",
    "\n",
    "\n",
    "\n",
    "    except IOError as error:\n",
    "        print(\"Error while reading or writing file:\", error)\n"
   ]
  },
  {
   "cell_type": "code",
   "execution_count": null,
   "metadata": {},
   "outputs": [],
   "source": []
  },
  {
   "cell_type": "markdown",
   "metadata": {
    "id": "hgOLjsD94Tfv"
   },
   "source": [
    "**Example 6: You are given a file - about.txt which contains a paragraph about \"DecodeAiML\". Find no of occurences of \"DecodeAiML\"**"
   ]
  },
  {
   "cell_type": "code",
   "execution_count": 26,
   "metadata": {
    "id": "nm3rNI0D4uwG"
   },
   "outputs": [],
   "source": [
    "def count_word_in_file():\n",
    "    # Path to the file\n",
    "    file_path = \"D:\\\\decode ai\\\\github\\\\Decode-AI\\\\about.txt\"\n",
    "    search_word = \"DecodeAiML\"\n",
    "    count = 0\n",
    "\n",
    "    try:\n",
    "        # Open the file and count the word\n",
    "\n",
    "\n",
    "        # Print the total count\n",
    "\n",
    "    except IOError as error:\n",
    "        print(\"Error reading the file:\", error)\n"
   ]
  },
  {
   "cell_type": "code",
   "execution_count": null,
   "metadata": {},
   "outputs": [],
   "source": []
  },
  {
   "cell_type": "markdown",
   "metadata": {
    "id": "byjJFVSy46MI"
   },
   "source": [
    "## Common File Extensions in Machine Learning\n",
    "\n",
    "Machine learning workflows involve a variety of file formats for data storage, model persistence, configuration, and visualization. Below are the commonly used file extensions grouped by their role.\n",
    "\n",
    "---\n",
    "\n",
    "### 1. **Data Files**\n",
    "\n",
    "| Extension | Description                     | Common Usage                            |\n",
    "|-----------|----------------------------------|------------------------------------------|\n",
    "| `.csv`    | Comma-Separated Values           | Tabular datasets                         |\n",
    "| `.tsv`    | Tab-Separated Values             | Tabular data with tab delimiter          |\n",
    "| `.xlsx`   | Excel Spreadsheet                | Data analysis, feature tracking          |\n",
    "| `.json`   | JavaScript Object Notation       | Structured data, configurations          |\n",
    "| `.xml`    | Extensible Markup Language       | Annotated datasets (e.g., for NLP tasks) |\n",
    "| `.txt`    | Plain Text                       | Simple data, labels, notes               |\n",
    "| `.h5`     | HDF5 (Hierarchical Data Format)  | Storing large datasets or models         |\n",
    "| `.npz`    | NumPy Compressed Archive         | Storing NumPy arrays                     |\n",
    "\n",
    "---\n",
    "\n",
    "### 2. **Model Files**\n",
    "\n",
    "| Extension | Description                     | Used By                                  |\n",
    "|-----------|----------------------------------|-------------------------------------------|\n",
    "| `.pkl` / `.pickle` | Python Pickle File       | Scikit-learn, XGBoost, custom models      |\n",
    "| `.joblib` | Serialized models with Joblib    | Scikit-learn, faster for large models     |\n",
    "| `.h5`     | HDF5-based Keras model format    | TensorFlow/Keras                          |\n",
    "| `.pt` / `.pth` | PyTorch Model               | PyTorch                                   |\n",
    "| `.onnx`   | Open Neural Network Exchange     | Model interoperability (PyTorch ↔ ONNX)   |\n",
    "| `.tflite` | TensorFlow Lite Format           | Deploying ML models on mobile/IoT         |\n",
    "\n",
    "---\n",
    "\n",
    "### 3. **Image/Audio/Video Files**\n",
    "\n",
    "| Extension | Description             | Usage                             |\n",
    "|-----------|--------------------------|------------------------------------|\n",
    "| `.jpg` / `.jpeg` | JPEG Image        | Image classification, CV tasks     |\n",
    "| `.png`     | Portable Network Graphic | Images with transparency            |\n",
    "| `.bmp`     | Bitmap Image            | Raw image format                   |\n",
    "| `.wav`     | Waveform Audio File     | Speech/audio processing            |\n",
    "| `.mp3`     | Compressed Audio Format | Audio classification               |\n",
    "| `.mp4`     | MPEG-4 Video            | Action recognition, video analysis |\n",
    "\n",
    "---\n",
    "\n",
    "### 4. **Configuration and Code**\n",
    "\n",
    "| Extension | Description                | Usage                            |\n",
    "|-----------|-----------------------------|-----------------------------------|\n",
    "| `.py`     | Python Script               | ML model code                     |\n",
    "| `.ipynb`  | Jupyter Notebook            | Interactive model development     |\n",
    "| `.yaml` / `.yml` | YAML Config File     | Model config (e.g., for PyTorch Lightning) |\n",
    "\n",
    "---\n",
    "\n",
    "### 5. **Compressed Files**\n",
    "\n",
    "| Extension | Description               | Usage                          |\n",
    "|-----------|----------------------------|---------------------------------|\n",
    "| `.zip`    | ZIP Archive                | Dataset/model packaging         |\n",
    "| `.tar.gz` | Gzipped TAR Archive        | Distributing data/models        |\n",
    "| `.7z`     | 7-Zip Archive              | High-compression packaging      |\n",
    "\n",
    "---\n",
    "\n",
    "### Summary\n",
    "\n",
    "| Category           | Examples                              |\n",
    "|--------------------|----------------------------------------|\n",
    "| Data Files         | `.csv`, `.json`, `.xlsx`, `.parquet`  |\n",
    "| Model Files        | `.pkl`, `.pt`, `.h5`, `.onnx`          |\n",
    "| Media Files        | `.jpg`, `.wav`, `.mp4`                 |\n",
    "| Code & Config      | `.py`, `.ipynb`, `.yaml`               |\n",
    "| Archives           | `.zip`, `.tar.gz`                      |\n",
    "\n"
   ]
  },
  {
   "cell_type": "code",
   "execution_count": null,
   "metadata": {
    "id": "ywvZHsYo4ver"
   },
   "outputs": [],
   "source": []
  },
  {
   "cell_type": "markdown",
   "metadata": {
    "id": "a9iV0A1o23Aq"
   },
   "source": []
  }
 ],
 "metadata": {
  "colab": {
   "provenance": []
  },
  "kernelspec": {
   "display_name": "Python 3 (ipykernel)",
   "language": "python",
   "name": "python3"
  },
  "language_info": {
   "codemirror_mode": {
    "name": "ipython",
    "version": 3
   },
   "file_extension": ".py",
   "mimetype": "text/x-python",
   "name": "python",
   "nbconvert_exporter": "python",
   "pygments_lexer": "ipython3",
   "version": "3.13.5"
  }
 },
 "nbformat": 4,
 "nbformat_minor": 4
}
