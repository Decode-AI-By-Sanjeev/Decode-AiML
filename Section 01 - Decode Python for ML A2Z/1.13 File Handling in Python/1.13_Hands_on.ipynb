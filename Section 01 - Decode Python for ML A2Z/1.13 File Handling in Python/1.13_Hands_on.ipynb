{
 "cells": [
  {
   "cell_type": "markdown",
   "metadata": {
    "id": "3RZWScob4R8-"
   },
   "source": [
    "# File Handling in Python\n",
    "\n",
    "A file is a collection of data or information stored on a computer or storage device (like a hard disk, SSD, or USB drive) that is identified by a name and a file extension (like .txt, .jpg, .pdf).\n",
    "\n",
    "File handling in Python refers to the process of working with files, which are used to store data on a computer's storage system.\n",
    "\n",
    "Files can be used to store a wide range of information, such as:\n",
    "- Text\n",
    "- Numbers\n",
    "- Images\n",
    "- And more\n",
    "\n",
    "In Python, you can perform various operations on files, such as:\n",
    "- Creating files\n",
    "- Reading content\n",
    "- Writing data\n",
    "- Updating existing content\n"
   ]
  },
  {
   "cell_type": "markdown",
   "metadata": {
    "id": "sxNOchw-4adk"
   },
   "source": [
    "**Example 1: See all the files in your directory**"
   ]
  },
  {
   "cell_type": "code",
   "execution_count": 27,
   "metadata": {},
   "outputs": [
    {
     "name": "stdout",
     "output_type": "stream",
     "text": [
      " Volume in drive D is New Volume\n",
      " Volume Serial Number is A09E-98C2\n",
      "\n",
      " Directory of D:\\decode ai\\github\\Decode-AI\\Section 01 - Decode Python for ML A2Z\\1.13 File Handling in Python\n",
      "\n",
      "20-07-2025  13:54    <DIR>          .\n",
      "19-07-2025  23:15    <DIR>          ..\n",
      "20-07-2025  12:40    <DIR>          .ipynb_checkpoints\n",
      "20-07-2025  13:15            15,385 1.13_File_handling_in_Python.ipynb\n",
      "20-07-2025  13:54            13,127 1.13_Hands_on.ipynb\n",
      "20-07-2025  11:50         3,086,617 notes_file_handling.pdf\n",
      "               3 File(s)      3,115,129 bytes\n",
      "               3 Dir(s)   8,643,510,272 bytes free\n"
     ]
    }
   ],
   "source": [
    "# check current dir\n",
    "!dir"
   ]
  },
  {
   "cell_type": "code",
   "execution_count": 17,
   "metadata": {},
   "outputs": [],
   "source": [
    "# import os module\n",
    "import os"
   ]
  },
  {
   "cell_type": "code",
   "execution_count": 29,
   "metadata": {
    "id": "PXX_iOha4jVz"
   },
   "outputs": [],
   "source": [
    "def show_files():\n",
    "    # Set the folder path\n",
    "    folder = \"D:\\\\decode ai\\\\github\\\\Decode-AI\\\\\"\n",
    "\n",
    "    # Get list of all files and folders in the folder\n",
    "    items = os.listdir(folder)\n",
    "\n",
    "    # If the folder is not empty, print each item\n",
    "    for item in items:\n",
    "        print(item)\n",
    "\n"
   ]
  },
  {
   "cell_type": "code",
   "execution_count": 30,
   "metadata": {
    "colab": {
     "base_uri": "https://localhost:8080/",
     "height": 272
    },
    "id": "c99Rh_B-4ng8",
    "outputId": "4a5d5ba3-0136-4d9f-ea1f-284a1da943b4"
   },
   "outputs": [
    {
     "name": "stdout",
     "output_type": "stream",
     "text": [
      ".git\n",
      "about.txt\n",
      "CNAME\n",
      "google37f70b56e827a2c8.html\n",
      "input.txt\n",
      "output.txt\n",
      "README.md\n",
      "Section 0 - Getting Started\n",
      "Section 01 - Decode Python for ML A2Z\n",
      "Section 02 - Decode DSA with Python A2Z\n",
      "Section 03 - Decode Calculus and Optimization A2Z\n",
      "Section 04 - Decode Linear Algebra A2Z\n",
      "Section 05 - Decode Statistics and Probability A2Z\n",
      "Section 06 - Decode Machine Learning A2Z\n",
      "Section 07 - Decode Deep Learning A2Z\n",
      "Section 08 - Decode Generative AI A2Z\n",
      "Section 09 - Decode AI Development Tools A2Z\n",
      "Section 10 - Decode ML Model Deployment A2Z\n",
      "Section 11 - Decode Recommendation Engine A2Z\n",
      "Section 12 - Decode ML Design Interview A2Z\n"
     ]
    }
   ],
   "source": [
    "show_files()"
   ]
  },
  {
   "cell_type": "markdown",
   "metadata": {
    "id": "5IyxVULK4zFn"
   },
   "source": [
    "**Example 2: Read the file and output to console**"
   ]
  },
  {
   "cell_type": "markdown",
   "metadata": {},
   "source": [
    "Syntax: `with open(file_path, 'r') as file`"
   ]
  },
  {
   "cell_type": "code",
   "execution_count": null,
   "metadata": {},
   "outputs": [],
   "source": [
    "# with statement\n",
    "# Automatically closes both files after the block is executed — no need to call close()."
   ]
  },
  {
   "cell_type": "code",
   "execution_count": 31,
   "metadata": {
    "id": "fG0VsViC4qLK"
   },
   "outputs": [],
   "source": [
    "def read_numbers_from_file():\n",
    "    # Set the path of the file to read\n",
    "    file_path = \"D:\\\\decode ai\\\\github\\\\Decode-AI\\\\input.txt\"\n",
    "\n",
    "    try:\n",
    "        # Open the file in read mode\n",
    "        with open(file_path,'r') as file:\n",
    "            for line in file:\n",
    "                number = int(line.strip())\n",
    "                print(number)\n",
    "    \n",
    "    except FileNotFoundError:\n",
    "        print(\"File not found:\", file_path)"
   ]
  },
  {
   "cell_type": "code",
   "execution_count": 32,
   "metadata": {
    "id": "9PK4Bx3N4-dt"
   },
   "outputs": [
    {
     "name": "stdout",
     "output_type": "stream",
     "text": [
      "1\n",
      "2\n",
      "3\n",
      "4\n",
      "5\n",
      "6\n",
      "7\n",
      "8\n",
      "9\n",
      "10\n"
     ]
    }
   ],
   "source": [
    "read_numbers_from_file()"
   ]
  },
  {
   "cell_type": "markdown",
   "metadata": {
    "id": "59Sp7WMR5lvJ"
   },
   "source": [
    "**Modes Summary**\n",
    "\n",
    "| Mode   | Action                      | File Must Exist | Creates New File | Truncates Existing File |\n",
    "| ------ | --------------------------- | --------------- | ---------------- | ----------------------- |\n",
    "| `\"r\"`  | Read                        | ✅               | ❌                | ❌                       |\n",
    "| `\"w\"`  | Write                       | ❌               | ✅                | ✅                       |\n",
    "| `\"a\"`  | Append                      | ❌               | ✅                | ❌                       |\n",
    "| `\"r+\"` | Read and Write              | ✅               | ❌                | ❌                       |\n",
    "| `\"w+\"` | Write and Read              | ❌               | ✅                | ✅                       |\n",
    "| `\"x\"`  | Create (fail if exists)     | ❌               | ✅                | ❌                       |\n",
    "| `\"b\"`  | Binary (combine with above) | ❌               | ❌                | ❌                       |\n",
    "\n",
    "---"
   ]
  },
  {
   "cell_type": "markdown",
   "metadata": {
    "id": "_cY8PlM55AqP"
   },
   "source": [
    "**Example 3: Read the file and output to another file**\n",
    "\n",
    "Q. you have a file with some list of values. you need to read the file and copy all values to another file."
   ]
  },
  {
   "cell_type": "code",
   "execution_count": 37,
   "metadata": {
    "id": "llGuyW9A5Ltx"
   },
   "outputs": [],
   "source": [
    "def copy_and_show_file():\n",
    "    # File paths\n",
    "    input_file = \"D:\\\\decode ai\\\\github\\\\Decode-AI\\\\input.txt\"\n",
    "    output_file = \"D:\\\\decode ai\\\\github\\\\Decode-AI\\\\output.txt\"\n",
    "\n",
    "    try:\n",
    "        # Copy content from input.txt to output.txt\n",
    "        with open(input_file,'r') as in_file, open(output_file,'w') as out_file:\n",
    "            for line in in_file:\n",
    "                out_file.write(line)\n",
    "\n",
    "\n",
    "        # Read and print content from output.txt\n",
    "        with open(output_file,'r') as out_file:\n",
    "            for line in out_file:\n",
    "                print(line.strip())\n",
    "\n",
    "\n",
    "    except IOError as error:\n",
    "        print(\"Error while reading or writing file:\", error)\n"
   ]
  },
  {
   "cell_type": "code",
   "execution_count": 38,
   "metadata": {},
   "outputs": [
    {
     "name": "stdout",
     "output_type": "stream",
     "text": [
      "1\n",
      "2\n",
      "3\n",
      "4\n",
      "5\n",
      "6\n",
      "7\n",
      "8\n",
      "9\n",
      "10\n"
     ]
    }
   ],
   "source": [
    "copy_and_show_file()"
   ]
  },
  {
   "cell_type": "markdown",
   "metadata": {
    "id": "7ENUM78M5fA8"
   },
   "source": [
    "**Example 4: Read, do operations and output to another file**\n",
    "\n",
    "Q. you have a file with some list of values. you need to read the file and store the square of all values to another file.\n"
   ]
  },
  {
   "cell_type": "code",
   "execution_count": 39,
   "metadata": {
    "id": "xEL0rxgO5pii"
   },
   "outputs": [],
   "source": [
    "def copy_and_show_file():\n",
    "    # File paths\n",
    "    input_file = \"D:\\\\decode ai\\\\github\\\\Decode-AI\\\\input.txt\"\n",
    "    output_file = \"D:\\\\decode ai\\\\github\\\\Decode-AI\\\\output.txt\"\n",
    "\n",
    "    try:\n",
    "        # Copy content from input.txt to output.txt\n",
    "        with open(input_file,'r') as in_file, open(output_file,'w') as out_file:\n",
    "            for line in in_file:\n",
    "                number = int(line.strip())\n",
    "                square = number*number\n",
    "                out_file.write(f\"{number} {square}\\n\")\n",
    "\n",
    "\n",
    "        # Read and print content from output.txt\n",
    "        with open(output_file,'r') as out_file:\n",
    "            for line in out_file:\n",
    "                print(line.strip())\n",
    "\n",
    "\n",
    "    except IOError as error:\n",
    "        print(\"Error while reading or writing file:\", error)\n"
   ]
  },
  {
   "cell_type": "code",
   "execution_count": 40,
   "metadata": {},
   "outputs": [
    {
     "name": "stdout",
     "output_type": "stream",
     "text": [
      "1 1\n",
      "2 4\n",
      "3 9\n",
      "4 16\n",
      "5 25\n",
      "6 36\n",
      "7 49\n",
      "8 64\n",
      "9 81\n",
      "10 100\n"
     ]
    }
   ],
   "source": [
    "copy_and_show_file()"
   ]
  },
  {
   "cell_type": "markdown",
   "metadata": {
    "id": "hgOLjsD94Tfv"
   },
   "source": [
    "**Example 6: You are given a file - about.txt which contains a paragraph about \"DecodeAiML\". Find no of occurences of \"DecodeAiML\"**"
   ]
  },
  {
   "cell_type": "code",
   "execution_count": 41,
   "metadata": {
    "id": "nm3rNI0D4uwG"
   },
   "outputs": [],
   "source": [
    "def count_word_in_file():\n",
    "    # Path to the file\n",
    "    file_path = \"D:\\\\decode ai\\\\github\\\\Decode-AI\\\\about.txt\"\n",
    "    search_word = \"DecodeAiML\"\n",
    "    count = 0\n",
    "\n",
    "    try:\n",
    "        # Open the file and count the word\n",
    "        with open(file_path,'r') as file:\n",
    "            for line in file:\n",
    "                words = line.split()\n",
    "                for word in words:\n",
    "                    if word == search_word:\n",
    "                        count += 1\n",
    "\n",
    "        # Print the total count\n",
    "        print(f\"Number of occurence of {search_word} - {count}\")\n",
    "\n",
    "    except IOError as error:\n",
    "        print(\"Error reading the file:\", error)\n"
   ]
  },
  {
   "cell_type": "code",
   "execution_count": 42,
   "metadata": {},
   "outputs": [
    {
     "name": "stdout",
     "output_type": "stream",
     "text": [
      "Number of occurence of DecodeAiML - 3\n"
     ]
    }
   ],
   "source": [
    "count_word_in_file()"
   ]
  },
  {
   "cell_type": "markdown",
   "metadata": {
    "id": "byjJFVSy46MI"
   },
   "source": [
    "## Common File Extensions in Machine Learning\n",
    "\n",
    "Machine learning workflows involve a variety of file formats for data storage, model persistence, configuration, and visualization. Below are the commonly used file extensions grouped by their role.\n",
    "\n",
    "---\n",
    "\n",
    "### 1. **Data Files**\n",
    "\n",
    "| Extension | Description                     | Common Usage                            |\n",
    "|-----------|----------------------------------|------------------------------------------|\n",
    "| `.csv`    | Comma-Separated Values           | Tabular datasets                         |\n",
    "| `.tsv`    | Tab-Separated Values             | Tabular data with tab delimiter          |\n",
    "| `.xlsx`   | Excel Spreadsheet                | Data analysis, feature tracking          |\n",
    "| `.json`   | JavaScript Object Notation       | Structured data, configurations          |\n",
    "| `.xml`    | Extensible Markup Language       | Annotated datasets (e.g., for NLP tasks) |\n",
    "| `.txt`    | Plain Text                       | Simple data, labels, notes               |\n",
    "| `.h5`     | HDF5 (Hierarchical Data Format)  | Storing large datasets or models         |\n",
    "| `.npz`    | NumPy Compressed Archive         | Storing NumPy arrays                     |\n",
    "\n",
    "---\n",
    "\n",
    "### 2. **Model Files**\n",
    "\n",
    "| Extension | Description                     | Used By                                  |\n",
    "|-----------|----------------------------------|-------------------------------------------|\n",
    "| `.pkl` / `.pickle` | Python Pickle File       | Scikit-learn, XGBoost, custom models      |\n",
    "| `.joblib` | Serialized models with Joblib    | Scikit-learn, faster for large models     |\n",
    "| `.h5`     | HDF5-based Keras model format    | TensorFlow/Keras                          |\n",
    "| `.pt` / `.pth` | PyTorch Model               | PyTorch                                   |\n",
    "| `.onnx`   | Open Neural Network Exchange     | Model interoperability (PyTorch ↔ ONNX)   |\n",
    "| `.tflite` | TensorFlow Lite Format           | Deploying ML models on mobile/IoT         |\n",
    "\n",
    "---\n",
    "\n",
    "### 3. **Image/Audio/Video Files**\n",
    "\n",
    "| Extension | Description             | Usage                             |\n",
    "|-----------|--------------------------|------------------------------------|\n",
    "| `.jpg` / `.jpeg` | JPEG Image        | Image classification, CV tasks     |\n",
    "| `.png`     | Portable Network Graphic | Images with transparency            |\n",
    "| `.bmp`     | Bitmap Image            | Raw image format                   |\n",
    "| `.wav`     | Waveform Audio File     | Speech/audio processing            |\n",
    "| `.mp3`     | Compressed Audio Format | Audio classification               |\n",
    "| `.mp4`     | MPEG-4 Video            | Action recognition, video analysis |\n",
    "\n",
    "---\n",
    "\n",
    "### 4. **Configuration and Code**\n",
    "\n",
    "| Extension | Description                | Usage                            |\n",
    "|-----------|-----------------------------|-----------------------------------|\n",
    "| `.py`     | Python Script               | ML model code                     |\n",
    "| `.ipynb`  | Jupyter Notebook            | Interactive model development     |\n",
    "| `.yaml` / `.yml` | YAML Config File     | Model config (e.g., for PyTorch Lightning) |\n",
    "\n",
    "---\n",
    "\n",
    "### 5. **Compressed Files**\n",
    "\n",
    "| Extension | Description               | Usage                          |\n",
    "|-----------|----------------------------|---------------------------------|\n",
    "| `.zip`    | ZIP Archive                | Dataset/model packaging         |\n",
    "| `.tar.gz` | Gzipped TAR Archive        | Distributing data/models        |\n",
    "| `.7z`     | 7-Zip Archive              | High-compression packaging      |\n",
    "\n",
    "---\n",
    "\n",
    "### Summary\n",
    "\n",
    "| Category           | Examples                              |\n",
    "|--------------------|----------------------------------------|\n",
    "| Data Files         | `.csv`, `.json`, `.xlsx`, `.parquet`  |\n",
    "| Model Files        | `.pkl`, `.pt`, `.h5`, `.onnx`          |\n",
    "| Media Files        | `.jpg`, `.wav`, `.mp4`                 |\n",
    "| Code & Config      | `.py`, `.ipynb`, `.yaml`               |\n",
    "| Archives           | `.zip`, `.tar.gz`                      |\n",
    "\n"
   ]
  },
  {
   "cell_type": "code",
   "execution_count": null,
   "metadata": {
    "id": "ywvZHsYo4ver"
   },
   "outputs": [],
   "source": []
  },
  {
   "cell_type": "markdown",
   "metadata": {
    "id": "a9iV0A1o23Aq"
   },
   "source": []
  }
 ],
 "metadata": {
  "colab": {
   "provenance": []
  },
  "kernelspec": {
   "display_name": "Python 3 (ipykernel)",
   "language": "python",
   "name": "python3"
  },
  "language_info": {
   "codemirror_mode": {
    "name": "ipython",
    "version": 3
   },
   "file_extension": ".py",
   "mimetype": "text/x-python",
   "name": "python",
   "nbconvert_exporter": "python",
   "pygments_lexer": "ipython3",
   "version": "3.13.5"
  }
 },
 "nbformat": 4,
 "nbformat_minor": 4
}
