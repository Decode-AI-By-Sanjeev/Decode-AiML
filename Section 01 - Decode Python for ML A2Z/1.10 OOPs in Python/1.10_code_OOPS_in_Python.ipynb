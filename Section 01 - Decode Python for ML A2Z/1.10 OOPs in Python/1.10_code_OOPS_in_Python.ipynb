{
 "cells": [
  {
   "cell_type": "markdown",
   "metadata": {},
   "source": [
    "# <center>Mastering Object-Oriented Programming with Python</center>"
   ]
  },
  {
   "cell_type": "markdown",
   "metadata": {
    "jp-MarkdownHeadingCollapsed": true
   },
   "source": [
    "---\n",
    "### **Lecture 1: Why OOPs for AI/ML Engineer ?**"
   ]
  },
  {
   "cell_type": "markdown",
   "metadata": {},
   "source": [
    "#### Table of Content\n",
    "1. Procedural Programming Vs Object-oriented Programming\n",
    "2. Introduction to OOPs in Python\n",
    "3. Writing our First Class In Python\n",
    "4. Hands-On OOPs Concept : Pizza Analogy\n",
    "5. Pillars of OOPs - Overview\n",
    "6. Inheritance in Python\n",
    "7. Encapsulation in Python\n",
    "8. Polymorphism in Python\n",
    "9. Data Abastraction in Python\n",
    "10. Static Concept and Copy Constructor"
   ]
  },
  {
   "cell_type": "markdown",
   "metadata": {
    "id": "wjqUSN2P4o-3",
    "jp-MarkdownHeadingCollapsed": true
   },
   "source": [
    "---\n",
    "### **Lecture 2: Procedural Vs OOPs**"
   ]
  },
  {
   "cell_type": "markdown",
   "metadata": {},
   "source": [
    "**1. Programming style so far**"
   ]
  },
  {
   "cell_type": "code",
   "execution_count": 1,
   "metadata": {},
   "outputs": [],
   "source": [
    "# 1. So far we have seen Procedural Programming style of coding in python\n",
    "# 2. Procedural programming organizes code using functions and procedures, following a top down approach\n",
    "# 3. Even though Python doesn’t have a separate procedure keyword, any function that does not return a value (i.e., returns None) is procedural in nature.\n",
    "# 4. Code is organized into classes and objects\n",
    "# 5. Reusability - Limited (Procedural)\tHigh(OOP)\n",
    "# 6. Security -\tProcedural ->Low (no data hiding);\tOOP ->High (encapsulation supports it)\n",
    "# 7. Ideal for\tSmall/simple programs (Data cleaning, Sending metrics-mail)\tLarge/scalable applications (E-commerce Website, Games Development)"
   ]
  },
  {
   "cell_type": "code",
   "execution_count": 2,
   "metadata": {},
   "outputs": [
    {
     "data": {
      "text/plain": [
       "'\\nProblem: Student Management System\\n\\n1. Add student details\\n2. Display student details\\n'"
      ]
     },
     "execution_count": 2,
     "metadata": {},
     "output_type": "execute_result"
    }
   ],
   "source": [
    "\"\"\"\n",
    "Problem: Student Management System\n",
    "\n",
    "1. Add student details\n",
    "2. Display student details\n",
    "\"\"\""
   ]
  },
  {
   "cell_type": "code",
   "execution_count": 3,
   "metadata": {},
   "outputs": [
    {
     "name": "stdout",
     "output_type": "stream",
     "text": [
      "Name: Alice, Age: 14, Grade: 8th\n",
      "Name: Bob, Age: 15, Grade: 9th\n"
     ]
    }
   ],
   "source": [
    "# Procedural version using global list\n",
    "students = []\n",
    "\n",
    "def add_student(name, age, grade):\n",
    "    students.append({'name': name, 'age': age, 'grade': grade})\n",
    "\n",
    "def display_students():\n",
    "    for s in students:\n",
    "        print(f\"Name: {s['name']}, Age: {s['age']}, Grade: {s['grade']}\")\n",
    "\n",
    "# Usage\n",
    "add_student(\"Alice\", 14, \"8th\")\n",
    "add_student(\"Bob\", 15, \"9th\")\n",
    "display_students()\n"
   ]
  },
  {
   "cell_type": "markdown",
   "metadata": {},
   "source": [
    "**❌ Limitations in Procedural:**\n",
    "\n",
    "- Global variable `students` — risky in large codebases\n",
    "- Data (`dict`) and behavior (`add`, `display`) are separate\n",
    "- No protection — any code can change student data incorrectly\n",
    "- Can't easily create multiple independent student groups"
   ]
  },
  {
   "cell_type": "markdown",
   "metadata": {},
   "source": [
    "**2. Object-Oriented Approach**"
   ]
  },
  {
   "cell_type": "code",
   "execution_count": 5,
   "metadata": {},
   "outputs": [],
   "source": [
    "# - Python supports both Object-oriented programming and Procedural programming approach"
   ]
  },
  {
   "cell_type": "code",
   "execution_count": 6,
   "metadata": {},
   "outputs": [
    {
     "name": "stdout",
     "output_type": "stream",
     "text": [
      "Name: Alice, Age: 14, Grade: 8th\n",
      "Name: Bob, Age: 15, Grade: 9th\n"
     ]
    }
   ],
   "source": [
    "class Student:\n",
    "    def __init__(self, name, age, grade):\n",
    "        self.name = name\n",
    "        self.age = age\n",
    "        self.grade = grade\n",
    "\n",
    "    def display(self):\n",
    "        print(f\"Name: {self.name}, Age: {self.age}, Grade: {self.grade}\")\n",
    "\n",
    "class StudentManager:\n",
    "    def __init__(self):\n",
    "        self.students = []\n",
    "\n",
    "    def add_student(self, name, age, grade):\n",
    "        student = Student(name, age, grade)\n",
    "        self.students.append(student)\n",
    "\n",
    "    def display_all(self):\n",
    "        for student in self.students:\n",
    "            student.display()\n",
    "\n",
    "# Usage\n",
    "manager = StudentManager()\n",
    "manager.add_student(\"Alice\", 14, \"8th\")\n",
    "manager.add_student(\"Bob\", 15, \"9th\")\n",
    "manager.display_all()\n"
   ]
  },
  {
   "cell_type": "markdown",
   "metadata": {},
   "source": [
    "**✅ Benefits of OOP in This Example**\n",
    "\n",
    "| Benefit                         | Explanation                                                                              |\n",
    "| ------------------------------- | ---------------------------------------------------------------------------------------- |\n",
    "| 🔐 **Encapsulation**            | Student data (`name`, `age`, `grade`) is tied with behavior (`display()`) in one object. |\n",
    "| 📦 **Modularity**               | `Student` and `StudentManager` are separate, reusable components.                        |\n",
    "| 🧪 **Testability**              | You can test `Student` and `StudentManager` independently.                               |\n",
    "| 🔄 **Reusability & Extension**  | Can subclass `Student` (e.g., `HighSchoolStudent`) to extend behavior.                   |\n",
    "| 👥 **Multiple Instances**       | Can create multiple independent `StudentManager` objects for different classes/schools.  |\n",
    "| 💡 **Clear Real-world Mapping** | `Student` models a real student naturally, making the code easier to understand.         |\n"
   ]
  },
  {
   "cell_type": "code",
   "execution_count": null,
   "metadata": {},
   "outputs": [],
   "source": [
    "# Let's look at some real world examples\n",
    "\n",
    "# Flipkart - Class(Customer, Merchant, Product, DeliveryBoy, Employee)\n",
    "# Swiggy - class(Customer, Restaurant, FoodItem, DeiveryBoy, Employee)\n",
    "# Ola - class(Rider, Captain, Employee)\n",
    "# Domino's - class(Customer, Outlet, PizzaItem, Employee)"
   ]
  },
  {
   "cell_type": "markdown",
   "metadata": {},
   "source": [
    "**Final Thought**\n",
    "\n",
    "Procedural programming is fine for small scripts\n",
    "\n",
    "but OOP provides structure, safety, and scalability for real-world systems.\n",
    "\n",
    "---"
   ]
  },
  {
   "cell_type": "markdown",
   "metadata": {
    "jp-MarkdownHeadingCollapsed": true
   },
   "source": [
    "---\n",
    "### **Lecture 3,4: Introduction to OOPs in Python**"
   ]
  },
  {
   "cell_type": "markdown",
   "metadata": {
    "id": "kHdOdzHkv7Kk"
   },
   "source": [
    "\n",
    "\n",
    "Object-Oriented Programming (OOP) is a way of organizing code by creating **objects** that represent **real-world things**.\n",
    "\n",
    "**Object-Oriented Programming (OOP)** is a programming paradigm that organizes code using **objects** and **classes**.\n",
    "\n",
    "> A **programming paradigm** is a style or approach to solving problems using code.\n",
    "\n",
    "OOP focuses on:\n",
    "- **Data (attributes)**\n",
    "- **Behavior (methods)**\n",
    "\n",
    "This promotes:\n",
    "- ✅ Code reusability\n",
    "- ✅ Modularity\n",
    "- ✅ Easier maintenance\n",
    "\n",
    "OOP models real-world entities as **software objects** that:\n",
    "- Have some **data**\n",
    "- Can perform **operations**\n",
    "\n",
    "---\n",
    "\n",
    "#### 🧠 Think in Terms of:\n",
    "\n",
    "- **Objects** → Real-world things  \n",
    "- **Classes** → Blueprints for those things  \n",
    "- **Properties** → Data or attributes  \n",
    "- **Methods** → Actions or behaviors  \n",
    "\n",
    "---\n"
   ]
  },
  {
   "cell_type": "markdown",
   "metadata": {
    "id": "GkpcfdMKKvfS"
   },
   "source": [
    "**How Do You Define a Class in Python?**"
   ]
  },
  {
   "cell_type": "markdown",
   "metadata": {
    "id": "FZPAWBOKK6tu"
   },
   "source": [
    "Primitive data structures—like **numbers**, **strings**, and **lists**—are designed to represent **straightforward pieces of information**, such as:\n",
    "\n",
    "- the **cost of an apple** 🍎 (number),\n",
    "- the **name of a poem** 📜 (string),\n",
    "- or your **favorite colors** 🎨 (list).\n",
    "\n",
    "But what if you want to represent something more **complex and real-world**, like:\n",
    "\n",
    "- an **Employee** 👨‍💼,\n",
    "- a **Pizza** 🍕,\n",
    "- or a **Vehicle** 🚗?\n",
    "\n",
    "\n",
    "#### ❌ Using Lists or Dictionaries\n",
    "\n",
    "We can represent such complex items using **lists** or **dictionaries**, like this:\n",
    "\n",
    "\n",
    "- We can represent using different data-types like list, dict etc.\n",
    "```python\n",
    "kirk = [\"James Kirk\", 34, \"Captain\", 2265]\n",
    "spock = [\"Spock\", 35, \"Science Officer\", 2254]\n",
    "mccoy = [\"Leonard McCoy\", \"Chief Medical Officer\", 2266]\n",
    "```\n",
    "\n",
    "But it has some challenges.\n",
    "1. First, it can make larger code files more difficult to manage.\n",
    "2. It can introduce errors if employees don’t have the same number of elements in their respective lists.\n",
    "\n",
    "\n",
    "\n",
    "**The best implementation is done using Classes and Objects** because it makes the real world Item representation code more manageable and more maintainable\n",
    "\n"
   ]
  },
  {
   "cell_type": "code",
   "execution_count": null,
   "metadata": {},
   "outputs": [],
   "source": [
    "# Problem: You need to manage a record of students taking part in different clubs -> Music, Dance, Coding, Sports"
   ]
  },
  {
   "cell_type": "code",
   "execution_count": 3,
   "metadata": {},
   "outputs": [],
   "source": [
    "class Student:\n",
    "    def __init__(self, name, age, grade):\n",
    "        self.name = name\n",
    "        self.age = age\n",
    "        self.grade = grade\n",
    "\n",
    "    def display(self):\n",
    "        print(f\"Name: {self.name}, Age: {self.age}, Grade: {self.grade}\")\n",
    "\n",
    "class StudentManager:\n",
    "    def __init__(self):\n",
    "        self.students = []\n",
    "\n",
    "    def add_student(self, name, age, grade):\n",
    "        student = Student(name, age, grade)\n",
    "        self.students.append(student)\n",
    "\n",
    "    def display_all(self):\n",
    "        for student in self.students:\n",
    "            student.display()\n"
   ]
  },
  {
   "cell_type": "code",
   "execution_count": 10,
   "metadata": {},
   "outputs": [
    {
     "name": "stdout",
     "output_type": "stream",
     "text": [
      "Members of music club: \n",
      "Name: Ram, Age: 15, Grade: 10th\n",
      "Name: Monu, Age: 14, Grade: 9th\n",
      "\n",
      "\n",
      "Members of Dance club: \n",
      "Name: Sonu, Age: 15, Grade: 10th\n",
      "Name: Shivani, Age: 16, Grade: 11th\n",
      "\n",
      "\n",
      "Members of coding club: \n",
      "Name: Ram, Age: 15, Grade: 10th\n",
      "Name: Monu, Age: 14, Grade: 9th\n",
      "Name: Sonu, Age: 15, Grade: 10th\n",
      "Name: Shivani, Age: 16, Grade: 11th\n",
      "\n",
      "\n",
      "Members of sports club: \n",
      "Name: Ram, Age: 15, Grade: 10th\n"
     ]
    }
   ],
   "source": [
    "# Usage\n",
    "\n",
    "#Music -> (Ram, Monu)\n",
    "MusicClubStudentManager = manager = StudentManager()\n",
    "MusicClubStudentManager.add_student(\"Ram\", 15, \"10th\")\n",
    "MusicClubStudentManager.add_student(\"Monu\", 14, \"9th\")\n",
    "print(\"Members of music club: \")\n",
    "MusicClubStudentManager.display_all()\n",
    "\n",
    "#Dance -> (Sonu, Shivani)\n",
    "DanceClubStudentManager = manager = StudentManager()\n",
    "DanceClubStudentManager.add_student(\"Sonu\", 15, \"10th\")\n",
    "DanceClubStudentManager.add_student(\"Shivani\", 16, \"11th\")\n",
    "print(\"\\n\\nMembers of Dance club: \")\n",
    "DanceClubStudentManager.display_all()\n",
    "\n",
    "#Coding -> (Ram, Monu, Sonu, Shiavni)\n",
    "CodingClubStudentManager = manager = StudentManager()\n",
    "CodingClubStudentManager.add_student(\"Ram\", 15, \"10th\")\n",
    "CodingClubStudentManager.add_student(\"Monu\", 14, \"9th\")\n",
    "CodingClubStudentManager.add_student(\"Sonu\", 15, \"10th\")\n",
    "CodingClubStudentManager.add_student(\"Shivani\", 16, \"11th\")\n",
    "print(\"\\n\\nMembers of coding club: \")\n",
    "CodingClubStudentManager.display_all()\n",
    "\n",
    "#Sports -> Ram\n",
    "SportsClubStudentManager = manager = StudentManager()\n",
    "SportsClubStudentManager.add_student(\"Ram\", 15, \"10th\")\n",
    "print(\"\\n\\nMembers of sports club: \")\n",
    "SportsClubStudentManager.display_all()\n"
   ]
  },
  {
   "cell_type": "markdown",
   "metadata": {
    "jp-MarkdownHeadingCollapsed": true
   },
   "source": [
    "---\n",
    "### **Lecture 5,6: Writing our First Class In Python**"
   ]
  },
  {
   "cell_type": "markdown",
   "metadata": {},
   "source": [
    "**Table of content**\n",
    "```python\n",
    "First class\n",
    "Add member attributes\n",
    "Add class attributes\n",
    "create instance of the class\n",
    "accessing class and instance attributes\n",
    "changing attributes of class and instance and reaccessing\n",
    "```"
   ]
  },
  {
   "cell_type": "code",
   "execution_count": null,
   "metadata": {},
   "outputs": [],
   "source": [
    "# Let's Learn Class and Object in terms of Modeling a Student\n",
    "# Floor Plan(BluePrint) => Flat/House(Real world Entity)\n",
    "# Pseudo code => Code"
   ]
  },
  {
   "cell_type": "markdown",
   "metadata": {
    "id": "kC2v2-OvXvJp"
   },
   "source": [
    "**💡 Class Definition:**"
   ]
  },
  {
   "cell_type": "code",
   "execution_count": 1,
   "metadata": {
    "id": "p60CAKEvHBxA"
   },
   "outputs": [],
   "source": [
    "# You start all class definitions with the class keyword, then add the name of the class and a colon.\n",
    "# Python will consider any code that you indent below the class definition as part of the class’s body.\n",
    "# Python class names are written in CapitalizedWords notation by convention.\n",
    "class Student:\n",
    "    pass"
   ]
  },
  {
   "cell_type": "code",
   "execution_count": 5,
   "metadata": {},
   "outputs": [
    {
     "name": "stdout",
     "output_type": "stream",
     "text": [
      "<class 'type'>\n"
     ]
    }
   ],
   "source": [
    "print(type(Student))"
   ]
  },
  {
   "cell_type": "markdown",
   "metadata": {},
   "source": [
    "MyClass is a class — but also an object.\n",
    "\n",
    "That object is created from type — so its type is type."
   ]
  },
  {
   "cell_type": "markdown",
   "metadata": {},
   "source": [
    "**💡 Adding Instance attributes:**"
   ]
  },
  {
   "cell_type": "code",
   "execution_count": 15,
   "metadata": {
    "id": "thyGxIVbHB0b"
   },
   "outputs": [],
   "source": [
    "# Add name, age, grade for Student"
   ]
  },
  {
   "cell_type": "code",
   "execution_count": 18,
   "metadata": {
    "id": "rNEQU1rcY-lZ"
   },
   "outputs": [],
   "source": [
    "# You can give .__init__() any number of parameters, but the first parameter will always be a variable called self.\n",
    "class Student:\n",
    "    def __init__(self, name, age, grade):\n",
    "        self.name = name\n",
    "        self.age = age\n",
    "        self.grade = grade"
   ]
  },
  {
   "cell_type": "markdown",
   "metadata": {},
   "source": [
    "**💡 `__init__()` method**"
   ]
  },
  {
   "cell_type": "markdown",
   "metadata": {
    "id": "M6kicFEWZeRS"
   },
   "source": [
    "Make sure that you indent the`.__init__()` method’s signature by four spaces, and the body of the method by eight spaces. This indentation is vitally important. It tells Python that the `.__init__()` method belongs to the Student class."
   ]
  },
  {
   "cell_type": "markdown",
   "metadata": {
    "id": "s64ISDXWZv03"
   },
   "source": [
    "\n",
    "Attributes created in `.__init__()` are called instance attributes. An instance attribute’s value is specific to a particular instance of the class. All Student objects have a name and an age, but the values for the name and age attributes will vary depending on the Student instance.\n",
    "\n",
    "---"
   ]
  },
  {
   "cell_type": "markdown",
   "metadata": {},
   "source": [
    "**💡 Self Parameter:**\n",
    "\n",
    "The self parameter in Python is a convention that represents the instance of the class.\n",
    "\n",
    "It is the first parameter in instance methods and is automatically passed when calling the method.\n",
    "\n",
    "---"
   ]
  },
  {
   "cell_type": "markdown",
   "metadata": {},
   "source": [
    "**💡 Adding Class attributes:**"
   ]
  },
  {
   "cell_type": "code",
   "execution_count": 19,
   "metadata": {
    "id": "-AGBd6FEZUQE"
   },
   "outputs": [],
   "source": [
    "# add some class attributes for the Student class"
   ]
  },
  {
   "cell_type": "code",
   "execution_count": 20,
   "metadata": {
    "id": "JWWO9kk2ZUWO"
   },
   "outputs": [],
   "source": [
    "class Student:\n",
    "    # Class member variable (shared by all instances)\n",
    "    school_name = \"KV\"\n",
    "    \n",
    "    def __init__(self, name, age, grade):\n",
    "        self.name = name\n",
    "        self.age = age\n",
    "        self.grade = grade\n"
   ]
  },
  {
   "cell_type": "markdown",
   "metadata": {
    "id": "qcq_S49haLbO"
   },
   "source": [
    "class attributes are attributes that have the same value for all class instances. You can define a class attribute by assigning a value to a variable name outside of `.__init__()`."
   ]
  },
  {
   "cell_type": "markdown",
   "metadata": {
    "id": "rw9beicDawra"
   },
   "source": [
    "| Feature        | Class Attribute                             | Instance Attribute                      |\n",
    "| -------------- | ------------------------------------------- | --------------------------------------- |\n",
    "| Defined at     | Class level                                 | Inside `__init__()` or instance methods |\n",
    "| Shared by      | All instances of the class                  | Unique to each instance                 |\n",
    "| Accessed using | `ClassName.attribute` or `object.attribute` | `object.attribute`                      |\n",
    "| Best used for  | Common values for all objects               | Values that vary for each object        |\n"
   ]
  },
  {
   "cell_type": "markdown",
   "metadata": {
    "id": "-vrxKAo5bUW3"
   },
   "source": [
    "---\n",
    "**💡How to instantiate a Class in Python?**"
   ]
  },
  {
   "cell_type": "markdown",
   "metadata": {
    "id": "V2d7zpLLbd_Q"
   },
   "source": [
    "Creating a new object from a class is called **instantiating a class**.\n",
    "\n",
    "You can create a new object by typing the name of the class, followed by opening and closing parentheses:"
   ]
  },
  {
   "cell_type": "code",
   "execution_count": 23,
   "metadata": {},
   "outputs": [],
   "source": [
    "class Student:\n",
    "  pass"
   ]
  },
  {
   "cell_type": "code",
   "execution_count": 24,
   "metadata": {},
   "outputs": [],
   "source": [
    "ramu = Student()"
   ]
  },
  {
   "cell_type": "code",
   "execution_count": 25,
   "metadata": {},
   "outputs": [
    {
     "name": "stdout",
     "output_type": "stream",
     "text": [
      "<class '__main__.Student'>\n"
     ]
    }
   ],
   "source": [
    "print(type(ramu))"
   ]
  },
  {
   "cell_type": "code",
   "execution_count": 26,
   "metadata": {},
   "outputs": [
    {
     "name": "stdout",
     "output_type": "stream",
     "text": [
      "True\n"
     ]
    }
   ],
   "source": [
    "print(isinstance(ramu, Student))  # True"
   ]
  },
  {
   "cell_type": "code",
   "execution_count": 14,
   "metadata": {},
   "outputs": [],
   "source": [
    "# Every instance is an object.\n",
    "# \"Instance\" is just a more specific word for \"an object of a class.\""
   ]
  },
  {
   "cell_type": "code",
   "execution_count": 27,
   "metadata": {
    "colab": {
     "base_uri": "https://localhost:8080/"
    },
    "id": "LobPur4EZUcz",
    "outputId": "cfa21173-9127-4bca-be16-401f2fc0c127"
   },
   "outputs": [
    {
     "data": {
      "text/plain": [
       "<__main__.Student at 0x16c9f32d6d0>"
      ]
     },
     "execution_count": 27,
     "metadata": {},
     "output_type": "execute_result"
    }
   ],
   "source": [
    "Student()"
   ]
  },
  {
   "cell_type": "markdown",
   "metadata": {
    "id": "lwkhEilgb17s"
   },
   "source": [
    "This funny-looking string of letters and numbers is a memory address that indicates where Python stores the Student object in your computer’s memory."
   ]
  },
  {
   "cell_type": "code",
   "execution_count": 28,
   "metadata": {
    "colab": {
     "base_uri": "https://localhost:8080/"
    },
    "id": "JMIU1mjMbrxR",
    "outputId": "3d2a8d6a-330f-4eeb-8be1-58110885ca8b"
   },
   "outputs": [
    {
     "data": {
      "text/plain": [
       "<__main__.Student at 0x16ca02f8e10>"
      ]
     },
     "execution_count": 28,
     "metadata": {},
     "output_type": "execute_result"
    }
   ],
   "source": [
    "Student()"
   ]
  },
  {
   "cell_type": "markdown",
   "metadata": {
    "id": "bsv2_k2Gb8l8"
   },
   "source": [
    "Address is different"
   ]
  },
  {
   "cell_type": "code",
   "execution_count": 29,
   "metadata": {
    "colab": {
     "base_uri": "https://localhost:8080/"
    },
    "id": "OaksRRU9br0K",
    "outputId": "490cb2eb-c2d0-44d9-f7b8-afd985ecc319"
   },
   "outputs": [
    {
     "data": {
      "text/plain": [
       "False"
      ]
     },
     "execution_count": 29,
     "metadata": {},
     "output_type": "execute_result"
    }
   ],
   "source": [
    "# Let's see something interesting\n",
    "a = Student()\n",
    "b = Student()\n",
    "a == b"
   ]
  },
  {
   "cell_type": "markdown",
   "metadata": {
    "id": "tVg9LXZAcVEQ"
   },
   "source": [
    "Even though a and b are both instances of the Student class, they represent two distinct objects in memory."
   ]
  },
  {
   "cell_type": "markdown",
   "metadata": {
    "id": "I0Ht-XNYcZqX"
   },
   "source": [
    "**💡Class and Instance Attributes**"
   ]
  },
  {
   "cell_type": "code",
   "execution_count": 41,
   "metadata": {
    "id": "-x8ZnYbAbr30"
   },
   "outputs": [],
   "source": [
    "class Student:\n",
    "    # Class member variable (shared by all instances)\n",
    "    school_name = \"KV\"\n",
    "    \n",
    "    def __init__(self, name, age, grade):\n",
    "        self.name = name\n",
    "        self.age = age\n",
    "        self.grade = grade\n"
   ]
  },
  {
   "cell_type": "code",
   "execution_count": 32,
   "metadata": {
    "colab": {
     "base_uri": "https://localhost:8080/"
    },
    "id": "2H8TK-7ecNsF",
    "outputId": "d6061fa0-81f8-4d9f-fd64-f2f42094f562"
   },
   "outputs": [
    {
     "ename": "TypeError",
     "evalue": "Student.__init__() missing 3 required positional arguments: 'name', 'age', and 'grade'",
     "output_type": "error",
     "traceback": [
      "\u001b[31m---------------------------------------------------------------------------\u001b[39m",
      "\u001b[31mTypeError\u001b[39m                                 Traceback (most recent call last)",
      "\u001b[36mCell\u001b[39m\u001b[36m \u001b[39m\u001b[32mIn[32]\u001b[39m\u001b[32m, line 2\u001b[39m\n\u001b[32m      1\u001b[39m \u001b[38;5;66;03m# instantiate this Computer class\u001b[39;00m\n\u001b[32m----> \u001b[39m\u001b[32m2\u001b[39m Student()\n",
      "\u001b[31mTypeError\u001b[39m: Student.__init__() missing 3 required positional arguments: 'name', 'age', and 'grade'"
     ]
    }
   ],
   "source": [
    "# instantiate this Computer class\n",
    "Student()"
   ]
  },
  {
   "cell_type": "code",
   "execution_count": 44,
   "metadata": {
    "id": "6w-zsZxrcu6_"
   },
   "outputs": [],
   "source": [
    "ramu = Student(\"Ramu\", 15, \"10th\") # Python creates a new instance of Student and passes it to the first parameter of .__init__()"
   ]
  },
  {
   "cell_type": "code",
   "execution_count": 35,
   "metadata": {},
   "outputs": [
    {
     "data": {
      "text/plain": [
       "<__main__.Student at 0x16ca02f9a90>"
      ]
     },
     "execution_count": 35,
     "metadata": {},
     "output_type": "execute_result"
    }
   ],
   "source": [
    "ramu"
   ]
  },
  {
   "cell_type": "markdown",
   "metadata": {
    "id": "dd83K8eqEgVq"
   },
   "source": [
    "**💡Access their instance attributes using dot notation**"
   ]
  },
  {
   "cell_type": "code",
   "execution_count": 36,
   "metadata": {
    "colab": {
     "base_uri": "https://localhost:8080/"
    },
    "id": "_Si4KlBkcu-G",
    "outputId": "18b8870a-fc99-429d-b0be-8404126f80c8"
   },
   "outputs": [
    {
     "name": "stdout",
     "output_type": "stream",
     "text": [
      "Ramu\n",
      "15\n",
      "10th\n"
     ]
    }
   ],
   "source": [
    "print(ramu.name)\n",
    "print(ramu.age)\n",
    "print(ramu.grade)"
   ]
  },
  {
   "cell_type": "code",
   "execution_count": 38,
   "metadata": {
    "colab": {
     "base_uri": "https://localhost:8080/"
    },
    "id": "I-26iW2jcvBk",
    "outputId": "d0abfc33-47d5-47aa-8428-4edf7782b899"
   },
   "outputs": [
    {
     "name": "stdout",
     "output_type": "stream",
     "text": [
      "KV\n",
      "KV\n"
     ]
    }
   ],
   "source": [
    "# accessing class attributes\n",
    "print(ramu.school_name) # using instance of class\n",
    "print(Student.school_name) # using class name"
   ]
  },
  {
   "cell_type": "markdown",
   "metadata": {
    "id": "gCmZc1C7FKEr"
   },
   "source": [
    "**💡Changing attribute values of an instance and class**"
   ]
  },
  {
   "cell_type": "code",
   "execution_count": 45,
   "metadata": {
    "colab": {
     "base_uri": "https://localhost:8080/"
    },
    "id": "kt30d-recNvJ",
    "outputId": "834ffbae-3dbc-4db3-da8c-2898915d3dff"
   },
   "outputs": [
    {
     "name": "stdout",
     "output_type": "stream",
     "text": [
      "old name is 10th\n",
      "new name is 11th\n"
     ]
    }
   ],
   "source": [
    "#changing the Instance attributes\n",
    "print(f'old name is {ramu.grade}')\n",
    "ramu.grade = \"11th\"\n",
    "print(f'new name is {ramu.grade}')"
   ]
  },
  {
   "cell_type": "code",
   "execution_count": 46,
   "metadata": {
    "colab": {
     "base_uri": "https://localhost:8080/"
    },
    "id": "dQaliGgZcNyH",
    "outputId": "cd951091-5f2a-4126-c8df-8edcfda763ac"
   },
   "outputs": [
    {
     "name": "stdout",
     "output_type": "stream",
     "text": [
      "old name is KV\n",
      "new name is KV NEW\n"
     ]
    }
   ],
   "source": [
    "# change the class attributes \n",
    "print(f'old name is {ramu.school_name}')\n",
    "ramu.school_name = \"KV NEW\"\n",
    "print(f'new name is {ramu.school_name}')"
   ]
  },
  {
   "cell_type": "code",
   "execution_count": 47,
   "metadata": {},
   "outputs": [
    {
     "name": "stdout",
     "output_type": "stream",
     "text": [
      "KV\n",
      "KV NEW\n"
     ]
    }
   ],
   "source": [
    "# No change in Class attribute value\n",
    "print(Student.school_name)\n",
    "\n",
    "# Class attribute value change in above case is very specific to object\n",
    "print(ramu.school_name)"
   ]
  },
  {
   "cell_type": "markdown",
   "metadata": {
    "id": "zI_VYF0AGWRd"
   },
   "source": [
    "The key takeaway here is that custom objects are mutable by default.\n",
    "\n",
    "---"
   ]
  },
  {
   "cell_type": "markdown",
   "metadata": {
    "id": "wllpndi1Gdu_"
   },
   "source": [
    "**💡 Instance Methods**"
   ]
  },
  {
   "cell_type": "markdown",
   "metadata": {
    "id": "KOsD6mqAGq3E"
   },
   "source": [
    "Instance methods are functions that you define inside a class and can only call on an instance of that class. Just like .`__init__()`, an instance method always takes self as its first parameter.\n"
   ]
  },
  {
   "cell_type": "code",
   "execution_count": 49,
   "metadata": {
    "id": "CvuyL02XcN1E"
   },
   "outputs": [],
   "source": [
    "class Student:\n",
    "    # Class member variable (shared by all instances)\n",
    "    school_name = \"KV\"\n",
    "    \n",
    "    def __init__(self, name, age, grade):\n",
    "        self.name = name\n",
    "        self.age = age\n",
    "        self.grade = grade\n",
    "\n",
    "    def display(self):\n",
    "        print(f\"Name: {self.name}, Age: {self.age}, Grade: {self.grade}\")"
   ]
  },
  {
   "cell_type": "code",
   "execution_count": 50,
   "metadata": {
    "id": "M7_H4CMJGKnU"
   },
   "outputs": [],
   "source": [
    "# Creating two objects (instances)\n",
    "rahul = Student(\"Rahul\", 15, \"10th\")\n",
    "aman = Student(\"Aman\", 16, \"11th\")"
   ]
  },
  {
   "cell_type": "code",
   "execution_count": 52,
   "metadata": {
    "colab": {
     "base_uri": "https://localhost:8080/"
    },
    "id": "3eG4iEDxGKq7",
    "outputId": "7225fc2f-dcc5-4f40-b7b4-8df3389e0a3b"
   },
   "outputs": [
    {
     "name": "stdout",
     "output_type": "stream",
     "text": [
      "Name: Rahul, Age: 15, Grade: 10th\n",
      "Name: Aman, Age: 16, Grade: 11th\n"
     ]
    }
   ],
   "source": [
    "# Displaying their info\n",
    "rahul.display()\n",
    "aman.display()"
   ]
  },
  {
   "cell_type": "code",
   "execution_count": 53,
   "metadata": {
    "colab": {
     "base_uri": "https://localhost:8080/"
    },
    "id": "RsH8N0WqGK0H",
    "outputId": "7681fb9f-21f3-4527-cd5d-1b47e3bf811f"
   },
   "outputs": [
    {
     "name": "stdout",
     "output_type": "stream",
     "text": [
      "<__main__.Student object at 0x0000016C9F502510>\n"
     ]
    }
   ],
   "source": [
    "print(rahul)"
   ]
  },
  {
   "cell_type": "markdown",
   "metadata": {
    "id": "nwoOIH95JJjd"
   },
   "source": [
    "When you print rahul, you get a cryptic-looking message telling you that rahul is a Student object at the memory address 0x0000016C9F502510.\n",
    "\n",
    "You can change what gets printed by defining a special instance method called `.__str__()`."
   ]
  },
  {
   "cell_type": "code",
   "execution_count": 54,
   "metadata": {},
   "outputs": [],
   "source": [
    "class Student:\n",
    "    # Class member variable (shared by all instances)\n",
    "    school_name = \"KV\"\n",
    "    \n",
    "    def __init__(self, name, age, grade):\n",
    "        self.name = name\n",
    "        self.age = age\n",
    "        self.grade = grade\n",
    "        \n",
    "    def __str__(self):\n",
    "        return f\"Your Details: name: {self.name}, age: {self.age}, Grade: {self.grade}\"\n",
    "        \n",
    "    def display(self):\n",
    "        print(f\"Name: {self.name}, Age: {self.age}, Grade: {self.grade}\")"
   ]
  },
  {
   "cell_type": "code",
   "execution_count": 56,
   "metadata": {
    "colab": {
     "base_uri": "https://localhost:8080/"
    },
    "id": "6A_EU6FqJVJ6",
    "outputId": "08c56d60-98c1-40d7-a3ad-ae582d0bf0a7"
   },
   "outputs": [
    {
     "name": "stdout",
     "output_type": "stream",
     "text": [
      "Your Details: name: Rahul, age: 15, Grade: 10th\n"
     ]
    }
   ],
   "source": [
    "rahul = Student(\"Rahul\", 15, \"10th\")\n",
    "print(rahul)"
   ]
  },
  {
   "cell_type": "markdown",
   "metadata": {
    "id": "FVqHv2fVJnyF"
   },
   "source": [
    "Methods like `.__init__()` and `.__str__()` are called dunder methods because they begin and end with double underscores. There are many dunder methods that you can use to customize classes in Python."
   ]
  },
  {
   "cell_type": "markdown",
   "metadata": {},
   "source": [
    "**💡 Class Methods**"
   ]
  },
  {
   "cell_type": "code",
   "execution_count": 3,
   "metadata": {},
   "outputs": [],
   "source": [
    "class Student:\n",
    "    # Class member variable (shared by all instances)\n",
    "    school_name = \"KV\"\n",
    "\n",
    "    def __init__(self, name, age, grade):\n",
    "        self.name = name\n",
    "        self.age = age\n",
    "        self.grade = grade\n",
    "        \n",
    "    def __str__(self):\n",
    "        return f\"Your Details: name: {self.name}, age: {self.age}, Grade: {self.grade}\"\n",
    "        \n",
    "    def display(self):\n",
    "        print(f\"Name: {self.name}, Age: {self.age}, Grade: {self.grade}\")\n",
    "\n",
    "    @classmethod\n",
    "    def change_school(cls, new_name):\n",
    "        cls.school_name = new_name"
   ]
  },
  {
   "cell_type": "code",
   "execution_count": 4,
   "metadata": {},
   "outputs": [],
   "source": [
    "aman =  Student(\"Aman\",15,\"11th\")"
   ]
  },
  {
   "cell_type": "code",
   "execution_count": 5,
   "metadata": {},
   "outputs": [],
   "source": [
    "aman.change_school(\"KV NEW 2\")"
   ]
  },
  {
   "cell_type": "code",
   "execution_count": 6,
   "metadata": {},
   "outputs": [
    {
     "name": "stdout",
     "output_type": "stream",
     "text": [
      "Your Details: name: Aman, age: 15, Grade: 11th\n"
     ]
    }
   ],
   "source": [
    "print(aman)"
   ]
  },
  {
   "cell_type": "code",
   "execution_count": 67,
   "metadata": {},
   "outputs": [],
   "source": [
    "Student.change_school(\"KV New\")"
   ]
  },
  {
   "cell_type": "code",
   "execution_count": 68,
   "metadata": {},
   "outputs": [
    {
     "data": {
      "text/plain": [
       "'KV New'"
      ]
     },
     "execution_count": 68,
     "metadata": {},
     "output_type": "execute_result"
    }
   ],
   "source": [
    "aman.school_name"
   ]
  },
  {
   "cell_type": "markdown",
   "metadata": {},
   "source": [
    "✅ cls lets the method access and modify class-level data."
   ]
  },
  {
   "cell_type": "markdown",
   "metadata": {},
   "source": [
    "**💡Object as Parameter**\n",
    "\n",
    "In Python, you can pass objects as parameters to functions or methods, allowing you to manipulate or interact with those objects within the function.\n",
    "\n",
    "When an object is passed as a parameter, the function receives a reference to the object, allowing it to access and modify the object's attributes.\n",
    "\n",
    "When you pass an object as a parameter, you're passing a reference to the object, so any changes made to the object's properties within the method will affect the original object outside the method as well.\n",
    "\n",
    "This is because the reference points to the same memory location where the object's data is stored."
   ]
  },
  {
   "cell_type": "code",
   "execution_count": 58,
   "metadata": {},
   "outputs": [
    {
     "name": "stdout",
     "output_type": "stream",
     "text": [
      "Name: Sanjeev\n",
      "Grade: A-\n"
     ]
    }
   ],
   "source": [
    "class Student:\n",
    "    def __init__(self, name, grade):\n",
    "        self.name = name\n",
    "        self.grade = grade\n",
    "\n",
    "    def display(self):\n",
    "        print(f\"Name: {self.name}\")\n",
    "        print(f\"Grade: {self.grade}\")\n",
    "\n",
    "# Function that accepts a Student object\n",
    "def print_student_details(student_obj):\n",
    "    student_obj.display()  # Accessing method of the passed object\n",
    "\n",
    "# Create a Student object\n",
    "s1 = Student(\"Sanjeev\", \"A-\")\n",
    "\n",
    "# Pass the object to the function\n",
    "print_student_details(s1)\n"
   ]
  },
  {
   "cell_type": "code",
   "execution_count": 60,
   "metadata": {},
   "outputs": [
    {
     "name": "stdout",
     "output_type": "stream",
     "text": [
      "Sanjeev's grade upgraded!\n",
      "Name: Sanjeev\n",
      "Grade: A+\n"
     ]
    }
   ],
   "source": [
    "def upgrade_grade(student_obj):\n",
    "    student_obj.grade = \"A+\"\n",
    "    print(f\"{student_obj.name}'s grade upgraded!\")\n",
    "\n",
    "upgrade_grade(s1)\n",
    "s1.display()"
   ]
  },
  {
   "cell_type": "markdown",
   "metadata": {
    "jp-MarkdownHeadingCollapsed": true
   },
   "source": [
    "---\n",
    "### **Lecture 7: Access Modifiers in Python**"
   ]
  },
  {
   "cell_type": "markdown",
   "metadata": {},
   "source": [
    "**Quick Recap of last lecture**\n",
    "```python\n",
    "First class\n",
    "Added Instance attributes and class attributes\n",
    "Added Instance methods and class methods\n",
    "create instance of the class\n",
    "accessing class and instance attributes\n",
    "```"
   ]
  },
  {
   "cell_type": "markdown",
   "metadata": {},
   "source": [
    "Access modifiers can (and should) be used for methods in object-oriented programming, including in Python, to control who can call the methods—just like with attributes.\n",
    "\n",
    "Python does not have explicit keywords like \"public,\" \"private,\" or \"protected\".\n",
    "\n",
    "Instead, It relies on naming conventions to indicate the intended visibility\n",
    "\n",
    "---"
   ]
  },
  {
   "cell_type": "markdown",
   "metadata": {},
   "source": [
    "1. Public (default): Members are accessible from anywhere, both within the class and outside the class.\n",
    "\n",
    "2. Protected (_single): Members are accessible within the class, within derived classes, and within the same module. However, they are considered conventionally private, and their use outside the class or module is discouraged.\n",
    "\n",
    "3. Private (__double): Members are accessible only within the class. They are not accessible in derived classes or outside the class.\n"
   ]
  },
  {
   "cell_type": "code",
   "execution_count": 24,
   "metadata": {},
   "outputs": [],
   "source": [
    "class Student:\n",
    "    # Class member variable (shared by all instances)\n",
    "    school_name = \"KV\"\n",
    "\n",
    "    def __init__(self, name, age, grade):\n",
    "        self.__name = name\n",
    "        self.age = age\n",
    "        self.grade = grade\n",
    "        \n",
    "    def __str__(self):\n",
    "        return f\"Your Details: name: {self.__name}, age: {self.age}, Grade: {self.grade}\"\n",
    "        \n",
    "    def display(self):\n",
    "        print(f\"Name: {self.__name}, Age: {self.age}, Grade: {self.grade}\")\n",
    "\n",
    "    @classmethod\n",
    "    def change_school(cls, new_name):\n",
    "        cls.school_name = new_name"
   ]
  },
  {
   "cell_type": "code",
   "execution_count": 25,
   "metadata": {},
   "outputs": [
    {
     "name": "stdout",
     "output_type": "stream",
     "text": [
      "Your Details: name: Ramu, age: 15, Grade: 10th\n"
     ]
    }
   ],
   "source": [
    "# Without access modifier - or default case\n",
    "ramu = Student(\"Ramu\",15,\"10th\")\n",
    "print(ramu)"
   ]
  },
  {
   "cell_type": "code",
   "execution_count": 30,
   "metadata": {},
   "outputs": [
    {
     "ename": "AttributeError",
     "evalue": "'Student' object has no attribute '__name'",
     "output_type": "error",
     "traceback": [
      "\u001b[31m---------------------------------------------------------------------------\u001b[39m",
      "\u001b[31mAttributeError\u001b[39m                            Traceback (most recent call last)",
      "\u001b[36mCell\u001b[39m\u001b[36m \u001b[39m\u001b[32mIn[30]\u001b[39m\u001b[32m, line 1\u001b[39m\n\u001b[32m----> \u001b[39m\u001b[32m1\u001b[39m ramu.__name\n",
      "\u001b[31mAttributeError\u001b[39m: 'Student' object has no attribute '__name'"
     ]
    }
   ],
   "source": [
    "ramu.__name"
   ]
  },
  {
   "cell_type": "markdown",
   "metadata": {},
   "source": [
    "NOTE: usually happens because you're trying to access a private attribute that is name-mangled by Python."
   ]
  },
  {
   "cell_type": "code",
   "execution_count": 12,
   "metadata": {},
   "outputs": [
    {
     "name": "stdout",
     "output_type": "stream",
     "text": [
      "Your Details: name: Ramu Singh, age: 15, Grade: 10th\n"
     ]
    }
   ],
   "source": [
    "#updating ramu - name\n",
    "ramu.name = \"Ramu Singh\"\n",
    "print(ramu)"
   ]
  },
  {
   "cell_type": "code",
   "execution_count": 22,
   "metadata": {},
   "outputs": [
    {
     "data": {
      "text/plain": [
       "'Ramu Singh'"
      ]
     },
     "execution_count": 22,
     "metadata": {},
     "output_type": "execute_result"
    }
   ],
   "source": [
    "ramu.name"
   ]
  },
  {
   "cell_type": "code",
   "execution_count": 23,
   "metadata": {},
   "outputs": [
    {
     "name": "stdout",
     "output_type": "stream",
     "text": [
      "Your Details: name: Ramu, age: 15, Grade: 10th\n"
     ]
    }
   ],
   "source": [
    "# After making name attribute as private\n",
    "ramu.__name = \"Ramu Singh\"\n",
    "print(ramu)"
   ]
  },
  {
   "cell_type": "markdown",
   "metadata": {},
   "source": [
    "**Types of Access Modifiers in Python (Convention Based)**\n",
    "\n",
    "| Modifier  | Syntax   | Accessibility                                        |\n",
    "| --------- | -------- | ---------------------------------------------------- |\n",
    "| Public    | `name`   | Accessible everywhere                                |\n",
    "| Protected | `_name`  | Accessible in class & subclass (by convention)       |\n",
    "| Private   | `__name` | Not accessible outside class directly (name mangled) |\n"
   ]
  },
  {
   "cell_type": "markdown",
   "metadata": {},
   "source": [
    "#### Why do we need Access Modifier ?\n",
    "\n",
    "1. Encapsulation and Data Hiding\n",
    "- Access modifiers restrict access to internal object details.\n",
    "- They protect internal states from being modified accidentally or maliciously."
   ]
  },
  {
   "cell_type": "code",
   "execution_count": 31,
   "metadata": {},
   "outputs": [],
   "source": [
    "class BankAccount:\n",
    "    def __init__(self):\n",
    "        self.__balance = 0  # private attribute\n",
    "\n",
    "    def deposit(self, amount):\n",
    "        if amount > 0:\n",
    "            self.__balance += amount\n",
    "\n",
    "    def get_balance(self):\n",
    "        return self.__balance\n"
   ]
  },
  {
   "cell_type": "code",
   "execution_count": 34,
   "metadata": {},
   "outputs": [
    {
     "name": "stdout",
     "output_type": "stream",
     "text": [
      "1000\n"
     ]
    },
    {
     "ename": "AttributeError",
     "evalue": "'BankAccount' object has no attribute '__balance'",
     "output_type": "error",
     "traceback": [
      "\u001b[31m---------------------------------------------------------------------------\u001b[39m",
      "\u001b[31mAttributeError\u001b[39m                            Traceback (most recent call last)",
      "\u001b[36mCell\u001b[39m\u001b[36m \u001b[39m\u001b[32mIn[34]\u001b[39m\u001b[32m, line 5\u001b[39m\n\u001b[32m      2\u001b[39m account.deposit(\u001b[32m1000\u001b[39m)\n\u001b[32m      3\u001b[39m \u001b[38;5;28mprint\u001b[39m(account.get_balance())  \u001b[38;5;66;03m# ✅ Output: 1000\u001b[39;00m\n\u001b[32m----> \u001b[39m\u001b[32m5\u001b[39m \u001b[38;5;28mprint\u001b[39m(account.__balance)\n",
      "\u001b[31mAttributeError\u001b[39m: 'BankAccount' object has no attribute '__balance'"
     ]
    }
   ],
   "source": [
    "account = BankAccount()\n",
    "account.deposit(1000)\n",
    "print(account.get_balance())  # ✅ Output: 1000\n",
    "\n",
    "print(account.__balance)      # ❌ Error: AttributeError"
   ]
  },
  {
   "cell_type": "markdown",
   "metadata": {},
   "source": [
    "NOTE:  Behind the scenes, Python renames __balance to _BankAccount__balance."
   ]
  },
  {
   "cell_type": "markdown",
   "metadata": {},
   "source": [
    "2. Improved Security\n",
    "- Prevents sensitive data from being exposed.\n",
    "- Ensures only authorized parts of the code can access or change data."
   ]
  },
  {
   "cell_type": "code",
   "execution_count": 35,
   "metadata": {},
   "outputs": [],
   "source": [
    "class User:\n",
    "    def __init__(self, username, password):\n",
    "        self.username = username\n",
    "        self.__password = password  # private\n",
    "\n",
    "    def check_password(self, input_password):\n",
    "        return self.__password == input_password\n"
   ]
  },
  {
   "cell_type": "code",
   "execution_count": 36,
   "metadata": {},
   "outputs": [
    {
     "name": "stdout",
     "output_type": "stream",
     "text": [
      "admin\n",
      "True\n"
     ]
    },
    {
     "ename": "AttributeError",
     "evalue": "'User' object has no attribute '__password'",
     "output_type": "error",
     "traceback": [
      "\u001b[31m---------------------------------------------------------------------------\u001b[39m",
      "\u001b[31mAttributeError\u001b[39m                            Traceback (most recent call last)",
      "\u001b[36mCell\u001b[39m\u001b[36m \u001b[39m\u001b[32mIn[36]\u001b[39m\u001b[32m, line 5\u001b[39m\n\u001b[32m      3\u001b[39m \u001b[38;5;28mprint\u001b[39m(u.username)              \u001b[38;5;66;03m# ✅ Accessible\u001b[39;00m\n\u001b[32m      4\u001b[39m \u001b[38;5;28mprint\u001b[39m(u.check_password(\u001b[33m\"\u001b[39m\u001b[33m1234\u001b[39m\u001b[33m\"\u001b[39m))  \u001b[38;5;66;03m# ✅ Output: True\u001b[39;00m\n\u001b[32m----> \u001b[39m\u001b[32m5\u001b[39m \u001b[38;5;28mprint\u001b[39m(u.__password)\n",
      "\u001b[31mAttributeError\u001b[39m: 'User' object has no attribute '__password'"
     ]
    }
   ],
   "source": [
    "u = User(\"admin\", \"1234\")\n",
    "\n",
    "print(u.username)              # ✅ Accessible\n",
    "print(u.check_password(\"1234\"))  # ✅ Output: True\n",
    "print(u.__password)            # ❌ Error: AttributeError"
   ]
  },
  {
   "cell_type": "markdown",
   "metadata": {},
   "source": [
    "3. Control Over Code Behavior\n",
    "- You can define how and when an object’s internal state is modified.\n",
    "- Example: only allow updating age if the new age is valid."
   ]
  },
  {
   "cell_type": "code",
   "execution_count": 37,
   "metadata": {},
   "outputs": [],
   "source": [
    "class Student:\n",
    "    def __init__(self, name, age):\n",
    "        self.name = name\n",
    "        self.__age = None\n",
    "        self.set_age(age)\n",
    "\n",
    "    def set_age(self, age):\n",
    "        if age >= 0:\n",
    "            self.__age = age\n",
    "        else:\n",
    "            print(\"Invalid age\")\n",
    "\n",
    "    def get_age(self):\n",
    "        return self.__age\n"
   ]
  },
  {
   "cell_type": "code",
   "execution_count": 38,
   "metadata": {},
   "outputs": [
    {
     "name": "stdout",
     "output_type": "stream",
     "text": [
      "20\n",
      "Invalid age\n",
      "20\n"
     ]
    }
   ],
   "source": [
    "s = Student(\"John\", 20)\n",
    "print(s.get_age())    # ✅ Output: 20\n",
    "\n",
    "s.set_age(-5)         # ⚠️ Output: Invalid age\n",
    "print(s.get_age())    # ✅ Output: 20"
   ]
  },
  {
   "cell_type": "markdown",
   "metadata": {},
   "source": [
    "4. Ease of Maintenance\n",
    "- Minimizes bugs by isolating code changes.\n",
    "- If implementation changes, the internal logic can be updated without affecting code that uses the class externally."
   ]
  },
  {
   "cell_type": "code",
   "execution_count": 39,
   "metadata": {},
   "outputs": [
    {
     "name": "stdout",
     "output_type": "stream",
     "text": [
      "50000\n"
     ]
    }
   ],
   "source": [
    "class Employee:\n",
    "    def __init__(self, name, basic_salary):\n",
    "        self.name = name\n",
    "        self.__basic_salary = basic_salary\n",
    "\n",
    "    def get_salary(self):\n",
    "        # Initially, salary = basic salary\n",
    "        return self.__basic_salary\n",
    "\n",
    "e = Employee(\"Alice\", 50000)\n",
    "print(e.get_salary())  # Output: 50000\n"
   ]
  },
  {
   "cell_type": "code",
   "execution_count": 40,
   "metadata": {},
   "outputs": [],
   "source": [
    "    def get_salary(self):\n",
    "        # Now salary includes a 10% bonus\n",
    "        return self.__basic_salary + (0.10 * self.__basic_salary)\n"
   ]
  },
  {
   "cell_type": "markdown",
   "metadata": {},
   "source": [
    "#### Access Modifiers for Methods in Python"
   ]
  },
  {
   "cell_type": "markdown",
   "metadata": {},
   "source": [
    "| Modifier  | Syntax           | Meaning                                 |\n",
    "| --------- | ---------------- | --------------------------------------- |\n",
    "| Public    | `def method()`   | Accessible from anywhere                |\n",
    "| Protected | `def _method()`  | Intended for internal or subclass use   |\n",
    "| Private   | `def __method()` | Not accessible directly (name mangling) |\n"
   ]
  },
  {
   "cell_type": "code",
   "execution_count": 41,
   "metadata": {},
   "outputs": [
    {
     "name": "stdout",
     "output_type": "stream",
     "text": [
      "This is private!\n"
     ]
    },
    {
     "ename": "AttributeError",
     "evalue": "'Secret' object has no attribute '__secret_method'",
     "output_type": "error",
     "traceback": [
      "\u001b[31m---------------------------------------------------------------------------\u001b[39m",
      "\u001b[31mAttributeError\u001b[39m                            Traceback (most recent call last)",
      "\u001b[36mCell\u001b[39m\u001b[36m \u001b[39m\u001b[32mIn[41]\u001b[39m\u001b[32m, line 10\u001b[39m\n\u001b[32m      8\u001b[39m s = Secret()\n\u001b[32m      9\u001b[39m s.access_secret()  \u001b[38;5;66;03m# ✅ Works\u001b[39;00m\n\u001b[32m---> \u001b[39m\u001b[32m10\u001b[39m s.__secret_method()\n",
      "\u001b[31mAttributeError\u001b[39m: 'Secret' object has no attribute '__secret_method'"
     ]
    }
   ],
   "source": [
    "class Secret:\n",
    "    def __secret_method(self):\n",
    "        print(\"This is private!\")\n",
    "\n",
    "    def access_secret(self):\n",
    "        self.__secret_method()\n",
    "\n",
    "s = Secret()\n",
    "s.access_secret()  # ✅ Works\n",
    "s.__secret_method()  # ❌ AttributeError\n"
   ]
  },
  {
   "cell_type": "markdown",
   "metadata": {},
   "source": [
    " Internally, __secret_method becomes _Secret__secret_method."
   ]
  },
  {
   "cell_type": "markdown",
   "metadata": {},
   "source": [
    "**SUMMARY :**\n",
    "\n",
    "While Python doesn’t enforce strict access control like Java or C++, it uses naming conventions to simulate access modifiers for methods:"
   ]
  },
  {
   "cell_type": "markdown",
   "metadata": {},
   "source": [
    "**In case of Inheritance**\n",
    "| Member Visibility| Public (default) | Protected (_single)              | Private (__double)  |\n",
    "|------------------|------------------|----------------------------------|---------------------|\n",
    "| In Base Class    | Accessible       | Accessible                       | Accessible          |\n",
    "| In Derived Class | Accessible       | Accessible within subclass/module| Not Accessible      |\n"
   ]
  },
  {
   "cell_type": "markdown",
   "metadata": {},
   "source": [
    "> **Python does not enforce strict access control. It relies on conventions and developer discipline.**\n",
    "\n",
    "---"
   ]
  },
  {
   "cell_type": "markdown",
   "metadata": {
    "jp-MarkdownHeadingCollapsed": true
   },
   "source": [
    "---\n",
    "### **Lecture 8: Getter and Setters in Python**"
   ]
  },
  {
   "cell_type": "markdown",
   "metadata": {},
   "source": [
    "**Quick Recap of last lecture**\n",
    "```python\n",
    "Python does not have explicit keywords like \"public,\" \"private,\" or \"protected\".\n",
    "Instead, It relies on naming conventions to indicate the intended visibility. \n",
    "name(public), _name(protected), __name(private)\n",
    "Access modifier is applicable for both attributes and methods\n",
    "Python doesn’t enforce strict access control like Java or C++, it uses naming conventions to simulate access modifiers for methods\n",
    "```"
   ]
  },
  {
   "cell_type": "markdown",
   "metadata": {},
   "source": [
    "In Python, getters and setters are used to access and modify private attributes of a class in a controlled way. They are part of encapsulation, a core OOP principle that helps in maintaining clean, modular, and safe code."
   ]
  },
  {
   "cell_type": "markdown",
   "metadata": {},
   "source": [
    "**AI/ML usecase of Getters and Setters**\n",
    "\n",
    "- Setting Input data Shape"
   ]
  },
  {
   "cell_type": "markdown",
   "metadata": {},
   "source": [
    "**Let's see getters and setters in simplest way**"
   ]
  },
  {
   "cell_type": "code",
   "execution_count": 20,
   "metadata": {},
   "outputs": [],
   "source": [
    "import numpy as np\n",
    "\n",
    "class DataLoader:\n",
    "    def __init__(self):\n",
    "        self._data = None  # internal attribute\n",
    "\n",
    "    def get_data(self):\n",
    "        return self._data\n",
    "\n",
    "    def set_data(self, arr):\n",
    "        if not isinstance(arr, np.ndarray):\n",
    "            raise TypeError(\"Data must be a NumPy array.\")\n",
    "        if arr.ndim != 2:\n",
    "            raise ValueError(\"Input data must be 2-dimensional.\")\n",
    "        print(f\"Data shape set to: {arr.shape}\")\n",
    "        self._data = arr\n"
   ]
  },
  {
   "cell_type": "code",
   "execution_count": null,
   "metadata": {},
   "outputs": [],
   "source": [
    "# In real ML pipelines, the wrong shape can crash models or silently produce incorrect results.\n",
    "# Catching errors early (during data loading) avoids wasting time on failed or flawed training runs.\n",
    "# You won't have to debug mysterious shape mismatch errors deep in model code."
   ]
  },
  {
   "cell_type": "code",
   "execution_count": 21,
   "metadata": {},
   "outputs": [
    {
     "name": "stdout",
     "output_type": "stream",
     "text": [
      "Data shape set to: (3, 4)\n",
      "[[1. 1. 1. 1.]\n",
      " [1. 1. 1. 1.]\n",
      " [1. 1. 1. 1.]]\n"
     ]
    }
   ],
   "source": [
    "loader = DataLoader()\n",
    "\n",
    "# Use setter explicitly\n",
    "loader.set_data(np.ones((3, 4)))\n",
    "\n",
    "# Use getter explicitly\n",
    "print(loader.get_data())\n"
   ]
  },
  {
   "cell_type": "markdown",
   "metadata": {},
   "source": [
    "**Let's see getters and setters using `property()`**"
   ]
  },
  {
   "cell_type": "code",
   "execution_count": 22,
   "metadata": {},
   "outputs": [],
   "source": [
    "# Let's see getters and setters using property()\n",
    "# Name the methods as get_<attribute> and set_<attribute>\n",
    "import numpy as np\n",
    "\n",
    "class DataLoader:\n",
    "    def __init__(self):\n",
    "        self._data = None # protected - intended to be private (convention, not enforced)\n",
    "\n",
    "    # This method is the getter for the _data attribute.\n",
    "    # When someone accesses loader.data, it internally calls get_data() and returns the value of _data.\n",
    "    def get_data(self):\n",
    "        return self._data\n",
    "\n",
    "    # This is the setter method. It allows you to set the value of data (with validation).\n",
    "    # It takes one argument: arr — the new data to assign.\n",
    "    def set_data(self, arr):\n",
    "        if not isinstance(arr, np.ndarray):\n",
    "            raise TypeError(\"Data must be a NumPy array.\")\n",
    "        if arr.ndim != 2:\n",
    "            raise ValueError(\"Input data must be 2-dimensional.\")\n",
    "        print(f\"Data shape set to: {arr.shape}\")\n",
    "        self._data = arr\n",
    "\n",
    "    # Create property\n",
    "    data = property(get_data, set_data)\n"
   ]
  },
  {
   "cell_type": "code",
   "execution_count": 23,
   "metadata": {},
   "outputs": [
    {
     "name": "stdout",
     "output_type": "stream",
     "text": [
      "Data shape set to: (3, 4)\n",
      "[[1. 1. 1. 1.]\n",
      " [1. 1. 1. 1.]\n",
      " [1. 1. 1. 1.]]\n"
     ]
    }
   ],
   "source": [
    "loader = DataLoader()\n",
    "\n",
    "# Set data\n",
    "loader.data = np.ones((3, 4))  # ✅ Works\n",
    "\n",
    "# Get data\n",
    "print(loader.data)             # ✅ Returns the array\n",
    "\n",
    "# Invalid input\n",
    "# loader.data = [1, 2, 3]      # ❌ Raises TypeError\n",
    "# loader.data = np.ones(3)     # ❌ Raises ValueError"
   ]
  },
  {
   "cell_type": "code",
   "execution_count": null,
   "metadata": {},
   "outputs": [],
   "source": [
    "# data = property(get_data, set_data)\n",
    "# This is the key line that turns get_data() and set_data() into a \"property\".\n",
    "# This allows you to use loader.data like an attribute, while still having getter and setter logic.\n",
    "# It’s equivalent to using @property and @data.setter decorators, but defined explicitly.\n"
   ]
  },
  {
   "cell_type": "markdown",
   "metadata": {},
   "source": [
    "`property()` is a built-in Python function that lets you bind getter, setter, and deleter functions to a class attribute. It allows you to control attribute access in an object-oriented and Pythonic way.\n",
    "\n",
    "```python\n",
    "property(fget=None, fset=None, fdel=None, doc=None)\n",
    "```\n",
    "| Argument | Meaning                                 |\n",
    "| -------- | --------------------------------------- |\n",
    "| `fget`   | Function to **get** the attribute value |\n",
    "| `fset`   | Function to **set** the attribute value |\n",
    "| `fdel`   | Function to **delete** the attribute    |\n",
    "| `doc`    | Optional docstring for the property     |\n"
   ]
  },
  {
   "cell_type": "markdown",
   "metadata": {},
   "source": [
    "**Let's see getters and setters using `@property()`**"
   ]
  },
  {
   "cell_type": "code",
   "execution_count": 17,
   "metadata": {},
   "outputs": [],
   "source": [
    "# Let's see Pythonic way of implementation\n",
    "import numpy as np\n",
    "\n",
    "class DataLoader:\n",
    "    def __init__(self):\n",
    "        self._data = None\n",
    "\n",
    "    @property\n",
    "    def data(self):\n",
    "        return self._data\n",
    "\n",
    "    @data.setter\n",
    "    def data(self, arr):\n",
    "        if not isinstance(arr, np.ndarray):\n",
    "            raise TypeError(\"Data must be a NumPy array.\")\n",
    "        if arr.ndim != 2:\n",
    "            raise ValueError(\"Input data must be 2-dimensional.\")\n",
    "        print(f\"Data shape set to: {arr.shape}\")\n",
    "        self._data = arr\n",
    "\n"
   ]
  },
  {
   "cell_type": "code",
   "execution_count": 18,
   "metadata": {},
   "outputs": [
    {
     "name": "stdout",
     "output_type": "stream",
     "text": [
      "Data shape set to: (100, 20)\n"
     ]
    }
   ],
   "source": [
    "# Example usage\n",
    "loader = DataLoader()\n",
    "loader.data = np.random.rand(100, 20)  # OK\n",
    "# loader.data = [1, 2, 3]              # Raises TypeError\n",
    "# loader.data = np.random.rand(100)   # Raises ValueError"
   ]
  },
  {
   "cell_type": "code",
   "execution_count": 5,
   "metadata": {},
   "outputs": [],
   "source": [
    "# In real ML pipelines, the wrong shape can crash models or silently produce incorrect results.\n",
    "# Catching errors early (during data loading) avoids wasting time on failed or flawed training runs.\n",
    "# You won't have to debug mysterious shape mismatch errors deep in model code."
   ]
  },
  {
   "cell_type": "markdown",
   "metadata": {},
   "source": [
    "The` @` symbol is used to apply a decorator to a function or method.\n",
    "\n",
    "A decorator is a function that:\n",
    "- Takes another function or method as input\n",
    "- Adds some extra behavior\n",
    "- Returns a modified function or method"
   ]
  },
  {
   "cell_type": "markdown",
   "metadata": {},
   "source": [
    "**`property()` Vs `@property`**\n",
    "| Feature     | `property()`                                    | `@property`                                      |\n",
    "| ----------- | ----------------------------------------------- | ------------------------------------------------ |\n",
    "| Flexibility | Explicit and good for dynamic property creation | More readable, idiomatic in Python               |\n",
    "| Use case    | Legacy code, dynamic behavior                   | Preferred in modern OOP Python                   |\n",
    "| Components  | `fget`, `fset`, `fdel`, `doc`                   | `@property`, `@<name>.setter`, `@<name>.deleter` |\n"
   ]
  },
  {
   "cell_type": "markdown",
   "metadata": {
    "jp-MarkdownHeadingCollapsed": true
   },
   "source": [
    "---\n",
    "### **Lecture 9: Decorator in Python**"
   ]
  },
  {
   "cell_type": "markdown",
   "metadata": {},
   "source": [
    "A decorator is just a function that takes another function and adds extra behavior to it — without changing the original function’s code.\n",
    "\n",
    "Think of it like wrapping a gift 🎁 — the gift is still inside, but now it has something extra on top."
   ]
  },
  {
   "cell_type": "markdown",
   "metadata": {},
   "source": [
    "**Hello-World Decorator Program**"
   ]
  },
  {
   "cell_type": "code",
   "execution_count": 7,
   "metadata": {},
   "outputs": [],
   "source": [
    "def say_hello():\n",
    "    print(\"Hello, world!\")"
   ]
  },
  {
   "cell_type": "code",
   "execution_count": 8,
   "metadata": {},
   "outputs": [],
   "source": [
    "def my_decorator(func): # my_decorator is a function that takes another function (func)\n",
    "    def wrapper(): # Inside, it defines a wrapper function that:\n",
    "        print(\"Before the function runs\")\n",
    "        func()\n",
    "        print(\"After the function runs\")\n",
    "    return wrapper # Then it returns the wrapper, not the original\n"
   ]
  },
  {
   "cell_type": "code",
   "execution_count": 9,
   "metadata": {},
   "outputs": [],
   "source": [
    "@my_decorator\n",
    "def say_hello(): # say_hello = my_decorator(say_hello)\n",
    "    print(\"Hello, world!\")"
   ]
  },
  {
   "cell_type": "code",
   "execution_count": 10,
   "metadata": {},
   "outputs": [
    {
     "name": "stdout",
     "output_type": "stream",
     "text": [
      "Before the function runs\n",
      "Hello, world!\n",
      "After the function runs\n"
     ]
    }
   ],
   "source": [
    "say_hello()"
   ]
  },
  {
   "cell_type": "code",
   "execution_count": 11,
   "metadata": {},
   "outputs": [
    {
     "name": "stdout",
     "output_type": "stream",
     "text": [
      "Data shape set to: (100, 20)\n"
     ]
    }
   ],
   "source": [
    "import numpy as np\n",
    "\n",
    "class DataLoader:\n",
    "    def __init__(self):\n",
    "        self._data = None\n",
    "\n",
    "    @property\n",
    "    def data(self):\n",
    "        return self._data\n",
    "\n",
    "    @data.setter\n",
    "    def data(self, arr):\n",
    "        if not isinstance(arr, np.ndarray):\n",
    "            raise TypeError(\"Data must be a NumPy array.\")\n",
    "        if arr.ndim != 2:\n",
    "            raise ValueError(\"Input data must be 2-dimensional.\")\n",
    "        print(f\"Data shape set to: {arr.shape}\")\n",
    "        self._data = arr\n",
    "\n",
    "# Example usage\n",
    "loader = DataLoader()\n",
    "loader.data = np.random.rand(100, 20)  # OK\n",
    "# loader.data = [1, 2, 3]              # Raises TypeError\n",
    "# loader.data = np.random.rand(100)   # Raises ValueError\n"
   ]
  },
  {
   "cell_type": "markdown",
   "metadata": {},
   "source": [
    "The `@` symbol is used to apply a decorator to a function or method.\n",
    "\n",
    "A decorator is a function that:\n",
    "- Takes another function or method as input\n",
    "- Adds some extra behavior\n",
    "- Returns a modified function or method"
   ]
  },
  {
   "cell_type": "markdown",
   "metadata": {},
   "source": [
    "**In Your Code: `@property` and `@data.setter`**\n",
    "These decorators are used to define getters and setters for the data attribute of your DataLoader class."
   ]
  },
  {
   "cell_type": "markdown",
   "metadata": {},
   "source": [
    "---\n",
    "**Step-by-Step Breakdown**"
   ]
  },
  {
   "cell_type": "code",
   "execution_count": null,
   "metadata": {},
   "outputs": [],
   "source": [
    "# 1. @property\n",
    "@property\n",
    "def data(self):\n",
    "    return self._data\n",
    "\n",
    "# This makes data() behave like a read-only attribute.\n",
    "# So now, you can access loader.data instead of calling loader.data()."
   ]
  },
  {
   "cell_type": "code",
   "execution_count": null,
   "metadata": {},
   "outputs": [],
   "source": [
    "# 2. @data.setter\n",
    "\n",
    "@data.setter\n",
    "def data(self, arr):\n",
    "    if not isinstance(arr, np.ndarray):\n",
    "        raise TypeError(\"Data must be a NumPy array.\")\n",
    "    if arr.ndim != 2:\n",
    "        raise ValueError(\"Input data must be 2-dimensional.\")\n",
    "    print(f\"Data shape set to: {arr.shape}\")\n",
    "    self._data = arr\n",
    "\n",
    "# This decorates the method to be the setter for the data property.\n",
    "# When you write loader.data = ..., it calls this method automatically.\n",
    "# Here, it performs type and shape checks, then assigns to _data."
   ]
  },
  {
   "cell_type": "markdown",
   "metadata": {},
   "source": [
    "**`property()` Vs `@property`**\n",
    "| Feature     | `property()`                                    | `@property`                                      |\n",
    "| ----------- | ----------------------------------------------- | ------------------------------------------------ |\n",
    "| Flexibility | Explicit and good for dynamic property creation | More readable, idiomatic in Python               |\n",
    "| Use case    | Legacy code, dynamic behavior                   | Preferred in modern OOP Python                   |\n",
    "| Components  | `fget`, `fset`, `fdel`, `doc`                   | `@property`, `@<name>.setter`, `@<name>.deleter` |\n"
   ]
  },
  {
   "cell_type": "markdown",
   "metadata": {
    "jp-MarkdownHeadingCollapsed": true
   },
   "source": [
    "---\n",
    "### **Lecture 10: Dunder Methods in Python**"
   ]
  },
  {
   "cell_type": "code",
   "execution_count": null,
   "metadata": {},
   "outputs": [],
   "source": [
    "# private attributes - getters and setters\n",
    "# 3 ways to implement - trivial, property(), @property\n",
    "# decorators - functions that takes another function and adds extra behavior to it \n"
   ]
  },
  {
   "cell_type": "code",
   "execution_count": null,
   "metadata": {},
   "outputs": [],
   "source": [
    "__init__\tObject constructor\n",
    "__str__\tString representation (print(obj))\n",
    "\n",
    "__getitem__\tIndexing (obj[0])\n",
    "__setitem__\tAssignment to index (obj[1] = x)\n",
    "\n",
    "__iter__()\tReturns the iterator object itself\n",
    "__next__() Returns the next value in the sequence"
   ]
  },
  {
   "cell_type": "markdown",
   "metadata": {},
   "source": [
    "Dunder methods (short for double underscore methods) are special methods in Python with names that start and end with double underscores, like `__init__`, `__str__`, etc.\n",
    "\n",
    "They're also known as:\n",
    "\n",
    "1. Magic methods\n",
    "\n",
    "2. Special methods\n",
    "\n",
    "These are special methods that let you customize the behavior of your objects when they interact with built-in Python syntax, operators, or functions."
   ]
  },
  {
   "cell_type": "markdown",
   "metadata": {},
   "source": [
    "They’re called “dunder” because their names start and end with double underscores, like __init__, __str__, or __add__.\n",
    "\n",
    "---"
   ]
  },
  {
   "cell_type": "markdown",
   "metadata": {},
   "source": [
    "Dunder methods \"hook into\" Python's built-in behaviors. Let's look into few examples:"
   ]
  },
  {
   "cell_type": "markdown",
   "metadata": {},
   "source": [
    "**1. Want to define how your object looks when printed? Use `__str__()`.**"
   ]
  },
  {
   "cell_type": "code",
   "execution_count": null,
   "metadata": {},
   "outputs": [],
   "source": [
    "# without __str__()\n",
    "class Book:\n",
    "    def __init__(self, title):\n",
    "        self.title = title\n",
    "\n",
    "b = Book(\"1984\")\n",
    "print(b)   # Output: Book: 1984"
   ]
  },
  {
   "cell_type": "code",
   "execution_count": null,
   "metadata": {},
   "outputs": [],
   "source": [
    "# with __str__()\n",
    "class Book:\n",
    "    def __init__(self, title):\n",
    "        self.title = title\n",
    "\n",
    "    def __str__(self):\n",
    "        return f\"Book: {self.title}\"\n",
    "\n",
    "b = Book(\"1984\")\n",
    "print(b)   # Output: Book: 1984"
   ]
  },
  {
   "cell_type": "markdown",
   "metadata": {},
   "source": [
    "**2. Want to define what happens when someone uses + on your object? Use `__add__()`.**"
   ]
  },
  {
   "cell_type": "code",
   "execution_count": null,
   "metadata": {},
   "outputs": [],
   "source": [
    "# without __add__()\n",
    "class Vector:\n",
    "    def __init__(self, x, y):\n",
    "        self.x = x\n",
    "        self.y = y\n",
    "\n",
    "    def __str__(self):\n",
    "        return f\"Vector({self.x}, {self.y})\"\n",
    "\n",
    "v1 = Vector(1, 2)\n",
    "v2 = Vector(3, 4)\n",
    "print(v1 + v2)  # Output: Vector(4, 6)\n"
   ]
  },
  {
   "cell_type": "code",
   "execution_count": null,
   "metadata": {},
   "outputs": [],
   "source": [
    "# with __add__()\n",
    "class Vector:\n",
    "    def __init__(self, x, y):\n",
    "        self.x = x\n",
    "        self.y = y\n",
    "\n",
    "    def __add__(self, other):\n",
    "        return Vector(self.x + other.x, self.y + other.y)\n",
    "\n",
    "    def __str__(self):\n",
    "        return f\"Vector({self.x}, {self.y})\"\n",
    "\n",
    "v1 = Vector(1, 2)\n",
    "v2 = Vector(3, 4)\n",
    "print(v1 + v2)  # Output: Vector(4, 6)\n"
   ]
  },
  {
   "cell_type": "markdown",
   "metadata": {},
   "source": [
    "**3. Want to control how len(obj) behaves? Use `__len__()`.**"
   ]
  },
  {
   "cell_type": "code",
   "execution_count": null,
   "metadata": {},
   "outputs": [],
   "source": [
    "# without __len__()\n",
    "class Basket:\n",
    "    def __init__(self, items):\n",
    "        self.items = items\n",
    "\n",
    "\n",
    "b = Basket(['apple', 'banana'])\n",
    "print(len(b))   # Output: 2\n"
   ]
  },
  {
   "cell_type": "code",
   "execution_count": null,
   "metadata": {},
   "outputs": [],
   "source": [
    "# with __len__()\n",
    "class Basket:\n",
    "    def __init__(self, items):\n",
    "        self.items = items\n",
    "\n",
    "    def __len__(self):\n",
    "        return len(self.items)\n",
    "\n",
    "b = Basket(['apple', 'banana'])\n",
    "print(len(b))   # Output: 2\n"
   ]
  },
  {
   "cell_type": "markdown",
   "metadata": {},
   "source": [
    "#### Some Common Dunder Methods\n",
    "\n",
    "| Dunder Method              | Purpose                              |\n",
    "| -------------------------- | ------------------------------------ |\n",
    "| `__init__`                 | Object constructor                   |\n",
    "| `__str__`                  | String representation (`print(obj)`) |\n",
    "| `__repr__`                 | Official string for debugging        |\n",
    "| `__len__`                  | Length (`len(obj)`)                  |\n",
    "| `__getitem__`              | Indexing (`obj[0]`)                  |\n",
    "| `__setitem__`              | Assignment to index (`obj[1] = x`)   |\n",
    "| `__eq__`, `__lt__`, etc.   | Comparisons (`==`, `<`, etc.)        |\n",
    "| `__add__`, `__sub__`, etc. | Arithmetic operations                |\n"
   ]
  },
  {
   "cell_type": "markdown",
   "metadata": {},
   "source": [
    "**What Does `__add__()` Do?**"
   ]
  },
  {
   "cell_type": "code",
   "execution_count": null,
   "metadata": {},
   "outputs": [],
   "source": [
    "# In Python, when you use the + operator like this: a + b\n",
    "# Python internally tries to call: a.__add__(b)\n",
    "# So, if you define a custom class and implement the __add__() method, you are telling Python how to \"add\" two objects\n",
    "# of your class. This is called operator overloading. -- Runtime Polymorphism\n",
    "# Python has default behavior for the + operator only for built-in types (like integers, strings, lists).\n",
    "# Your class doesn't support + by default. When you implement __add__(), you are providing that logic for your class.\n",
    "# So you’re not overwriting existing behavior, but rather:\n",
    "# 1. Adding support for + in your class\n",
    "# 2. Overriding the default \"unsupported operand\" error"
   ]
  },
  {
   "cell_type": "markdown",
   "metadata": {},
   "source": [
    "**Bonus:**\n",
    "\n",
    "`__iter__()` and `__next__()` are magic methods (also called dunder methods), just like `__add__()` and `__str__()`. These two are specifically used to make your object iterable, so it can be used in a for loop or with functions like `next()`.\n",
    "\n",
    "What they Do?\n",
    "\n",
    "| Method       | Purpose                                |\n",
    "| ------------ | -------------------------------------- |\n",
    "| `__iter__()` | Returns the iterator object itself     |\n",
    "| `__next__()` | Returns the next value in the sequence |\n"
   ]
  },
  {
   "cell_type": "code",
   "execution_count": null,
   "metadata": {},
   "outputs": [],
   "source": []
  },
  {
   "cell_type": "code",
   "execution_count": null,
   "metadata": {},
   "outputs": [],
   "source": []
  },
  {
   "cell_type": "code",
   "execution_count": null,
   "metadata": {},
   "outputs": [],
   "source": []
  },
  {
   "cell_type": "code",
   "execution_count": null,
   "metadata": {},
   "outputs": [],
   "source": []
  },
  {
   "cell_type": "code",
   "execution_count": null,
   "metadata": {},
   "outputs": [],
   "source": []
  },
  {
   "cell_type": "code",
   "execution_count": null,
   "metadata": {},
   "outputs": [],
   "source": []
  },
  {
   "cell_type": "code",
   "execution_count": null,
   "metadata": {},
   "outputs": [],
   "source": []
  },
  {
   "cell_type": "markdown",
   "metadata": {
    "id": "e9w_fmngO_3E",
    "jp-MarkdownHeadingCollapsed": true
   },
   "source": [
    "---\n",
    "### **Lecture 11: Static variables and Methods in Python**"
   ]
  },
  {
   "cell_type": "markdown",
   "metadata": {
    "id": "75DjC-HKStDN"
   },
   "source": [
    "**Static concepts in python**\n",
    "\n"
   ]
  },
  {
   "cell_type": "markdown",
   "metadata": {
    "id": "qGLYQ86kVXnV"
   },
   "source": [
    "In Python, the concept of **\"static\"** is not as explicit as in other languages like **Java**. However, similar behavior can be achieved using:\n",
    "\n",
    "1. Static Variables (Class Attributes): In Python, you can use class attributes to simulate static variables shared among all instances of a class.\n",
    "\n",
    "2. Static methods : You can use the `@staticmethod` decorator to define static methods that don't require access to the instance.\n",
    "\n",
    "---\n",
    "\n",
    "> 💡 While Python is dynamic and flexible, you can still apply static-like patterns when needed for utility code or shared logic.\n"
   ]
  },
  {
   "cell_type": "markdown",
   "metadata": {},
   "source": [
    "**Static Variables in Python**"
   ]
  },
  {
   "cell_type": "markdown",
   "metadata": {},
   "source": [
    "Static variables are class-level variables — shared across all instances of the class.\n",
    "\n",
    "We Implement Static Variable concept with - **Class Attributes**"
   ]
  },
  {
   "cell_type": "code",
   "execution_count": 58,
   "metadata": {
    "colab": {
     "base_uri": "https://localhost:8080/"
    },
    "id": "6n-YE8wQMYgn",
    "outputId": "c0671bfc-b83f-4505-d349-23dd071d1da0"
   },
   "outputs": [],
   "source": [
    "# Static Variables\n",
    "class Car:\n",
    "    wheels = 4  # Static variable (class attribute)\n",
    "\n",
    "    def __init__(self, brand):\n",
    "        self.brand = brand  # Instance attribute\n",
    "\n",
    "# Accessing\n",
    "car1 = Car(\"Toyota\")\n",
    "car2 = Car(\"Honda\")\n"
   ]
  },
  {
   "cell_type": "code",
   "execution_count": 4,
   "metadata": {},
   "outputs": [
    {
     "name": "stdout",
     "output_type": "stream",
     "text": [
      "4\n",
      "4\n",
      "4\n"
     ]
    }
   ],
   "source": [
    "# before any update\n",
    "print(car1.wheels)  # 4\n",
    "print(car2.wheels)  # 4\n",
    "print(Car.wheels) # 4"
   ]
  },
  {
   "cell_type": "code",
   "execution_count": 6,
   "metadata": {},
   "outputs": [
    {
     "name": "stdout",
     "output_type": "stream",
     "text": [
      "6\n",
      "6\n",
      "6\n"
     ]
    }
   ],
   "source": [
    "# updating using class name - and then reading again\n",
    "Car.wheels = 6\n",
    "\n",
    "#after updates\n",
    "print(car1.wheels)  # 6\n",
    "print(car2.wheels)  # 6\n",
    "print(Car.wheels) # 6"
   ]
  },
  {
   "cell_type": "markdown",
   "metadata": {},
   "source": [
    "- If you change wheels using class name, it updates for all."
   ]
  },
  {
   "cell_type": "code",
   "execution_count": 9,
   "metadata": {},
   "outputs": [
    {
     "name": "stdout",
     "output_type": "stream",
     "text": [
      "8\n",
      "6\n",
      "6\n"
     ]
    }
   ],
   "source": [
    "# updating using instance name - and then reading again\n",
    "car1.wheels = 8\n",
    "\n",
    "#after updates\n",
    "print(car1.wheels)  # 4\n",
    "print(car2.wheels)  # 6\n",
    "print(Car.wheels) # 6"
   ]
  },
  {
   "cell_type": "markdown",
   "metadata": {},
   "source": [
    "- But if you do car1.wheels = 8, it creates a new instance variable for car1 only.\n",
    "- **When you update a class attribute using an instance, Python does not actually update the class aatribute — instead, it creates a new instance attribute that shadows the class attribute only for that instance.**"
   ]
  },
  {
   "cell_type": "markdown",
   "metadata": {},
   "source": [
    "**Static Methods in Python**\n",
    "\n",
    "A `@staticmethod` in Python is a method inside a class that does not operate on an instance (`self`) or class (`cls`), and behaves like a regular function but lives inside a class for logical grouping."
   ]
  },
  {
   "cell_type": "code",
   "execution_count": 13,
   "metadata": {},
   "outputs": [
    {
     "name": "stdout",
     "output_type": "stream",
     "text": [
      "This is a static method.\n"
     ]
    }
   ],
   "source": [
    "#Static Methods\n",
    "class MyClass:\n",
    "    @staticmethod\n",
    "    def static_method():\n",
    "        print(\"This is a static method.\")\n",
    "\n",
    "# Calling the static method\n",
    "MyClass.static_method()"
   ]
  },
  {
   "cell_type": "markdown",
   "metadata": {},
   "source": [
    "A static method is a method that belongs to a class but does not take `self` or `cls` as the first argument.\n",
    "- Declared using `@staticmethod` decorator.\n",
    "- Can be called on the class or on an instance.\n",
    "- Cannot access or modify class or instance attributes.\n",
    "- It's just a regular function that is namespaced inside the class.\n",
    "\n",
    "When to Use?\n",
    "- Use when a method doesn't need access to instance (`self`) or class (`cls`) variables.\n",
    "\n",
    "Static Methods Usecase\n",
    "\n",
    "1. Utility fuctions\n",
    "2. Factory Methods"
   ]
  },
  {
   "cell_type": "code",
   "execution_count": 14,
   "metadata": {},
   "outputs": [
    {
     "name": "stdout",
     "output_type": "stream",
     "text": [
      "True\n",
      "16\n"
     ]
    }
   ],
   "source": [
    "# static method - as a utility functions\n",
    "# Perform helper tasks that are logically related to a class, but don't require access to self (instance) or cls (class).\n",
    "\n",
    "class MathHelper:\n",
    "    @staticmethod\n",
    "    def is_even(n):\n",
    "        return n % 2 == 0\n",
    "\n",
    "    @staticmethod\n",
    "    def square(x):\n",
    "        return x * x\n",
    "\n",
    "# Usage\n",
    "print(MathHelper.is_even(10))   # True\n",
    "print(MathHelper.square(4))     # 16\n"
   ]
  },
  {
   "cell_type": "code",
   "execution_count": null,
   "metadata": {},
   "outputs": [],
   "source": [
    "# static method - as Factory Methods\n",
    "# A factory method is a method that creates and returns new instances (objects), often abstracting or hiding the details \n",
    "# of how those instances are created.\n",
    "# 1. Control or customize object creation.\n",
    "# 2. Hide or abstract construction logic.\n",
    "# 3. Useful for validations, alternative constructors, or multiple input formats.\n",
    "\n",
    "class User:\n",
    "    def __init__(self, name, age):\n",
    "        self.name = name\n",
    "        self.age = age\n",
    "\n",
    "    @staticmethod\n",
    "    def create(name, age):\n",
    "        if age < 18:\n",
    "            raise ValueError(\"User must be at least 18 years old\")\n",
    "        return User(name, age)\n",
    "\n",
    "# Usage\n",
    "user1 = User.create(\"Alice\", 25)\n",
    "print(user1.name)  # Alice\n"
   ]
  },
  {
   "cell_type": "markdown",
   "metadata": {},
   "source": [
    "NOTE:\n",
    "\n",
    "Python does not support true private constructors like Java or C++\n",
    "\n",
    "So as per Python, while you can't make a constructor (`__init__`) private, you can restrict or discourage its direct use."
   ]
  },
  {
   "cell_type": "markdown",
   "metadata": {},
   "source": [
    "**Static Vs Class Vs Instance Methods**"
   ]
  },
  {
   "cell_type": "code",
   "execution_count": 11,
   "metadata": {},
   "outputs": [],
   "source": [
    "class Person:\n",
    "    species = \"Homo sapiens\"  # Class attribute\n",
    "\n",
    "    def __init__(self, name, age):\n",
    "        self.name = name        # Instance attribute\n",
    "        self.age = age\n",
    "\n",
    "    # Instance Method: has access to self (object)\n",
    "    def greet(self):\n",
    "        return f\"Hi, I'm {self.name} and I'm {self.age} years old.\"\n",
    "\n",
    "    # Class Method: has access to cls (class)\n",
    "    @classmethod\n",
    "    def get_species(cls):\n",
    "        return f\"We are {cls.species}.\"\n",
    "\n",
    "    # Static Method: no access to self or cls\n",
    "    @staticmethod\n",
    "    def is_adult(age):\n",
    "        return age >= 18\n"
   ]
  },
  {
   "cell_type": "code",
   "execution_count": 12,
   "metadata": {},
   "outputs": [
    {
     "name": "stdout",
     "output_type": "stream",
     "text": [
      "Hi, I'm Alice and I'm 22 years old.\n",
      "We are Homo sapiens.\n",
      "We are Homo sapiens.\n",
      "True\n",
      "False\n"
     ]
    }
   ],
   "source": [
    "# Creating an instance\n",
    "p1 = Person(\"Alice\", 22)\n",
    "\n",
    "# 1. Instance method call → works on an object\n",
    "print(p1.greet())          # Hi, I'm Alice and I'm 22 years old.\n",
    "\n",
    "# 2. Class method call → can be called via class or object\n",
    "print(Person.get_species()) # We are Homo sapiens\n",
    "print(p1.get_species())     # Also works\n",
    "\n",
    "# 3. Static method call → no object/class state used\n",
    "print(Person.is_adult(22))  # True\n",
    "print(p1.is_adult(15))      # Also works\n"
   ]
  },
  {
   "cell_type": "markdown",
   "metadata": {},
   "source": [
    "**Summary Table**\n",
    "\n",
    "  | Feature              | Instance Method         | Class Method               | Static Method                      |\n",
    "| -------------------- | ----------------------- | -------------------------- | ---------------------------------- |\n",
    "| Decorator            | *(None)*                | `@classmethod`             | `@staticmethod`                    |\n",
    "| First Arg            | `self`                  | `cls`                      | No special first argument          |\n",
    "| Access instance vars | ✅ Yes                   | ❌ No                       | ❌ No                               |\n",
    "| Access class vars    | ✅ Yes                   | ✅ Yes                      | ❌ No                               |\n",
    "| Typical Use Case     | Work with instance data | Work with class-level data | Utility functions, factory methods |\n"
   ]
  },
  {
   "cell_type": "markdown",
   "metadata": {
    "jp-MarkdownHeadingCollapsed": true
   },
   "source": [
    "---\n",
    "### **Lecture 12: Constructor & Object Creation in Python**"
   ]
  },
  {
   "cell_type": "markdown",
   "metadata": {},
   "source": [
    "A constructor is a special method that is automatically called when an object is created. It is used to initialize the instance variables (attributes) of the class.\n",
    "\n",
    "Python technically has two special methods related to object creation:\n",
    "\n",
    "| Method       | Purpose                                   |\n",
    "| ------------ | ----------------------------------------- |\n",
    "| `__new__()`  | Creates a new instance (allocates memory) |\n",
    "| `__init__()` | Initializes the new instance              |\n"
   ]
  },
  {
   "cell_type": "markdown",
   "metadata": {},
   "source": [
    "**Step-by-Step Flow of Object Creation**\n",
    "\n",
    "Let’s understand how object creation works in Python:\n",
    "\n",
    "Step 1: `__new__` is called\n",
    "- It creates and returns a new instance.\n",
    "- It is a static method of the class (often inherited from object).\n",
    "- Rarely overridden unless you're doing advanced work (like with immutable types or metaclasses).\n",
    "\n",
    "Step 2: `__init__` is called\n",
    "- It initializes the instance returned by `__new__`.\n",
    "- It sets up initial values (state) of the object."
   ]
  },
  {
   "cell_type": "code",
   "execution_count": 53,
   "metadata": {},
   "outputs": [
    {
     "name": "stdout",
     "output_type": "stream",
     "text": [
      "Inside __init__\n",
      "Sanjeev 101\n"
     ]
    }
   ],
   "source": [
    "#  Example 1: Basic Constructor with __init__\n",
    "class Student:\n",
    "    def __init__(self, name, roll):\n",
    "        print(\"Inside __init__\")\n",
    "        self.name = name\n",
    "        self.roll = roll\n",
    "\n",
    "s1 = Student(\"Sanjeev\", 101)\n",
    "print(s1.name, s1.roll)\n"
   ]
  },
  {
   "cell_type": "code",
   "execution_count": 54,
   "metadata": {},
   "outputs": [
    {
     "data": {
      "text/plain": [
       "'\\nIn above Example 1\\nOnly __init__ is defined.\\n__new__ is implicitly used (inherited from object).\\n'"
      ]
     },
     "execution_count": 54,
     "metadata": {},
     "output_type": "execute_result"
    }
   ],
   "source": [
    "\"\"\"\n",
    "In above Example 1\n",
    "Only __init__ is defined.\n",
    "__new__ is implicitly used (inherited from object).\n",
    "\"\"\""
   ]
  },
  {
   "cell_type": "code",
   "execution_count": 55,
   "metadata": {},
   "outputs": [
    {
     "name": "stdout",
     "output_type": "stream",
     "text": [
      "Inside __new__\n",
      "Inside __init__\n"
     ]
    }
   ],
   "source": [
    "# Example 2: Using __new__ and __init__ Together\n",
    "class Student:\n",
    "    def __new__(cls, *args, **kwargs):\n",
    "        print(\"Inside __new__\")\n",
    "        instance = super().__new__(cls)\n",
    "        return instance\n",
    "\n",
    "    def __init__(self, name, roll):\n",
    "        print(\"Inside __init__\")\n",
    "        self.name = name\n",
    "        self.roll = roll\n",
    "\n",
    "s1 = Student(\"Sanjeev\", 202)\n"
   ]
  },
  {
   "cell_type": "code",
   "execution_count": null,
   "metadata": {},
   "outputs": [],
   "source": [
    "\"\"\"\n",
    "In above examples\n",
    "__new__ is called first → creates the object.\n",
    "__init__ is called next → initializes the object.\n",
    "\"\"\""
   ]
  },
  {
   "cell_type": "markdown",
   "metadata": {},
   "source": [
    "**Python does not support private constructors like Java/C++, but you can simulate it using `__new__()`**\n",
    "\n",
    "It means you can't prevent someone from writing Singleton(). But we can add logic in __new__() that a new object won't be created second time. so it behaves like a private constructor."
   ]
  },
  {
   "cell_type": "code",
   "execution_count": 56,
   "metadata": {},
   "outputs": [
    {
     "name": "stdout",
     "output_type": "stream",
     "text": [
      "Creating new instance\n",
      "True\n"
     ]
    }
   ],
   "source": [
    "# Problem 1: To create a class (Singleton) that ensures only one object is created, \n",
    "# no matter how many times the class is instantiated\n",
    "\n",
    "class Singleton:\n",
    "    _instance = None\n",
    "\n",
    "    def __new__(cls):\n",
    "        if cls._instance is None:\n",
    "            print(\"Creating new instance\")\n",
    "            # super() gives you access to methods from the base (parent) class. \n",
    "            # In this case, the base class is object (the root of all classes in Python).\n",
    "            # So, super().__new__(cls) is calling: object.__new__(cls)\n",
    "            # which creates a fresh instance of the class cls.\n",
    "            # cls is the class itself (not an instance).\n",
    "            # _instance is a class variable used to store the one and only object.\n",
    "            cls._instance = super().__new__(cls)\n",
    "        return cls._instance\n",
    "\n",
    "a = Singleton()\n",
    "b = Singleton()\n",
    "print(a is b)  # True\n",
    "\n"
   ]
  },
  {
   "cell_type": "markdown",
   "metadata": {},
   "source": [
    "**Explanation**\n",
    "```python\n",
    "✅ __new__ controls object creation\n",
    "Python calls __new__ before __init__.\n",
    "It creates the object and returns it.\n",
    "\n",
    "✅ Singleton logic\n",
    "cls._instance is a class variable used to store the one-and-only instance.\n",
    "First time: _instance is None, so:\n",
    "    super().__new__(cls) creates a new object.\n",
    "    It is saved in _instance.\n",
    "Subsequent times: _instance is already set, so:\n",
    "    The same object is returned again.\n",
    "\n",
    "✅ a is b\n",
    "Both a and b refer to the same memory location.\n",
    "print(a is b) → True\n",
    "```"
   ]
  },
  {
   "cell_type": "markdown",
   "metadata": {
    "jp-MarkdownHeadingCollapsed": true
   },
   "source": [
    "---\n",
    "### **Lecture 13: Copy Constructor in Python**"
   ]
  },
  {
   "cell_type": "markdown",
   "metadata": {
    "id": "uxp5JEOELJ5S"
   },
   "source": [
    "**Copy Constructor**\n",
    "\n",
    "A copy constructor is a special constructor that creates a new object by copying the attributes of an existing object.\n",
    "\n",
    "1. In Python, you can implement a copy constructor using a special method called `__copy__`\n",
    "\n",
    "2. Using `copy` module"
   ]
  },
  {
   "cell_type": "code",
   "execution_count": 45,
   "metadata": {
    "id": "eGRvve0lGnrH"
   },
   "outputs": [],
   "source": [
    "\"\"\"\n",
    "Method 1: Custom Copy Constructor\n",
    "1. In Python, you can implement a copy constructor using a special method called __copy__\n",
    "2. The __copy__ method in Python is a special (magic) method used to control how a shallow copy of an object is made using the \n",
    "copy.copy() function.\n",
    "3. creates a shallow copy\n",
    "\"\"\"\n",
    "\n",
    "class Student:\n",
    "    def __init__(self, name, marks):\n",
    "        self.name = name\n",
    "        self.marks = marks\n",
    "\n",
    "    # Copy constructor\n",
    "    def __copy__(self):\n",
    "        new_object = type(self)(self.name, self.marks)\n",
    "        return new_object\n"
   ]
  },
  {
   "cell_type": "code",
   "execution_count": 46,
   "metadata": {
    "colab": {
     "base_uri": "https://localhost:8080/"
    },
    "id": "aAxIKTdpMYVX",
    "outputId": "fceec83f-1a92-4631-db13-39900cb8cd07"
   },
   "outputs": [
    {
     "name": "stdout",
     "output_type": "stream",
     "text": [
      "Original Object: name=Sanjeev, marks=[90, 80]\n",
      "Copied Object: name=Sanjeev, marks=[90, 80]\n",
      "\n",
      "Original Object: name=Raju, marks=[90, 80, 20]\n",
      "Copied Object: name=Sanjeev, marks=[90, 80, 20]\n"
     ]
    }
   ],
   "source": [
    "# Creating an object of MyClass\n",
    "original_obj = Student(\"Sanjeev\", [90,80])\n",
    "\n",
    "# Using the copy constructor to create a new object\n",
    "copied_obj = original_obj.__copy__()\n",
    "\n",
    "# before update\n",
    "print(\"Original Object: name={}, marks={}\".format(original_obj.name, original_obj.marks))\n",
    "print(\"Copied Object: name={}, marks={}\".format(copied_obj.name, copied_obj.marks))\n",
    "\n",
    "#updating the value\n",
    "original_obj.name = \"Raju\"\n",
    "original_obj.marks.append(20)\n",
    "\n",
    "# after update\n",
    "print(\"\\nOriginal Object: name={}, marks={}\".format(original_obj.name, original_obj.marks))\n",
    "print(\"Copied Object: name={}, marks={}\".format(copied_obj.name, copied_obj.marks))\n"
   ]
  },
  {
   "cell_type": "code",
   "execution_count": 47,
   "metadata": {},
   "outputs": [
    {
     "name": "stdout",
     "output_type": "stream",
     "text": [
      "Original Object's name ID: 2377827420752\n",
      "Original Object's marks ID: 2377828407936\n",
      "\n",
      "Copied Object's name ID: 2377814378416\n",
      "Copied Object's marks ID: 2377828407936\n"
     ]
    }
   ],
   "source": [
    "print(f\"Original Object's name ID: {id(original_obj.name)}\")\n",
    "print(f\"Original Object's marks ID: {id(original_obj.marks)}\")\n",
    "\n",
    "print(f\"\\nCopied Object's name ID: {id(copied_obj.name)}\")\n",
    "print(f\"Copied Object's marks ID: {id(copied_obj.marks)}\")"
   ]
  },
  {
   "cell_type": "code",
   "execution_count": 49,
   "metadata": {
    "colab": {
     "base_uri": "https://localhost:8080/"
    },
    "id": "M7D0SS88MYbE",
    "outputId": "133785f0-b930-40a0-a581-d2e15607974c"
   },
   "outputs": [],
   "source": [
    "\"\"\"\n",
    "Method 2: Using copy Module\n",
    "Python provides a copy module with two functions:\n",
    "\n",
    "copy.copy() → Shallow copy\n",
    "copy.deepcopy() → Deep copy\n",
    "\n",
    "\"\"\"\n",
    "\n",
    "import copy\n",
    "\n",
    "class Student:\n",
    "    def __init__(self, name, marks):\n",
    "        self.name = name\n",
    "        self.marks = marks\n",
    "\n",
    "#creating an instance\n",
    "s1 = Student(\"Sanjeev\", [90, 80])\n",
    "# Shallow copy\n",
    "s2 = copy.copy(s1)\n",
    "# Deep copy\n",
    "s3 = copy.deepcopy(s1)"
   ]
  },
  {
   "cell_type": "code",
   "execution_count": 51,
   "metadata": {},
   "outputs": [
    {
     "name": "stdout",
     "output_type": "stream",
     "text": [
      "s1(original Instance) details- name:Raju at 2377827420752, marks:[90, 80, 100] at 2377828341888\n",
      "s2(Shallow Instance) details- name:Sanjeev at 2377814378416, marks:[90, 80, 100] at 2377828341888\n",
      "s3(deep Instance) details- name:Sanjeev at 2377814378416, marks:[90, 80] at 2377828407360\n",
      "\n",
      "s1(original Instance) details- name:Raju at 2377827420752, marks:[90, 80, 100, 100] at 2377828341888\n",
      "s2(Shallow Instance) details- name:Sanjeev at 2377814378416, marks:[90, 80, 100, 100] at 2377828341888\n",
      "s3(deep Instance) details- name:Sanjeev at 2377814378416, marks:[90, 80] at 2377828407360\n"
     ]
    }
   ],
   "source": [
    "print(f\"s1(original Instance) details- name:{s1.name} at {id(s1.name)}, marks:{s1.marks} at {id(s1.marks)}\")\n",
    "print(f\"s2(Shallow Instance) details- name:{s2.name} at {id(s2.name)}, marks:{s2.marks} at {id(s2.marks)}\")\n",
    "print(f\"s3(deep Instance) details- name:{s3.name} at {id(s3.name)}, marks:{s3.marks} at {id(s3.marks)}\")\n",
    "\n",
    "# Changing data in s1 (Original Instance)\n",
    "s1.marks.append(100)\n",
    "s1.name = \"Raju\"\n",
    "\n",
    "print(f\"\\ns1(original Instance) details- name:{s1.name} at {id(s1.name)}, marks:{s1.marks} at {id(s1.marks)}\")\n",
    "print(f\"s2(Shallow Instance) details- name:{s2.name} at {id(s2.name)}, marks:{s2.marks} at {id(s2.marks)}\")\n",
    "print(f\"s3(deep Instance) details- name:{s3.name} at {id(s3.name)}, marks:{s3.marks} at {id(s3.marks)}\")"
   ]
  },
  {
   "cell_type": "markdown",
   "metadata": {
    "jp-MarkdownHeadingCollapsed": true
   },
   "source": [
    "---\n",
    "### **Lecture 14: Hands-On OOPs Concept : Pizza Analogy**"
   ]
  },
  {
   "cell_type": "markdown",
   "metadata": {
    "id": "oPwKWff2xWCY",
    "jp-MarkdownHeadingCollapsed": true
   },
   "source": [
    "\n",
    "We’ll learn the key concepts of OOP with the example of a **Pizza**.\n",
    "\n",
    "#### Class → Blueprint\n",
    "\n",
    "Think of a **Pizza Recipe** as a class. It’s just the **instructions**, not a real pizza.\n",
    "\n",
    "It’s a **blueprint** that tells you how to make a pizza — what ingredients to use and how to cook it.\n",
    "\n",
    "```python\n",
    "class Pizza:\n",
    "    def __init__(self, size, toppings):\n",
    "        self.size = size\n",
    "        self.toppings = toppings\n",
    "\n",
    "    def bake(self):\n",
    "        print(f\"Baking a {self.size} pizza with {', '.join(self.toppings)}.\")\n",
    "\n",
    "    def serve(self):\n",
    "        print(\"Pizza is ready to serve!\")\n",
    "\n",
    "```\n",
    "\n",
    "#### Object → Actual Pizza\n",
    "\n",
    "Now when you follow the recipe and actually make a pizza, that’s an object.\n",
    "\n",
    "```python\n",
    "my_pizza = Pizza(\"Medium\", [\"Cheese\", \"Olives\"])\n",
    "\n",
    "```\n",
    "\n",
    "#### Attributes → Pizza Details\n",
    "\n",
    "These are like the **ingredients or properties** of the pizza:\n",
    "\n",
    "- Size (Small, Medium, Large)\n",
    "- Toppings (Cheese, Veggies, Paneer, etc.)\n",
    "\n",
    "```python\n",
    "my_pizza.size        # \"Medium\"\n",
    "my_pizza.toppings    # [\"Cheese\", \"Olives\"]\n",
    "\n",
    "```\n",
    "\n",
    "#### Methods → Actions on Pizza\n",
    "These are the **things you can do** with a pizza:\n",
    "- bake()\n",
    "- slice()\n",
    "- serve()\n",
    "\n",
    "They are written as functions inside the class:\n",
    "\n",
    "```python\n",
    "def bake(self):\n",
    "    print(f\"Baking a {self.size} pizza with {', '.join(self.toppings)}.\")\n",
    "\n",
    "def serve(self):\n",
    "    print(\"Pizza is ready to serve!\")\n",
    "```\n",
    "\n",
    "#### Constructor __init__() → Making the Pizza\n",
    "\n",
    "When you call the recipe with your own size and toppings, Python uses the **__init__()** method to create a fresh pizza object.\n",
    "\n",
    "```python\n",
    "def __init__(self, size, toppings):\n",
    "    self.size = size\n",
    "    self.toppings = toppings\n",
    "```\n",
    "\n",
    "#### self → The current pizza you're working on\n",
    "\n",
    "Inside the class, self refers to the pizza being made.\n",
    "It helps keep track of which object you’re working with.\n",
    "\n",
    "\n",
    "#### Summary\n",
    "\n",
    "<div align=\"center\">\n",
    "\n",
    "| OOP Concept     | Pizza Example                         | Python Code                       |\n",
    "|------------------|----------------------------------------|------------------------------------|\n",
    "| Class            | Pizza Recipe                          | `class Pizza:`                     |\n",
    "| Object           | Real Pizza made from recipe           | `my_pizza = Pizza(...)`            |\n",
    "| Attributes       | Size, Toppings                        | `self.size`, `self.toppings`       |\n",
    "| Methods          | Bake, Slice, Serve                    | `def bake(self): ...`              |\n",
    "| Constructor      | Making the pizza                      | `def __init__(self): ...`          |\n",
    "| `self`           | The pizza being made or used          | `self.size`, `self.bake()`         |\n",
    "\n",
    "</div>\n",
    "\n"
   ]
  },
  {
   "cell_type": "markdown",
   "metadata": {
    "id": "0P-TT0JY0VAJ"
   },
   "source": [
    "#### Class → Blueprint\n",
    "\n",
    "Think of a **Pizza Recipe** as a class. It’s just the **instructions**, not a real pizza.\n",
    "\n",
    "```python\n",
    "class Pizza:\n",
    "    def __init__(self, size, toppings):\n",
    "        self.size = size\n",
    "        self.toppings = toppings\n",
    "\n",
    "    def bake(self):\n",
    "        print(f\"Baking a {self.size} pizza with {', '.join(self.toppings)}.\")\n",
    "\n",
    "    def serve(self):\n",
    "        print(\"Pizza is ready to serve!\")\n",
    "```"
   ]
  },
  {
   "cell_type": "code",
   "execution_count": 39,
   "metadata": {
    "id": "zN3Llljnl2s8"
   },
   "outputs": [],
   "source": [
    "\"\"\"\n",
    "Problem 1: Create a Pizza class with below details\n",
    "\n",
    "Member Attributes:\n",
    "1. Size\n",
    "2. Toppings\n",
    "\n",
    "Member Functions:\n",
    "1. bake()\n",
    "2. Serve()\n",
    "\n",
    "\"\"\"\n",
    "class Pizza:\n",
    "    def __init__(self, size, toppings):\n",
    "        self.size = size\n",
    "        self.toppings = toppings\n",
    "\n",
    "    def __str__(self):\n",
    "        return f\"{self.size} Size Pizza with Toppings {\",\".join(self.toppings)}\"\n",
    "        \n",
    "    def bake(self):\n",
    "        print(f\"Baking a {self.size} pizza with {', '.join(self.toppings)}.\")\n",
    "\n",
    "    def serve(self):\n",
    "        print(\"Pizza is ready to serve!\")"
   ]
  },
  {
   "cell_type": "code",
   "execution_count": 40,
   "metadata": {
    "colab": {
     "base_uri": "https://localhost:8080/"
    },
    "id": "MA6K38qJ6W9a",
    "outputId": "1937e1e2-748a-487c-c55a-8651fc12ab37"
   },
   "outputs": [
    {
     "name": "stdout",
     "output_type": "stream",
     "text": [
      "Baking a Large pizza with Cheese, Paneer, Capsicum.\n",
      "Pizza is ready to serve!\n",
      "Baking a Small pizza with Mushroom, Olives.\n",
      "Pizza is ready to serve!\n"
     ]
    }
   ],
   "source": [
    "\"\"\"\n",
    "Problem 2: You have a pizza shop. You have received 2 pizza orders You have to prepare it based on customer demand\n",
    "\n",
    "Customer 1 (Ramesh):\n",
    "- Large Pizza\n",
    "- Toppings : Cheese, Panner, Capsicum\n",
    "\n",
    "Customer 2 (Mahesh):\n",
    "- Small Pizza\n",
    "- Toppings : Mushrrom, Olives\n",
    "\n",
    "\"\"\"\n",
    "# Creating pizza objects\n",
    "pizza_for_ramesh = Pizza(\"Large\", [\"Cheese\", \"Paneer\", \"Capsicum\"])\n",
    "pizza_for_ramesh.bake()\n",
    "pizza_for_ramesh.serve()\n",
    "\n",
    "\n",
    "pizza_for_mahesh = Pizza(\"Small\", [\"Mushroom\", \"Olives\"])\n",
    "pizza_for_mahesh.bake()\n",
    "pizza_for_mahesh.serve()"
   ]
  },
  {
   "cell_type": "code",
   "execution_count": 41,
   "metadata": {
    "colab": {
     "base_uri": "https://localhost:8080/"
    },
    "id": "XQXhOXuA6XAk",
    "outputId": "5ef5e5e2-1aa4-4b6e-9974-584d7561db36"
   },
   "outputs": [
    {
     "name": "stdout",
     "output_type": "stream",
     "text": [
      "Baking a Large pizza with Cheese, Paneer, Capsicum.\n",
      "Pizza is ready to serve!\n",
      "Baking a Large pizza with Cheese, Paneer, Capsicum.\n",
      "Pizza is ready to serve!\n",
      "Baking a Large pizza with Cheese, Paneer, Capsicum.\n",
      "Pizza is ready to serve!\n",
      "Baking a Large pizza with Cheese, Paneer, Capsicum.\n",
      "Pizza is ready to serve!\n",
      "Baking a Medium pizza with Mushroom, Olives.\n",
      "Pizza is ready to serve!\n",
      "Baking a Small pizza with Cheese, Paneer, Capsicum.\n",
      "Pizza is ready to serve!\n",
      "Baking a Small pizza with Cheese, Paneer, Capsicum.\n",
      "Pizza is ready to serve!\n",
      "Baking a Small pizza with Mushroom, Olives.\n",
      "Pizza is ready to serve!\n",
      "Baking a Small pizza with Mushroom, Olives.\n",
      "Pizza is ready to serve!\n",
      "Baking a Small pizza with Mushroom, Olives.\n",
      "Pizza is ready to serve!\n"
     ]
    }
   ],
   "source": [
    "\"\"\"\n",
    "Problem 3: You have a pizza shop. You have received 20 pizza party orders You have to prepare it based on customer demand\n",
    "\n",
    "requests_pizza_by_ramesh =\n",
    "[\n",
    "    [4,\"Large\", [\"Cheese\", \"Paneer\", \"Capsicum\"]],\n",
    "    [1,\"Medium\", [\"Mushroom\", \"Olives\"]],\n",
    "    [2,\"Small\", [\"Cheese\", \"Paneer\", \"Capsicum\"]],\n",
    "    [3,\"Small\", [\"Mushroom\", \"Olives\"]],\n",
    "]\n",
    "\n",
    "\"\"\"\n",
    "\n",
    "requests_pizza_by_ramesh = [\n",
    "    [4,\"Large\", [\"Cheese\", \"Paneer\", \"Capsicum\"]],\n",
    "    [1,\"Medium\", [\"Mushroom\", \"Olives\"]],\n",
    "    [2,\"Small\", [\"Cheese\", \"Paneer\", \"Capsicum\"]],\n",
    "    [3,\"Small\", [\"Mushroom\", \"Olives\"]],\n",
    "]\n",
    "\n",
    "pizza_of_ramesh = []\n",
    "\n",
    "for req in requests_pizza_by_ramesh:\n",
    "  for idx in range(req[0]):\n",
    "    pizza_obj = Pizza(req[1], req[2])\n",
    "    pizza_obj.bake()\n",
    "    pizza_obj.serve()\n",
    "    pizza_of_ramesh.append(pizza_obj)"
   ]
  },
  {
   "cell_type": "code",
   "execution_count": 42,
   "metadata": {
    "colab": {
     "base_uri": "https://localhost:8080/"
    },
    "id": "RCGvT-J06XEK",
    "outputId": "8bca897d-046e-4709-c5fb-949db546e501"
   },
   "outputs": [
    {
     "name": "stdout",
     "output_type": "stream",
     "text": [
      "Large Size Pizza with Toppings Cheese,Paneer,Capsicum\n",
      "Large Size Pizza with Toppings Cheese,Paneer,Capsicum\n",
      "Large Size Pizza with Toppings Cheese,Paneer,Capsicum\n",
      "Large Size Pizza with Toppings Cheese,Paneer,Capsicum\n",
      "Medium Size Pizza with Toppings Mushroom,Olives\n",
      "Small Size Pizza with Toppings Cheese,Paneer,Capsicum\n",
      "Small Size Pizza with Toppings Cheese,Paneer,Capsicum\n",
      "Small Size Pizza with Toppings Mushroom,Olives\n",
      "Small Size Pizza with Toppings Mushroom,Olives\n",
      "Small Size Pizza with Toppings Mushroom,Olives\n"
     ]
    }
   ],
   "source": [
    "for item in pizza_of_ramesh:\n",
    "    print(item)"
   ]
  },
  {
   "cell_type": "markdown",
   "metadata": {
    "id": "QPCKi0v0P-7i",
    "jp-MarkdownHeadingCollapsed": true
   },
   "source": [
    "---\n",
    "### **Lecture 15 : Pillars of OOPs - Overview**"
   ]
  },
  {
   "cell_type": "markdown",
   "metadata": {
    "id": "t-8d3sdnQrOq"
   },
   "source": [
    "Object-Oriented Programming (OOP) is built on four main principles called the **4 pillars**. These help us write clean, organized, and reusable code.\n"
   ]
  },
  {
   "cell_type": "markdown",
   "metadata": {
    "jp-MarkdownHeadingCollapsed": true
   },
   "source": [
    "#### 1. Inheritance"
   ]
  },
  {
   "cell_type": "markdown",
   "metadata": {
    "id": "dYtQPU--RYye"
   },
   "source": [
    "Inheritance means a class (child) can inherit properties and methods from another class (parent), reducing code repetition.\n",
    "\n",
    "**One Liner:** One class inherits (reuses) the attributes and methods of another.\n",
    "\n",
    "\n",
    "\n",
    "**Example: Listing of Products in E-Commerce Store**"
   ]
  },
  {
   "cell_type": "code",
   "execution_count": 4,
   "metadata": {
    "id": "YWAb5Kn5Si47"
   },
   "outputs": [],
   "source": [
    "# Single Inheritance Example\n",
    "# Base class\n",
    "class Product:\n",
    "    def __init__(self, name, price):\n",
    "        self.name = name\n",
    "        self.price = price\n",
    "\n",
    "    def get_details(self):\n",
    "        return f\"{self.name}: ₹{self.price}\"\n",
    "\n",
    "# Subclass 1: Electronics\n",
    "class Electronics(Product):\n",
    "    def __init__(self, name, price, warranty):\n",
    "        super().__init__(name, price) # We can access methods of parent class with the help of super().\n",
    "        self.warranty = warranty\n",
    "\n",
    "    def get_details(self):\n",
    "        return super().get_details() + f\", Warranty: {self.warranty} years\"\n",
    "\n",
    "# Subclass 2: Clothing\n",
    "class Clothing(Product):\n",
    "    def __init__(self, name, price, size):\n",
    "        super().__init__(name, price)\n",
    "        self.size = size\n",
    "\n",
    "    def get_details(self):\n",
    "        return super().get_details() + f\", Size: {self.size}\"\n",
    "\n"
   ]
  },
  {
   "cell_type": "code",
   "execution_count": 7,
   "metadata": {},
   "outputs": [
    {
     "name": "stdout",
     "output_type": "stream",
     "text": [
      "Smartphone: ₹25000, Warranty: 24 years\n",
      "T-Shirt: ₹999, Size: L\n"
     ]
    }
   ],
   "source": [
    "# 🧪 Creating Instances\n",
    "phone = Electronics(\"Smartphone\", 25000, 24)\n",
    "tshirt = Clothing(\"T-Shirt\", 999, \"L\")\n",
    "\n",
    "# 🧾 Output\n",
    "print(phone.get_details())    # Product: Smartphone, Price: ₹25000, Warranty: 24 months\n",
    "print(tshirt.get_details())   # Product: T-Shirt, Price: ₹999, Size: L"
   ]
  },
  {
   "cell_type": "markdown",
   "metadata": {},
   "source": [
    "**NOTE**\n",
    "- Electronics and Clothing inherit from Product, but extend the functionality.\n",
    "\n",
    "- Why it's useful: Reduces code duplication and builds a clean product hierarchy."
   ]
  },
  {
   "cell_type": "markdown",
   "metadata": {
    "id": "OR9cVX7mQv8l",
    "jp-MarkdownHeadingCollapsed": true
   },
   "source": [
    "#### 2. Encapsulation\n",
    "\n",
    "Encapsulation is the **bundling** of **attributes** and **methods (functions)** within a class, **restricting access** to some components to control interactions.\n",
    "\n",
    "A class is an example of encapsulation as it encapsulates all the  data (attributes) and behavior (methods) together within a single unit.\n",
    "\n",
    "It allows hiding internal data and only allowing access through controlled methods (Getters and Setters).\n",
    "\n",
    "**One Liner:** Wrapping data (variables) and code (methods) together as a single unit (class).\n",
    "\n",
    "**Example: Protecting user data or product info**"
   ]
  },
  {
   "cell_type": "code",
   "execution_count": 9,
   "metadata": {
    "id": "nqRayP5Qjgan"
   },
   "outputs": [],
   "source": [
    "class User:\n",
    "    def __init__(self, username, password):\n",
    "        self.__username = username         # private attribute\n",
    "        self.__password = password\n",
    "\n",
    "    def login(self, entered_password):\n",
    "        if self.__password == entered_password:\n",
    "            return f\"Welcome {self.__username}!\"\n",
    "        else:\n",
    "            return \"Incorrect password.\"\n"
   ]
  },
  {
   "cell_type": "code",
   "execution_count": 12,
   "metadata": {
    "id": "mikyj0aalbL_"
   },
   "outputs": [
    {
     "name": "stdout",
     "output_type": "stream",
     "text": [
      "Welcome Sanjeev!\n",
      "Incorrect password.\n"
     ]
    }
   ],
   "source": [
    "# Usage\n",
    "user = User(\"Sanjeev\", \"iamgreat@123\")\n",
    "# print(user.__password)  # ❌ Will raise an error: AttributeError\n",
    "\n",
    "print(user.login(\"iamgreat@123\"))  # ✔ Welcome Sanjeev!\n",
    "print(user.login(\"wrong\"))      # ❌ Incorrect password.\n"
   ]
  },
  {
   "cell_type": "markdown",
   "metadata": {},
   "source": [
    "**NOTE**\n",
    "- Here, `__username` and `__password` are hidden from direct access. They’re only accessible through methods like `login()`.\n",
    "\n",
    "- Why it's useful: Prevents tampering with sensitive data like passwords or prices."
   ]
  },
  {
   "cell_type": "markdown",
   "metadata": {
    "id": "pHAVvMRCRmWC",
    "jp-MarkdownHeadingCollapsed": true
   },
   "source": [
    "#### 3. Polymorphism\n",
    "\n",
    "**One Liner:** Polymorphism means the same method name behaves differently based on the object/class using it.\n",
    "\n",
    "**Example:  Showing product details on a webpage**"
   ]
  },
  {
   "cell_type": "code",
   "execution_count": 15,
   "metadata": {
    "id": "-evSckELSEK0"
   },
   "outputs": [],
   "source": [
    "# Base class\n",
    "class Product:\n",
    "    def __init__(self, name, price):\n",
    "        self.name = name\n",
    "        self.price = price\n",
    "\n",
    "    def get_details(self):\n",
    "        return f\"{self.name}: ₹{self.price}\"\n",
    "\n",
    "# Subclass 1: Electronics\n",
    "class Electronics(Product):\n",
    "    def __init__(self, name, price, warranty):\n",
    "        super().__init__(name, price) # We can access methods of parent class with the help of super().\n",
    "        self.warranty = warranty\n",
    "\n",
    "    def get_details(self):\n",
    "        return super().get_details() + f\", Warranty: {self.warranty} years\"\n",
    "\n",
    "# Subclass 2: Clothing\n",
    "class Clothing(Product):\n",
    "    def __init__(self, name, price, size):\n",
    "        super().__init__(name, price)\n",
    "        self.size = size\n",
    "\n",
    "    def get_details(self):\n",
    "        return super().get_details() + f\", Size: {self.size}\"\n",
    "\n"
   ]
  },
  {
   "cell_type": "code",
   "execution_count": 14,
   "metadata": {
    "colab": {
     "base_uri": "https://localhost:8080/"
    },
    "id": "QULljbuYSMTE",
    "outputId": "d2a28329-7668-4ac3-cf6b-c4d7b9d09196"
   },
   "outputs": [
    {
     "name": "stdout",
     "output_type": "stream",
     "text": [
      "Laptop: ₹50000, Warranty: 2 years\n",
      "T-shirt: ₹599, Size: M\n"
     ]
    }
   ],
   "source": [
    "def show_product_details(product):\n",
    "    print(product.get_details())\n",
    "\n",
    "p1 = Electronics(\"Laptop\", 50000, 2)\n",
    "p2 = Clothing(\"T-shirt\", 599, \"M\")\n",
    "\n",
    "show_product_details(p1)  # Laptop: ₹50000, Warranty: 2 years\n",
    "show_product_details(p2)  # T-shirt: ₹599, Size: M\n",
    "\n"
   ]
  },
  {
   "cell_type": "markdown",
   "metadata": {
    "id": "PlWHJ5PeSS94"
   },
   "source": [
    "**NOTE**\n",
    "- Though both objects use `get_details()`, the output differs based on the object type.\n",
    "  \n",
    "- Why it's useful: You can treat all Product objects the same way while keeping behavior flexible."
   ]
  },
  {
   "cell_type": "markdown",
   "metadata": {
    "id": "5G1E0OMwRmZk"
   },
   "source": [
    "#### 4. Abstraction\n",
    "\n",
    "Abstraction means hiding complex internal details and showing only essential features.\n",
    "\n",
    "It helps focus on \"what to do\" rather than \"how to do it.\"\n",
    "\n",
    "In Python, abstraction is often done using abstract base classes (abc module).\n",
    "\n",
    "**One Liner:** concept of hiding unnecessary implementation details.\n",
    "\n",
    "**Example: Payment method handling**"
   ]
  },
  {
   "cell_type": "code",
   "execution_count": 18,
   "metadata": {
    "colab": {
     "base_uri": "https://localhost:8080/"
    },
    "id": "pnxGR49xREj-",
    "outputId": "534ecee4-47f5-4bdb-9efb-114d3ef937fe"
   },
   "outputs": [],
   "source": [
    "from abc import ABC, abstractmethod\n",
    "\n",
    "\"\"\"\n",
    "PaymentMethod is an abstract class:\n",
    "Inherits from ABC (Abstract Base Class).\n",
    "It defines a method pay() but doesn't implchement it.\n",
    "This acts like a contract: any class that inherits it must implement pay().\n",
    "\"\"\"\n",
    "class PaymentMethod(ABC): # Abstract class\n",
    "    @abstractmethod\n",
    "    def pay(self, amount):\n",
    "        pass\n",
    "\n",
    "class CreditCard(PaymentMethod): # Concrete classes.\n",
    "    def pay(self, amount):\n",
    "        return f\"Paid ₹{amount} using Credit Card.\"\n",
    "\n",
    "class UPI(PaymentMethod):\n",
    "    def pay(self, amount):\n",
    "        return f\"Paid ₹{amount} via UPI.\"\n",
    "\n",
    "# Client code\n",
    "def process_payment(method: PaymentMethod, amount):\n",
    "    print(method.pay(amount))\n"
   ]
  },
  {
   "cell_type": "code",
   "execution_count": 19,
   "metadata": {},
   "outputs": [
    {
     "name": "stdout",
     "output_type": "stream",
     "text": [
      "Paid ₹500 using Credit Card.\n",
      "Paid ₹750 via UPI.\n"
     ]
    }
   ],
   "source": [
    "card = CreditCard()\n",
    "upi = UPI()\n",
    "\n",
    "process_payment(card, 500)  # Output: Paid ₹500 using Credit Card.\n",
    "process_payment(upi, 750)   # Output: Paid ₹750 via UPI.\n"
   ]
  },
  {
   "cell_type": "markdown",
   "metadata": {
    "id": "JJxsZkWrSoIC"
   },
   "source": [
    "**NOTE**\n",
    "- `PaymentMethod` is an abstract base class. You don’t care how payment is processed—just that it works.\n",
    "\n",
    "-  Why it's useful: Clean interfaces, secure logic, and scalable design (e.g., you can add Wallet, COD, etc.)."
   ]
  },
  {
   "cell_type": "markdown",
   "metadata": {
    "id": "jn_oQLFXQc9x"
   },
   "source": [
    "**Summary**\n",
    "<div align=\"center\">\n",
    "\n",
    "| OOP Pillar        | Definition                              | E-Commerce Example                                 |\n",
    "| ----------------- | --------------------------------------- | -------------------------------------------------- |\n",
    "| **Encapsulation** | Hide internal details, use methods      | Hide password or cart price using private vars     |\n",
    "| **Inheritance**   | Child class reuses parent class         | `Electronics` and `Clothing` inherit `Product`     |\n",
    "| **Polymorphism**  | Same interface, different behavior      | `get_details()` works differently for each product |\n",
    "| **Abstraction**   | Hide complex details behind simple APIs | `PaymentMethod` defines a clean interface          |\n",
    "\n",
    "\n",
    "</div>\n",
    "\n",
    "---"
   ]
  },
  {
   "cell_type": "markdown",
   "metadata": {
    "jp-MarkdownHeadingCollapsed": true
   },
   "source": [
    "### **Lecture 16 : Inheritance in Python**"
   ]
  },
  {
   "cell_type": "markdown",
   "metadata": {
    "id": "dYtQPU--RYye"
   },
   "source": [
    "Inheritance means a class (child) can inherit properties and methods from another class (parent), reducing code repetition.\n",
    "\n",
    "Inheritance allows you to model an **is a** relationship, where a derived class extends the functionality of a base class.\n",
    "\n",
    "Inheritance analaogy to a human being (attributes, behaviours).\n",
    "\n"
   ]
  },
  {
   "cell_type": "markdown",
   "metadata": {},
   "source": [
    "#### **16.1 Parent and Child class**"
   ]
  },
  {
   "cell_type": "code",
   "execution_count": 85,
   "metadata": {},
   "outputs": [],
   "source": [
    "# Let's code an easy examples which shows how to create a child class and parent class\n",
    "# Base class\n",
    "class Animal:\n",
    "    def __init__(self, name):\n",
    "        self.name = name\n",
    "\n",
    "    def speak(self):\n",
    "        print(f\"{self.name} makes a sound\")\n",
    "\n",
    "# Derived class inheriting from Animal\n",
    "class Dog(Animal):\n",
    "    def speak(self):\n",
    "        print(f\"The {self.name} barks !\")"
   ]
  },
  {
   "cell_type": "markdown",
   "metadata": {},
   "source": [
    "Dog reuses code from Animal — this is inheritance."
   ]
  },
  {
   "cell_type": "code",
   "execution_count": null,
   "metadata": {},
   "outputs": [],
   "source": [
    "# In an inheritance relationship:\n",
    "\n",
    "# 1. Classes that inherit from another are called derived classes, subclasses, or subtypes.\n",
    "# 2. Classes from which other classes are derived are called base classes or super classes.\n",
    "# 3. A derived class is said to derive, inherit, or extend a base class."
   ]
  },
  {
   "cell_type": "code",
   "execution_count": 86,
   "metadata": {},
   "outputs": [
    {
     "name": "stdout",
     "output_type": "stream",
     "text": [
      "The Buddy barks !\n"
     ]
    }
   ],
   "source": [
    "# Creating an instance of the derived class\n",
    "dog_instance = Dog(\"Buddy\")\n",
    "\n",
    "# Calling methods from the base and derived classes\n",
    "dog_instance.speak()  # This will call the overridden method in Dog class"
   ]
  },
  {
   "cell_type": "code",
   "execution_count": 87,
   "metadata": {},
   "outputs": [
    {
     "name": "stdout",
     "output_type": "stream",
     "text": [
      "True\n",
      "True\n"
     ]
    }
   ],
   "source": [
    "print(isinstance(dog_instance, Dog))      # True\n",
    "print(isinstance(dog_instance, Animal))  # True"
   ]
  },
  {
   "cell_type": "markdown",
   "metadata": {
    "id": "W3OWdYZ1il_Z"
   },
   "source": [
    "**Method Overriding with Single Inheritance**\n",
    "\n",
    "Method overriding in Python is a mechanism that allows a subclass to provide a specific implementation for a method that is already defined in its superclass.\n",
    "\n",
    "The overriding method in the subclass should have the same name and parameters (if overridden), but it may provide a different implementation."
   ]
  },
  {
   "cell_type": "code",
   "execution_count": 80,
   "metadata": {
    "id": "LSSCIvHjSjmS"
   },
   "outputs": [],
   "source": [
    "# Base class\n",
    "class Animal:\n",
    "    def make_sound(self):\n",
    "        print(\"Animal makes a sound\")\n",
    "\n",
    "# Subclass 1\n",
    "class Dog(Animal):\n",
    "    def make_sound(self):\n",
    "        print(\"Dog barks\")\n",
    "\n",
    "# Subclass 2\n",
    "class Cat(Animal):\n",
    "    def make_sound(self):\n",
    "        print(\"Cat meows\")\n"
   ]
  },
  {
   "cell_type": "code",
   "execution_count": 81,
   "metadata": {
    "colab": {
     "base_uri": "https://localhost:8080/"
    },
    "id": "a3dbR8A1Gnv6",
    "outputId": "fc721f99-e40b-40b5-8007-e841b966f186"
   },
   "outputs": [
    {
     "name": "stdout",
     "output_type": "stream",
     "text": [
      "Dog barks\n",
      "Cat meows\n"
     ]
    }
   ],
   "source": [
    "animal1 = Dog()\n",
    "animal2 = Cat()\n",
    "\n",
    "animal1.make_sound()  # Calls Dog's make_sound method\n",
    "animal2.make_sound()  # Calls Cat's make_sound method"
   ]
  },
  {
   "cell_type": "markdown",
   "metadata": {},
   "source": [
    "#### **16.2 Using super() for parent initialization**"
   ]
  },
  {
   "cell_type": "markdown",
   "metadata": {},
   "source": [
    "- The super() function is used to call methods in the parent class from the child class. This is particularly useful when you want to extend or modify the functionality of a parent class method, such as the __Init__() constructor method.\n",
    "\n",
    "- So why do we use the super() function? We use the super function because we want to call and initialize the parent class’s constructor and also because we want to avoid explicitly naming the parent class. This is helpful, especially in cases of multiple inheritance."
   ]
  },
  {
   "cell_type": "markdown",
   "metadata": {
    "id": "ko8iMKc3kRM3"
   },
   "source": [
    "**Constructor call sequence**"
   ]
  },
  {
   "cell_type": "code",
   "execution_count": 80,
   "metadata": {
    "id": "ap9eFCL3jFK5"
   },
   "outputs": [],
   "source": [
    "class Vehicle:\n",
    "    def __init__(self):\n",
    "        print(\"Vehicle constructor\")\n",
    "\n",
    "    def start(self):\n",
    "        print(\"Vehicle started\")\n",
    "\n",
    "\n",
    "class Car(Vehicle):\n",
    "    def __init__(self):\n",
    "        # The same self object is passed to both Car and Vehicle.\n",
    "        # Vehicle.__init__(self) is simply initializing the same Car instance — not creating a new one.\n",
    "        Vehicle.__init__(self) # super().__init__()\n",
    "        print(\"Car constructor\")\n",
    "\n",
    "    def start(self):\n",
    "        print(\"Car started\")\n",
    "\n",
    "\n",
    "# class ElectricCar(Car):\n",
    "#     def __init__(self):\n",
    "#         super().__init__()\n",
    "#         print(\"ElectricCar constructor\")\n",
    "\n",
    "#     def start(self):\n",
    "#         print(\"ElectricCar started\")\n"
   ]
  },
  {
   "cell_type": "code",
   "execution_count": 81,
   "metadata": {},
   "outputs": [
    {
     "name": "stdout",
     "output_type": "stream",
     "text": [
      "Vehicle constructor\n",
      "Car constructor\n"
     ]
    }
   ],
   "source": [
    "c = Car()"
   ]
  },
  {
   "cell_type": "code",
   "execution_count": 82,
   "metadata": {},
   "outputs": [],
   "source": [
    "class Person:\n",
    "    def __init__(self, name, id):\n",
    "        self.name = name\n",
    "        self.id = id\n",
    "\n",
    "class Student(Person):\n",
    "    def __init__(self, name, id, grade):\n",
    "        # Using super() to initialize the parent class\n",
    "        super().__init__(name, id)\n",
    "        self.grade = grade\n"
   ]
  },
  {
   "cell_type": "code",
   "execution_count": null,
   "metadata": {},
   "outputs": [],
   "source": [
    "# Example usage\n",
    "student = Student(\"Samuel\", 5678, \"B+\")\n",
    "print(student.name)\n",
    "print(student.id)\n",
    "print(student.grade)"
   ]
  },
  {
   "cell_type": "code",
   "execution_count": null,
   "metadata": {},
   "outputs": [],
   "source": [
    "# Problem Practice on Inheritance"
   ]
  },
  {
   "cell_type": "code",
   "execution_count": null,
   "metadata": {},
   "outputs": [],
   "source": [
    "# Single Inheritance Example\n",
    "# Base class\n",
    "class Product:\n",
    "    def __init__(self, name, price):\n",
    "        self.name = name\n",
    "        self.price = price\n",
    "\n",
    "    def get_details(self):\n",
    "        return f\"{self.name}: ₹{self.price}\"\n",
    "\n",
    "# Subclass 1: Electronics\n",
    "class Electronics(Product):\n",
    "    def __init__(self, name, price, warranty):\n",
    "        super().__init__(name, price) # We can access methods of parent class with the help of super().\n",
    "        self.warranty = warranty\n",
    "\n",
    "    def get_details(self):\n",
    "        return super().get_details() + f\", Warranty: {self.warranty} years\"\n",
    "\n",
    "# Subclass 2: Clothing\n",
    "class Clothing(Product):\n",
    "    def __init__(self, name, price, size):\n",
    "        super().__init__(name, price)\n",
    "        self.size = size\n",
    "\n",
    "    def get_details(self):\n",
    "        return super().get_details() + f\", Size: {self.size}\"\n",
    "\n"
   ]
  },
  {
   "cell_type": "code",
   "execution_count": null,
   "metadata": {},
   "outputs": [],
   "source": [
    "# Creating Instances\n",
    "phone = Electronics(\"Smartphone\", 25000, 24)\n",
    "tshirt = Clothing(\"T-Shirt\", 999, \"L\")\n",
    "\n",
    "# Output\n",
    "print(phone.get_details())    # Product: Smartphone, Price: ₹25000, Warranty: 24 months\n",
    "print(tshirt.get_details())   # Product: T-Shirt, Price: ₹999, Size: L"
   ]
  },
  {
   "cell_type": "markdown",
   "metadata": {},
   "source": [
    "#### **16.3 Interesting Fact about classes in python**"
   ]
  },
  {
   "cell_type": "code",
   "execution_count": 92,
   "metadata": {},
   "outputs": [],
   "source": [
    "class EmptyClass:\n",
    "    pass"
   ]
  },
  {
   "cell_type": "code",
   "execution_count": 93,
   "metadata": {},
   "outputs": [
    {
     "name": "stdout",
     "output_type": "stream",
     "text": [
      "['__class__', '__delattr__', '__dict__', '__dir__', '__doc__', '__eq__', '__firstlineno__', '__format__', '__ge__', '__getattribute__', '__getstate__', '__gt__', '__hash__', '__init__', '__init_subclass__', '__le__', '__lt__', '__module__', '__ne__', '__new__', '__reduce__', '__reduce_ex__', '__repr__', '__setattr__', '__sizeof__', '__static_attributes__', '__str__', '__subclasshook__', '__weakref__']\n"
     ]
    }
   ],
   "source": [
    "c = EmptyClass()\n",
    "print(dir(c)) #  dir() function to list all the members in the specified object"
   ]
  },
  {
   "cell_type": "code",
   "execution_count": 94,
   "metadata": {},
   "outputs": [
    {
     "name": "stdout",
     "output_type": "stream",
     "text": [
      "['__class__', '__delattr__', '__dir__', '__doc__', '__eq__', '__format__', '__ge__', '__getattribute__', '__getstate__', '__gt__', '__hash__', '__init__', '__init_subclass__', '__le__', '__lt__', '__ne__', '__new__', '__reduce__', '__reduce_ex__', '__repr__', '__setattr__', '__sizeof__', '__str__', '__subclasshook__']\n"
     ]
    }
   ],
   "source": [
    "o = object()\n",
    "print(dir(o))"
   ]
  },
  {
   "cell_type": "markdown",
   "metadata": {},
   "source": [
    "- every single member of the object class is also present in EmptyClass.\n",
    "- This is because every class that you create in Python implicitly derives from object(Topmost base class). \n",
    "- You could be more explicit and write class EmptyClass(object):, but it’s redundant and unnecessary."
   ]
  },
  {
   "cell_type": "code",
   "execution_count": 96,
   "metadata": {},
   "outputs": [
    {
     "name": "stdout",
     "output_type": "stream",
     "text": [
      "<class '__main__.EmptyClass'>\n",
      "<class 'type'>\n",
      "True\n",
      "True\n"
     ]
    }
   ],
   "source": [
    "ins = EmptyClass()\n",
    "\n",
    "print(type(ins))        # 👉 <class '__main__.EmptyClass'> => \tins is an instance of MyClass\n",
    "print(type(EmptyClass))    # 👉 <class 'type'> => EmptyClass itself is an object of type type\n",
    "print(isinstance(ins, object))      # 👉 True => All instances inherit from the object class\n",
    "print(isinstance(EmptyClass, object))  # 👉 True => Even the class itself is an object"
   ]
  },
  {
   "cell_type": "markdown",
   "metadata": {},
   "source": [
    "In Python, type is the metaclass — it is used to create all classes, including itself.\n",
    "\n",
    "Let’s check what it inherits from:"
   ]
  },
  {
   "cell_type": "code",
   "execution_count": 34,
   "metadata": {},
   "outputs": [
    {
     "name": "stdout",
     "output_type": "stream",
     "text": [
      "(<class 'object'>,)\n"
     ]
    }
   ],
   "source": [
    "print(type.__bases__)   # Output: (<class 'object'>,)"
   ]
  },
  {
   "cell_type": "markdown",
   "metadata": {},
   "source": [
    "**type inherits from object**"
   ]
  },
  {
   "cell_type": "code",
   "execution_count": null,
   "metadata": {},
   "outputs": [],
   "source": [
    "# Twist\n",
    "print(type(object))     # Output: <class 'type'>\n",
    "print(type(type))       # Output: <class 'type'>"
   ]
  },
  {
   "cell_type": "markdown",
   "metadata": {},
   "source": [
    "**This creates a circular but consistent system**\n",
    "\n",
    "| Element                | Created By | Inherits From      |\n",
    "| ---------------------- | ---------- | ------------------ |\n",
    "| `object`               | `type`     | — (no parent)      |\n",
    "| `type`                 | `type`     | `object`           |\n",
    "| Any user-defined class | `type`     | Typically `object` |\n",
    "\n"
   ]
  },
  {
   "cell_type": "markdown",
   "metadata": {},
   "source": [
    "#### **16.4 Accessibility of members in Inheritance**"
   ]
  },
  {
   "attachments": {},
   "cell_type": "markdown",
   "metadata": {
    "id": "OwvQOGOtfPqW"
   },
   "source": [
    "\n",
    "The **visibility of inherited members (attributes and methods)** in Python depends on their access modifiers.\n",
    "\n",
    "In Python, access modifiers are used to control the visibility and accessibility of attributes and methods within a class.\n",
    "\n",
    "Python does not have explicit keywords like \"public,\" \"private,\" or \"protected\".\n",
    "\n",
    "Instead, It relies on naming conventions to indicate the intended visibility\n",
    "\n",
    "---\n",
    "\n",
    "1. Public (default): Members are accessible from anywhere, both within the class and outside the class.\n",
    "\n",
    "2. Protected (_single): Members are accessible within the class, within derived classes, and within the same module. However, they are considered conventionally private, and their use outside the class or module is discouraged.\n",
    "\n",
    "3. Private (__double): Members are accessible only within the class. They are not accessible in derived classes or outside the class.\n",
    "\n",
    "| Member Visibility| Public (default) | Protected (_single)              | Private (__double)  |\n",
    "|------------------|------------------|----------------------------------|---------------------|\n",
    "| In Base Class    | Accessible       | Accessible                       | Accessible          |\n",
    "| In Derived Class | Accessible       | Accessible within subclass/module| Not Accessible      |\n",
    "\n",
    "> **Python does not enforce strict access control. It relies on conventions and developer discipline.**"
   ]
  },
  {
   "cell_type": "code",
   "execution_count": 90,
   "metadata": {},
   "outputs": [],
   "source": [
    "class Parent:\n",
    "    def __init__(self):\n",
    "        self.public = \"Public\"\n",
    "        self._protected = \"Protected\"\n",
    "        self.__private = \"Private\"\n",
    "\n",
    "    def show(self):\n",
    "        print(f\"Inside Parent: {self.public}, {self._protected}, {self.__private}\")\n",
    "\n",
    "class Child(Parent):\n",
    "    def access_members(self):\n",
    "        print(\"Inside Child:\")\n",
    "        print(f\"Public: {self.public}\")            # ✅ Accessible\n",
    "        print(f\"Protected: {self._protected}\")      # ✅ Accessible (by convention)\n",
    "        # print(f\"Private: {self.__private}\")      # ❌ AttributeError\n"
   ]
  },
  {
   "cell_type": "code",
   "execution_count": 91,
   "metadata": {},
   "outputs": [
    {
     "name": "stdout",
     "output_type": "stream",
     "text": [
      "Inside Parent: Public, Protected, Private\n",
      "Inside Child:\n",
      "Public: Public\n",
      "Protected: Protected\n"
     ]
    }
   ],
   "source": [
    "c = Child()\n",
    "c.show()\n",
    "c.access_members()"
   ]
  },
  {
   "cell_type": "markdown",
   "metadata": {
    "id": "pwT8_Bg2gIGE"
   },
   "source": [
    "#### **16.5 Types of Inheritance in Python**\n"
   ]
  },
  {
   "cell_type": "markdown",
   "metadata": {},
   "source": [
    "Python supports five types of inheritance:\n",
    "1. Single inheritance\n",
    "2. Hierarchical inheritance\n",
    "3. Multilevel inheritance\n",
    "4. Multiple inheritance\n",
    "5. Hybrid inheritance"
   ]
  },
  {
   "cell_type": "markdown",
   "metadata": {
    "id": "tIy8lwBJgVxs"
   },
   "source": [
    "**1. Single Inheritance -** Explained with examples\n",
    "\n",
    "Single inheritance is a type of inheritance in object-oriented programming where a class inherits from only one base class."
   ]
  },
  {
   "cell_type": "code",
   "execution_count": null,
   "metadata": {
    "id": "YWAb5Kn5Si47"
   },
   "outputs": [],
   "source": [
    "# Single Inheritance Example\n",
    "# Base class\n",
    "class Animal:\n",
    "    def __init__(self, name):\n",
    "        self.name = name\n",
    "\n",
    "    def speak(self):\n",
    "        print(f\"{self.name} makes a sound\")\n",
    "\n",
    "# Derived class inheriting from Animal\n",
    "class Dog(Animal):\n",
    "    def speak(self):\n",
    "        print(f\"The {self.name} barks!\")\n"
   ]
  },
  {
   "cell_type": "code",
   "execution_count": null,
   "metadata": {
    "colab": {
     "base_uri": "https://localhost:8080/"
    },
    "id": "qUMwf1VLSi-g",
    "outputId": "011e5319-3989-4b6a-d31d-298991ede26d"
   },
   "outputs": [
    {
     "name": "stdout",
     "output_type": "stream",
     "text": [
      "Buddy says Woof!\n"
     ]
    }
   ],
   "source": [
    "# Creating an instance of the derived class\n",
    "dog_instance = Dog(\"Buddy\")\n",
    "\n",
    "# Calling methods from the base and derived classes\n",
    "dog_instance.speak()  # This will call the overridden method in Dog class"
   ]
  },
  {
   "cell_type": "markdown",
   "metadata": {
    "id": "Bj_sWoiVhE5Q"
   },
   "source": [
    "**2. Hierarchical inheritance -** Explained with Examples\n",
    "\n",
    "In hierarchical inheritance, a single base class (parent class) is inherited by multiple derived classes (child classes).\n",
    "\n",
    "Each derived class shares common attributes and methods from the base class but may have its own additional attributes and methods."
   ]
  },
  {
   "cell_type": "code",
   "execution_count": null,
   "metadata": {
    "id": "PP2fAshiSjc8"
   },
   "outputs": [],
   "source": [
    "# Hierarchical Inheritance explained with Examples\n",
    "class Animal:\n",
    "    def __init__(self, name):\n",
    "        self.name = name\n",
    "\n",
    "    def speak(self):\n",
    "        pass\n",
    "\n",
    "class Dog(Animal):\n",
    "    def speak(self):\n",
    "        return f\"{self.name} says Woof!\"\n",
    "\n",
    "class Cat(Animal):\n",
    "    def speak(self):\n",
    "        return f\"{self.name} says Meow!\"\n",
    "\n",
    "class Bird(Animal):\n",
    "    def speak(self):\n",
    "        return f\"{self.name} sings beautifully!\"\n"
   ]
  },
  {
   "cell_type": "code",
   "execution_count": null,
   "metadata": {
    "id": "ZM96LslDSjil"
   },
   "outputs": [],
   "source": [
    "# Creating objects of the derived classes\n",
    "dog = Dog(\"Buddy\")\n",
    "cat = Cat(\"Whiskers\")\n",
    "bird = Bird(\"Tweetie\")\n",
    "\n",
    "# Calling the speak method on each object\n",
    "print(dog.speak())   # Output: Buddy says Woof!\n",
    "print(cat.speak())   # Output: Whiskers says Meow!\n",
    "print(bird.speak())  # Output: Tweetie sings beautifully!"
   ]
  },
  {
   "cell_type": "code",
   "execution_count": null,
   "metadata": {},
   "outputs": [],
   "source": [
    "# Problem Practice: Hierarchical Inheritance in Vehicle Classes"
   ]
  },
  {
   "cell_type": "code",
   "execution_count": null,
   "metadata": {
    "colab": {
     "base_uri": "https://localhost:8080/"
    },
    "id": "izyvUj3BjBvR",
    "outputId": "90acd816-5193-4838-9f3e-859655db860d"
   },
   "outputs": [
    {
     "name": "stdout",
     "output_type": "stream",
     "text": [
      "Starting the Toyota Camry\n",
      "Honking the horn of the Toyota Camry\n",
      "Stopping the Toyota Camry\n"
     ]
    }
   ],
   "source": [
    "# Base class\n",
    "class Vehicle:\n",
    "    def __init__(self, make, model):\n",
    "        self.make = make\n",
    "        self.model = model\n",
    "\n",
    "    def start(self):\n",
    "        print(\"Starting the\", self.make, self.model)\n",
    "\n",
    "    def stop(self):\n",
    "        print(\"Stopping the\", self.make, self.model)\n",
    "\n",
    "# Derived class Car inheriting from Vehicle\n",
    "class Car(Vehicle):\n",
    "    def __init__(self, make, model, numberOfDoors):\n",
    "        super().__init__(make, model)\n",
    "        self.numberOfDoors = numberOfDoors\n",
    "\n",
    "    def honk(self):\n",
    "        print(\"Honking the horn of the\", self.make, self.model)\n",
    "\n",
    "# Derived class Motorcycle inheriting from Vehicle\n",
    "class Motorcycle(Vehicle):\n",
    "    def __init__(self, make, model, engineType):\n",
    "        super().__init__(make, model)\n",
    "        self.engineType = engineType\n",
    "\n",
    "    def wheelie(self):\n",
    "        print(\"Performing a wheelie on the\", self.make, self.model)\n",
    "\n",
    "# Create an instance of the Car class\n",
    "my_car = Car(\"Toyota\", \"Camry\", 4)\n",
    "my_car.start()\n",
    "my_car.honk()\n",
    "my_car.stop()"
   ]
  },
  {
   "cell_type": "code",
   "execution_count": null,
   "metadata": {
    "id": "Wj2O0KP-jFEM"
   },
   "outputs": [],
   "source": [
    "# Create an instance of the Motorcycle class\n",
    "my_motorcycle = Motorcycle(\"Harley-Davidson\", \"Sportster\", \"4-stroke\")\n",
    "my_motorcycle.start()\n",
    "my_motorcycle.wheelie()\n",
    "my_motorcycle.stop()"
   ]
  },
  {
   "cell_type": "markdown",
   "metadata": {
    "id": "H0x5FZ2hgvAh"
   },
   "source": [
    "**3. Multilevel Inheritance -** Explained with Examples\n",
    "\n",
    "Multilevel inheritance in Python involves creating a chain of classes where each class extends the previous one.\n",
    "\n",
    "In other words, a derived class serves as the base class for another class."
   ]
  },
  {
   "cell_type": "code",
   "execution_count": null,
   "metadata": {
    "id": "YG_OBe2hSjD3"
   },
   "outputs": [],
   "source": [
    "# Multilevel Inheritance Examples\n",
    "class Animal:\n",
    "    def __init__(self, name):\n",
    "        self.name = name\n",
    "\n",
    "    def speak(self):\n",
    "        print(f\"{self.name} makes a sound.\")\n",
    "\n",
    "class Dog(Animal):\n",
    "    def bark(self):\n",
    "        print(f\"{self.name} barks.\")\n",
    "\n",
    "class Labrador(Dog):\n",
    "    def swim(self):\n",
    "        print(f\"{self.name} can swim.\")\n"
   ]
  },
  {
   "cell_type": "code",
   "execution_count": null,
   "metadata": {
    "colab": {
     "base_uri": "https://localhost:8080/"
    },
    "id": "zxzEVmG0SjIO",
    "outputId": "999049e9-c85b-4ee8-de65-7d6befabb7a9"
   },
   "outputs": [
    {
     "name": "stdout",
     "output_type": "stream",
     "text": [
      "Generic Animal makes a sound.\n",
      "Buddy makes a sound.\n",
      "Buddy barks.\n",
      "Max makes a sound.\n",
      "Max barks.\n",
      "Max can swim.\n"
     ]
    }
   ],
   "source": [
    "# Creating instances of the classes\n",
    "animal = Animal(\"Generic Animal\")\n",
    "dog = Dog(\"Buddy\")\n",
    "labrador = Labrador(\"Max\")\n",
    "\n",
    "# Calling methods\n",
    "animal.speak()      # Output: Generic Animal makes a sound.\n",
    "dog.speak()         # Output: Buddy makes a sound.\n",
    "dog.bark()          # Output: Buddy barks.\n",
    "labrador.speak()    # Output: Max makes a sound.\n",
    "labrador.bark()     # Output: Max barks.\n",
    "labrador.swim()     # Output: Max can swim."
   ]
  },
  {
   "cell_type": "markdown",
   "metadata": {},
   "source": [
    "Python follows **MRO (Method Resolution Order)** — it looks in the first parent listed (Camera), then Phone, then object.\n",
    "\n",
    "You can check the **MRO**:"
   ]
  },
  {
   "cell_type": "code",
   "execution_count": null,
   "metadata": {},
   "outputs": [],
   "source": [
    "print(Smartphone.__mro__)"
   ]
  },
  {
   "cell_type": "markdown",
   "metadata": {},
   "source": [
    "**4. Multiple inheritance -** Explained with examples"
   ]
  },
  {
   "cell_type": "code",
   "execution_count": 43,
   "metadata": {},
   "outputs": [],
   "source": [
    "class Camera:\n",
    "    def take_photo(self):\n",
    "        return \"Taking a photo\"\n",
    "\n",
    "class Phone:\n",
    "    def make_call(self, number):\n",
    "        return f\"Calling {number}\"\n",
    "\n",
    "# Smartphone inherits from both Camera and Phone\n",
    "class Smartphone(Camera, Phone):\n",
    "    def browse_internet(self):\n",
    "        return \"Browsing the internet\"\n"
   ]
  },
  {
   "cell_type": "code",
   "execution_count": 44,
   "metadata": {},
   "outputs": [
    {
     "name": "stdout",
     "output_type": "stream",
     "text": [
      "Taking a photo\n",
      "Calling 9876543210\n",
      "Browsing the internet\n"
     ]
    }
   ],
   "source": [
    "s = Smartphone()\n",
    "\n",
    "print(s.take_photo())           # from Camera\n",
    "print(s.make_call(\"9876543210\")) # from Phone\n",
    "print(s.browse_internet())      # from Smartphone\n"
   ]
  },
  {
   "cell_type": "markdown",
   "metadata": {},
   "source": [
    "**5. Hybrid inheritance -** Explained with examples "
   ]
  },
  {
   "cell_type": "code",
   "execution_count": 70,
   "metadata": {},
   "outputs": [],
   "source": [
    "class Person:\n",
    "    def __init__(self, name, **kwargs):\n",
    "        self.name = name\n",
    "        print(f\"Person __init__ called for {self.name}\")\n",
    "        super().__init__(**kwargs)\n",
    "\n",
    "class Student(Person):\n",
    "    def __init__(self, student_id, **kwargs):\n",
    "        self.student_id = student_id\n",
    "        print(f\"Student __init__ called for {kwargs.get('name')}\")\n",
    "        super().__init__(**kwargs)\n",
    "\n",
    "    def study(self):\n",
    "        return f\"{self.name} is studying.\"\n",
    "\n",
    "class Teacher(Person):\n",
    "    def __init__(self, subject, **kwargs):\n",
    "        self.subject = subject\n",
    "        print(f\"Teacher __init__ called for {kwargs.get('name')}\")\n",
    "        super().__init__(**kwargs)\n",
    "\n",
    "    def teach(self):\n",
    "        return f\"{self.name} teaches {self.subject}.\"\n",
    "\n",
    "class TeachingAssistant(Student, Teacher):\n",
    "    def __init__(self, name, student_id, subject):\n",
    "        super().__init__(name=name, student_id=student_id, subject=subject)\n",
    "        print(f\"TeachingAssistant __init__ called for {self.name}\")\n",
    "\n",
    "    def assist(self):\n",
    "        return f\"{self.name} is assisting in {self.subject}.\"\n"
   ]
  },
  {
   "cell_type": "code",
   "execution_count": 72,
   "metadata": {},
   "outputs": [
    {
     "name": "stdout",
     "output_type": "stream",
     "text": [
      "Student __init__ called for Ravi\n",
      "Teacher __init__ called for Ravi\n",
      "Person __init__ called for Ravi\n",
      "TeachingAssistant __init__ called for Ravi\n",
      "Ravi is studying.\n",
      "Ravi teaches Math.\n",
      "Ravi is assisting in Math.\n"
     ]
    }
   ],
   "source": [
    "ta = TeachingAssistant(\"Ravi\", \"S123\", \"Math\")\n",
    "print(ta.study())\n",
    "print(ta.teach())\n",
    "print(ta.assist())\n"
   ]
  },
  {
   "cell_type": "markdown",
   "metadata": {},
   "source": [
    "#### **16.6 Benefits and Limitations of inheritance**"
   ]
  },
  {
   "cell_type": "markdown",
   "metadata": {
    "jp-MarkdownHeadingCollapsed": true
   },
   "source": [
    "**Benefits**\n",
    "\n",
    "- **Reusability**: With inheritance you can write code once in the parent class and reuse it in the child classes. Using the example, both FullTimeEmployee and Contractor can inherit a get_details() method from the Employee parent class.\n",
    "\n",
    "- **Simplicity**: Inheritance models relationships clearly. A good example is the FullTimeEmployee class which “is-a” type of the Employee parent class.\n",
    "\n",
    "- **Scalability**: It also add new features or child classes without affecting existing code. For example, we can easily add a new Intern class as a child class.\n",
    "\n",
    "**Limitations**\n",
    "    \n",
    "- **Complexity**: This won't be surprising, but too many levels of inheritance can make the code hard to follow. For example, if an Employee has too many child classes like Manager, Engineer, Intern, etc., it may become confusing.\n",
    "\n",
    "- **Dependency**: Changes to a parent class can unintentionally affect all subclasses. If you modify Employee for example, it might break FullTimeEmployee or Contractor.\n",
    "\n",
    "- **Misuse**: Using inheritance when it is not the best fit can complicate designs. You would not want to create a solution where Car inherits from Boat just to reuse move(). The relationship doesn’t make sense."
   ]
  },
  {
   "cell_type": "markdown",
   "metadata": {},
   "source": [
    "---"
   ]
  },
  {
   "cell_type": "markdown",
   "metadata": {
    "jp-MarkdownHeadingCollapsed": true
   },
   "source": [
    "---\n",
    "### **Lecture 17 : Encapsulation in Python**"
   ]
  },
  {
   "cell_type": "markdown",
   "metadata": {
    "id": "OR9cVX7mQv8l"
   },
   "source": [
    "Encapsulation is the **bundling** of **data (attributes)** and **methods (functions)** within a class, **restricting access** to some components to control interactions.\n",
    "\n",
    "A class is an example of encapsulation as it encapsulates all the data that is member functions, variables, etc.\n",
    "\n",
    "It allows hiding internal data and only allowing access through controlled methods.\n",
    "\n",
    "**One Liner:** Wrapping data (variables) and code (methods) together as a single unit (class).\n",
    "\n",
    "\n",
    "**Abstractions Vs Encapsulation**\n",
    "\n",
    "| Feature             | **Encapsulation**                     | **Abstraction**                            |\n",
    "| ------------------- | ------------------------------------- | ------------------------------------------ |\n",
    "| **Purpose**         | Hide internal state/data              | Hide implementation complexity             |\n",
    "| **What is hidden?** | Data (e.g., password, cart total)     | Logic/Details (e.g., how `.pay()` works)   |\n",
    "| **How?**            | Private variables (`__var`) + methods | Abstract classes, interfaces, clean APIs   |\n",
    "| **User sees**       | Controlled access to variables        | Only the interface (`pay`, `refund`, etc.) |\n",
    "| **Example**         | `__password`, `__total_price`         | `PaymentMethod.pay()`                      |\n",
    "| **Goal**            | Protect data from misuse              | Simplify usage of complex systems          |\n",
    "\n",
    "#### Example:"
   ]
  },
  {
   "cell_type": "code",
   "execution_count": 60,
   "metadata": {
    "id": "nqRayP5Qjgan"
   },
   "outputs": [],
   "source": [
    "class BankAccount:\n",
    "    def __init__(self, owner, balance=0):\n",
    "        self.owner = owner\n",
    "        self.__balance = balance  # 👈 Private variable (encapsulated)\n",
    "\n",
    "    def deposit(self, amount):\n",
    "        if amount > 0:\n",
    "            self.__balance += amount\n",
    "            print(f\"Deposited ₹{amount}\")\n",
    "        else:\n",
    "            print(\"Invalid deposit amount.\")\n",
    "\n",
    "    def withdraw(self, amount):\n",
    "        if 0 < amount <= self.__balance:\n",
    "            self.__balance -= amount\n",
    "            print(f\"Withdrew ₹{amount}\")\n",
    "        else:\n",
    "            print(\"Insufficient balance or invalid amount.\")\n",
    "\n",
    "    def get_balance(self):\n",
    "        return self.__balance  # 👈 Controlled access\n"
   ]
  },
  {
   "cell_type": "code",
   "execution_count": 61,
   "metadata": {
    "id": "mikyj0aalbL_"
   },
   "outputs": [
    {
     "name": "stdout",
     "output_type": "stream",
     "text": [
      "Deposited ₹500\n",
      "Withdrew ₹200\n",
      "Current Balance: 1300\n"
     ]
    }
   ],
   "source": [
    "# Usage\n",
    "account = BankAccount(\"Sanjeev\", 1000)\n",
    "account.deposit(500)\n",
    "account.withdraw(200)\n",
    "\n",
    "print(\"Current Balance:\", account.get_balance())\n"
   ]
  },
  {
   "cell_type": "code",
   "execution_count": 62,
   "metadata": {},
   "outputs": [],
   "source": [
    "# Trying to access private variable directly (not allowed)\n",
    "# print(account.__balance)  ❌ This will cause an error"
   ]
  },
  {
   "cell_type": "markdown",
   "metadata": {
    "id": "drtUn4oDHP0g"
   },
   "source": [
    "**Access Modifiers in Python :**\n"
   ]
  },
  {
   "cell_type": "markdown",
   "metadata": {
    "id": "ByH4LgZgHaST"
   },
   "source": [
    "In Python, access modifiers are used to control the visibility and accessibility of attributes and methods within a class.\n",
    "\n",
    "Python does not have explicit keywords like \"public,\" \"private,\" or \"protected\".\n",
    "\n",
    "Instead, It relies on naming conventions to indicate the intended visibility"
   ]
  },
  {
   "cell_type": "markdown",
   "metadata": {
    "id": "XUbqi2TnHndV"
   },
   "source": [
    "1.**Public**: By default, all attributes and methods in a class are considered public. They can be accessed and modified from outside the class.\n",
    "\n",
    "2.**Protected**: Attributes and methods intended for internal use within the class and its subclasses are often marked as protected by prefixing them with a single underscore (_).\n",
    "\n",
    "3.**Private**: Attributes and methods that should not be accessed from outside the class are conventionally marked as private by prefixing them with a double underscore (__)."
   ]
  },
  {
   "cell_type": "code",
   "execution_count": null,
   "metadata": {
    "id": "06l5BC1J6LCl"
   },
   "outputs": [],
   "source": [
    "class Person:\n",
    "    def __init__(self):\n",
    "        self.name = \"Alice\"         # public attribute\n",
    "        self._age = 30              # protected attribute\n",
    "        self.__salary = 50000       # private attribute\n",
    "\n",
    "    def display(self):\n",
    "        print(\"Name:\", self.name)\n",
    "        print(\"Age:\", self._age)\n",
    "        print(\"Salary:\", self.__salary)\n"
   ]
  },
  {
   "cell_type": "code",
   "execution_count": null,
   "metadata": {
    "id": "cmPGC-o9GnWz"
   },
   "outputs": [],
   "source": [
    "obj = Person()\n",
    "obj.display()\n",
    "\n",
    "# Accessing attributes from outside\n",
    "print(obj.name)         # ✅ Public: Accessible\n",
    "print(obj._age)         # ⚠️ Protected: Accessible but discouraged\n",
    "print(obj.__salary)     # ❌ Private: Will raise AttributeError"
   ]
  },
  {
   "cell_type": "code",
   "execution_count": null,
   "metadata": {
    "colab": {
     "base_uri": "https://localhost:8080/"
    },
    "id": "nrQ1XyENGncr",
    "outputId": "2013153d-883e-4aa9-eef0-5f15e27bd483"
   },
   "outputs": [
    {
     "data": {
      "text/plain": [
       "50000"
      ]
     },
     "execution_count": 5,
     "metadata": {},
     "output_type": "execute_result"
    }
   ],
   "source": [
    "# Accessing Private Variables (Name Mangling)\n",
    "obj._Person__salary"
   ]
  },
  {
   "cell_type": "markdown",
   "metadata": {
    "id": "H5iGWSo4JfF4"
   },
   "source": [
    "> Python does not enforce strict access control. It relies on conventions and developer discipline.\n",
    "\n",
    "---"
   ]
  },
  {
   "cell_type": "markdown",
   "metadata": {
    "id": "NV-dHxIPJro-"
   },
   "source": [
    "**Accessing and Modifying Private Data Members:**\n",
    "\n",
    "In Python, getter and setter methods are used to access and modify private data members (fields) of a class."
   ]
  },
  {
   "cell_type": "code",
   "execution_count": 84,
   "metadata": {
    "id": "Y5ztiD0zGnl6"
   },
   "outputs": [],
   "source": [
    "class MyClass :\n",
    "    def __init__(self):\n",
    "        __myField = None\n",
    "\n",
    "    # Getter method for myField\n",
    "    def getMyField(self):\n",
    "        return MyClass.__myField\n",
    "\n",
    "    # Setter method for myField\n",
    "    def setMyField(self , value):\n",
    "        MyClass.__myField = value"
   ]
  },
  {
   "cell_type": "markdown",
   "metadata": {
    "jp-MarkdownHeadingCollapsed": true
   },
   "source": [
    "### **Lecture 18 : Polymorphism in Python**"
   ]
  },
  {
   "cell_type": "markdown",
   "metadata": {
    "id": "In2vdOvPl75e"
   },
   "source": [
    "---\n",
    "\n",
    "**Polymorphism in Python**\n",
    "\n",
    "Polymorphism is a fundamental concept in object-oriented programming that allows objects of different types to be treated as objects of a common base type.\n",
    "\n",
    "It enables flexibility in code design and promotes code reuse. Here are the two main types of polymorphism in Python:"
   ]
  },
  {
   "cell_type": "code",
   "execution_count": 10,
   "metadata": {},
   "outputs": [
    {
     "name": "stdout",
     "output_type": "stream",
     "text": [
      "25\n",
      "1015\n",
      "6\n",
      "4\n"
     ]
    }
   ],
   "source": [
    "# operator polymorphism - Operator polymorphism, or operator overloading, means that one symbol can be used to perform multiple operations.\n",
    "\n",
    "int1 = 10\n",
    "int2 = 15\n",
    "print(int1 + int2)\n",
    "\n",
    "str1 = \"10\"\n",
    "str2 = \"15\"\n",
    "print(str1 + str2)\n",
    "\n",
    "# Function Polymorphism -  len() function, for instance, can be used to return the length of an object. \n",
    "# However, it will measure the length of the object differently depending on the object’s data type and structure. \n",
    "\n",
    "str1 = \"animal\"\n",
    "print(len(str1))\n",
    "# returns 6\n",
    "\n",
    "list1 = [\"giraffe\",\"lion\",\"bear\",\"dog\"]\n",
    "print(len(list1))\n",
    "# returns 4"
   ]
  },
  {
   "cell_type": "code",
   "execution_count": null,
   "metadata": {},
   "outputs": [],
   "source": [
    "# Object polymorphism\n",
    "\n",
    "class Animal:\n",
    "    def speak(self):\n",
    "        return \"Some sound\"\n",
    "\n",
    "class Dog(Animal):\n",
    "    def speak(self):\n",
    "        return \"Bark\"\n",
    "\n",
    "class Cat(Animal):\n",
    "    def speak(self):\n",
    "        return \"Meow\"\n",
    "\n",
    "def make_sound(animal):\n",
    "    print(animal.speak())\n",
    "\n",
    "# Object Polymorphism in action\n",
    "animals = [Dog(), Cat()]\n",
    "for a in animals:\n",
    "    make_sound(a)\n",
    "\n",
    "#Even though Dog and Cat are different objects, they are treated as Animal and used via the same method speak() — this is object polymorphism."
   ]
  },
  {
   "cell_type": "markdown",
   "metadata": {
    "id": "_iASwU7fpWHR"
   },
   "source": [
    "**Method Overloading**:\n",
    "\n",
    "In some languages, such as Java or C++, method overloading allows you to define multiple methods with the same name in the same class, but with different parameter lists.\n",
    "\n",
    "In Python, method overloading is achieved in a different way, as the language does not support multiple methods with the same name but different parameter lists."
   ]
  },
  {
   "cell_type": "code",
   "execution_count": null,
   "metadata": {},
   "outputs": [],
   "source": [
    "# If you define multiple methods with the same name, only the last one will be used."
   ]
  },
  {
   "cell_type": "code",
   "execution_count": null,
   "metadata": {
    "id": "XT9AVuPHjFO9"
   },
   "outputs": [],
   "source": [
    "class MyClass:\n",
    "    def add(self, a, b):\n",
    "        return a + b\n",
    "\n",
    "    def add(self, a, b, c):\n",
    "        return a + b + c\n",
    "\n",
    "# So in your code, def add(self, a, b) is overwritten by def add(self, a, b, c).\n",
    "# This will result in an error in Python"
   ]
  },
  {
   "cell_type": "code",
   "execution_count": null,
   "metadata": {
    "colab": {
     "base_uri": "https://localhost:8080/",
     "height": 176
    },
    "id": "IMpCbS6IjB0V",
    "outputId": "7cd5fd50-4f38-4919-81ce-9a41fe3bd687"
   },
   "outputs": [
    {
     "ename": "TypeError",
     "evalue": "MyClass.add() missing 1 required positional argument: 'c'",
     "output_type": "error",
     "traceback": [
      "\u001b[0;31m---------------------------------------------------------------------------\u001b[0m",
      "\u001b[0;31mTypeError\u001b[0m                                 Traceback (most recent call last)",
      "\u001b[0;32m/tmp/ipython-input-22-1720559205.py\u001b[0m in \u001b[0;36m<cell line: 0>\u001b[0;34m()\u001b[0m\n\u001b[1;32m      1\u001b[0m \u001b[0mobj\u001b[0m \u001b[0;34m=\u001b[0m \u001b[0mMyClass\u001b[0m\u001b[0;34m(\u001b[0m\u001b[0;34m)\u001b[0m\u001b[0;34m\u001b[0m\u001b[0;34m\u001b[0m\u001b[0m\n\u001b[0;32m----> 2\u001b[0;31m \u001b[0mprint\u001b[0m\u001b[0;34m(\u001b[0m\u001b[0mobj\u001b[0m\u001b[0;34m.\u001b[0m\u001b[0madd\u001b[0m\u001b[0;34m(\u001b[0m\u001b[0;36m1\u001b[0m\u001b[0;34m,\u001b[0m \u001b[0;36m2\u001b[0m\u001b[0;34m)\u001b[0m\u001b[0;34m)\u001b[0m     \u001b[0;31m# ❌ TypeError: add() missing 1 required positional argument: 'c'\u001b[0m\u001b[0;34m\u001b[0m\u001b[0;34m\u001b[0m\u001b[0m\n\u001b[0m\u001b[1;32m      3\u001b[0m \u001b[0mprint\u001b[0m\u001b[0;34m(\u001b[0m\u001b[0mobj\u001b[0m\u001b[0;34m.\u001b[0m\u001b[0madd\u001b[0m\u001b[0;34m(\u001b[0m\u001b[0;36m1\u001b[0m\u001b[0;34m,\u001b[0m \u001b[0;36m2\u001b[0m\u001b[0;34m,\u001b[0m \u001b[0;36m3\u001b[0m\u001b[0;34m)\u001b[0m\u001b[0;34m)\u001b[0m  \u001b[0;31m# ✅ Works fine: returns 6\u001b[0m\u001b[0;34m\u001b[0m\u001b[0;34m\u001b[0m\u001b[0m\n",
      "\u001b[0;31mTypeError\u001b[0m: MyClass.add() missing 1 required positional argument: 'c'"
     ]
    }
   ],
   "source": [
    "obj = MyClass()\n",
    "print(obj.add(1, 2))     # ❌ TypeError: add() missing 1 required positional argument: 'c'\n",
    "print(obj.add(1, 2, 3))  # ✅ Works fine: returns 6\n"
   ]
  },
  {
   "cell_type": "markdown",
   "metadata": {
    "id": "LsY59ZMgqBEq"
   },
   "source": [
    "Instead of method overloading, Python uses a single method with optional or default parameters to achieve similar functionality.\n",
    "\n"
   ]
  },
  {
   "cell_type": "code",
   "execution_count": null,
   "metadata": {
    "colab": {
     "base_uri": "https://localhost:8080/"
    },
    "id": "3nlK2y5ujB59",
    "outputId": "1baae231-680a-4e09-e11c-14c8af69a156"
   },
   "outputs": [
    {
     "name": "stdout",
     "output_type": "stream",
     "text": [
      "1\n",
      "3\n",
      "6\n"
     ]
    }
   ],
   "source": [
    "# default parameters\n",
    "\n",
    "class MyClass:\n",
    "    def add(self, a, b=0, c=0):\n",
    "        return a + b + c\n",
    "\n",
    "# Creating an instance of MyClass\n",
    "my_object = MyClass()\n",
    "\n",
    "# Calling the add method with different parameter lists\n",
    "result1 = my_object.add(1)\n",
    "result2 = my_object.add(1, 2)\n",
    "result3 = my_object.add(1, 2, 3)\n",
    "\n",
    "print(result1)  # Output: 1\n",
    "print(result2)  # Output: 3\n",
    "print(result3)  # Output: 6"
   ]
  },
  {
   "cell_type": "code",
   "execution_count": null,
   "metadata": {
    "id": "8Ycij6-rt2no"
   },
   "outputs": [],
   "source": [
    "# Using Variable-Length Argument Lists\n",
    "\n",
    "class MyClass:\n",
    "    def add(self, *args):\n",
    "        return sum(args)\n",
    "\n",
    "# Creating an instance of MyClass\n",
    "my_object = MyClass()\n",
    "\n",
    "# Calling the add method with different numbers of arguments\n",
    "result1 = my_object.add(1)\n",
    "result2 = my_object.add(1, 2)\n",
    "result3 = my_object.add(1, 2, 3)\n",
    "\n",
    "print(result1)  # Output: 1\n",
    "print(result2)  # Output: 3\n",
    "print(result3)  # Output: 6"
   ]
  },
  {
   "cell_type": "markdown",
   "metadata": {
    "id": "7jNmbcYyqJfQ"
   },
   "source": [
    "This is how python achieves compile-time polymorphism. If we pass 2 arguments, the value of c will be set to the default value provided. Otherwise, it will be set to the passed value."
   ]
  },
  {
   "cell_type": "markdown",
   "metadata": {},
   "source": [
    "**Operator Overloading** in Python is supported using special methods `(__add__, __len__, etc.)`.\n",
    "\n",
    "Function Overloading isn't natively supported — if you define a function twice, the last one overrides the previous."
   ]
  },
  {
   "cell_type": "code",
   "execution_count": null,
   "metadata": {},
   "outputs": [],
   "source": [
    "class Vector:\n",
    "    def __init__(self, x, y):\n",
    "        self.x = x\n",
    "        self.y = y\n",
    "\n",
    "    def __add__(self, other):\n",
    "        return Vector(self.x + other.x, self.y + other.y)\n",
    "\n",
    "# Usage\n",
    "v1 = Vector(1, 2)\n",
    "v2 = Vector(3, 4)\n",
    "v3 = v1 + v2  # calls __add__, operator overloading\n"
   ]
  },
  {
   "cell_type": "code",
   "execution_count": 12,
   "metadata": {},
   "outputs": [],
   "source": [
    "# NOTE:\n",
    "# All overloading and polymorphism in Python are resolved at run-time, after bytecode is generated.\n",
    "# Python is a dynamically typed language\n",
    "# Dynamic (late) binding is used, not static (early) binding\n",
    "# Even operator like + becomes __add__() at run-time, not at parse-time or compile-time"
   ]
  },
  {
   "cell_type": "markdown",
   "metadata": {
    "id": "Q_fSo8aDqSKX"
   },
   "source": [
    "**Method Overriding**:\n",
    "\n",
    "Method overriding is a form of polymorphism that occurs at runtime.\n",
    "\n",
    "In Python, a subclass can provide a specific implementation for a method that is already defined in its superclass.\n",
    "\n",
    "This allows objects of the derived class to be used interchangeably with objects of the base class."
   ]
  },
  {
   "cell_type": "code",
   "execution_count": null,
   "metadata": {
    "colab": {
     "base_uri": "https://localhost:8080/"
    },
    "id": "NRofw1RUjB_X",
    "outputId": "66320660-948c-4b64-99f7-416a291d46a7"
   },
   "outputs": [
    {
     "name": "stdout",
     "output_type": "stream",
     "text": [
      "Woof!\n",
      "Meow!\n"
     ]
    }
   ],
   "source": [
    "class Animal:\n",
    "    def make_sound(self):\n",
    "        return \"Some generic sound\"\n",
    "\n",
    "class Dog(Animal):\n",
    "    def make_sound(self):\n",
    "        return \"Woof!\"\n",
    "\n",
    "class Cat(Animal):\n",
    "    def make_sound(self):\n",
    "        return \"Meow!\"\n",
    "\n",
    "# Example usage of method overriding\n",
    "dog = Dog()\n",
    "cat = Cat()\n",
    "\n",
    "print(dog.make_sound())  # Output: Woof!\n",
    "print(cat.make_sound())  # Output: Meow!\n"
   ]
  },
  {
   "cell_type": "markdown",
   "metadata": {
    "id": "e43Fymsqu_T8"
   },
   "source": [
    "Method overriding is a concept in object-oriented programming where a subclass provides a specific implementation for a method that is already defined in its superclass.\n",
    "\n",
    "This allows the subclass to provide a specialized behavior while still maintaining the same method signature as the superclass.\n",
    "\n",
    "In Python, method overriding is achieved by creating a method in the subclass with the same name as the method in the superclass."
   ]
  },
  {
   "cell_type": "markdown",
   "metadata": {
    "id": "yWTBK31cvpP4"
   },
   "source": [
    "**Key Points**\n",
    "\n",
    "1. Method overriding is a form of run-time polymorphism, and the specific implementation to be called is determined at runtime based on the type of the object.\n",
    "\n",
    "2. The `super()` function can be used to call the overridden method from the superclass within the overridden method of the subclass if needed."
   ]
  },
  {
   "cell_type": "markdown",
   "metadata": {},
   "source": [
    "**Duck Typing**\n",
    "\n",
    "Duck typing is a concept in Python where the type of an object is less important than the methods and properties it has.\n",
    "\n",
    "“If it walks like a duck and quacks like a duck, it's probably a duck.”\n",
    "\n",
    "So in Python, if an object has the right methods or attributes, you can use it, regardless of its actual class."
   ]
  },
  {
   "cell_type": "code",
   "execution_count": null,
   "metadata": {},
   "outputs": [],
   "source": [
    "class CreditCard:\n",
    "    def pay(self, amount):\n",
    "        print(f\"Paid ₹{amount} using Credit Card.\")\n",
    "\n",
    "class UPI:\n",
    "    def pay(self, amount):\n",
    "        print(f\"Paid ₹{amount} using UPI.\")\n",
    "\n",
    "class PayPal:\n",
    "    def pay(self, amount):\n",
    "        print(f\"Paid ₹{amount} using PayPal.\")\n",
    "\n",
    "# Duck typing function\n",
    "def process_payment(payment_method, amount):\n",
    "    payment_method.pay(amount)  # No type check!\n",
    "\n",
    "# Different objects with the same method name\n",
    "process_payment(CreditCard(), 500)\n",
    "process_payment(UPI(), 200)\n",
    "process_payment(PayPal(), 1000)\n"
   ]
  },
  {
   "cell_type": "code",
   "execution_count": null,
   "metadata": {},
   "outputs": [],
   "source": [
    "Why It’s Duck Typing:\n",
    "The function process_payment() doesn't care what type of object it receives.\n",
    "It only cares that the object has a .pay() method.\n",
    "This is \"If it quacks like a duck…\" — behavior-based programming, not type-based."
   ]
  },
  {
   "cell_type": "markdown",
   "metadata": {},
   "source": [
    "**Example: E-Commerce Product**"
   ]
  },
  {
   "cell_type": "code",
   "execution_count": 4,
   "metadata": {},
   "outputs": [],
   "source": [
    "# Step 1: Create a Base Class Product\n",
    "class Product:\n",
    "    def __init__(self, name, price):\n",
    "        self.name = name\n",
    "        self.price = price\n",
    "\n",
    "    def get_details(self):\n",
    "        return f\"{self.name}: ₹{self.price}\"\n"
   ]
  },
  {
   "cell_type": "code",
   "execution_count": 5,
   "metadata": {},
   "outputs": [],
   "source": [
    "# Step 2: Create Subclass Electronics\n",
    "class Electronics(Product):\n",
    "    def __init__(self, name, price, warranty):\n",
    "        super().__init__(name, price)\n",
    "        self.warranty = warranty\n",
    "\n",
    "    def get_details(self):\n",
    "        return super().get_details() + f\", Warranty: {self.warranty} years\"\n",
    "\n",
    "# This class overrides the get_details() method — adds warranty info to the base class output."
   ]
  },
  {
   "cell_type": "code",
   "execution_count": 6,
   "metadata": {},
   "outputs": [],
   "source": [
    "# Step 3: Create Subclass Clothing\n",
    "class Clothing(Product):\n",
    "    def __init__(self, name, price, size):\n",
    "        super().__init__(name, price)\n",
    "        self.size = size\n",
    "\n",
    "    def get_details(self):\n",
    "        return super().get_details() + f\", Size: {self.size}\"\n",
    "#  Again, get_details() is overridden to include size for clothing."
   ]
  },
  {
   "cell_type": "code",
   "execution_count": 7,
   "metadata": {},
   "outputs": [
    {
     "name": "stdout",
     "output_type": "stream",
     "text": [
      "Smartphone: ₹25000, Warranty: 2 years\n",
      "T-shirt: ₹999, Size: M\n",
      "Book: ₹500\n"
     ]
    }
   ],
   "source": [
    "# Step 4: Use Polymorphism in Action : \n",
    "# Polymorphism in action\n",
    "products = [\n",
    "    Electronics(\"Smartphone\", 25000, 2),\n",
    "    Clothing(\"T-shirt\", 999, \"M\"),\n",
    "    Product(\"Book\", 500)\n",
    "]\n",
    "\n",
    "for item in products:\n",
    "    print(item.get_details())\n"
   ]
  },
  {
   "cell_type": "code",
   "execution_count": null,
   "metadata": {},
   "outputs": [],
   "source": [
    "# What Happened Here?\n",
    "# You called the same method get_details() on different objects.\n",
    "# Each object responded differently, based on its class.\n",
    "# This is runtime polymorphism — the method that gets executed is determined at runtime."
   ]
  },
  {
   "cell_type": "markdown",
   "metadata": {
    "jp-MarkdownHeadingCollapsed": true
   },
   "source": [
    "### **Lecture 19: Abstraction in Python**"
   ]
  },
  {
   "cell_type": "markdown",
   "metadata": {
    "id": "rLCG0JLDqLTt"
   },
   "source": [
    "#### 19.1 Abstract Class in Python"
   ]
  },
  {
   "cell_type": "code",
   "execution_count": null,
   "metadata": {},
   "outputs": [],
   "source": [
    "till now we have seen concrete class\n",
    "what to do not how to do"
   ]
  },
  {
   "cell_type": "markdown",
   "metadata": {},
   "source": [
    "**One-Liner**: An abstract class is like a template for other classes.\n",
    "\n",
    "It defines methods that must be included in any class that inherits from it, but it doesn’t provide the actual code for those methods.\n",
    "\n",
    "An abstract class in Python is a class that cannot be instantiated and is meant to be inherited by other classes. It can define abstract methods (methods with no implementation) that must be implemented by any subclass.\n",
    "\n",
    "**Usecase:** Abstract classes are used to define a common interface for a group of related classes."
   ]
  },
  {
   "cell_type": "markdown",
   "metadata": {},
   "source": [
    "- Abstract classes are defined using the `abc` module.\n",
    "- Use `@abstractmethod` decorator to mark methods that must be overridden.\n",
    "- You cannot create objects of an abstract class directly."
   ]
  },
  {
   "cell_type": "markdown",
   "metadata": {},
   "source": [
    "**Creating a Python Abstract Class**\n",
    "- The ABC class is a built-in Python feature that serves as a fundamental basis for developing abstract classes. You must inherit from ABC to define an abstract class. The class is abstract and cannot be instantiated directly, as indicated by this inheritance.\n",
    "- You can define abstract methods inside an abstract class by using the abstractmethod decorator.\n",
    "- Any concrete subclass must implement and override abstract methods, which are placeholders.\n",
    "- This makes the code consistent and predictable by guaranteeing that all derived classes offer functionality for the designated methods. "
   ]
  },
  {
   "cell_type": "code",
   "execution_count": 25,
   "metadata": {},
   "outputs": [],
   "source": [
    "from abc import ABC, abstractmethod\n",
    "\n",
    "class Shape(ABC):\n",
    "    @abstractmethod\n",
    "    def area(self):\n",
    "        pass\n"
   ]
  },
  {
   "cell_type": "code",
   "execution_count": 23,
   "metadata": {},
   "outputs": [],
   "source": [
    "shape = Shape() # error"
   ]
  },
  {
   "cell_type": "code",
   "execution_count": 13,
   "metadata": {},
   "outputs": [],
   "source": [
    "class Shape(ABC):\n",
    "    @abstractmethod\n",
    "    def area(self):\n",
    "        pass\n",
    "\n",
    "class Circle(Shape):\n",
    "    def __init__(self, radius):\n",
    "        self.radius = radius"
   ]
  },
  {
   "cell_type": "code",
   "execution_count": 14,
   "metadata": {},
   "outputs": [],
   "source": [
    "#circle = Circle() #error"
   ]
  },
  {
   "cell_type": "code",
   "execution_count": 15,
   "metadata": {},
   "outputs": [],
   "source": [
    "class Shape(ABC):\n",
    "    @abstractmethod\n",
    "    def area(self):\n",
    "        pass\n",
    "\n",
    "class Circle(Shape):\n",
    "    def __init__(self, radius):\n",
    "        self.radius = radius\n",
    "\n",
    "    def area(self):\n",
    "        return 3.14159 * self.radius ** 2"
   ]
  },
  {
   "cell_type": "code",
   "execution_count": 16,
   "metadata": {},
   "outputs": [
    {
     "name": "stdout",
     "output_type": "stream",
     "text": [
      "Area: 78.53975\n"
     ]
    }
   ],
   "source": [
    "circle = Circle(5)\n",
    "print(f\"Area: {circle.area()}\")"
   ]
  },
  {
   "cell_type": "code",
   "execution_count": 20,
   "metadata": {},
   "outputs": [],
   "source": [
    "class Shape(ABC):\n",
    "    @abstractmethod\n",
    "    def area(self):\n",
    "        pass\n",
    "        \n",
    "    def concrete_method(self):\n",
    "        print(\"concrete method in abstract class\")\n",
    "\n",
    "class Circle(Shape):\n",
    "    def __init__(self, radius):\n",
    "        self.radius = radius\n",
    "\n",
    "    def area(self):\n",
    "        return 3.14159 * self.radius ** 2\n",
    "\n",
    "    def concrete_method(self):\n",
    "        print(\"concrete method in concrete class\")"
   ]
  },
  {
   "cell_type": "code",
   "execution_count": 21,
   "metadata": {},
   "outputs": [
    {
     "name": "stdout",
     "output_type": "stream",
     "text": [
      "concrete method in concrete class\n"
     ]
    }
   ],
   "source": [
    "circle = Circle(5)\n",
    "circle.concrete_method()"
   ]
  },
  {
   "cell_type": "markdown",
   "metadata": {},
   "source": [
    "**Types of Abstraction**\n",
    "\n",
    "- Partial Abstraction: Abstract class contains both abstract and concrete methods.\n",
    "- Full Abstraction: Abstract class contains only abstract methods (like interfaces)."
   ]
  },
  {
   "cell_type": "markdown",
   "metadata": {},
   "source": [
    "**Why use abstract classes in Python?**\n",
    "\n",
    "- Enforce method implementation: An abstract class's methods function as a contract, requiring each subclass to supply its own implementation.\n",
    "- Encourage code reuse: abstract classes can have both concrete and abstract methods.\n"
   ]
  },
  {
   "cell_type": "markdown",
   "metadata": {},
   "source": [
    "---"
   ]
  },
  {
   "cell_type": "code",
   "execution_count": null,
   "metadata": {},
   "outputs": [],
   "source": []
  },
  {
   "cell_type": "code",
   "execution_count": null,
   "metadata": {},
   "outputs": [],
   "source": []
  },
  {
   "cell_type": "code",
   "execution_count": null,
   "metadata": {},
   "outputs": [],
   "source": []
  },
  {
   "cell_type": "code",
   "execution_count": null,
   "metadata": {},
   "outputs": [],
   "source": []
  },
  {
   "cell_type": "markdown",
   "metadata": {},
   "source": [
    "#### 19.2 Abstraction in Python"
   ]
  },
  {
   "cell_type": "markdown",
   "metadata": {
    "id": "5G1E0OMwRmZk"
   },
   "source": [
    "Abstraction means hiding complex internal details and showing only essential features.\n",
    "\n",
    "It helps focus on \"what to do\" rather than \"how to do it.\"\n",
    "\n",
    "**One Liner:** concept of hiding unnecessary implementation details\n",
    "\n",
    "In Python, abstraction is often done using abstract base classes (abc module).\n",
    "\n",
    "\n",
    "\n",
    "#### Example:"
   ]
  },
  {
   "cell_type": "code",
   "execution_count": null,
   "metadata": {},
   "outputs": [],
   "source": []
  },
  {
   "cell_type": "code",
   "execution_count": 18,
   "metadata": {
    "colab": {
     "base_uri": "https://localhost:8080/"
    },
    "id": "pnxGR49xREj-",
    "outputId": "534ecee4-47f5-4bdb-9efb-114d3ef937fe"
   },
   "outputs": [],
   "source": [
    "from abc import ABC, abstractmethod\n",
    "\n",
    "\"\"\"\n",
    "PaymentMethod is an abstract class:\n",
    "Inherits from ABC (Abstract Base Class).\n",
    "It defines a method pay() but doesn't implchement it.\n",
    "This acts like a contract: any class that inherits it must implement pay().\n",
    "\"\"\"\n",
    "class PaymentMethod(ABC): # Abstract class\n",
    "    @abstractmethod\n",
    "    def pay(self, amount):\n",
    "        pass\n",
    "\n",
    "class CreditCard(PaymentMethod): # Concrete classes.\n",
    "    def pay(self, amount):\n",
    "        return f\"Paid ₹{amount} using Credit Card.\"\n",
    "\n",
    "class UPI(PaymentMethod):\n",
    "    def pay(self, amount):\n",
    "        return f\"Paid ₹{amount} via UPI.\"\n",
    "\n",
    "# Client code\n",
    "def process_payment(method: PaymentMethod, amount):\n",
    "    print(method.pay(amount))\n"
   ]
  },
  {
   "cell_type": "code",
   "execution_count": 19,
   "metadata": {},
   "outputs": [
    {
     "name": "stdout",
     "output_type": "stream",
     "text": [
      "Paid ₹500 using Credit Card.\n",
      "Paid ₹750 via UPI.\n"
     ]
    }
   ],
   "source": [
    "card = CreditCard()\n",
    "upi = UPI()\n",
    "\n",
    "process_payment(card, 500)  # Output: Paid ₹500 using Credit Card.\n",
    "process_payment(upi, 750)   # Output: Paid ₹750 via UPI.\n"
   ]
  },
  {
   "cell_type": "markdown",
   "metadata": {
    "id": "JJxsZkWrSoIC"
   },
   "source": [
    "**NOTE**\n",
    "- `PaymentMethod` is an abstract base class. You don’t care how payment is processed—just that it works.\n",
    "\n",
    "-  Why it's useful: Clean interfaces, secure logic, and scalable design (e.g., you can add Wallet, COD, etc.)."
   ]
  },
  {
   "cell_type": "markdown",
   "metadata": {},
   "source": [
    "**Abstractions Vs Encapsulation**\n",
    "\n",
    "| Feature             | **Encapsulation**                     | **Abstraction**                            |\n",
    "| ------------------- | ------------------------------------- | ------------------------------------------ |\n",
    "| **Purpose**         | Hide internal state/data              | Hide implementation complexity             |\n",
    "| **What is hidden?** | Data (e.g., password, cart total)     | Logic/Details (e.g., how `.pay()` works)   |\n",
    "| **How?**            | Private variables (`__var`) + methods | Abstract classes, interfaces, clean APIs   |\n",
    "| **User sees**       | Controlled access to variables        | Only the interface (`pay`, `refund`, etc.) |\n",
    "| **Example**         | `__password`, `__total_price`         | `PaymentMethod.pay()`                      |\n",
    "| **Goal**            | Protect data from misuse              | Simplify usage of complex systems          |\n"
   ]
  },
  {
   "cell_type": "markdown",
   "metadata": {
    "id": "ZBiixcuM4NpT"
   },
   "source": [
    "**key Points :**\n",
    "\n",
    "1. Abstract classes cannot be instantiated directly.\n",
    "\n",
    "2. Abstract methods are declared using the `@abstractmethod` decorator in the abstract class.\n",
    "\n",
    "3. Subclasses must provide concrete implementations for all abstract methods to be considered valid.\n",
    "\n",
    "4. Abstract classes can contain both abstract and non-abstract methods.\n",
    "\n",
    "\n",
    "**Why to use Abstraction ?** \n",
    "\n",
    "Abstraction ensures consistency in derived classes by enforcing the implementation of abstract methods.\n"
   ]
  },
  {
   "cell_type": "markdown",
   "metadata": {
    "id": "bScp5USqqLnW"
   },
   "source": [
    "---"
   ]
  },
  {
   "cell_type": "markdown",
   "metadata": {
    "id": "OQRclcV5lbp5"
   },
   "source": [
    "### **References**\n",
    "1. https://www.codechef.com/learn/course/oops-concepts-in-python\n",
    "2. https://realpython.com/python3-object-oriented-programming/\n",
    "3. https://www.sanfoundry.com/object-oriented-programming-oop-in-python/\n",
    "4. https://www.geeksforgeeks.org/python/python-oops-concepts/"
   ]
  }
 ],
 "metadata": {
  "colab": {
   "collapsed_sections": [
    "HrR8QjfeKylO",
    "kHdOdzHkv7Kk",
    "e9w_fmngO_3E",
    "CLQ_SqfL5OiS"
   ],
   "provenance": []
  },
  "kernelspec": {
   "display_name": "Python 3 (ipykernel)",
   "language": "python",
   "name": "python3"
  },
  "language_info": {
   "codemirror_mode": {
    "name": "ipython",
    "version": 3
   },
   "file_extension": ".py",
   "mimetype": "text/x-python",
   "name": "python",
   "nbconvert_exporter": "python",
   "pygments_lexer": "ipython3",
   "version": "3.13.5"
  }
 },
 "nbformat": 4,
 "nbformat_minor": 4
}
