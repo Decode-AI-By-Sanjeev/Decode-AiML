{
 "cells": [
  {
   "cell_type": "markdown",
   "id": "9e90279c-0c9e-47c7-be2a-6dced33c375a",
   "metadata": {},
   "source": [
    "# hey this is my first hello world Program in Python and I am excited for this !!"
   ]
  },
  {
   "cell_type": "code",
   "execution_count": 2,
   "id": "60b2dcc0-3150-4486-9002-732fa892c9d8",
   "metadata": {},
   "outputs": [
    {
     "name": "stdout",
     "output_type": "stream",
     "text": [
      "hello world !!\n"
     ]
    }
   ],
   "source": [
    "print(\"hello world !!\")"
   ]
  }
 ],
 "metadata": {
  "kernelspec": {
   "display_name": "Python [conda env:base] *",
   "language": "python",
   "name": "conda-base-py"
  },
  "language_info": {
   "codemirror_mode": {
    "name": "ipython",
    "version": 3
   },
   "file_extension": ".py",
   "mimetype": "text/x-python",
   "name": "python",
   "nbconvert_exporter": "python",
   "pygments_lexer": "ipython3",
   "version": "3.12.7"
  }
 },
 "nbformat": 4,
 "nbformat_minor": 5
}
