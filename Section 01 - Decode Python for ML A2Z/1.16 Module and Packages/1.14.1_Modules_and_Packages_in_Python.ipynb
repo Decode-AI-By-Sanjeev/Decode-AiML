{
 "cells": [
  {
   "cell_type": "markdown",
   "metadata": {
    "id": "krVL71h5qIQE"
   },
   "source": [
    "# Modules and Packages\n"
   ]
  },
  {
   "cell_type": "markdown",
   "metadata": {
    "id": "ussaWAf1s9fY"
   },
   "source": [
    "## 1. Python Modules"
   ]
  },
  {
   "cell_type": "markdown",
   "metadata": {
    "id": "V3dWyyTIqIQI"
   },
   "source": [
    "\n",
    "\n",
    "- A **module** in Python is just a file that ends with `.py`.  \n",
    "- It can have **functions**, **variables**, or **classes** that you want to use in other programs.\n",
    "\n",
    "#### How to Use a Module\n",
    "\n",
    "You use the `import` keyword to bring in (import) a module into your code, like\n",
    "\n",
    "```python\n",
    "import math\n",
    "```\n",
    "\n",
    "#### Built-in Modules\n",
    "\n",
    "Python comes with many **built-in modules** (like `math`, `random`, etc.).  \n",
    "You can check the full list in the **Python Standard Library**.\n",
    "\n",
    "#### What Happens When You Import a Module?\n",
    "\n",
    "- The **first time** you import a module, Python **runs the code inside it once**.\n",
    "- If you **import it again** somewhere else in your program, Python **does not run it again**.\n",
    "- This means the module is like a **singleton** – it gets loaded just once, and its variables are shared wherever you use it.\n",
    "\n",
    "\n"
   ]
  },
  {
   "cell_type": "markdown",
   "metadata": {
    "id": "kuJmLqMWq2R8"
   },
   "source": [
    "If we want to import module math,  we simply import the module:"
   ]
  },
  {
   "cell_type": "code",
   "execution_count": 1,
   "metadata": {
    "id": "EOr7J6XzqIQL"
   },
   "outputs": [],
   "source": [
    "# import the library\n",
    "import numpy\n",
    "import math"
   ]
  },
  {
   "cell_type": "code",
   "execution_count": 2,
   "metadata": {
    "colab": {
     "base_uri": "https://localhost:8080/"
    },
    "id": "XMqCtAj2qIQN",
    "outputId": "2cd68c7b-b1bd-4841-c0f8-6fa3e1bbd1aa"
   },
   "outputs": [
    {
     "data": {
      "text/plain": [
       "3"
      ]
     },
     "execution_count": 2,
     "metadata": {},
     "output_type": "execute_result"
    }
   ],
   "source": [
    "# use it (ceiling rounding)\n",
    "math.ceil(2.4)"
   ]
  },
  {
   "cell_type": "markdown",
   "metadata": {
    "id": "4rDSQ-bUqIQP"
   },
   "source": [
    "#### Exploring built-in modules\n",
    "\n",
    "While exploring modules in Python, two important functions come in handy - the dir and help functions. dir functions show which functions are implemented in each module. Let us see the below example and understand better."
   ]
  },
  {
   "cell_type": "code",
   "execution_count": 3,
   "metadata": {
    "colab": {
     "base_uri": "https://localhost:8080/"
    },
    "id": "LmqIvAWcqIQP",
    "outputId": "0548a0d9-fd09-4174-a946-74f616ded89f"
   },
   "outputs": [
    {
     "name": "stdout",
     "output_type": "stream",
     "text": [
      "['__doc__', '__loader__', '__name__', '__package__', '__spec__', 'acos', 'acosh', 'asin', 'asinh', 'atan', 'atan2', 'atanh', 'cbrt', 'ceil', 'comb', 'copysign', 'cos', 'cosh', 'degrees', 'dist', 'e', 'erf', 'erfc', 'exp', 'exp2', 'expm1', 'fabs', 'factorial', 'floor', 'fmod', 'frexp', 'fsum', 'gamma', 'gcd', 'hypot', 'inf', 'isclose', 'isfinite', 'isinf', 'isnan', 'isqrt', 'lcm', 'ldexp', 'lgamma', 'log', 'log10', 'log1p', 'log2', 'modf', 'nan', 'nextafter', 'perm', 'pi', 'pow', 'prod', 'radians', 'remainder', 'sin', 'sinh', 'sqrt', 'tan', 'tanh', 'tau', 'trunc', 'ulp']\n"
     ]
    }
   ],
   "source": [
    "print(dir(math))"
   ]
  },
  {
   "cell_type": "markdown",
   "metadata": {
    "id": "w87rhDyFqIQQ"
   },
   "source": [
    "When we find the function in the module we want to use, we can read about it more using the help function, inside the Python interpreter:"
   ]
  },
  {
   "cell_type": "code",
   "execution_count": 4,
   "metadata": {
    "colab": {
     "base_uri": "https://localhost:8080/"
    },
    "id": "ED6QC-XVqIQQ",
    "outputId": "c24be58c-3251-440d-9a73-d5328461609c"
   },
   "outputs": [
    {
     "name": "stdout",
     "output_type": "stream",
     "text": [
      "Help on built-in function ceil in module math:\n",
      "\n",
      "ceil(x, /)\n",
      "    Return the ceiling of x as an Integral.\n",
      "    \n",
      "    This is the smallest integer >= x.\n",
      "\n"
     ]
    }
   ],
   "source": [
    "help(math.ceil)"
   ]
  },
  {
   "cell_type": "markdown",
   "metadata": {
    "id": "OJC4dYCOtN-o"
   },
   "source": [
    "#### How to Write our own modules ?\n",
    "Writing Python modules is very simple. To create a module of your own, simply create a new .py file with the module name, and then import it using the Python file name (without the .py extension) using the import command.\n",
    "\n",
    "---"
   ]
  },
  {
   "cell_type": "markdown",
   "metadata": {
    "id": "6vBtCi1Xte3n"
   },
   "source": [
    "## 2. Python Packages"
   ]
  },
  {
   "cell_type": "markdown",
   "metadata": {
    "id": "ncO-4nTeqIQR"
   },
   "source": [
    "Packages are namespaces which contain multiple packages and modules themselves. They are simply directories, but with a twist.\n",
    "\n",
    "The twist is, each package in Python is a directory which MUST contain a special file called **`__init__.py`**. This file can be empty, and it indicates that the directory it contains is a Python package, so it can be imported the same way a module can be imported.\n",
    "\n",
    "If we create a directory called foo, which marks the package name, we can then create a module inside that package called bar. We also must not forget to add the **`__init__.py`** file inside the foo directory.\n",
    "\n",
    "To use the module bar, we can import it in two ways:"
   ]
  },
  {
   "cell_type": "code",
   "execution_count": null,
   "metadata": {},
   "outputs": [],
   "source": [
    "**Explanation Starts**"
   ]
  },
  {
   "cell_type": "code",
   "execution_count": null,
   "metadata": {},
   "outputs": [],
   "source": [
    "# A package is just a folder (directory) that contains Python files (called modules) or even other packages.\n",
    "# Packages help organize code better, especially in large projects."
   ]
  },
  {
   "cell_type": "code",
   "execution_count": null,
   "metadata": {},
   "outputs": [],
   "source": [
    "# Special Rule: __init__.py\n",
    "# For Python to recognize a folder as a package, the folder must contain a file called __init__.py.\n",
    "# Even if __init__.py is empty, its presence tells Python: \"Hey, this folder is a package.\""
   ]
  },
  {
   "cell_type": "code",
   "execution_count": null,
   "metadata": {},
   "outputs": [],
   "source": [
    "my_project/\n",
    "│\n",
    "└── foo/               ← This is the package\n",
    "    ├── __init__.py    ← Makes \"foo\" a package\n",
    "    └── bar.py         ← This is a module inside \"foo\""
   ]
  },
  {
   "cell_type": "code",
   "execution_count": null,
   "metadata": {},
   "outputs": [],
   "source": [
    "bar.py:\n",
    "\n",
    "def greet():\n",
    "    print(\"Hello from bar module!\")"
   ]
  },
  {
   "cell_type": "code",
   "execution_count": null,
   "metadata": {},
   "outputs": [],
   "source": [
    "# Importing the Module bar from the Package foo"
   ]
  },
  {
   "cell_type": "code",
   "execution_count": null,
   "metadata": {},
   "outputs": [],
   "source": [
    "# Approach 1\n",
    "import foo.bar\n",
    "\n",
    "foo.bar.greet()"
   ]
  },
  {
   "cell_type": "code",
   "execution_count": null,
   "metadata": {},
   "outputs": [],
   "source": [
    "# Approach 2\n",
    "from foo import bar\n",
    "\n",
    "bar.greet()"
   ]
  },
  {
   "cell_type": "code",
   "execution_count": null,
   "metadata": {},
   "outputs": [],
   "source": [
    "**Explanation Ends**"
   ]
  },
  {
   "cell_type": "code",
   "execution_count": null,
   "metadata": {
    "id": "FBgVkpG4qIQS"
   },
   "outputs": [],
   "source": [
    "# Just an example, this won't work\n",
    "import foo.bar"
   ]
  },
  {
   "cell_type": "code",
   "execution_count": null,
   "metadata": {
    "id": "Ma7R83NqqIQS"
   },
   "outputs": [],
   "source": [
    "# OR could do it this way\n",
    "from foo import bar"
   ]
  },
  {
   "cell_type": "markdown",
   "metadata": {
    "id": "czFQOAlRqIQT"
   },
   "source": [
    "In the first method, we must use the foo prefix whenever we access the module bar. In the second method, we don't, because we import the module to our module's namespace.\n",
    "\n",
    "The **`__init__.py`** file can also decide which modules the package exports as the API, while keeping other modules internal, by overriding the **`__all__`** variable, like so:"
   ]
  },
  {
   "cell_type": "code",
   "execution_count": null,
   "metadata": {
    "id": "bbiArYmIqIQU"
   },
   "outputs": [],
   "source": [
    "__init__.py:\n",
    "\n",
    "__all__ = [\"bar\"]"
   ]
  },
  {
   "cell_type": "code",
   "execution_count": null,
   "metadata": {},
   "outputs": [],
   "source": [
    "# The __all__ list in __init__.py only affects from my_package import *.\n",
    "# It does not affect explicit imports like from my_package import baz."
   ]
  }
 ],
 "metadata": {
  "colab": {
   "collapsed_sections": [
    "ncO-4nTeqIQR"
   ],
   "provenance": []
  },
  "kernelspec": {
   "display_name": "Python 3 (ipykernel)",
   "language": "python",
   "name": "python3"
  },
  "language_info": {
   "codemirror_mode": {
    "name": "ipython",
    "version": 3
   },
   "file_extension": ".py",
   "mimetype": "text/x-python",
   "name": "python",
   "nbconvert_exporter": "python",
   "pygments_lexer": "ipython3",
   "version": "3.13.5"
  }
 },
 "nbformat": 4,
 "nbformat_minor": 4
}
