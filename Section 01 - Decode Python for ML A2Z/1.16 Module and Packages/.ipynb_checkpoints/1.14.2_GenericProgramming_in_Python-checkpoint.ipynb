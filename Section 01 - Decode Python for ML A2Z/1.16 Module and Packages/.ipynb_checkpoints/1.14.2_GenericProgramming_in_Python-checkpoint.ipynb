{
 "cells": [
  {
   "cell_type": "markdown",
   "metadata": {
    "id": "ZrgUHBdd6mvy"
   },
   "source": [
    "# Generic Programming in Python\n"
   ]
  },
  {
   "cell_type": "markdown",
   "metadata": {},
   "source": [
    "**Generic programming** in Python refers to writing code that is **not tightly coupled to a specific data type**. Instead, the focus is on building **flexible and reusable code** that can operate on various types without requiring modifications.\n",
    "\n",
    "Let's see some techniques for generic programming in python\n",
    "\n",
    "---"
   ]
  },
  {
   "cell_type": "markdown",
   "metadata": {},
   "source": [
    "### 1. Generic Types"
   ]
  },
  {
   "cell_type": "markdown",
   "metadata": {},
   "source": [
    "- Python supports **generic types** using the `typing` module.\n",
    "- You can define **type-safe functions and classes** that work with a variety of data types."
   ]
  },
  {
   "cell_type": "code",
   "execution_count": 7,
   "metadata": {
    "colab": {
     "base_uri": "https://localhost:8080/"
    },
    "id": "NEYb7h5g6xin",
    "outputId": "9832d619-f7ad-4d46-8374-8ecc1953c5ed"
   },
   "outputs": [
    {
     "name": "stdout",
     "output_type": "stream",
     "text": [
      "1\n",
      "apple\n"
     ]
    }
   ],
   "source": [
    "#### ✅ Example: Generic Function Using `TypeVar`\n",
    "\n",
    "from typing import TypeVar, List\n",
    "\n",
    "T = TypeVar('T')  # Define a generic type\n",
    "\n",
    "def first_element(elements: List[T]) -> T:\n",
    "    return elements[0]\n",
    "\n",
    "# Works with int\n",
    "print(first_element([1, 2, 3]))  # Output: 1\n",
    "\n",
    "# Works with str\n",
    "print(first_element([\"apple\", \"banana\"]))  # Output: \"apple\""
   ]
  },
  {
   "cell_type": "code",
   "execution_count": null,
   "metadata": {
    "id": "q_mM1IQ7-oPe"
   },
   "outputs": [],
   "source": [
    "# Problems for Practice: Generic Maximum Finder\n",
    "\n",
    "from typing import TypeVar\n",
    "\n",
    "T = TypeVar('T')\n",
    "\n",
    "# A generic method to find the maximum of two values of any type.\n",
    "def find_max(a: T, b: T) -> T:\n",
    "    return a if a > b else b\n",
    "\n",
    "# Example usage\n",
    "max_int = find_max(10, 5)\n",
    "print(\"Max Integer:\", max_int)\n",
    "\n",
    "max_string = find_max(\"apple\", \"banana\")\n",
    "print(\"Max String:\", max_string)\n",
    "\n",
    "max_double = find_max(3.14, 2.71)\n",
    "print(\"Max Double:\", max_double)"
   ]
  },
  {
   "cell_type": "markdown",
   "metadata": {},
   "source": [
    "**NOTE**\n",
    "\n",
    "Python is dynamically typed, which means it doesn't check types during runtime unless you explicitly do so.\n",
    "\n",
    "But tools like:\n",
    "\n",
    "1. mypy\n",
    "2. pyright (used by VS Code)\n",
    "3. Linters in IDEs like VS Code, PyCharm\n",
    "\n",
    "...analyze your code before running it to ensure that you’re using types correctly based on your annotations."
   ]
  },
  {
   "cell_type": "markdown",
   "metadata": {
    "id": "tYSVSa3WAEYC"
   },
   "source": [
    "### Key Difference TypeVar vs Any\n",
    "| Feature          | `TypeVar`                     | `Any`                            |\n",
    "| ---------------- | ----------------------------- | -------------------------------- |\n",
    "| Defined in       | `typing` module               | `typing` module                  |\n",
    "| Purpose          | Generic type placeholder      | Accept any type without checking |\n",
    "| Type safety      | ✅ Yes                         | ❌ No                             |\n",
    "| Use case         | Reusable, type-safe code      | Dynamic, flexible code           |\n",
    "| Type consistency | ✅ Enforced                    | ❌ Not enforced                   |\n",
    "| Runtime effect   | No effect (only for checkers) | No effect (only for checkers)    |\n"
   ]
  },
  {
   "cell_type": "markdown",
   "metadata": {
    "id": "P23GtdMi746l"
   },
   "source": [
    "\n",
    "### 2. Duck Typing\n",
    "\n",
    "Python uses duck typing, which means:\n",
    "\n",
    "- \"If it walks like a duck and quacks like a duck, it's a duck.\"\n",
    "\n",
    "- An object’s behavior (methods/properties) is more important than its type."
   ]
  },
  {
   "cell_type": "code",
   "execution_count": null,
   "metadata": {},
   "outputs": [],
   "source": [
    "# The object's actual type doesn't matter, as long as it has the required methods/attributes."
   ]
  },
  {
   "cell_type": "code",
   "execution_count": 9,
   "metadata": {
    "id": "94P0pX3g7hnp"
   },
   "outputs": [],
   "source": [
    "class PayPal:\n",
    "    def pay(self, amount):\n",
    "        print(f\"Paying ₹{amount} using PayPal\")\n",
    "\n",
    "class CreditCard:\n",
    "    def pay(self, amount):\n",
    "        print(f\"Paying ₹{amount} using Credit Card\")\n"
   ]
  },
  {
   "cell_type": "code",
   "execution_count": 10,
   "metadata": {},
   "outputs": [],
   "source": [
    "# No base class.\n",
    "# No interface.\n",
    "# process_payment() just expects the object to have a .pay() method."
   ]
  },
  {
   "cell_type": "code",
   "execution_count": 11,
   "metadata": {},
   "outputs": [],
   "source": [
    "# client code\n",
    "def process_payment(payment_method, amount):\n",
    "    payment_method.pay(amount)"
   ]
  },
  {
   "cell_type": "code",
   "execution_count": 12,
   "metadata": {},
   "outputs": [
    {
     "name": "stdout",
     "output_type": "stream",
     "text": [
      "Paying ₹500 using PayPal\n",
      "Paying ₹1000 using Credit Card\n"
     ]
    }
   ],
   "source": [
    "paypal = PayPal()\n",
    "credit_card = CreditCard()\n",
    "\n",
    "process_payment(paypal, 500)\n",
    "process_payment(credit_card, 1000)"
   ]
  },
  {
   "cell_type": "markdown",
   "metadata": {
    "id": "j19kdBYz9hK-"
   },
   "source": [
    "---\n",
    "\n",
    "### 3.Function Overloading:\n",
    "\n",
    "While Python does not support traditional function overloading (defining multiple functions with the same name but different parameter types or counts), you can achieve similar behavior using default parameter values or variable arguments.\n",
    "\n",
    "---"
   ]
  },
  {
   "cell_type": "markdown",
   "metadata": {
    "id": "ndKaJJsC9hOh"
   },
   "source": [
    "### 4. **Polymorphism :**\n",
    "\n",
    "Python supports polymorphism, allowing different objects to be treated as instances of the same class through inheritance and method overriding.\n",
    "\n",
    "This enables writing generic code that operates on objects of different types in a uniform way.\n",
    "\n"
   ]
  },
  {
   "cell_type": "code",
   "execution_count": null,
   "metadata": {},
   "outputs": [],
   "source": [
    "# All classes inherit from PaymentMethod.\n",
    "# They override the pay() method.\n",
    "# The process_payment function only works with objects of type PaymentMethod.\n",
    "# This is classical OOP polymorphism."
   ]
  },
  {
   "cell_type": "code",
   "execution_count": 8,
   "metadata": {},
   "outputs": [
    {
     "name": "stdout",
     "output_type": "stream",
     "text": [
      "Paid ₹1000 using Credit Card\n",
      "Paid ₹500 using PayPal\n",
      "Paid ₹200 using UPI\n"
     ]
    }
   ],
   "source": [
    "# Base interface\n",
    "class PaymentMethod:\n",
    "    def pay(self, amount):\n",
    "        raise NotImplementedError\n",
    "\n",
    "# Subclasses\n",
    "class CreditCard(PaymentMethod):\n",
    "    def pay(self, amount):\n",
    "        print(f\"Paid ₹{amount} using Credit Card\")\n",
    "\n",
    "class PayPal(PaymentMethod):\n",
    "    def pay(self, amount):\n",
    "        print(f\"Paid ₹{amount} using PayPal\")\n",
    "\n",
    "class UPI(PaymentMethod):\n",
    "    def pay(self, amount):\n",
    "        print(f\"Paid ₹{amount} using UPI\")\n",
    "\n",
    "# Client code using polymorphism\n",
    "def process_payment(payment: PaymentMethod, amount):\n",
    "    payment.pay(amount)\n",
    "\n",
    "# Usage\n",
    "process_payment(CreditCard(), 1000)\n",
    "process_payment(PayPal(), 500)\n",
    "process_payment(UPI(), 200)\n"
   ]
  },
  {
   "cell_type": "markdown",
   "metadata": {
    "id": "qEw6Z9KH8zEs"
   },
   "source": [
    "---\n",
    "### Benefits of Generic Programming\n",
    "\n",
    "- Code reusability across different data types.\n",
    "\n",
    "- Cleaner and maintainable code.\n",
    "\n",
    "- Python makes it easy to write generic and type-safe code using features like:\n",
    "\n",
    "1. TypeVar, Generic, and typing module\n",
    "2. Duck typing for flexibility and runtime polymorphism\n",
    "\n",
    "---"
   ]
  },
  {
   "cell_type": "code",
   "execution_count": null,
   "metadata": {},
   "outputs": [],
   "source": []
  }
 ],
 "metadata": {
  "colab": {
   "provenance": []
  },
  "kernelspec": {
   "display_name": "Python 3 (ipykernel)",
   "language": "python",
   "name": "python3"
  },
  "language_info": {
   "codemirror_mode": {
    "name": "ipython",
    "version": 3
   },
   "file_extension": ".py",
   "mimetype": "text/x-python",
   "name": "python",
   "nbconvert_exporter": "python",
   "pygments_lexer": "ipython3",
   "version": "3.13.5"
  }
 },
 "nbformat": 4,
 "nbformat_minor": 4
}
