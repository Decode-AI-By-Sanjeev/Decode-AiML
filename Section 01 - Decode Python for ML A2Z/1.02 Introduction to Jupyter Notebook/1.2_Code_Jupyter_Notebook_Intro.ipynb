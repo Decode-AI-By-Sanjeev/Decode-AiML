{
 "cells": [
  {
   "cell_type": "markdown",
   "id": "da1b500b-7e9d-4ff3-9151-67f6e61cd5cd",
   "metadata": {},
   "source": [
    "\n",
    "## 🌟 Everything about Jupyter Notebook !!\n",
    "\n",
    "> *\"AI is the new electricity. Just as electricity transformed industries 100 years ago, AI will do the same today.\"*  \n",
    "> — Andrew Ng\n",
    "\n",
    "\n",
    "\n",
    "---\n"
   ]
  },
  {
   "cell_type": "markdown",
   "id": "7a41b7aa-57a9-4b50-94f1-eb3ecda8c82f",
   "metadata": {},
   "source": [
    "## 📚 Topic of Content\n",
    "\n",
    "1. **What are Jupyter Notebooks?**  \n",
    "2. **How do Notebooks Work?**  \n",
    "3. **Kernels – The Magician behind Notebook**  \n",
    "4. **Hands-on Demo – How to Use Jupyter Notebook Effectively?**\n"
   ]
  },
  {
   "cell_type": "markdown",
   "id": "245a25a9-4e16-4460-82d6-5be5f8f4b771",
   "metadata": {},
   "source": [
    "### 1. What are Jupyter Notebooks?\n",
    "\n",
    "Jupyter Notebooks are an **interactive coding environment** used by data scientists, machine learning engineers, researchers, and educators to:\n",
    "\n",
    "- **Write and run code** (Python, R, Julia & more)\n",
    "- **Document insights** with rich text, equations, and images\n",
    "- **Visualize data** with charts, graphs, and tables\n",
    "- **Tell compelling data stories** — all in one place!\n",
    "\n",
    "---\n"
   ]
  },
  {
   "cell_type": "markdown",
   "id": "5d9acc98-9d86-40da-81c4-62078cc9b98b",
   "metadata": {},
   "source": [
    "### 2 How Do Notebooks Work?\n",
    "\n",
    "1. **You write code** in a cell (like Python).\n",
    "2. That code is sent to a **Kernel** — a powerful engine that runs your code.\n",
    "3. The Kernel **executes the code** and returns the output.\n",
    "4. The result (text, image, plot, etc.) is **displayed right below the cell**."
   ]
  },
  {
   "cell_type": "markdown",
   "id": "88cbbaf3-242c-4bc1-a866-e90c90f0e0bc",
   "metadata": {},
   "source": [
    "### 3. The Magic Behind the Notebook: Digging Deeper into Kernels\n",
    "- A **Jupyter Notebook** runs on top of something called a **kernel**.\n",
    "- What is a Kernel?\n",
    "    1. A **kernel** is the **computational engine** that executes the code you write in your notebook.\n",
    "    2. When you run a cell (like `print(\"Hello\")`), the code is sent to the **kernel**.\n",
    "    3. The kernel runs the code **line by line**, and sends the **output back** to the notebook interface.\n",
    "    4.  Each programming language (Python, R, Julia...) has its own kernel.\n",
    "    5.  The most common one is the **IPython kernel**, which runs Python code. <br><br>\n",
    "\n",
    "- If you're using **Conda**, you can create **isolated environments**, each with its own Python version and packages. You can then **register** each Conda environment as a kernel.\n",
    "- A kernel is like the brain of your notebook — it thinks, runs, and speaks the language you’ve chosen (like Python). Conda helps you organize different brains for different jobs!\n",
    "\n",
    "- In Short\n",
    "    - Kernel - Executes your code and returns results\n",
    "    - Conda Env -\tManages the libraries and Python version the kernel uses\n",
    "\n",
    "---\n"
   ]
  },
  {
   "cell_type": "markdown",
   "id": "e84a0545-21f2-4481-8eb7-fffb9e72222e",
   "metadata": {},
   "source": [
    "#### Q. Does ipykernel contain Python itself?\n",
    "- No, ipykernel does not contain Python. \n",
    "- ipykernel is a library that:\n",
    "    - Runs the code you write in a Jupyter notebook.\n",
    "    - Sends outputs (like print() or errors) back to the notebook interface.\n",
    "    - Communicates with Jupyter over a protocol (ZeroMQ, JSON messages, etc.)."
   ]
  },
  {
   "cell_type": "markdown",
   "id": "727f040a-b48f-4276-8ce9-114e5e7aa335",
   "metadata": {},
   "source": [
    "#### Q. Summary: Kernel vs Virtual Environment\n",
    "\n",
    "| Concept             | Virtual Environment (`venv`, `conda`)                                | Jupyter Kernel                                                      |\n",
    "|---------------------|----------------------------------------------------------------------|---------------------------------------------------------------------|\n",
    "| **What it is**       | An isolated Python environment (with its own packages, Python version, etc.) | A bridge/interface that tells Jupyter which Python to use for code execution |\n",
    "| **Purpose**          | Isolate dependencies per project                                     | Execute code in Jupyter using a specific interpreter                |\n",
    "| **Includes Python?** | ✅ Yes                                                               | ⚠️ No — just points to a Python executable                           |\n",
    "| **Relationship**     | A kernel can be **based on** a virtual environment                   | The kernel must be **linked to** a virtual environment to work      |\n",
    "| **Tooling**          | `conda create -n myenv python=3.11`                                  | comes with command `conda install jupyter`                                     |\n"
   ]
  },
  {
   "cell_type": "markdown",
   "id": "6fe1d19d-f1ac-476f-8a85-ae19a8e6d26b",
   "metadata": {},
   "source": [
    "### 4. Jupyter notebook - Demo Time"
   ]
  },
  {
   "cell_type": "markdown",
   "id": "19b9833c-5889-410e-bf4a-de5ab9563ea5",
   "metadata": {},
   "source": [
    "#### 4.1 Code cell\n",
    "- Run using Ctrl+Enter, Shift+Enter, using UI button\n",
    "- Supports full Python syntax (or other language supported by the kernel).\n",
    "- Can use libraries like NumPy, Pandas, Matplotlib, etc.\n",
    "- Displays outputs, plots, errors, or logs below the cell.\n",
    "- can also be used to install a library directly from here.\n",
    "- it installs within the Python environment (or virtual environment) that the Jupyter kernel is using.\n"
   ]
  },
  {
   "cell_type": "code",
   "execution_count": 2,
   "id": "e96ac388-a261-415a-8f9b-3b7f83b5d96d",
   "metadata": {},
   "outputs": [
    {
     "name": "stdout",
     "output_type": "stream",
     "text": [
      "C:\\Users\\pc\\anaconda3\\python.exe\n"
     ]
    }
   ],
   "source": [
    "import sys\n",
    "print(sys.executable)"
   ]
  },
  {
   "cell_type": "code",
   "execution_count": 3,
   "id": "f40bdd36-42c8-4847-bec4-381e94a87e63",
   "metadata": {},
   "outputs": [
    {
     "name": "stdout",
     "output_type": "stream",
     "text": [
      "C:\\Users\\pc\\anaconda3\\envs\\helloworld\\python.exe\n"
     ]
    }
   ],
   "source": [
    "'''\n",
    "[Debug steps] If you are not getting virtual environment name in your path you need to perform below steps\n",
    "1. go to command prompt. disconnect your session. start a fresh session\n",
    "2. start your virtual environment - conda activate helloworld\n",
    "3. then try the command for installing notebook for helloworld - conda install notebook\n",
    "4. then launch jupyter notebook - jupyter notebook\n",
    "5. then again try running the above code in your cell. this should solve your problem.\n",
    "'''\n",
    "import sys\n",
    "print(sys.executable)"
   ]
  },
  {
   "cell_type": "code",
   "execution_count": 11,
   "id": "21c2e97e-d96e-4021-86cc-07f8b1a31c3c",
   "metadata": {},
   "outputs": [
    {
     "name": "stdout",
     "output_type": "stream",
     "text": [
      "Requirement already satisfied: numpy in c:\\users\\pc\\anaconda3\\envs\\helloworld\\lib\\site-packages (2.2.5)\n"
     ]
    }
   ],
   "source": [
    "!pip install numpy"
   ]
  },
  {
   "cell_type": "code",
   "execution_count": 10,
   "id": "a5cc8d05-f17a-4c36-b3f1-8ffbd146ebbb",
   "metadata": {},
   "outputs": [
    {
     "name": "stdout",
     "output_type": "stream",
     "text": [
      "Channels:\n",
      " - defaults\n",
      " - conda-forge\n",
      "Platform: win-64\n",
      "Collecting package metadata (repodata.json): ...working... done\n",
      "Solving environment: ...working... done\n",
      "\n",
      "# All requested packages already installed.\n",
      "\n"
     ]
    }
   ],
   "source": [
    "!conda install numpy -y"
   ]
  },
  {
   "cell_type": "code",
   "execution_count": 9,
   "id": "273725ea-b573-4646-9f16-9cbf426fac46",
   "metadata": {},
   "outputs": [
    {
     "name": "stdout",
     "output_type": "stream",
     "text": [
      "2.2.5\n"
     ]
    }
   ],
   "source": [
    "import numpy as np\n",
    "print(np.__version__)"
   ]
  },
  {
   "cell_type": "markdown",
   "id": "cb360bbd-1b34-493c-be94-a1ebd68ea004",
   "metadata": {},
   "source": [
    "what is checkpoint in Notebook? \n",
    "- A checkpoint is a saved version of your notebook that you can restore to if something goes wrong.\n",
    "- Only one checkpoint per notebook is stored at a time. Every time you save, the previous checkpoint is replaced.\n",
    "- Menu -> File → Revert to Checkpoint"
   ]
  },
  {
   "cell_type": "markdown",
   "id": "76e04f73-7b1a-4509-b388-25464317dd16",
   "metadata": {},
   "source": [
    "#### 4.2 Markdown cell\n",
    "- A Markdown cell in Jupyter Notebook allows you to write formatted text to explain your code, document your process, or present visual content. These cells use Markdown language, which supports plain text formatting, and optionally HTML, LaTeX, and even images/links.\n",
    "- By default a cell is Code cell. Convert a code cell to markdown by command - ESC + M or through UI on top\n",
    "- To render formatted output use, Ctrl+Enter, Shift+Enter, using UI button"
   ]
  },
  {
   "cell_type": "markdown",
   "id": "86d9fd2a-d3dc-48ba-967f-4715419ad307",
   "metadata": {},
   "source": [
    "1. Headings\n",
    "# Heading 1\n",
    "## Heading 2\n",
    "### Heading 3"
   ]
  },
  {
   "cell_type": "markdown",
   "id": "dba79db8-295f-4fe6-8f87-d97fec0d52a8",
   "metadata": {},
   "source": [
    "2. Bold, Italics, Code\n",
    "**bold** or __bold__\n",
    "\n",
    "*italic* or _italic_\n",
    "\n",
    "`inline code`"
   ]
  },
  {
   "cell_type": "markdown",
   "id": "15c5ac4e-d49d-4cb2-88d8-573116a9ee66",
   "metadata": {},
   "source": [
    "3. Lists\n",
    "- Bullet list item\n",
    "- Another item\n",
    "\n",
    "1. Numbered item\n",
    "2. Second item"
   ]
  },
  {
   "cell_type": "markdown",
   "id": "d9d6690f-cb81-4d74-a01c-3b33c90dde51",
   "metadata": {},
   "source": [
    "4. Images\n",
    "   \n",
    "[OpenAI](https://openai.com)\n",
    "\n",
    "![Image](ast_image.png)"
   ]
  },
  {
   "cell_type": "markdown",
   "id": "07d4f75d-5784-48ed-a7d8-25c929162c76",
   "metadata": {},
   "source": [
    "5. Blockquotes and Horizontal Line\n",
    "\n",
    "> This is a quote\n",
    "\n",
    "---"
   ]
  },
  {
   "cell_type": "markdown",
   "id": "2b708997-fd9b-4a32-917b-67ac96d9f3af",
   "metadata": {},
   "source": [
    "6. LaTeX for Math\n",
    "\n",
    "Inline: $E = mc^2$\n",
    "Block:\n",
    "$$\n",
    "\\int_0^\\infty e^{-x} dx = 1\n",
    "$$"
   ]
  },
  {
   "cell_type": "markdown",
   "id": "1576fcc1-71dd-4081-bba4-f6b008326bbf",
   "metadata": {},
   "source": [
    "7. HTML Support\n",
    "\n",
    "<b>This is bold</b>\n",
    "<table><tr><td>Cell</td></tr></table>"
   ]
  },
  {
   "cell_type": "markdown",
   "id": "40e0aa22-213f-4591-969d-03a858b7f1a6",
   "metadata": {},
   "source": [
    "#### 4.3 Miscellaneous Features\n",
    "\n"
   ]
  },
  {
   "cell_type": "markdown",
   "id": "b8ac3ece-2118-4b2e-a2ad-cba7fd58efcc",
   "metadata": {},
   "source": [
    "## 📚 References\n"
   ]
  },
  {
   "cell_type": "markdown",
   "id": "aa6e4b61-bcb5-4153-ab14-921a2664fc7a",
   "metadata": {},
   "source": [
    "<center> Content Curated by Decode AI Team </center>"
   ]
  }
 ],
 "metadata": {
  "kernelspec": {
   "display_name": "Python 3 (ipykernel)",
   "language": "python",
   "name": "python3"
  },
  "language_info": {
   "codemirror_mode": {
    "name": "ipython",
    "version": 3
   },
   "file_extension": ".py",
   "mimetype": "text/x-python",
   "name": "python",
   "nbconvert_exporter": "python",
   "pygments_lexer": "ipython3",
   "version": "3.13.4"
  }
 },
 "nbformat": 4,
 "nbformat_minor": 5
}
