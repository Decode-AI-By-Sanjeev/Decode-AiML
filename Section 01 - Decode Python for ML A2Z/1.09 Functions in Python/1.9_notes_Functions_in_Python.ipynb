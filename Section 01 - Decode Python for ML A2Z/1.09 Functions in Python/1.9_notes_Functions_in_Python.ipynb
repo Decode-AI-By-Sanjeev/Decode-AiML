{
 "cells": [
  {
   "cell_type": "markdown",
   "id": "de0aa18e-b876-426e-ba56-1e6c462ccbd5",
   "metadata": {},
   "source": [
    "<p align=\"center\">\n",
    "  <img src=\"DECODE_AI_BANNER.png\" alt=\"Description\" width=\"1400\"/>\n",
    "</p>\n"
   ]
  },
  {
   "cell_type": "markdown",
   "id": "8662842d-2d21-4556-a6d7-e7dc8749e8cb",
   "metadata": {
    "jp-MarkdownHeadingCollapsed": true
   },
   "source": [
    "```python\n",
    "# takes a string ... and does basic preprocessing ... => twitter tweets\n",
    "def preprocessString(string):\n",
    "    s1 #reads a string\n",
    "    s2\n",
    "    s3\n",
    "    s4\n",
    "    s5\n",
    "    return processed_string\n",
    "\n",
    "\n",
    "\n",
    "opt_string = preprocessString(s1)\n",
    "\n",
    "\n",
    "opt_string = preprocessString(s1)\n",
    "```"
   ]
  },
  {
   "cell_type": "markdown",
   "id": "b6ec653f-9985-427c-b45c-c58021dc6e1b",
   "metadata": {},
   "source": [
    "```python\n",
    "Problem : website - flipkart - customers ka data - maintain karna hai\n",
    "\n",
    "- new customer - create => addCustomer()\n",
    "- customer profile update - update => updateProfile()\n",
    "- customer purchase - addItems()\n",
    "- customer delete account - delete => deleteAccount()\n",
    "```"
   ]
  },
  {
   "cell_type": "markdown",
   "id": "e5aaa831-568c-4b84-81f2-a3797bc2d536",
   "metadata": {},
   "source": [
    "## 1. Introduction to Functions\n",
    "\n",
    "A **function** is a reusable block of code that performs a specific task.\n",
    "\n",
    "Functions help make your code:\n",
    "- Modular\n",
    "- Reusable\n",
    "- Easier to read and maintain\n",
    "\n",
    "---\n",
    "\n",
    "### Why Use Functions?\n",
    "\n",
    "- To avoid repetition (DRY: Don't Repeat Yourself)\n",
    "- To break complex problems into smaller, manageable chunks\n",
    "- To make code reusable and organized\n",
    "\n",
    "---\n",
    "\n",
    "### Function Syntax in Python\n",
    "\n",
    "```python\n",
    "def function_name(parameters):\n",
    "    \"\"\"\n",
    "    Optional docstring describing what the function does.\n",
    "    \"\"\"\n",
    "    # Block of code\n",
    "    return result\n",
    "```\n",
    "**Important Points**\n",
    "1. We begin with def then a space followed by the name of the function. Try to keep names relevant and simple as possible.\n",
    "2. Also be careful with names, you wouldn't want to call a function the same name as a built-in function in Python (such as len).\n",
    "3. Arguments separated by a comma within a pair of parenthesis which acts as input to the defined function, reference them and the function definition with a colon.\n",
    "4. Indent to begin the code inside the defined functions properly.\n",
    "5. The doc-string where you write the basic description of the function. Using iPython and iPython Notebooks, you'll be able to read these doc-strings by pressing Shift+Tab after a function name. It is not mandatory to include docstrings with simple functions, but it is a good practice to put them as this will help the programmers to easily understand the code you write.\n",
    "\n",
    "---\n"
   ]
  },
  {
   "cell_type": "markdown",
   "id": "7c8d3df8-83db-4795-886d-076870665b26",
   "metadata": {},
   "source": [
    "**Problem: You need to write a Industry grade function which takes a string as input, should preprocess it by kepping only alphanumeric english and hindi characters.**"
   ]
  },
  {
   "cell_type": "code",
   "execution_count": null,
   "id": "f75f8696-bef9-44f9-8c5a-2331a1edbd59",
   "metadata": {},
   "outputs": [],
   "source": [
    "#!/usr/bin/env python3\n",
    "# -*- coding: utf-8 -*-\n",
    "\n",
    "import re\n",
    "import logging\n",
    "\n",
    "# Configure logging\n",
    "logging.basicConfig(level=logging.INFO, format='[%(levelname)s] %(message)s')\n",
    "\n",
    "\n",
    "def sanitize_input(user_input: str) -> str:\n",
    "    \"\"\"\n",
    "    Cleans user input by removing unwanted special characters\n",
    "    while preserving basic punctuation and Unicode characters.\n",
    "\n",
    "    Args:\n",
    "        user_input (str): Raw user input string\n",
    "\n",
    "    Returns:\n",
    "        str: Sanitized string\n",
    "    \"\"\"\n",
    "    # Step 1: Keep only English, Hindi characters, and spaces\n",
    "    pattern = r\"[^A-Za-z0-9\\u0900-\\u097F]\"\n",
    "    cleaned = re.sub(pattern, ' ', user_input, flags=re.UNICODE)\n",
    "\n",
    "    # Step 2: Replace multiple spaces with a single space\n",
    "    normalized = re.sub(r'\\s+', ' ', cleaned)\n",
    "    \n",
    "    return normalized.strip()"
   ]
  },
  {
   "cell_type": "code",
   "execution_count": 18,
   "id": "322c468e-e012-4fca-b269-53da6dbda11b",
   "metadata": {},
   "outputs": [
    {
     "data": {
      "text/plain": [
       "'नमस्कार Thank you for learning with us Team Decode AI'"
      ]
     },
     "execution_count": 18,
     "metadata": {},
     "output_type": "execute_result"
    }
   ],
   "source": [
    "sanitize_input(\"नमस्कार !! 🙏 Thank you for learning with us! -> Team 🚀 Decode-AI; \")"
   ]
  },
  {
   "cell_type": "markdown",
   "id": "0052bbcf-0e54-450b-97e8-56299c4c410a",
   "metadata": {},
   "source": [
    "### Function vs Method"
   ]
  },
  {
   "cell_type": "code",
   "execution_count": null,
   "id": "3c3b0136-0c9a-4bbe-b0f1-fd5b337d84a9",
   "metadata": {},
   "outputs": [],
   "source": [
    "def greet(name):\n",
    "    return f\"Hello, {name}!\"\n",
    "\n",
    "greet(\"Alice\")  # Function call"
   ]
  },
  {
   "cell_type": "code",
   "execution_count": null,
   "id": "da70cfb5-08ad-4293-9bb7-9bd7f92ae4d1",
   "metadata": {},
   "outputs": [],
   "source": [
    "class Greeter:\n",
    "    def greet(self, name):\n",
    "        return f\"Hello, {name}!\"\n",
    "\n",
    "g = Greeter()\n",
    "g.greet(\"Alice\")  # Method call"
   ]
  },
  {
   "cell_type": "markdown",
   "id": "6af4c3bb-4880-447f-a7ec-5e4a902d58fb",
   "metadata": {},
   "source": [
    "### Hands-on Time"
   ]
  },
  {
   "cell_type": "code",
   "execution_count": 19,
   "id": "2924ab09-4a51-469f-92e4-316350ea6288",
   "metadata": {},
   "outputs": [],
   "source": [
    "#A simple Print Hello function\n",
    "def say_hello():\n",
    "    print('hello')"
   ]
  },
  {
   "cell_type": "code",
   "execution_count": 20,
   "id": "f4ef4c04-ef63-4238-b7e8-47a548a3294e",
   "metadata": {},
   "outputs": [
    {
     "name": "stdout",
     "output_type": "stream",
     "text": [
      "hello\n"
     ]
    }
   ],
   "source": [
    "say_hello()"
   ]
  },
  {
   "cell_type": "code",
   "execution_count": 24,
   "id": "b78a871e-bea3-472b-97d1-ad64c632942d",
   "metadata": {},
   "outputs": [],
   "source": [
    "# A simple greeting function\n",
    "def greeting(name):\n",
    "    print('Hello %s' %name)"
   ]
  },
  {
   "cell_type": "code",
   "execution_count": 26,
   "id": "c3baee0d-84e4-4625-8497-54ec3e41f977",
   "metadata": {},
   "outputs": [
    {
     "name": "stdout",
     "output_type": "stream",
     "text": [
      "Hello Sanjeev\n"
     ]
    }
   ],
   "source": [
    "greeting(\"Sanjeev\")"
   ]
  },
  {
   "cell_type": "code",
   "execution_count": 27,
   "id": "754c3142-f4ee-4acf-a2e6-94d26864ce1f",
   "metadata": {},
   "outputs": [],
   "source": [
    "# Using return in a function\n",
    "def add_num(num1,num2):\n",
    "    return num1+num2"
   ]
  },
  {
   "cell_type": "code",
   "execution_count": 28,
   "id": "d8d68728-2a3c-40e3-b7f6-832fbf429dcc",
   "metadata": {},
   "outputs": [
    {
     "data": {
      "text/plain": [
       "9"
      ]
     },
     "execution_count": 28,
     "metadata": {},
     "output_type": "execute_result"
    }
   ],
   "source": [
    "add_num(4,5)"
   ]
  },
  {
   "cell_type": "code",
   "execution_count": 29,
   "id": "7a2aaae6-06aa-473c-8c15-3b79796ee5a6",
   "metadata": {},
   "outputs": [],
   "source": [
    "# Can also save as variable due to return\n",
    "result = add_num(4,5)"
   ]
  },
  {
   "cell_type": "code",
   "execution_count": 30,
   "id": "d5aed2ae-cb2e-47bf-aa20-38c1b564aad8",
   "metadata": {},
   "outputs": [
    {
     "data": {
      "text/plain": [
       "9"
      ]
     },
     "execution_count": 30,
     "metadata": {},
     "output_type": "execute_result"
    }
   ],
   "source": [
    "result"
   ]
  },
  {
   "cell_type": "code",
   "execution_count": 32,
   "id": "4cc9a84f-e18d-44f7-9884-820e6f0bc4cf",
   "metadata": {},
   "outputs": [],
   "source": [
    "# Program to check whether a number is prime or not\n",
    "def is_prime(num):\n",
    "    '''\n",
    "    Naive method of checking for primes. \n",
    "    '''\n",
    "    for n in range(2,num):\n",
    "        if num % n == 0:\n",
    "            print('not prime')\n",
    "            break\n",
    "    else: # If never mod zero, then prime\n",
    "        print('prime')"
   ]
  },
  {
   "cell_type": "code",
   "execution_count": 33,
   "id": "634a5b3d-c16a-4442-a77b-2c50c4287143",
   "metadata": {},
   "outputs": [
    {
     "name": "stdout",
     "output_type": "stream",
     "text": [
      "not prime\n"
     ]
    }
   ],
   "source": [
    "is_prime(12)"
   ]
  },
  {
   "cell_type": "markdown",
   "id": "ebd53583-24d9-4129-8c49-97abcb894c63",
   "metadata": {},
   "source": [
    "### 1️⃣ Built-in Functions"
   ]
  },
  {
   "cell_type": "markdown",
   "id": "3afa6de2-1a44-452d-bdc0-25ba4e87b008",
   "metadata": {},
   "source": [
    "These are functions that come pre-installed with Python.\n",
    "\n",
    "📌 Examples:  \n",
    "```python\n",
    "print(), len(), type(), max(), min(), sorted()\n",
    "```"
   ]
  },
  {
   "cell_type": "markdown",
   "id": "32c8cb60-842a-4ead-b353-229ccb99c187",
   "metadata": {},
   "source": [
    "### 2️⃣ User-defined Functions"
   ]
  },
  {
   "cell_type": "code",
   "execution_count": 36,
   "id": "deeb28d8-6fbc-4ced-9cd4-61444b3a63d8",
   "metadata": {},
   "outputs": [
    {
     "data": {
      "text/plain": [
       "'Hello, sanjeev'"
      ]
     },
     "execution_count": 36,
     "metadata": {},
     "output_type": "execute_result"
    }
   ],
   "source": [
    "# These are functions created using the def keyword.\n",
    "def greet(name):\n",
    "    return f\"Hello, {name}\"\n",
    "\n",
    "greet(\"sanjeev\")"
   ]
  },
  {
   "cell_type": "markdown",
   "id": "66418da5-6406-4adb-9fcc-17282f35de5f",
   "metadata": {},
   "source": [
    "### 3️⃣ Anonymous Functions (Lambda)"
   ]
  },
  {
   "cell_type": "markdown",
   "id": "f8e29fcf-dc6a-43b8-9a9b-18cace02790a",
   "metadata": {},
   "source": [
    "Lambda functions (also known as anonymous functions) in programming, especially in languages like Python, are small, nameless functions defined with the lambda keyword. They are typically used for short operations that are not reused elsewhere."
   ]
  },
  {
   "cell_type": "markdown",
   "id": "a408b4b2-b0df-41f0-b673-03596781f861",
   "metadata": {},
   "source": [
    "**When to Use Lambda Functions**\n",
    "- When the function is short, simple, and used only once.\n",
    "- Ideal for inline callbacks or small transformation operations.\n",
    "- Avoid in large projects or when the logic is complex — use named functions instead."
   ]
  },
  {
   "cell_type": "code",
   "execution_count": 38,
   "id": "ff15d8ec-bfe9-4201-b832-34abea7ef6cd",
   "metadata": {},
   "outputs": [
    {
     "data": {
      "text/plain": [
       "'Hello, sanjeev'"
      ]
     },
     "execution_count": 38,
     "metadata": {},
     "output_type": "execute_result"
    }
   ],
   "source": [
    "# These are one-liner functions without a name, created using the lambda keyword.\n",
    "greet_lambda = lambda name: f\"Hello, {name}\"\n",
    "greet_lambda(\"sanjeev\")"
   ]
  },
  {
   "cell_type": "markdown",
   "id": "6151dce3-9611-47cd-ab4e-6c0d7f1bff28",
   "metadata": {},
   "source": [
    "### 4️⃣ Recursive Functions"
   ]
  },
  {
   "cell_type": "code",
   "execution_count": null,
   "id": "1120d372-fb31-49f9-9b9a-03c5d8e178db",
   "metadata": {},
   "outputs": [],
   "source": [
    "fact[5] = # f(n) = n*fact(n-1) 5 = 5*fact(4) where fact(4) = 4*fact(3) where fact(3) = 3*fact(2) where fact(2)= 2*fact(1)"
   ]
  },
  {
   "cell_type": "code",
   "execution_count": 40,
   "id": "50c8ea85-c14b-42bd-bb87-1af64335ecaf",
   "metadata": {},
   "outputs": [
    {
     "data": {
      "text/plain": [
       "3628800"
      ]
     },
     "execution_count": 40,
     "metadata": {},
     "output_type": "execute_result"
    }
   ],
   "source": [
    "# A function that calls itself to solve smaller sub-problems of a larger problem.\n",
    "def factorial(n):\n",
    "    if n == 0:\n",
    "        return 1\n",
    "    return n * factorial(n - 1)\n",
    "\n",
    "factorial(10)"
   ]
  },
  {
   "cell_type": "code",
   "execution_count": null,
   "id": "3e935312-1afd-41d7-b9d6-51e00c626035",
   "metadata": {},
   "outputs": [],
   "source": []
  },
  {
   "cell_type": "markdown",
   "id": "34c4bf7b-06d8-4d71-a62a-5ed9e18c319e",
   "metadata": {},
   "source": [
    "### 5️⃣ map() function"
   ]
  },
  {
   "cell_type": "markdown",
   "id": "5136aece-fdad-493b-a5ae-241c9b2e34d5",
   "metadata": {},
   "source": [
    "The map() is a function that takes in two arguments: \n",
    "1. A function \n",
    "2. A sequence iterable. \n",
    "\n",
    "In the form: map(function, sequence)\n",
    "    \n",
    "The first argument is the name of a function and the second a sequence (e.g. a list). map() applies the function to all the elements of the sequence. It returns a new list with the elements changed by the function."
   ]
  },
  {
   "cell_type": "code",
   "execution_count": 84,
   "id": "a0c5c867-e7f5-4191-9c20-1b9d5e2ff02a",
   "metadata": {},
   "outputs": [],
   "source": [
    "# map example\n",
    "def squares(n):\n",
    "    return n*n\n",
    "\n",
    "def square_root(n):\n",
    "    return int(n**(1/2))"
   ]
  },
  {
   "cell_type": "code",
   "execution_count": 88,
   "id": "9bd35e22-5a14-4556-b10c-1190ee12f540",
   "metadata": {},
   "outputs": [
    {
     "data": {
      "text/plain": [
       "[32.0, 72.5, 104.0, 212.0]"
      ]
     },
     "execution_count": 88,
     "metadata": {},
     "output_type": "execute_result"
    }
   ],
   "source": [
    "data = [3,4,5,6,7,8]\n",
    "\n",
    "ans = []\n",
    "for item in data:\n",
    "    val = squares(item)\n",
    "    ans.append(val)"
   ]
  },
  {
   "cell_type": "code",
   "execution_count": null,
   "id": "4bb8aa1d-fc68-4955-8ca6-df421c5c5d38",
   "metadata": {},
   "outputs": [],
   "source": [
    "ans = list(map(squares,data))\n",
    "ans"
   ]
  },
  {
   "cell_type": "code",
   "execution_count": 89,
   "id": "8f550f37-97dd-4a73-b9e7-429707847fed",
   "metadata": {},
   "outputs": [
    {
     "data": {
      "text/plain": [
       "[0.0, 22.5, 40.0, 100.0]"
      ]
     },
     "execution_count": 89,
     "metadata": {},
     "output_type": "execute_result"
    }
   ],
   "source": [
    "# Convert back\n",
    "list(map(celsius, F_temps))"
   ]
  },
  {
   "cell_type": "code",
   "execution_count": 92,
   "id": "bda2f350-5c36-423e-b610-9c3f9ededdd7",
   "metadata": {},
   "outputs": [
    {
     "data": {
      "text/plain": [
       "[6, 8, 10, 12]"
      ]
     },
     "execution_count": 92,
     "metadata": {},
     "output_type": "execute_result"
    }
   ],
   "source": [
    "# map() with lambda function\n",
    "a = [1,2,3,4]\n",
    "b = [5,6,7,8]\n",
    "c = [9,10,11,12]\n",
    "\n",
    "sum_lambda = lambda x,y:x+y\n",
    "\n",
    "ans = []\n",
    "for i in range(len(a)):\n",
    "    ans.append(sum_lambda(a[i],b[i]))\n",
    "\n",
    "ans"
   ]
  },
  {
   "cell_type": "code",
   "execution_count": 93,
   "id": "475e9ef0-4b1d-46ff-a537-714c4f0d0882",
   "metadata": {},
   "outputs": [
    {
     "data": {
      "text/plain": [
       "[6, 8, 10, 12]"
      ]
     },
     "execution_count": 93,
     "metadata": {},
     "output_type": "execute_result"
    }
   ],
   "source": [
    "list(map(lambda x,y:x+y,a,b))"
   ]
  },
  {
   "cell_type": "markdown",
   "id": "185caf21-f880-4ace-aa97-7ae1fba67dd5",
   "metadata": {},
   "source": [
    "### 6️⃣ reduce() function\n",
    "\n",
    "The function reduce(function, sequence) continually applies the function to the sequence. It then returns a single value."
   ]
  },
  {
   "cell_type": "code",
   "execution_count": 94,
   "id": "84cc50a1-ba2b-4a7e-96ac-9a8c91f9330b",
   "metadata": {},
   "outputs": [
    {
     "data": {
      "text/plain": [
       "113"
      ]
     },
     "execution_count": 94,
     "metadata": {},
     "output_type": "execute_result"
    }
   ],
   "source": [
    "# reduce() examples\n",
    "\n",
    "from functools import reduce\n",
    "lst =[47,11,42,13]\n",
    "reduce(lambda x,y: x+y,lst)"
   ]
  },
  {
   "cell_type": "markdown",
   "id": "9bd129a5-3240-4278-9402-2847b0449b26",
   "metadata": {},
   "source": [
    "### 7️⃣ filter() function\n",
    "\n",
    "The function filter(function, list) offers a convenient way to filter out all the elements of an iterable, for which the function returns \"True\".\n",
    "\n",
    "The function needs to return a Boolean value (either True or False). This function will be applied to every element of the iterable. Only if the function returns \"True\" will the element of the iterable be included in the result."
   ]
  },
  {
   "cell_type": "code",
   "execution_count": 96,
   "id": "0cf1e9f4-3a3f-4ea8-a97f-88c5f3a2ea8f",
   "metadata": {},
   "outputs": [],
   "source": [
    "#First let's make a function\n",
    "def even_check(num):\n",
    "    if num%2 ==0:\n",
    "        return True"
   ]
  },
  {
   "cell_type": "code",
   "execution_count": 98,
   "id": "0ae093fb-4d44-4e7d-a8b7-e0337e21139e",
   "metadata": {},
   "outputs": [
    {
     "data": {
      "text/plain": [
       "[0, 1, 2, 3, 4, 5, 6, 7, 8, 9, 10, 11, 12, 13, 14, 15, 16, 17, 18, 19]"
      ]
     },
     "execution_count": 98,
     "metadata": {},
     "output_type": "execute_result"
    }
   ],
   "source": [
    "lst =list(range(20))\n",
    "lst"
   ]
  },
  {
   "cell_type": "code",
   "execution_count": 99,
   "id": "87c69a7f-5d9a-4b15-bbb5-f84a378efe15",
   "metadata": {},
   "outputs": [
    {
     "data": {
      "text/plain": [
       "[0, 2, 4, 6, 8, 10, 12, 14, 16, 18]"
      ]
     },
     "execution_count": 99,
     "metadata": {},
     "output_type": "execute_result"
    }
   ],
   "source": [
    "list(filter(even_check,lst))"
   ]
  },
  {
   "cell_type": "markdown",
   "id": "f131ed3a-5854-4f07-9a25-b009b6025abf",
   "metadata": {},
   "source": [
    "**filter() is more commonly used with lambda functions, this because we usually use filter for a quick job where we don't want to write an entire function.**"
   ]
  },
  {
   "cell_type": "code",
   "execution_count": 100,
   "id": "c34b9a51-5a5c-4649-b359-f52b89b71a98",
   "metadata": {},
   "outputs": [
    {
     "data": {
      "text/plain": [
       "[0, 2, 4, 6, 8, 10, 12, 14, 16, 18]"
      ]
     },
     "execution_count": 100,
     "metadata": {},
     "output_type": "execute_result"
    }
   ],
   "source": [
    "list(filter(lambda x: x%2==0,lst))"
   ]
  },
  {
   "cell_type": "code",
   "execution_count": null,
   "id": "c8deaa78-d2fb-4455-8ec5-15b6b1325bcb",
   "metadata": {},
   "outputs": [],
   "source": []
  },
  {
   "cell_type": "markdown",
   "id": "5b9fe721-4f76-4704-8101-389438df9c5b",
   "metadata": {},
   "source": [
    "# PART 2"
   ]
  },
  {
   "cell_type": "markdown",
   "id": "b929e5dc-58e7-460f-a187-c50865bfc4c7",
   "metadata": {},
   "source": [
    "### 8️⃣ Generators and Iterators\n",
    "\n",
    "In Python, iterators and generators are tools for iterating over data, but they work differently and serve different purposes.\n",
    "\n",
    "---"
   ]
  },
  {
   "cell_type": "markdown",
   "id": "b37ebf7f-b8da-448f-85e3-11c311e0dd06",
   "metadata": {},
   "source": [
    "**Iterator Introduction**\n",
    "\n",
    "An iterator is an object which implements the iterator protocol, i.e., it must have:\n",
    "\n",
    "- a `__iter__()` method that returns the iterator object itself.\n",
    "- a `__next__()` method that returns the next item or raises StopIteration when done.\n",
    "-  `__iter__()` and `__next__()` — the two special (magic) methods -- the backbone of Python’s iterator protocol.\n",
    "- Key Points:\n",
    "\n",
    "| Term         | Definition                                                                 |\n",
    "| ------------ | -------------------------------------------------------------------------- |\n",
    "| **Iterable** | An object that implements the `__iter__()` method and returns an iterator. |\n",
    "| **Iterator** | An object that implements **both** `__iter__()` and `__next__()` methods.  |\n",
    "- List is an iterable not iterator"
   ]
  },
  {
   "cell_type": "code",
   "execution_count": 122,
   "id": "5f166832-5e77-44e2-aa27-21370b187321",
   "metadata": {},
   "outputs": [],
   "source": [
    "# Custom Iterator Examples # iterator which iterates from 1 to n"
   ]
  },
  {
   "cell_type": "code",
   "execution_count": 1,
   "id": "f822112f-5bbc-4d4c-b9e2-2d6a065dab35",
   "metadata": {},
   "outputs": [],
   "source": [
    "class CountUpTo:\n",
    "    def __init__(self, max):\n",
    "        self.max = max\n",
    "        self.current = 1\n",
    "\n",
    "    def __iter__(self):\n",
    "        return self\n",
    "\n",
    "    def __next__(self):\n",
    "        if self.current > self.max:\n",
    "            raise StopIteration\n",
    "        else:\n",
    "            val = self.current\n",
    "            self.current += 1\n",
    "            return val\n"
   ]
  },
  {
   "cell_type": "code",
   "execution_count": 11,
   "id": "e64e8a13-7e60-4e1f-ac5b-fc709fc33f4c",
   "metadata": {},
   "outputs": [
    {
     "data": {
      "text/plain": [
       "<__main__.CountUpTo at 0x23fb35ed450>"
      ]
     },
     "execution_count": 11,
     "metadata": {},
     "output_type": "execute_result"
    }
   ],
   "source": [
    "counter = CountUpTo(3)\n",
    "counter"
   ]
  },
  {
   "cell_type": "code",
   "execution_count": 3,
   "id": "354c99d1-1ba0-476b-9402-46ed357e37b1",
   "metadata": {},
   "outputs": [
    {
     "data": {
      "text/plain": [
       "1"
      ]
     },
     "execution_count": 3,
     "metadata": {},
     "output_type": "execute_result"
    }
   ],
   "source": [
    "next(counter) # Calls counter.__next__()"
   ]
  },
  {
   "cell_type": "code",
   "execution_count": 4,
   "id": "7b05ccc9-8209-41a3-b227-a067f214800c",
   "metadata": {},
   "outputs": [
    {
     "name": "stdout",
     "output_type": "stream",
     "text": [
      "2\n",
      "3\n"
     ]
    }
   ],
   "source": [
    "for num in counter:\n",
    "    print(num)  # Output: 1, 2, 3"
   ]
  },
  {
   "cell_type": "code",
   "execution_count": 5,
   "id": "28b893c6-1f50-4404-b6d3-02c1f7567c18",
   "metadata": {},
   "outputs": [],
   "source": [
    "# Step-by-step example using iterator"
   ]
  },
  {
   "cell_type": "code",
   "execution_count": 6,
   "id": "72d71be1-c15c-4c8d-8eae-f0e66a36711b",
   "metadata": {},
   "outputs": [
    {
     "name": "stdout",
     "output_type": "stream",
     "text": [
      "<class 'list'>\n"
     ]
    }
   ],
   "source": [
    "# Step 1: A list (iterable)\n",
    "numbers = [1, 2, 3]\n",
    "print(type(numbers))"
   ]
  },
  {
   "cell_type": "code",
   "execution_count": 7,
   "id": "f94fb9de-9a40-44bb-8f27-d80e89c72897",
   "metadata": {},
   "outputs": [
    {
     "name": "stdout",
     "output_type": "stream",
     "text": [
      "<class 'list_iterator'>\n"
     ]
    }
   ],
   "source": [
    "# Step 2: Create an iterator from iterable\n",
    "it = iter(numbers)  # same as numbers.__iter__()\n",
    "print(type(it))"
   ]
  },
  {
   "cell_type": "code",
   "execution_count": 8,
   "id": "67a3ec2e-022a-44df-89fb-3a80e6674d2b",
   "metadata": {},
   "outputs": [
    {
     "name": "stdout",
     "output_type": "stream",
     "text": [
      "1\n",
      "2\n",
      "3\n"
     ]
    }
   ],
   "source": [
    "# Step 3: Use next() to get elements one by one\n",
    "print(next(it))  # 1\n",
    "print(next(it))  # 2\n",
    "print(next(it))  # 3\n",
    "# print(next(it))  # Raises StopIteration"
   ]
  },
  {
   "cell_type": "markdown",
   "id": "1f7fc056-ab03-4418-b1b2-ddd59502620f",
   "metadata": {},
   "source": [
    "**`next()` and `iter()` built-in functions**"
   ]
  },
  {
   "cell_type": "code",
   "execution_count": 9,
   "id": "099af4c0-b908-4af9-a83c-1ff015e2a9dd",
   "metadata": {},
   "outputs": [],
   "source": [
    "def simple_gen():\n",
    "    for x in range(3):\n",
    "        yield x"
   ]
  },
  {
   "cell_type": "code",
   "execution_count": 10,
   "id": "5f2fdd9b-4639-4512-b813-d0a53d7d78d5",
   "metadata": {},
   "outputs": [],
   "source": [
    "# Assign simple_gen \n",
    "g = simple_gen()"
   ]
  },
  {
   "cell_type": "code",
   "execution_count": 63,
   "id": "b56bc4a0-40f5-4b73-828f-fc8dc0923566",
   "metadata": {},
   "outputs": [
    {
     "data": {
      "text/plain": [
       "<generator object simple_gen at 0x000002267C91FB80>"
      ]
     },
     "execution_count": 63,
     "metadata": {},
     "output_type": "execute_result"
    }
   ],
   "source": [
    "# show\n",
    "g"
   ]
  },
  {
   "cell_type": "code",
   "execution_count": 12,
   "id": "7c0d1f8f-d40b-43fe-b56c-98b1ef04dd0f",
   "metadata": {},
   "outputs": [
    {
     "name": "stdout",
     "output_type": "stream",
     "text": [
      "0\n"
     ]
    }
   ],
   "source": [
    "# The next function allows us to access the next element in a sequence.\n",
    "print(next(g))"
   ]
  },
  {
   "cell_type": "code",
   "execution_count": 13,
   "id": "b261b841-008c-4fe6-99ff-1f16d6cf907d",
   "metadata": {},
   "outputs": [
    {
     "name": "stdout",
     "output_type": "stream",
     "text": [
      "1\n"
     ]
    }
   ],
   "source": [
    "print(next(g))"
   ]
  },
  {
   "cell_type": "code",
   "execution_count": 14,
   "id": "ad2a5995-8052-44ee-8814-1902f6b57365",
   "metadata": {},
   "outputs": [
    {
     "name": "stdout",
     "output_type": "stream",
     "text": [
      "2\n"
     ]
    }
   ],
   "source": [
    "print(next(g))"
   ]
  },
  {
   "cell_type": "code",
   "execution_count": 15,
   "id": "1ec64edf-5eb3-4fd9-9b72-e59d566949bb",
   "metadata": {},
   "outputs": [
    {
     "ename": "StopIteration",
     "evalue": "",
     "output_type": "error",
     "traceback": [
      "\u001b[31m---------------------------------------------------------------------------\u001b[39m",
      "\u001b[31mStopIteration\u001b[39m                             Traceback (most recent call last)",
      "\u001b[36mCell\u001b[39m\u001b[36m \u001b[39m\u001b[32mIn[15]\u001b[39m\u001b[32m, line 1\u001b[39m\n\u001b[32m----> \u001b[39m\u001b[32m1\u001b[39m \u001b[38;5;28mprint\u001b[39m(\u001b[38;5;28mnext\u001b[39m(g))\n",
      "\u001b[31mStopIteration\u001b[39m: "
     ]
    }
   ],
   "source": [
    "print(next(g))"
   ]
  },
  {
   "cell_type": "markdown",
   "id": "b85e9f26-a269-46b8-8d2c-b839b09eb780",
   "metadata": {},
   "source": [
    "- After yielding all the values next() caused a StopIteration error. What this error informs us that all the values have been yielded."
   ]
  },
  {
   "cell_type": "code",
   "execution_count": 16,
   "id": "e9266fe6-2d51-4ac0-a3cb-766df9117264",
   "metadata": {},
   "outputs": [
    {
     "name": "stdout",
     "output_type": "stream",
     "text": [
      "h\n",
      "e\n",
      "l\n",
      "l\n",
      "o\n"
     ]
    }
   ],
   "source": [
    "# why don’t we get this error while using a for loop? The \"for loop\" automatically catches this error and stops calling next.\n",
    "s = 'hello'\n",
    "\n",
    "#Iterate over string\n",
    "for let in s:\n",
    "    print(let)"
   ]
  },
  {
   "cell_type": "markdown",
   "id": "da8dec39-9f6e-4629-a9df-c2a2a1efd00e",
   "metadata": {},
   "source": [
    "- But that doesn't mean the string itself is an iterator! We can check this with the next() function"
   ]
  },
  {
   "cell_type": "code",
   "execution_count": 17,
   "id": "d2933c20-9c8f-4393-b887-b9ea2c7095ab",
   "metadata": {},
   "outputs": [
    {
     "ename": "TypeError",
     "evalue": "'str' object is not an iterator",
     "output_type": "error",
     "traceback": [
      "\u001b[31m---------------------------------------------------------------------------\u001b[39m",
      "\u001b[31mTypeError\u001b[39m                                 Traceback (most recent call last)",
      "\u001b[36mCell\u001b[39m\u001b[36m \u001b[39m\u001b[32mIn[17]\u001b[39m\u001b[32m, line 1\u001b[39m\n\u001b[32m----> \u001b[39m\u001b[32m1\u001b[39m \u001b[38;5;28mnext\u001b[39m(s)\n",
      "\u001b[31mTypeError\u001b[39m: 'str' object is not an iterator"
     ]
    }
   ],
   "source": [
    "next(s)"
   ]
  },
  {
   "cell_type": "markdown",
   "id": "aa4dfab6-d9ea-449a-bcce-655e049e769b",
   "metadata": {},
   "source": [
    "- This means that a string object supports iteration, but we can not directly iterate over it as we could with a generator function. The iter() function allows us to do just that!"
   ]
  },
  {
   "cell_type": "code",
   "execution_count": 18,
   "id": "9a6cafc6-8bd2-407b-b2c1-dcb0d9088f10",
   "metadata": {},
   "outputs": [],
   "source": [
    "s_iter = iter(s)"
   ]
  },
  {
   "cell_type": "code",
   "execution_count": 19,
   "id": "a7a70ecf-8e67-48c7-a77f-8bd5022e5e58",
   "metadata": {},
   "outputs": [
    {
     "name": "stdout",
     "output_type": "stream",
     "text": [
      "<class 'str_ascii_iterator'>\n"
     ]
    }
   ],
   "source": [
    "print(type(s_iter))"
   ]
  },
  {
   "cell_type": "code",
   "execution_count": 20,
   "id": "e68cd6a1-2099-4752-b9f6-a4bdee28e46e",
   "metadata": {},
   "outputs": [
    {
     "data": {
      "text/plain": [
       "'h'"
      ]
     },
     "execution_count": 20,
     "metadata": {},
     "output_type": "execute_result"
    }
   ],
   "source": [
    "next(s_iter)"
   ]
  },
  {
   "cell_type": "code",
   "execution_count": 21,
   "id": "945e24c0-644c-4e3b-9eda-66f1f3a3286f",
   "metadata": {},
   "outputs": [
    {
     "data": {
      "text/plain": [
       "'e'"
      ]
     },
     "execution_count": 21,
     "metadata": {},
     "output_type": "execute_result"
    }
   ],
   "source": [
    "next(s_iter)"
   ]
  },
  {
   "cell_type": "markdown",
   "id": "0ef2a902-d57b-48f4-9283-8a318b9d3cbf",
   "metadata": {},
   "source": [
    "**Generator Introduction**\n",
    "- A generator is a simpler way to write an iterator using functions and the yield keyword. Each time yield is called, the function's state is saved, and it resumes from there on the next call.\n",
    "  \n",
    "- In Python, Generator function allow us to write a function that can send back a value and then later resume to pick up where it was left. It also allows us to generate a sequence of values over time. The main difference in syntax will be the use of a yield statement.\n",
    "- In most aspects, a generator function will appear very similar to a normal function.\n",
    "- The main difference is when a generator function is called and compiled they become an object that supports an iteration protocol.\n",
    "- That means when they are called they don't actually return a value and then exit, the generator functions will automatically suspend and resume their execution and state around the last point of value generation."
   ]
  },
  {
   "cell_type": "code",
   "execution_count": null,
   "id": "f10387e8-cde4-4c87-b497-235f0c01a2a5",
   "metadata": {},
   "outputs": [],
   "source": [
    "# Generator function for the cube of numbers (power of 3)"
   ]
  },
  {
   "cell_type": "code",
   "execution_count": 22,
   "id": "299a032c-c536-4a54-a707-fc3b22f35a74",
   "metadata": {},
   "outputs": [],
   "source": [
    "# Normal Implementation\n",
    "def gencubes(n):\n",
    "    ans = []\n",
    "    for num in range(n):\n",
    "        ans.append(num**3)\n",
    "    return ans"
   ]
  },
  {
   "cell_type": "code",
   "execution_count": 23,
   "id": "6a2b4d00-1942-4d54-9f4b-4b99e537c656",
   "metadata": {},
   "outputs": [],
   "source": [
    "# Generator Implementation\n",
    "def gencubes(n):\n",
    "    for num in range(n):\n",
    "        yield num**3"
   ]
  },
  {
   "cell_type": "code",
   "execution_count": 24,
   "id": "05575bac-ad39-4933-b90a-26db4a9ab516",
   "metadata": {},
   "outputs": [
    {
     "data": {
      "text/plain": [
       "<generator object gencubes at 0x0000023FB3B2E5A0>"
      ]
     },
     "execution_count": 24,
     "metadata": {},
     "output_type": "execute_result"
    }
   ],
   "source": [
    "gencubes(10)"
   ]
  },
  {
   "cell_type": "code",
   "execution_count": 25,
   "id": "bcf9f97f-e46a-441c-82db-63d11c61faf6",
   "metadata": {},
   "outputs": [
    {
     "name": "stdout",
     "output_type": "stream",
     "text": [
      "0\n",
      "1\n",
      "8\n",
      "27\n",
      "64\n",
      "125\n",
      "216\n",
      "343\n",
      "512\n",
      "729\n"
     ]
    }
   ],
   "source": [
    "for x in gencubes(10):\n",
    "    print(x)"
   ]
  },
  {
   "cell_type": "code",
   "execution_count": 26,
   "id": "2e3ee7f9-6a44-4819-8dd2-fd8411e33b5a",
   "metadata": {},
   "outputs": [],
   "source": [
    "# Generator function for the fibonnaci sequence up to n => [1,1,2,3,5,8,....]"
   ]
  },
  {
   "cell_type": "code",
   "execution_count": 27,
   "id": "d2f17b78-7d5e-4aaf-a66f-af0aa95d8fab",
   "metadata": {},
   "outputs": [],
   "source": [
    "# normal implementation\n",
    "def fibon(n):\n",
    "    a = 1\n",
    "    b = 1\n",
    "    output = []\n",
    "    \n",
    "    for i in range(n):\n",
    "        output.append(a)\n",
    "        a,b = b,a+b\n",
    "        \n",
    "    return output"
   ]
  },
  {
   "cell_type": "code",
   "execution_count": 28,
   "id": "bf0dcbd2-c98d-4c31-9853-3477cba0dbb0",
   "metadata": {},
   "outputs": [
    {
     "data": {
      "text/plain": [
       "[1, 1, 2, 3, 5, 8, 13, 21, 34, 55]"
      ]
     },
     "execution_count": 28,
     "metadata": {},
     "output_type": "execute_result"
    }
   ],
   "source": [
    "fibon(10)"
   ]
  },
  {
   "cell_type": "code",
   "execution_count": 29,
   "id": "5903fd4c-34ee-4866-b22d-c0744ca880d6",
   "metadata": {},
   "outputs": [],
   "source": [
    "# generator Implementation\n",
    "def genfibon(n):\n",
    "    '''\n",
    "    Generate a fibonacci sequence up to n\n",
    "    '''\n",
    "    a = 1\n",
    "    b = 1\n",
    "    for i in range(n):\n",
    "        yield a\n",
    "        a,b = b,a+b"
   ]
  },
  {
   "cell_type": "code",
   "execution_count": 30,
   "id": "f105cf16-9f0c-483f-a69b-97664e008abd",
   "metadata": {},
   "outputs": [
    {
     "data": {
      "text/plain": [
       "<generator object genfibon at 0x0000023FB37E2F80>"
      ]
     },
     "execution_count": 30,
     "metadata": {},
     "output_type": "execute_result"
    }
   ],
   "source": [
    "genfibon(10)"
   ]
  },
  {
   "cell_type": "code",
   "execution_count": 31,
   "id": "13868475-49e1-4fd6-b2bb-3467e2be2058",
   "metadata": {},
   "outputs": [
    {
     "name": "stdout",
     "output_type": "stream",
     "text": [
      "1\n",
      "1\n",
      "2\n",
      "3\n",
      "5\n",
      "8\n",
      "13\n",
      "21\n",
      "34\n",
      "55\n"
     ]
    }
   ],
   "source": [
    "for num in genfibon(10):\n",
    "    print(num)"
   ]
  },
  {
   "cell_type": "code",
   "execution_count": null,
   "id": "3d4a1d7b-3eca-4474-a0d5-1dfdf27c8bff",
   "metadata": {},
   "outputs": [],
   "source": []
  },
  {
   "cell_type": "markdown",
   "id": "0d5a3327-1e01-4052-b5d6-fbd81eca183f",
   "metadata": {},
   "source": [
    "---\n",
    "\n",
    "<div align=\"center\">\n",
    "\n",
    "### 🙏 Thank you for learning with us!\n",
    "\n",
    "#### — Team 🚀 Decode-AI\n",
    "\n",
    "</div>\n"
   ]
  }
 ],
 "metadata": {
  "kernelspec": {
   "display_name": "Python 3 (ipykernel)",
   "language": "python",
   "name": "python3"
  },
  "language_info": {
   "codemirror_mode": {
    "name": "ipython",
    "version": 3
   },
   "file_extension": ".py",
   "mimetype": "text/x-python",
   "name": "python",
   "nbconvert_exporter": "python",
   "pygments_lexer": "ipython3",
   "version": "3.13.5"
  }
 },
 "nbformat": 4,
 "nbformat_minor": 5
}
