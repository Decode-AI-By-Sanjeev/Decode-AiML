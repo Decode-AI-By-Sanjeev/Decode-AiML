{
 "cells": [
  {
   "cell_type": "markdown",
   "metadata": {},
   "source": [
    "## Database Programming using Python\n"
   ]
  },
  {
   "cell_type": "markdown",
   "metadata": {},
   "source": [
    "Python supports several databases. The most commonly used are:\n",
    "\n",
    "- **SQLite** (built-in, file-based)\n",
    "- **MySQL / MariaDB**\n",
    "- **PostgreSQL**\n",
    "- **MongoDB** (NoSQL)\n",
    "- **SQLAlchemy** (ORM for SQL databases)\n",
    "\n",
    "In this Lecture we will learn how to work with **SQLite** using Python’s built-in `sqlite3` module."
   ]
  },
  {
   "cell_type": "markdown",
   "metadata": {},
   "source": [
    "### 1. Using sqlite3 module for Database operations"
   ]
  },
  {
   "cell_type": "markdown",
   "metadata": {},
   "source": [
    "- **sqlite3** is a built-in Python module that provides an interface to SQLite databases. \n",
    "- SQLite is a lightweight, file-based database that doesn't require a separate server process.\n",
    "- sqlite3 provides a straightforward and simple-to-use interface for interacting with SQLite databases.\n",
    "- There is no need to install this module separately as it comes along with Python after the 2.5x version.\n",
    "- Used in Mobile apps, browsers, small desktop tools (e.g., Android, Firefox, Python apps)"
   ]
  },
  {
   "cell_type": "markdown",
   "metadata": {},
   "source": [
    "**NOTE**\n",
    "- SQLite is just like other relational database management systems (RDBMS) like MySQL or PostgreSQL.\n",
    "- Just that it doesn't require a separate server process like MySQL and PostgreSQL\n",
    "- We don't need to install anything additional to get started because Python has built-in support for SQLite through the sqlite3 module."
   ]
  },
  {
   "cell_type": "markdown",
   "metadata": {},
   "source": [
    "**SQLite Vs sqlite3 Vs SQL**\n",
    "- SQL => A language used to interact with relational databases.\n",
    "- SQLite => A lightweight relational database engine just like MySQL.\n",
    "- sqlite3 => A Python module to work with SQLite databases."
   ]
  },
  {
   "cell_type": "markdown",
   "metadata": {},
   "source": [
    "**Step 1: Importing sqlite3 module**"
   ]
  },
  {
   "cell_type": "code",
   "execution_count": 8,
   "metadata": {},
   "outputs": [],
   "source": [
    "import sqlite3"
   ]
  },
  {
   "cell_type": "markdown",
   "metadata": {},
   "source": [
    "**Step 2: Connecting to a Database**"
   ]
  },
  {
   "cell_type": "code",
   "execution_count": 19,
   "metadata": {},
   "outputs": [],
   "source": [
    "# To interact with an SQLite database, we first need to establish a connection to it using the connect() method. \n",
    "# If the specified database file doesn't exist, SQLite will create it automatically.\n",
    "conn = sqlite3.connect(\"decodeaiml_db.db\")"
   ]
  },
  {
   "cell_type": "markdown",
   "metadata": {},
   "source": [
    "**Step 3: Creating a Table**"
   ]
  },
  {
   "cell_type": "code",
   "execution_count": 20,
   "metadata": {},
   "outputs": [
    {
     "data": {
      "text/plain": [
       "<sqlite3.Cursor at 0x270738a0240>"
      ]
     },
     "execution_count": 20,
     "metadata": {},
     "output_type": "execute_result"
    }
   ],
   "source": [
    "cursor.execute('DROP TABLE IF EXISTS Employees')"
   ]
  },
  {
   "cell_type": "code",
   "execution_count": 21,
   "metadata": {},
   "outputs": [],
   "source": [
    "# After establishing the connection, we need to create a cursor object to execute SQL queries on the database.\n",
    "cursor = conn.cursor()"
   ]
  },
  {
   "cell_type": "code",
   "execution_count": 23,
   "metadata": {},
   "outputs": [
    {
     "data": {
      "text/plain": [
       "<sqlite3.Cursor at 0x270738a0a40>"
      ]
     },
     "execution_count": 23,
     "metadata": {},
     "output_type": "execute_result"
    }
   ],
   "source": [
    "cursor.execute(\"\"\"CREATE TABLE IF NOT EXISTS Employees(\n",
    "        id int, \n",
    "        name text, \n",
    "        experience int, \n",
    "        location text\n",
    "    )\n",
    "    \"\"\")"
   ]
  },
  {
   "cell_type": "markdown",
   "metadata": {},
   "source": [
    "**Step 4: Inserting Data**"
   ]
  },
  {
   "cell_type": "code",
   "execution_count": 24,
   "metadata": {},
   "outputs": [],
   "source": [
    "cursor.execute(\"\"\"INSERT INTO Employees VALUES\n",
    "            (1,'Sanjeev',6, \"India\"),\n",
    "            (2,'Shambahvi',5, \"India\"),\n",
    "            (3,'Aman',3, \"Remote\"),\n",
    "            (4,'Anjali',3, \"Remote\")\n",
    "        \"\"\")\n",
    "conn.commit()"
   ]
  },
  {
   "cell_type": "markdown",
   "metadata": {},
   "source": [
    "**Step 5: Querying Data**"
   ]
  },
  {
   "cell_type": "code",
   "execution_count": 25,
   "metadata": {},
   "outputs": [
    {
     "name": "stdout",
     "output_type": "stream",
     "text": [
      "(1, 'Sanjeev', 6, 'India')\n",
      "(2, 'Shambahvi', 5, 'India')\n",
      "(3, 'Aman', 3, 'Remote')\n",
      "(4, 'Anjali', 3, 'Remote')\n"
     ]
    }
   ],
   "source": [
    "# 1. List all employees with details\n",
    "result = cursor.execute(\"select * from Employees\")\n",
    "for row in result:\n",
    "    print(row)"
   ]
  },
  {
   "cell_type": "code",
   "execution_count": 32,
   "metadata": {},
   "outputs": [
    {
     "name": "stdout",
     "output_type": "stream",
     "text": [
      "(3, 'Aman', 3, 'Remote')\n",
      "(4, 'Anjali', 3, 'Remote')\n",
      "(2, 'Shambahvi', 5, 'India')\n",
      "(1, 'Sanjeev', 6, 'India')\n"
     ]
    }
   ],
   "source": [
    "# 2. List all employees with details sorted in descending order\n",
    "result = cursor.execute(\"SELECT * FROM Employees ORDER BY Experience\")\n",
    "for row in result:\n",
    "    print(row)"
   ]
  },
  {
   "cell_type": "code",
   "execution_count": 35,
   "metadata": {},
   "outputs": [
    {
     "name": "stdout",
     "output_type": "stream",
     "text": [
      "(3, 'Aman', 3, 'Remote')\n",
      "(4, 'Anjali', 3, 'Remote')\n"
     ]
    }
   ],
   "source": [
    "# 2. List all employees with location Remote\n",
    "result = cursor.execute(\"SELECT * FROM Employees WHERE Location = 'Remote'\")\n",
    "for row in result:\n",
    "    print(row)"
   ]
  },
  {
   "cell_type": "markdown",
   "metadata": {},
   "source": [
    "#### Usecase: Reading from a Database and writing to a CSV/Excel File"
   ]
  },
  {
   "cell_type": "code",
   "execution_count": null,
   "metadata": {},
   "outputs": [],
   "source": [
    "conn = sqlite3.connect(\"decodeaiml_db.db\")\n",
    "cursor = conn.cursor()"
   ]
  },
  {
   "cell_type": "code",
   "execution_count": 36,
   "metadata": {},
   "outputs": [],
   "source": [
    "result = cursor.execute(\"select * from Employees\")\n",
    "employee_list = []\n",
    "for row in result:\n",
    "    employee_list.append(row)"
   ]
  },
  {
   "cell_type": "code",
   "execution_count": 37,
   "metadata": {},
   "outputs": [
    {
     "data": {
      "text/plain": [
       "[(1, 'Sanjeev', 6, 'India'),\n",
       " (2, 'Shambahvi', 5, 'India'),\n",
       " (3, 'Aman', 3, 'Remote'),\n",
       " (4, 'Anjali', 3, 'Remote')]"
      ]
     },
     "execution_count": 37,
     "metadata": {},
     "output_type": "execute_result"
    }
   ],
   "source": [
    "employee_list"
   ]
  },
  {
   "cell_type": "code",
   "execution_count": 39,
   "metadata": {},
   "outputs": [],
   "source": [
    "# import pandas and create dataframe\n",
    "import pandas as pd\n",
    "\n",
    "df = pd.DataFrame(employee_list, columns=['Id','Name','Experience','Location'])"
   ]
  },
  {
   "cell_type": "code",
   "execution_count": 40,
   "metadata": {},
   "outputs": [
    {
     "data": {
      "text/html": [
       "<div>\n",
       "<style scoped>\n",
       "    .dataframe tbody tr th:only-of-type {\n",
       "        vertical-align: middle;\n",
       "    }\n",
       "\n",
       "    .dataframe tbody tr th {\n",
       "        vertical-align: top;\n",
       "    }\n",
       "\n",
       "    .dataframe thead th {\n",
       "        text-align: right;\n",
       "    }\n",
       "</style>\n",
       "<table border=\"1\" class=\"dataframe\">\n",
       "  <thead>\n",
       "    <tr style=\"text-align: right;\">\n",
       "      <th></th>\n",
       "      <th>Id</th>\n",
       "      <th>Name</th>\n",
       "      <th>Experience</th>\n",
       "      <th>Location</th>\n",
       "    </tr>\n",
       "  </thead>\n",
       "  <tbody>\n",
       "    <tr>\n",
       "      <th>0</th>\n",
       "      <td>1</td>\n",
       "      <td>Sanjeev</td>\n",
       "      <td>6</td>\n",
       "      <td>India</td>\n",
       "    </tr>\n",
       "    <tr>\n",
       "      <th>1</th>\n",
       "      <td>2</td>\n",
       "      <td>Shambahvi</td>\n",
       "      <td>5</td>\n",
       "      <td>India</td>\n",
       "    </tr>\n",
       "    <tr>\n",
       "      <th>2</th>\n",
       "      <td>3</td>\n",
       "      <td>Aman</td>\n",
       "      <td>3</td>\n",
       "      <td>Remote</td>\n",
       "    </tr>\n",
       "    <tr>\n",
       "      <th>3</th>\n",
       "      <td>4</td>\n",
       "      <td>Anjali</td>\n",
       "      <td>3</td>\n",
       "      <td>Remote</td>\n",
       "    </tr>\n",
       "  </tbody>\n",
       "</table>\n",
       "</div>"
      ],
      "text/plain": [
       "   Id       Name  Experience Location\n",
       "0   1    Sanjeev           6    India\n",
       "1   2  Shambahvi           5    India\n",
       "2   3       Aman           3   Remote\n",
       "3   4     Anjali           3   Remote"
      ]
     },
     "execution_count": 40,
     "metadata": {},
     "output_type": "execute_result"
    }
   ],
   "source": [
    "df.head()"
   ]
  },
  {
   "cell_type": "code",
   "execution_count": 45,
   "metadata": {},
   "outputs": [],
   "source": [
    "# Save to CSV\n",
    "df.to_csv('employees_csv.csv', index=False)"
   ]
  },
  {
   "cell_type": "code",
   "execution_count": 43,
   "metadata": {},
   "outputs": [
    {
     "name": "stdout",
     "output_type": "stream",
     "text": [
      "Collecting openpyxl\n",
      "  Downloading openpyxl-3.1.5-py2.py3-none-any.whl.metadata (2.5 kB)\n",
      "Collecting et-xmlfile (from openpyxl)\n",
      "  Downloading et_xmlfile-2.0.0-py3-none-any.whl.metadata (2.7 kB)\n",
      "Downloading openpyxl-3.1.5-py2.py3-none-any.whl (250 kB)\n",
      "Downloading et_xmlfile-2.0.0-py3-none-any.whl (18 kB)\n",
      "Installing collected packages: et-xmlfile, openpyxl\n",
      "\n",
      "   -------------------- ------------------- 1/2 [openpyxl]\n",
      "   -------------------- ------------------- 1/2 [openpyxl]\n",
      "   -------------------- ------------------- 1/2 [openpyxl]\n",
      "   -------------------- ------------------- 1/2 [openpyxl]\n",
      "   ---------------------------------------- 2/2 [openpyxl]\n",
      "\n",
      "Successfully installed et-xmlfile-2.0.0 openpyxl-3.1.5\n"
     ]
    }
   ],
   "source": [
    "!pip install openpyxl"
   ]
  },
  {
   "cell_type": "code",
   "execution_count": 46,
   "metadata": {},
   "outputs": [],
   "source": [
    "# Save to Excel\n",
    "df.to_excel('employees_excel.xlsx', index=False)"
   ]
  }
 ],
 "metadata": {
  "kernelspec": {
   "display_name": "Python 3 (ipykernel)",
   "language": "python",
   "name": "python3"
  },
  "language_info": {
   "codemirror_mode": {
    "name": "ipython",
    "version": 3
   },
   "file_extension": ".py",
   "mimetype": "text/x-python",
   "name": "python",
   "nbconvert_exporter": "python",
   "pygments_lexer": "ipython3",
   "version": "3.13.5"
  }
 },
 "nbformat": 4,
 "nbformat_minor": 4
}
