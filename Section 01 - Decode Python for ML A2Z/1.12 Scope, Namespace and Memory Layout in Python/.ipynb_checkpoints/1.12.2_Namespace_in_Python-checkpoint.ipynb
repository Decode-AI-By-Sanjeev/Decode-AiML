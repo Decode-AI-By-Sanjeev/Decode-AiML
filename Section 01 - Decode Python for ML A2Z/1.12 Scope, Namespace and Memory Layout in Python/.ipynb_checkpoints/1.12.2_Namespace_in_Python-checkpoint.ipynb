{
 "cells": [
  {
   "cell_type": "markdown",
   "metadata": {
    "id": "61bkyAe-mLX7"
   },
   "source": [
    "# Namespace in Python\n",
    "\n",
    "A Python namespace is a mapping from names to objects.\n"
   ]
  },
  {
   "cell_type": "code",
   "execution_count": 4,
   "metadata": {},
   "outputs": [],
   "source": [
    "a = 2 # a is a name pointing to an object of type int with value 2\n",
    "# Python first creates an integer object with the value 2.\n",
    "# The name a is bound to the object 2. This means a is just a reference (a label) pointing to the integer object 2.\n",
    "# Namespace updation "
   ]
  },
  {
   "cell_type": "code",
   "execution_count": 1,
   "metadata": {},
   "outputs": [],
   "source": [
    "def greetings(): # 'greetings': <function greetings at 0x000001E4D21C7880>\n",
    "    print(\"Hello Decode AiML!\")"
   ]
  },
  {
   "cell_type": "code",
   "execution_count": 2,
   "metadata": {},
   "outputs": [],
   "source": [
    "grettings = \"Hello Decode AiML!\""
   ]
  },
  {
   "cell_type": "code",
   "execution_count": 3,
   "metadata": {},
   "outputs": [
    {
     "name": "stdout",
     "output_type": "stream",
     "text": [
      "{'__name__': '__main__', '__doc__': 'Automatically created module for IPython interactive environment', '__package__': None, '__loader__': None, '__spec__': None, '__builtin__': <module 'builtins' (built-in)>, '__builtins__': <module 'builtins' (built-in)>, '_ih': ['', 'def greetings():\\n    print(\"Hello Decode AiML!\")', 'grettings = \"Hello Decode AiML!\"', 'print(globals()) # global namespace'], '_oh': {}, '_dh': [WindowsPath('D:/decode ai/github/Decode-AI/Section 01 - Decode Python for ML A2Z/1.12 Scope, Namespace and Memory Layout in Python')], 'In': ['', 'def greetings():\\n    print(\"Hello Decode AiML!\")', 'grettings = \"Hello Decode AiML!\"', 'print(globals()) # global namespace'], 'Out': {}, 'get_ipython': <bound method InteractiveShell.get_ipython of <ipykernel.zmqshell.ZMQInteractiveShell object at 0x000001E4D1FE9FD0>>, 'exit': <IPython.core.autocall.ZMQExitAutocall object at 0x000001E4D1FE96A0>, 'quit': <IPython.core.autocall.ZMQExitAutocall object at 0x000001E4D1FE96A0>, 'open': <function open at 0x000001E4CFCE1A80>, '_': '', '__': '', '___': '', '__session__': 'D:\\\\decode ai\\\\github\\\\Decode-AI\\\\Section 01 - Decode Python for ML A2Z\\\\1.12 Scope, Namespace and Memory Layout in Python\\\\1.12.2_Namespace_in_Python.ipynb', '_i': 'grettings = \"Hello Decode AiML!\"', '_ii': 'def greetings():\\n    print(\"Hello Decode AiML!\")', '_iii': '', '_i1': 'def greetings():\\n    print(\"Hello Decode AiML!\")', 'greetings': <function greetings at 0x000001E4D21C7880>, '_i2': 'grettings = \"Hello Decode AiML!\"', 'grettings': 'Hello Decode AiML!', '_i3': 'print(globals()) # global namespace'}\n"
     ]
    }
   ],
   "source": [
    "print(globals()) # global namespace"
   ]
  },
  {
   "cell_type": "code",
   "execution_count": 7,
   "metadata": {},
   "outputs": [
    {
     "name": "stdout",
     "output_type": "stream",
     "text": [
      "{'name': 'Sanjeev'}\n",
      "Sanjeev\n"
     ]
    }
   ],
   "source": [
    "def print_name():\n",
    "    name = \"Sanjeev\"\n",
    "    print(locals()) # local namespace\n",
    "    print(name)\n",
    "    \n",
    "print_name()"
   ]
  },
  {
   "cell_type": "code",
   "execution_count": 3,
   "metadata": {},
   "outputs": [
    {
     "ename": "NameError",
     "evalue": "name 'name' is not defined",
     "output_type": "error",
     "traceback": [
      "\u001b[31m---------------------------------------------------------------------------\u001b[39m",
      "\u001b[31mNameError\u001b[39m                                 Traceback (most recent call last)",
      "\u001b[36mCell\u001b[39m\u001b[36m \u001b[39m\u001b[32mIn[3]\u001b[39m\u001b[32m, line 1\u001b[39m\n\u001b[32m----> \u001b[39m\u001b[32m1\u001b[39m \u001b[38;5;28mprint\u001b[39m(name)\n",
      "\u001b[31mNameError\u001b[39m: name 'name' is not defined"
     ]
    }
   ],
   "source": [
    "print(name)"
   ]
  },
  {
   "cell_type": "code",
   "execution_count": 4,
   "metadata": {},
   "outputs": [
    {
     "name": "stdout",
     "output_type": "stream",
     "text": [
      "{'__name__': '__main__', '__doc__': 'Automatically created module for IPython interactive environment', '__package__': None, '__loader__': None, '__spec__': None, '__builtin__': <module 'builtins' (built-in)>, '__builtins__': <module 'builtins' (built-in)>, '_ih': ['', 'grettings = \"Hello Decode AiML !\"', 'print(globals()) # global namespace', 'print(name)', 'print(globals()) # global namespace'], '_oh': {}, '_dh': [WindowsPath('D:/decode ai/github/Decode-AI/Section 01 - Decode Python for ML A2Z/1.12 Scope, Namespace and Memory Layout in Python')], 'In': ['', 'grettings = \"Hello Decode AiML !\"', 'print(globals()) # global namespace', 'print(name)', 'print(globals()) # global namespace'], 'Out': {}, 'get_ipython': <bound method InteractiveShell.get_ipython of <ipykernel.zmqshell.ZMQInteractiveShell object at 0x00000258A2DE9FD0>>, 'exit': <IPython.core.autocall.ZMQExitAutocall object at 0x00000258A2DE96A0>, 'quit': <IPython.core.autocall.ZMQExitAutocall object at 0x00000258A2DE96A0>, 'open': <function open at 0x00000258A0B41A80>, '_': '', '__': '', '___': '', '__session__': 'D:\\\\decode ai\\\\github\\\\Decode-AI\\\\Section 01 - Decode Python for ML A2Z\\\\1.12 Scope, Namespace and Memory Layout in Python\\\\1.12.2_Namespace_in_Python.ipynb', '_i': 'print(name)', '_ii': 'print(globals()) # global namespace', '_iii': 'grettings = \"Hello Decode AiML !\"', '_i1': 'grettings = \"Hello Decode AiML !\"', 'grettings': 'Hello Decode AiML !', '_i2': 'print(globals()) # global namespace', '_i3': 'print(name)', '_i4': 'print(globals()) # global namespace'}\n"
     ]
    }
   ],
   "source": [
    "print(globals()) # global namespace"
   ]
  },
  {
   "cell_type": "markdown",
   "metadata": {},
   "source": [
    "**NOTE**\n",
    "- It works like a dictionary where keys are object names and values are the objects themselves.\n",
    "- Namespaces organize variables and functions in a dedicated space, allowing you to use multiple instances of the same name without conflict, as long as they’re in different namespaces."
   ]
  },
  {
   "cell_type": "code",
   "execution_count": 9,
   "metadata": {},
   "outputs": [
    {
     "name": "stdout",
     "output_type": "stream",
     "text": [
      "Sanjeev\n",
      "Decode AiML\n"
     ]
    }
   ],
   "source": [
    "# namespace and scope\n",
    "name = \"Decode AiML\" # Global namespace\n",
    "def print_name():\n",
    "    name = \"Sanjeev\" # local namespace\n",
    "    print(name)\n",
    "    \n",
    "print_name() # local\n",
    "print(name) # Global"
   ]
  },
  {
   "cell_type": "markdown",
   "metadata": {},
   "source": [
    "**Formally** : A namespace is a container that holds the currently defined symbolic names and the objects each name references."
   ]
  },
  {
   "cell_type": "markdown",
   "metadata": {},
   "source": [
    "**Advantages of Namespace ?** : Namespaces let you use the same name in different contexts without collisions."
   ]
  },
  {
   "cell_type": "markdown",
   "metadata": {},
   "source": [
    "**Types of Namespace in python**\n",
    "1. Built-In\n",
    "2. Global\n",
    "3. Local\n",
    "4. Enclosing or nonlocal"
   ]
  },
  {
   "cell_type": "markdown",
   "metadata": {},
   "source": [
    "### Some Important Points About Namespace\n",
    "\n",
    "- These namespaces have **different lifetimes**. As Python executes a program, it **creates namespaces as needed** and **removes them when no longer required**. Typically, **multiple namespaces** may exist simultaneously.\n",
    "  \n",
    "- The **global**, **local**, and **nonlocal** namespaces in Python are **implemented as dictionaries**.\n",
    "\n",
    "- The **built-in namespace** is **not a dictionary**, but rather a **module named `builtins`**. This module serves as the **container** for all built-in names and functions.\n"
   ]
  },
  {
   "cell_type": "markdown",
   "metadata": {},
   "source": [
    "### 1. The Built-in Namespace"
   ]
  },
  {
   "cell_type": "markdown",
   "metadata": {},
   "source": [
    "- The built-in namespace contains the names of all of Python’s built-in objects. \n",
    "- This namespace is available while the Python interpreter is running."
   ]
  },
  {
   "cell_type": "code",
   "execution_count": 4,
   "metadata": {},
   "outputs": [
    {
     "name": "stdout",
     "output_type": "stream",
     "text": [
      "['ArithmeticError', 'AssertionError', 'AttributeError', 'BaseException', 'BaseExceptionGroup', 'BlockingIOError', 'BrokenPipeError', 'BufferError', 'BytesWarning', 'ChildProcessError', 'ConnectionAbortedError', 'ConnectionError', 'ConnectionRefusedError', 'ConnectionResetError', 'DeprecationWarning', 'EOFError', 'Ellipsis', 'EncodingWarning', 'EnvironmentError', 'Exception', 'ExceptionGroup', 'False', 'FileExistsError', 'FileNotFoundError', 'FloatingPointError', 'FutureWarning', 'GeneratorExit', 'IOError', 'ImportError', 'ImportWarning', 'IndentationError', 'IndexError', 'InterruptedError', 'IsADirectoryError', 'KeyError', 'KeyboardInterrupt', 'LookupError', 'MemoryError', 'ModuleNotFoundError', 'NameError', 'None', 'NotADirectoryError', 'NotImplemented', 'NotImplementedError', 'OSError', 'OverflowError', 'PendingDeprecationWarning', 'PermissionError', 'ProcessLookupError', 'PythonFinalizationError', 'RecursionError', 'ReferenceError', 'ResourceWarning', 'RuntimeError', 'RuntimeWarning', 'StopAsyncIteration', 'StopIteration', 'SyntaxError', 'SyntaxWarning', 'SystemError', 'SystemExit', 'TabError', 'TimeoutError', 'True', 'TypeError', 'UnboundLocalError', 'UnicodeDecodeError', 'UnicodeEncodeError', 'UnicodeError', 'UnicodeTranslateError', 'UnicodeWarning', 'UserWarning', 'ValueError', 'Warning', 'WindowsError', 'ZeroDivisionError', '_IncompleteInputError', '__IPYTHON__', '__build_class__', '__debug__', '__doc__', '__import__', '__loader__', '__name__', '__package__', '__spec__', 'abs', 'aiter', 'all', 'anext', 'any', 'ascii', 'bin', 'bool', 'breakpoint', 'bytearray', 'bytes', 'callable', 'chr', 'classmethod', 'compile', 'complex', 'copyright', 'credits', 'delattr', 'dict', 'dir', 'display', 'divmod', 'enumerate', 'eval', 'exec', 'execfile', 'filter', 'float', 'format', 'frozenset', 'get_ipython', 'getattr', 'globals', 'hasattr', 'hash', 'help', 'hex', 'id', 'input', 'int', 'isinstance', 'issubclass', 'iter', 'len', 'license', 'list', 'locals', 'map', 'max', 'memoryview', 'min', 'next', 'object', 'oct', 'open', 'ord', 'pow', 'print', 'property', 'range', 'repr', 'reversed', 'round', 'runfile', 'set', 'setattr', 'slice', 'sorted', 'staticmethod', 'str', 'sum', 'super', 'tuple', 'type', 'vars', 'zip']\n"
     ]
    }
   ],
   "source": [
    "print(dir(__builtins__))"
   ]
  },
  {
   "cell_type": "code",
   "execution_count": null,
   "metadata": {},
   "outputs": [],
   "source": [
    "# You may recognize some objects here, such as built-in exceptions, built-in functions, and built-in data types"
   ]
  },
  {
   "cell_type": "markdown",
   "metadata": {},
   "source": [
    "### 2. The Global Namespace"
   ]
  },
  {
   "cell_type": "markdown",
   "metadata": {},
   "source": [
    "- The global namespace contains the names defined at the module level. \n",
    "- Python creates a main global namespace when the main program’s body starts. \n",
    "- This namespace remains in existence until the interpreter terminates."
   ]
  },
  {
   "cell_type": "code",
   "execution_count": 4,
   "metadata": {},
   "outputs": [],
   "source": [
    "my_name = \"Decode AiML !\" # global name"
   ]
  },
  {
   "cell_type": "code",
   "execution_count": 1,
   "metadata": {},
   "outputs": [
    {
     "name": "stdout",
     "output_type": "stream",
     "text": [
      "['In', 'Out', '_', '__', '___', '__builtin__', '__builtins__', '__doc__', '__loader__', '__name__', '__package__', '__session__', '__spec__', '_dh', '_i', '_i1', '_ih', '_ii', '_iii', '_oh', 'exit', 'get_ipython', 'open', 'quit']\n"
     ]
    }
   ],
   "source": [
    "print(dir()) # dir() function to check the list of names defined in your current global scope."
   ]
  },
  {
   "cell_type": "markdown",
   "metadata": {},
   "source": [
    "### 3. The Local Namespace"
   ]
  },
  {
   "cell_type": "markdown",
   "metadata": {},
   "source": [
    "- The Python interpreter creates a new and dedicated namespace whenever you call a function. \n",
    "- This namespace is local to the function and exists only until the function returns"
   ]
  },
  {
   "cell_type": "code",
   "execution_count": 2,
   "metadata": {},
   "outputs": [
    {
     "name": "stdout",
     "output_type": "stream",
     "text": [
      "['print_my_name']\n",
      "{'print_my_name': 'Sanjeev'}\n",
      "Sanjeev\n"
     ]
    }
   ],
   "source": [
    "def print_name():\n",
    "    print_my_name = \"Sanjeev\" # local namespace\n",
    "    print(dir())\n",
    "    print(locals()) # local namespace\n",
    "    print(print_my_name)\n",
    "    \n",
    "print_name() # local"
   ]
  },
  {
   "cell_type": "markdown",
   "metadata": {},
   "source": [
    "### 4. The Enclosing or Nonlocal Namespace"
   ]
  },
  {
   "cell_type": "markdown",
   "metadata": {},
   "source": [
    "You can also define one function inside another."
   ]
  },
  {
   "cell_type": "code",
   "execution_count": 5,
   "metadata": {},
   "outputs": [
    {
     "name": "stdout",
     "output_type": "stream",
     "text": [
      "Hello Decode AiML from local scope !\n",
      "{'local_msg': 'Hello Decode AiML from local scope !'}\n",
      "{'nonlocal_msg': 'Hello Decode AiML from nonlocal scope !', 'greet_inner': <function greet_outer.<locals>.greet_inner at 0x0000014595527740>}\n"
     ]
    }
   ],
   "source": [
    "def greet_outer(): # non-local namespace\n",
    "    nonlocal_msg = \"Hello Decode AiML from nonlocal scope !\" # Nonlocal variable\n",
    "    def greet_inner(): # local namespace\n",
    "        local_msg = \"Hello Decode AiML from local scope !\"\n",
    "        print(local_msg)\n",
    "        print(locals()) # local namespace\n",
    "        \n",
    "    greet_inner()\n",
    "    print(locals()) # nonlocal namespace\n",
    "\n",
    "\n",
    "greet_outer() # Hello Decode AiML !"
   ]
  },
  {
   "cell_type": "markdown",
   "metadata": {},
   "source": [
    "**NOTE**\n",
    "- Each of these namespaces remains in existence until its respective function returns. "
   ]
  },
  {
   "cell_type": "markdown",
   "metadata": {},
   "source": [
    "#### Suppose you refer to the name x in your code, and x exists in several namespaces. How does Python know which one you mean each time?"
   ]
  },
  {
   "cell_type": "markdown",
   "metadata": {},
   "source": [
    "- The answer lies in the concept of scope.\n",
    "- The concepts of namespace and scope are closely related. In practice, namespaces are how Python applies the concept of scope to the name lookup process."
   ]
  },
  {
   "cell_type": "code",
   "execution_count": 24,
   "metadata": {},
   "outputs": [
    {
     "name": "stdout",
     "output_type": "stream",
     "text": [
      "Inner: local\n",
      "Enclosing: enclosing\n",
      "Global: global\n"
     ]
    }
   ],
   "source": [
    "x = \"global\"  # Global scope\n",
    "\n",
    "def outer():\n",
    "    x = \"enclosing\"  # Enclosing scope\n",
    "\n",
    "    def inner():\n",
    "        x = \"local\"  # Local scope\n",
    "        print(\"Inner:\", x)\n",
    "\n",
    "    inner()\n",
    "    print(\"Enclosing:\", x)\n",
    "\n",
    "outer()\n",
    "print(\"Global:\", x)\n"
   ]
  },
  {
   "cell_type": "markdown",
   "metadata": {},
   "source": [
    "### The LEGB Rule for Searching Names\n",
    "\n",
    "Python follows the **LEGB** rule to resolve the scope of variables. This stands for:\n",
    "\n",
    "1. **Local**  \n",
    "   Python first looks for the variable `x` in the **local scope**, i.e., inside the current function.\n",
    "\n",
    "2. **Enclosing**  \n",
    "   If `x` is not found locally, Python searches in the **enclosing scope**, which is the scope of any **outer functions** (if the current function is nested inside another).\n",
    "\n",
    "3. **Global**  \n",
    "   If still not found, Python looks for `x` in the **global scope**, which includes variables defined at the top level of the script or module.\n",
    "\n",
    "4. **Built-in**  \n",
    "   Finally, Python searches in the **built-in scope**, which contains built-in functions and exceptions (like `len`, `range`, `Exception`, etc.).\n",
    "\n",
    "If the variable `x` is not found in any of these four scopes, Python raises a `NameError`.\n"
   ]
  },
  {
   "cell_type": "code",
   "execution_count": 11,
   "metadata": {},
   "outputs": [
    {
     "name": "stdout",
     "output_type": "stream",
     "text": [
      "Inner: local\n",
      "Enclosing: enclosing\n",
      "Global: global\n"
     ]
    }
   ],
   "source": [
    "x = \"global\"  # Global scope\n",
    "\n",
    "def outer():\n",
    "    x = \"enclosing\"  # Enclosing scope\n",
    "\n",
    "    def inner():\n",
    "        x = \"local\"  # Local scope\n",
    "        print(\"Inner:\", x)\n",
    "\n",
    "    inner()\n",
    "    print(\"Enclosing:\", x)\n",
    "\n",
    "outer()\n",
    "print(\"Global:\", x)\n"
   ]
  },
  {
   "cell_type": "code",
   "execution_count": 15,
   "metadata": {},
   "outputs": [
    {
     "name": "stdout",
     "output_type": "stream",
     "text": [
      "Inner before: enclosing\n",
      "Inner after: enclosing\n",
      "Enclosing: enclosing\n",
      "Global: global\n"
     ]
    }
   ],
   "source": [
    "x = \"global\"  # Global scope\n",
    "\n",
    "def outer():\n",
    "    x = \"enclosing\"  # Enclosing scope\n",
    "\n",
    "    def inner():\n",
    "        nonlocal x\n",
    "        print(\"Inner before:\", x)\n",
    "        #x = \"local\"  # Local scope\n",
    "        print(\"Inner after:\", x)\n",
    "\n",
    "    inner()\n",
    "    print(\"Enclosing:\", x)\n",
    "\n",
    "outer()\n",
    "print(\"Global:\", x)\n"
   ]
  },
  {
   "cell_type": "markdown",
   "metadata": {},
   "source": [
    "### Managing Namespace Dictionaries\n",
    "\n",
    "Python provides two built-in functions to access namespace dictionaries:\n",
    "\n",
    "- **`globals()`**: Returns the dictionary representing the **global namespace**.\n",
    "- **`locals()`**: Returns the dictionary representing the **local namespace**.\n",
    "\n",
    "These functions allow direct access to the contents of their respective namespaces, both of which are implemented as **dictionaries** (except the built-in namespace, which is a module).\n"
   ]
  },
  {
   "cell_type": "code",
   "execution_count": 16,
   "metadata": {},
   "outputs": [
    {
     "name": "stdout",
     "output_type": "stream",
     "text": [
      "{'__name__': '__main__', '__doc__': 'Automatically created module for IPython interactive environment', '__package__': None, '__loader__': None, '__spec__': None, '__builtin__': <module 'builtins' (built-in)>, '__builtins__': <module 'builtins' (built-in)>, '_ih': ['', 'print(dir()) # dir() function to check the list of names defined in your current global scope.', 'def print_name():\\n    print_my_name = \"Sanjeev\" # local namespace\\n    print(dir())\\n    print(locals()) # local namespace\\n    print(print_my_name)\\n\\nprint_name() # local', 'def greet_outer(): # non-local namespace\\n    nonlocal_msg = \"Hello Decode AiML from nonlocal scope !\" # Nonlocal variable\\n    def greet_inner(): # local namespace\\n        local_msg = \"Hello Decode AiML from local scope !\"\\n        print(local_msg)\\n        print(nonlocal_msg)\\n        print(locals()) # local namespace\\n\\n    print(locals()) # nonlocal namespace\\n    greet_inner()\\n\\n\\ngreet_outer() # Hello Decode AiML !', 'def greet_outer(): # non-local namespace\\n    nonlocal_msg = \"Hello Decode AiML from nonlocal scope !\" # Nonlocal variable\\n    def greet_inner(): # local namespace\\n        local_msg = \"Hello Decode AiML from local scope !\"\\n        print(local_msg)\\n        print(nonlocal_msg)\\n        print(locals()) # local namespace\\n\\n    greet_inner()\\n    print(locals()) # nonlocal namespace\\n\\n\\ngreet_outer() # Hello Decode AiML !', 'def greet_outer(): # non-local namespace\\n    nonlocal_msg = \"Hello Decode AiML from nonlocal scope !\" # Nonlocal variable\\n    def greet_inner(): # local namespace\\n        local_msg = \"Hello Decode AiML from local scope !\"\\n        print(local_msg)\\n        # print(nonlocal_msg)\\n        print(locals()) # local namespace\\n\\n    greet_inner()\\n    print(locals()) # nonlocal namespace\\n\\n\\ngreet_outer() # Hello Decode AiML !', 'x = \"global\"  # Global scope\\n\\ndef outer():\\n    x = \"enclosing\"  # Enclosing scope\\n\\n    def inner():\\n        #nonlocal x\\n        x = \"local\"  # Local scope\\n        print(\"Inner:\", x)\\n\\n    inner()\\n    print(\"Enclosing:\", x)\\n\\nouter()\\nprint(\"Global:\", x)', 'x = \"global\"  # Global scope\\n\\ndef outer():\\n    x = \"enclosing\"  # Enclosing scope\\n\\n    def inner():\\n        #nonlocal x\\n        x = \"local\"  # Local scope\\n        print(\"Inner:\", x)\\n\\n    inner()\\n    print(\"Enclosing:\", x)\\n\\nouter()\\nprint(\"Global:\", x)', '#x = \"global\"  # Global scope\\n\\ndef outer():\\n    x = \"enclosing\"  # Enclosing scope\\n\\n    def inner():\\n        #nonlocal x\\n        x = \"local\"  # Local scope\\n        print(\"Inner:\", x)\\n\\n    inner()\\n    print(\"Enclosing:\", x)\\n\\nouter()\\nprint(\"Global:\", x)', 'x = \"global\"  # Global scope\\n\\ndef outer():\\n    x = \"enclosing\"  # Enclosing scope\\n\\n    def inner():\\n        #nonlocal x\\n        x = \"local\"  # Local scope\\n        print(\"Inner:\", x)\\n\\n    inner()\\n    print(\"Enclosing:\", x)\\n\\nouter()\\nprint(\"Global:\", x)', 'x = \"global\"  # Global scope\\n\\ndef outer():\\n    x = \"enclosing\"  # Enclosing scope\\n\\n    def inner():\\n        nonlocal x\\n        x = \"local\"  # Local scope\\n        print(\"Inner:\", x)\\n\\n    inner()\\n    print(\"Enclosing:\", x)\\n\\nouter()\\nprint(\"Global:\", x)', 'x = \"global\"  # Global scope\\n\\ndef outer():\\n    x = \"enclosing\"  # Enclosing scope\\n\\n    def inner():\\n        x = \"local\"  # Local scope\\n        print(\"Inner:\", x)\\n\\n    inner()\\n    print(\"Enclosing:\", x)\\n\\nouter()\\nprint(\"Global:\", x)', 'x = \"global\"  # Global scope\\n\\ndef outer():\\n    x = \"enclosing\"  # Enclosing scope\\n\\n    def inner():\\n        nonlocal x\\n        print(\"Inner before:\", x)\\n        x = \"local\"  # Local scope\\n        print(\"Inner after:\", x)\\n\\n    inner()\\n    print(\"Enclosing:\", x)\\n\\nouter()\\nprint(\"Global:\", x)', 'x = \"global\"  # Global scope\\n\\ndef outer():\\n    x = \"enclosing\"  # Enclosing scope\\n\\n    def inner():\\n        #nonlocal x\\n        print(\"Inner before:\", x)\\n        x = \"local\"  # Local scope\\n        print(\"Inner after:\", x)\\n\\n    inner()\\n    print(\"Enclosing:\", x)\\n\\nouter()\\nprint(\"Global:\", x)', 'x = \"global\"  # Global scope\\n\\ndef outer():\\n    x = \"enclosing\"  # Enclosing scope\\n\\n    def inner():\\n        #nonlocal x\\n        print(\"Inner before:\", x)\\n        #x = \"local\"  # Local scope\\n        print(\"Inner after:\", x)\\n\\n    inner()\\n    print(\"Enclosing:\", x)\\n\\nouter()\\nprint(\"Global:\", x)', 'x = \"global\"  # Global scope\\n\\ndef outer():\\n    x = \"enclosing\"  # Enclosing scope\\n\\n    def inner():\\n        nonlocal x\\n        print(\"Inner before:\", x)\\n        #x = \"local\"  # Local scope\\n        print(\"Inner after:\", x)\\n\\n    inner()\\n    print(\"Enclosing:\", x)\\n\\nouter()\\nprint(\"Global:\", x)', 'print(globals())'], '_oh': {}, '_dh': [WindowsPath('D:/decode ai/github/Decode-AI/Section 01 - Decode Python for ML A2Z/1.12 Scope, Namespace and Memory Layout in Python')], 'In': ['', 'print(dir()) # dir() function to check the list of names defined in your current global scope.', 'def print_name():\\n    print_my_name = \"Sanjeev\" # local namespace\\n    print(dir())\\n    print(locals()) # local namespace\\n    print(print_my_name)\\n\\nprint_name() # local', 'def greet_outer(): # non-local namespace\\n    nonlocal_msg = \"Hello Decode AiML from nonlocal scope !\" # Nonlocal variable\\n    def greet_inner(): # local namespace\\n        local_msg = \"Hello Decode AiML from local scope !\"\\n        print(local_msg)\\n        print(nonlocal_msg)\\n        print(locals()) # local namespace\\n\\n    print(locals()) # nonlocal namespace\\n    greet_inner()\\n\\n\\ngreet_outer() # Hello Decode AiML !', 'def greet_outer(): # non-local namespace\\n    nonlocal_msg = \"Hello Decode AiML from nonlocal scope !\" # Nonlocal variable\\n    def greet_inner(): # local namespace\\n        local_msg = \"Hello Decode AiML from local scope !\"\\n        print(local_msg)\\n        print(nonlocal_msg)\\n        print(locals()) # local namespace\\n\\n    greet_inner()\\n    print(locals()) # nonlocal namespace\\n\\n\\ngreet_outer() # Hello Decode AiML !', 'def greet_outer(): # non-local namespace\\n    nonlocal_msg = \"Hello Decode AiML from nonlocal scope !\" # Nonlocal variable\\n    def greet_inner(): # local namespace\\n        local_msg = \"Hello Decode AiML from local scope !\"\\n        print(local_msg)\\n        # print(nonlocal_msg)\\n        print(locals()) # local namespace\\n\\n    greet_inner()\\n    print(locals()) # nonlocal namespace\\n\\n\\ngreet_outer() # Hello Decode AiML !', 'x = \"global\"  # Global scope\\n\\ndef outer():\\n    x = \"enclosing\"  # Enclosing scope\\n\\n    def inner():\\n        #nonlocal x\\n        x = \"local\"  # Local scope\\n        print(\"Inner:\", x)\\n\\n    inner()\\n    print(\"Enclosing:\", x)\\n\\nouter()\\nprint(\"Global:\", x)', 'x = \"global\"  # Global scope\\n\\ndef outer():\\n    x = \"enclosing\"  # Enclosing scope\\n\\n    def inner():\\n        #nonlocal x\\n        x = \"local\"  # Local scope\\n        print(\"Inner:\", x)\\n\\n    inner()\\n    print(\"Enclosing:\", x)\\n\\nouter()\\nprint(\"Global:\", x)', '#x = \"global\"  # Global scope\\n\\ndef outer():\\n    x = \"enclosing\"  # Enclosing scope\\n\\n    def inner():\\n        #nonlocal x\\n        x = \"local\"  # Local scope\\n        print(\"Inner:\", x)\\n\\n    inner()\\n    print(\"Enclosing:\", x)\\n\\nouter()\\nprint(\"Global:\", x)', 'x = \"global\"  # Global scope\\n\\ndef outer():\\n    x = \"enclosing\"  # Enclosing scope\\n\\n    def inner():\\n        #nonlocal x\\n        x = \"local\"  # Local scope\\n        print(\"Inner:\", x)\\n\\n    inner()\\n    print(\"Enclosing:\", x)\\n\\nouter()\\nprint(\"Global:\", x)', 'x = \"global\"  # Global scope\\n\\ndef outer():\\n    x = \"enclosing\"  # Enclosing scope\\n\\n    def inner():\\n        nonlocal x\\n        x = \"local\"  # Local scope\\n        print(\"Inner:\", x)\\n\\n    inner()\\n    print(\"Enclosing:\", x)\\n\\nouter()\\nprint(\"Global:\", x)', 'x = \"global\"  # Global scope\\n\\ndef outer():\\n    x = \"enclosing\"  # Enclosing scope\\n\\n    def inner():\\n        x = \"local\"  # Local scope\\n        print(\"Inner:\", x)\\n\\n    inner()\\n    print(\"Enclosing:\", x)\\n\\nouter()\\nprint(\"Global:\", x)', 'x = \"global\"  # Global scope\\n\\ndef outer():\\n    x = \"enclosing\"  # Enclosing scope\\n\\n    def inner():\\n        nonlocal x\\n        print(\"Inner before:\", x)\\n        x = \"local\"  # Local scope\\n        print(\"Inner after:\", x)\\n\\n    inner()\\n    print(\"Enclosing:\", x)\\n\\nouter()\\nprint(\"Global:\", x)', 'x = \"global\"  # Global scope\\n\\ndef outer():\\n    x = \"enclosing\"  # Enclosing scope\\n\\n    def inner():\\n        #nonlocal x\\n        print(\"Inner before:\", x)\\n        x = \"local\"  # Local scope\\n        print(\"Inner after:\", x)\\n\\n    inner()\\n    print(\"Enclosing:\", x)\\n\\nouter()\\nprint(\"Global:\", x)', 'x = \"global\"  # Global scope\\n\\ndef outer():\\n    x = \"enclosing\"  # Enclosing scope\\n\\n    def inner():\\n        #nonlocal x\\n        print(\"Inner before:\", x)\\n        #x = \"local\"  # Local scope\\n        print(\"Inner after:\", x)\\n\\n    inner()\\n    print(\"Enclosing:\", x)\\n\\nouter()\\nprint(\"Global:\", x)', 'x = \"global\"  # Global scope\\n\\ndef outer():\\n    x = \"enclosing\"  # Enclosing scope\\n\\n    def inner():\\n        nonlocal x\\n        print(\"Inner before:\", x)\\n        #x = \"local\"  # Local scope\\n        print(\"Inner after:\", x)\\n\\n    inner()\\n    print(\"Enclosing:\", x)\\n\\nouter()\\nprint(\"Global:\", x)', 'print(globals())'], 'Out': {}, 'get_ipython': <bound method InteractiveShell.get_ipython of <ipykernel.zmqshell.ZMQInteractiveShell object at 0x0000014595349FD0>>, 'exit': <IPython.core.autocall.ZMQExitAutocall object at 0x00000145953496A0>, 'quit': <IPython.core.autocall.ZMQExitAutocall object at 0x00000145953496A0>, 'open': <function open at 0x00000145930C1A80>, '_': '', '__': '', '___': '', '__session__': 'D:\\\\decode ai\\\\github\\\\Decode-AI\\\\Section 01 - Decode Python for ML A2Z\\\\1.12 Scope, Namespace and Memory Layout in Python\\\\1.12.2_Namespace_in_Python.ipynb', '_i': 'x = \"global\"  # Global scope\\n\\ndef outer():\\n    x = \"enclosing\"  # Enclosing scope\\n\\n    def inner():\\n        nonlocal x\\n        print(\"Inner before:\", x)\\n        #x = \"local\"  # Local scope\\n        print(\"Inner after:\", x)\\n\\n    inner()\\n    print(\"Enclosing:\", x)\\n\\nouter()\\nprint(\"Global:\", x)', '_ii': 'x = \"global\"  # Global scope\\n\\ndef outer():\\n    x = \"enclosing\"  # Enclosing scope\\n\\n    def inner():\\n        #nonlocal x\\n        print(\"Inner before:\", x)\\n        #x = \"local\"  # Local scope\\n        print(\"Inner after:\", x)\\n\\n    inner()\\n    print(\"Enclosing:\", x)\\n\\nouter()\\nprint(\"Global:\", x)', '_iii': 'x = \"global\"  # Global scope\\n\\ndef outer():\\n    x = \"enclosing\"  # Enclosing scope\\n\\n    def inner():\\n        #nonlocal x\\n        print(\"Inner before:\", x)\\n        x = \"local\"  # Local scope\\n        print(\"Inner after:\", x)\\n\\n    inner()\\n    print(\"Enclosing:\", x)\\n\\nouter()\\nprint(\"Global:\", x)', '_i1': 'print(dir()) # dir() function to check the list of names defined in your current global scope.', '_i2': 'def print_name():\\n    print_my_name = \"Sanjeev\" # local namespace\\n    print(dir())\\n    print(locals()) # local namespace\\n    print(print_my_name)\\n    \\nprint_name() # local', 'print_name': <function print_name at 0x00000145955277E0>, '_i3': 'def greet_outer(): # non-local namespace\\n    nonlocal_msg = \"Hello Decode AiML from nonlocal scope !\" # Nonlocal variable\\n    def greet_inner(): # local namespace\\n        local_msg = \"Hello Decode AiML from local scope !\"\\n        print(local_msg)\\n        print(nonlocal_msg)\\n        print(locals()) # local namespace\\n        \\n    print(locals()) # nonlocal namespace\\n    greet_inner()\\n\\n\\ngreet_outer() # Hello Decode AiML !', 'greet_outer': <function greet_outer at 0x00000145955279C0>, '_i4': 'def greet_outer(): # non-local namespace\\n    nonlocal_msg = \"Hello Decode AiML from nonlocal scope !\" # Nonlocal variable\\n    def greet_inner(): # local namespace\\n        local_msg = \"Hello Decode AiML from local scope !\"\\n        print(local_msg)\\n        print(nonlocal_msg)\\n        print(locals()) # local namespace\\n        \\n    greet_inner()\\n    print(locals()) # nonlocal namespace\\n\\n\\ngreet_outer() # Hello Decode AiML !', '_i5': 'def greet_outer(): # non-local namespace\\n    nonlocal_msg = \"Hello Decode AiML from nonlocal scope !\" # Nonlocal variable\\n    def greet_inner(): # local namespace\\n        local_msg = \"Hello Decode AiML from local scope !\"\\n        print(local_msg)\\n        # print(nonlocal_msg)\\n        print(locals()) # local namespace\\n        \\n    greet_inner()\\n    print(locals()) # nonlocal namespace\\n\\n\\ngreet_outer() # Hello Decode AiML !', '_i6': 'x = \"global\"  # Global scope\\n\\ndef outer():\\n    x = \"enclosing\"  # Enclosing scope\\n\\n    def inner():\\n        #nonlocal x\\n        x = \"local\"  # Local scope\\n        print(\"Inner:\", x)\\n\\n    inner()\\n    print(\"Enclosing:\", x)\\n\\nouter()\\nprint(\"Global:\", x)', 'x': 'global', 'outer': <function outer at 0x0000014596364AE0>, '_i7': 'x = \"global\"  # Global scope\\n\\ndef outer():\\n    x = \"enclosing\"  # Enclosing scope\\n\\n    def inner():\\n        #nonlocal x\\n        x = \"local\"  # Local scope\\n        print(\"Inner:\", x)\\n\\n    inner()\\n    print(\"Enclosing:\", x)\\n\\nouter()\\nprint(\"Global:\", x)', '_i8': '#x = \"global\"  # Global scope\\n\\ndef outer():\\n    x = \"enclosing\"  # Enclosing scope\\n\\n    def inner():\\n        #nonlocal x\\n        x = \"local\"  # Local scope\\n        print(\"Inner:\", x)\\n\\n    inner()\\n    print(\"Enclosing:\", x)\\n\\nouter()\\nprint(\"Global:\", x)', '_i9': 'x = \"global\"  # Global scope\\n\\ndef outer():\\n    x = \"enclosing\"  # Enclosing scope\\n\\n    def inner():\\n        #nonlocal x\\n        x = \"local\"  # Local scope\\n        print(\"Inner:\", x)\\n\\n    inner()\\n    print(\"Enclosing:\", x)\\n\\nouter()\\nprint(\"Global:\", x)', '_i10': 'x = \"global\"  # Global scope\\n\\ndef outer():\\n    x = \"enclosing\"  # Enclosing scope\\n\\n    def inner():\\n        nonlocal x\\n        x = \"local\"  # Local scope\\n        print(\"Inner:\", x)\\n\\n    inner()\\n    print(\"Enclosing:\", x)\\n\\nouter()\\nprint(\"Global:\", x)', '_i11': 'x = \"global\"  # Global scope\\n\\ndef outer():\\n    x = \"enclosing\"  # Enclosing scope\\n\\n    def inner():\\n        x = \"local\"  # Local scope\\n        print(\"Inner:\", x)\\n\\n    inner()\\n    print(\"Enclosing:\", x)\\n\\nouter()\\nprint(\"Global:\", x)', '_i12': 'x = \"global\"  # Global scope\\n\\ndef outer():\\n    x = \"enclosing\"  # Enclosing scope\\n\\n    def inner():\\n        nonlocal x\\n        print(\"Inner before:\", x)\\n        x = \"local\"  # Local scope\\n        print(\"Inner after:\", x)\\n\\n    inner()\\n    print(\"Enclosing:\", x)\\n\\nouter()\\nprint(\"Global:\", x)', '_i13': 'x = \"global\"  # Global scope\\n\\ndef outer():\\n    x = \"enclosing\"  # Enclosing scope\\n\\n    def inner():\\n        #nonlocal x\\n        print(\"Inner before:\", x)\\n        x = \"local\"  # Local scope\\n        print(\"Inner after:\", x)\\n\\n    inner()\\n    print(\"Enclosing:\", x)\\n\\nouter()\\nprint(\"Global:\", x)', '_i14': 'x = \"global\"  # Global scope\\n\\ndef outer():\\n    x = \"enclosing\"  # Enclosing scope\\n\\n    def inner():\\n        #nonlocal x\\n        print(\"Inner before:\", x)\\n        #x = \"local\"  # Local scope\\n        print(\"Inner after:\", x)\\n\\n    inner()\\n    print(\"Enclosing:\", x)\\n\\nouter()\\nprint(\"Global:\", x)', '_i15': 'x = \"global\"  # Global scope\\n\\ndef outer():\\n    x = \"enclosing\"  # Enclosing scope\\n\\n    def inner():\\n        nonlocal x\\n        print(\"Inner before:\", x)\\n        #x = \"local\"  # Local scope\\n        print(\"Inner after:\", x)\\n\\n    inner()\\n    print(\"Enclosing:\", x)\\n\\nouter()\\nprint(\"Global:\", x)', '_i16': 'print(globals())'}\n"
     ]
    }
   ],
   "source": [
    "print(globals())"
   ]
  },
  {
   "cell_type": "code",
   "execution_count": 17,
   "metadata": {},
   "outputs": [
    {
     "data": {
      "text/plain": [
       "dict"
      ]
     },
     "execution_count": 17,
     "metadata": {},
     "output_type": "execute_result"
    }
   ],
   "source": [
    "type(globals())"
   ]
  },
  {
   "cell_type": "code",
   "execution_count": 18,
   "metadata": {},
   "outputs": [],
   "source": [
    "my_org = \"Decode AiML\""
   ]
  },
  {
   "cell_type": "code",
   "execution_count": 19,
   "metadata": {},
   "outputs": [
    {
     "name": "stdout",
     "output_type": "stream",
     "text": [
      "{'__name__': '__main__', '__doc__': 'Automatically created module for IPython interactive environment', '__package__': None, '__loader__': None, '__spec__': None, '__builtin__': <module 'builtins' (built-in)>, '__builtins__': <module 'builtins' (built-in)>, '_ih': ['', 'print(dir()) # dir() function to check the list of names defined in your current global scope.', 'def print_name():\\n    print_my_name = \"Sanjeev\" # local namespace\\n    print(dir())\\n    print(locals()) # local namespace\\n    print(print_my_name)\\n\\nprint_name() # local', 'def greet_outer(): # non-local namespace\\n    nonlocal_msg = \"Hello Decode AiML from nonlocal scope !\" # Nonlocal variable\\n    def greet_inner(): # local namespace\\n        local_msg = \"Hello Decode AiML from local scope !\"\\n        print(local_msg)\\n        print(nonlocal_msg)\\n        print(locals()) # local namespace\\n\\n    print(locals()) # nonlocal namespace\\n    greet_inner()\\n\\n\\ngreet_outer() # Hello Decode AiML !', 'def greet_outer(): # non-local namespace\\n    nonlocal_msg = \"Hello Decode AiML from nonlocal scope !\" # Nonlocal variable\\n    def greet_inner(): # local namespace\\n        local_msg = \"Hello Decode AiML from local scope !\"\\n        print(local_msg)\\n        print(nonlocal_msg)\\n        print(locals()) # local namespace\\n\\n    greet_inner()\\n    print(locals()) # nonlocal namespace\\n\\n\\ngreet_outer() # Hello Decode AiML !', 'def greet_outer(): # non-local namespace\\n    nonlocal_msg = \"Hello Decode AiML from nonlocal scope !\" # Nonlocal variable\\n    def greet_inner(): # local namespace\\n        local_msg = \"Hello Decode AiML from local scope !\"\\n        print(local_msg)\\n        # print(nonlocal_msg)\\n        print(locals()) # local namespace\\n\\n    greet_inner()\\n    print(locals()) # nonlocal namespace\\n\\n\\ngreet_outer() # Hello Decode AiML !', 'x = \"global\"  # Global scope\\n\\ndef outer():\\n    x = \"enclosing\"  # Enclosing scope\\n\\n    def inner():\\n        #nonlocal x\\n        x = \"local\"  # Local scope\\n        print(\"Inner:\", x)\\n\\n    inner()\\n    print(\"Enclosing:\", x)\\n\\nouter()\\nprint(\"Global:\", x)', 'x = \"global\"  # Global scope\\n\\ndef outer():\\n    x = \"enclosing\"  # Enclosing scope\\n\\n    def inner():\\n        #nonlocal x\\n        x = \"local\"  # Local scope\\n        print(\"Inner:\", x)\\n\\n    inner()\\n    print(\"Enclosing:\", x)\\n\\nouter()\\nprint(\"Global:\", x)', '#x = \"global\"  # Global scope\\n\\ndef outer():\\n    x = \"enclosing\"  # Enclosing scope\\n\\n    def inner():\\n        #nonlocal x\\n        x = \"local\"  # Local scope\\n        print(\"Inner:\", x)\\n\\n    inner()\\n    print(\"Enclosing:\", x)\\n\\nouter()\\nprint(\"Global:\", x)', 'x = \"global\"  # Global scope\\n\\ndef outer():\\n    x = \"enclosing\"  # Enclosing scope\\n\\n    def inner():\\n        #nonlocal x\\n        x = \"local\"  # Local scope\\n        print(\"Inner:\", x)\\n\\n    inner()\\n    print(\"Enclosing:\", x)\\n\\nouter()\\nprint(\"Global:\", x)', 'x = \"global\"  # Global scope\\n\\ndef outer():\\n    x = \"enclosing\"  # Enclosing scope\\n\\n    def inner():\\n        nonlocal x\\n        x = \"local\"  # Local scope\\n        print(\"Inner:\", x)\\n\\n    inner()\\n    print(\"Enclosing:\", x)\\n\\nouter()\\nprint(\"Global:\", x)', 'x = \"global\"  # Global scope\\n\\ndef outer():\\n    x = \"enclosing\"  # Enclosing scope\\n\\n    def inner():\\n        x = \"local\"  # Local scope\\n        print(\"Inner:\", x)\\n\\n    inner()\\n    print(\"Enclosing:\", x)\\n\\nouter()\\nprint(\"Global:\", x)', 'x = \"global\"  # Global scope\\n\\ndef outer():\\n    x = \"enclosing\"  # Enclosing scope\\n\\n    def inner():\\n        nonlocal x\\n        print(\"Inner before:\", x)\\n        x = \"local\"  # Local scope\\n        print(\"Inner after:\", x)\\n\\n    inner()\\n    print(\"Enclosing:\", x)\\n\\nouter()\\nprint(\"Global:\", x)', 'x = \"global\"  # Global scope\\n\\ndef outer():\\n    x = \"enclosing\"  # Enclosing scope\\n\\n    def inner():\\n        #nonlocal x\\n        print(\"Inner before:\", x)\\n        x = \"local\"  # Local scope\\n        print(\"Inner after:\", x)\\n\\n    inner()\\n    print(\"Enclosing:\", x)\\n\\nouter()\\nprint(\"Global:\", x)', 'x = \"global\"  # Global scope\\n\\ndef outer():\\n    x = \"enclosing\"  # Enclosing scope\\n\\n    def inner():\\n        #nonlocal x\\n        print(\"Inner before:\", x)\\n        #x = \"local\"  # Local scope\\n        print(\"Inner after:\", x)\\n\\n    inner()\\n    print(\"Enclosing:\", x)\\n\\nouter()\\nprint(\"Global:\", x)', 'x = \"global\"  # Global scope\\n\\ndef outer():\\n    x = \"enclosing\"  # Enclosing scope\\n\\n    def inner():\\n        nonlocal x\\n        print(\"Inner before:\", x)\\n        #x = \"local\"  # Local scope\\n        print(\"Inner after:\", x)\\n\\n    inner()\\n    print(\"Enclosing:\", x)\\n\\nouter()\\nprint(\"Global:\", x)', 'print(globals())', 'type(globals())', 'my_org = \"Decode AiML\"', 'print(globals())'], '_oh': {17: <class 'dict'>}, '_dh': [WindowsPath('D:/decode ai/github/Decode-AI/Section 01 - Decode Python for ML A2Z/1.12 Scope, Namespace and Memory Layout in Python')], 'In': ['', 'print(dir()) # dir() function to check the list of names defined in your current global scope.', 'def print_name():\\n    print_my_name = \"Sanjeev\" # local namespace\\n    print(dir())\\n    print(locals()) # local namespace\\n    print(print_my_name)\\n\\nprint_name() # local', 'def greet_outer(): # non-local namespace\\n    nonlocal_msg = \"Hello Decode AiML from nonlocal scope !\" # Nonlocal variable\\n    def greet_inner(): # local namespace\\n        local_msg = \"Hello Decode AiML from local scope !\"\\n        print(local_msg)\\n        print(nonlocal_msg)\\n        print(locals()) # local namespace\\n\\n    print(locals()) # nonlocal namespace\\n    greet_inner()\\n\\n\\ngreet_outer() # Hello Decode AiML !', 'def greet_outer(): # non-local namespace\\n    nonlocal_msg = \"Hello Decode AiML from nonlocal scope !\" # Nonlocal variable\\n    def greet_inner(): # local namespace\\n        local_msg = \"Hello Decode AiML from local scope !\"\\n        print(local_msg)\\n        print(nonlocal_msg)\\n        print(locals()) # local namespace\\n\\n    greet_inner()\\n    print(locals()) # nonlocal namespace\\n\\n\\ngreet_outer() # Hello Decode AiML !', 'def greet_outer(): # non-local namespace\\n    nonlocal_msg = \"Hello Decode AiML from nonlocal scope !\" # Nonlocal variable\\n    def greet_inner(): # local namespace\\n        local_msg = \"Hello Decode AiML from local scope !\"\\n        print(local_msg)\\n        # print(nonlocal_msg)\\n        print(locals()) # local namespace\\n\\n    greet_inner()\\n    print(locals()) # nonlocal namespace\\n\\n\\ngreet_outer() # Hello Decode AiML !', 'x = \"global\"  # Global scope\\n\\ndef outer():\\n    x = \"enclosing\"  # Enclosing scope\\n\\n    def inner():\\n        #nonlocal x\\n        x = \"local\"  # Local scope\\n        print(\"Inner:\", x)\\n\\n    inner()\\n    print(\"Enclosing:\", x)\\n\\nouter()\\nprint(\"Global:\", x)', 'x = \"global\"  # Global scope\\n\\ndef outer():\\n    x = \"enclosing\"  # Enclosing scope\\n\\n    def inner():\\n        #nonlocal x\\n        x = \"local\"  # Local scope\\n        print(\"Inner:\", x)\\n\\n    inner()\\n    print(\"Enclosing:\", x)\\n\\nouter()\\nprint(\"Global:\", x)', '#x = \"global\"  # Global scope\\n\\ndef outer():\\n    x = \"enclosing\"  # Enclosing scope\\n\\n    def inner():\\n        #nonlocal x\\n        x = \"local\"  # Local scope\\n        print(\"Inner:\", x)\\n\\n    inner()\\n    print(\"Enclosing:\", x)\\n\\nouter()\\nprint(\"Global:\", x)', 'x = \"global\"  # Global scope\\n\\ndef outer():\\n    x = \"enclosing\"  # Enclosing scope\\n\\n    def inner():\\n        #nonlocal x\\n        x = \"local\"  # Local scope\\n        print(\"Inner:\", x)\\n\\n    inner()\\n    print(\"Enclosing:\", x)\\n\\nouter()\\nprint(\"Global:\", x)', 'x = \"global\"  # Global scope\\n\\ndef outer():\\n    x = \"enclosing\"  # Enclosing scope\\n\\n    def inner():\\n        nonlocal x\\n        x = \"local\"  # Local scope\\n        print(\"Inner:\", x)\\n\\n    inner()\\n    print(\"Enclosing:\", x)\\n\\nouter()\\nprint(\"Global:\", x)', 'x = \"global\"  # Global scope\\n\\ndef outer():\\n    x = \"enclosing\"  # Enclosing scope\\n\\n    def inner():\\n        x = \"local\"  # Local scope\\n        print(\"Inner:\", x)\\n\\n    inner()\\n    print(\"Enclosing:\", x)\\n\\nouter()\\nprint(\"Global:\", x)', 'x = \"global\"  # Global scope\\n\\ndef outer():\\n    x = \"enclosing\"  # Enclosing scope\\n\\n    def inner():\\n        nonlocal x\\n        print(\"Inner before:\", x)\\n        x = \"local\"  # Local scope\\n        print(\"Inner after:\", x)\\n\\n    inner()\\n    print(\"Enclosing:\", x)\\n\\nouter()\\nprint(\"Global:\", x)', 'x = \"global\"  # Global scope\\n\\ndef outer():\\n    x = \"enclosing\"  # Enclosing scope\\n\\n    def inner():\\n        #nonlocal x\\n        print(\"Inner before:\", x)\\n        x = \"local\"  # Local scope\\n        print(\"Inner after:\", x)\\n\\n    inner()\\n    print(\"Enclosing:\", x)\\n\\nouter()\\nprint(\"Global:\", x)', 'x = \"global\"  # Global scope\\n\\ndef outer():\\n    x = \"enclosing\"  # Enclosing scope\\n\\n    def inner():\\n        #nonlocal x\\n        print(\"Inner before:\", x)\\n        #x = \"local\"  # Local scope\\n        print(\"Inner after:\", x)\\n\\n    inner()\\n    print(\"Enclosing:\", x)\\n\\nouter()\\nprint(\"Global:\", x)', 'x = \"global\"  # Global scope\\n\\ndef outer():\\n    x = \"enclosing\"  # Enclosing scope\\n\\n    def inner():\\n        nonlocal x\\n        print(\"Inner before:\", x)\\n        #x = \"local\"  # Local scope\\n        print(\"Inner after:\", x)\\n\\n    inner()\\n    print(\"Enclosing:\", x)\\n\\nouter()\\nprint(\"Global:\", x)', 'print(globals())', 'type(globals())', 'my_org = \"Decode AiML\"', 'print(globals())'], 'Out': {17: <class 'dict'>}, 'get_ipython': <bound method InteractiveShell.get_ipython of <ipykernel.zmqshell.ZMQInteractiveShell object at 0x0000014595349FD0>>, 'exit': <IPython.core.autocall.ZMQExitAutocall object at 0x00000145953496A0>, 'quit': <IPython.core.autocall.ZMQExitAutocall object at 0x00000145953496A0>, 'open': <function open at 0x00000145930C1A80>, '_': <class 'dict'>, '__': '', '___': '', '__session__': 'D:\\\\decode ai\\\\github\\\\Decode-AI\\\\Section 01 - Decode Python for ML A2Z\\\\1.12 Scope, Namespace and Memory Layout in Python\\\\1.12.2_Namespace_in_Python.ipynb', '_i': 'my_org = \"Decode AiML\"', '_ii': 'type(globals())', '_iii': 'print(globals())', '_i1': 'print(dir()) # dir() function to check the list of names defined in your current global scope.', '_i2': 'def print_name():\\n    print_my_name = \"Sanjeev\" # local namespace\\n    print(dir())\\n    print(locals()) # local namespace\\n    print(print_my_name)\\n    \\nprint_name() # local', 'print_name': <function print_name at 0x00000145955277E0>, '_i3': 'def greet_outer(): # non-local namespace\\n    nonlocal_msg = \"Hello Decode AiML from nonlocal scope !\" # Nonlocal variable\\n    def greet_inner(): # local namespace\\n        local_msg = \"Hello Decode AiML from local scope !\"\\n        print(local_msg)\\n        print(nonlocal_msg)\\n        print(locals()) # local namespace\\n        \\n    print(locals()) # nonlocal namespace\\n    greet_inner()\\n\\n\\ngreet_outer() # Hello Decode AiML !', 'greet_outer': <function greet_outer at 0x00000145955279C0>, '_i4': 'def greet_outer(): # non-local namespace\\n    nonlocal_msg = \"Hello Decode AiML from nonlocal scope !\" # Nonlocal variable\\n    def greet_inner(): # local namespace\\n        local_msg = \"Hello Decode AiML from local scope !\"\\n        print(local_msg)\\n        print(nonlocal_msg)\\n        print(locals()) # local namespace\\n        \\n    greet_inner()\\n    print(locals()) # nonlocal namespace\\n\\n\\ngreet_outer() # Hello Decode AiML !', '_i5': 'def greet_outer(): # non-local namespace\\n    nonlocal_msg = \"Hello Decode AiML from nonlocal scope !\" # Nonlocal variable\\n    def greet_inner(): # local namespace\\n        local_msg = \"Hello Decode AiML from local scope !\"\\n        print(local_msg)\\n        # print(nonlocal_msg)\\n        print(locals()) # local namespace\\n        \\n    greet_inner()\\n    print(locals()) # nonlocal namespace\\n\\n\\ngreet_outer() # Hello Decode AiML !', '_i6': 'x = \"global\"  # Global scope\\n\\ndef outer():\\n    x = \"enclosing\"  # Enclosing scope\\n\\n    def inner():\\n        #nonlocal x\\n        x = \"local\"  # Local scope\\n        print(\"Inner:\", x)\\n\\n    inner()\\n    print(\"Enclosing:\", x)\\n\\nouter()\\nprint(\"Global:\", x)', 'x': 'global', 'outer': <function outer at 0x0000014596364AE0>, '_i7': 'x = \"global\"  # Global scope\\n\\ndef outer():\\n    x = \"enclosing\"  # Enclosing scope\\n\\n    def inner():\\n        #nonlocal x\\n        x = \"local\"  # Local scope\\n        print(\"Inner:\", x)\\n\\n    inner()\\n    print(\"Enclosing:\", x)\\n\\nouter()\\nprint(\"Global:\", x)', '_i8': '#x = \"global\"  # Global scope\\n\\ndef outer():\\n    x = \"enclosing\"  # Enclosing scope\\n\\n    def inner():\\n        #nonlocal x\\n        x = \"local\"  # Local scope\\n        print(\"Inner:\", x)\\n\\n    inner()\\n    print(\"Enclosing:\", x)\\n\\nouter()\\nprint(\"Global:\", x)', '_i9': 'x = \"global\"  # Global scope\\n\\ndef outer():\\n    x = \"enclosing\"  # Enclosing scope\\n\\n    def inner():\\n        #nonlocal x\\n        x = \"local\"  # Local scope\\n        print(\"Inner:\", x)\\n\\n    inner()\\n    print(\"Enclosing:\", x)\\n\\nouter()\\nprint(\"Global:\", x)', '_i10': 'x = \"global\"  # Global scope\\n\\ndef outer():\\n    x = \"enclosing\"  # Enclosing scope\\n\\n    def inner():\\n        nonlocal x\\n        x = \"local\"  # Local scope\\n        print(\"Inner:\", x)\\n\\n    inner()\\n    print(\"Enclosing:\", x)\\n\\nouter()\\nprint(\"Global:\", x)', '_i11': 'x = \"global\"  # Global scope\\n\\ndef outer():\\n    x = \"enclosing\"  # Enclosing scope\\n\\n    def inner():\\n        x = \"local\"  # Local scope\\n        print(\"Inner:\", x)\\n\\n    inner()\\n    print(\"Enclosing:\", x)\\n\\nouter()\\nprint(\"Global:\", x)', '_i12': 'x = \"global\"  # Global scope\\n\\ndef outer():\\n    x = \"enclosing\"  # Enclosing scope\\n\\n    def inner():\\n        nonlocal x\\n        print(\"Inner before:\", x)\\n        x = \"local\"  # Local scope\\n        print(\"Inner after:\", x)\\n\\n    inner()\\n    print(\"Enclosing:\", x)\\n\\nouter()\\nprint(\"Global:\", x)', '_i13': 'x = \"global\"  # Global scope\\n\\ndef outer():\\n    x = \"enclosing\"  # Enclosing scope\\n\\n    def inner():\\n        #nonlocal x\\n        print(\"Inner before:\", x)\\n        x = \"local\"  # Local scope\\n        print(\"Inner after:\", x)\\n\\n    inner()\\n    print(\"Enclosing:\", x)\\n\\nouter()\\nprint(\"Global:\", x)', '_i14': 'x = \"global\"  # Global scope\\n\\ndef outer():\\n    x = \"enclosing\"  # Enclosing scope\\n\\n    def inner():\\n        #nonlocal x\\n        print(\"Inner before:\", x)\\n        #x = \"local\"  # Local scope\\n        print(\"Inner after:\", x)\\n\\n    inner()\\n    print(\"Enclosing:\", x)\\n\\nouter()\\nprint(\"Global:\", x)', '_i15': 'x = \"global\"  # Global scope\\n\\ndef outer():\\n    x = \"enclosing\"  # Enclosing scope\\n\\n    def inner():\\n        nonlocal x\\n        print(\"Inner before:\", x)\\n        #x = \"local\"  # Local scope\\n        print(\"Inner after:\", x)\\n\\n    inner()\\n    print(\"Enclosing:\", x)\\n\\nouter()\\nprint(\"Global:\", x)', '_i16': 'print(globals())', '_i17': 'type(globals())', '_17': <class 'dict'>, '_i18': 'my_org = \"Decode AiML\"', 'my_org': 'Decode AiML', '_i19': 'print(globals())'}\n"
     ]
    }
   ],
   "source": [
    "print(globals())"
   ]
  },
  {
   "cell_type": "code",
   "execution_count": 20,
   "metadata": {},
   "outputs": [
    {
     "name": "stdout",
     "output_type": "stream",
     "text": [
      "Decode AiML\n"
     ]
    }
   ],
   "source": [
    "print(globals()['my_org'])"
   ]
  },
  {
   "cell_type": "code",
   "execution_count": 21,
   "metadata": {},
   "outputs": [],
   "source": [
    "globals()['my_org'] = \"Decode AiML - Best AI/ML Interview Preperation Site - in Hindi!!\""
   ]
  },
  {
   "cell_type": "code",
   "execution_count": 22,
   "metadata": {},
   "outputs": [
    {
     "name": "stdout",
     "output_type": "stream",
     "text": [
      "Decode AiML - Best AI/ML Interview Preperation Site - in Hindi!!\n"
     ]
    }
   ],
   "source": [
    "print(globals()['my_org'])"
   ]
  },
  {
   "cell_type": "code",
   "execution_count": 23,
   "metadata": {},
   "outputs": [
    {
     "name": "stdout",
     "output_type": "stream",
     "text": [
      "{'name': 'Sanjeev', 'org': 'Decode AiML'}\n",
      "Sanjeev\n"
     ]
    }
   ],
   "source": [
    "def print_name():\n",
    "    name = \"Sanjeev\"\n",
    "    org = \"Decode AiML\"\n",
    "    print(locals()) # local namespace\n",
    "    print(name)\n",
    "print_name()"
   ]
  },
  {
   "cell_type": "markdown",
   "metadata": {},
   "source": [
    "### Modifying Variables From a Different Namespace"
   ]
  },
  {
   "cell_type": "code",
   "execution_count": 25,
   "metadata": {},
   "outputs": [
    {
     "name": "stdout",
     "output_type": "stream",
     "text": [
      "Modified Hello Decode AiML Global!\n"
     ]
    }
   ],
   "source": [
    "# using globals\n",
    "msg = \"Hello Decode AiML Global!\" # Global variable\n",
    "\n",
    "def greet():\n",
    "  global msg\n",
    "  msg = \"Modified Hello Decode AiML Global!\"\n",
    "\n",
    "greet() # Hello Decode AiML !\n",
    "print(msg) # Hello Decode AiML !"
   ]
  },
  {
   "cell_type": "code",
   "execution_count": 27,
   "metadata": {},
   "outputs": [
    {
     "name": "stdout",
     "output_type": "stream",
     "text": [
      "Hello Decode AiML from greet_inner() !\n"
     ]
    }
   ],
   "source": [
    "# using nonlocal\n",
    "def greet_outer():\n",
    "  msg = \"Hello Decode AiML from greet_outer() !\" # local variable\n",
    "\n",
    "  def greet_inner():\n",
    "    nonlocal msg\n",
    "    msg = \"Hello Decode AiML from greet_inner() !\"\n",
    "\n",
    "  greet_inner()\n",
    "  print(msg)\n",
    "\n",
    "greet_outer() # Hello Decode AiML !"
   ]
  },
  {
   "cell_type": "code",
   "execution_count": null,
   "metadata": {},
   "outputs": [],
   "source": []
  }
 ],
 "metadata": {
  "colab": {
   "authorship_tag": "ABX9TyN0MIfDS8xiGKmy35wdlAS5",
   "provenance": []
  },
  "kernelspec": {
   "display_name": "Python 3 (ipykernel)",
   "language": "python",
   "name": "python3"
  },
  "language_info": {
   "codemirror_mode": {
    "name": "ipython",
    "version": 3
   },
   "file_extension": ".py",
   "mimetype": "text/x-python",
   "name": "python",
   "nbconvert_exporter": "python",
   "pygments_lexer": "ipython3",
   "version": "3.13.5"
  }
 },
 "nbformat": 4,
 "nbformat_minor": 4
}
