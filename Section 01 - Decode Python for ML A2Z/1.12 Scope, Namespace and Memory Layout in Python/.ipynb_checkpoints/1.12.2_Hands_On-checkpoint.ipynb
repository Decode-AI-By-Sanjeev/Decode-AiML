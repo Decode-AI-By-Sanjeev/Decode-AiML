{
 "cells": [
  {
   "cell_type": "markdown",
   "metadata": {
    "id": "61bkyAe-mLX7"
   },
   "source": [
    "# Namespace in Python\n",
    "\n",
    "A Python namespace is a mapping from names to objects.\n"
   ]
  },
  {
   "cell_type": "code",
   "execution_count": null,
   "metadata": {},
   "outputs": [],
   "source": []
  },
  {
   "cell_type": "code",
   "execution_count": null,
   "metadata": {},
   "outputs": [],
   "source": []
  },
  {
   "cell_type": "code",
   "execution_count": null,
   "metadata": {},
   "outputs": [],
   "source": []
  },
  {
   "cell_type": "code",
   "execution_count": null,
   "metadata": {},
   "outputs": [],
   "source": []
  },
  {
   "cell_type": "code",
   "execution_count": null,
   "metadata": {},
   "outputs": [],
   "source": []
  },
  {
   "cell_type": "code",
   "execution_count": null,
   "metadata": {},
   "outputs": [],
   "source": []
  },
  {
   "cell_type": "code",
   "execution_count": null,
   "metadata": {},
   "outputs": [],
   "source": []
  },
  {
   "cell_type": "markdown",
   "metadata": {},
   "source": [
    "**NOTE**\n",
    "- It works like a dictionary where keys are object names and values are the objects themselves.\n",
    "- Namespaces organize variables and functions in a dedicated space, allowing you to use multiple instances of the same name without conflict, as long as they’re in different namespaces."
   ]
  },
  {
   "cell_type": "code",
   "execution_count": null,
   "metadata": {},
   "outputs": [],
   "source": [
    "# namespace and scope\n",
    "name = \"Decode AiML\" # Global namespace\n",
    "def print_name():\n",
    "    name = \"Sanjeev\" # local namespace\n",
    "    print(name)\n",
    "    \n",
    "print_name() # local\n",
    "print(name) # Global"
   ]
  },
  {
   "cell_type": "markdown",
   "metadata": {},
   "source": [
    "**Formally** : A namespace is a container that holds the currently defined symbolic names and the objects each name references."
   ]
  },
  {
   "cell_type": "markdown",
   "metadata": {},
   "source": [
    "**Advantages of Namespace ?** : Namespaces let you use the same name in different contexts without collisions."
   ]
  },
  {
   "cell_type": "markdown",
   "metadata": {},
   "source": [
    "**Types of Namespace in python**\n",
    "1. Built-In\n",
    "2. Global\n",
    "3. Local\n",
    "4. Enclosing or nonlocal"
   ]
  },
  {
   "cell_type": "markdown",
   "metadata": {},
   "source": [
    "### Some Important Points About Namespace\n",
    "\n",
    "- These namespaces have **different lifetimes**. As Python executes a program, it **creates namespaces as needed** and **removes them when no longer required**. Typically, **multiple namespaces** may exist simultaneously.\n",
    "  \n",
    "- The **global**, **local**, and **nonlocal** namespaces in Python are **implemented as dictionaries**.\n",
    "\n",
    "- The **built-in namespace** is **not a dictionary**, but rather a **module named `builtins`**. This module serves as the **container** for all built-in names and functions.\n"
   ]
  },
  {
   "cell_type": "markdown",
   "metadata": {},
   "source": [
    "### 1. The Built-in Namespace"
   ]
  },
  {
   "cell_type": "markdown",
   "metadata": {},
   "source": [
    "- The built-in namespace contains the names of all of Python’s built-in objects. \n",
    "- This namespace is available while the Python interpreter is running."
   ]
  },
  {
   "cell_type": "code",
   "execution_count": null,
   "metadata": {},
   "outputs": [],
   "source": [
    "print(dir(__builtins__))"
   ]
  },
  {
   "cell_type": "code",
   "execution_count": null,
   "metadata": {},
   "outputs": [],
   "source": [
    "# You may recognize some objects here, such as built-in exceptions, built-in functions, and built-in data types"
   ]
  },
  {
   "cell_type": "markdown",
   "metadata": {},
   "source": [
    "### 2. The Global Namespace"
   ]
  },
  {
   "cell_type": "markdown",
   "metadata": {},
   "source": [
    "- The global namespace contains the names defined at the module level. \n",
    "- Python creates a main global namespace when the main program’s body starts. \n",
    "- This namespace remains in existence until the interpreter terminates."
   ]
  },
  {
   "cell_type": "code",
   "execution_count": null,
   "metadata": {},
   "outputs": [],
   "source": [
    "my_name = \"Decode AiML !\" # global name"
   ]
  },
  {
   "cell_type": "code",
   "execution_count": null,
   "metadata": {},
   "outputs": [],
   "source": [
    "print(dir()) # dir() function to check the list of names defined in your current global scope."
   ]
  },
  {
   "cell_type": "markdown",
   "metadata": {},
   "source": [
    "### 3. The Local Namespace"
   ]
  },
  {
   "cell_type": "markdown",
   "metadata": {},
   "source": [
    "- The Python interpreter creates a new and dedicated namespace whenever you call a function. \n",
    "- This namespace is local to the function and exists only until the function returns"
   ]
  },
  {
   "cell_type": "code",
   "execution_count": null,
   "metadata": {},
   "outputs": [],
   "source": [
    "def print_name():\n",
    "    print_my_name = \"Sanjeev\" # local namespace\n",
    "    print(dir())\n",
    "    print(locals()) # local namespace\n",
    "    print(print_my_name)\n",
    "    \n",
    "print_name() # local"
   ]
  },
  {
   "cell_type": "markdown",
   "metadata": {},
   "source": [
    "### 4. The Enclosing or Nonlocal Namespace"
   ]
  },
  {
   "cell_type": "markdown",
   "metadata": {},
   "source": [
    "You can also define one function inside another."
   ]
  },
  {
   "cell_type": "code",
   "execution_count": null,
   "metadata": {},
   "outputs": [],
   "source": [
    "def greet_outer(): # non-local namespace\n",
    "    nonlocal_msg = \"Hello Decode AiML from nonlocal scope !\" # Nonlocal variable\n",
    "    def greet_inner(): # local namespace\n",
    "        local_msg = \"Hello Decode AiML from local scope !\"\n",
    "        print(local_msg)\n",
    "        print(locals()) # local namespace\n",
    "        \n",
    "    greet_inner()\n",
    "    print(locals()) # nonlocal namespace\n",
    "\n",
    "\n",
    "greet_outer() # Hello Decode AiML !"
   ]
  },
  {
   "cell_type": "markdown",
   "metadata": {},
   "source": [
    "**NOTE**\n",
    "- Each of these namespaces remains in existence until its respective function returns. "
   ]
  },
  {
   "cell_type": "markdown",
   "metadata": {},
   "source": [
    "#### Suppose you refer to the name x in your code, and x exists in several namespaces. How does Python know which one you mean each time?"
   ]
  },
  {
   "cell_type": "markdown",
   "metadata": {},
   "source": [
    "- The answer lies in the concept of scope.\n",
    "- The concepts of namespace and scope are closely related. In practice, namespaces are how Python applies the concept of scope to the name lookup process."
   ]
  },
  {
   "cell_type": "code",
   "execution_count": null,
   "metadata": {},
   "outputs": [],
   "source": [
    "x = \"global\"  # Global scope\n",
    "\n",
    "def outer():\n",
    "    x = \"enclosing\"  # Enclosing scope\n",
    "\n",
    "    def inner():\n",
    "        x = \"local\"  # Local scope\n",
    "        print(\"Inner:\", x)\n",
    "\n",
    "    inner()\n",
    "    print(\"Enclosing:\", x)\n",
    "\n",
    "outer()\n",
    "print(\"Global:\", x)\n"
   ]
  },
  {
   "cell_type": "markdown",
   "metadata": {},
   "source": [
    "### The LEGB Rule for Searching Names\n",
    "\n",
    "Python follows the **LEGB** rule to resolve the scope of variables. This stands for:\n",
    "\n",
    "1. **Local**  \n",
    "   Python first looks for the variable `x` in the **local scope**, i.e., inside the current function.\n",
    "\n",
    "2. **Enclosing**  \n",
    "   If `x` is not found locally, Python searches in the **enclosing scope**, which is the scope of any **outer functions** (if the current function is nested inside another).\n",
    "\n",
    "3. **Global**  \n",
    "   If still not found, Python looks for `x` in the **global scope**, which includes variables defined at the top level of the script or module.\n",
    "\n",
    "4. **Built-in**  \n",
    "   Finally, Python searches in the **built-in scope**, which contains built-in functions and exceptions (like `len`, `range`, `Exception`, etc.).\n",
    "\n",
    "If the variable `x` is not found in any of these four scopes, Python raises a `NameError`.\n"
   ]
  },
  {
   "cell_type": "code",
   "execution_count": null,
   "metadata": {},
   "outputs": [],
   "source": [
    "x = \"global\"  # Global scope\n",
    "\n",
    "def outer():\n",
    "    x = \"enclosing\"  # Enclosing scope\n",
    "\n",
    "    def inner():\n",
    "        x = \"local\"  # Local scope\n",
    "        print(\"Inner:\", x)\n",
    "\n",
    "    inner()\n",
    "    print(\"Enclosing:\", x)\n",
    "\n",
    "outer()\n",
    "print(\"Global:\", x)\n"
   ]
  },
  {
   "cell_type": "code",
   "execution_count": null,
   "metadata": {},
   "outputs": [],
   "source": [
    "x = \"global\"  # Global scope\n",
    "\n",
    "def outer():\n",
    "    x = \"enclosing\"  # Enclosing scope\n",
    "\n",
    "    def inner():\n",
    "        nonlocal x\n",
    "        print(\"Inner before:\", x)\n",
    "        #x = \"local\"  # Local scope\n",
    "        print(\"Inner after:\", x)\n",
    "\n",
    "    inner()\n",
    "    print(\"Enclosing:\", x)\n",
    "\n",
    "outer()\n",
    "print(\"Global:\", x)\n"
   ]
  },
  {
   "cell_type": "markdown",
   "metadata": {},
   "source": [
    "### Managing Namespace Dictionaries\n",
    "\n",
    "Python provides two built-in functions to access namespace dictionaries:\n",
    "\n",
    "- **`globals()`**: Returns the dictionary representing the **global namespace**.\n",
    "- **`locals()`**: Returns the dictionary representing the **local namespace**.\n",
    "\n",
    "These functions allow direct access to the contents of their respective namespaces, both of which are implemented as **dictionaries** (except the built-in namespace, which is a module).\n"
   ]
  },
  {
   "cell_type": "code",
   "execution_count": null,
   "metadata": {},
   "outputs": [],
   "source": [
    "print(globals())"
   ]
  },
  {
   "cell_type": "code",
   "execution_count": null,
   "metadata": {},
   "outputs": [],
   "source": [
    "type(globals())"
   ]
  },
  {
   "cell_type": "code",
   "execution_count": null,
   "metadata": {},
   "outputs": [],
   "source": [
    "my_org = \"Decode AiML\""
   ]
  },
  {
   "cell_type": "code",
   "execution_count": null,
   "metadata": {},
   "outputs": [],
   "source": [
    "print(globals())"
   ]
  },
  {
   "cell_type": "code",
   "execution_count": null,
   "metadata": {},
   "outputs": [],
   "source": [
    "print(globals()['my_org'])"
   ]
  },
  {
   "cell_type": "code",
   "execution_count": null,
   "metadata": {},
   "outputs": [],
   "source": [
    "globals()['my_org'] = \"Decode AiML - Best AI/ML Interview Preperation Site - in Hindi!!\""
   ]
  },
  {
   "cell_type": "code",
   "execution_count": null,
   "metadata": {},
   "outputs": [],
   "source": [
    "print(globals()['my_org'])"
   ]
  },
  {
   "cell_type": "code",
   "execution_count": null,
   "metadata": {},
   "outputs": [],
   "source": [
    "def print_name():\n",
    "    name = \"Sanjeev\"\n",
    "    org = \"Decode AiML\"\n",
    "    print(locals()) # local namespace\n",
    "    print(name)\n",
    "print_name()"
   ]
  },
  {
   "cell_type": "markdown",
   "metadata": {},
   "source": [
    "### Modifying Variables From a Different Namespace"
   ]
  },
  {
   "cell_type": "code",
   "execution_count": null,
   "metadata": {},
   "outputs": [],
   "source": [
    "# using globals\n",
    "msg = \"Hello Decode AiML Global!\" # Global variable\n",
    "\n",
    "def greet():\n",
    "  global msg\n",
    "  msg = \"Modified Hello Decode AiML Global!\"\n",
    "\n",
    "greet() # Hello Decode AiML !\n",
    "print(msg) # Hello Decode AiML !"
   ]
  },
  {
   "cell_type": "code",
   "execution_count": null,
   "metadata": {},
   "outputs": [],
   "source": [
    "# using nonlocal\n",
    "def greet_outer():\n",
    "  msg = \"Hello Decode AiML from greet_outer() !\" # local variable\n",
    "\n",
    "  def greet_inner():\n",
    "    nonlocal msg\n",
    "    msg = \"Hello Decode AiML from greet_inner() !\"\n",
    "\n",
    "  greet_inner()\n",
    "  print(msg)\n",
    "\n",
    "greet_outer() # Hello Decode AiML !"
   ]
  },
  {
   "cell_type": "code",
   "execution_count": null,
   "metadata": {},
   "outputs": [],
   "source": []
  }
 ],
 "metadata": {
  "colab": {
   "authorship_tag": "ABX9TyN0MIfDS8xiGKmy35wdlAS5",
   "provenance": []
  },
  "kernelspec": {
   "display_name": "Python 3 (ipykernel)",
   "language": "python",
   "name": "python3"
  },
  "language_info": {
   "codemirror_mode": {
    "name": "ipython",
    "version": 3
   },
   "file_extension": ".py",
   "mimetype": "text/x-python",
   "name": "python",
   "nbconvert_exporter": "python",
   "pygments_lexer": "ipython3",
   "version": "3.13.5"
  }
 },
 "nbformat": 4,
 "nbformat_minor": 4
}
