{
 "cells": [
  {
   "cell_type": "markdown",
   "id": "72773887-b54c-4622-be6b-9f074276b7eb",
   "metadata": {},
   "source": [
    "<p align=\"center\">\n",
    "  <img src=\"DECODE_AI_BANNER.png\" alt=\"Description\" width=\"1400\"/>\n",
    "</p>\n"
   ]
  },
  {
   "cell_type": "markdown",
   "id": "5326c10e-d410-4358-b32d-e8579576e55c",
   "metadata": {},
   "source": [
    "<h1 align=\"center\">Strings in Python</h1>\n",
    "\n",
    "\n",
    "Textual data in Python is handled with `str` objects, or strings.  Strings are **immutable sequences** of **Unicode code points**.\n",
    "\n",
    "Strings are also containers, because they hold a group of items (characters).\n",
    "\n",
    "String literals are written in a variety of ways:\n",
    "\n",
    "```python\n",
    "# Single quotes\n",
    "s1 = 'allows embedded \"double\" quotes'\n",
    "\n",
    "# Double quotes\n",
    "s2 = \"allows embedded 'single' quotes\"\n",
    "\n",
    "# Triple single quotes (for multi-line or embedded quotes)\n",
    "s3 = '''Three single quotes'''\n",
    "\n",
    "# Triple double quotes (also useful for docstrings)\n",
    "s4 = \"\"\"Three double quotes\"\"\"\n",
    "```\n"
   ]
  },
  {
   "cell_type": "markdown",
   "id": "4c8cd9a3-16e8-442b-8caf-4e3434e58c95",
   "metadata": {},
   "source": [
    "**Properties of string**\n",
    "\n",
    "| Property       | String supports? | Example                         |\n",
    "| -------------- | ---------------- | ------------------------------- |\n",
    "| **Sequence**   | ✅ Yes            | `s[0]`, `s[1:4]`, `for ch in s` |\n",
    "| **Container**  | ✅ Yes            | `'e' in s`, `len(s)`            |\n",
    "| **Mutable**    | ❌ No             | Strings are **immutable**       |\n",
    "| **Ordered**    | ✅ Yes            | Preserves character order       |\n",
    "| **Duplicates** | ✅ Yes            | Allows repeated characters      |\n"
   ]
  },
  {
   "cell_type": "code",
   "execution_count": 11,
   "id": "0b39f1d8-1882-493f-bf33-6d613c3d181e",
   "metadata": {},
   "outputs": [
    {
     "data": {
      "text/plain": [
       "'hello'"
      ]
     },
     "execution_count": 11,
     "metadata": {},
     "output_type": "execute_result"
    }
   ],
   "source": [
    "# Single word\n",
    "'hello'"
   ]
  },
  {
   "cell_type": "code",
   "execution_count": 12,
   "id": "c4ccc0a7-8435-4cef-bb2b-ab7fa28f5f45",
   "metadata": {},
   "outputs": [
    {
     "data": {
      "text/plain": [
       "'This is also a string'"
      ]
     },
     "execution_count": 12,
     "metadata": {},
     "output_type": "execute_result"
    }
   ],
   "source": [
    "# Entire phrase \n",
    "'This is also a string'"
   ]
  },
  {
   "cell_type": "code",
   "execution_count": 13,
   "id": "ec667cb4-4a0b-4885-b87c-179cab430594",
   "metadata": {},
   "outputs": [
    {
     "data": {
      "text/plain": [
       "'String built with double quotes'"
      ]
     },
     "execution_count": 13,
     "metadata": {},
     "output_type": "execute_result"
    }
   ],
   "source": [
    "# We can also use double quote\n",
    "\"String built with double quotes\""
   ]
  },
  {
   "cell_type": "code",
   "execution_count": 14,
   "id": "d95e9b43-4619-44a4-bf63-865b389e4b54",
   "metadata": {},
   "outputs": [
    {
     "ename": "SyntaxError",
     "evalue": "unterminated string literal (detected at line 2) (3013451865.py, line 2)",
     "output_type": "error",
     "traceback": [
      "  \u001b[36mCell\u001b[39m\u001b[36m \u001b[39m\u001b[32mIn[14]\u001b[39m\u001b[32m, line 2\u001b[39m\n\u001b[31m    \u001b[39m\u001b[31m' I'm using single quotes, but will create an error'\u001b[39m\n                                                       ^\n\u001b[31mSyntaxError\u001b[39m\u001b[31m:\u001b[39m unterminated string literal (detected at line 2)\n"
     ]
    }
   ],
   "source": [
    "# Be careful with quotes!\n",
    "' I'm using single quotes, but will create an error'"
   ]
  },
  {
   "cell_type": "code",
   "execution_count": 15,
   "id": "810707bb-02df-48fd-910a-dd83bd018c88",
   "metadata": {},
   "outputs": [
    {
     "data": {
      "text/plain": [
       "\"Now I'm ready to use the single quotes inside a string!\""
      ]
     },
     "execution_count": 15,
     "metadata": {},
     "output_type": "execute_result"
    }
   ],
   "source": [
    "\"Now I'm ready to use the single quotes inside a string!\""
   ]
  },
  {
   "cell_type": "markdown",
   "id": "22883563-23ee-44c2-81bd-b0bcc37e57ae",
   "metadata": {},
   "source": [
    "**Printing a String**"
   ]
  },
  {
   "cell_type": "code",
   "execution_count": 16,
   "id": "b86f27d6-9ca9-44cb-9dd1-ddcc19c234a2",
   "metadata": {},
   "outputs": [
    {
     "data": {
      "text/plain": [
       "'Hello World'"
      ]
     },
     "execution_count": 16,
     "metadata": {},
     "output_type": "execute_result"
    }
   ],
   "source": [
    "# Printing a String - We can simply declare a string\n",
    "'Hello World'"
   ]
  },
  {
   "cell_type": "code",
   "execution_count": 17,
   "id": "c1b8fec3-33f9-4013-a090-3a41e9d00cd5",
   "metadata": {},
   "outputs": [
    {
     "data": {
      "text/plain": [
       "'Hello World 2'"
      ]
     },
     "execution_count": 17,
     "metadata": {},
     "output_type": "execute_result"
    }
   ],
   "source": [
    "# Printing a String - note that we can't output multiple strings this way\n",
    "'Hello World 1'\n",
    "'Hello World 2'"
   ]
  },
  {
   "cell_type": "code",
   "execution_count": 18,
   "id": "9462fa68-ae24-434d-a417-d6bfea645970",
   "metadata": {},
   "outputs": [
    {
     "data": {
      "text/plain": [
       "11"
      ]
     },
     "execution_count": 18,
     "metadata": {},
     "output_type": "execute_result"
    }
   ],
   "source": [
    "# print len\n",
    "len('Hello World')"
   ]
  },
  {
   "cell_type": "markdown",
   "id": "9b470d92-a94f-4006-b89d-b09814ceab94",
   "metadata": {},
   "source": [
    "**Indexing in string**"
   ]
  },
  {
   "cell_type": "code",
   "execution_count": 19,
   "id": "1fef8da3-c71d-49e3-b9c7-d589a1b82473",
   "metadata": {},
   "outputs": [],
   "source": [
    "# Assign s as a string\n",
    "s = 'Hello World'"
   ]
  },
  {
   "cell_type": "code",
   "execution_count": 20,
   "id": "b35363fc-9ae8-4c82-910e-d2992b2fcfcb",
   "metadata": {},
   "outputs": [
    {
     "data": {
      "text/plain": [
       "'Hello World'"
      ]
     },
     "execution_count": 20,
     "metadata": {},
     "output_type": "execute_result"
    }
   ],
   "source": [
    "#Check\n",
    "s"
   ]
  },
  {
   "cell_type": "code",
   "execution_count": 21,
   "id": "3b087d6c-442e-441f-9cf8-17c47c91e1e9",
   "metadata": {},
   "outputs": [
    {
     "name": "stdout",
     "output_type": "stream",
     "text": [
      "Hello World\n"
     ]
    }
   ],
   "source": [
    "# Print the object\n",
    "print(s) "
   ]
  },
  {
   "cell_type": "code",
   "execution_count": 22,
   "id": "b96beeec-02bc-48bc-8a83-1459fdcdf91d",
   "metadata": {},
   "outputs": [
    {
     "data": {
      "text/plain": [
       "'H'"
      ]
     },
     "execution_count": 22,
     "metadata": {},
     "output_type": "execute_result"
    }
   ],
   "source": [
    "# Show first element (in this case a letter)\n",
    "s[0]"
   ]
  },
  {
   "cell_type": "code",
   "execution_count": 23,
   "id": "cb6abfe7-606a-4ae3-869b-045ec19ae984",
   "metadata": {},
   "outputs": [
    {
     "data": {
      "text/plain": [
       "'l'"
      ]
     },
     "execution_count": 23,
     "metadata": {},
     "output_type": "execute_result"
    }
   ],
   "source": [
    "s[2]"
   ]
  },
  {
   "cell_type": "code",
   "execution_count": 24,
   "id": "4b75f980-5c0a-40a9-857c-7e07e611a824",
   "metadata": {},
   "outputs": [
    {
     "data": {
      "text/plain": [
       "'ello World'"
      ]
     },
     "execution_count": 24,
     "metadata": {},
     "output_type": "execute_result"
    }
   ],
   "source": [
    "# Grab everything past the first term all the way to the length of s which is len(s)\n",
    "s[1:]"
   ]
  },
  {
   "cell_type": "code",
   "execution_count": 25,
   "id": "b0345c48-123e-4cde-a7a7-a1bf53ec3671",
   "metadata": {},
   "outputs": [
    {
     "data": {
      "text/plain": [
       "'Hello World'"
      ]
     },
     "execution_count": 25,
     "metadata": {},
     "output_type": "execute_result"
    }
   ],
   "source": [
    "# Note that there is no change to the original s\n",
    "s"
   ]
  },
  {
   "cell_type": "code",
   "execution_count": 26,
   "id": "9418d207-5af5-43f0-95f4-13a0692fae6c",
   "metadata": {},
   "outputs": [
    {
     "data": {
      "text/plain": [
       "'Hel'"
      ]
     },
     "execution_count": 26,
     "metadata": {},
     "output_type": "execute_result"
    }
   ],
   "source": [
    "# Grab everything UP TO the 3rd index\n",
    "s[:3]"
   ]
  },
  {
   "cell_type": "code",
   "execution_count": 27,
   "id": "07e1b324-fa54-4ff5-a847-c17b6e8d2af5",
   "metadata": {},
   "outputs": [
    {
     "data": {
      "text/plain": [
       "'Hello World'"
      ]
     },
     "execution_count": 27,
     "metadata": {},
     "output_type": "execute_result"
    }
   ],
   "source": [
    "#Everything\n",
    "s[:]"
   ]
  },
  {
   "cell_type": "code",
   "execution_count": 28,
   "id": "7c9a3378-4d2d-4c4c-8b22-47ffce6415c1",
   "metadata": {},
   "outputs": [
    {
     "data": {
      "text/plain": [
       "'d'"
      ]
     },
     "execution_count": 28,
     "metadata": {},
     "output_type": "execute_result"
    }
   ],
   "source": [
    "# Last letter (one index behind 0 so it loops back around)\n",
    "s[-1]"
   ]
  },
  {
   "cell_type": "code",
   "execution_count": 29,
   "id": "14312246-b793-4fde-86fc-c56ac33b71bf",
   "metadata": {},
   "outputs": [
    {
     "data": {
      "text/plain": [
       "'Hello Worl'"
      ]
     },
     "execution_count": 29,
     "metadata": {},
     "output_type": "execute_result"
    }
   ],
   "source": [
    "# Grab everything but the last letter\n",
    "s[:-1]"
   ]
  },
  {
   "cell_type": "code",
   "execution_count": 30,
   "id": "812a4a27-0483-4f81-a1cf-ccfc1fa8b649",
   "metadata": {},
   "outputs": [
    {
     "data": {
      "text/plain": [
       "'Hello World'"
      ]
     },
     "execution_count": 30,
     "metadata": {},
     "output_type": "execute_result"
    }
   ],
   "source": [
    "# Grab everything, but go in steps size of 1\n",
    "s[::1]"
   ]
  },
  {
   "cell_type": "code",
   "execution_count": 31,
   "id": "a5b37fe8-9d21-41d3-9752-94983fd6a9ab",
   "metadata": {},
   "outputs": [
    {
     "data": {
      "text/plain": [
       "'HloWrd'"
      ]
     },
     "execution_count": 31,
     "metadata": {},
     "output_type": "execute_result"
    }
   ],
   "source": [
    "# Grab everything, but go in step sizes of 2\n",
    "s[::2]"
   ]
  },
  {
   "cell_type": "code",
   "execution_count": 32,
   "id": "e3ddbdef-e5a8-4143-b04c-a5af5478b942",
   "metadata": {},
   "outputs": [
    {
     "data": {
      "text/plain": [
       "'dlroW olleH'"
      ]
     },
     "execution_count": 32,
     "metadata": {},
     "output_type": "execute_result"
    }
   ],
   "source": [
    "# We can use this to print a string backwards\n",
    "s[::-1]"
   ]
  },
  {
   "cell_type": "markdown",
   "id": "aced9ab0-b963-4580-8fd3-8337954e02b5",
   "metadata": {},
   "source": [
    "**String Immutability**"
   ]
  },
  {
   "cell_type": "code",
   "execution_count": 68,
   "id": "4b12ff49-5a6b-48e1-8a59-1376ccde30a6",
   "metadata": {},
   "outputs": [
    {
     "data": {
      "text/plain": [
       "'hello'"
      ]
     },
     "execution_count": 68,
     "metadata": {},
     "output_type": "execute_result"
    }
   ],
   "source": [
    "s"
   ]
  },
  {
   "cell_type": "code",
   "execution_count": 35,
   "id": "92a0923e-320a-453b-b07a-96c512bd42f0",
   "metadata": {},
   "outputs": [
    {
     "ename": "TypeError",
     "evalue": "'str' object does not support item assignment",
     "output_type": "error",
     "traceback": [
      "\u001b[31m---------------------------------------------------------------------------\u001b[39m",
      "\u001b[31mTypeError\u001b[39m                                 Traceback (most recent call last)",
      "\u001b[36mCell\u001b[39m\u001b[36m \u001b[39m\u001b[32mIn[35]\u001b[39m\u001b[32m, line 2\u001b[39m\n\u001b[32m      1\u001b[39m \u001b[38;5;66;03m# Let's try to change the first letter to 'x'\u001b[39;00m\n\u001b[32m----> \u001b[39m\u001b[32m2\u001b[39m s[\u001b[32m0\u001b[39m] = \u001b[33m'\u001b[39m\u001b[33mx\u001b[39m\u001b[33m'\u001b[39m\n",
      "\u001b[31mTypeError\u001b[39m: 'str' object does not support item assignment"
     ]
    }
   ],
   "source": [
    "# Let's try to change the first letter to 'x'\n",
    "s[0] = 'x'"
   ]
  },
  {
   "cell_type": "code",
   "execution_count": 36,
   "id": "f26b6804-725f-4bd1-9137-d4ee33680db1",
   "metadata": {},
   "outputs": [
    {
     "data": {
      "text/plain": [
       "'Hello World concatenate me!'"
      ]
     },
     "execution_count": 36,
     "metadata": {},
     "output_type": "execute_result"
    }
   ],
   "source": [
    "# Concatenate strings!\n",
    "s + ' concatenate me!'"
   ]
  },
  {
   "cell_type": "code",
   "execution_count": 69,
   "id": "d19f8992-1c58-40a3-9226-a610c8cfdf94",
   "metadata": {},
   "outputs": [],
   "source": [
    "# We can reassign s completely though!\n",
    "s = s + ' concatenate me!'"
   ]
  },
  {
   "cell_type": "code",
   "execution_count": 92,
   "id": "acaa455c-4712-4719-a57f-720126e932e4",
   "metadata": {},
   "outputs": [
    {
     "data": {
      "text/plain": [
       "'hello'"
      ]
     },
     "execution_count": 92,
     "metadata": {},
     "output_type": "execute_result"
    }
   ],
   "source": [
    "s"
   ]
  },
  {
   "cell_type": "code",
   "execution_count": 39,
   "id": "ec9414ba-7b1f-421e-8c17-7a18e58d11c3",
   "metadata": {},
   "outputs": [],
   "source": [
    "letter = 'z'"
   ]
  },
  {
   "cell_type": "code",
   "execution_count": 40,
   "id": "da4ea871-aa3b-4969-97eb-f8693bd39027",
   "metadata": {},
   "outputs": [
    {
     "data": {
      "text/plain": [
       "'zzzzzzzzzz'"
      ]
     },
     "execution_count": 40,
     "metadata": {},
     "output_type": "execute_result"
    }
   ],
   "source": [
    "letter*10"
   ]
  },
  {
   "cell_type": "markdown",
   "id": "38132bbd-582e-4e7c-be23-861298d1e5a9",
   "metadata": {},
   "source": [
    "**Basic Built-in String methods**"
   ]
  },
  {
   "cell_type": "code",
   "execution_count": 41,
   "id": "1cd3a0ab-9ec5-4f51-9034-74164704aa61",
   "metadata": {},
   "outputs": [
    {
     "data": {
      "text/plain": [
       "'Hello World concatenate me!'"
      ]
     },
     "execution_count": 41,
     "metadata": {},
     "output_type": "execute_result"
    }
   ],
   "source": [
    "s"
   ]
  },
  {
   "cell_type": "code",
   "execution_count": 42,
   "id": "6c9d89af-931f-4763-92d0-2968a932ffb7",
   "metadata": {},
   "outputs": [
    {
     "data": {
      "text/plain": [
       "'HELLO WORLD CONCATENATE ME!'"
      ]
     },
     "execution_count": 42,
     "metadata": {},
     "output_type": "execute_result"
    }
   ],
   "source": [
    "# Upper Case a string\n",
    "s.upper()"
   ]
  },
  {
   "cell_type": "code",
   "execution_count": 43,
   "id": "c61e045f-6342-405e-930e-88ec0c6bbcb8",
   "metadata": {},
   "outputs": [
    {
     "data": {
      "text/plain": [
       "'hello world concatenate me!'"
      ]
     },
     "execution_count": 43,
     "metadata": {},
     "output_type": "execute_result"
    }
   ],
   "source": [
    "# Lower case\n",
    "s.lower()"
   ]
  },
  {
   "cell_type": "code",
   "execution_count": 44,
   "id": "4ac837f9-2d9e-479f-a925-e2e2de4510d3",
   "metadata": {},
   "outputs": [
    {
     "data": {
      "text/plain": [
       "['Hello', 'World', 'concatenate', 'me!']"
      ]
     },
     "execution_count": 44,
     "metadata": {},
     "output_type": "execute_result"
    }
   ],
   "source": [
    "# Split a string by blank space (this is the default)\n",
    "s.split()"
   ]
  },
  {
   "cell_type": "code",
   "execution_count": 104,
   "id": "fce316e5-9879-44bb-9f45-72b582ddd144",
   "metadata": {},
   "outputs": [
    {
     "data": {
      "text/plain": [
       "['hello', ' how are you?']"
      ]
     },
     "execution_count": 104,
     "metadata": {},
     "output_type": "execute_result"
    }
   ],
   "source": [
    "# Split by a specific element (doesn't include the element that was split on)\n",
    "s = \"hello, how are you?\"\n",
    "s.split(',')"
   ]
  },
  {
   "cell_type": "code",
   "execution_count": 105,
   "id": "a93df1c2-6716-4f37-bba8-5effe0805276",
   "metadata": {},
   "outputs": [
    {
     "data": {
      "text/plain": [
       "['ab c', '', 'de fg', 'kl']"
      ]
     },
     "execution_count": 105,
     "metadata": {},
     "output_type": "execute_result"
    }
   ],
   "source": [
    "'ab c\\n\\nde fg\\rkl\\r\\n'.splitlines()"
   ]
  },
  {
   "cell_type": "code",
   "execution_count": 98,
   "id": "a436869c-8452-4f0d-9eb8-6fc6b3d66d8a",
   "metadata": {},
   "outputs": [
    {
     "data": {
      "text/plain": [
       "' hi good morning !'"
      ]
     },
     "execution_count": 98,
     "metadata": {},
     "output_type": "execute_result"
    }
   ],
   "source": [
    "\" \".join([\" hi\",\"good morning !\"])"
   ]
  },
  {
   "cell_type": "code",
   "execution_count": 99,
   "id": "761bd29c-b21b-4489-b4bd-1c299b2c68cf",
   "metadata": {},
   "outputs": [
    {
     "data": {
      "text/plain": [
       "'hello world'"
      ]
     },
     "execution_count": 99,
     "metadata": {},
     "output_type": "execute_result"
    }
   ],
   "source": [
    "\"Hello world\".lower()"
   ]
  },
  {
   "cell_type": "code",
   "execution_count": 100,
   "id": "c7224bf9-2667-4af4-ad11-834c62d5f800",
   "metadata": {},
   "outputs": [
    {
     "data": {
      "text/plain": [
       "'Hello World! '"
      ]
     },
     "execution_count": 100,
     "metadata": {},
     "output_type": "execute_result"
    }
   ],
   "source": [
    "\" Hello World! \".lstrip()"
   ]
  },
  {
   "cell_type": "code",
   "execution_count": 103,
   "id": "75257511-4b38-4391-a848-95291f49b284",
   "metadata": {},
   "outputs": [
    {
     "data": {
      "text/plain": [
       "' Hello World!'"
      ]
     },
     "execution_count": 103,
     "metadata": {},
     "output_type": "execute_result"
    }
   ],
   "source": [
    "\" Hello World! \".rstrip()"
   ]
  },
  {
   "cell_type": "code",
   "execution_count": 102,
   "id": "d95ece30-da51-422b-8025-f9edcac1c38e",
   "metadata": {},
   "outputs": [
    {
     "data": {
      "text/plain": [
       "' hi World! '"
      ]
     },
     "execution_count": 102,
     "metadata": {},
     "output_type": "execute_result"
    }
   ],
   "source": [
    "\" Hello World! \".replace(\"Hello\",\"hi\")"
   ]
  },
  {
   "cell_type": "markdown",
   "id": "5043a1e2-b958-444a-a970-edd7d78e22fb",
   "metadata": {},
   "source": [
    "**Print Formatting**"
   ]
  },
  {
   "cell_type": "code",
   "execution_count": 77,
   "id": "63ce703a-09ad-42a0-84cc-166f60fc7fe1",
   "metadata": {},
   "outputs": [
    {
     "data": {
      "text/plain": [
       "'The sum of 1 + 2 is 3'"
      ]
     },
     "execution_count": 77,
     "metadata": {},
     "output_type": "execute_result"
    }
   ],
   "source": [
    "\"The sum of 1 + 2 is {0}\".format(1+2)"
   ]
  },
  {
   "cell_type": "code",
   "execution_count": 78,
   "id": "11272909-9b77-40db-8b93-05160a0f9421",
   "metadata": {},
   "outputs": [
    {
     "data": {
      "text/plain": [
       "'The sum of 1+2 is 3'"
      ]
     },
     "execution_count": 78,
     "metadata": {},
     "output_type": "execute_result"
    }
   ],
   "source": [
    "f\"The sum of 1+2 is {1+2}\""
   ]
  },
  {
   "cell_type": "markdown",
   "id": "2f628e38-ae5c-42b9-8688-4d5163c8c840",
   "metadata": {},
   "source": [
    "**Location and Counting**"
   ]
  },
  {
   "cell_type": "code",
   "execution_count": 71,
   "id": "83d70494-6ac1-4ab7-ae3b-71d361582c6f",
   "metadata": {},
   "outputs": [],
   "source": [
    "s = 'hello concatenate me!'"
   ]
  },
  {
   "cell_type": "code",
   "execution_count": 74,
   "id": "0993dc6d-960a-4d1f-89b3-b9f1ae58f818",
   "metadata": {},
   "outputs": [
    {
     "data": {
      "text/plain": [
       "1"
      ]
     },
     "execution_count": 74,
     "metadata": {},
     "output_type": "execute_result"
    }
   ],
   "source": [
    "s.count('concatenate')"
   ]
  },
  {
   "cell_type": "code",
   "execution_count": 75,
   "id": "5ce0bba9-6018-459f-9741-2d860c1f2eca",
   "metadata": {},
   "outputs": [
    {
     "data": {
      "text/plain": [
       "6"
      ]
     },
     "execution_count": 75,
     "metadata": {},
     "output_type": "execute_result"
    }
   ],
   "source": [
    "s.find('concatenate')"
   ]
  },
  {
   "cell_type": "code",
   "execution_count": 76,
   "id": "0dd382ef-aacc-4f4a-a77c-6bd246024182",
   "metadata": {},
   "outputs": [
    {
     "data": {
      "text/plain": [
       "True"
      ]
     },
     "execution_count": 76,
     "metadata": {},
     "output_type": "execute_result"
    }
   ],
   "source": [
    "'concatenate' in s"
   ]
  },
  {
   "cell_type": "markdown",
   "id": "fdf184a0-6d51-488c-a4a4-9777789071bc",
   "metadata": {},
   "source": [
    "**is check methods**"
   ]
  },
  {
   "cell_type": "code",
   "execution_count": 80,
   "id": "478fdc75-0ce6-4667-84a7-bad88a31e307",
   "metadata": {},
   "outputs": [],
   "source": [
    "s = 'hello'"
   ]
  },
  {
   "cell_type": "code",
   "execution_count": 81,
   "id": "7e08bd99-d23a-4dbb-b1e4-8831dd8bfc88",
   "metadata": {},
   "outputs": [
    {
     "data": {
      "text/plain": [
       "True"
      ]
     },
     "execution_count": 81,
     "metadata": {},
     "output_type": "execute_result"
    }
   ],
   "source": [
    "s.isalnum() # chars are alphanumeric and there is at least one character"
   ]
  },
  {
   "cell_type": "code",
   "execution_count": 53,
   "id": "edccd97d-0273-45ea-80e2-661bc2d13559",
   "metadata": {},
   "outputs": [
    {
     "data": {
      "text/plain": [
       "True"
      ]
     },
     "execution_count": 53,
     "metadata": {},
     "output_type": "execute_result"
    }
   ],
   "source": [
    "s.isalpha()"
   ]
  },
  {
   "cell_type": "code",
   "execution_count": 82,
   "id": "de77563b-23ae-45f5-ac4c-416f5f8486c2",
   "metadata": {},
   "outputs": [
    {
     "data": {
      "text/plain": [
       "True"
      ]
     },
     "execution_count": 82,
     "metadata": {},
     "output_type": "execute_result"
    }
   ],
   "source": [
    "s.isascii()"
   ]
  },
  {
   "cell_type": "code",
   "execution_count": 85,
   "id": "75d4aa4d-05a3-4eea-abc8-2a67da89e0cd",
   "metadata": {},
   "outputs": [
    {
     "data": {
      "text/plain": [
       "False"
      ]
     },
     "execution_count": 85,
     "metadata": {},
     "output_type": "execute_result"
    }
   ],
   "source": [
    "s.isdigit()"
   ]
  },
  {
   "cell_type": "code",
   "execution_count": 54,
   "id": "fa369fc2-4d6b-48bb-aadf-49abc93c55a4",
   "metadata": {},
   "outputs": [
    {
     "data": {
      "text/plain": [
       "True"
      ]
     },
     "execution_count": 54,
     "metadata": {},
     "output_type": "execute_result"
    }
   ],
   "source": [
    "s.islower()"
   ]
  },
  {
   "cell_type": "code",
   "execution_count": 89,
   "id": "25558e50-de77-450f-8872-1541c4e80ef9",
   "metadata": {},
   "outputs": [
    {
     "data": {
      "text/plain": [
       "False"
      ]
     },
     "execution_count": 89,
     "metadata": {},
     "output_type": "execute_result"
    }
   ],
   "source": [
    "s.isnumeric()"
   ]
  },
  {
   "cell_type": "code",
   "execution_count": 55,
   "id": "9e4b25af-b904-4778-bc84-74d872a9a6f9",
   "metadata": {},
   "outputs": [
    {
     "data": {
      "text/plain": [
       "False"
      ]
     },
     "execution_count": 55,
     "metadata": {},
     "output_type": "execute_result"
    }
   ],
   "source": [
    "s.isspace()"
   ]
  },
  {
   "cell_type": "code",
   "execution_count": 56,
   "id": "69f55b4c-f85f-489e-971d-d06c012dc640",
   "metadata": {},
   "outputs": [
    {
     "data": {
      "text/plain": [
       "False"
      ]
     },
     "execution_count": 56,
     "metadata": {},
     "output_type": "execute_result"
    }
   ],
   "source": [
    "s.istitle()"
   ]
  },
  {
   "cell_type": "code",
   "execution_count": 57,
   "id": "44cced9c-b4a9-4752-abbf-3ad72f2f75a3",
   "metadata": {},
   "outputs": [
    {
     "data": {
      "text/plain": [
       "False"
      ]
     },
     "execution_count": 57,
     "metadata": {},
     "output_type": "execute_result"
    }
   ],
   "source": [
    "s.isupper()"
   ]
  },
  {
   "cell_type": "markdown",
   "id": "c1514d5c-1b92-4ed4-a968-86882c929a59",
   "metadata": {},
   "source": [
    "**Built-in Reg. Expressions**"
   ]
  },
  {
   "cell_type": "code",
   "execution_count": 59,
   "id": "90def337-15d8-4550-8ff9-97a1246a7d70",
   "metadata": {},
   "outputs": [
    {
     "data": {
      "text/plain": [
       "['h', 'llo']"
      ]
     },
     "execution_count": 59,
     "metadata": {},
     "output_type": "execute_result"
    }
   ],
   "source": [
    "s.split('e')"
   ]
  },
  {
   "cell_type": "code",
   "execution_count": 60,
   "id": "9c238c83-747b-4476-8ec3-c70404ae1995",
   "metadata": {},
   "outputs": [
    {
     "data": {
      "text/plain": [
       "('h', 'e', 'llo')"
      ]
     },
     "execution_count": 60,
     "metadata": {},
     "output_type": "execute_result"
    }
   ],
   "source": [
    "s.partition('e')"
   ]
  },
  {
   "cell_type": "markdown",
   "id": "9db345b6-6509-4ad0-8b44-8a4d51470196",
   "metadata": {},
   "source": [
    "**Miscellaneous methods**"
   ]
  },
  {
   "cell_type": "code",
   "execution_count": 66,
   "id": "5f402afb-716a-41a3-bc56-6ebdfece4288",
   "metadata": {},
   "outputs": [
    {
     "data": {
      "text/plain": [
       "True"
      ]
     },
     "execution_count": 66,
     "metadata": {},
     "output_type": "execute_result"
    }
   ],
   "source": [
    "s.endswith('o')"
   ]
  },
  {
   "cell_type": "code",
   "execution_count": 65,
   "id": "3cb10b49-f894-4e5a-a8c2-6d4c4bdb75a1",
   "metadata": {},
   "outputs": [
    {
     "name": "stdout",
     "output_type": "stream",
     "text": [
      "Encoded: b'Python is Cool'\n",
      "Decoded: Python is Cool\n",
      "Encoded: b'\\xe0\\xa4\\xb9\\xe0\\xa5\\x87\\xe0\\xa4\\xb2\\xe0\\xa5\\x8b \\xf0\\x9f\\x91\\x8b\\xf0\\x9f\\x8c\\x8d'\n",
      "Decoded: हेलो 👋🌍\n"
     ]
    }
   ],
   "source": [
    "#str.encode(encoding='utf-8', errors='strict')\n",
    "\n",
    "english_text = 'Python is Cool'\n",
    "\n",
    "encoded = english_text.encode('utf-8')  # Encoding to bytes\n",
    "print(\"Encoded:\", encoded)\n",
    "\n",
    "decoded = encoded.decode('utf-8')  # Decoding back to string\n",
    "print(\"Decoded:\", decoded)\n",
    "\n",
    "emoji_text = \"हेलो 👋🌍\" #Unicode\n",
    "encoded = emoji_text.encode('utf-8')  # Encoding to bytes\n",
    "print(\"Encoded:\", encoded)\n",
    "\n",
    "decoded = encoded.decode('utf-8')  # Decoding back to string\n",
    "print(\"Decoded:\", decoded)"
   ]
  },
  {
   "cell_type": "code",
   "execution_count": null,
   "id": "cd62e3c7-51d4-4b96-be4b-7ea6516b32d3",
   "metadata": {},
   "outputs": [],
   "source": []
  },
  {
   "cell_type": "markdown",
   "id": "b7a039c9-b9e7-4f74-b1ad-f3fd7412ae34",
   "metadata": {},
   "source": [
    "<h2 align=\"center\"> [Bonus Section] Decoding Internal of Strings </h2>"
   ]
  },
  {
   "cell_type": "markdown",
   "id": "87d369d1-f6e3-4cc8-bfa5-093ba247edca",
   "metadata": {},
   "source": [
    "In Python, strings are immutable sequences of Unicode characters. Behind the scenes, their internal representation is optimized for memory efficiency, speed, and Unicode support. Some Important techniques adopted by strings are"
   ]
  },
  {
   "cell_type": "markdown",
   "id": "46a53e9f-a39f-4c4d-bce2-9ca003ac521f",
   "metadata": {},
   "source": [
    "| Feature              | ASCII                                              | Unicode                                       |\n",
    "| -------------------- | -------------------------------------------------- | --------------------------------------------- |\n",
    "| Full Form            | American Standard Code for Information Interchange | Universal Coded Character Set                 |\n",
    "| Bit size             | 7 bits (128 characters)                            | Typically uses 8, 16, or 32 bits              |\n",
    "| Characters supported | English letters, digits, symbols                   | All major languages, emojis, symbols, scripts |\n",
    "| Range                | `0 – 127`                                          | `0 – 1,114,111` (code points)                 |\n",
    "| Memory use           | Very low                                           | Depends on encoding (UTF-8, UTF-16, etc.)     |\n",
    "| Encoding Type        | Fixed-width                                        | Variable-width (UTF-8), fixed (UTF-32)        |\n",
    "| Backward Compatible  | ✅ Yes                                              | ✅ Yes (UTF-8 includes ASCII)                  |\n"
   ]
  },
  {
   "cell_type": "markdown",
   "id": "f111d28c-a11d-4e6b-8c24-6ef9d1ffd680",
   "metadata": {},
   "source": [
    "### 1. Flexible String Representation\n",
    "\n",
    "- Python now uses **compact, memory-efficient internal formats** based on the kind of characters present:\n",
    "\n",
    "| Kind of Characters | Storage Format | Bytes per Char |\n",
    "|--------------------|----------------|----------------|\n",
    "| ASCII only         | Latin-1        | 1 byte         |\n",
    "| Latin-1 + others   | UCS-2          | 2 bytes        |\n",
    "| Emojis / CJK       | UCS-4          | 4 bytes        |\n",
    "\n",
    "- For example:\n",
    "  - `s = \"abc\"` → uses **1 byte per character**\n",
    "  - `s = \"हेलो\"` (Hindi) → may use **2 bytes per character**\n",
    "  - `s = \"👋🌍\"` (emojis) → may use **4 bytes per character**\n",
    "\n",
    "- This approach helps **reduce memory usage** and **speed up operations**.\n"
   ]
  },
  {
   "cell_type": "code",
   "execution_count": 7,
   "id": "de802327-dcc3-4d7c-9812-dae02c20eb3f",
   "metadata": {},
   "outputs": [
    {
     "name": "stdout",
     "output_type": "stream",
     "text": [
      "Empty String: \n",
      "Memory (bytes): 41\n",
      "ASCII String: abc\n",
      "Memory (bytes): 44\n",
      "Hindi String: हेलो\n",
      "Memory (bytes): 66\n",
      "Emoji String: 👋🌍\n",
      "Memory (bytes): 68\n"
     ]
    }
   ],
   "source": [
    "import sys\n",
    "\n",
    "# for empty string\n",
    "ascii_str = \"\"\n",
    "print(f\"Empty String: {ascii_str}\")\n",
    "print(f\"Memory (bytes): {sys.getsizeof(ascii_str)}\")\n",
    "\n",
    "# Hindi String (UCS-2) =>  Only 1 byte per character is needed\n",
    "ascii_str = \"abc\"\n",
    "print(f\"ASCII String: {ascii_str}\")\n",
    "print(f\"Memory (bytes): {sys.getsizeof(ascii_str)}\")\n",
    "\n",
    "# ASCII Only string =>  This string uses Devanagari characters, requiring 2 bytes per character internally.\n",
    "hindi_str = \"हेलो\"\n",
    "print(f\"Hindi String: {hindi_str}\")\n",
    "print(f\"Memory (bytes): {sys.getsizeof(hindi_str)}\")\n",
    "\n",
    "# Emoji String (UCS-4) => Emojis are outside the Basic Multilingual Plane (BMP), so they require 4 bytes per character.\n",
    "emoji_str = \"👋🌍\"\n",
    "print(f\"Emoji String: {emoji_str}\")\n",
    "print(f\"Memory (bytes): {sys.getsizeof(emoji_str)}\")\n"
   ]
  },
  {
   "cell_type": "markdown",
   "id": "a43c32f2-559b-4a58-8826-0e8f01152d55",
   "metadata": {},
   "source": [
    "### 2. String Interning\n",
    "\n",
    "- **Interning** is a mechanism that stores only **one copy** of immutable strings with the same content.\n",
    "- The single copy of each string is called its **intern**, hence the name *String Interning*.\n",
    "- Modern programming languages like **Java, Python, PHP, Ruby, Julia**, and many more perform string interning to make their compilers and interpreters more performant.\n",
    "\n",
    "#### Advantages of String Interning:\n",
    "\n",
    "- **Advantage 1: Faster comparison**\n",
    "  - Interned strings allow for pointer equality using `is` instead of content equality using `==`.\n",
    "  - Without interning, comparing two strings takes `O(n)` time as every character must be checked.\n",
    "  - With interning, two equal strings will share the same object reference, so only a pointer comparison is needed.\n",
    "\n",
    "- **Advantage 2: Reduced memory usage**\n",
    "  - Instead of creating multiple redundant string objects, Python reuses the same interned object.\n",
    "  - This helps reduce the memory footprint by avoiding duplication.\n"
   ]
  },
  {
   "cell_type": "code",
   "execution_count": 8,
   "id": "04ca87f3-3cf9-467b-b975-c48e14cce925",
   "metadata": {},
   "outputs": [
    {
     "name": "stdout",
     "output_type": "stream",
     "text": [
      "True\n",
      "True\n"
     ]
    }
   ],
   "source": [
    "a = \"hello\"\n",
    "b = \"hello\"\n",
    "\n",
    "print(a == b)  # True – same content\n",
    "print(a is b)  # True – same memory (auto interned)\n"
   ]
  },
  {
   "cell_type": "code",
   "execution_count": 9,
   "id": "f67b9e8a-fe5a-4757-9453-8e50d7d8f994",
   "metadata": {},
   "outputs": [
    {
     "name": "stdout",
     "output_type": "stream",
     "text": [
      "True\n",
      "False\n"
     ]
    }
   ],
   "source": [
    "# strings with space or special characters\n",
    "x = \"hello world\"\n",
    "y = \"hello world\"\n",
    "\n",
    "print(x == y)  # True – content is same\n",
    "print(x is y)  # False – different memory (not interned automatically)\n"
   ]
  },
  {
   "cell_type": "markdown",
   "id": "dec69144-4165-42f7-9949-7f37e1a30475",
   "metadata": {},
   "source": [
    "### 3. Operations Are Optimized\n",
    "\n",
    "Even though strings are immutable, Python optimizes:\n",
    "\n",
    "- **Concatenation** using `join()` (avoids `O(n²)` cost of using `+`)\n",
    "- **Hashing** for dict keys (cached in the string object)\n",
    "- **Encoding/Decoding** with UTF-8 or other formats\n"
   ]
  },
  {
   "cell_type": "code",
   "execution_count": 2,
   "id": "e6945237-9e6b-40d0-a077-e07dfca3423e",
   "metadata": {},
   "outputs": [
    {
     "name": "stdout",
     "output_type": "stream",
     "text": [
      "python is fast\n"
     ]
    }
   ],
   "source": [
    "# Using + in loops creates a new string object every time due to string immutability. This results in O(n²) time complexity.\n",
    "words = [\"python\", \"is\", \"fast\"]\n",
    "result = \"\"\n",
    "for word in words:\n",
    "    result += word + \" \"\n",
    "print(result.strip())\n",
    "\n",
    "# solution - Using \" \".join() (Efficient)"
   ]
  },
  {
   "cell_type": "code",
   "execution_count": 3,
   "id": "5e6e6164-e53c-4893-bacc-8f9b8febae4e",
   "metadata": {},
   "outputs": [
    {
     "name": "stdout",
     "output_type": "stream",
     "text": [
      "Encoded: b'\\xe0\\xa4\\xb9\\xe0\\xa5\\x87\\xe0\\xa4\\xb2\\xe0\\xa5\\x8b \\xf0\\x9f\\x91\\x8b\\xf0\\x9f\\x8c\\x8d'\n",
      "Decoded: हेलो 👋🌍\n"
     ]
    }
   ],
   "source": [
    "text = \"हेलो 👋🌍\" #Unicode\n",
    "encoded = text.encode('utf-8')  # Encoding to bytes\n",
    "print(\"Encoded:\", encoded)\n",
    "\n",
    "decoded = encoded.decode('utf-8')  # Decoding back to string\n",
    "print(\"Decoded:\", decoded)\n",
    "\n",
    "# UTF-8 is the default encoding and is highly optimized in CPython.\n",
    "# Operations like encode()/decode() are implemented in fast C code for performance."
   ]
  },
  {
   "cell_type": "code",
   "execution_count": null,
   "id": "29947fd7-9783-4255-bd49-97d6aa5e3ead",
   "metadata": {},
   "outputs": [],
   "source": [
    "# Demo\n",
    "a = \"hello\"\n",
    "print(id(a))   # e.g., 140014090012048\n",
    "\n",
    "a += \" world\"\n",
    "print(id(a))   # Different ID – new object created\n"
   ]
  },
  {
   "cell_type": "markdown",
   "id": "ed82f1b0-70f0-49d4-9902-7db4114be546",
   "metadata": {},
   "source": [
    "### 4. Memory Layout & Overhead\n",
    "\n",
    "Each string has:\n",
    "1. A `PyObject_HEAD` (basic metadata)\n",
    "2. `length`\n",
    "3. `hash` value (cached after first computation)\n",
    "4. `kind` – encoding kind (1/2/4-byte characters)\n",
    "5. `UTF-8` or raw memory buffers\n",
    "\n",
    "So, even an empty string isn’t exactly \"empty\""
   ]
  },
  {
   "cell_type": "code",
   "execution_count": 10,
   "id": "78fe828f-df48-4151-9477-0174b63570ff",
   "metadata": {},
   "outputs": [
    {
     "name": "stdout",
     "output_type": "stream",
     "text": [
      "41\n"
     ]
    }
   ],
   "source": [
    "import sys\n",
    "print(sys.getsizeof(\"\"))  # ~49 bytes (varies by version)"
   ]
  },
  {
   "cell_type": "markdown",
   "id": "c51c723c-b921-43f8-a297-22354a6e60e6",
   "metadata": {},
   "source": [
    "### 📚 References\n",
    "1. https://docs.python.org/3/library/stdtypes.html#text-sequence-type-str\n",
    "2. https://arpitbhayani.me/blogs/string-interning-python/"
   ]
  }
 ],
 "metadata": {
  "kernelspec": {
   "display_name": "Python 3 (ipykernel)",
   "language": "python",
   "name": "python3"
  },
  "language_info": {
   "codemirror_mode": {
    "name": "ipython",
    "version": 3
   },
   "file_extension": ".py",
   "mimetype": "text/x-python",
   "name": "python",
   "nbconvert_exporter": "python",
   "pygments_lexer": "ipython3",
   "version": "3.13.5"
  }
 },
 "nbformat": 4,
 "nbformat_minor": 5
}
