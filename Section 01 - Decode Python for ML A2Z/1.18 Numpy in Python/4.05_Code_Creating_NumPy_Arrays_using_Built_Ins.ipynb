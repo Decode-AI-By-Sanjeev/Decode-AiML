{
 "cells": [
  {
   "cell_type": "markdown",
   "id": "e4aa81f8-210d-44b2-8ca8-fdfd08e373cd",
   "metadata": {},
   "source": [
    "### Motivation\n",
    "\n",
    "- Must-have for **AI/ML coding rounds** in product-based companies  \n",
    "- Essential for working on **machine learning**, **data science**, and **deep learning** projects  \n",
    "- Required when writing **custom loss functions**, building ML models **from scratch** (without libraries like Scikit-learn or TensorFlow)\n"
   ]
  },
  {
   "cell_type": "markdown",
   "id": "343e98db-f637-4c2b-b2c0-8b0c39216e31",
   "metadata": {},
   "source": [
    "### Introduction to NumPy\n",
    "\n",
    "- NumPy (Numerical Python) is a Python library that is the core library for scientific computing in Python. \n",
    "- It contains a collection of tools and techniques that can be used to solve mathematical models of problems in science and engineering\n",
    "- One of these tools is a high-performance multidimensional array object that is a powerful data structure for the efficient computation of arrays and matrices.\n",
    "- To work with these arrays, there’s a vast amount of high-level mathematical functions operate on these matrices and arrays.\n",
    "\n",
    "\n",
    "\n",
    "### Why Learn NumPy?\n",
    "\n",
    "#### 1. Model Inputs Need NumPy Arrays\n",
    "- ML libraries like **Scikit-learn**, **TensorFlow**, **PyTorch**, etc. expect data in NumPy array format.\n",
    "- Even Pandas and OpenCV internally rely on NumPy arrays.\n",
    "\n",
    "#### 2. NumPy is Much Faster for Large Numerical Computation\n",
    "- NumPy is written in **optimized C code** under the hood.\n",
    "- It supports:\n",
    "  - Matrix multiplication\n",
    "  - Dot products\n",
    "  - Broadcasting (auto-expanding arrays in operations)\n",
    "- Much faster than native Python loops or lists.\n",
    "\n",
    "#### 3. NumPy Handles N-Dimensional Arrays\n",
    "- NumPy can create and operate on arrays of any dimension (1D, 2D, 3D, ..., nD).\n",
    "- Useful for:\n",
    "  - Scientific computing\n",
    "  - Deep learning tensors\n",
    "  - Image processing\n",
    "\n",
    "#### 4. You Need NumPy to Build Custom Algorithms\n",
    "- For hands-on ML or from-scratch models, NumPy is essential.\n",
    "- You'll use it for:\n",
    "  - Linear regression\n",
    "  - Gradient descent\n",
    "  - Backpropagation\n",
    "  - Activation functions\n",
    "\n",
    "\n",
    "\n",
    "### NumPy vs Pandas\n",
    "| Feature     | NumPy                         | Pandas                          |\n",
    "|-------------|-------------------------------|----------------------------------|\n",
    "| Focus       | Numerical computing           | Tabular data analysis            |\n",
    "| Structure   | N-dimensional arrays          | Labeled 1D/2D tables (Series/DataFrame) |\n",
    "| Performance | Very fast, low-level          | Built on top of NumPy            |\n",
    "| Use case    | Math behind ML                | EDA, data wrangling, preprocessing |\n",
    "\n",
    "- Use **Pandas** to prepare data, and **NumPy** to power the math behind ML.\n",
    "\n"
   ]
  },
  {
   "cell_type": "markdown",
   "id": "5bd39048-6e5f-4a07-a824-183f76735358",
   "metadata": {},
   "source": [
    "#### Why NumPy is More Memory Efficient than Python Lists\n",
    "\n",
    "**Python List Memory Model**\n",
    "\n",
    "- Stores **references (pointers)** to separate Python `int` objects.\n",
    "- Each `int` object has metadata:\n",
    "  - Type information\n",
    "  - Reference count\n",
    "  - Value\n",
    "- ❌ High overhead, especially for large arrays.\n",
    "- ❌ Not cache-friendly — elements are scattered in memory.\n",
    "\n",
    "\n",
    "\n",
    "**NumPy Array Memory Model**\n",
    "\n",
    "- Stores data in a **contiguous C-style memory block**.\n",
    "- Only stores **raw values** (e.g., `int32`, `float64`) — no per-element metadata.\n",
    "- ✅ Very compact: no need to store Python object info for each element.\n",
    "- ✅ Cache-friendly and CPU-efficient.\n",
    "- ✅ Enables **vectorized operations**, **SIMD**, and **broadcasting**.\n",
    "\n",
    "\n",
    "\n",
    "**Result**\n",
    "\n",
    "- NumPy arrays use significantly **less memory** than Python lists.\n",
    "- Ideal for **large-scale numerical data**, especially in **machine learning** and **scientific computing**.\n",
    "  \n"
   ]
  },
  {
   "cell_type": "markdown",
   "id": "21befa4d-df49-4147-be98-03315835f8d1",
   "metadata": {},
   "source": [
    "**Installing Numpy**"
   ]
  },
  {
   "cell_type": "code",
   "execution_count": 18,
   "id": "54fa0bc0-e90e-4f65-9f18-0143ef338060",
   "metadata": {},
   "outputs": [
    {
     "name": "stdout",
     "output_type": "stream",
     "text": [
      "Requirement already satisfied: numpy in c:\\users\\pc\\anaconda3\\envs\\decodeaienv\\lib\\site-packages (2.3.0)\n"
     ]
    }
   ],
   "source": [
    "!pip install numpy"
   ]
  },
  {
   "cell_type": "markdown",
   "id": "5e41f292-482d-4abc-8638-af92a87bee96",
   "metadata": {},
   "source": [
    "**Importing numpy**"
   ]
  },
  {
   "cell_type": "code",
   "execution_count": 2,
   "id": "c8816691-21db-4185-aa94-e6caace267a4",
   "metadata": {},
   "outputs": [],
   "source": [
    "# np is just an alias (a nickname) for the numpy module.\n",
    "import numpy as np"
   ]
  },
  {
   "cell_type": "markdown",
   "id": "daf047ed-f2ed-4225-bfe8-134401a0d8c5",
   "metadata": {},
   "source": [
    "**Checking Numpy Version**"
   ]
  },
  {
   "cell_type": "code",
   "execution_count": 3,
   "id": "b9235665-154c-4844-8fbd-4a5ffb5cc0e5",
   "metadata": {},
   "outputs": [
    {
     "data": {
      "text/plain": [
       "'2.3.0'"
      ]
     },
     "execution_count": 3,
     "metadata": {},
     "output_type": "execute_result"
    }
   ],
   "source": [
    "np.__version__"
   ]
  },
  {
   "cell_type": "markdown",
   "id": "9044b8e2-e785-46ef-b49d-3e267cc2966d",
   "metadata": {},
   "source": [
    "**Numpy 1D, 2D and 3D Array**"
   ]
  },
  {
   "cell_type": "code",
   "execution_count": 4,
   "id": "b505c6c5-137d-4200-a0cf-e7179932cd22",
   "metadata": {},
   "outputs": [
    {
     "data": {
      "text/plain": [
       "array([1, 2, 3, 4])"
      ]
     },
     "execution_count": 4,
     "metadata": {},
     "output_type": "execute_result"
    }
   ],
   "source": [
    "# a list of numbers will create a 1D array => Think of this as a single row or a single column of values.\n",
    "a1D = np.array([1, 2, 3, 4])\n",
    "a1D"
   ]
  },
  {
   "cell_type": "code",
   "execution_count": 5,
   "id": "77ed5c99-65c6-4043-9f6c-cb9cf5a420e5",
   "metadata": {},
   "outputs": [
    {
     "name": "stdout",
     "output_type": "stream",
     "text": [
      "<class 'numpy.ndarray'>\n"
     ]
    }
   ],
   "source": [
    "print(type(a1D))"
   ]
  },
  {
   "cell_type": "code",
   "execution_count": 6,
   "id": "3784628e-16cf-4b0d-a2a1-ac27e0a0a9b4",
   "metadata": {},
   "outputs": [
    {
     "name": "stdout",
     "output_type": "stream",
     "text": [
      "Help on built-in function array in module numpy:\n",
      "\n",
      "array(...)\n",
      "    array(object, dtype=None, *, copy=True, order='K', subok=False, ndmin=0,\n",
      "          like=None)\n",
      "\n",
      "    Create an array.\n",
      "\n",
      "    Parameters\n",
      "    ----------\n",
      "    object : array_like\n",
      "        An array, any object exposing the array interface, an object whose\n",
      "        ``__array__`` method returns an array, or any (nested) sequence.\n",
      "        If object is a scalar, a 0-dimensional array containing object is\n",
      "        returned.\n",
      "    dtype : data-type, optional\n",
      "        The desired data-type for the array. If not given, NumPy will try to use\n",
      "        a default ``dtype`` that can represent the values (by applying promotion\n",
      "        rules when necessary.)\n",
      "    copy : bool, optional\n",
      "        If ``True`` (default), then the array data is copied. If ``None``,\n",
      "        a copy will only be made if ``__array__`` returns a copy, if obj is\n",
      "        a nested sequence, or if a copy is needed to satisfy any of the other\n",
      "        requirements (``dtype``, ``order``, etc.). Note that any copy of\n",
      "        the data is shallow, i.e., for arrays with object dtype, the new\n",
      "        array will point to the same objects. See Examples for `ndarray.copy`.\n",
      "        For ``False`` it raises a ``ValueError`` if a copy cannot be avoided.\n",
      "        Default: ``True``.\n",
      "    order : {'K', 'A', 'C', 'F'}, optional\n",
      "        Specify the memory layout of the array. If object is not an array, the\n",
      "        newly created array will be in C order (row major) unless 'F' is\n",
      "        specified, in which case it will be in Fortran order (column major).\n",
      "        If object is an array the following holds.\n",
      "\n",
      "        ===== ========= ===================================================\n",
      "        order  no copy                     copy=True\n",
      "        ===== ========= ===================================================\n",
      "        'K'   unchanged F & C order preserved, otherwise most similar order\n",
      "        'A'   unchanged F order if input is F and not C, otherwise C order\n",
      "        'C'   C order   C order\n",
      "        'F'   F order   F order\n",
      "        ===== ========= ===================================================\n",
      "\n",
      "        When ``copy=None`` and a copy is made for other reasons, the result is\n",
      "        the same as if ``copy=True``, with some exceptions for 'A', see the\n",
      "        Notes section. The default order is 'K'.\n",
      "    subok : bool, optional\n",
      "        If True, then sub-classes will be passed-through, otherwise\n",
      "        the returned array will be forced to be a base-class array (default).\n",
      "    ndmin : int, optional\n",
      "        Specifies the minimum number of dimensions that the resulting\n",
      "        array should have.  Ones will be prepended to the shape as\n",
      "        needed to meet this requirement.\n",
      "    like : array_like, optional\n",
      "        Reference object to allow the creation of arrays which are not\n",
      "        NumPy arrays. If an array-like passed in as ``like`` supports\n",
      "        the ``__array_function__`` protocol, the result will be defined\n",
      "        by it. In this case, it ensures the creation of an array object\n",
      "        compatible with that passed in via this argument.\n",
      "\n",
      "        .. versionadded:: 1.20.0\n",
      "\n",
      "    Returns\n",
      "    -------\n",
      "    out : ndarray\n",
      "        An array object satisfying the specified requirements.\n",
      "\n",
      "    See Also\n",
      "    --------\n",
      "    empty_like : Return an empty array with shape and type of input.\n",
      "    ones_like : Return an array of ones with shape and type of input.\n",
      "    zeros_like : Return an array of zeros with shape and type of input.\n",
      "    full_like : Return a new array with shape of input filled with value.\n",
      "    empty : Return a new uninitialized array.\n",
      "    ones : Return a new array setting values to one.\n",
      "    zeros : Return a new array setting values to zero.\n",
      "    full : Return a new array of given shape filled with value.\n",
      "    copy: Return an array copy of the given object.\n",
      "\n",
      "\n",
      "    Notes\n",
      "    -----\n",
      "    When order is 'A' and ``object`` is an array in neither 'C' nor 'F' order,\n",
      "    and a copy is forced by a change in dtype, then the order of the result is\n",
      "    not necessarily 'C' as expected. This is likely a bug.\n",
      "\n",
      "    Examples\n",
      "    --------\n",
      "    >>> import numpy as np\n",
      "    >>> np.array([1, 2, 3])\n",
      "    array([1, 2, 3])\n",
      "\n",
      "    Upcasting:\n",
      "\n",
      "    >>> np.array([1, 2, 3.0])\n",
      "    array([ 1.,  2.,  3.])\n",
      "\n",
      "    More than one dimension:\n",
      "\n",
      "    >>> np.array([[1, 2], [3, 4]])\n",
      "    array([[1, 2],\n",
      "           [3, 4]])\n",
      "\n",
      "    Minimum dimensions 2:\n",
      "\n",
      "    >>> np.array([1, 2, 3], ndmin=2)\n",
      "    array([[1, 2, 3]])\n",
      "\n",
      "    Type provided:\n",
      "\n",
      "    >>> np.array([1, 2, 3], dtype=complex)\n",
      "    array([ 1.+0.j,  2.+0.j,  3.+0.j])\n",
      "\n",
      "    Data-type consisting of more than one element:\n",
      "\n",
      "    >>> x = np.array([(1,2),(3,4)],dtype=[('a','<i4'),('b','<i4')])\n",
      "    >>> x['a']\n",
      "    array([1, 3], dtype=int32)\n",
      "\n",
      "    Creating an array from sub-classes:\n",
      "\n",
      "    >>> np.array(np.asmatrix('1 2; 3 4'))\n",
      "    array([[1, 2],\n",
      "           [3, 4]])\n",
      "\n",
      "    >>> np.array(np.asmatrix('1 2; 3 4'), subok=True)\n",
      "    matrix([[1, 2],\n",
      "            [3, 4]])\n",
      "\n"
     ]
    }
   ],
   "source": [
    "help(np.array)"
   ]
  },
  {
   "cell_type": "code",
   "execution_count": 7,
   "id": "2972edc7-45a5-40bb-8540-783132cf7c7f",
   "metadata": {},
   "outputs": [
    {
     "name": "stdout",
     "output_type": "stream",
     "text": [
      "shape is (4,) and size is 4\n"
     ]
    }
   ],
   "source": [
    "print(f\"shape is {a1D.shape} and size is {a1D.size}\")"
   ]
  },
  {
   "cell_type": "code",
   "execution_count": 195,
   "id": "16033a52-fbb0-40c7-8af5-b3806689c433",
   "metadata": {},
   "outputs": [
    {
     "data": {
      "text/plain": [
       "array([[1, 2],\n",
       "       [3, 4]])"
      ]
     },
     "execution_count": 195,
     "metadata": {},
     "output_type": "execute_result"
    }
   ],
   "source": [
    "# a list of lists will create a 2D array => A matrix: rows and columns.\n",
    "a2D = np.array([[1, 2], [3, 4]])\n",
    "a2D"
   ]
  },
  {
   "cell_type": "code",
   "execution_count": 196,
   "id": "51b3a49d-ff12-4218-933c-dd9a947bf5fa",
   "metadata": {},
   "outputs": [
    {
     "name": "stdout",
     "output_type": "stream",
     "text": [
      "shape is (2, 2) and size is 4\n"
     ]
    }
   ],
   "source": [
    "print(f\"shape is {a2D.shape} and size is {a2D.size}\")"
   ]
  },
  {
   "cell_type": "code",
   "execution_count": 9,
   "id": "a376edf0-9ddc-4a82-ba9a-6e83b6cd2002",
   "metadata": {},
   "outputs": [
    {
     "data": {
      "text/plain": [
       "list"
      ]
     },
     "execution_count": 9,
     "metadata": {},
     "output_type": "execute_result"
    }
   ],
   "source": [
    "# An array of matrices.\n",
    "# further nested lists will create higher-dimensional arrays. In general, any array object is called an ndarray in NumPy\n",
    "a3D_list = [\n",
    "    [\n",
    "        [1,2],[3,4]\n",
    "    ], [\n",
    "        [5,6],[7,8]\n",
    "    ]\n",
    "] \n",
    "type(a3D_list)"
   ]
  },
  {
   "cell_type": "code",
   "execution_count": 10,
   "id": "59916add-0c14-4610-8dab-3a59e7e14173",
   "metadata": {},
   "outputs": [
    {
     "data": {
      "text/plain": [
       "array([[[1, 2],\n",
       "        [3, 4]],\n",
       "\n",
       "       [[5, 6],\n",
       "        [7, 8]]])"
      ]
     },
     "execution_count": 10,
     "metadata": {},
     "output_type": "execute_result"
    }
   ],
   "source": [
    "a3D = np.array(a3D_list)\n",
    "a3D"
   ]
  },
  {
   "cell_type": "code",
   "execution_count": 197,
   "id": "77986fd8-b629-4cb3-9965-a9c4a45f04e9",
   "metadata": {},
   "outputs": [
    {
     "name": "stdout",
     "output_type": "stream",
     "text": [
      "shape is (2, 2, 2) and size is 8\n"
     ]
    }
   ],
   "source": [
    "print(f\"shape is {a3D.shape} and size is {a3D.size}\")"
   ]
  },
  {
   "cell_type": "markdown",
   "id": "06ece8ee-2c00-4620-957b-cb288f364aff",
   "metadata": {},
   "source": [
    "**Supported data types in numpy**"
   ]
  },
  {
   "cell_type": "code",
   "execution_count": null,
   "id": "794164cc-0e22-4543-bd47-776dd4e9f841",
   "metadata": {},
   "outputs": [],
   "source": [
    "# NumPy arrays (ndarray) are homogeneous, meaning all elements must be of the same data type."
   ]
  },
  {
   "cell_type": "code",
   "execution_count": 198,
   "id": "6cd1b3da-4e7a-4b5c-91c3-b5e5e69e83b3",
   "metadata": {},
   "outputs": [
    {
     "data": {
      "text/plain": [
       "array([1, 2, 3], dtype=int32)"
      ]
     },
     "execution_count": 198,
     "metadata": {},
     "output_type": "execute_result"
    }
   ],
   "source": [
    "np.array([1, 2, 3], dtype=np.int32)"
   ]
  },
  {
   "cell_type": "code",
   "execution_count": 199,
   "id": "47911f19-f112-46b9-a871-e1325d7e2d81",
   "metadata": {},
   "outputs": [
    {
     "data": {
      "text/plain": [
       "array([1.5, 2.7])"
      ]
     },
     "execution_count": 199,
     "metadata": {},
     "output_type": "execute_result"
    }
   ],
   "source": [
    "np.array([1.5, 2.7], dtype=np.float64)"
   ]
  },
  {
   "cell_type": "code",
   "execution_count": 206,
   "id": "17dc1dea-bafd-475f-9134-cfe8585bc1b7",
   "metadata": {},
   "outputs": [
    {
     "data": {
      "text/plain": [
       "array([1. , 2.7])"
      ]
     },
     "execution_count": 206,
     "metadata": {},
     "output_type": "execute_result"
    }
   ],
   "source": [
    "np.array([1, 2.7]) # NumPy automatically upcasts them to the most compatible common type."
   ]
  },
  {
   "cell_type": "code",
   "execution_count": 208,
   "id": "c8960d32-5811-43b4-9ef7-6025f35761ab",
   "metadata": {},
   "outputs": [
    {
     "data": {
      "text/plain": [
       "array([ True, False,  True])"
      ]
     },
     "execution_count": 208,
     "metadata": {},
     "output_type": "execute_result"
    }
   ],
   "source": [
    "np.array([True, False, True], dtype=bool)"
   ]
  },
  {
   "cell_type": "code",
   "execution_count": 213,
   "id": "32655a22-1ca9-4089-9aea-667b26071d60",
   "metadata": {},
   "outputs": [
    {
     "data": {
      "text/plain": [
       "array(['apple', 'banana'], dtype='<U10')"
      ]
     },
     "execution_count": 213,
     "metadata": {},
     "output_type": "execute_result"
    }
   ],
   "source": [
    "np.array(['apple', 'banana'], dtype='U10') # Little endian byte order - Unicode strings, each up to 10 characters long"
   ]
  },
  {
   "cell_type": "code",
   "execution_count": 166,
   "id": "9d8ae21c-1764-446b-ae4c-14abb937381d",
   "metadata": {},
   "outputs": [
    {
     "data": {
      "text/plain": [
       "array(['2023-01-01', '2023-02-01'], dtype='datetime64[D]')"
      ]
     },
     "execution_count": 166,
     "metadata": {},
     "output_type": "execute_result"
    }
   ],
   "source": [
    "np.array(['2023-01-01', '2023-02-01'], dtype='datetime64[D]')"
   ]
  },
  {
   "cell_type": "code",
   "execution_count": 11,
   "id": "909074bb-93c6-4883-b5b9-7a2de3e8b0b0",
   "metadata": {},
   "outputs": [
    {
     "data": {
      "text/plain": [
       "array(['1', 'b', '3'], dtype='<U21')"
      ]
     },
     "execution_count": 11,
     "metadata": {},
     "output_type": "execute_result"
    }
   ],
   "source": [
    "np.array([1, 'b', 3])"
   ]
  },
  {
   "cell_type": "code",
   "execution_count": 12,
   "id": "a5a5e4eb-81e1-460f-902e-7a2659f66578",
   "metadata": {},
   "outputs": [
    {
     "data": {
      "text/plain": [
       "array([1, 2, 3], dtype=int32)"
      ]
     },
     "execution_count": 12,
     "metadata": {},
     "output_type": "execute_result"
    }
   ],
   "source": [
    "np.array([1, '2', 3], dtype=np.int32)"
   ]
  },
  {
   "cell_type": "code",
   "execution_count": 13,
   "id": "f59a5e6a-b2d0-4089-87ba-37f084df86cc",
   "metadata": {},
   "outputs": [
    {
     "ename": "ValueError",
     "evalue": "invalid literal for int() with base 10: 'b'",
     "output_type": "error",
     "traceback": [
      "\u001b[31m---------------------------------------------------------------------------\u001b[39m",
      "\u001b[31mValueError\u001b[39m                                Traceback (most recent call last)",
      "\u001b[36mCell\u001b[39m\u001b[36m \u001b[39m\u001b[32mIn[13]\u001b[39m\u001b[32m, line 1\u001b[39m\n\u001b[32m----> \u001b[39m\u001b[32m1\u001b[39m np.array([\u001b[32m1\u001b[39m, \u001b[33m'\u001b[39m\u001b[33mb\u001b[39m\u001b[33m'\u001b[39m, \u001b[32m3\u001b[39m], dtype=np.int32)\n",
      "\u001b[31mValueError\u001b[39m: invalid literal for int() with base 10: 'b'"
     ]
    }
   ],
   "source": [
    "np.array([1, 'b', 3], dtype=np.int32)"
   ]
  },
  {
   "cell_type": "markdown",
   "id": "3682e942-bcd8-47f4-8451-193d61bb59e8",
   "metadata": {},
   "source": [
    "**record array or structured array**"
   ]
  },
  {
   "cell_type": "markdown",
   "id": "1431c1a1-09a7-4c10-a197-c9a04ff59ca0",
   "metadata": {},
   "source": [
    "- Structured arrays in NumPy are homogeneous at the array level (each element has the same layout).\n",
    "- We can specify a type and, optionally, a name on a per-column basis. This makes sorting and filtering even more powerful, and it can feel similar to working with data in Excel, CSVs, or relational databases."
   ]
  },
  {
   "cell_type": "code",
   "execution_count": null,
   "id": "3d1f2492-fc2f-4c68-867b-e06ead5133dd",
   "metadata": {},
   "outputs": [],
   "source": [
    "# Record arrays (also called structured arrays) in NumPy are indeed implemented similar to struct in C."
   ]
  },
  {
   "cell_type": "code",
   "execution_count": 15,
   "id": "fdf337a9-5e8c-4a4f-9f8c-06c8416a9ef2",
   "metadata": {},
   "outputs": [],
   "source": [
    "data = np.array([ (\"aman\", 22, 90),\n",
    "                 (\"ankit\", 15, 60), \n",
    "                 (\"akash\", 18, 90), \n",
    "                 (\"aditya\", 22, 80)], \n",
    "                dtype=[(\"name\", 'U15' ), (\"age\", np.int32), (\"marks\", int),]\n",
    "               )"
   ]
  },
  {
   "cell_type": "code",
   "execution_count": 16,
   "id": "a83a2cae-a165-4f56-b5f6-f29ddfca98aa",
   "metadata": {},
   "outputs": [
    {
     "data": {
      "text/plain": [
       "array([('aman', 22, 90), ('ankit', 15, 60), ('akash', 18, 90),\n",
       "       ('aditya', 22, 80)],\n",
       "      dtype=[('name', '<U15'), ('age', '<i4'), ('marks', '<i8')])"
      ]
     },
     "execution_count": 16,
     "metadata": {},
     "output_type": "execute_result"
    }
   ],
   "source": [
    "data"
   ]
  },
  {
   "cell_type": "markdown",
   "id": "5cb4b1ee-2b24-43f1-a5b4-849332bee738",
   "metadata": {},
   "source": [
    "**You can specify the dtype (data type) in several equivalent ways.**\n",
    "1. Using NumPy type strings (compact format) - `[(\"name\", \"U15\"), (\"age\", \"i4\"), (\"marks\", \"i4\")]`\n",
    "2. Using NumPy type objects (recommended) - `[(\"name\", np.unicode_), (\"age\", np.int32), (\"marks\", np.int32)]`\n",
    "3. Mixing Python built-in types and NumPy types - `[(\"name\", str), (\"age\", int), (\"marks\", np.int32)]`"
   ]
  },
  {
   "cell_type": "code",
   "execution_count": 17,
   "id": "d693c406-2024-4d07-a09d-9014d768ef4c",
   "metadata": {},
   "outputs": [
    {
     "name": "stdout",
     "output_type": "stream",
     "text": [
      "('aman', 22, 90)\n"
     ]
    }
   ],
   "source": [
    "print(data[0])"
   ]
  },
  {
   "cell_type": "code",
   "execution_count": 18,
   "id": "8185daca-fd2c-4410-9104-da1f78bfb450",
   "metadata": {},
   "outputs": [
    {
     "data": {
      "text/plain": [
       "array(['aman', 'ankit', 'akash', 'aditya'], dtype='<U15')"
      ]
     },
     "execution_count": 18,
     "metadata": {},
     "output_type": "execute_result"
    }
   ],
   "source": [
    "data[\"name\"]"
   ]
  },
  {
   "cell_type": "markdown",
   "id": "edc2fa68-6997-4d40-8766-fe964ce58c53",
   "metadata": {},
   "source": [
    "### By default, NumPy arrays (ndarray) are homogeneous, meaning all elements must be of the same data type."
   ]
  },
  {
   "cell_type": "markdown",
   "id": "96fd2741-c247-4e20-ba69-d98a98517c1b",
   "metadata": {},
   "source": [
    "- **Homogeneous arrays allow:**\n",
    "  1. Vectorized operations  \n",
    "  2. Efficient memory layout (contiguous blocks)  \n",
    "  3. Fast computations using C under the hood  \n",
    "\n",
    "- **NumPy** is designed for arrays of fixed-size elements — typically numerical data types (integers, floats), but also supports strings, booleans, dates, and custom structured types.\n",
    "\n",
    "- All elements in a **NumPy array** share the same data type (`dtype`).\n",
    "\n",
    "- The data is stored in a **contiguous block of memory** for efficiency.\n"
   ]
  },
  {
   "cell_type": "markdown",
   "id": "2bf2feab-513e-4d61-bb15-49a33ec52dcf",
   "metadata": {},
   "source": [
    "It can support heterogeneous types using object arrays or structured dtypes, but these lose most performance benefits."
   ]
  },
  {
   "cell_type": "code",
   "execution_count": 26,
   "id": "c385e9b6-ef3e-46a3-828f-473d0b4a86a4",
   "metadata": {},
   "outputs": [
    {
     "data": {
      "text/plain": [
       "array(['1', 'b', '3', 'True', '6.5'], dtype='<U32')"
      ]
     },
     "execution_count": 26,
     "metadata": {},
     "output_type": "execute_result"
    }
   ],
   "source": [
    "het = np.array([1, 'b', 3, True, 6.5])\n",
    "het"
   ]
  },
  {
   "cell_type": "code",
   "execution_count": 27,
   "id": "c6e63480-bf14-45ed-b7ec-759de24550b4",
   "metadata": {},
   "outputs": [
    {
     "data": {
      "text/plain": [
       "dtype('<U32')"
      ]
     },
     "execution_count": 27,
     "metadata": {},
     "output_type": "execute_result"
    }
   ],
   "source": [
    "het.dtype # Little endian byte order - Unicode strings, each up to 21 characters long"
   ]
  },
  {
   "cell_type": "code",
   "execution_count": 28,
   "id": "bab718f0-21e2-4d29-9800-79cbca20ca7a",
   "metadata": {},
   "outputs": [
    {
     "name": "stdout",
     "output_type": "stream",
     "text": [
      "<class 'numpy.str_'>\n"
     ]
    }
   ],
   "source": [
    "print(type(het[0]))"
   ]
  },
  {
   "cell_type": "code",
   "execution_count": 29,
   "id": "c4551d87-88e4-470a-af65-c391c7b7e164",
   "metadata": {},
   "outputs": [
    {
     "data": {
      "text/plain": [
       "array([1, 'b', 3, True, 6.5], dtype=object)"
      ]
     },
     "execution_count": 29,
     "metadata": {},
     "output_type": "execute_result"
    }
   ],
   "source": [
    "# NumPy treats this as an array of generic Python objects.\n",
    "# You lose all vectorized speed benefits of NumPy.\n",
    "# Operations like +, broadcasting, etc., don't work efficiently.\n",
    "het = np.array([1, 'b', 3, True, 6.5], dtype=object)\n",
    "het"
   ]
  },
  {
   "cell_type": "code",
   "execution_count": 30,
   "id": "d5b7bbd7-5b3a-4b4f-ac33-70b8bea186b9",
   "metadata": {},
   "outputs": [
    {
     "data": {
      "text/plain": [
       "dtype('O')"
      ]
     },
     "execution_count": 30,
     "metadata": {},
     "output_type": "execute_result"
    }
   ],
   "source": [
    "het.dtype"
   ]
  },
  {
   "cell_type": "code",
   "execution_count": 31,
   "id": "9b71293f-5055-413d-8e80-49c51f061d14",
   "metadata": {},
   "outputs": [
    {
     "name": "stdout",
     "output_type": "stream",
     "text": [
      "<class 'int'>\n"
     ]
    }
   ],
   "source": [
    "print(type(het[0]))"
   ]
  },
  {
   "cell_type": "markdown",
   "id": "ffcbdb36-ded2-40b9-be39-f9c137dc30d6",
   "metadata": {},
   "source": [
    "---"
   ]
  },
  {
   "cell_type": "code",
   "execution_count": 2,
   "id": "fd899b15-ff7d-4848-a722-3a46a4280359",
   "metadata": {},
   "outputs": [],
   "source": [
    "import numpy as np"
   ]
  },
  {
   "cell_type": "markdown",
   "id": "fb1c1243-4501-4028-98d7-e5661ac08b9e",
   "metadata": {},
   "source": [
    "**From built-in python containers (Lists, Tuples etc)**"
   ]
  },
  {
   "cell_type": "code",
   "execution_count": 3,
   "id": "58bdf871-a350-42c7-aa30-7ab81bd4ad44",
   "metadata": {},
   "outputs": [
    {
     "data": {
      "text/plain": [
       "array([1, 2, 3, 4])"
      ]
     },
     "execution_count": 3,
     "metadata": {},
     "output_type": "execute_result"
    }
   ],
   "source": [
    "# using list\n",
    "np.array([1, 2, 3, 4])"
   ]
  },
  {
   "cell_type": "code",
   "execution_count": 4,
   "id": "e51377e2-4020-4033-a40b-831faae5ffce",
   "metadata": {},
   "outputs": [
    {
     "data": {
      "text/plain": [
       "array([1, 2, 3, 4])"
      ]
     },
     "execution_count": 4,
     "metadata": {},
     "output_type": "execute_result"
    }
   ],
   "source": [
    "# using tuples\n",
    "np.array((1, 2, 3, 4))"
   ]
  },
  {
   "cell_type": "markdown",
   "id": "34e70046-f43a-4f75-8573-0a4479c6fcab",
   "metadata": {},
   "source": [
    "**Upcasting in Numpy**\n",
    "- Upcasting in NumPy refers to the automatic conversion of data types when performing operations involving arrays of different types, so that no data is lost and the result has a compatible type that can hold all input values."
   ]
  },
  {
   "cell_type": "code",
   "execution_count": 5,
   "id": "2fd90c59-286a-4e21-b6b1-d5b760ec36b2",
   "metadata": {},
   "outputs": [
    {
     "data": {
      "text/plain": [
       "array([1.  , 2.  , 3.05])"
      ]
     },
     "execution_count": 5,
     "metadata": {},
     "output_type": "execute_result"
    }
   ],
   "source": [
    "np.array([1, 2, 3.05])"
   ]
  },
  {
   "cell_type": "markdown",
   "id": "8f779ffa-5491-480f-8236-86e08fa4e851",
   "metadata": {},
   "source": [
    "**Two Dimensional numpy array**"
   ]
  },
  {
   "cell_type": "code",
   "execution_count": 6,
   "id": "fdab7c1e-ee03-4023-9fa0-dd09ddaaf00f",
   "metadata": {},
   "outputs": [
    {
     "data": {
      "text/plain": [
       "array([[1, 2, 3],\n",
       "       [4, 5, 6]])"
      ]
     },
     "execution_count": 6,
     "metadata": {},
     "output_type": "execute_result"
    }
   ],
   "source": [
    "np.array([[1,2,3],[4,5,6]])"
   ]
  },
  {
   "cell_type": "markdown",
   "id": "5a01ed17-bdd0-477d-a795-1f73bebf8c97",
   "metadata": {},
   "source": [
    "**Minimum dimensions 2**"
   ]
  },
  {
   "cell_type": "code",
   "execution_count": 7,
   "id": "7539eec0-c30f-4a40-9d70-19a5b861dbab",
   "metadata": {},
   "outputs": [
    {
     "data": {
      "text/plain": [
       "array([[1, 2, 3]])"
      ]
     },
     "execution_count": 7,
     "metadata": {},
     "output_type": "execute_result"
    }
   ],
   "source": [
    "np.array([1, 2, 3], ndmin=2)"
   ]
  },
  {
   "cell_type": "markdown",
   "id": "904ef45f-7645-415e-900b-a0fa8fbb9fa6",
   "metadata": {},
   "source": [
    "**dtype**"
   ]
  },
  {
   "cell_type": "code",
   "execution_count": 8,
   "id": "b8cce463-1dc2-48ae-ac0e-0c59eb48ab30",
   "metadata": {},
   "outputs": [
    {
     "data": {
      "text/plain": [
       "array([1.+0.j, 2.+0.j, 3.+0.j])"
      ]
     },
     "execution_count": 8,
     "metadata": {},
     "output_type": "execute_result"
    }
   ],
   "source": [
    " np.array([1, 2, 3], dtype=complex)"
   ]
  },
  {
   "cell_type": "markdown",
   "id": "c2a95760-9485-430a-b490-0b7e9321cf0c",
   "metadata": {},
   "source": [
    "**data consisting of more than one Data-type**"
   ]
  },
  {
   "cell_type": "code",
   "execution_count": 12,
   "id": "f678b541-648f-446f-b29f-bdd5dd6b1b94",
   "metadata": {},
   "outputs": [],
   "source": [
    "x = np.array([(1,2),(3,4.2)],dtype=[('a','i4'),('b',np.float32)])"
   ]
  },
  {
   "cell_type": "code",
   "execution_count": 13,
   "id": "10f2903b-5803-484a-a2a3-1103c6101882",
   "metadata": {},
   "outputs": [
    {
     "data": {
      "text/plain": [
       "array([(1, 2. ), (3, 4.2)], dtype=[('a', '<i4'), ('b', '<f4')])"
      ]
     },
     "execution_count": 13,
     "metadata": {},
     "output_type": "execute_result"
    }
   ],
   "source": [
    "x"
   ]
  },
  {
   "cell_type": "code",
   "execution_count": 14,
   "id": "54be9eb0-00bd-465a-9ba6-956b88e93317",
   "metadata": {},
   "outputs": [
    {
     "data": {
      "text/plain": [
       "array([1, 3], dtype=int32)"
      ]
     },
     "execution_count": 14,
     "metadata": {},
     "output_type": "execute_result"
    }
   ],
   "source": [
    "x['a']"
   ]
  },
  {
   "cell_type": "code",
   "execution_count": 15,
   "id": "32702854-a43b-4588-a845-98553b3d26c6",
   "metadata": {},
   "outputs": [
    {
     "data": {
      "text/plain": [
       "array([2. , 4.2], dtype=float32)"
      ]
     },
     "execution_count": 15,
     "metadata": {},
     "output_type": "execute_result"
    }
   ],
   "source": [
    "x['b']"
   ]
  },
  {
   "cell_type": "markdown",
   "id": "81bf7f91-bae4-4adf-909a-60039f310051",
   "metadata": {},
   "source": [
    "**np.asarray**"
   ]
  },
  {
   "cell_type": "code",
   "execution_count": null,
   "id": "8f62ecfe-46d4-4f51-9fd5-8ce8371a8df3",
   "metadata": {},
   "outputs": [],
   "source": [
    "np.array() => Always creates a new array (i.e., it copies data). Even if the input is already a NumPy array\n",
    "np.asarray() => Just ensure object is a NumPy array"
   ]
  },
  {
   "cell_type": "code",
   "execution_count": 16,
   "id": "4366eb34-875a-41f5-81eb-f348aff84eca",
   "metadata": {},
   "outputs": [],
   "source": [
    " a = [1, 2]"
   ]
  },
  {
   "cell_type": "code",
   "execution_count": 17,
   "id": "5fa6f4f0-bc69-4cdd-826e-4100e13119fd",
   "metadata": {},
   "outputs": [
    {
     "data": {
      "text/plain": [
       "array([1, 2])"
      ]
     },
     "execution_count": 17,
     "metadata": {},
     "output_type": "execute_result"
    }
   ],
   "source": [
    "np.asarray(a)"
   ]
  },
  {
   "cell_type": "code",
   "execution_count": 18,
   "id": "d5566e0c-d96d-41b0-b6df-ec4e7ca92b58",
   "metadata": {},
   "outputs": [
    {
     "data": {
      "text/plain": [
       "[1, 2]"
      ]
     },
     "execution_count": 18,
     "metadata": {},
     "output_type": "execute_result"
    }
   ],
   "source": [
    "a"
   ]
  },
  {
   "cell_type": "code",
   "execution_count": 19,
   "id": "013f140d-0e51-490d-b840-21dd8f4498bc",
   "metadata": {},
   "outputs": [],
   "source": [
    "a = np.array([1, 2]) #Existing arrays are not copied"
   ]
  },
  {
   "cell_type": "code",
   "execution_count": 20,
   "id": "b09dc346-061c-49b9-bc88-a70e3ea9ad4b",
   "metadata": {},
   "outputs": [
    {
     "data": {
      "text/plain": [
       "True"
      ]
     },
     "execution_count": 20,
     "metadata": {},
     "output_type": "execute_result"
    }
   ],
   "source": [
    "np.asarray(a) is a"
   ]
  },
  {
   "cell_type": "markdown",
   "id": "e51c346b-75f8-4669-8c81-8329c0889647",
   "metadata": {},
   "source": [
    "**If dtype is set, array is copied only if dtype does not match:**"
   ]
  },
  {
   "cell_type": "code",
   "execution_count": 29,
   "id": "01ca11fd-09bd-4b44-a016-634eca7fb90f",
   "metadata": {},
   "outputs": [],
   "source": [
    "a = np.array([1, 2], dtype=np.float32)"
   ]
  },
  {
   "cell_type": "code",
   "execution_count": 30,
   "id": "3824a50a-53ae-42ad-886f-26465c1325b7",
   "metadata": {},
   "outputs": [
    {
     "data": {
      "text/plain": [
       "True"
      ]
     },
     "execution_count": 30,
     "metadata": {},
     "output_type": "execute_result"
    }
   ],
   "source": [
    "np.asarray(a, dtype=np.float32) is a"
   ]
  },
  {
   "cell_type": "code",
   "execution_count": 31,
   "id": "d04cfef0-d091-40ea-913d-a1e107c67f3c",
   "metadata": {},
   "outputs": [
    {
     "data": {
      "text/plain": [
       "array([1., 2.], dtype=float32)"
      ]
     },
     "execution_count": 31,
     "metadata": {},
     "output_type": "execute_result"
    }
   ],
   "source": [
    "a"
   ]
  },
  {
   "cell_type": "code",
   "execution_count": 21,
   "id": "76697f94-0f92-4e31-b6bb-e7e2bb9b29e6",
   "metadata": {},
   "outputs": [
    {
     "data": {
      "text/plain": [
       "False"
      ]
     },
     "execution_count": 21,
     "metadata": {},
     "output_type": "execute_result"
    }
   ],
   "source": [
    "np.asarray(a, dtype=np.float64) is a"
   ]
  },
  {
   "cell_type": "markdown",
   "id": "058d9a1f-8009-417e-bed7-3cac04f39257",
   "metadata": {},
   "source": [
    "**numpy.copy**"
   ]
  },
  {
   "cell_type": "code",
   "execution_count": 22,
   "id": "0e158ea1-6459-40fa-8668-39de46111c2b",
   "metadata": {},
   "outputs": [
    {
     "data": {
      "text/plain": [
       "array([1, 2])"
      ]
     },
     "execution_count": 22,
     "metadata": {},
     "output_type": "execute_result"
    }
   ],
   "source": [
    "a"
   ]
  },
  {
   "cell_type": "code",
   "execution_count": 24,
   "id": "498d5f53-83bf-4280-bebb-038d72949c3f",
   "metadata": {},
   "outputs": [
    {
     "data": {
      "text/plain": [
       "False"
      ]
     },
     "execution_count": 24,
     "metadata": {},
     "output_type": "execute_result"
    }
   ],
   "source": [
    "np.array(a, copy=True)  is a"
   ]
  },
  {
   "cell_type": "code",
   "execution_count": 25,
   "id": "22a1609e-2b93-4554-8d1f-b07c81c7928d",
   "metadata": {},
   "outputs": [
    {
     "data": {
      "text/plain": [
       "True"
      ]
     },
     "execution_count": 25,
     "metadata": {},
     "output_type": "execute_result"
    }
   ],
   "source": [
    "np.array(a, copy=False)  is a"
   ]
  },
  {
   "cell_type": "markdown",
   "id": "ca09819d-e58d-4e90-96b6-107a45bf7f35",
   "metadata": {},
   "source": [
    "**Create an array x, with a reference y and a copy z**"
   ]
  },
  {
   "cell_type": "code",
   "execution_count": 26,
   "id": "74d4ac88-b329-48e4-832d-340cb2a41617",
   "metadata": {},
   "outputs": [],
   "source": [
    "x = np.array([1, 2, 3])"
   ]
  },
  {
   "cell_type": "code",
   "execution_count": 27,
   "id": "5286bcd8-364d-4267-9a6c-425420644339",
   "metadata": {},
   "outputs": [],
   "source": [
    "y = x"
   ]
  },
  {
   "cell_type": "code",
   "execution_count": 28,
   "id": "7ebaf854-5766-4b3f-b8fb-92a4cd3b5290",
   "metadata": {},
   "outputs": [],
   "source": [
    "z = np.copy(x)"
   ]
  },
  {
   "cell_type": "markdown",
   "id": "ddd26368-d134-4d84-9c72-593e272e687d",
   "metadata": {},
   "source": [
    "**when we modify x, y changes, but not z**"
   ]
  },
  {
   "cell_type": "code",
   "execution_count": 29,
   "id": "440692aa-1667-4618-9c1a-6f8180082479",
   "metadata": {},
   "outputs": [],
   "source": [
    "x[0] = 10"
   ]
  },
  {
   "cell_type": "code",
   "execution_count": 30,
   "id": "50946d8c-48fb-4c11-b92f-6677767632b6",
   "metadata": {},
   "outputs": [
    {
     "data": {
      "text/plain": [
       "array([10,  2,  3])"
      ]
     },
     "execution_count": 30,
     "metadata": {},
     "output_type": "execute_result"
    }
   ],
   "source": [
    "x"
   ]
  },
  {
   "cell_type": "code",
   "execution_count": 31,
   "id": "59b0431e-470d-4c00-91a9-3bc086ffa228",
   "metadata": {},
   "outputs": [
    {
     "data": {
      "text/plain": [
       "array([10,  2,  3])"
      ]
     },
     "execution_count": 31,
     "metadata": {},
     "output_type": "execute_result"
    }
   ],
   "source": [
    "y"
   ]
  },
  {
   "cell_type": "code",
   "execution_count": 32,
   "id": "2ac146b8-429d-4ce5-a999-71a7987a1d26",
   "metadata": {},
   "outputs": [
    {
     "data": {
      "text/plain": [
       "array([1, 2, 3])"
      ]
     },
     "execution_count": 32,
     "metadata": {},
     "output_type": "execute_result"
    }
   ],
   "source": [
    "z"
   ]
  },
  {
   "cell_type": "markdown",
   "id": "da76af57-959d-4571-99fa-9f88a02df25e",
   "metadata": {},
   "source": [
    "**Read and write data from a file**"
   ]
  },
  {
   "cell_type": "markdown",
   "id": "7cfe78b4-5052-4a7f-a652-e214f51f1a40",
   "metadata": {},
   "source": [
    "**Text Files (.txt, .csv)**"
   ]
  },
  {
   "cell_type": "code",
   "execution_count": 34,
   "id": "be915be9-f414-415e-ac3b-3094c51dd37d",
   "metadata": {},
   "outputs": [
    {
     "name": "stdout",
     "output_type": "stream",
     "text": [
      "[[1. 2. 3.]\n",
      " [4. 5. 6.]\n",
      " [7. 8. 9.]]\n"
     ]
    }
   ],
   "source": [
    "data = np.loadtxt(\"data.txt\", delimiter=\",\")\n",
    "print(data)"
   ]
  },
  {
   "cell_type": "code",
   "execution_count": 35,
   "id": "e0d3d741-242a-461a-9809-3038d564781b",
   "metadata": {},
   "outputs": [
    {
     "data": {
      "text/plain": [
       "array([[ 1.,  4.,  9.],\n",
       "       [16., 25., 36.],\n",
       "       [49., 64., 81.]])"
      ]
     },
     "execution_count": 35,
     "metadata": {},
     "output_type": "execute_result"
    }
   ],
   "source": [
    "data = data ** 2\n",
    "data"
   ]
  },
  {
   "cell_type": "code",
   "execution_count": 38,
   "id": "b362413e-df05-4d9a-bfad-4f9107ed2271",
   "metadata": {},
   "outputs": [],
   "source": [
    "np.savetxt(\"output_data.txt\", data,fmt=\"%d\")"
   ]
  },
  {
   "cell_type": "markdown",
   "id": "ebbc0143-ee29-4910-aaea-6f790eed47c7",
   "metadata": {},
   "source": [
    "**Binary Files (.npy, .npz)**"
   ]
  },
  {
   "cell_type": "code",
   "execution_count": 39,
   "id": "02f6f887-1e5b-4f39-8bd8-21570c974dc3",
   "metadata": {},
   "outputs": [],
   "source": [
    "arr = np.array([1, 2, 3, 4])\n",
    "np.save(\"array.npy\", arr)"
   ]
  },
  {
   "cell_type": "code",
   "execution_count": 40,
   "id": "2609eb58-9763-4e23-bae8-d71cc4246cf8",
   "metadata": {},
   "outputs": [
    {
     "name": "stdout",
     "output_type": "stream",
     "text": [
      "[1 2 3 4]\n"
     ]
    }
   ],
   "source": [
    "arr = np.load(\"array.npy\")\n",
    "print(arr)"
   ]
  },
  {
   "cell_type": "code",
   "execution_count": 41,
   "id": "139c7200-a970-4f99-8d9e-aaed764796ab",
   "metadata": {},
   "outputs": [],
   "source": [
    "# Save multiple arrays\n",
    "a = np.array([1, 2, 3])\n",
    "b = np.array([4, 5, 6])\n",
    "np.savez(\"arrays.npz\", arr1=a, arr2=b)"
   ]
  },
  {
   "cell_type": "code",
   "execution_count": 42,
   "id": "8a59dfec-dcef-4cab-928e-b5d5c43e5e2d",
   "metadata": {},
   "outputs": [
    {
     "name": "stdout",
     "output_type": "stream",
     "text": [
      "[1 2 3]\n",
      "[4 5 6]\n"
     ]
    }
   ],
   "source": [
    "# Load them back\n",
    "data = np.load(\"arrays.npz\")\n",
    "print(data[\"arr1\"])  # [1 2 3]\n",
    "print(data[\"arr2\"])  # [4 5 6]"
   ]
  },
  {
   "cell_type": "markdown",
   "id": "62169314-598f-4c24-ba9d-d309217cf6d5",
   "metadata": {},
   "source": [
    "| File Format     | Read Function                | Write Function                   | Notes                               |\n",
    "| --------------- | ---------------------------- | -------------------------------- | ----------------------------------- |\n",
    "| `.txt` / `.csv` | `loadtxt()` / `genfromtxt()` | `savetxt()`                      | Use delimiter for custom separators |\n",
    "| `.npy`          | `load()`                     | `save()`                         | For single array (binary)           |\n",
    "| `.npz`          | `load()`                     | `savez()` / `savez_compressed()` | For multiple arrays                 |\n"
   ]
  },
  {
   "cell_type": "markdown",
   "id": "27fcf352-8d79-4034-8cf5-f411e32babc2",
   "metadata": {},
   "source": [
    "**Advantages of .npy and .npz over Text Files**\n",
    "| Feature                  | `.npy` / `.npz` (Binary)                            | `.txt` / `.csv` (Text)                          |\n",
    "| ------------------------ | --------------------------------------------------- | ----------------------------------------------- |\n",
    "| **Efficiency**        | Much faster to read/write                           | Slower I/O                                      |\n",
    "| **Storage Size**      | More compact                                        | Larger file size                                |\n",
    "| **Multiple Arrays**   | `.npz` can store many arrays in one file            | Not supported; need multiple files              |\n",
    "| **No Parsing Needed** | Directly loads as NumPy array                       | Needs delimiter, dtype parsing                  |\n",
    "| **More Reliable**     | No risk of formatting issues                        | Sensitive to extra spaces, missing values, etc. |\n"
   ]
  },
  {
   "cell_type": "markdown",
   "id": "49d81781-08a9-4313-9155-f91ca410c556",
   "metadata": {},
   "source": [
    "**numpy.fromfunction**"
   ]
  },
  {
   "cell_type": "code",
   "execution_count": null,
   "id": "7faefb37-03e2-4f47-8507-9270eae58feb",
   "metadata": {},
   "outputs": [],
   "source": [
    "#It constructs an array by calling a function on each coordinate/index of the desired shape."
   ]
  },
  {
   "cell_type": "code",
   "execution_count": 69,
   "id": "6a064f87-185d-45dd-b337-a72e20fc74b1",
   "metadata": {},
   "outputs": [
    {
     "data": {
      "text/plain": [
       "array([[ True, False, False],\n",
       "       [False,  True, False],\n",
       "       [False, False,  True]])"
      ]
     },
     "execution_count": 69,
     "metadata": {},
     "output_type": "execute_result"
    }
   ],
   "source": [
    "np.fromfunction(lambda i, j: i == j, (3, 3), dtype=int)"
   ]
  },
  {
   "cell_type": "code",
   "execution_count": 70,
   "id": "90736907-2d55-49ec-a1e7-63b1f1469a31",
   "metadata": {},
   "outputs": [
    {
     "data": {
      "text/plain": [
       "array([[0, 1, 2],\n",
       "       [1, 2, 3],\n",
       "       [2, 3, 4]])"
      ]
     },
     "execution_count": 70,
     "metadata": {},
     "output_type": "execute_result"
    }
   ],
   "source": [
    "np.fromfunction(lambda i, j: i + j, (3, 3), dtype=int)"
   ]
  },
  {
   "cell_type": "code",
   "execution_count": null,
   "id": "df6c43dc-b848-4b38-a6f8-b4bc1b23b0b7",
   "metadata": {},
   "outputs": [],
   "source": [
    "#Create a new 1-dimensional array from an iterable object."
   ]
  },
  {
   "cell_type": "code",
   "execution_count": 71,
   "id": "0e68c578-db93-45b7-8f19-f3152c62cf73",
   "metadata": {},
   "outputs": [],
   "source": [
    "iterable = (x*x for x in range(5)) #generator"
   ]
  },
  {
   "cell_type": "code",
   "execution_count": 72,
   "id": "a08457cf-a27f-4dce-bcc1-69ee6c9d5543",
   "metadata": {},
   "outputs": [
    {
     "data": {
      "text/plain": [
       "<generator object <genexpr> at 0x00000218D20552F0>"
      ]
     },
     "execution_count": 72,
     "metadata": {},
     "output_type": "execute_result"
    }
   ],
   "source": [
    "iterable"
   ]
  },
  {
   "cell_type": "code",
   "execution_count": 73,
   "id": "653927eb-54f3-4d1e-91b3-beaa1abc7056",
   "metadata": {},
   "outputs": [
    {
     "data": {
      "text/plain": [
       "array([ 0.,  1.,  4.,  9., 16.])"
      ]
     },
     "execution_count": 73,
     "metadata": {},
     "output_type": "execute_result"
    }
   ],
   "source": [
    "np.fromiter(iterable, float)"
   ]
  },
  {
   "cell_type": "code",
   "execution_count": 74,
   "id": "6223897a-aa69-4790-835a-960c6b5ea83f",
   "metadata": {},
   "outputs": [],
   "source": [
    "#A new 1-D array initialized from text data in a string"
   ]
  },
  {
   "cell_type": "code",
   "execution_count": 75,
   "id": "5c58970c-43fc-463d-9a67-1ebfbf448f3e",
   "metadata": {},
   "outputs": [
    {
     "data": {
      "text/plain": [
       "array([1, 2])"
      ]
     },
     "execution_count": 75,
     "metadata": {},
     "output_type": "execute_result"
    }
   ],
   "source": [
    "np.fromstring('1 2', dtype=int, sep=' ')"
   ]
  },
  {
   "cell_type": "code",
   "execution_count": 76,
   "id": "8ce75fc3-f827-4a4e-8708-b448867a2c73",
   "metadata": {},
   "outputs": [
    {
     "data": {
      "text/plain": [
       "array([1, 2])"
      ]
     },
     "execution_count": 76,
     "metadata": {},
     "output_type": "execute_result"
    }
   ],
   "source": [
    "np.fromstring('1, 2', dtype=int, sep=',')"
   ]
  },
  {
   "cell_type": "markdown",
   "id": "9dc79364-1883-4d19-95b2-846d71b8060f",
   "metadata": {},
   "source": [
    "**create a record array from a (flat) list of arrays**"
   ]
  },
  {
   "cell_type": "code",
   "execution_count": 44,
   "id": "7c4d38d7-7360-40c7-88a5-4719a9ebce07",
   "metadata": {},
   "outputs": [],
   "source": [
    "x1 = [1, 2, 3]"
   ]
  },
  {
   "cell_type": "code",
   "execution_count": 45,
   "id": "b73cdb52-7118-45a2-af24-693d66bfd3be",
   "metadata": {},
   "outputs": [],
   "source": [
    "x2 = [4.0, 5.0, 6.0] "
   ]
  },
  {
   "cell_type": "code",
   "execution_count": 46,
   "id": "5af7a692-4eb1-4cff-a6a7-dad0e56f8465",
   "metadata": {},
   "outputs": [],
   "source": [
    "x3 = ['a', 'b', 'c']"
   ]
  },
  {
   "cell_type": "code",
   "execution_count": 49,
   "id": "98c331e1-cd0e-498e-bf56-440cfa85a1f0",
   "metadata": {},
   "outputs": [
    {
     "data": {
      "text/plain": [
       "[(1, 4.0, 'a'), (2, 5.0, 'b'), (3, 6.0, 'c')]"
      ]
     },
     "execution_count": 49,
     "metadata": {},
     "output_type": "execute_result"
    }
   ],
   "source": [
    "list(zip(x1, x2, x3))"
   ]
  },
  {
   "cell_type": "code",
   "execution_count": 86,
   "id": "21a349bd-f1c5-44f5-a86a-7a4a3e1bedbb",
   "metadata": {},
   "outputs": [
    {
     "name": "stdout",
     "output_type": "stream",
     "text": [
      "[(1, 4., 'a') (2, 5., 'b') (3, 6., 'c')]\n",
      "[1 2 3]\n"
     ]
    }
   ],
   "source": [
    "r = np.array(list(zip(x1, x2, x3)), dtype=[('a', 'i4'), ('b', 'f4'), ('c', 'U1')])\n",
    "print(r)\n",
    "print(r['a'])\n"
   ]
  },
  {
   "cell_type": "markdown",
   "id": "36d8be0b-0213-446c-b6d6-f30082e5fc6b",
   "metadata": {},
   "source": [
    "**data types**"
   ]
  },
  {
   "cell_type": "code",
   "execution_count": 89,
   "id": "ef5686d8-d4e0-4398-90b8-d705d966526a",
   "metadata": {},
   "outputs": [
    {
     "name": "stdout",
     "output_type": "stream",
     "text": [
      "Type/Class of this object: <class 'numpy.ndarray'>\n",
      "Here is the vector\n",
      "--------------------\n",
      " [1 2 3]\n"
     ]
    }
   ],
   "source": [
    "my_list = [1,2,3]\n",
    "import numpy as np\n",
    "arr = np.array(my_list)\n",
    "print(\"Type/Class of this object:\",type(arr))\n",
    "print(\"Here is the vector\\n--------------------\\n\",arr)"
   ]
  },
  {
   "cell_type": "code",
   "execution_count": 52,
   "id": "47417613-41b1-4aef-a158-28825595b593",
   "metadata": {},
   "outputs": [
    {
     "name": "stdout",
     "output_type": "stream",
     "text": [
      "Type/Class of this object: <class 'numpy.ndarray'>\n",
      "Here is the matrix\n",
      "----------\n",
      " [[1 2 3]\n",
      " [4 5 6]\n",
      " [7 8 9]] \n",
      "----------\n",
      "Dimension of this matrix: 2\n"
     ]
    }
   ],
   "source": [
    "my_mat = [[1,2,3],[4,5,6],[7,8,9]]\n",
    "mat = np.array(my_mat)\n",
    "\n",
    "print(\"Type/Class of this object:\",type(mat))\n",
    "print(\"Here is the matrix\\n----------\\n\",mat,\"\\n----------\")\n",
    "\n",
    "#ndim gives the dimensison, 2 for a matrix, 1 for a vector\n",
    "print(\"Dimension of this matrix: \",mat.ndim,sep='')"
   ]
  },
  {
   "cell_type": "code",
   "execution_count": 51,
   "id": "4362eb25-471b-45b6-9dee-9f6862c0e315",
   "metadata": {},
   "outputs": [
    {
     "name": "stdout",
     "output_type": "stream",
     "text": [
      "Size of this matrix: 9\n",
      "Shape of this matrix: (3, 3)\n",
      "Data type of this matrix: int64\n"
     ]
    }
   ],
   "source": [
    "#size gives the total number of elements\n",
    "print(\"Size of this matrix: \", mat.size,sep='')\n",
    "\n",
    "#shape gives the number of elements along each axes (dimension)\n",
    "print(\"Shape of this matrix: \", mat.shape,sep='') \n",
    "\n",
    "#dtype gives the data type contained in the array\n",
    "print(\"Data type of this matrix: \", mat.dtype,sep='') "
   ]
  },
  {
   "cell_type": "code",
   "execution_count": 53,
   "id": "1a8441c0-10a0-4098-8dc1-9d2f68e4e6a5",
   "metadata": {},
   "outputs": [
    {
     "name": "stdout",
     "output_type": "stream",
     "text": [
      "Data type of the modified matrix: float64\n"
     ]
    }
   ],
   "source": [
    "my_mat = [[1.1,2,3],[4,5.2,6],[7,8.3,9]]\n",
    "mat = np.array(my_mat)\n",
    "\n",
    "print(\"Data type of the modified matrix: \", mat.dtype,sep='') \n",
    "#dtype gives the data type contained in the array"
   ]
  },
  {
   "cell_type": "code",
   "execution_count": 54,
   "id": "3023421a-54b3-4822-8e30-e634b9bad955",
   "metadata": {},
   "outputs": [
    {
     "name": "stdout",
     "output_type": "stream",
     "text": [
      "Matrix made from tuples, not lists\n",
      "---------------------------------------\n",
      "[[1.5 2.  3. ]\n",
      " [4.  5.  6. ]]\n"
     ]
    }
   ],
   "source": [
    "b = np.array([(1.5,2,3), (4,5,6)])\n",
    "\n",
    "print(\"Matrix made from tuples, not lists\\n---------------------------------------\")\n",
    "print(b)"
   ]
  },
  {
   "cell_type": "markdown",
   "id": "23bb0726-648e-4dc9-8e4c-5ca2572b9ce2",
   "metadata": {},
   "source": [
    "## Numpy-5 : Creating NumPy Arrays and Matrix Using Built-in Functions"
   ]
  },
  {
   "cell_type": "markdown",
   "id": "fb7bd4fa-00c6-4679-a034-29f2ff247071",
   "metadata": {},
   "source": [
    "**arange and linspace**"
   ]
  },
  {
   "cell_type": "code",
   "execution_count": 6,
   "id": "cbe01e7e-7b26-4280-b2d7-a3b184c1713b",
   "metadata": {},
   "outputs": [],
   "source": [
    "import numpy as np"
   ]
  },
  {
   "cell_type": "markdown",
   "id": "58726868-d297-49f4-9536-dd01a7b60803",
   "metadata": {},
   "source": [
    "`range(start, stop, step)`\n",
    "\n",
    "`np.arange(start, stop, step, dtype)`"
   ]
  },
  {
   "cell_type": "code",
   "execution_count": null,
   "id": "92e36347-dcac-4bd8-8b0c-730782ad60fe",
   "metadata": {},
   "outputs": [],
   "source": [
    "help(np.arange)"
   ]
  },
  {
   "cell_type": "code",
   "execution_count": 4,
   "id": "ec90e987-8c3c-4d8b-b9bd-ebd46da9da1f",
   "metadata": {},
   "outputs": [
    {
     "data": {
      "text/plain": [
       "[0, 1, 2, 3, 4]"
      ]
     },
     "execution_count": 4,
     "metadata": {},
     "output_type": "execute_result"
    }
   ],
   "source": [
    "list(range(5))"
   ]
  },
  {
   "cell_type": "code",
   "execution_count": 9,
   "id": "c10f7f8e-24aa-4e40-bca5-cf46154a671c",
   "metadata": {},
   "outputs": [
    {
     "name": "stdout",
     "output_type": "stream",
     "text": [
      "A series of numbers: [ 5  6  7  8  9 10 11 12 13 14 15]\n"
     ]
    }
   ],
   "source": [
    "print(\"A series of numbers:\",np.arange(5,16)) \n",
    "# A series of numbers from low to high"
   ]
  },
  {
   "cell_type": "code",
   "execution_count": 10,
   "id": "ebcf73b4-fb06-46ea-8803-affb7d36904f",
   "metadata": {},
   "outputs": [
    {
     "name": "stdout",
     "output_type": "stream",
     "text": [
      "Numbers spaced apart by 2: [ 0  2  4  6  8 10]\n"
     ]
    }
   ],
   "source": [
    "print(\"Numbers spaced apart by 2:\",np.arange(0,12,2)) \n",
    "# Numbers spaced apart by 2"
   ]
  },
  {
   "cell_type": "code",
   "execution_count": 11,
   "id": "51ab8292-6300-4144-9700-b5e348457f6d",
   "metadata": {},
   "outputs": [
    {
     "name": "stdout",
     "output_type": "stream",
     "text": [
      "Numbers spaced apart by float: [ 0.   2.5  5.   7.5 10. ]\n"
     ]
    }
   ],
   "source": [
    "print(\"Numbers spaced apart by float:\",np.arange(0,11,2.5)) \n",
    "# Numbers spaced apart by 2.5"
   ]
  },
  {
   "cell_type": "code",
   "execution_count": 12,
   "id": "f0ed8953-027b-4980-bff7-870753d84c17",
   "metadata": {},
   "outputs": [
    {
     "name": "stdout",
     "output_type": "stream",
     "text": [
      "Every 5th number from 50 in reverse order\n",
      " [50 45 40 35 30 25 20 15 10  5  0]\n"
     ]
    }
   ],
   "source": [
    "print(\"Every 5th number from 50 in reverse order\\n\",np.arange(50,-1,-5))"
   ]
  },
  {
   "cell_type": "markdown",
   "id": "4e8fcee6-a154-4886-a220-e850c5e16091",
   "metadata": {},
   "source": [
    "**np.linspace**"
   ]
  },
  {
   "cell_type": "markdown",
   "id": "c6c724b8-9cf1-4df9-9f4e-4dc6c54ad88c",
   "metadata": {},
   "source": [
    "`np.linspace(start, stop, num=50, endpoint=True, retstep=False, dtype=None, axis=0)`"
   ]
  },
  {
   "cell_type": "code",
   "execution_count": 102,
   "id": "2c51d0a3-5cd4-498c-9914-80044501abf1",
   "metadata": {},
   "outputs": [
    {
     "name": "stdout",
     "output_type": "stream",
     "text": [
      "21 linearly spaced numbers between 1 and 5\n",
      "--------------------------------------------\n",
      "[1.         1.44444444 1.88888889 2.33333333 2.77777778 3.22222222\n",
      " 3.66666667 4.11111111 4.55555556 5.        ]\n"
     ]
    }
   ],
   "source": [
    "print(\"21 linearly spaced numbers between 1 and 5\\n--------------------------------------------\")\n",
    "print(np.linspace(1,5,10))"
   ]
  },
  {
   "cell_type": "code",
   "execution_count": 13,
   "id": "ca3a057a-ba8a-4ea7-9c47-a3c75bf65de2",
   "metadata": {},
   "outputs": [
    {
     "data": {
      "text/plain": [
       "array([1, 1, 1, 2, 2, 3, 3, 4, 4, 5], dtype=int32)"
      ]
     },
     "execution_count": 13,
     "metadata": {},
     "output_type": "execute_result"
    }
   ],
   "source": [
    "np.linspace(1,5,10, dtype=np.int32)"
   ]
  },
  {
   "cell_type": "markdown",
   "id": "adaa557c-110e-406a-b10f-a25d22d99097",
   "metadata": {},
   "source": [
    "**np.logspace()**"
   ]
  },
  {
   "cell_type": "markdown",
   "id": "8a21b37d-7803-44b6-bdbe-3c92e57e1844",
   "metadata": {},
   "source": [
    "`np.logspace(start, stop, num=50, endpoint=True, base=10.0, dtype=None)`"
   ]
  },
  {
   "cell_type": "code",
   "execution_count": null,
   "id": "34beeb9e-74a9-4d61-acaf-3c1e5a435cda",
   "metadata": {},
   "outputs": [],
   "source": [
    "np.linspace(start, stop) gives values evenly spaced in linear space.\n",
    "\n",
    "np.logspace(start, stop) gives values evenly spaced in logarithmic space."
   ]
  },
  {
   "cell_type": "code",
   "execution_count": 61,
   "id": "f274b319-4117-42af-9420-de77fc650c70",
   "metadata": {},
   "outputs": [
    {
     "data": {
      "text/plain": [
       "array([ 10.        ,  17.7827941 ,  31.6227766 ,  56.23413252,\n",
       "       100.        ])"
      ]
     },
     "execution_count": 61,
     "metadata": {},
     "output_type": "execute_result"
    }
   ],
   "source": [
    "np.logspace(1, 2, 5)"
   ]
  },
  {
   "cell_type": "code",
   "execution_count": 56,
   "id": "89ff72e6-d416-4b2f-8d8d-06498151097e",
   "metadata": {},
   "outputs": [
    {
     "data": {
      "text/plain": [
       "array([   1,  256,  512,  768, 1024], dtype=int32)"
      ]
     },
     "execution_count": 56,
     "metadata": {},
     "output_type": "execute_result"
    }
   ],
   "source": [
    "np.linspace(1, 1024, num=5, dtype = np.int32)"
   ]
  },
  {
   "cell_type": "code",
   "execution_count": 58,
   "id": "69f4f06c-bcff-4bb4-a043-6a0cb80eb738",
   "metadata": {},
   "outputs": [
    {
     "data": {
      "text/plain": [
       "array([   1,    5,   32,  181, 1024], dtype=int32)"
      ]
     },
     "execution_count": 58,
     "metadata": {},
     "output_type": "execute_result"
    }
   ],
   "source": [
    "np.logspace(0, 10, num=5, base=2, dtype = np.int32) # [1,1024)"
   ]
  },
  {
   "cell_type": "code",
   "execution_count": null,
   "id": "5d0d3780-4062-463f-b115-e5d49a6d02ee",
   "metadata": {},
   "outputs": [],
   "source": [
    "# use case with learning rate => hyperparameter \n",
    "[0.000001, 0.00001, 0.0001, 0.001, 0.01, 0.1, 1.0]"
   ]
  },
  {
   "cell_type": "code",
   "execution_count": null,
   "id": "c0efefa4-ce33-4a89-b864-8380ecbc41f6",
   "metadata": {},
   "outputs": [],
   "source": [
    "# So on a log scale, equal distances represent equal ratios (e.g., x10), not equal differences."
   ]
  },
  {
   "cell_type": "code",
   "execution_count": 118,
   "id": "df08cb8a-ccee-44ed-b76c-b91e7c7c7b2f",
   "metadata": {},
   "outputs": [
    {
     "data": {
      "text/plain": [
       "array([100.        , 177.827941  , 316.22776602, 562.34132519])"
      ]
     },
     "execution_count": 118,
     "metadata": {},
     "output_type": "execute_result"
    }
   ],
   "source": [
    "np.logspace(2.0, 3.0, num=4, endpoint=False)"
   ]
  },
  {
   "cell_type": "code",
   "execution_count": 119,
   "id": "0fe7beab-2ac8-4db8-a93b-38b2f01518ab",
   "metadata": {},
   "outputs": [
    {
     "data": {
      "text/plain": [
       "array([4.        , 5.0396842 , 6.34960421, 8.        ])"
      ]
     },
     "execution_count": 119,
     "metadata": {},
     "output_type": "execute_result"
    }
   ],
   "source": [
    "np.logspace(2.0, 3.0, num=4, base=2.0)"
   ]
  },
  {
   "cell_type": "markdown",
   "id": "ededc341-e8bc-4a49-bcd5-f2e078af5799",
   "metadata": {},
   "source": [
    "**numpy array and matrix creation**"
   ]
  },
  {
   "cell_type": "code",
   "execution_count": 16,
   "id": "adf58038-01e7-4da9-beb5-51f91f5142df",
   "metadata": {},
   "outputs": [
    {
     "name": "stdout",
     "output_type": "stream",
     "text": [
      "Vector of zeroes\n",
      "---------------------\n",
      "[0. 0. 0. 0. 0.]\n"
     ]
    }
   ],
   "source": [
    "print(\"Vector of zeroes\\n---------------------\")\n",
    "print(np.zeros(5))"
   ]
  },
  {
   "cell_type": "code",
   "execution_count": 17,
   "id": "9dcfc074-17f6-47ac-8ff7-1579daf3d3d7",
   "metadata": {},
   "outputs": [
    {
     "name": "stdout",
     "output_type": "stream",
     "text": [
      "Matrix of zeroes\n",
      "--------------------\n",
      "[[0. 0. 0. 0.]\n",
      " [0. 0. 0. 0.]\n",
      " [0. 0. 0. 0.]]\n"
     ]
    }
   ],
   "source": [
    "print(\"Matrix of zeroes\\n--------------------\")\n",
    "print(np.zeros((3,4))) # Notice Tuples"
   ]
  },
  {
   "cell_type": "code",
   "execution_count": 105,
   "id": "c647b67f-1d37-434d-ac22-3f50e6b71500",
   "metadata": {},
   "outputs": [
    {
     "name": "stdout",
     "output_type": "stream",
     "text": [
      "Vector of ones\n",
      "---------------------\n",
      "[1. 1. 1. 1. 1.]\n"
     ]
    }
   ],
   "source": [
    "print(\"Vector of ones\\n---------------------\")\n",
    "print(np.ones(5))"
   ]
  },
  {
   "cell_type": "code",
   "execution_count": 18,
   "id": "8a45c804-6150-405e-8226-ef3427fa5391",
   "metadata": {},
   "outputs": [
    {
     "name": "stdout",
     "output_type": "stream",
     "text": [
      "Matrix of ones\n",
      "---------------------\n",
      "[[1. 1.]\n",
      " [1. 1.]\n",
      " [1. 1.]\n",
      " [1. 1.]\n",
      " [1. 1.]]\n"
     ]
    }
   ],
   "source": [
    "print(\"Matrix of ones\\n---------------------\")\n",
    "print(np.ones((5,2))) # Note matrix dimension specified by Tuples"
   ]
  },
  {
   "cell_type": "code",
   "execution_count": 19,
   "id": "5cb4befb-849d-49ce-9bfa-eec6f927d215",
   "metadata": {},
   "outputs": [
    {
     "name": "stdout",
     "output_type": "stream",
     "text": [
      "Matrix of 5's\n",
      "---------------------\n",
      "[[5. 5. 5. 5. 5.]\n",
      " [5. 5. 5. 5. 5.]\n",
      " [5. 5. 5. 5. 5.]]\n"
     ]
    }
   ],
   "source": [
    "print(\"Matrix of 5's\\n---------------------\")\n",
    "print(5*np.ones((3,5)))"
   ]
  },
  {
   "cell_type": "code",
   "execution_count": null,
   "id": "6e13af15-63f3-40ad-b985-9290a103f198",
   "metadata": {},
   "outputs": [],
   "source": [
    "# The np.empty() function creates a new array of given shape and type, without initializing entries., \n",
    "# So the values in the array will be random garbage values (whatever happens to be in memory at the time)."
   ]
  },
  {
   "cell_type": "code",
   "execution_count": 23,
   "id": "69f8f7be-79f0-46ef-ab4d-4bd486b8b5b8",
   "metadata": {},
   "outputs": [
    {
     "name": "stdout",
     "output_type": "stream",
     "text": [
      "Empty matrix\n",
      "-------------\n"
     ]
    },
    {
     "data": {
      "text/plain": [
       "array([[6.23042070e-307, 4.67296746e-307, 1.69121096e-306,\n",
       "        6.23054293e-307, 8.45593934e-307],\n",
       "       [7.56593017e-307, 1.33511290e-306, 8.90092016e-307,\n",
       "        8.90104918e-307, 9.34602321e-307],\n",
       "       [3.11525958e-307, 1.69118108e-306, 8.06632139e-308,\n",
       "        1.20160711e-306, 1.69119330e-306],\n",
       "       [1.29062229e-306, 1.24610383e-306, 1.33510679e-306,\n",
       "        1.37961709e-306, 2.56765117e-312]])"
      ]
     },
     "execution_count": 23,
     "metadata": {},
     "output_type": "execute_result"
    }
   ],
   "source": [
    "print(\"Empty matrix\\n-------------\")\n",
    "np.empty((4,5))"
   ]
  },
  {
   "cell_type": "markdown",
   "id": "2204340b-35d6-4e42-8b3b-6401b07fdc19",
   "metadata": {},
   "source": [
    "**np.reshape()**"
   ]
  },
  {
   "cell_type": "markdown",
   "id": "9888f27f-222d-4e20-b3de-b8e4b0e76439",
   "metadata": {},
   "source": [
    "**Diagonal, Triangular, Lower Triangular and Upper Triangular Matrix**"
   ]
  },
  {
   "cell_type": "code",
   "execution_count": null,
   "id": "2f3319e2-fe9a-4b50-90a5-8653e3606b33",
   "metadata": {},
   "outputs": [],
   "source": [
    "A triangular matrix is a square matrix where either:\n",
    "\n",
    "All elements below the main diagonal are zero → Upper Triangular Matrix\n",
    "\n",
    "All elements above the main diagonal are zero → Lower Triangular Matrix\n",
    "\n",
    "A matrix must be square to be classified as triangular."
   ]
  },
  {
   "cell_type": "markdown",
   "id": "395a13c2-768b-4a88-9ed1-a094d11141a0",
   "metadata": {},
   "source": [
    "| Matrix Type      | Description              | Zeros are where? | NumPy function |\n",
    "| ---------------- | ------------------------ | ---------------- | -------------- |\n",
    "| Diagonal         | Only diagonal non-zero   | Off-diagonal     | `np.diag()`    |\n",
    "| Lower Triangular | Zero above main diagonal | Above diagonal   | `np.tril()`    |\n",
    "| Upper Triangular | Zero below main diagonal | Below diagonal   | `np.triu()`    |\n"
   ]
  },
  {
   "cell_type": "code",
   "execution_count": 28,
   "id": "0e5ca010-ed43-4feb-9ebf-f461b003cf69",
   "metadata": {},
   "outputs": [],
   "source": [
    "A = np.array([[1, 2, 3],\n",
    "              [4, 5, 6],\n",
    "              [7, 8, 9]])"
   ]
  },
  {
   "cell_type": "code",
   "execution_count": 29,
   "id": "3f14c69c-d79a-4786-aa84-8a62f036fdc4",
   "metadata": {},
   "outputs": [
    {
     "name": "stdout",
     "output_type": "stream",
     "text": [
      "Diagonal matrix:\n",
      "[[1 0 0]\n",
      " [0 5 0]\n",
      " [0 0 9]]\n"
     ]
    }
   ],
   "source": [
    "print(\"Diagonal matrix:\")\n",
    "print(np.diag(np.diag(A)))"
   ]
  },
  {
   "cell_type": "code",
   "execution_count": 30,
   "id": "f1fad8fe-6261-472c-aaf1-867604ef70a8",
   "metadata": {},
   "outputs": [
    {
     "name": "stdout",
     "output_type": "stream",
     "text": [
      "Lower triangular matrix:\n",
      "[[1 0 0]\n",
      " [4 5 0]\n",
      " [7 8 9]]\n"
     ]
    }
   ],
   "source": [
    "print(\"Lower triangular matrix:\")\n",
    "print(np.tril(A))"
   ]
  },
  {
   "cell_type": "code",
   "execution_count": 31,
   "id": "c1c347c8-25b7-4ca9-9d3f-1881250896c1",
   "metadata": {},
   "outputs": [
    {
     "name": "stdout",
     "output_type": "stream",
     "text": [
      "Upper triangular matrix:\n",
      "[[1 2 3]\n",
      " [0 5 6]\n",
      " [0 0 9]]\n"
     ]
    }
   ],
   "source": [
    "print(\"Upper triangular matrix:\")\n",
    "print(np.triu(A))"
   ]
  },
  {
   "cell_type": "code",
   "execution_count": 40,
   "id": "18d86409-78df-402f-b4c0-f07b7810d277",
   "metadata": {},
   "outputs": [],
   "source": [
    "A = np.array([[1, 2, 3, 4],\n",
    "              [4, 5, 6, 7],\n",
    "              [7, 8, 9, 10]])"
   ]
  },
  {
   "cell_type": "code",
   "execution_count": 41,
   "id": "f024ea24-19b1-4703-be9c-6d5af970b7c9",
   "metadata": {},
   "outputs": [
    {
     "name": "stdout",
     "output_type": "stream",
     "text": [
      "2 (3, 4) int64\n"
     ]
    }
   ],
   "source": [
    "print(A.ndim, A.shape, A.dtype)"
   ]
  },
  {
   "cell_type": "code",
   "execution_count": 42,
   "id": "e696a396-768c-40d3-802b-2917e6315948",
   "metadata": {},
   "outputs": [
    {
     "name": "stdout",
     "output_type": "stream",
     "text": [
      "Diagonal matrix:\n",
      "[[1 0 0]\n",
      " [0 5 0]\n",
      " [0 0 9]]\n"
     ]
    }
   ],
   "source": [
    "print(\"Diagonal matrix:\")\n",
    "print(np.diag(np.diag(A)))"
   ]
  },
  {
   "cell_type": "code",
   "execution_count": 43,
   "id": "30debf4c-40d6-42ab-8c69-269bfcc909ee",
   "metadata": {},
   "outputs": [
    {
     "name": "stdout",
     "output_type": "stream",
     "text": [
      "Lower triangular matrix:\n",
      "[[1 0 0 0]\n",
      " [4 5 0 0]\n",
      " [7 8 9 0]]\n"
     ]
    }
   ],
   "source": [
    "print(\"Lower triangular matrix:\")\n",
    "print(np.tril(A))"
   ]
  },
  {
   "cell_type": "code",
   "execution_count": 44,
   "id": "039651aa-6407-48ae-bae1-5c62f4473a84",
   "metadata": {},
   "outputs": [
    {
     "name": "stdout",
     "output_type": "stream",
     "text": [
      "Upper triangular matrix:\n",
      "[[ 1  2  3  4]\n",
      " [ 0  5  6  7]\n",
      " [ 0  0  9 10]]\n"
     ]
    }
   ],
   "source": [
    "print(\"Upper triangular matrix:\")\n",
    "print(np.triu(A))"
   ]
  },
  {
   "cell_type": "markdown",
   "id": "36a262f3-e32d-4f64-993d-49342ca42cd5",
   "metadata": {},
   "source": [
    "**np.eye()**"
   ]
  },
  {
   "cell_type": "code",
   "execution_count": null,
   "id": "516e8072-f237-4a52-b3a8-5c5ec5e55039",
   "metadata": {},
   "outputs": [],
   "source": [
    "An identity matrix is a square matrix (same number of rows and columns) with:\n",
    "- 1s on the main diagonal (top-left to bottom-right)\n",
    "- 0s everywhere else"
   ]
  },
  {
   "cell_type": "markdown",
   "id": "71d6520e-74d1-4430-8803-4c72871a6653",
   "metadata": {},
   "source": [
    "`np.eye(N, M=None, k=0, dtype=float, order='C')`"
   ]
  },
  {
   "cell_type": "markdown",
   "id": "e2b16db0-48ee-4a21-a733-de257e6bf782",
   "metadata": {},
   "source": [
    "| Parameter | Description                                                                                 |\n",
    "| --------- | ------------------------------------------------------------------------------------------- |\n",
    "| `N`       | Number of rows (required)                                                                   |\n",
    "| `M`       | Number of columns (optional, defaults to `N`)                                               |\n",
    "| `k`       | Index of the diagonal:<br> `0` = main diagonal,<br> `1` = above main,<br> `-1` = below main |\n",
    "| `dtype`   | Data type of output (default = `float`)                                                     |\n",
    "| `order`   | `'C'` for row-major (default), `'F'` for column-major                                       |\n"
   ]
  },
  {
   "cell_type": "code",
   "execution_count": 46,
   "id": "2d0563e0-ab3a-48dc-86eb-8ed1c24968b7",
   "metadata": {},
   "outputs": [
    {
     "name": "stdout",
     "output_type": "stream",
     "text": [
      "Identity matrix of dimension (4, 4)\n",
      "[[1. 0. 0. 0.]\n",
      " [0. 1. 0. 0.]\n",
      " [0. 0. 1. 0.]\n",
      " [0. 0. 0. 1.]]\n"
     ]
    }
   ],
   "source": [
    "mat1 = np.eye(4) \n",
    "print(\"Identity matrix of dimension\", mat1.shape)\n",
    "print(mat1)"
   ]
  },
  {
   "cell_type": "code",
   "execution_count": 48,
   "id": "d26eeebb-6b53-4796-8674-ba59fa054a0d",
   "metadata": {},
   "outputs": [
    {
     "name": "stdout",
     "output_type": "stream",
     "text": [
      "[[1. 0. 0. 0.]\n",
      " [0. 1. 0. 0.]\n",
      " [0. 0. 1. 0.]]\n"
     ]
    }
   ],
   "source": [
    "mat1 = np.eye(3,4) \n",
    "print(mat1)"
   ]
  },
  {
   "cell_type": "markdown",
   "id": "dee48577-2c68-4029-8b17-7339ca837051",
   "metadata": {},
   "source": [
    "**Extract a diagonal or construct a diagonal array.**"
   ]
  },
  {
   "cell_type": "markdown",
   "id": "38a1da76-d950-43a8-bbfc-347822cdfa85",
   "metadata": {},
   "source": [
    "#### Diagonals in a Rectangular Matrix\n",
    "\n",
    "Given a matrix **A** of size \\( n * m \\) (n rows, m columns):\n",
    "\n",
    "\n",
    "#### What is a diagonal?\n",
    "\n",
    "- The **main diagonal** runs from the top-left element \\((0,0)\\) to \\((\\min(n, m)-1, \\min(n, m)-1)\\).\n",
    "- Other diagonals run parallel to the main diagonal, either above or below it.\n",
    "\n",
    "\n",
    "#### Number of diagonals\n",
    "\n",
    "- **Total diagonals** (including main diagonal):\n",
    "\n",
    "\\[\n",
    "  total diagonals = n + m - 1\n",
    "\\]\n",
    "\n",
    "- **Upper diagonals** (above main diagonal):\n",
    "\n",
    "\\[\n",
    "m - 1\n",
    "\\]\n",
    "\n",
    "- **Lower diagonals** (below main diagonal):\n",
    "\n",
    "\\[\n",
    "n - 1\n",
    "\\]\n",
    "\n",
    "\n",
    "#### Example\n",
    "\n",
    "For a \\(4 * 3\\) matrix \\((n=4, m=3)\\):\n",
    "\n",
    "- Total diagonals = \\(4 + 3 - 1 = 6\\)\n",
    "- Upper diagonals = \\(3 - 1 = 2\\)\n",
    "- Lower diagonals = \\(4 - 1 = 3\\)\n",
    "\n",
    "\n",
    "#### Accessing diagonals in NumPy\n",
    "\n",
    "Use `np.diag(A, k)` where:\n",
    "\n",
    "- `k = 0`: main diagonal\n",
    "- `k > 0`: k-th diagonal **above** main diagonal\n",
    "- `k < 0`: k-th diagonal **below** main diagonal\n",
    "\n"
   ]
  },
  {
   "cell_type": "code",
   "execution_count": 62,
   "id": "3497bd45-6e6b-48ce-aa8c-2364caa6d4bc",
   "metadata": {},
   "outputs": [
    {
     "name": "stdout",
     "output_type": "stream",
     "text": [
      "[0 1 2 3 4 5 6 7 8]\n",
      "----------------------------------------------------------------------------------------------------\n",
      "[[0 1 2]\n",
      " [3 4 5]\n",
      " [6 7 8]]\n"
     ]
    }
   ],
   "source": [
    "print(np.arange(9))\n",
    "print(100*\"-\")\n",
    "print(np.arange(9).reshape((3,3)))"
   ]
  },
  {
   "cell_type": "code",
   "execution_count": 63,
   "id": "34f2a749-c2da-4238-9b4e-1488d3f1eb14",
   "metadata": {},
   "outputs": [],
   "source": [
    "x = np.arange(9).reshape((3,3))"
   ]
  },
  {
   "cell_type": "code",
   "execution_count": 64,
   "id": "4af14188-4c51-4bcb-b7f2-0aa03211c52b",
   "metadata": {},
   "outputs": [
    {
     "data": {
      "text/plain": [
       "array([[0, 1, 2],\n",
       "       [3, 4, 5],\n",
       "       [6, 7, 8]])"
      ]
     },
     "execution_count": 64,
     "metadata": {},
     "output_type": "execute_result"
    }
   ],
   "source": [
    "x"
   ]
  },
  {
   "cell_type": "code",
   "execution_count": 65,
   "id": "aae585e3-78c5-4c00-891f-052dba27e95b",
   "metadata": {},
   "outputs": [
    {
     "data": {
      "text/plain": [
       "array([0, 4, 8])"
      ]
     },
     "execution_count": 65,
     "metadata": {},
     "output_type": "execute_result"
    }
   ],
   "source": [
    "np.diag(x)"
   ]
  },
  {
   "cell_type": "code",
   "execution_count": 125,
   "id": "cc85dd99-e7f3-4348-a641-adf3d886d172",
   "metadata": {},
   "outputs": [
    {
     "data": {
      "text/plain": [
       "array([1, 5])"
      ]
     },
     "execution_count": 125,
     "metadata": {},
     "output_type": "execute_result"
    }
   ],
   "source": [
    "np.diag(x, k=1)"
   ]
  },
  {
   "cell_type": "code",
   "execution_count": 126,
   "id": "f42074e8-b98b-4cd8-9778-e4f717621105",
   "metadata": {},
   "outputs": [
    {
     "data": {
      "text/plain": [
       "array([3, 7])"
      ]
     },
     "execution_count": 126,
     "metadata": {},
     "output_type": "execute_result"
    }
   ],
   "source": [
    "np.diag(x, k=-1)"
   ]
  },
  {
   "cell_type": "code",
   "execution_count": 127,
   "id": "c2e14a85-eba7-43da-a91d-48f4a23726cb",
   "metadata": {},
   "outputs": [
    {
     "data": {
      "text/plain": [
       "array([[0, 0, 0],\n",
       "       [0, 4, 0],\n",
       "       [0, 0, 8]])"
      ]
     },
     "execution_count": 127,
     "metadata": {},
     "output_type": "execute_result"
    }
   ],
   "source": [
    "np.diag(np.diag(x))"
   ]
  },
  {
   "cell_type": "markdown",
   "id": "7daadd4e-742c-4bd6-916e-28b806c8be67",
   "metadata": {},
   "source": [
    "**NumPy allows triangular functions like `np.tril()` and `np.triu()` to operate on rectangular matrices for flexibility and general-purpose use — even though the strict mathematical definition of triangular matrices only applies to square matrices.**\n",
    "\n"
   ]
  },
  {
   "cell_type": "code",
   "execution_count": 128,
   "id": "213e30b6-42d1-43f2-912d-a89f785436c8",
   "metadata": {},
   "outputs": [],
   "source": [
    "#An array with ones at and below the given diagonal and zeros elsewhere."
   ]
  },
  {
   "cell_type": "code",
   "execution_count": 68,
   "id": "fc87a72b-8c5d-4cd1-884b-a9789174fbe3",
   "metadata": {},
   "outputs": [
    {
     "data": {
      "text/plain": [
       "array([[1, 0, 0, 0, 0],\n",
       "       [1, 1, 0, 0, 0],\n",
       "       [1, 1, 1, 0, 0]])"
      ]
     },
     "execution_count": 68,
     "metadata": {},
     "output_type": "execute_result"
    }
   ],
   "source": [
    "np.tri(3, 5, 0, dtype=int)"
   ]
  },
  {
   "cell_type": "code",
   "execution_count": 130,
   "id": "58ba70aa-3991-4266-9a67-80fa7f8cc876",
   "metadata": {},
   "outputs": [
    {
     "data": {
      "text/plain": [
       "array([[0., 0., 0., 0., 0.],\n",
       "       [1., 0., 0., 0., 0.],\n",
       "       [1., 1., 0., 0., 0.]])"
      ]
     },
     "execution_count": 130,
     "metadata": {},
     "output_type": "execute_result"
    }
   ],
   "source": [
    "np.tri(3, 5, -1)"
   ]
  },
  {
   "cell_type": "code",
   "execution_count": null,
   "id": "01e0c9be-0634-40a7-aab7-395462afe09e",
   "metadata": {},
   "outputs": [],
   "source": [
    "#return a Lower triangle of an array."
   ]
  },
  {
   "cell_type": "code",
   "execution_count": 69,
   "id": "8a7e64ac-1d17-4b3d-b9e9-364fff65c30c",
   "metadata": {},
   "outputs": [
    {
     "name": "stdout",
     "output_type": "stream",
     "text": [
      "[[ 1  2  3]\n",
      " [ 4  5  6]\n",
      " [ 7  8  9]\n",
      " [10 11 12]]\n"
     ]
    }
   ],
   "source": [
    "arr = np.array([[1,2,3],[4,5,6],[7,8,9],[10,11,12]])\n",
    "print(arr)"
   ]
  },
  {
   "cell_type": "code",
   "execution_count": 70,
   "id": "ac164946-424a-4fcb-bbd5-96a8ff682053",
   "metadata": {},
   "outputs": [
    {
     "data": {
      "text/plain": [
       "array([[ 0,  0,  0],\n",
       "       [ 4,  0,  0],\n",
       "       [ 7,  8,  0],\n",
       "       [10, 11, 12]])"
      ]
     },
     "execution_count": 70,
     "metadata": {},
     "output_type": "execute_result"
    }
   ],
   "source": [
    "np.tril(arr, -1)"
   ]
  },
  {
   "cell_type": "code",
   "execution_count": 132,
   "id": "617541a5-9d02-42c5-8ed5-d82c1b75fe65",
   "metadata": {},
   "outputs": [],
   "source": [
    "#return Upper triangle of an array."
   ]
  },
  {
   "cell_type": "code",
   "execution_count": 71,
   "id": "6a98f0f3-3193-48f8-b460-e1094c9d4504",
   "metadata": {},
   "outputs": [
    {
     "data": {
      "text/plain": [
       "array([[ 1,  2,  3],\n",
       "       [ 4,  5,  6],\n",
       "       [ 0,  8,  9],\n",
       "       [ 0,  0, 12]])"
      ]
     },
     "execution_count": 71,
     "metadata": {},
     "output_type": "execute_result"
    }
   ],
   "source": [
    "np.triu(arr, -1)"
   ]
  },
  {
   "cell_type": "markdown",
   "id": "5ce96b80-9cce-4f14-bb2e-c1b6c2e4a039",
   "metadata": {},
   "source": [
    "**Random number generation**"
   ]
  },
  {
   "cell_type": "markdown",
   "id": "2fa33a8f-5f10-44eb-b808-578aa26c85a2",
   "metadata": {},
   "source": [
    "1. Uniform Distribution : Occurence of value 1 to 6 if a die is rolled 10,000 times\n",
    "2. Normal Distribution : Height of person in india for a sample of 1 Million People"
   ]
  },
  {
   "cell_type": "code",
   "execution_count": 72,
   "id": "116bc964-9c36-4932-85b8-40519638d404",
   "metadata": {},
   "outputs": [
    {
     "name": "stdout",
     "output_type": "stream",
     "text": [
      "Random number generation (from Uniform distribution)\n",
      "[[0.07555202 0.09988798 0.84163818]\n",
      " [0.81425217 0.20967887 0.12520277]]\n"
     ]
    }
   ],
   "source": [
    "print(\"Random number generation (from Uniform distribution)\")\n",
    "print(np.random.rand(2,3)) \n",
    "# 2 by 3 matrix with random numbers ranging from 0 to 1, Note no Tuple is necessary"
   ]
  },
  {
   "cell_type": "code",
   "execution_count": 73,
   "id": "9cf47cd8-711a-460a-9635-b236f7133bac",
   "metadata": {},
   "outputs": [
    {
     "name": "stdout",
     "output_type": "stream",
     "text": [
      "Numbers from Normal distribution with zero mean and standard deviation 1 i.e. standard normal\n",
      "[[-0.22912484  1.71437712 -1.0000993 ]\n",
      " [-0.8236714   0.24857661 -0.26972985]\n",
      " [ 1.68099442 -0.77396406  0.37860004]\n",
      " [ 0.59336717 -0.31427903  0.4722494 ]]\n"
     ]
    }
   ],
   "source": [
    "print(\"Numbers from Normal distribution with zero mean and standard deviation 1 i.e. standard normal\")\n",
    "print(np.random.randn(4,3))"
   ]
  },
  {
   "cell_type": "code",
   "execution_count": 74,
   "id": "9b1a0f61-bdc3-4d6a-b889-1beabe922c1e",
   "metadata": {},
   "outputs": [
    {
     "name": "stdout",
     "output_type": "stream",
     "text": [
      "Random integer vector: [74 16 54 89 14 68  8 17 26 19]\n",
      "\n",
      "Random integer matrix\n"
     ]
    }
   ],
   "source": [
    "print(\"Random integer vector:\",np.random.randint(1,100,10)) #randint (low, high, # of samples to be drawn)\n",
    "print (\"\\nRandom integer matrix\")"
   ]
  },
  {
   "cell_type": "code",
   "execution_count": 75,
   "id": "3df69917-02de-4811-899f-93c9e86b798b",
   "metadata": {},
   "outputs": [
    {
     "name": "stdout",
     "output_type": "stream",
     "text": [
      "[[96  8 16 60]\n",
      " [44 22 35 13]\n",
      " [ 2 29 73 94]\n",
      " [19 83 12 44]]\n",
      "\n",
      "20 samples drawn from a dice throw: [3 4 6 3 5 4 3 5 3 1 5 4 5 6 5 1 1 5 5 6]\n"
     ]
    }
   ],
   "source": [
    "print(np.random.randint(1,100,(4,4))) #randint (low, high, # of samples to be drawn in a tuple to form a matrix)\n",
    "print(\"\\n20 samples drawn from a dice throw:\",np.random.randint(1,7,20)) # 20 samples drawn from a dice throw"
   ]
  },
  {
   "cell_type": "markdown",
   "id": "4f94b58f-3e50-43ac-98b1-b61c18354546",
   "metadata": {},
   "source": [
    "---"
   ]
  }
 ],
 "metadata": {
  "kernelspec": {
   "display_name": "Python 3 (ipykernel)",
   "language": "python",
   "name": "python3"
  },
  "language_info": {
   "codemirror_mode": {
    "name": "ipython",
    "version": 3
   },
   "file_extension": ".py",
   "mimetype": "text/x-python",
   "name": "python",
   "nbconvert_exporter": "python",
   "pygments_lexer": "ipython3",
   "version": "3.11.13"
  }
 },
 "nbformat": 4,
 "nbformat_minor": 5
}
