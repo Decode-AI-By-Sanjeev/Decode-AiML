{
 "cells": [
  {
   "cell_type": "markdown",
   "id": "23bb0726-648e-4dc9-8e4c-5ca2572b9ce2",
   "metadata": {},
   "source": [
    "## Numpy-5 : Creating NumPy Arrays and Matrix Using Built-in Functions"
   ]
  },
  {
   "cell_type": "markdown",
   "id": "fb7bd4fa-00c6-4679-a034-29f2ff247071",
   "metadata": {},
   "source": [
    "**arange and linspace**"
   ]
  },
  {
   "cell_type": "code",
   "execution_count": 6,
   "id": "cbe01e7e-7b26-4280-b2d7-a3b184c1713b",
   "metadata": {},
   "outputs": [],
   "source": [
    "import numpy as np"
   ]
  },
  {
   "cell_type": "markdown",
   "id": "58726868-d297-49f4-9536-dd01a7b60803",
   "metadata": {},
   "source": [
    "`range(start, stop, step)`\n",
    "\n",
    "`np.arange(start, stop, step, dtype)`"
   ]
  },
  {
   "cell_type": "code",
   "execution_count": null,
   "id": "92e36347-dcac-4bd8-8b0c-730782ad60fe",
   "metadata": {},
   "outputs": [],
   "source": [
    "help(np.arange)"
   ]
  },
  {
   "cell_type": "code",
   "execution_count": 4,
   "id": "ec90e987-8c3c-4d8b-b9bd-ebd46da9da1f",
   "metadata": {},
   "outputs": [
    {
     "data": {
      "text/plain": [
       "[0, 1, 2, 3, 4]"
      ]
     },
     "execution_count": 4,
     "metadata": {},
     "output_type": "execute_result"
    }
   ],
   "source": [
    "list(range(5))"
   ]
  },
  {
   "cell_type": "code",
   "execution_count": 9,
   "id": "c10f7f8e-24aa-4e40-bca5-cf46154a671c",
   "metadata": {},
   "outputs": [
    {
     "name": "stdout",
     "output_type": "stream",
     "text": [
      "A series of numbers: [ 5  6  7  8  9 10 11 12 13 14 15]\n"
     ]
    }
   ],
   "source": [
    "print(\"A series of numbers:\",np.arange(5,16)) \n",
    "# A series of numbers from low to high"
   ]
  },
  {
   "cell_type": "code",
   "execution_count": 10,
   "id": "ebcf73b4-fb06-46ea-8803-affb7d36904f",
   "metadata": {},
   "outputs": [
    {
     "name": "stdout",
     "output_type": "stream",
     "text": [
      "Numbers spaced apart by 2: [ 0  2  4  6  8 10]\n"
     ]
    }
   ],
   "source": [
    "print(\"Numbers spaced apart by 2:\",np.arange(0,12,2)) \n",
    "# Numbers spaced apart by 2"
   ]
  },
  {
   "cell_type": "code",
   "execution_count": 11,
   "id": "51ab8292-6300-4144-9700-b5e348457f6d",
   "metadata": {},
   "outputs": [
    {
     "name": "stdout",
     "output_type": "stream",
     "text": [
      "Numbers spaced apart by float: [ 0.   2.5  5.   7.5 10. ]\n"
     ]
    }
   ],
   "source": [
    "print(\"Numbers spaced apart by float:\",np.arange(0,11,2.5)) \n",
    "# Numbers spaced apart by 2.5"
   ]
  },
  {
   "cell_type": "code",
   "execution_count": 12,
   "id": "f0ed8953-027b-4980-bff7-870753d84c17",
   "metadata": {},
   "outputs": [
    {
     "name": "stdout",
     "output_type": "stream",
     "text": [
      "Every 5th number from 50 in reverse order\n",
      " [50 45 40 35 30 25 20 15 10  5  0]\n"
     ]
    }
   ],
   "source": [
    "print(\"Every 5th number from 50 in reverse order\\n\",np.arange(50,-1,-5))"
   ]
  },
  {
   "cell_type": "markdown",
   "id": "4e8fcee6-a154-4886-a220-e850c5e16091",
   "metadata": {},
   "source": [
    "**np.linspace**"
   ]
  },
  {
   "cell_type": "markdown",
   "id": "c6c724b8-9cf1-4df9-9f4e-4dc6c54ad88c",
   "metadata": {},
   "source": [
    "`np.linspace(start, stop, num=50, endpoint=True, retstep=False, dtype=None, axis=0)`"
   ]
  },
  {
   "cell_type": "code",
   "execution_count": 102,
   "id": "2c51d0a3-5cd4-498c-9914-80044501abf1",
   "metadata": {},
   "outputs": [
    {
     "name": "stdout",
     "output_type": "stream",
     "text": [
      "21 linearly spaced numbers between 1 and 5\n",
      "--------------------------------------------\n",
      "[1.         1.44444444 1.88888889 2.33333333 2.77777778 3.22222222\n",
      " 3.66666667 4.11111111 4.55555556 5.        ]\n"
     ]
    }
   ],
   "source": [
    "print(\"21 linearly spaced numbers between 1 and 5\\n--------------------------------------------\")\n",
    "print(np.linspace(1,5,10))"
   ]
  },
  {
   "cell_type": "code",
   "execution_count": 13,
   "id": "ca3a057a-ba8a-4ea7-9c47-a3c75bf65de2",
   "metadata": {},
   "outputs": [
    {
     "data": {
      "text/plain": [
       "array([1, 1, 1, 2, 2, 3, 3, 4, 4, 5], dtype=int32)"
      ]
     },
     "execution_count": 13,
     "metadata": {},
     "output_type": "execute_result"
    }
   ],
   "source": [
    "np.linspace(1,5,10, dtype=np.int32)"
   ]
  },
  {
   "cell_type": "markdown",
   "id": "adaa557c-110e-406a-b10f-a25d22d99097",
   "metadata": {},
   "source": [
    "**np.logspace()**"
   ]
  },
  {
   "cell_type": "markdown",
   "id": "8a21b37d-7803-44b6-bdbe-3c92e57e1844",
   "metadata": {},
   "source": [
    "`np.logspace(start, stop, num=50, endpoint=True, base=10.0, dtype=None)`"
   ]
  },
  {
   "cell_type": "code",
   "execution_count": null,
   "id": "34beeb9e-74a9-4d61-acaf-3c1e5a435cda",
   "metadata": {},
   "outputs": [],
   "source": [
    "np.linspace(start, stop) gives values evenly spaced in linear space.\n",
    "\n",
    "np.logspace(start, stop) gives values evenly spaced in logarithmic space."
   ]
  },
  {
   "cell_type": "code",
   "execution_count": 61,
   "id": "f274b319-4117-42af-9420-de77fc650c70",
   "metadata": {},
   "outputs": [
    {
     "data": {
      "text/plain": [
       "array([ 10.        ,  17.7827941 ,  31.6227766 ,  56.23413252,\n",
       "       100.        ])"
      ]
     },
     "execution_count": 61,
     "metadata": {},
     "output_type": "execute_result"
    }
   ],
   "source": [
    "np.logspace(1, 2, 5)"
   ]
  },
  {
   "cell_type": "code",
   "execution_count": 56,
   "id": "89ff72e6-d416-4b2f-8d8d-06498151097e",
   "metadata": {},
   "outputs": [
    {
     "data": {
      "text/plain": [
       "array([   1,  256,  512,  768, 1024], dtype=int32)"
      ]
     },
     "execution_count": 56,
     "metadata": {},
     "output_type": "execute_result"
    }
   ],
   "source": [
    "np.linspace(1, 1024, num=5, dtype = np.int32)"
   ]
  },
  {
   "cell_type": "code",
   "execution_count": 58,
   "id": "69f4f06c-bcff-4bb4-a043-6a0cb80eb738",
   "metadata": {},
   "outputs": [
    {
     "data": {
      "text/plain": [
       "array([   1,    5,   32,  181, 1024], dtype=int32)"
      ]
     },
     "execution_count": 58,
     "metadata": {},
     "output_type": "execute_result"
    }
   ],
   "source": [
    "np.logspace(0, 10, num=5, base=2, dtype = np.int32) # [1,1024)"
   ]
  },
  {
   "cell_type": "code",
   "execution_count": null,
   "id": "5d0d3780-4062-463f-b115-e5d49a6d02ee",
   "metadata": {},
   "outputs": [],
   "source": [
    "# use case with learning rate => hyperparameter \n",
    "[0.000001, 0.00001, 0.0001, 0.001, 0.01, 0.1, 1.0]"
   ]
  },
  {
   "cell_type": "code",
   "execution_count": null,
   "id": "c0efefa4-ce33-4a89-b864-8380ecbc41f6",
   "metadata": {},
   "outputs": [],
   "source": [
    "# So on a log scale, equal distances represent equal ratios (e.g., x10), not equal differences."
   ]
  },
  {
   "cell_type": "code",
   "execution_count": 118,
   "id": "df08cb8a-ccee-44ed-b76c-b91e7c7c7b2f",
   "metadata": {},
   "outputs": [
    {
     "data": {
      "text/plain": [
       "array([100.        , 177.827941  , 316.22776602, 562.34132519])"
      ]
     },
     "execution_count": 118,
     "metadata": {},
     "output_type": "execute_result"
    }
   ],
   "source": [
    "np.logspace(2.0, 3.0, num=4, endpoint=False)"
   ]
  },
  {
   "cell_type": "code",
   "execution_count": 119,
   "id": "0fe7beab-2ac8-4db8-a93b-38b2f01518ab",
   "metadata": {},
   "outputs": [
    {
     "data": {
      "text/plain": [
       "array([4.        , 5.0396842 , 6.34960421, 8.        ])"
      ]
     },
     "execution_count": 119,
     "metadata": {},
     "output_type": "execute_result"
    }
   ],
   "source": [
    "np.logspace(2.0, 3.0, num=4, base=2.0)"
   ]
  },
  {
   "cell_type": "markdown",
   "id": "ededc341-e8bc-4a49-bcd5-f2e078af5799",
   "metadata": {},
   "source": [
    "**numpy array and matrix creation**"
   ]
  },
  {
   "cell_type": "code",
   "execution_count": 16,
   "id": "adf58038-01e7-4da9-beb5-51f91f5142df",
   "metadata": {},
   "outputs": [
    {
     "name": "stdout",
     "output_type": "stream",
     "text": [
      "Vector of zeroes\n",
      "---------------------\n",
      "[0. 0. 0. 0. 0.]\n"
     ]
    }
   ],
   "source": [
    "print(\"Vector of zeroes\\n---------------------\")\n",
    "print(np.zeros(5))"
   ]
  },
  {
   "cell_type": "code",
   "execution_count": 17,
   "id": "9dcfc074-17f6-47ac-8ff7-1579daf3d3d7",
   "metadata": {},
   "outputs": [
    {
     "name": "stdout",
     "output_type": "stream",
     "text": [
      "Matrix of zeroes\n",
      "--------------------\n",
      "[[0. 0. 0. 0.]\n",
      " [0. 0. 0. 0.]\n",
      " [0. 0. 0. 0.]]\n"
     ]
    }
   ],
   "source": [
    "print(\"Matrix of zeroes\\n--------------------\")\n",
    "print(np.zeros((3,4))) # Notice Tuples"
   ]
  },
  {
   "cell_type": "code",
   "execution_count": 105,
   "id": "c647b67f-1d37-434d-ac22-3f50e6b71500",
   "metadata": {},
   "outputs": [
    {
     "name": "stdout",
     "output_type": "stream",
     "text": [
      "Vector of ones\n",
      "---------------------\n",
      "[1. 1. 1. 1. 1.]\n"
     ]
    }
   ],
   "source": [
    "print(\"Vector of ones\\n---------------------\")\n",
    "print(np.ones(5))"
   ]
  },
  {
   "cell_type": "code",
   "execution_count": 18,
   "id": "8a45c804-6150-405e-8226-ef3427fa5391",
   "metadata": {},
   "outputs": [
    {
     "name": "stdout",
     "output_type": "stream",
     "text": [
      "Matrix of ones\n",
      "---------------------\n",
      "[[1. 1.]\n",
      " [1. 1.]\n",
      " [1. 1.]\n",
      " [1. 1.]\n",
      " [1. 1.]]\n"
     ]
    }
   ],
   "source": [
    "print(\"Matrix of ones\\n---------------------\")\n",
    "print(np.ones((5,2))) # Note matrix dimension specified by Tuples"
   ]
  },
  {
   "cell_type": "code",
   "execution_count": 19,
   "id": "5cb4befb-849d-49ce-9bfa-eec6f927d215",
   "metadata": {},
   "outputs": [
    {
     "name": "stdout",
     "output_type": "stream",
     "text": [
      "Matrix of 5's\n",
      "---------------------\n",
      "[[5. 5. 5. 5. 5.]\n",
      " [5. 5. 5. 5. 5.]\n",
      " [5. 5. 5. 5. 5.]]\n"
     ]
    }
   ],
   "source": [
    "print(\"Matrix of 5's\\n---------------------\")\n",
    "print(5*np.ones((3,5)))"
   ]
  },
  {
   "cell_type": "code",
   "execution_count": null,
   "id": "6e13af15-63f3-40ad-b985-9290a103f198",
   "metadata": {},
   "outputs": [],
   "source": [
    "# The np.empty() function creates a new array of given shape and type, without initializing entries., \n",
    "# So the values in the array will be random garbage values (whatever happens to be in memory at the time)."
   ]
  },
  {
   "cell_type": "code",
   "execution_count": 23,
   "id": "69f8f7be-79f0-46ef-ab4d-4bd486b8b5b8",
   "metadata": {},
   "outputs": [
    {
     "name": "stdout",
     "output_type": "stream",
     "text": [
      "Empty matrix\n",
      "-------------\n"
     ]
    },
    {
     "data": {
      "text/plain": [
       "array([[6.23042070e-307, 4.67296746e-307, 1.69121096e-306,\n",
       "        6.23054293e-307, 8.45593934e-307],\n",
       "       [7.56593017e-307, 1.33511290e-306, 8.90092016e-307,\n",
       "        8.90104918e-307, 9.34602321e-307],\n",
       "       [3.11525958e-307, 1.69118108e-306, 8.06632139e-308,\n",
       "        1.20160711e-306, 1.69119330e-306],\n",
       "       [1.29062229e-306, 1.24610383e-306, 1.33510679e-306,\n",
       "        1.37961709e-306, 2.56765117e-312]])"
      ]
     },
     "execution_count": 23,
     "metadata": {},
     "output_type": "execute_result"
    }
   ],
   "source": [
    "print(\"Empty matrix\\n-------------\")\n",
    "np.empty((4,5))"
   ]
  },
  {
   "cell_type": "markdown",
   "id": "2204340b-35d6-4e42-8b3b-6401b07fdc19",
   "metadata": {},
   "source": [
    "**np.reshape()**"
   ]
  },
  {
   "cell_type": "markdown",
   "id": "9888f27f-222d-4e20-b3de-b8e4b0e76439",
   "metadata": {},
   "source": [
    "**Diagonal, Triangular, Lower Triangular and Upper Triangular Matrix**"
   ]
  },
  {
   "cell_type": "code",
   "execution_count": null,
   "id": "2f3319e2-fe9a-4b50-90a5-8653e3606b33",
   "metadata": {},
   "outputs": [],
   "source": [
    "A triangular matrix is a square matrix where either:\n",
    "\n",
    "All elements below the main diagonal are zero → Upper Triangular Matrix\n",
    "\n",
    "All elements above the main diagonal are zero → Lower Triangular Matrix\n",
    "\n",
    "A matrix must be square to be classified as triangular."
   ]
  },
  {
   "cell_type": "markdown",
   "id": "395a13c2-768b-4a88-9ed1-a094d11141a0",
   "metadata": {},
   "source": [
    "| Matrix Type      | Description              | Zeros are where? | NumPy function |\n",
    "| ---------------- | ------------------------ | ---------------- | -------------- |\n",
    "| Diagonal         | Only diagonal non-zero   | Off-diagonal     | `np.diag()`    |\n",
    "| Lower Triangular | Zero above main diagonal | Above diagonal   | `np.tril()`    |\n",
    "| Upper Triangular | Zero below main diagonal | Below diagonal   | `np.triu()`    |\n"
   ]
  },
  {
   "cell_type": "code",
   "execution_count": 28,
   "id": "0e5ca010-ed43-4feb-9ebf-f461b003cf69",
   "metadata": {},
   "outputs": [],
   "source": [
    "A = np.array([[1, 2, 3],\n",
    "              [4, 5, 6],\n",
    "              [7, 8, 9]])"
   ]
  },
  {
   "cell_type": "code",
   "execution_count": 29,
   "id": "3f14c69c-d79a-4786-aa84-8a62f036fdc4",
   "metadata": {},
   "outputs": [
    {
     "name": "stdout",
     "output_type": "stream",
     "text": [
      "Diagonal matrix:\n",
      "[[1 0 0]\n",
      " [0 5 0]\n",
      " [0 0 9]]\n"
     ]
    }
   ],
   "source": [
    "print(\"Diagonal matrix:\")\n",
    "print(np.diag(np.diag(A)))"
   ]
  },
  {
   "cell_type": "code",
   "execution_count": 30,
   "id": "f1fad8fe-6261-472c-aaf1-867604ef70a8",
   "metadata": {},
   "outputs": [
    {
     "name": "stdout",
     "output_type": "stream",
     "text": [
      "Lower triangular matrix:\n",
      "[[1 0 0]\n",
      " [4 5 0]\n",
      " [7 8 9]]\n"
     ]
    }
   ],
   "source": [
    "print(\"Lower triangular matrix:\")\n",
    "print(np.tril(A))"
   ]
  },
  {
   "cell_type": "code",
   "execution_count": 31,
   "id": "c1c347c8-25b7-4ca9-9d3f-1881250896c1",
   "metadata": {},
   "outputs": [
    {
     "name": "stdout",
     "output_type": "stream",
     "text": [
      "Upper triangular matrix:\n",
      "[[1 2 3]\n",
      " [0 5 6]\n",
      " [0 0 9]]\n"
     ]
    }
   ],
   "source": [
    "print(\"Upper triangular matrix:\")\n",
    "print(np.triu(A))"
   ]
  },
  {
   "cell_type": "code",
   "execution_count": 40,
   "id": "18d86409-78df-402f-b4c0-f07b7810d277",
   "metadata": {},
   "outputs": [],
   "source": [
    "A = np.array([[1, 2, 3, 4],\n",
    "              [4, 5, 6, 7],\n",
    "              [7, 8, 9, 10]])"
   ]
  },
  {
   "cell_type": "code",
   "execution_count": 41,
   "id": "f024ea24-19b1-4703-be9c-6d5af970b7c9",
   "metadata": {},
   "outputs": [
    {
     "name": "stdout",
     "output_type": "stream",
     "text": [
      "2 (3, 4) int64\n"
     ]
    }
   ],
   "source": [
    "print(A.ndim, A.shape, A.dtype)"
   ]
  },
  {
   "cell_type": "code",
   "execution_count": 42,
   "id": "e696a396-768c-40d3-802b-2917e6315948",
   "metadata": {},
   "outputs": [
    {
     "name": "stdout",
     "output_type": "stream",
     "text": [
      "Diagonal matrix:\n",
      "[[1 0 0]\n",
      " [0 5 0]\n",
      " [0 0 9]]\n"
     ]
    }
   ],
   "source": [
    "print(\"Diagonal matrix:\")\n",
    "print(np.diag(np.diag(A)))"
   ]
  },
  {
   "cell_type": "code",
   "execution_count": 43,
   "id": "30debf4c-40d6-42ab-8c69-269bfcc909ee",
   "metadata": {},
   "outputs": [
    {
     "name": "stdout",
     "output_type": "stream",
     "text": [
      "Lower triangular matrix:\n",
      "[[1 0 0 0]\n",
      " [4 5 0 0]\n",
      " [7 8 9 0]]\n"
     ]
    }
   ],
   "source": [
    "print(\"Lower triangular matrix:\")\n",
    "print(np.tril(A))"
   ]
  },
  {
   "cell_type": "code",
   "execution_count": 44,
   "id": "039651aa-6407-48ae-bae1-5c62f4473a84",
   "metadata": {},
   "outputs": [
    {
     "name": "stdout",
     "output_type": "stream",
     "text": [
      "Upper triangular matrix:\n",
      "[[ 1  2  3  4]\n",
      " [ 0  5  6  7]\n",
      " [ 0  0  9 10]]\n"
     ]
    }
   ],
   "source": [
    "print(\"Upper triangular matrix:\")\n",
    "print(np.triu(A))"
   ]
  },
  {
   "cell_type": "markdown",
   "id": "36a262f3-e32d-4f64-993d-49342ca42cd5",
   "metadata": {},
   "source": [
    "**np.eye()**"
   ]
  },
  {
   "cell_type": "code",
   "execution_count": null,
   "id": "516e8072-f237-4a52-b3a8-5c5ec5e55039",
   "metadata": {},
   "outputs": [],
   "source": [
    "An identity matrix is a square matrix (same number of rows and columns) with:\n",
    "- 1s on the main diagonal (top-left to bottom-right)\n",
    "- 0s everywhere else"
   ]
  },
  {
   "cell_type": "markdown",
   "id": "71d6520e-74d1-4430-8803-4c72871a6653",
   "metadata": {},
   "source": [
    "`np.eye(N, M=None, k=0, dtype=float, order='C')`"
   ]
  },
  {
   "cell_type": "markdown",
   "id": "e2b16db0-48ee-4a21-a733-de257e6bf782",
   "metadata": {},
   "source": [
    "| Parameter | Description                                                                                 |\n",
    "| --------- | ------------------------------------------------------------------------------------------- |\n",
    "| `N`       | Number of rows (required)                                                                   |\n",
    "| `M`       | Number of columns (optional, defaults to `N`)                                               |\n",
    "| `k`       | Index of the diagonal:<br> `0` = main diagonal,<br> `1` = above main,<br> `-1` = below main |\n",
    "| `dtype`   | Data type of output (default = `float`)                                                     |\n",
    "| `order`   | `'C'` for row-major (default), `'F'` for column-major                                       |\n"
   ]
  },
  {
   "cell_type": "code",
   "execution_count": 46,
   "id": "2d0563e0-ab3a-48dc-86eb-8ed1c24968b7",
   "metadata": {},
   "outputs": [
    {
     "name": "stdout",
     "output_type": "stream",
     "text": [
      "Identity matrix of dimension (4, 4)\n",
      "[[1. 0. 0. 0.]\n",
      " [0. 1. 0. 0.]\n",
      " [0. 0. 1. 0.]\n",
      " [0. 0. 0. 1.]]\n"
     ]
    }
   ],
   "source": [
    "mat1 = np.eye(4) \n",
    "print(\"Identity matrix of dimension\", mat1.shape)\n",
    "print(mat1)"
   ]
  },
  {
   "cell_type": "code",
   "execution_count": 48,
   "id": "d26eeebb-6b53-4796-8674-ba59fa054a0d",
   "metadata": {},
   "outputs": [
    {
     "name": "stdout",
     "output_type": "stream",
     "text": [
      "[[1. 0. 0. 0.]\n",
      " [0. 1. 0. 0.]\n",
      " [0. 0. 1. 0.]]\n"
     ]
    }
   ],
   "source": [
    "mat1 = np.eye(3,4) \n",
    "print(mat1)"
   ]
  },
  {
   "cell_type": "markdown",
   "id": "dee48577-2c68-4029-8b17-7339ca837051",
   "metadata": {},
   "source": [
    "**Extract a diagonal or construct a diagonal array.**"
   ]
  },
  {
   "cell_type": "markdown",
   "id": "38a1da76-d950-43a8-bbfc-347822cdfa85",
   "metadata": {},
   "source": [
    "#### Diagonals in a Rectangular Matrix\n",
    "\n",
    "Given a matrix **A** of size \\( n * m \\) (n rows, m columns):\n",
    "\n",
    "\n",
    "#### What is a diagonal?\n",
    "\n",
    "- The **main diagonal** runs from the top-left element \\((0,0)\\) to \\((\\min(n, m)-1, \\min(n, m)-1)\\).\n",
    "- Other diagonals run parallel to the main diagonal, either above or below it.\n",
    "\n",
    "\n",
    "#### Number of diagonals\n",
    "\n",
    "- **Total diagonals** (including main diagonal):\n",
    "\n",
    "\\[\n",
    "  total diagonals = n + m - 1\n",
    "\\]\n",
    "\n",
    "- **Upper diagonals** (above main diagonal):\n",
    "\n",
    "\\[\n",
    "m - 1\n",
    "\\]\n",
    "\n",
    "- **Lower diagonals** (below main diagonal):\n",
    "\n",
    "\\[\n",
    "n - 1\n",
    "\\]\n",
    "\n",
    "\n",
    "#### Example\n",
    "\n",
    "For a \\(4 * 3\\) matrix \\((n=4, m=3)\\):\n",
    "\n",
    "- Total diagonals = \\(4 + 3 - 1 = 6\\)\n",
    "- Upper diagonals = \\(3 - 1 = 2\\)\n",
    "- Lower diagonals = \\(4 - 1 = 3\\)\n",
    "\n",
    "\n",
    "#### Accessing diagonals in NumPy\n",
    "\n",
    "Use `np.diag(A, k)` where:\n",
    "\n",
    "- `k = 0`: main diagonal\n",
    "- `k > 0`: k-th diagonal **above** main diagonal\n",
    "- `k < 0`: k-th diagonal **below** main diagonal\n",
    "\n"
   ]
  },
  {
   "cell_type": "code",
   "execution_count": 62,
   "id": "3497bd45-6e6b-48ce-aa8c-2364caa6d4bc",
   "metadata": {},
   "outputs": [
    {
     "name": "stdout",
     "output_type": "stream",
     "text": [
      "[0 1 2 3 4 5 6 7 8]\n",
      "----------------------------------------------------------------------------------------------------\n",
      "[[0 1 2]\n",
      " [3 4 5]\n",
      " [6 7 8]]\n"
     ]
    }
   ],
   "source": [
    "print(np.arange(9))\n",
    "print(100*\"-\")\n",
    "print(np.arange(9).reshape((3,3)))"
   ]
  },
  {
   "cell_type": "code",
   "execution_count": 63,
   "id": "34f2a749-c2da-4238-9b4e-1488d3f1eb14",
   "metadata": {},
   "outputs": [],
   "source": [
    "x = np.arange(9).reshape((3,3))"
   ]
  },
  {
   "cell_type": "code",
   "execution_count": 64,
   "id": "4af14188-4c51-4bcb-b7f2-0aa03211c52b",
   "metadata": {},
   "outputs": [
    {
     "data": {
      "text/plain": [
       "array([[0, 1, 2],\n",
       "       [3, 4, 5],\n",
       "       [6, 7, 8]])"
      ]
     },
     "execution_count": 64,
     "metadata": {},
     "output_type": "execute_result"
    }
   ],
   "source": [
    "x"
   ]
  },
  {
   "cell_type": "code",
   "execution_count": 65,
   "id": "aae585e3-78c5-4c00-891f-052dba27e95b",
   "metadata": {},
   "outputs": [
    {
     "data": {
      "text/plain": [
       "array([0, 4, 8])"
      ]
     },
     "execution_count": 65,
     "metadata": {},
     "output_type": "execute_result"
    }
   ],
   "source": [
    "np.diag(x)"
   ]
  },
  {
   "cell_type": "code",
   "execution_count": 125,
   "id": "cc85dd99-e7f3-4348-a641-adf3d886d172",
   "metadata": {},
   "outputs": [
    {
     "data": {
      "text/plain": [
       "array([1, 5])"
      ]
     },
     "execution_count": 125,
     "metadata": {},
     "output_type": "execute_result"
    }
   ],
   "source": [
    "np.diag(x, k=1)"
   ]
  },
  {
   "cell_type": "code",
   "execution_count": 126,
   "id": "f42074e8-b98b-4cd8-9778-e4f717621105",
   "metadata": {},
   "outputs": [
    {
     "data": {
      "text/plain": [
       "array([3, 7])"
      ]
     },
     "execution_count": 126,
     "metadata": {},
     "output_type": "execute_result"
    }
   ],
   "source": [
    "np.diag(x, k=-1)"
   ]
  },
  {
   "cell_type": "code",
   "execution_count": 127,
   "id": "c2e14a85-eba7-43da-a91d-48f4a23726cb",
   "metadata": {},
   "outputs": [
    {
     "data": {
      "text/plain": [
       "array([[0, 0, 0],\n",
       "       [0, 4, 0],\n",
       "       [0, 0, 8]])"
      ]
     },
     "execution_count": 127,
     "metadata": {},
     "output_type": "execute_result"
    }
   ],
   "source": [
    "np.diag(np.diag(x))"
   ]
  },
  {
   "cell_type": "markdown",
   "id": "7daadd4e-742c-4bd6-916e-28b806c8be67",
   "metadata": {},
   "source": [
    "**NumPy allows triangular functions like `np.tril()` and `np.triu()` to operate on rectangular matrices for flexibility and general-purpose use — even though the strict mathematical definition of triangular matrices only applies to square matrices.**\n",
    "\n"
   ]
  },
  {
   "cell_type": "code",
   "execution_count": 128,
   "id": "213e30b6-42d1-43f2-912d-a89f785436c8",
   "metadata": {},
   "outputs": [],
   "source": [
    "#An array with ones at and below the given diagonal and zeros elsewhere."
   ]
  },
  {
   "cell_type": "code",
   "execution_count": 68,
   "id": "fc87a72b-8c5d-4cd1-884b-a9789174fbe3",
   "metadata": {},
   "outputs": [
    {
     "data": {
      "text/plain": [
       "array([[1, 0, 0, 0, 0],\n",
       "       [1, 1, 0, 0, 0],\n",
       "       [1, 1, 1, 0, 0]])"
      ]
     },
     "execution_count": 68,
     "metadata": {},
     "output_type": "execute_result"
    }
   ],
   "source": [
    "np.tri(3, 5, 0, dtype=int)"
   ]
  },
  {
   "cell_type": "code",
   "execution_count": 130,
   "id": "58ba70aa-3991-4266-9a67-80fa7f8cc876",
   "metadata": {},
   "outputs": [
    {
     "data": {
      "text/plain": [
       "array([[0., 0., 0., 0., 0.],\n",
       "       [1., 0., 0., 0., 0.],\n",
       "       [1., 1., 0., 0., 0.]])"
      ]
     },
     "execution_count": 130,
     "metadata": {},
     "output_type": "execute_result"
    }
   ],
   "source": [
    "np.tri(3, 5, -1)"
   ]
  },
  {
   "cell_type": "code",
   "execution_count": null,
   "id": "01e0c9be-0634-40a7-aab7-395462afe09e",
   "metadata": {},
   "outputs": [],
   "source": [
    "#return a Lower triangle of an array."
   ]
  },
  {
   "cell_type": "code",
   "execution_count": 69,
   "id": "8a7e64ac-1d17-4b3d-b9e9-364fff65c30c",
   "metadata": {},
   "outputs": [
    {
     "name": "stdout",
     "output_type": "stream",
     "text": [
      "[[ 1  2  3]\n",
      " [ 4  5  6]\n",
      " [ 7  8  9]\n",
      " [10 11 12]]\n"
     ]
    }
   ],
   "source": [
    "arr = np.array([[1,2,3],[4,5,6],[7,8,9],[10,11,12]])\n",
    "print(arr)"
   ]
  },
  {
   "cell_type": "code",
   "execution_count": 70,
   "id": "ac164946-424a-4fcb-bbd5-96a8ff682053",
   "metadata": {},
   "outputs": [
    {
     "data": {
      "text/plain": [
       "array([[ 0,  0,  0],\n",
       "       [ 4,  0,  0],\n",
       "       [ 7,  8,  0],\n",
       "       [10, 11, 12]])"
      ]
     },
     "execution_count": 70,
     "metadata": {},
     "output_type": "execute_result"
    }
   ],
   "source": [
    "np.tril(arr, -1)"
   ]
  },
  {
   "cell_type": "code",
   "execution_count": 132,
   "id": "617541a5-9d02-42c5-8ed5-d82c1b75fe65",
   "metadata": {},
   "outputs": [],
   "source": [
    "#return Upper triangle of an array."
   ]
  },
  {
   "cell_type": "code",
   "execution_count": 71,
   "id": "6a98f0f3-3193-48f8-b460-e1094c9d4504",
   "metadata": {},
   "outputs": [
    {
     "data": {
      "text/plain": [
       "array([[ 1,  2,  3],\n",
       "       [ 4,  5,  6],\n",
       "       [ 0,  8,  9],\n",
       "       [ 0,  0, 12]])"
      ]
     },
     "execution_count": 71,
     "metadata": {},
     "output_type": "execute_result"
    }
   ],
   "source": [
    "np.triu(arr, -1)"
   ]
  },
  {
   "cell_type": "markdown",
   "id": "5ce96b80-9cce-4f14-bb2e-c1b6c2e4a039",
   "metadata": {},
   "source": [
    "**Random number generation**"
   ]
  },
  {
   "cell_type": "markdown",
   "id": "2fa33a8f-5f10-44eb-b808-578aa26c85a2",
   "metadata": {},
   "source": [
    "1. Uniform Distribution : Occurence of value 1 to 6 if a die is rolled 10,000 times\n",
    "2. Normal Distribution : Height of person in india for a sample of 1 Million People"
   ]
  },
  {
   "cell_type": "code",
   "execution_count": 72,
   "id": "116bc964-9c36-4932-85b8-40519638d404",
   "metadata": {},
   "outputs": [
    {
     "name": "stdout",
     "output_type": "stream",
     "text": [
      "Random number generation (from Uniform distribution)\n",
      "[[0.07555202 0.09988798 0.84163818]\n",
      " [0.81425217 0.20967887 0.12520277]]\n"
     ]
    }
   ],
   "source": [
    "print(\"Random number generation (from Uniform distribution)\")\n",
    "print(np.random.rand(2,3)) \n",
    "# 2 by 3 matrix with random numbers ranging from 0 to 1, Note no Tuple is necessary"
   ]
  },
  {
   "cell_type": "code",
   "execution_count": 73,
   "id": "9cf47cd8-711a-460a-9635-b236f7133bac",
   "metadata": {},
   "outputs": [
    {
     "name": "stdout",
     "output_type": "stream",
     "text": [
      "Numbers from Normal distribution with zero mean and standard deviation 1 i.e. standard normal\n",
      "[[-0.22912484  1.71437712 -1.0000993 ]\n",
      " [-0.8236714   0.24857661 -0.26972985]\n",
      " [ 1.68099442 -0.77396406  0.37860004]\n",
      " [ 0.59336717 -0.31427903  0.4722494 ]]\n"
     ]
    }
   ],
   "source": [
    "print(\"Numbers from Normal distribution with zero mean and standard deviation 1 i.e. standard normal\")\n",
    "print(np.random.randn(4,3))"
   ]
  },
  {
   "cell_type": "code",
   "execution_count": 74,
   "id": "9b1a0f61-bdc3-4d6a-b889-1beabe922c1e",
   "metadata": {},
   "outputs": [
    {
     "name": "stdout",
     "output_type": "stream",
     "text": [
      "Random integer vector: [74 16 54 89 14 68  8 17 26 19]\n",
      "\n",
      "Random integer matrix\n"
     ]
    }
   ],
   "source": [
    "print(\"Random integer vector:\",np.random.randint(1,100,10)) #randint (low, high, # of samples to be drawn)\n",
    "print (\"\\nRandom integer matrix\")"
   ]
  },
  {
   "cell_type": "code",
   "execution_count": 75,
   "id": "3df69917-02de-4811-899f-93c9e86b798b",
   "metadata": {},
   "outputs": [
    {
     "name": "stdout",
     "output_type": "stream",
     "text": [
      "[[96  8 16 60]\n",
      " [44 22 35 13]\n",
      " [ 2 29 73 94]\n",
      " [19 83 12 44]]\n",
      "\n",
      "20 samples drawn from a dice throw: [3 4 6 3 5 4 3 5 3 1 5 4 5 6 5 1 1 5 5 6]\n"
     ]
    }
   ],
   "source": [
    "print(np.random.randint(1,100,(4,4))) #randint (low, high, # of samples to be drawn in a tuple to form a matrix)\n",
    "print(\"\\n20 samples drawn from a dice throw:\",np.random.randint(1,7,20)) # 20 samples drawn from a dice throw"
   ]
  },
  {
   "cell_type": "markdown",
   "id": "4f94b58f-3e50-43ac-98b1-b61c18354546",
   "metadata": {},
   "source": [
    "---"
   ]
  }
 ],
 "metadata": {
  "kernelspec": {
   "display_name": "Python 3 (ipykernel)",
   "language": "python",
   "name": "python3"
  },
  "language_info": {
   "codemirror_mode": {
    "name": "ipython",
    "version": 3
   },
   "file_extension": ".py",
   "mimetype": "text/x-python",
   "name": "python",
   "nbconvert_exporter": "python",
   "pygments_lexer": "ipython3",
   "version": "3.11.13"
  }
 },
 "nbformat": 4,
 "nbformat_minor": 5
}
