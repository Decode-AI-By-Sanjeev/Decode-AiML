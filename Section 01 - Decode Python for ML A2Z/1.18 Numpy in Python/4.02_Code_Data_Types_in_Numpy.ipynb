{
 "cells": [
  {
   "cell_type": "markdown",
   "id": "c699e55e-9f7f-4143-ab92-029ed0819e86",
   "metadata": {},
   "source": [
    "## Numpy-2 : Data-Types in Numpy Arrays"
   ]
  },
  {
   "cell_type": "markdown",
   "id": "21befa4d-df49-4147-be98-03315835f8d1",
   "metadata": {},
   "source": [
    "**Installing Numpy**"
   ]
  },
  {
   "cell_type": "code",
   "execution_count": 18,
   "id": "54fa0bc0-e90e-4f65-9f18-0143ef338060",
   "metadata": {},
   "outputs": [
    {
     "name": "stdout",
     "output_type": "stream",
     "text": [
      "Requirement already satisfied: numpy in c:\\users\\pc\\anaconda3\\envs\\decodeaienv\\lib\\site-packages (2.3.0)\n"
     ]
    }
   ],
   "source": [
    "!pip install numpy"
   ]
  },
  {
   "cell_type": "markdown",
   "id": "5e41f292-482d-4abc-8638-af92a87bee96",
   "metadata": {},
   "source": [
    "**Importing numpy**"
   ]
  },
  {
   "cell_type": "code",
   "execution_count": 2,
   "id": "c8816691-21db-4185-aa94-e6caace267a4",
   "metadata": {},
   "outputs": [],
   "source": [
    "# np is just an alias (a nickname) for the numpy module.\n",
    "import numpy as np"
   ]
  },
  {
   "cell_type": "markdown",
   "id": "daf047ed-f2ed-4225-bfe8-134401a0d8c5",
   "metadata": {},
   "source": [
    "**Checking Numpy Version**"
   ]
  },
  {
   "cell_type": "code",
   "execution_count": 3,
   "id": "b9235665-154c-4844-8fbd-4a5ffb5cc0e5",
   "metadata": {},
   "outputs": [
    {
     "data": {
      "text/plain": [
       "'2.3.0'"
      ]
     },
     "execution_count": 3,
     "metadata": {},
     "output_type": "execute_result"
    }
   ],
   "source": [
    "np.__version__"
   ]
  },
  {
   "cell_type": "markdown",
   "id": "9044b8e2-e785-46ef-b49d-3e267cc2966d",
   "metadata": {},
   "source": [
    "**Numpy 1D, 2D and 3D Array**"
   ]
  },
  {
   "cell_type": "code",
   "execution_count": 4,
   "id": "b505c6c5-137d-4200-a0cf-e7179932cd22",
   "metadata": {},
   "outputs": [
    {
     "data": {
      "text/plain": [
       "array([1, 2, 3, 4])"
      ]
     },
     "execution_count": 4,
     "metadata": {},
     "output_type": "execute_result"
    }
   ],
   "source": [
    "# a list of numbers will create a 1D array => Think of this as a single row or a single column of values.\n",
    "a1D = np.array([1, 2, 3, 4])\n",
    "a1D"
   ]
  },
  {
   "cell_type": "code",
   "execution_count": 5,
   "id": "77ed5c99-65c6-4043-9f6c-cb9cf5a420e5",
   "metadata": {},
   "outputs": [
    {
     "name": "stdout",
     "output_type": "stream",
     "text": [
      "<class 'numpy.ndarray'>\n"
     ]
    }
   ],
   "source": [
    "print(type(a1D))"
   ]
  },
  {
   "cell_type": "code",
   "execution_count": 6,
   "id": "3784628e-16cf-4b0d-a2a1-ac27e0a0a9b4",
   "metadata": {},
   "outputs": [
    {
     "name": "stdout",
     "output_type": "stream",
     "text": [
      "Help on built-in function array in module numpy:\n",
      "\n",
      "array(...)\n",
      "    array(object, dtype=None, *, copy=True, order='K', subok=False, ndmin=0,\n",
      "          like=None)\n",
      "\n",
      "    Create an array.\n",
      "\n",
      "    Parameters\n",
      "    ----------\n",
      "    object : array_like\n",
      "        An array, any object exposing the array interface, an object whose\n",
      "        ``__array__`` method returns an array, or any (nested) sequence.\n",
      "        If object is a scalar, a 0-dimensional array containing object is\n",
      "        returned.\n",
      "    dtype : data-type, optional\n",
      "        The desired data-type for the array. If not given, NumPy will try to use\n",
      "        a default ``dtype`` that can represent the values (by applying promotion\n",
      "        rules when necessary.)\n",
      "    copy : bool, optional\n",
      "        If ``True`` (default), then the array data is copied. If ``None``,\n",
      "        a copy will only be made if ``__array__`` returns a copy, if obj is\n",
      "        a nested sequence, or if a copy is needed to satisfy any of the other\n",
      "        requirements (``dtype``, ``order``, etc.). Note that any copy of\n",
      "        the data is shallow, i.e., for arrays with object dtype, the new\n",
      "        array will point to the same objects. See Examples for `ndarray.copy`.\n",
      "        For ``False`` it raises a ``ValueError`` if a copy cannot be avoided.\n",
      "        Default: ``True``.\n",
      "    order : {'K', 'A', 'C', 'F'}, optional\n",
      "        Specify the memory layout of the array. If object is not an array, the\n",
      "        newly created array will be in C order (row major) unless 'F' is\n",
      "        specified, in which case it will be in Fortran order (column major).\n",
      "        If object is an array the following holds.\n",
      "\n",
      "        ===== ========= ===================================================\n",
      "        order  no copy                     copy=True\n",
      "        ===== ========= ===================================================\n",
      "        'K'   unchanged F & C order preserved, otherwise most similar order\n",
      "        'A'   unchanged F order if input is F and not C, otherwise C order\n",
      "        'C'   C order   C order\n",
      "        'F'   F order   F order\n",
      "        ===== ========= ===================================================\n",
      "\n",
      "        When ``copy=None`` and a copy is made for other reasons, the result is\n",
      "        the same as if ``copy=True``, with some exceptions for 'A', see the\n",
      "        Notes section. The default order is 'K'.\n",
      "    subok : bool, optional\n",
      "        If True, then sub-classes will be passed-through, otherwise\n",
      "        the returned array will be forced to be a base-class array (default).\n",
      "    ndmin : int, optional\n",
      "        Specifies the minimum number of dimensions that the resulting\n",
      "        array should have.  Ones will be prepended to the shape as\n",
      "        needed to meet this requirement.\n",
      "    like : array_like, optional\n",
      "        Reference object to allow the creation of arrays which are not\n",
      "        NumPy arrays. If an array-like passed in as ``like`` supports\n",
      "        the ``__array_function__`` protocol, the result will be defined\n",
      "        by it. In this case, it ensures the creation of an array object\n",
      "        compatible with that passed in via this argument.\n",
      "\n",
      "        .. versionadded:: 1.20.0\n",
      "\n",
      "    Returns\n",
      "    -------\n",
      "    out : ndarray\n",
      "        An array object satisfying the specified requirements.\n",
      "\n",
      "    See Also\n",
      "    --------\n",
      "    empty_like : Return an empty array with shape and type of input.\n",
      "    ones_like : Return an array of ones with shape and type of input.\n",
      "    zeros_like : Return an array of zeros with shape and type of input.\n",
      "    full_like : Return a new array with shape of input filled with value.\n",
      "    empty : Return a new uninitialized array.\n",
      "    ones : Return a new array setting values to one.\n",
      "    zeros : Return a new array setting values to zero.\n",
      "    full : Return a new array of given shape filled with value.\n",
      "    copy: Return an array copy of the given object.\n",
      "\n",
      "\n",
      "    Notes\n",
      "    -----\n",
      "    When order is 'A' and ``object`` is an array in neither 'C' nor 'F' order,\n",
      "    and a copy is forced by a change in dtype, then the order of the result is\n",
      "    not necessarily 'C' as expected. This is likely a bug.\n",
      "\n",
      "    Examples\n",
      "    --------\n",
      "    >>> import numpy as np\n",
      "    >>> np.array([1, 2, 3])\n",
      "    array([1, 2, 3])\n",
      "\n",
      "    Upcasting:\n",
      "\n",
      "    >>> np.array([1, 2, 3.0])\n",
      "    array([ 1.,  2.,  3.])\n",
      "\n",
      "    More than one dimension:\n",
      "\n",
      "    >>> np.array([[1, 2], [3, 4]])\n",
      "    array([[1, 2],\n",
      "           [3, 4]])\n",
      "\n",
      "    Minimum dimensions 2:\n",
      "\n",
      "    >>> np.array([1, 2, 3], ndmin=2)\n",
      "    array([[1, 2, 3]])\n",
      "\n",
      "    Type provided:\n",
      "\n",
      "    >>> np.array([1, 2, 3], dtype=complex)\n",
      "    array([ 1.+0.j,  2.+0.j,  3.+0.j])\n",
      "\n",
      "    Data-type consisting of more than one element:\n",
      "\n",
      "    >>> x = np.array([(1,2),(3,4)],dtype=[('a','<i4'),('b','<i4')])\n",
      "    >>> x['a']\n",
      "    array([1, 3], dtype=int32)\n",
      "\n",
      "    Creating an array from sub-classes:\n",
      "\n",
      "    >>> np.array(np.asmatrix('1 2; 3 4'))\n",
      "    array([[1, 2],\n",
      "           [3, 4]])\n",
      "\n",
      "    >>> np.array(np.asmatrix('1 2; 3 4'), subok=True)\n",
      "    matrix([[1, 2],\n",
      "            [3, 4]])\n",
      "\n"
     ]
    }
   ],
   "source": [
    "help(np.array)"
   ]
  },
  {
   "cell_type": "code",
   "execution_count": 7,
   "id": "2972edc7-45a5-40bb-8540-783132cf7c7f",
   "metadata": {},
   "outputs": [
    {
     "name": "stdout",
     "output_type": "stream",
     "text": [
      "shape is (4,) and size is 4\n"
     ]
    }
   ],
   "source": [
    "print(f\"shape is {a1D.shape} and size is {a1D.size}\")"
   ]
  },
  {
   "cell_type": "code",
   "execution_count": 195,
   "id": "16033a52-fbb0-40c7-8af5-b3806689c433",
   "metadata": {},
   "outputs": [
    {
     "data": {
      "text/plain": [
       "array([[1, 2],\n",
       "       [3, 4]])"
      ]
     },
     "execution_count": 195,
     "metadata": {},
     "output_type": "execute_result"
    }
   ],
   "source": [
    "# a list of lists will create a 2D array => A matrix: rows and columns.\n",
    "a2D = np.array([[1, 2], [3, 4]])\n",
    "a2D"
   ]
  },
  {
   "cell_type": "code",
   "execution_count": 196,
   "id": "51b3a49d-ff12-4218-933c-dd9a947bf5fa",
   "metadata": {},
   "outputs": [
    {
     "name": "stdout",
     "output_type": "stream",
     "text": [
      "shape is (2, 2) and size is 4\n"
     ]
    }
   ],
   "source": [
    "print(f\"shape is {a2D.shape} and size is {a2D.size}\")"
   ]
  },
  {
   "cell_type": "code",
   "execution_count": 9,
   "id": "a376edf0-9ddc-4a82-ba9a-6e83b6cd2002",
   "metadata": {},
   "outputs": [
    {
     "data": {
      "text/plain": [
       "list"
      ]
     },
     "execution_count": 9,
     "metadata": {},
     "output_type": "execute_result"
    }
   ],
   "source": [
    "# An array of matrices.\n",
    "# further nested lists will create higher-dimensional arrays. In general, any array object is called an ndarray in NumPy\n",
    "a3D_list = [\n",
    "    [\n",
    "        [1,2],[3,4]\n",
    "    ], [\n",
    "        [5,6],[7,8]\n",
    "    ]\n",
    "] \n",
    "type(a3D_list)"
   ]
  },
  {
   "cell_type": "code",
   "execution_count": 10,
   "id": "59916add-0c14-4610-8dab-3a59e7e14173",
   "metadata": {},
   "outputs": [
    {
     "data": {
      "text/plain": [
       "array([[[1, 2],\n",
       "        [3, 4]],\n",
       "\n",
       "       [[5, 6],\n",
       "        [7, 8]]])"
      ]
     },
     "execution_count": 10,
     "metadata": {},
     "output_type": "execute_result"
    }
   ],
   "source": [
    "a3D = np.array(a3D_list)\n",
    "a3D"
   ]
  },
  {
   "cell_type": "code",
   "execution_count": 197,
   "id": "77986fd8-b629-4cb3-9965-a9c4a45f04e9",
   "metadata": {},
   "outputs": [
    {
     "name": "stdout",
     "output_type": "stream",
     "text": [
      "shape is (2, 2, 2) and size is 8\n"
     ]
    }
   ],
   "source": [
    "print(f\"shape is {a3D.shape} and size is {a3D.size}\")"
   ]
  },
  {
   "cell_type": "markdown",
   "id": "06ece8ee-2c00-4620-957b-cb288f364aff",
   "metadata": {},
   "source": [
    "**Supported data types in numpy**"
   ]
  },
  {
   "cell_type": "code",
   "execution_count": null,
   "id": "794164cc-0e22-4543-bd47-776dd4e9f841",
   "metadata": {},
   "outputs": [],
   "source": [
    "# NumPy arrays (ndarray) are homogeneous, meaning all elements must be of the same data type."
   ]
  },
  {
   "cell_type": "code",
   "execution_count": 198,
   "id": "6cd1b3da-4e7a-4b5c-91c3-b5e5e69e83b3",
   "metadata": {},
   "outputs": [
    {
     "data": {
      "text/plain": [
       "array([1, 2, 3], dtype=int32)"
      ]
     },
     "execution_count": 198,
     "metadata": {},
     "output_type": "execute_result"
    }
   ],
   "source": [
    "np.array([1, 2, 3], dtype=np.int32)"
   ]
  },
  {
   "cell_type": "code",
   "execution_count": 199,
   "id": "47911f19-f112-46b9-a871-e1325d7e2d81",
   "metadata": {},
   "outputs": [
    {
     "data": {
      "text/plain": [
       "array([1.5, 2.7])"
      ]
     },
     "execution_count": 199,
     "metadata": {},
     "output_type": "execute_result"
    }
   ],
   "source": [
    "np.array([1.5, 2.7], dtype=np.float64)"
   ]
  },
  {
   "cell_type": "code",
   "execution_count": 206,
   "id": "17dc1dea-bafd-475f-9134-cfe8585bc1b7",
   "metadata": {},
   "outputs": [
    {
     "data": {
      "text/plain": [
       "array([1. , 2.7])"
      ]
     },
     "execution_count": 206,
     "metadata": {},
     "output_type": "execute_result"
    }
   ],
   "source": [
    "np.array([1, 2.7]) # NumPy automatically upcasts them to the most compatible common type."
   ]
  },
  {
   "cell_type": "code",
   "execution_count": 208,
   "id": "c8960d32-5811-43b4-9ef7-6025f35761ab",
   "metadata": {},
   "outputs": [
    {
     "data": {
      "text/plain": [
       "array([ True, False,  True])"
      ]
     },
     "execution_count": 208,
     "metadata": {},
     "output_type": "execute_result"
    }
   ],
   "source": [
    "np.array([True, False, True], dtype=bool)"
   ]
  },
  {
   "cell_type": "code",
   "execution_count": 213,
   "id": "32655a22-1ca9-4089-9aea-667b26071d60",
   "metadata": {},
   "outputs": [
    {
     "data": {
      "text/plain": [
       "array(['apple', 'banana'], dtype='<U10')"
      ]
     },
     "execution_count": 213,
     "metadata": {},
     "output_type": "execute_result"
    }
   ],
   "source": [
    "np.array(['apple', 'banana'], dtype='U10') # Little endian byte order - Unicode strings, each up to 10 characters long"
   ]
  },
  {
   "cell_type": "code",
   "execution_count": 166,
   "id": "9d8ae21c-1764-446b-ae4c-14abb937381d",
   "metadata": {},
   "outputs": [
    {
     "data": {
      "text/plain": [
       "array(['2023-01-01', '2023-02-01'], dtype='datetime64[D]')"
      ]
     },
     "execution_count": 166,
     "metadata": {},
     "output_type": "execute_result"
    }
   ],
   "source": [
    "np.array(['2023-01-01', '2023-02-01'], dtype='datetime64[D]')"
   ]
  },
  {
   "cell_type": "code",
   "execution_count": 11,
   "id": "909074bb-93c6-4883-b5b9-7a2de3e8b0b0",
   "metadata": {},
   "outputs": [
    {
     "data": {
      "text/plain": [
       "array(['1', 'b', '3'], dtype='<U21')"
      ]
     },
     "execution_count": 11,
     "metadata": {},
     "output_type": "execute_result"
    }
   ],
   "source": [
    "np.array([1, 'b', 3])"
   ]
  },
  {
   "cell_type": "code",
   "execution_count": 12,
   "id": "a5a5e4eb-81e1-460f-902e-7a2659f66578",
   "metadata": {},
   "outputs": [
    {
     "data": {
      "text/plain": [
       "array([1, 2, 3], dtype=int32)"
      ]
     },
     "execution_count": 12,
     "metadata": {},
     "output_type": "execute_result"
    }
   ],
   "source": [
    "np.array([1, '2', 3], dtype=np.int32)"
   ]
  },
  {
   "cell_type": "code",
   "execution_count": 13,
   "id": "f59a5e6a-b2d0-4089-87ba-37f084df86cc",
   "metadata": {},
   "outputs": [
    {
     "ename": "ValueError",
     "evalue": "invalid literal for int() with base 10: 'b'",
     "output_type": "error",
     "traceback": [
      "\u001b[31m---------------------------------------------------------------------------\u001b[39m",
      "\u001b[31mValueError\u001b[39m                                Traceback (most recent call last)",
      "\u001b[36mCell\u001b[39m\u001b[36m \u001b[39m\u001b[32mIn[13]\u001b[39m\u001b[32m, line 1\u001b[39m\n\u001b[32m----> \u001b[39m\u001b[32m1\u001b[39m np.array([\u001b[32m1\u001b[39m, \u001b[33m'\u001b[39m\u001b[33mb\u001b[39m\u001b[33m'\u001b[39m, \u001b[32m3\u001b[39m], dtype=np.int32)\n",
      "\u001b[31mValueError\u001b[39m: invalid literal for int() with base 10: 'b'"
     ]
    }
   ],
   "source": [
    "np.array([1, 'b', 3], dtype=np.int32)"
   ]
  },
  {
   "cell_type": "markdown",
   "id": "3682e942-bcd8-47f4-8451-193d61bb59e8",
   "metadata": {},
   "source": [
    "**record array or structured array**"
   ]
  },
  {
   "cell_type": "markdown",
   "id": "1431c1a1-09a7-4c10-a197-c9a04ff59ca0",
   "metadata": {},
   "source": [
    "- Structured arrays in NumPy are homogeneous at the array level (each element has the same layout).\n",
    "- We can specify a type and, optionally, a name on a per-column basis. This makes sorting and filtering even more powerful, and it can feel similar to working with data in Excel, CSVs, or relational databases."
   ]
  },
  {
   "cell_type": "code",
   "execution_count": null,
   "id": "3d1f2492-fc2f-4c68-867b-e06ead5133dd",
   "metadata": {},
   "outputs": [],
   "source": [
    "# Record arrays (also called structured arrays) in NumPy are indeed implemented similar to struct in C."
   ]
  },
  {
   "cell_type": "code",
   "execution_count": 15,
   "id": "fdf337a9-5e8c-4a4f-9f8c-06c8416a9ef2",
   "metadata": {},
   "outputs": [],
   "source": [
    "data = np.array([ (\"aman\", 22, 90),\n",
    "                 (\"ankit\", 15, 60), \n",
    "                 (\"akash\", 18, 90), \n",
    "                 (\"aditya\", 22, 80)], \n",
    "                dtype=[(\"name\", 'U15' ), (\"age\", np.int32), (\"marks\", int),]\n",
    "               )"
   ]
  },
  {
   "cell_type": "code",
   "execution_count": 16,
   "id": "a83a2cae-a165-4f56-b5f6-f29ddfca98aa",
   "metadata": {},
   "outputs": [
    {
     "data": {
      "text/plain": [
       "array([('aman', 22, 90), ('ankit', 15, 60), ('akash', 18, 90),\n",
       "       ('aditya', 22, 80)],\n",
       "      dtype=[('name', '<U15'), ('age', '<i4'), ('marks', '<i8')])"
      ]
     },
     "execution_count": 16,
     "metadata": {},
     "output_type": "execute_result"
    }
   ],
   "source": [
    "data"
   ]
  },
  {
   "cell_type": "markdown",
   "id": "5cb4b1ee-2b24-43f1-a5b4-849332bee738",
   "metadata": {},
   "source": [
    "**You can specify the dtype (data type) in several equivalent ways.**\n",
    "1. Using NumPy type strings (compact format) - `[(\"name\", \"U15\"), (\"age\", \"i4\"), (\"marks\", \"i4\")]`\n",
    "2. Using NumPy type objects (recommended) - `[(\"name\", np.unicode_), (\"age\", np.int32), (\"marks\", np.int32)]`\n",
    "3. Mixing Python built-in types and NumPy types - `[(\"name\", str), (\"age\", int), (\"marks\", np.int32)]`"
   ]
  },
  {
   "cell_type": "code",
   "execution_count": 17,
   "id": "d693c406-2024-4d07-a09d-9014d768ef4c",
   "metadata": {},
   "outputs": [
    {
     "name": "stdout",
     "output_type": "stream",
     "text": [
      "('aman', 22, 90)\n"
     ]
    }
   ],
   "source": [
    "print(data[0])"
   ]
  },
  {
   "cell_type": "code",
   "execution_count": 18,
   "id": "8185daca-fd2c-4410-9104-da1f78bfb450",
   "metadata": {},
   "outputs": [
    {
     "data": {
      "text/plain": [
       "array(['aman', 'ankit', 'akash', 'aditya'], dtype='<U15')"
      ]
     },
     "execution_count": 18,
     "metadata": {},
     "output_type": "execute_result"
    }
   ],
   "source": [
    "data[\"name\"]"
   ]
  },
  {
   "cell_type": "markdown",
   "id": "edc2fa68-6997-4d40-8766-fe964ce58c53",
   "metadata": {},
   "source": [
    "### By default, NumPy arrays (ndarray) are homogeneous, meaning all elements must be of the same data type."
   ]
  },
  {
   "cell_type": "markdown",
   "id": "96fd2741-c247-4e20-ba69-d98a98517c1b",
   "metadata": {},
   "source": [
    "- **Homogeneous arrays allow:**\n",
    "  1. Vectorized operations  \n",
    "  2. Efficient memory layout (contiguous blocks)  \n",
    "  3. Fast computations using C under the hood  \n",
    "\n",
    "- **NumPy** is designed for arrays of fixed-size elements — typically numerical data types (integers, floats), but also supports strings, booleans, dates, and custom structured types.\n",
    "\n",
    "- All elements in a **NumPy array** share the same data type (`dtype`).\n",
    "\n",
    "- The data is stored in a **contiguous block of memory** for efficiency.\n"
   ]
  },
  {
   "cell_type": "markdown",
   "id": "2bf2feab-513e-4d61-bb15-49a33ec52dcf",
   "metadata": {},
   "source": [
    "It can support heterogeneous types using object arrays or structured dtypes, but these lose most performance benefits."
   ]
  },
  {
   "cell_type": "code",
   "execution_count": 26,
   "id": "c385e9b6-ef3e-46a3-828f-473d0b4a86a4",
   "metadata": {},
   "outputs": [
    {
     "data": {
      "text/plain": [
       "array(['1', 'b', '3', 'True', '6.5'], dtype='<U32')"
      ]
     },
     "execution_count": 26,
     "metadata": {},
     "output_type": "execute_result"
    }
   ],
   "source": [
    "het = np.array([1, 'b', 3, True, 6.5])\n",
    "het"
   ]
  },
  {
   "cell_type": "code",
   "execution_count": 27,
   "id": "c6e63480-bf14-45ed-b7ec-759de24550b4",
   "metadata": {},
   "outputs": [
    {
     "data": {
      "text/plain": [
       "dtype('<U32')"
      ]
     },
     "execution_count": 27,
     "metadata": {},
     "output_type": "execute_result"
    }
   ],
   "source": [
    "het.dtype # Little endian byte order - Unicode strings, each up to 21 characters long"
   ]
  },
  {
   "cell_type": "code",
   "execution_count": 28,
   "id": "bab718f0-21e2-4d29-9800-79cbca20ca7a",
   "metadata": {},
   "outputs": [
    {
     "name": "stdout",
     "output_type": "stream",
     "text": [
      "<class 'numpy.str_'>\n"
     ]
    }
   ],
   "source": [
    "print(type(het[0]))"
   ]
  },
  {
   "cell_type": "code",
   "execution_count": 29,
   "id": "c4551d87-88e4-470a-af65-c391c7b7e164",
   "metadata": {},
   "outputs": [
    {
     "data": {
      "text/plain": [
       "array([1, 'b', 3, True, 6.5], dtype=object)"
      ]
     },
     "execution_count": 29,
     "metadata": {},
     "output_type": "execute_result"
    }
   ],
   "source": [
    "# NumPy treats this as an array of generic Python objects.\n",
    "# You lose all vectorized speed benefits of NumPy.\n",
    "# Operations like +, broadcasting, etc., don't work efficiently.\n",
    "het = np.array([1, 'b', 3, True, 6.5], dtype=object)\n",
    "het"
   ]
  },
  {
   "cell_type": "code",
   "execution_count": 30,
   "id": "d5b7bbd7-5b3a-4b4f-ac33-70b8bea186b9",
   "metadata": {},
   "outputs": [
    {
     "data": {
      "text/plain": [
       "dtype('O')"
      ]
     },
     "execution_count": 30,
     "metadata": {},
     "output_type": "execute_result"
    }
   ],
   "source": [
    "het.dtype"
   ]
  },
  {
   "cell_type": "code",
   "execution_count": 31,
   "id": "9b71293f-5055-413d-8e80-49c51f061d14",
   "metadata": {},
   "outputs": [
    {
     "name": "stdout",
     "output_type": "stream",
     "text": [
      "<class 'int'>\n"
     ]
    }
   ],
   "source": [
    "print(type(het[0]))"
   ]
  }
 ],
 "metadata": {
  "kernelspec": {
   "display_name": "Python 3 (ipykernel)",
   "language": "python",
   "name": "python3"
  },
  "language_info": {
   "codemirror_mode": {
    "name": "ipython",
    "version": 3
   },
   "file_extension": ".py",
   "mimetype": "text/x-python",
   "name": "python",
   "nbconvert_exporter": "python",
   "pygments_lexer": "ipython3",
   "version": "3.11.13"
  }
 },
 "nbformat": 4,
 "nbformat_minor": 5
}
