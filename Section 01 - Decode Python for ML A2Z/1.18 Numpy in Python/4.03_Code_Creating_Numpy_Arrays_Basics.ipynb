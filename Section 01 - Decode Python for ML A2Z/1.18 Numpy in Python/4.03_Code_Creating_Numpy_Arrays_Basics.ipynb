{
 "cells": [
  {
   "cell_type": "markdown",
   "id": "390dc1a2-64db-464b-9dfb-a74e2a1579fa",
   "metadata": {},
   "source": [
    "## Numpy-3 : Creating Numpy Arrays - Basics"
   ]
  },
  {
   "cell_type": "code",
   "execution_count": 2,
   "id": "fd899b15-ff7d-4848-a722-3a46a4280359",
   "metadata": {},
   "outputs": [],
   "source": [
    "import numpy as np"
   ]
  },
  {
   "cell_type": "markdown",
   "id": "fb1c1243-4501-4028-98d7-e5661ac08b9e",
   "metadata": {},
   "source": [
    "**From built-in python containers (Lists, Tuples etc)**"
   ]
  },
  {
   "cell_type": "code",
   "execution_count": 3,
   "id": "58bdf871-a350-42c7-aa30-7ab81bd4ad44",
   "metadata": {},
   "outputs": [
    {
     "data": {
      "text/plain": [
       "array([1, 2, 3, 4])"
      ]
     },
     "execution_count": 3,
     "metadata": {},
     "output_type": "execute_result"
    }
   ],
   "source": [
    "# using list\n",
    "np.array([1, 2, 3, 4])"
   ]
  },
  {
   "cell_type": "code",
   "execution_count": 4,
   "id": "e51377e2-4020-4033-a40b-831faae5ffce",
   "metadata": {},
   "outputs": [
    {
     "data": {
      "text/plain": [
       "array([1, 2, 3, 4])"
      ]
     },
     "execution_count": 4,
     "metadata": {},
     "output_type": "execute_result"
    }
   ],
   "source": [
    "# using tuples\n",
    "np.array((1, 2, 3, 4))"
   ]
  },
  {
   "cell_type": "markdown",
   "id": "34e70046-f43a-4f75-8573-0a4479c6fcab",
   "metadata": {},
   "source": [
    "**Upcasting in Numpy**\n",
    "- Upcasting in NumPy refers to the automatic conversion of data types when performing operations involving arrays of different types, so that no data is lost and the result has a compatible type that can hold all input values."
   ]
  },
  {
   "cell_type": "code",
   "execution_count": 5,
   "id": "2fd90c59-286a-4e21-b6b1-d5b760ec36b2",
   "metadata": {},
   "outputs": [
    {
     "data": {
      "text/plain": [
       "array([1.  , 2.  , 3.05])"
      ]
     },
     "execution_count": 5,
     "metadata": {},
     "output_type": "execute_result"
    }
   ],
   "source": [
    "np.array([1, 2, 3.05])"
   ]
  },
  {
   "cell_type": "markdown",
   "id": "8f779ffa-5491-480f-8236-86e08fa4e851",
   "metadata": {},
   "source": [
    "**Two Dimensional numpy array**"
   ]
  },
  {
   "cell_type": "code",
   "execution_count": 6,
   "id": "fdab7c1e-ee03-4023-9fa0-dd09ddaaf00f",
   "metadata": {},
   "outputs": [
    {
     "data": {
      "text/plain": [
       "array([[1, 2, 3],\n",
       "       [4, 5, 6]])"
      ]
     },
     "execution_count": 6,
     "metadata": {},
     "output_type": "execute_result"
    }
   ],
   "source": [
    "np.array([[1,2,3],[4,5,6]])"
   ]
  },
  {
   "cell_type": "markdown",
   "id": "5a01ed17-bdd0-477d-a795-1f73bebf8c97",
   "metadata": {},
   "source": [
    "**Minimum dimensions 2**"
   ]
  },
  {
   "cell_type": "code",
   "execution_count": 7,
   "id": "7539eec0-c30f-4a40-9d70-19a5b861dbab",
   "metadata": {},
   "outputs": [
    {
     "data": {
      "text/plain": [
       "array([[1, 2, 3]])"
      ]
     },
     "execution_count": 7,
     "metadata": {},
     "output_type": "execute_result"
    }
   ],
   "source": [
    "np.array([1, 2, 3], ndmin=2)"
   ]
  },
  {
   "cell_type": "markdown",
   "id": "904ef45f-7645-415e-900b-a0fa8fbb9fa6",
   "metadata": {},
   "source": [
    "**dtype**"
   ]
  },
  {
   "cell_type": "code",
   "execution_count": 8,
   "id": "b8cce463-1dc2-48ae-ac0e-0c59eb48ab30",
   "metadata": {},
   "outputs": [
    {
     "data": {
      "text/plain": [
       "array([1.+0.j, 2.+0.j, 3.+0.j])"
      ]
     },
     "execution_count": 8,
     "metadata": {},
     "output_type": "execute_result"
    }
   ],
   "source": [
    " np.array([1, 2, 3], dtype=complex)"
   ]
  },
  {
   "cell_type": "markdown",
   "id": "c2a95760-9485-430a-b490-0b7e9321cf0c",
   "metadata": {},
   "source": [
    "**data consisting of more than one Data-type**"
   ]
  },
  {
   "cell_type": "code",
   "execution_count": 12,
   "id": "f678b541-648f-446f-b29f-bdd5dd6b1b94",
   "metadata": {},
   "outputs": [],
   "source": [
    "x = np.array([(1,2),(3,4.2)],dtype=[('a','i4'),('b',np.float32)])"
   ]
  },
  {
   "cell_type": "code",
   "execution_count": 13,
   "id": "10f2903b-5803-484a-a2a3-1103c6101882",
   "metadata": {},
   "outputs": [
    {
     "data": {
      "text/plain": [
       "array([(1, 2. ), (3, 4.2)], dtype=[('a', '<i4'), ('b', '<f4')])"
      ]
     },
     "execution_count": 13,
     "metadata": {},
     "output_type": "execute_result"
    }
   ],
   "source": [
    "x"
   ]
  },
  {
   "cell_type": "code",
   "execution_count": 14,
   "id": "54be9eb0-00bd-465a-9ba6-956b88e93317",
   "metadata": {},
   "outputs": [
    {
     "data": {
      "text/plain": [
       "array([1, 3], dtype=int32)"
      ]
     },
     "execution_count": 14,
     "metadata": {},
     "output_type": "execute_result"
    }
   ],
   "source": [
    "x['a']"
   ]
  },
  {
   "cell_type": "code",
   "execution_count": 15,
   "id": "32702854-a43b-4588-a845-98553b3d26c6",
   "metadata": {},
   "outputs": [
    {
     "data": {
      "text/plain": [
       "array([2. , 4.2], dtype=float32)"
      ]
     },
     "execution_count": 15,
     "metadata": {},
     "output_type": "execute_result"
    }
   ],
   "source": [
    "x['b']"
   ]
  },
  {
   "cell_type": "markdown",
   "id": "81bf7f91-bae4-4adf-909a-60039f310051",
   "metadata": {},
   "source": [
    "**np.asarray**"
   ]
  },
  {
   "cell_type": "code",
   "execution_count": null,
   "id": "8f62ecfe-46d4-4f51-9fd5-8ce8371a8df3",
   "metadata": {},
   "outputs": [],
   "source": [
    "np.array() => Always creates a new array (i.e., it copies data). Even if the input is already a NumPy array\n",
    "np.asarray() => Just ensure object is a NumPy array"
   ]
  },
  {
   "cell_type": "code",
   "execution_count": 16,
   "id": "4366eb34-875a-41f5-81eb-f348aff84eca",
   "metadata": {},
   "outputs": [],
   "source": [
    " a = [1, 2]"
   ]
  },
  {
   "cell_type": "code",
   "execution_count": 17,
   "id": "5fa6f4f0-bc69-4cdd-826e-4100e13119fd",
   "metadata": {},
   "outputs": [
    {
     "data": {
      "text/plain": [
       "array([1, 2])"
      ]
     },
     "execution_count": 17,
     "metadata": {},
     "output_type": "execute_result"
    }
   ],
   "source": [
    "np.asarray(a)"
   ]
  },
  {
   "cell_type": "code",
   "execution_count": 18,
   "id": "d5566e0c-d96d-41b0-b6df-ec4e7ca92b58",
   "metadata": {},
   "outputs": [
    {
     "data": {
      "text/plain": [
       "[1, 2]"
      ]
     },
     "execution_count": 18,
     "metadata": {},
     "output_type": "execute_result"
    }
   ],
   "source": [
    "a"
   ]
  },
  {
   "cell_type": "code",
   "execution_count": 19,
   "id": "013f140d-0e51-490d-b840-21dd8f4498bc",
   "metadata": {},
   "outputs": [],
   "source": [
    "a = np.array([1, 2]) #Existing arrays are not copied"
   ]
  },
  {
   "cell_type": "code",
   "execution_count": 20,
   "id": "b09dc346-061c-49b9-bc88-a70e3ea9ad4b",
   "metadata": {},
   "outputs": [
    {
     "data": {
      "text/plain": [
       "True"
      ]
     },
     "execution_count": 20,
     "metadata": {},
     "output_type": "execute_result"
    }
   ],
   "source": [
    "np.asarray(a) is a"
   ]
  },
  {
   "cell_type": "markdown",
   "id": "e51c346b-75f8-4669-8c81-8329c0889647",
   "metadata": {},
   "source": [
    "**If dtype is set, array is copied only if dtype does not match:**"
   ]
  },
  {
   "cell_type": "code",
   "execution_count": 29,
   "id": "01ca11fd-09bd-4b44-a016-634eca7fb90f",
   "metadata": {},
   "outputs": [],
   "source": [
    "a = np.array([1, 2], dtype=np.float32)"
   ]
  },
  {
   "cell_type": "code",
   "execution_count": 30,
   "id": "3824a50a-53ae-42ad-886f-26465c1325b7",
   "metadata": {},
   "outputs": [
    {
     "data": {
      "text/plain": [
       "True"
      ]
     },
     "execution_count": 30,
     "metadata": {},
     "output_type": "execute_result"
    }
   ],
   "source": [
    "np.asarray(a, dtype=np.float32) is a"
   ]
  },
  {
   "cell_type": "code",
   "execution_count": 31,
   "id": "d04cfef0-d091-40ea-913d-a1e107c67f3c",
   "metadata": {},
   "outputs": [
    {
     "data": {
      "text/plain": [
       "array([1., 2.], dtype=float32)"
      ]
     },
     "execution_count": 31,
     "metadata": {},
     "output_type": "execute_result"
    }
   ],
   "source": [
    "a"
   ]
  },
  {
   "cell_type": "code",
   "execution_count": 21,
   "id": "76697f94-0f92-4e31-b6bb-e7e2bb9b29e6",
   "metadata": {},
   "outputs": [
    {
     "data": {
      "text/plain": [
       "False"
      ]
     },
     "execution_count": 21,
     "metadata": {},
     "output_type": "execute_result"
    }
   ],
   "source": [
    "np.asarray(a, dtype=np.float64) is a"
   ]
  },
  {
   "cell_type": "markdown",
   "id": "058d9a1f-8009-417e-bed7-3cac04f39257",
   "metadata": {},
   "source": [
    "**numpy.copy**"
   ]
  },
  {
   "cell_type": "code",
   "execution_count": 22,
   "id": "0e158ea1-6459-40fa-8668-39de46111c2b",
   "metadata": {},
   "outputs": [
    {
     "data": {
      "text/plain": [
       "array([1, 2])"
      ]
     },
     "execution_count": 22,
     "metadata": {},
     "output_type": "execute_result"
    }
   ],
   "source": [
    "a"
   ]
  },
  {
   "cell_type": "code",
   "execution_count": 24,
   "id": "498d5f53-83bf-4280-bebb-038d72949c3f",
   "metadata": {},
   "outputs": [
    {
     "data": {
      "text/plain": [
       "False"
      ]
     },
     "execution_count": 24,
     "metadata": {},
     "output_type": "execute_result"
    }
   ],
   "source": [
    "np.array(a, copy=True)  is a"
   ]
  },
  {
   "cell_type": "code",
   "execution_count": 25,
   "id": "22a1609e-2b93-4554-8d1f-b07c81c7928d",
   "metadata": {},
   "outputs": [
    {
     "data": {
      "text/plain": [
       "True"
      ]
     },
     "execution_count": 25,
     "metadata": {},
     "output_type": "execute_result"
    }
   ],
   "source": [
    "np.array(a, copy=False)  is a"
   ]
  },
  {
   "cell_type": "markdown",
   "id": "ca09819d-e58d-4e90-96b6-107a45bf7f35",
   "metadata": {},
   "source": [
    "**Create an array x, with a reference y and a copy z**"
   ]
  },
  {
   "cell_type": "code",
   "execution_count": 26,
   "id": "74d4ac88-b329-48e4-832d-340cb2a41617",
   "metadata": {},
   "outputs": [],
   "source": [
    "x = np.array([1, 2, 3])"
   ]
  },
  {
   "cell_type": "code",
   "execution_count": 27,
   "id": "5286bcd8-364d-4267-9a6c-425420644339",
   "metadata": {},
   "outputs": [],
   "source": [
    "y = x"
   ]
  },
  {
   "cell_type": "code",
   "execution_count": 28,
   "id": "7ebaf854-5766-4b3f-b8fb-92a4cd3b5290",
   "metadata": {},
   "outputs": [],
   "source": [
    "z = np.copy(x)"
   ]
  },
  {
   "cell_type": "markdown",
   "id": "ddd26368-d134-4d84-9c72-593e272e687d",
   "metadata": {},
   "source": [
    "**when we modify x, y changes, but not z**"
   ]
  },
  {
   "cell_type": "code",
   "execution_count": 29,
   "id": "440692aa-1667-4618-9c1a-6f8180082479",
   "metadata": {},
   "outputs": [],
   "source": [
    "x[0] = 10"
   ]
  },
  {
   "cell_type": "code",
   "execution_count": 30,
   "id": "50946d8c-48fb-4c11-b92f-6677767632b6",
   "metadata": {},
   "outputs": [
    {
     "data": {
      "text/plain": [
       "array([10,  2,  3])"
      ]
     },
     "execution_count": 30,
     "metadata": {},
     "output_type": "execute_result"
    }
   ],
   "source": [
    "x"
   ]
  },
  {
   "cell_type": "code",
   "execution_count": 31,
   "id": "59b0431e-470d-4c00-91a9-3bc086ffa228",
   "metadata": {},
   "outputs": [
    {
     "data": {
      "text/plain": [
       "array([10,  2,  3])"
      ]
     },
     "execution_count": 31,
     "metadata": {},
     "output_type": "execute_result"
    }
   ],
   "source": [
    "y"
   ]
  },
  {
   "cell_type": "code",
   "execution_count": 32,
   "id": "2ac146b8-429d-4ce5-a999-71a7987a1d26",
   "metadata": {},
   "outputs": [
    {
     "data": {
      "text/plain": [
       "array([1, 2, 3])"
      ]
     },
     "execution_count": 32,
     "metadata": {},
     "output_type": "execute_result"
    }
   ],
   "source": [
    "z"
   ]
  },
  {
   "cell_type": "markdown",
   "id": "da76af57-959d-4571-99fa-9f88a02df25e",
   "metadata": {},
   "source": [
    "**Read and write data from a file**"
   ]
  },
  {
   "cell_type": "markdown",
   "id": "7cfe78b4-5052-4a7f-a652-e214f51f1a40",
   "metadata": {},
   "source": [
    "**Text Files (.txt, .csv)**"
   ]
  },
  {
   "cell_type": "code",
   "execution_count": 34,
   "id": "be915be9-f414-415e-ac3b-3094c51dd37d",
   "metadata": {},
   "outputs": [
    {
     "name": "stdout",
     "output_type": "stream",
     "text": [
      "[[1. 2. 3.]\n",
      " [4. 5. 6.]\n",
      " [7. 8. 9.]]\n"
     ]
    }
   ],
   "source": [
    "data = np.loadtxt(\"data.txt\", delimiter=\",\")\n",
    "print(data)"
   ]
  },
  {
   "cell_type": "code",
   "execution_count": 35,
   "id": "e0d3d741-242a-461a-9809-3038d564781b",
   "metadata": {},
   "outputs": [
    {
     "data": {
      "text/plain": [
       "array([[ 1.,  4.,  9.],\n",
       "       [16., 25., 36.],\n",
       "       [49., 64., 81.]])"
      ]
     },
     "execution_count": 35,
     "metadata": {},
     "output_type": "execute_result"
    }
   ],
   "source": [
    "data = data ** 2\n",
    "data"
   ]
  },
  {
   "cell_type": "code",
   "execution_count": 38,
   "id": "b362413e-df05-4d9a-bfad-4f9107ed2271",
   "metadata": {},
   "outputs": [],
   "source": [
    "np.savetxt(\"output_data.txt\", data,fmt=\"%d\")"
   ]
  },
  {
   "cell_type": "markdown",
   "id": "ebbc0143-ee29-4910-aaea-6f790eed47c7",
   "metadata": {},
   "source": [
    "**Binary Files (.npy, .npz)**"
   ]
  },
  {
   "cell_type": "code",
   "execution_count": 39,
   "id": "02f6f887-1e5b-4f39-8bd8-21570c974dc3",
   "metadata": {},
   "outputs": [],
   "source": [
    "arr = np.array([1, 2, 3, 4])\n",
    "np.save(\"array.npy\", arr)"
   ]
  },
  {
   "cell_type": "code",
   "execution_count": 40,
   "id": "2609eb58-9763-4e23-bae8-d71cc4246cf8",
   "metadata": {},
   "outputs": [
    {
     "name": "stdout",
     "output_type": "stream",
     "text": [
      "[1 2 3 4]\n"
     ]
    }
   ],
   "source": [
    "arr = np.load(\"array.npy\")\n",
    "print(arr)"
   ]
  },
  {
   "cell_type": "code",
   "execution_count": 41,
   "id": "139c7200-a970-4f99-8d9e-aaed764796ab",
   "metadata": {},
   "outputs": [],
   "source": [
    "# Save multiple arrays\n",
    "a = np.array([1, 2, 3])\n",
    "b = np.array([4, 5, 6])\n",
    "np.savez(\"arrays.npz\", arr1=a, arr2=b)"
   ]
  },
  {
   "cell_type": "code",
   "execution_count": 42,
   "id": "8a59dfec-dcef-4cab-928e-b5d5c43e5e2d",
   "metadata": {},
   "outputs": [
    {
     "name": "stdout",
     "output_type": "stream",
     "text": [
      "[1 2 3]\n",
      "[4 5 6]\n"
     ]
    }
   ],
   "source": [
    "# Load them back\n",
    "data = np.load(\"arrays.npz\")\n",
    "print(data[\"arr1\"])  # [1 2 3]\n",
    "print(data[\"arr2\"])  # [4 5 6]"
   ]
  },
  {
   "cell_type": "markdown",
   "id": "62169314-598f-4c24-ba9d-d309217cf6d5",
   "metadata": {},
   "source": [
    "| File Format     | Read Function                | Write Function                   | Notes                               |\n",
    "| --------------- | ---------------------------- | -------------------------------- | ----------------------------------- |\n",
    "| `.txt` / `.csv` | `loadtxt()` / `genfromtxt()` | `savetxt()`                      | Use delimiter for custom separators |\n",
    "| `.npy`          | `load()`                     | `save()`                         | For single array (binary)           |\n",
    "| `.npz`          | `load()`                     | `savez()` / `savez_compressed()` | For multiple arrays                 |\n"
   ]
  },
  {
   "cell_type": "markdown",
   "id": "27fcf352-8d79-4034-8cf5-f411e32babc2",
   "metadata": {},
   "source": [
    "**Advantages of .npy and .npz over Text Files**\n",
    "| Feature                  | `.npy` / `.npz` (Binary)                            | `.txt` / `.csv` (Text)                          |\n",
    "| ------------------------ | --------------------------------------------------- | ----------------------------------------------- |\n",
    "| **Efficiency**        | Much faster to read/write                           | Slower I/O                                      |\n",
    "| **Storage Size**      | More compact                                        | Larger file size                                |\n",
    "| **Multiple Arrays**   | `.npz` can store many arrays in one file            | Not supported; need multiple files              |\n",
    "| **No Parsing Needed** | Directly loads as NumPy array                       | Needs delimiter, dtype parsing                  |\n",
    "| **More Reliable**     | No risk of formatting issues                        | Sensitive to extra spaces, missing values, etc. |\n"
   ]
  },
  {
   "cell_type": "markdown",
   "id": "49d81781-08a9-4313-9155-f91ca410c556",
   "metadata": {},
   "source": [
    "**numpy.fromfunction**"
   ]
  },
  {
   "cell_type": "code",
   "execution_count": null,
   "id": "7faefb37-03e2-4f47-8507-9270eae58feb",
   "metadata": {},
   "outputs": [],
   "source": [
    "#It constructs an array by calling a function on each coordinate/index of the desired shape."
   ]
  },
  {
   "cell_type": "code",
   "execution_count": 69,
   "id": "6a064f87-185d-45dd-b337-a72e20fc74b1",
   "metadata": {},
   "outputs": [
    {
     "data": {
      "text/plain": [
       "array([[ True, False, False],\n",
       "       [False,  True, False],\n",
       "       [False, False,  True]])"
      ]
     },
     "execution_count": 69,
     "metadata": {},
     "output_type": "execute_result"
    }
   ],
   "source": [
    "np.fromfunction(lambda i, j: i == j, (3, 3), dtype=int)"
   ]
  },
  {
   "cell_type": "code",
   "execution_count": 70,
   "id": "90736907-2d55-49ec-a1e7-63b1f1469a31",
   "metadata": {},
   "outputs": [
    {
     "data": {
      "text/plain": [
       "array([[0, 1, 2],\n",
       "       [1, 2, 3],\n",
       "       [2, 3, 4]])"
      ]
     },
     "execution_count": 70,
     "metadata": {},
     "output_type": "execute_result"
    }
   ],
   "source": [
    "np.fromfunction(lambda i, j: i + j, (3, 3), dtype=int)"
   ]
  },
  {
   "cell_type": "code",
   "execution_count": null,
   "id": "df6c43dc-b848-4b38-a6f8-b4bc1b23b0b7",
   "metadata": {},
   "outputs": [],
   "source": [
    "#Create a new 1-dimensional array from an iterable object."
   ]
  },
  {
   "cell_type": "code",
   "execution_count": 71,
   "id": "0e68c578-db93-45b7-8f19-f3152c62cf73",
   "metadata": {},
   "outputs": [],
   "source": [
    "iterable = (x*x for x in range(5)) #generator"
   ]
  },
  {
   "cell_type": "code",
   "execution_count": 72,
   "id": "a08457cf-a27f-4dce-bcc1-69ee6c9d5543",
   "metadata": {},
   "outputs": [
    {
     "data": {
      "text/plain": [
       "<generator object <genexpr> at 0x00000218D20552F0>"
      ]
     },
     "execution_count": 72,
     "metadata": {},
     "output_type": "execute_result"
    }
   ],
   "source": [
    "iterable"
   ]
  },
  {
   "cell_type": "code",
   "execution_count": 73,
   "id": "653927eb-54f3-4d1e-91b3-beaa1abc7056",
   "metadata": {},
   "outputs": [
    {
     "data": {
      "text/plain": [
       "array([ 0.,  1.,  4.,  9., 16.])"
      ]
     },
     "execution_count": 73,
     "metadata": {},
     "output_type": "execute_result"
    }
   ],
   "source": [
    "np.fromiter(iterable, float)"
   ]
  },
  {
   "cell_type": "code",
   "execution_count": 74,
   "id": "6223897a-aa69-4790-835a-960c6b5ea83f",
   "metadata": {},
   "outputs": [],
   "source": [
    "#A new 1-D array initialized from text data in a string"
   ]
  },
  {
   "cell_type": "code",
   "execution_count": 75,
   "id": "5c58970c-43fc-463d-9a67-1ebfbf448f3e",
   "metadata": {},
   "outputs": [
    {
     "data": {
      "text/plain": [
       "array([1, 2])"
      ]
     },
     "execution_count": 75,
     "metadata": {},
     "output_type": "execute_result"
    }
   ],
   "source": [
    "np.fromstring('1 2', dtype=int, sep=' ')"
   ]
  },
  {
   "cell_type": "code",
   "execution_count": 76,
   "id": "8ce75fc3-f827-4a4e-8708-b448867a2c73",
   "metadata": {},
   "outputs": [
    {
     "data": {
      "text/plain": [
       "array([1, 2])"
      ]
     },
     "execution_count": 76,
     "metadata": {},
     "output_type": "execute_result"
    }
   ],
   "source": [
    "np.fromstring('1, 2', dtype=int, sep=',')"
   ]
  },
  {
   "cell_type": "markdown",
   "id": "9dc79364-1883-4d19-95b2-846d71b8060f",
   "metadata": {},
   "source": [
    "**create a record array from a (flat) list of arrays**"
   ]
  },
  {
   "cell_type": "code",
   "execution_count": 44,
   "id": "7c4d38d7-7360-40c7-88a5-4719a9ebce07",
   "metadata": {},
   "outputs": [],
   "source": [
    "x1 = [1, 2, 3]"
   ]
  },
  {
   "cell_type": "code",
   "execution_count": 45,
   "id": "b73cdb52-7118-45a2-af24-693d66bfd3be",
   "metadata": {},
   "outputs": [],
   "source": [
    "x2 = [4.0, 5.0, 6.0] "
   ]
  },
  {
   "cell_type": "code",
   "execution_count": 46,
   "id": "5af7a692-4eb1-4cff-a6a7-dad0e56f8465",
   "metadata": {},
   "outputs": [],
   "source": [
    "x3 = ['a', 'b', 'c']"
   ]
  },
  {
   "cell_type": "code",
   "execution_count": 49,
   "id": "98c331e1-cd0e-498e-bf56-440cfa85a1f0",
   "metadata": {},
   "outputs": [
    {
     "data": {
      "text/plain": [
       "[(1, 4.0, 'a'), (2, 5.0, 'b'), (3, 6.0, 'c')]"
      ]
     },
     "execution_count": 49,
     "metadata": {},
     "output_type": "execute_result"
    }
   ],
   "source": [
    "list(zip(x1, x2, x3))"
   ]
  },
  {
   "cell_type": "code",
   "execution_count": 86,
   "id": "21a349bd-f1c5-44f5-a86a-7a4a3e1bedbb",
   "metadata": {},
   "outputs": [
    {
     "name": "stdout",
     "output_type": "stream",
     "text": [
      "[(1, 4., 'a') (2, 5., 'b') (3, 6., 'c')]\n",
      "[1 2 3]\n"
     ]
    }
   ],
   "source": [
    "r = np.array(list(zip(x1, x2, x3)), dtype=[('a', 'i4'), ('b', 'f4'), ('c', 'U1')])\n",
    "print(r)\n",
    "print(r['a'])\n"
   ]
  },
  {
   "cell_type": "markdown",
   "id": "36d8be0b-0213-446c-b6d6-f30082e5fc6b",
   "metadata": {},
   "source": [
    "**data types**"
   ]
  },
  {
   "cell_type": "code",
   "execution_count": 89,
   "id": "ef5686d8-d4e0-4398-90b8-d705d966526a",
   "metadata": {},
   "outputs": [
    {
     "name": "stdout",
     "output_type": "stream",
     "text": [
      "Type/Class of this object: <class 'numpy.ndarray'>\n",
      "Here is the vector\n",
      "--------------------\n",
      " [1 2 3]\n"
     ]
    }
   ],
   "source": [
    "my_list = [1,2,3]\n",
    "import numpy as np\n",
    "arr = np.array(my_list)\n",
    "print(\"Type/Class of this object:\",type(arr))\n",
    "print(\"Here is the vector\\n--------------------\\n\",arr)"
   ]
  },
  {
   "cell_type": "code",
   "execution_count": 52,
   "id": "47417613-41b1-4aef-a158-28825595b593",
   "metadata": {},
   "outputs": [
    {
     "name": "stdout",
     "output_type": "stream",
     "text": [
      "Type/Class of this object: <class 'numpy.ndarray'>\n",
      "Here is the matrix\n",
      "----------\n",
      " [[1 2 3]\n",
      " [4 5 6]\n",
      " [7 8 9]] \n",
      "----------\n",
      "Dimension of this matrix: 2\n"
     ]
    }
   ],
   "source": [
    "my_mat = [[1,2,3],[4,5,6],[7,8,9]]\n",
    "mat = np.array(my_mat)\n",
    "\n",
    "print(\"Type/Class of this object:\",type(mat))\n",
    "print(\"Here is the matrix\\n----------\\n\",mat,\"\\n----------\")\n",
    "\n",
    "#ndim gives the dimensison, 2 for a matrix, 1 for a vector\n",
    "print(\"Dimension of this matrix: \",mat.ndim,sep='')"
   ]
  },
  {
   "cell_type": "code",
   "execution_count": 51,
   "id": "4362eb25-471b-45b6-9dee-9f6862c0e315",
   "metadata": {},
   "outputs": [
    {
     "name": "stdout",
     "output_type": "stream",
     "text": [
      "Size of this matrix: 9\n",
      "Shape of this matrix: (3, 3)\n",
      "Data type of this matrix: int64\n"
     ]
    }
   ],
   "source": [
    "#size gives the total number of elements\n",
    "print(\"Size of this matrix: \", mat.size,sep='')\n",
    "\n",
    "#shape gives the number of elements along each axes (dimension)\n",
    "print(\"Shape of this matrix: \", mat.shape,sep='') \n",
    "\n",
    "#dtype gives the data type contained in the array\n",
    "print(\"Data type of this matrix: \", mat.dtype,sep='') "
   ]
  },
  {
   "cell_type": "code",
   "execution_count": 53,
   "id": "1a8441c0-10a0-4098-8dc1-9d2f68e4e6a5",
   "metadata": {},
   "outputs": [
    {
     "name": "stdout",
     "output_type": "stream",
     "text": [
      "Data type of the modified matrix: float64\n"
     ]
    }
   ],
   "source": [
    "my_mat = [[1.1,2,3],[4,5.2,6],[7,8.3,9]]\n",
    "mat = np.array(my_mat)\n",
    "\n",
    "print(\"Data type of the modified matrix: \", mat.dtype,sep='') \n",
    "#dtype gives the data type contained in the array"
   ]
  },
  {
   "cell_type": "code",
   "execution_count": 54,
   "id": "3023421a-54b3-4822-8e30-e634b9bad955",
   "metadata": {},
   "outputs": [
    {
     "name": "stdout",
     "output_type": "stream",
     "text": [
      "Matrix made from tuples, not lists\n",
      "---------------------------------------\n",
      "[[1.5 2.  3. ]\n",
      " [4.  5.  6. ]]\n"
     ]
    }
   ],
   "source": [
    "b = np.array([(1.5,2,3), (4,5,6)])\n",
    "\n",
    "print(\"Matrix made from tuples, not lists\\n---------------------------------------\")\n",
    "print(b)"
   ]
  },
  {
   "cell_type": "markdown",
   "id": "4f94b58f-3e50-43ac-98b1-b61c18354546",
   "metadata": {},
   "source": [
    "---"
   ]
  }
 ],
 "metadata": {
  "kernelspec": {
   "display_name": "Python 3 (ipykernel)",
   "language": "python",
   "name": "python3"
  },
  "language_info": {
   "codemirror_mode": {
    "name": "ipython",
    "version": 3
   },
   "file_extension": ".py",
   "mimetype": "text/x-python",
   "name": "python",
   "nbconvert_exporter": "python",
   "pygments_lexer": "ipython3",
   "version": "3.11.13"
  }
 },
 "nbformat": 4,
 "nbformat_minor": 5
}
