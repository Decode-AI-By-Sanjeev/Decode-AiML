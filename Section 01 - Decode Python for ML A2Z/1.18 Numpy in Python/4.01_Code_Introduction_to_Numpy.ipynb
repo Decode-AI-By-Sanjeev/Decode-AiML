{
 "cells": [
  {
   "cell_type": "markdown",
   "id": "e4e0797f-a976-4229-8fcf-7a279b399ca9",
   "metadata": {},
   "source": [
    "## Numpy-1 : Introduction to Numpy"
   ]
  },
  {
   "cell_type": "markdown",
   "id": "e4aa81f8-210d-44b2-8ca8-fdfd08e373cd",
   "metadata": {},
   "source": [
    "### Motivation\n",
    "\n",
    "- Must-have for **AI/ML coding rounds** in product-based companies  \n",
    "- Essential for working on **machine learning**, **data science**, and **deep learning** projects  \n",
    "- Required when writing **custom loss functions**, building ML models **from scratch** (without libraries like Scikit-learn or TensorFlow)\n"
   ]
  },
  {
   "cell_type": "markdown",
   "id": "343e98db-f637-4c2b-b2c0-8b0c39216e31",
   "metadata": {},
   "source": [
    "### Introduction to NumPy\n",
    "\n",
    "- NumPy (Numerical Python) is a Python library that is the core library for scientific computing in Python. \n",
    "- It contains a collection of tools and techniques that can be used to solve mathematical models of problems in science and engineering\n",
    "- One of these tools is a high-performance multidimensional array object that is a powerful data structure for the efficient computation of arrays and matrices.\n",
    "- To work with these arrays, there’s a vast amount of high-level mathematical functions operate on these matrices and arrays.\n",
    "\n",
    "\n",
    "\n",
    "### Why Learn NumPy?\n",
    "\n",
    "#### 1. Model Inputs Need NumPy Arrays\n",
    "- ML libraries like **Scikit-learn**, **TensorFlow**, **PyTorch**, etc. expect data in NumPy array format.\n",
    "- Even Pandas and OpenCV internally rely on NumPy arrays.\n",
    "\n",
    "#### 2. NumPy is Much Faster for Large Numerical Computation\n",
    "- NumPy is written in **optimized C code** under the hood.\n",
    "- It supports:\n",
    "  - Matrix multiplication\n",
    "  - Dot products\n",
    "  - Broadcasting (auto-expanding arrays in operations)\n",
    "- Much faster than native Python loops or lists.\n",
    "\n",
    "#### 3. NumPy Handles N-Dimensional Arrays\n",
    "- NumPy can create and operate on arrays of any dimension (1D, 2D, 3D, ..., nD).\n",
    "- Useful for:\n",
    "  - Scientific computing\n",
    "  - Deep learning tensors\n",
    "  - Image processing\n",
    "\n",
    "#### 4. You Need NumPy to Build Custom Algorithms\n",
    "- For hands-on ML or from-scratch models, NumPy is essential.\n",
    "- You'll use it for:\n",
    "  - Linear regression\n",
    "  - Gradient descent\n",
    "  - Backpropagation\n",
    "  - Activation functions\n",
    "\n",
    "\n",
    "\n",
    "### NumPy vs Pandas\n",
    "| Feature     | NumPy                         | Pandas                          |\n",
    "|-------------|-------------------------------|----------------------------------|\n",
    "| Focus       | Numerical computing           | Tabular data analysis            |\n",
    "| Structure   | N-dimensional arrays          | Labeled 1D/2D tables (Series/DataFrame) |\n",
    "| Performance | Very fast, low-level          | Built on top of NumPy            |\n",
    "| Use case    | Math behind ML                | EDA, data wrangling, preprocessing |\n",
    "\n",
    "- Use **Pandas** to prepare data, and **NumPy** to power the math behind ML.\n",
    "\n"
   ]
  },
  {
   "cell_type": "markdown",
   "id": "5bd39048-6e5f-4a07-a824-183f76735358",
   "metadata": {},
   "source": [
    "#### Why NumPy is More Memory Efficient than Python Lists\n",
    "\n",
    "**Python List Memory Model**\n",
    "\n",
    "- Stores **references (pointers)** to separate Python `int` objects.\n",
    "- Each `int` object has metadata:\n",
    "  - Type information\n",
    "  - Reference count\n",
    "  - Value\n",
    "- ❌ High overhead, especially for large arrays.\n",
    "- ❌ Not cache-friendly — elements are scattered in memory.\n",
    "\n",
    "\n",
    "\n",
    "**NumPy Array Memory Model**\n",
    "\n",
    "- Stores data in a **contiguous C-style memory block**.\n",
    "- Only stores **raw values** (e.g., `int32`, `float64`) — no per-element metadata.\n",
    "- ✅ Very compact: no need to store Python object info for each element.\n",
    "- ✅ Cache-friendly and CPU-efficient.\n",
    "- ✅ Enables **vectorized operations**, **SIMD**, and **broadcasting**.\n",
    "\n",
    "\n",
    "\n",
    "**Result**\n",
    "\n",
    "- NumPy arrays use significantly **less memory** than Python lists.\n",
    "- Ideal for **large-scale numerical data**, especially in **machine learning** and **scientific computing**.\n",
    "  \n"
   ]
  }
 ],
 "metadata": {
  "kernelspec": {
   "display_name": "Python 3 (ipykernel)",
   "language": "python",
   "name": "python3"
  },
  "language_info": {
   "codemirror_mode": {
    "name": "ipython",
    "version": 3
   },
   "file_extension": ".py",
   "mimetype": "text/x-python",
   "name": "python",
   "nbconvert_exporter": "python",
   "pygments_lexer": "ipython3",
   "version": "3.11.13"
  }
 },
 "nbformat": 4,
 "nbformat_minor": 5
}
