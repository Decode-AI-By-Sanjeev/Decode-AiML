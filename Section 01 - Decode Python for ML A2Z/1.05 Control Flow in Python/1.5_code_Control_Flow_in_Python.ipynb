{
 "cells": [
  {
   "cell_type": "markdown",
   "metadata": {
    "id": "XEVHdR48gF8f"
   },
   "source": [
    "# Introduction to Control Flow in Python\n",
    "\n",
    "Control flow is essential in Python (and any programming language) because it allows your program to make decisions and execute different code paths depending on conditions.\n",
    "\n",
    "Without control flow, every program would just run line by line from top to bottom without any logic or flexibility."
   ]
  },
  {
   "cell_type": "markdown",
   "metadata": {
    "id": "JRaf-YfViQDc"
   },
   "source": [
    "✅ Types of Control Flow in Python:\n",
    "\n",
    "Conditional Statements: `if`, `elif`, `else`\n",
    "\n",
    "Loops: `for`, `while`\n",
    "\n",
    "Loop Control: `break`, `continue`, `pass`"
   ]
  },
  {
   "cell_type": "markdown",
   "metadata": {
    "id": "ENK2ENbla11r"
   },
   "source": [
    "## 1 Conditional Statements: `if-elif-else`"
   ]
  },
  {
   "cell_type": "markdown",
   "metadata": {
    "id": "sHf4YAP1hofl"
   },
   "source": [
    "\n",
    "\n",
    "The first type of control flow satement is `if-elif-else`.\n",
    "\n",
    "if-elif-else helps your program:\n",
    "\n",
    "- Make decisions\n",
    "- Handle multiple conditions\n",
    "- Provide a fallback using else if nothing matches\n",
    "\n",
    "This statement helps with conditional execution of code, i.e., the piece of code to be executed is selected based on certain condition(s).\n",
    "\n",
    "conditions includes\n",
    "\n",
    "1.1 Comparison operators\n",
    "\n",
    "- For testing if conditions are true or false, first we need to learn the operators that can be used for comparison.\n",
    "- Some common python comparison operators are shown in below example\n",
    "\n",
    "1.2 Logical operators\n",
    "\n",
    "- Sometimes we may need to check multiple conditions simultaneously.\n",
    "- The logical operator and is used to check if all the conditions are true, while the logical operator or is used to check if either of the conditons is true.\n",
    "\n"
   ]
  },
  {
   "cell_type": "markdown",
   "metadata": {
    "id": "NtCqgRA5ZjPP"
   },
   "source": [
    "```python\n",
    "\"\"\"\n",
    "   ****************************** Comparison Operators ******************************\n",
    "\"\"\"\n",
    "\n",
    "# x == y\tProduce True if … x is equal to y\n",
    "# x != y\t… x is not equal to y\n",
    "# x > y\t… x is greater than y\n",
    "# x < y\t… x is less than y\n",
    "# x >= y\t… x is greater than or equal to y\n",
    "# x <= y\t… x is less than or equal to y\n",
    "```"
   ]
  },
  {
   "cell_type": "markdown",
   "metadata": {
    "id": "9o7N2cJ3Z0gf"
   },
   "source": [
    "```python\n",
    "\"\"\"\n",
    "   ****************************** Logical operators ******************************\n",
    "\"\"\"\n",
    "#Checking if both the conditions are true using 'and'\n",
    "#Checking if either condition is true using 'or'\n",
    "\n",
    "```"
   ]
  },
  {
   "cell_type": "markdown",
   "metadata": {
    "id": "QVZcnH32Z_S5"
   },
   "source": [
    "```python\n",
    "if condition1:\n",
    "    # Code runs if condition1 is True\n",
    "elif condition2:\n",
    "    # Code runs if condition1 is False and condition2 is True\n",
    "elif condition3:\n",
    "    # (Optional) Code runs if above conditions are False and this one is True\n",
    "else:\n",
    "    # Code runs if none of the above conditions are True\n",
    "```"
   ]
  },
  {
   "cell_type": "code",
   "execution_count": null,
   "metadata": {
    "id": "wAV8ajsigD0H"
   },
   "outputs": [],
   "source": [
    "## Exercise Problem 1: write a code in python which will take age as input and tells whether the person can vote or not.\n",
    "\n",
    "age = int(input(\"Enter your age: \"))\n",
    "\n",
    "if age >= 18:\n",
    "    print(\"You can vote!\")\n",
    "elif age > 0:\n",
    "    print(\"You are too young to vote.\")\n",
    "else:\n",
    "    print(\"Invalid age entered.\")"
   ]
  },
  {
   "cell_type": "code",
   "execution_count": null,
   "metadata": {
    "id": "oL0P7amsbXAJ"
   },
   "outputs": [],
   "source": [
    "## Exercise Problem 2: Write a program in Python which takes a year as input from user and tell whether the year is leap year or not.\n",
    "\n",
    "\"\"\"\n",
    "# Leap year conditions:\n",
    "\n",
    "->Divisible by 4\n",
    "    -> divisible by 100\n",
    "        -> Divisible by 400 (Leap Year)\n",
    "        -> Not divisible by 400 (Not a leap year)\n",
    "    -> Not divisible by 100 (Leap Year)\n",
    "->Not Divisible by 4 (Not a leap year)\n",
    "\n",
    "\"\"\"\n",
    "year = int(input(\"Enter a year: \"))\n",
    "\n",
    "\n",
    "if (year % 4 == 0):\n",
    "    if (year % 100 == 0):\n",
    "        if (year % 400 == 0):\n",
    "            print(f\"{year} is a leap year.\")\n",
    "        else:\n",
    "            print(f\"{year} is not a leap year.\")\n",
    "    else:\n",
    "        print(f\"{year} is a leap year.\")\n",
    "else:\n",
    "    print(f\"{year} is not a leap year.\")\n"
   ]
  },
  {
   "cell_type": "markdown",
   "metadata": {
    "id": "vZ6MFOA70EQa"
   },
   "source": [
    "## 2. Loops: `for`, `while`\n"
   ]
  },
  {
   "cell_type": "code",
   "execution_count": null,
   "metadata": {
    "colab": {
     "base_uri": "https://localhost:8080/"
    },
    "id": "-l9fp9nhd0n9",
    "outputId": "57197a6d-3809-4ca0-b6b8-80faca6aeaf6"
   },
   "outputs": [
    {
     "name": "stdout",
     "output_type": "stream",
     "text": [
      "Enter a number: 5\n",
      "5 is a prime number.\n"
     ]
    }
   ],
   "source": [
    "## Exercise Problem 1: Write a program in Python which takes a number as input from user and tell whether the number is prime or not\n",
    "\n",
    "# using for loop -------------\n",
    "num = int(input(\"Enter a number: \"))\n",
    "\n",
    "if num <= 1:\n",
    "    print(f\"{num} is not a prime number.\")\n",
    "else:\n",
    "    for i in range(2, num):\n",
    "        if num % i == 0:\n",
    "            print(f\"{num} is not a prime number.\")\n",
    "            break\n",
    "    else:\n",
    "        print(f\"{num} is a prime number.\")\n",
    "\n",
    "\n",
    "# using while loop -------------\n",
    "\n",
    "num = int(input(\"Enter a number: \"))\n",
    "\n",
    "if num <= 1:\n",
    "    print(f\"{num} is not a prime number.\")\n",
    "else:\n",
    "    i = 2\n",
    "    is_prime = True\n",
    "\n",
    "    while i < num:\n",
    "        if num % i == 0:\n",
    "            is_prime = False\n",
    "            break\n",
    "        i += 1\n",
    "\n",
    "    if is_prime:\n",
    "        print(f\"{num} is a prime number.\")\n",
    "    else:\n",
    "        print(f\"{num} is not a prime number.\")\n",
    "\n"
   ]
  },
  {
   "cell_type": "code",
   "execution_count": null,
   "metadata": {
    "colab": {
     "base_uri": "https://localhost:8080/"
    },
    "id": "R23fpoCed0rD",
    "outputId": "e4fa780a-e961-48f9-d1b9-54268574f010"
   },
   "outputs": [
    {
     "name": "stdout",
     "output_type": "stream",
     "text": [
      "1 4\n",
      "2 3\n"
     ]
    }
   ],
   "source": [
    "# Exercise Problem 2: Given a list of unique numbers and a target sum, print all pair of number whose sum is target. you can't take the same number twice\n",
    "\n",
    "arr = [1,2,3,4,5,6,7,8]\n",
    "target = 5\n",
    "\n",
    "n = len(arr)\n",
    "is_found = False\n",
    "\n",
    "for i in range(n):\n",
    "  for j in range(i+1,n):\n",
    "    if arr[i]+arr[j] ==  target:\n",
    "      is_found = True\n",
    "      print(arr[i],arr[j])\n",
    "\n",
    "\n",
    "if is_found == False:\n",
    "  print(\"No pair found\")"
   ]
  },
  {
   "cell_type": "markdown",
   "metadata": {
    "id": "kwiOxQew0RHl"
   },
   "source": [
    "## 3. Loop Control: `break`, `continue`, `pass`"
   ]
  },
  {
   "cell_type": "code",
   "execution_count": null,
   "metadata": {
    "colab": {
     "base_uri": "https://localhost:8080/"
    },
    "id": "LtNggISAd4JW",
    "outputId": "afcf382d-3b84-4b90-f14f-1e81ef255c92"
   },
   "outputs": [
    {
     "name": "stdout",
     "output_type": "stream",
     "text": [
      "1\n"
     ]
    }
   ],
   "source": [
    "# Break Example 1: Given a list of numbers and a target, find the first occurence of target. -1 if not found.\n",
    "\n",
    "arr = [5,3,6,5,3,2,1]\n",
    "target = 3\n",
    "\n",
    "n = len(arr)\n",
    "idx = -1\n",
    "\n",
    "for i in range(n):\n",
    "  if arr[i] ==  target:\n",
    "      is_found = True\n",
    "      idx = i\n",
    "      break\n",
    "\n",
    "\n",
    "if is_found == True:\n",
    "  print(i)\n",
    "else:\n",
    "  print(\"No pair found\")"
   ]
  },
  {
   "cell_type": "code",
   "execution_count": null,
   "metadata": {
    "colab": {
     "base_uri": "https://localhost:8080/"
    },
    "id": "9dZSD6UQd4M_",
    "outputId": "6cc7669f-7250-45ba-f5b0-3d6a7091e0e9"
   },
   "outputs": [
    {
     "name": "stdout",
     "output_type": "stream",
     "text": [
      "5\n",
      "10\n",
      "15\n",
      "20\n",
      "25\n"
     ]
    }
   ],
   "source": [
    "# Continue Example 1: given n, print all natural numbers less than equal to n which is divisible by 5\n",
    "\n",
    "n = 25\n",
    "\n",
    "for i in range(1,n+1):\n",
    "  if i%5 != 0:\n",
    "    continue\n",
    "\n",
    "  print(i)\n"
   ]
  },
  {
   "cell_type": "markdown",
   "metadata": {
    "id": "8zS4ptMJlqgI"
   },
   "source": [
    "Pass: When you're writing code but haven't implemented certain parts yet, you can use pass as a placeholder to avoid syntax errors."
   ]
  },
  {
   "cell_type": "code",
   "execution_count": null,
   "metadata": {
    "id": "CQnLh7nqlZoX"
   },
   "outputs": [],
   "source": [
    "# Pass Example:\n",
    "def process_data():\n",
    "    pass  # You haven't written the logic yet, but want the code to run\n",
    "\n",
    "# Without pass, Python will raise an IndentationError because the function body is empty."
   ]
  },
  {
   "cell_type": "markdown",
   "metadata": {},
   "source": [
    "# Hands-On Examples"
   ]
  },
  {
   "cell_type": "code",
   "execution_count": null,
   "metadata": {},
   "outputs": [],
   "source": [
    "# if-elif-else statement- control flow\n",
    "\n",
    "# taken age as input from user and tell whether the user can vote ?\n",
    "\n",
    "age = int(input(\"Enter your age\"))\n",
    "\n",
    "if age>= 18:\n",
    "    print(\"Congratulations !! you are eligible to vote\")\n",
    "elif age<0:\n",
    "    print(\"Age can't be negative. please enter a valid age\")\n",
    "else:\n",
    "    print(\"Ohhh !! you are not eligible as per your age\")"
   ]
  },
  {
   "cell_type": "code",
   "execution_count": 10,
   "metadata": {},
   "outputs": [
    {
     "name": "stdout",
     "output_type": "stream",
     "text": [
      "There is a voter with target age\n"
     ]
    }
   ],
   "source": [
    "# for loop\n",
    "# Ex: check whether there is any voter with age tage\n",
    "tage = 23\n",
    "age_list = [51,23,35,23,70]\n",
    "\n",
    "found = 0\n",
    "for age in age_list:\n",
    "    if age == tage:\n",
    "        found = 1\n",
    "        break\n",
    "\n",
    "if found == 1:\n",
    "    print(\"There is a voter with target age\")\n",
    "else:\n",
    "    print(\"no voter found\")"
   ]
  },
  {
   "cell_type": "code",
   "execution_count": 11,
   "metadata": {},
   "outputs": [
    {
     "name": "stdout",
     "output_type": "stream",
     "text": [
      "There is a voter with target age\n"
     ]
    }
   ],
   "source": [
    "# while loop\n",
    "# Ex: check whether there is any voter with age tage\n",
    "tage = 23\n",
    "age_list = [51,23,35,23,70]\n",
    "\n",
    "found = 0\n",
    "n = len(age_list)\n",
    "for i in range(n):\n",
    "    age = age_list[i]\n",
    "    if age == tage:\n",
    "        found = 1\n",
    "        break\n",
    "\n",
    "if found == 1:\n",
    "    print(\"There is a voter with target age\")\n",
    "else:\n",
    "    print(\"no voter found\")"
   ]
  },
  {
   "cell_type": "code",
   "execution_count": null,
   "metadata": {},
   "outputs": [],
   "source": [
    "# break\n",
    "# Ex: check whether there is any voter with age tage\n",
    "tage = 10\n",
    "age_list = [51,23,35,23,70]\n",
    "\n",
    "found = 0\n",
    "for age in age_list:\n",
    "    if age == tage:\n",
    "        found = 1\n",
    "        break\n",
    "\n",
    "if found == 1:\n",
    "    print(\"There is a voter with target age\")\n",
    "else:\n",
    "    print(\"no voter found\")"
   ]
  },
  {
   "cell_type": "code",
   "execution_count": 1,
   "metadata": {},
   "outputs": [
    {
     "name": "stdout",
     "output_type": "stream",
     "text": [
      "avg age is 37.75 years\n"
     ]
    }
   ],
   "source": [
    "# continue\n",
    "# Ex: find the average age of all the eligible voters from list of applicants\n",
    "tage = 10\n",
    "age_list = [15,23,35,23,70,15]\n",
    "\n",
    "avgAge = 0\n",
    "cnt = 0\n",
    "for age in age_list:\n",
    "    if age < 18:\n",
    "        continue\n",
    "    avgAge += age\n",
    "    cnt += 1\n",
    "    \n",
    "if cnt:\n",
    "    avgAge = avgAge/cnt\n",
    "\n",
    "print(f'avg age is {avgAge} years')"
   ]
  },
  {
   "cell_type": "code",
   "execution_count": 8,
   "metadata": {},
   "outputs": [
    {
     "name": "stdout",
     "output_type": "stream",
     "text": [
      "0\n"
     ]
    }
   ],
   "source": [
    "# pass\n",
    "\n",
    "def calcSumAgeHelper():\n",
    "    pass\n",
    "    \n",
    "def calcAvgAge():\n",
    "    avgAge = 0\n",
    "    calcSumAgeHelper()\n",
    "    # some coding logic written\n",
    "    print(avgAge)\n",
    "\n",
    "\n",
    "calcAvgAge()"
   ]
  },
  {
   "cell_type": "code",
   "execution_count": null,
   "metadata": {},
   "outputs": [],
   "source": []
  }
 ],
 "metadata": {
  "colab": {
   "provenance": []
  },
  "kernelspec": {
   "display_name": "Python 3 (ipykernel)",
   "language": "python",
   "name": "python3"
  },
  "language_info": {
   "codemirror_mode": {
    "name": "ipython",
    "version": 3
   },
   "file_extension": ".py",
   "mimetype": "text/x-python",
   "name": "python",
   "nbconvert_exporter": "python",
   "pygments_lexer": "ipython3",
   "version": "3.13.5"
  }
 },
 "nbformat": 4,
 "nbformat_minor": 4
}
