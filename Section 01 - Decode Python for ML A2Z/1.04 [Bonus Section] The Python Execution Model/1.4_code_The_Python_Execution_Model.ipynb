{
 "cells": [
  {
   "cell_type": "markdown",
   "id": "d884f304-84f5-4d5e-957f-8485d59758ea",
   "metadata": {},
   "source": [
    "# Python Internals: Stages of Execution (The Python Execution Model)\n",
    "\n",
    "> *“One of my most productive days was throwing away 1,000 lines of code.”*\n",
    "> — Ken Thompson\n",
    "\n",
    "---"
   ]
  },
  {
   "cell_type": "markdown",
   "id": "d9683c4e-bbe5-4e4c-8cd3-26e36d024062",
   "metadata": {},
   "source": [
    "## Compiled vs Interpreted Languages – A Conversation\n",
    "\n",
    "**Raj:**  \n",
    "A compiled language is one where the code is first put through a compiler before it is able to be run.  \n",
    "An example is the **C programming language**. To run C code, first you have to run a compiler like `gcc` or `clang`, and then finally you can run your code.  \n",
    "A compiled language gets converted to **machine code**—the ones and zeroes that your CPU understands.\n",
    "\n",
    "**Anjali:**  \n",
    "But wait, isn’t **Java** a compiled language?\n",
    "\n",
    "**Raj:**  \n",
    "Yes, Java is a compiled language.\n",
    "\n",
    "**Anjali:**  \n",
    "But isn’t the output of the regular Java compiler a `.class` file? That’s **bytecode**, isn’t it?\n",
    "\n",
    "**Raj:**  \n",
    "That’s correct. Bytecode isn’t machine code, but Java is still a compiled language.  \n",
    "This is because there are many problems that the **compiler can catch**, so you will need to correct errors **before your program starts running**.\n",
    "\n",
    "**Anjali:**  \n",
    "What about **interpreted languages**?\n",
    "\n",
    "**Raj:**  \n",
    "An interpreted language is one that relies on a separate program, aptly called an **interpreter**, to actually run your code.  \n",
    "An interpreted language does not require the programmer to run a compiler first.  \n",
    "Because of this, any errors that you make will be **caught while your program is running**.  \n",
    "**Python** is an interpreted language—there is no separate compiler, and all errors that you make are caught at **runtime**.\n",
    "\n",
    "**Anjali:**  \n",
    "If Python is not a compiled language, then why does the standard library include modules called `py_compile` and `compileall`?\n",
    "\n",
    "**Raj:**  \n",
    "Well, those modules just convert Python to **bytecode**.  \n",
    "They don’t convert Python to **machine code**, so Python is still considered an **interpreted language**.\n",
    "\n",
    "**Anjali:**  \n",
    "So, both Python and Java are converted to **bytecode**?\n",
    "\n",
    "**Raj:**  \n",
    "Correct.\n",
    "\n",
    "**Anjali:**  \n",
    "Then how is Python an interpreted language and yet Java is a compiled language instead?\n",
    "\n",
    "**Raj:**  \n",
    "Because all errors in Python are caught at **runtime**.\n"
   ]
  },
  {
   "cell_type": "code",
   "execution_count": 2,
   "id": "1effeba9-851e-4c88-88ee-0b8feaa658e9",
   "metadata": {},
   "outputs": [
    {
     "ename": "SyntaxError",
     "evalue": "unterminated string literal (detected at line 9) (1576604365.py, line 9)",
     "output_type": "error",
     "traceback": [
      "  \u001b[36mCell\u001b[39m\u001b[36m \u001b[39m\u001b[32mIn[2]\u001b[39m\u001b[32m, line 9\u001b[39m\n\u001b[31m    \u001b[39m\u001b[31mn = \"hello\u001b[39m\n        ^\n\u001b[31mSyntaxError\u001b[39m\u001b[31m:\u001b[39m unterminated string literal (detected at line 9)\n"
     ]
    }
   ],
   "source": [
    "\"\"\"\n",
    "1. Example for Demonstrating stages of compilation.\n",
    "2. Let's learn by debugging\n",
    "\"\"\"\n",
    "# Step 1\n",
    "1 / 0\n",
    "print() = None\n",
    "if False\n",
    "    n = \"hello"
   ]
  },
  {
   "cell_type": "code",
   "execution_count": 3,
   "id": "caffbe2b-be25-4108-967c-7aea76386fa4",
   "metadata": {},
   "outputs": [
    {
     "ename": "SyntaxError",
     "evalue": "cannot assign to function call here. Maybe you meant '==' instead of '='? (2586608014.py, line 3)",
     "output_type": "error",
     "traceback": [
      "  \u001b[36mCell\u001b[39m\u001b[36m \u001b[39m\u001b[32mIn[3]\u001b[39m\u001b[32m, line 3\u001b[39m\n\u001b[31m    \u001b[39m\u001b[31mprint() = None\u001b[39m\n    ^\n\u001b[31mSyntaxError\u001b[39m\u001b[31m:\u001b[39m cannot assign to function call here. Maybe you meant '==' instead of '='?\n"
     ]
    }
   ],
   "source": [
    "# Step 2\n",
    "1 / 0\n",
    "print() = None\n",
    "if False\n",
    "    n = \"hello\""
   ]
  },
  {
   "cell_type": "code",
   "execution_count": 4,
   "id": "e7fb7858-8f7d-427b-82cd-ad1490201440",
   "metadata": {},
   "outputs": [
    {
     "ename": "SyntaxError",
     "evalue": "expected ':' (2633337408.py, line 4)",
     "output_type": "error",
     "traceback": [
      "  \u001b[36mCell\u001b[39m\u001b[36m \u001b[39m\u001b[32mIn[4]\u001b[39m\u001b[32m, line 4\u001b[39m\n\u001b[31m    \u001b[39m\u001b[31mif False\u001b[39m\n            ^\n\u001b[31mSyntaxError\u001b[39m\u001b[31m:\u001b[39m expected ':'\n"
     ]
    }
   ],
   "source": [
    "# Step 3\n",
    "1 / 0\n",
    "print()\n",
    "if False\n",
    "    n = \"hello\""
   ]
  },
  {
   "cell_type": "code",
   "execution_count": 5,
   "id": "49f446f9-8ef2-482e-8c32-de5ece158bc5",
   "metadata": {},
   "outputs": [
    {
     "ename": "ZeroDivisionError",
     "evalue": "division by zero",
     "output_type": "error",
     "traceback": [
      "\u001b[31m---------------------------------------------------------------------------\u001b[39m",
      "\u001b[31mZeroDivisionError\u001b[39m                         Traceback (most recent call last)",
      "\u001b[36mCell\u001b[39m\u001b[36m \u001b[39m\u001b[32mIn[5]\u001b[39m\u001b[32m, line 2\u001b[39m\n\u001b[32m      1\u001b[39m \u001b[38;5;66;03m# Step 4\u001b[39;00m\n\u001b[32m----> \u001b[39m\u001b[32m2\u001b[39m \u001b[32m1\u001b[39m / \u001b[32m0\u001b[39m\n\u001b[32m      3\u001b[39m \u001b[38;5;28mprint\u001b[39m()\n\u001b[32m      4\u001b[39m \u001b[38;5;28;01mif\u001b[39;00m \u001b[38;5;28;01mFalse\u001b[39;00m:\n",
      "\u001b[31mZeroDivisionError\u001b[39m: division by zero"
     ]
    }
   ],
   "source": [
    "# Step 4\n",
    "1 / 0\n",
    "print()\n",
    "if False:\n",
    "    n = \"hello\""
   ]
  },
  {
   "cell_type": "code",
   "execution_count": 6,
   "id": "6e188e7c-6b46-4f19-8217-b3050b0cba68",
   "metadata": {},
   "outputs": [
    {
     "name": "stdout",
     "output_type": "stream",
     "text": [
      "\n"
     ]
    }
   ],
   "source": [
    "# Step 5 => Success\n",
    "1 / 0.1\n",
    "print()\n",
    "if False:\n",
    "    n = \"hello\""
   ]
  },
  {
   "cell_type": "markdown",
   "id": "512199e8-2ed9-48e0-9af1-00cf2a3bb8a8",
   "metadata": {},
   "source": [
    "**What happens when you install Python ?**\n",
    "\n",
    "- When you install Python on your system (e.g., using the official installer from python.org), a number of components are set up to create a complete Python development environment. Let's look into some important python modules which gets installed .\n",
    "  \n",
    "✅ 1. Python Interpreter (CPython)\n",
    "    - The core component that parses, compiles, and executes your Python code.\n",
    "    - It converts .py files into bytecode and runs them via the Python Virtual Machine (PVM).\n",
    "    \n",
    "✅ 2. Standard Library\n",
    "    - A huge collection of modules (in-built packages) that provide: File I/O, Regular expressions (re), Networking (socket, http), Math (math, statistics) etc\n",
    "    \n",
    "✅ 3. Bytecode Compiler\n",
    "    - .py files are automatically compiled to .pyc files and stored in the __pycache__ directory.\n",
    "    - This helps speed up execution.\n"
   ]
  },
  {
   "cell_type": "markdown",
   "id": "d69e507f-7cab-4c19-9ba5-7c9b4f29be36",
   "metadata": {},
   "source": [
    "\n",
    "**Is Python Compiled or Interpreted?**\n",
    "- Python is interpreted. Let's understand in details.\n",
    "- The Python interpreter software you download from python.org is called CPython because it's written in C.\n",
    "- When you run a Python program, the interpreter first compiles it to bytecode and then runs the bytecode. So you could say that Python is compiled.\n",
    "- The CPython interpreter really is an interpreter. But it also is a compiler.\n",
    "- Python must go through a few stages before ever running the first line of code: 1. Scanning and 2. Parsing\n",
    "\n",
    "**NOTE** \n",
    "1. Interpreter\t- General term for any system that executes code without compiling to native machine code first\n",
    "1. CPython\t- The full Python interpreter, written in C\n",
    "2. PVM\t- The runtime engine inside CPython that runs bytecode\n",
    "\n",
    "---\n",
    "\n",
    "- Sample Python code for Analysis : \n",
    "```python\n",
    "   x = 5 + 3\n",
    "```\n",
    "    The above code is saved in .py file in local system.\n",
    "\n",
    "### 6.1. Lexical Analysis and Tokenization - Scanning Phase\n",
    "\n",
    "- The first step in the execution process is **lexical analysis**, also known as **tokenization**.\n",
    "- During this phase, the source code is converted into a sequence of **tokens**.\n",
    "- **Tokens**:  \n",
    "  `[ x (identifier) , = (operator), 5 (literal), + (operator), 3 (literal) ]`\n"
   ]
  },
  {
   "cell_type": "markdown",
   "id": "c3e437e2-e004-44af-88a4-97171c04f08a",
   "metadata": {},
   "source": [
    "\n",
    "### 6.2. Syntax Analysis and Abstract Syntax Tree (AST) - Parsing Phase\n",
    "\n",
    "- During this phase, the sequence of tokens is analyzed to determine its grammatical structure.\n",
    "- The output of this phase is an Abstract Syntax Tree (AST), which represents the hierarchical structure of the source code.\n",
    "  ![AST Example](ast_image.png)"
   ]
  },
  {
   "cell_type": "markdown",
   "id": "4d779793-e9df-4c41-8208-d63dd33be110",
   "metadata": {},
   "source": [
    "\n",
    "### 6.3. Bytecode Compilation\n",
    "\n",
    "- The AST is then compiled into bytecode, which is a low-level, platform-independent representation of the source code.\n",
    "- Bytecode is a set of instructions that can be efficiently executed by the Python Virtual Machine (PVM).\n",
    "- Generates a .pyc file\n",
    "- Bytecode Examples\n",
    "  ```python\n",
    "    1 LOAD_CONST 5\n",
    "    2 LOAD_CONST 3\n",
    "    3 BINARY_ADD\n",
    "    4 STORE_NAME x\n",
    "    ```\n"
   ]
  },
  {
   "cell_type": "code",
   "execution_count": 1,
   "id": "bd632c41-e983-4084-9958-1950ea81d71a",
   "metadata": {},
   "outputs": [
    {
     "name": "stdout",
     "output_type": "stream",
     "text": [
      "<class 'code'>\n",
      "  0           RESUME                   0\n",
      "\n",
      "  1           LOAD_NAME                0 (a)\n",
      "              LOAD_NAME                1 (b)\n",
      "              BINARY_OP                0 (+)\n",
      "              STORE_NAME               2 (x)\n",
      "              RETURN_CONST             0 (None)\n"
     ]
    }
   ],
   "source": [
    "code_obj = compile('x = a+ b', '', 'exec')\n",
    "print(type(code_obj))\n",
    "# <class 'code'>\n",
    "\n",
    "import dis\n",
    "dis.dis(code_obj)"
   ]
  },
  {
   "cell_type": "markdown",
   "id": "9f88eaf1-42d3-4960-887c-3fedffe96f3c",
   "metadata": {},
   "source": [
    "\n",
    "\n",
    "### 6.4. Execution by the Python Virtual Machine (PVM)\n",
    "\n",
    "- PVM is the Python Interpreter that converts the Python byte code into machine-executable code.\n",
    "- PVM interpreter reads and executes the given file line by line.\n",
    "- CPU runs the native machine instructions triggered by the PVM\n",
    "- It manages memory, automatically cleaning up unused objects using a garbage collector\n",
    "- PVM also provides thread safety With a Global Interpreter Lock (GIL) that comes with Cpython.\n",
    "  \n",
    "---\n"
   ]
  },
  {
   "cell_type": "markdown",
   "id": "b8ac3ece-2118-4b2e-a2ad-cba7fd58efcc",
   "metadata": {},
   "source": [
    "## 📚 References\n",
    "\n",
    "1. [The Python execution model details src 1](https://www.geeksforgeeks.org/internal-working-of-python/)  \n",
    "2. [The Python execution model src 2](https://medium.com/@rajat01221/execution-policy-in-python-the-math-behind-python-18bd289eb40e)\n",
    "3. [Python is Compiled or Interpreted ?](https://eddieantonio.ca/blog/2023/10/25/python-is-a-compiled-language/#:~:text=An%20interpreted%20language%20does%20not,make%20are%20caught%20at%20runtime)"
   ]
  },
  {
   "cell_type": "code",
   "execution_count": null,
   "id": "78c01fd4-a5c2-4bfa-abe4-8c947a27c541",
   "metadata": {},
   "outputs": [],
   "source": []
  }
 ],
 "metadata": {
  "kernelspec": {
   "display_name": "Python 3 (ipykernel)",
   "language": "python",
   "name": "python3"
  },
  "language_info": {
   "codemirror_mode": {
    "name": "ipython",
    "version": 3
   },
   "file_extension": ".py",
   "mimetype": "text/x-python",
   "name": "python",
   "nbconvert_exporter": "python",
   "pygments_lexer": "ipython3",
   "version": "3.13.5"
  }
 },
 "nbformat": 4,
 "nbformat_minor": 5
}
