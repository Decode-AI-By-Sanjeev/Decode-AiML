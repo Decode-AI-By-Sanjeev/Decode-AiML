{
 "cells": [
  {
   "cell_type": "markdown",
   "metadata": {
    "jp-MarkdownHeadingCollapsed": true
   },
   "source": [
    "# 1.11.1 Introduction to Exceptions & Exception Handling in Python"
   ]
  },
  {
   "cell_type": "markdown",
   "metadata": {},
   "source": [
    "In Python, exceptions are errors that occur during program execution (runtime), disrupting the normal flow of a program."
   ]
  },
  {
   "cell_type": "code",
   "execution_count": 26,
   "metadata": {},
   "outputs": [
    {
     "name": "stdout",
     "output_type": "stream",
     "text": [
      "Start\n"
     ]
    },
    {
     "ename": "ZeroDivisionError",
     "evalue": "division by zero",
     "output_type": "error",
     "traceback": [
      "\u001b[31m---------------------------------------------------------------------------\u001b[39m",
      "\u001b[31mZeroDivisionError\u001b[39m                         Traceback (most recent call last)",
      "\u001b[36mCell\u001b[39m\u001b[36m \u001b[39m\u001b[32mIn[26]\u001b[39m\u001b[32m, line 2\u001b[39m\n\u001b[32m      1\u001b[39m \u001b[38;5;28mprint\u001b[39m(\u001b[33m\"\u001b[39m\u001b[33mStart\u001b[39m\u001b[33m\"\u001b[39m)\n\u001b[32m----> \u001b[39m\u001b[32m2\u001b[39m x = \u001b[32m5\u001b[39m / \u001b[32m0\u001b[39m  \u001b[38;5;66;03m# This raises ZeroDivisionError\u001b[39;00m\n\u001b[32m      3\u001b[39m \u001b[38;5;28mprint\u001b[39m(\u001b[33m\"\u001b[39m\u001b[33mEnd\u001b[39m\u001b[33m\"\u001b[39m)\n",
      "\u001b[31mZeroDivisionError\u001b[39m: division by zero"
     ]
    }
   ],
   "source": [
    "print(\"Start\")\n",
    "x = 5 / 0  # This raises ZeroDivisionError\n",
    "print(\"End\")  # This line will not execute"
   ]
  },
  {
   "cell_type": "code",
   "execution_count": 28,
   "metadata": {},
   "outputs": [
    {
     "ename": "SyntaxError",
     "evalue": "expected ':' (2674618346.py, line 1)",
     "output_type": "error",
     "traceback": [
      "  \u001b[36mCell\u001b[39m\u001b[36m \u001b[39m\u001b[32mIn[28]\u001b[39m\u001b[32m, line 1\u001b[39m\n\u001b[31m    \u001b[39m\u001b[31mif True\u001b[39m\n           ^\n\u001b[31mSyntaxError\u001b[39m\u001b[31m:\u001b[39m expected ':'\n"
     ]
    }
   ],
   "source": [
    "if True\n",
    "    print(\"Hi\")\n",
    "# ❌ SyntaxError: expected ':'\n",
    "# This is detected before execution — the program won’t even start.\n",
    "# Exceptions occur during execution — at runtime."
   ]
  },
  {
   "cell_type": "code",
   "execution_count": null,
   "metadata": {},
   "outputs": [],
   "source": [
    "# compile-time errors are not considered \"exceptions\" in any mainstream programming language."
   ]
  },
  {
   "cell_type": "code",
   "execution_count": null,
   "metadata": {},
   "outputs": [],
   "source": [
    "# In most modern programming languages (like Python, Java, C#):\n",
    "# Yes — all runtime errors are represented as exceptions.\n",
    "# "
   ]
  },
  {
   "cell_type": "markdown",
   "metadata": {},
   "source": [
    "---\n",
    "\n",
    "\n",
    "## Exception\n",
    "\n",
    "An **exception** is a specific type of **runtime error** that Python can catch and handle using try-except.\n",
    "\n",
    "- Exceptions are raised when an error occurs during execution.\n",
    "- Handling the Exceptions allows the program to **gracefully handle errors** instead of crashing.\n",
    "- In Python, exceptions are instances of classes that inherit from the `BaseException` class.\n",
    "\n",
    "### Common Exceptions:\n",
    "- `ValueError`\n",
    "- `TypeError`\n",
    "- `ZeroDivisionError`\n",
    "- And many more..."
   ]
  },
  {
   "cell_type": "code",
   "execution_count": 64,
   "metadata": {},
   "outputs": [
    {
     "ename": "SyntaxError",
     "evalue": "expected ':' (2976703482.py, line 4)",
     "output_type": "error",
     "traceback": [
      "  \u001b[36mCell\u001b[39m\u001b[36m \u001b[39m\u001b[32mIn[64]\u001b[39m\u001b[32m, line 4\u001b[39m\n\u001b[31m    \u001b[39m\u001b[31mif True\u001b[39m\n           ^\n\u001b[31mSyntaxError\u001b[39m\u001b[31m:\u001b[39m expected ':'\n"
     ]
    }
   ],
   "source": [
    "# code which checks for exception\n",
    "print(\"Execution starts\")\n",
    "try:\n",
    "    if True\n",
    "        print(\"Hello\")\n",
    "except BaseException as e:\n",
    "    print(f\"Exception caught - {e}\")\n",
    "    \n",
    "print(\"This code still runs.\")"
   ]
  },
  {
   "cell_type": "code",
   "execution_count": 47,
   "metadata": {},
   "outputs": [
    {
     "ename": "TypeError",
     "evalue": "can only concatenate str (not \"int\") to str",
     "output_type": "error",
     "traceback": [
      "\u001b[31m---------------------------------------------------------------------------\u001b[39m",
      "\u001b[31mTypeError\u001b[39m                                 Traceback (most recent call last)",
      "\u001b[36mCell\u001b[39m\u001b[36m \u001b[39m\u001b[32mIn[47]\u001b[39m\u001b[32m, line 2\u001b[39m\n\u001b[32m      1\u001b[39m \u001b[38;5;66;03m# TypeError: unsupported operand type(s)\u001b[39;00m\n\u001b[32m----> \u001b[39m\u001b[32m2\u001b[39m x = \u001b[33m\"\u001b[39m\u001b[33m5\u001b[39m\u001b[33m\"\u001b[39m + \u001b[32m3\u001b[39m\n",
      "\u001b[31mTypeError\u001b[39m: can only concatenate str (not \"int\") to str"
     ]
    }
   ],
   "source": [
    "# TypeError: unsupported operand type(s)\n",
    "x = \"5\" + 3"
   ]
  },
  {
   "cell_type": "code",
   "execution_count": 48,
   "metadata": {},
   "outputs": [
    {
     "ename": "NameError",
     "evalue": "name 'y' is not defined",
     "output_type": "error",
     "traceback": [
      "\u001b[31m---------------------------------------------------------------------------\u001b[39m",
      "\u001b[31mNameError\u001b[39m                                 Traceback (most recent call last)",
      "\u001b[36mCell\u001b[39m\u001b[36m \u001b[39m\u001b[32mIn[48]\u001b[39m\u001b[32m, line 2\u001b[39m\n\u001b[32m      1\u001b[39m \u001b[38;5;66;03m# NameError: name 'x' is not defined\u001b[39;00m\n\u001b[32m----> \u001b[39m\u001b[32m2\u001b[39m \u001b[38;5;28mprint\u001b[39m(y)\n",
      "\u001b[31mNameError\u001b[39m: name 'y' is not defined"
     ]
    }
   ],
   "source": [
    "# NameError: name 'x' is not defined\n",
    "print(y)"
   ]
  },
  {
   "cell_type": "code",
   "execution_count": 51,
   "metadata": {},
   "outputs": [
    {
     "ename": "ValueError",
     "evalue": "invalid literal for int() with base 10: 'abc'",
     "output_type": "error",
     "traceback": [
      "\u001b[31m---------------------------------------------------------------------------\u001b[39m",
      "\u001b[31mValueError\u001b[39m                                Traceback (most recent call last)",
      "\u001b[36mCell\u001b[39m\u001b[36m \u001b[39m\u001b[32mIn[51]\u001b[39m\u001b[32m, line 2\u001b[39m\n\u001b[32m      1\u001b[39m \u001b[38;5;66;03m# ValueError: invalid literal for int()\u001b[39;00m\n\u001b[32m----> \u001b[39m\u001b[32m2\u001b[39m num = \u001b[38;5;28mint\u001b[39m(\u001b[33m\"\u001b[39m\u001b[33mabc\u001b[39m\u001b[33m\"\u001b[39m)\n",
      "\u001b[31mValueError\u001b[39m: invalid literal for int() with base 10: 'abc'"
     ]
    }
   ],
   "source": [
    "# ValueError: invalid literal for int()\n",
    "num = int(\"abc\")"
   ]
  },
  {
   "cell_type": "code",
   "execution_count": 54,
   "metadata": {},
   "outputs": [
    {
     "ename": "ZeroDivisionError",
     "evalue": "division by zero",
     "output_type": "error",
     "traceback": [
      "\u001b[31m---------------------------------------------------------------------------\u001b[39m",
      "\u001b[31mZeroDivisionError\u001b[39m                         Traceback (most recent call last)",
      "\u001b[36mCell\u001b[39m\u001b[36m \u001b[39m\u001b[32mIn[54]\u001b[39m\u001b[32m, line 2\u001b[39m\n\u001b[32m      1\u001b[39m \u001b[38;5;66;03m# ZeroDivisionError: division by zero\u001b[39;00m\n\u001b[32m----> \u001b[39m\u001b[32m2\u001b[39m x = \u001b[32m10\u001b[39m / \u001b[32m0\u001b[39m\n",
      "\u001b[31mZeroDivisionError\u001b[39m: division by zero"
     ]
    }
   ],
   "source": [
    "# ZeroDivisionError: division by zero\n",
    "x = 10 / 2"
   ]
  },
  {
   "cell_type": "code",
   "execution_count": 60,
   "metadata": {},
   "outputs": [
    {
     "ename": "FileNotFoundError",
     "evalue": "[Errno 2] No such file or directory: 'nonexistent.txt'",
     "output_type": "error",
     "traceback": [
      "\u001b[31m---------------------------------------------------------------------------\u001b[39m",
      "\u001b[31mFileNotFoundError\u001b[39m                         Traceback (most recent call last)",
      "\u001b[36mCell\u001b[39m\u001b[36m \u001b[39m\u001b[32mIn[60]\u001b[39m\u001b[32m, line 2\u001b[39m\n\u001b[32m      1\u001b[39m \u001b[38;5;66;03m# FileNotFoundError: file does not exist\u001b[39;00m\n\u001b[32m----> \u001b[39m\u001b[32m2\u001b[39m \u001b[38;5;28;01mwith\u001b[39;00m \u001b[38;5;28mopen\u001b[39m(\u001b[33m\"\u001b[39m\u001b[33mnonexistent.txt\u001b[39m\u001b[33m\"\u001b[39m, \u001b[33m\"\u001b[39m\u001b[33mr\u001b[39m\u001b[33m\"\u001b[39m) \u001b[38;5;28;01mas\u001b[39;00m f:\n\u001b[32m      3\u001b[39m     content = f.read()\n",
      "\u001b[36mFile \u001b[39m\u001b[32m~\\anaconda3\\envs\\decodeaienv\\Lib\\site-packages\\IPython\\core\\interactiveshell.py:326\u001b[39m, in \u001b[36m_modified_open\u001b[39m\u001b[34m(file, *args, **kwargs)\u001b[39m\n\u001b[32m    319\u001b[39m \u001b[38;5;28;01mif\u001b[39;00m file \u001b[38;5;129;01min\u001b[39;00m {\u001b[32m0\u001b[39m, \u001b[32m1\u001b[39m, \u001b[32m2\u001b[39m}:\n\u001b[32m    320\u001b[39m     \u001b[38;5;28;01mraise\u001b[39;00m \u001b[38;5;167;01mValueError\u001b[39;00m(\n\u001b[32m    321\u001b[39m         \u001b[33mf\u001b[39m\u001b[33m\"\u001b[39m\u001b[33mIPython won\u001b[39m\u001b[33m'\u001b[39m\u001b[33mt let you open fd=\u001b[39m\u001b[38;5;132;01m{\u001b[39;00mfile\u001b[38;5;132;01m}\u001b[39;00m\u001b[33m by default \u001b[39m\u001b[33m\"\u001b[39m\n\u001b[32m    322\u001b[39m         \u001b[33m\"\u001b[39m\u001b[33mas it is likely to crash IPython. If you know what you are doing, \u001b[39m\u001b[33m\"\u001b[39m\n\u001b[32m    323\u001b[39m         \u001b[33m\"\u001b[39m\u001b[33myou can use builtins\u001b[39m\u001b[33m'\u001b[39m\u001b[33m open.\u001b[39m\u001b[33m\"\u001b[39m\n\u001b[32m    324\u001b[39m     )\n\u001b[32m--> \u001b[39m\u001b[32m326\u001b[39m \u001b[38;5;28;01mreturn\u001b[39;00m io_open(file, *args, **kwargs)\n",
      "\u001b[31mFileNotFoundError\u001b[39m: [Errno 2] No such file or directory: 'nonexistent.txt'"
     ]
    }
   ],
   "source": [
    "# FileNotFoundError: file does not exist\n",
    "with open(\"nonexistent.txt\", \"r\") as f:\n",
    "    content = f.read()"
   ]
  },
  {
   "cell_type": "code",
   "execution_count": 61,
   "metadata": {},
   "outputs": [
    {
     "ename": "IndexError",
     "evalue": "list index out of range",
     "output_type": "error",
     "traceback": [
      "\u001b[31m---------------------------------------------------------------------------\u001b[39m",
      "\u001b[31mIndexError\u001b[39m                                Traceback (most recent call last)",
      "\u001b[36mCell\u001b[39m\u001b[36m \u001b[39m\u001b[32mIn[61]\u001b[39m\u001b[32m, line 3\u001b[39m\n\u001b[32m      1\u001b[39m \u001b[38;5;66;03m# IndexError: list index out of range\u001b[39;00m\n\u001b[32m      2\u001b[39m lst = [\u001b[32m1\u001b[39m, \u001b[32m2\u001b[39m, \u001b[32m3\u001b[39m]\n\u001b[32m----> \u001b[39m\u001b[32m3\u001b[39m \u001b[38;5;28mprint\u001b[39m(lst[\u001b[32m5\u001b[39m])\n",
      "\u001b[31mIndexError\u001b[39m: list index out of range"
     ]
    }
   ],
   "source": [
    "# IndexError: list index out of range\n",
    "lst = [1, 2, 3]\n",
    "print(lst[5])"
   ]
  },
  {
   "cell_type": "code",
   "execution_count": 63,
   "metadata": {},
   "outputs": [
    {
     "ename": "SyntaxError",
     "evalue": "expected ':' (3029875345.py, line 2)",
     "output_type": "error",
     "traceback": [
      "  \u001b[36mCell\u001b[39m\u001b[36m \u001b[39m\u001b[32mIn[63]\u001b[39m\u001b[32m, line 2\u001b[39m\n\u001b[31m    \u001b[39m\u001b[31mif True\u001b[39m\n           ^\n\u001b[31mSyntaxError\u001b[39m\u001b[31m:\u001b[39m expected ':'\n"
     ]
    }
   ],
   "source": [
    "# SyntaxError: missing colon => Can't be caught\n",
    "if True\n",
    "    print(\"Hello\")"
   ]
  },
  {
   "cell_type": "code",
   "execution_count": null,
   "metadata": {},
   "outputs": [],
   "source": []
  },
  {
   "cell_type": "code",
   "execution_count": 35,
   "metadata": {},
   "outputs": [
    {
     "ename": "IndentationError",
     "evalue": "unexpected indent (2064584822.py, line 4)",
     "output_type": "error",
     "traceback": [
      "  \u001b[36mCell\u001b[39m\u001b[36m \u001b[39m\u001b[32mIn[35]\u001b[39m\u001b[32m, line 4\u001b[39m\n\u001b[31m    \u001b[39m\u001b[31mprint(\"World\")  # Improper indentation\u001b[39m\n    ^\n\u001b[31mIndentationError\u001b[39m\u001b[31m:\u001b[39m unexpected indent\n"
     ]
    }
   ],
   "source": [
    "# IndentationError: unexpected indent => Can't be caught\n",
    "def greet():\n",
    "    print(\"Hello\")\n",
    "     print(\"World\")  # Improper indentation"
   ]
  },
  {
   "cell_type": "code",
   "execution_count": null,
   "metadata": {},
   "outputs": [],
   "source": [
    "# If the syntax is wrong in your source code, Python can’t even start running the program — it fails during the parsing stage.\n",
    "# Refer to the Python Execution model Lecture - 1.4"
   ]
  },
  {
   "cell_type": "code",
   "execution_count": 65,
   "metadata": {},
   "outputs": [
    {
     "name": "stdout",
     "output_type": "stream",
     "text": [
      "Caught SyntaxError: invalid syntax (<string>, line 1)\n",
      "Program continues...\n"
     ]
    }
   ],
   "source": [
    "try:\n",
    "    # exec() is a built-in Python function used to dynamically execute Python code\n",
    "    exec(\"\"\"if True print('Hello')\"\"\")  # Missing colon => SyntaxError\n",
    "except SyntaxError as e:\n",
    "    print(\"Caught SyntaxError:\", e)\n",
    "\n",
    "print(\"Program continues...\")\n"
   ]
  },
  {
   "cell_type": "code",
   "execution_count": null,
   "metadata": {},
   "outputs": [],
   "source": [
    "compilation phase\n",
    "- Lexical Analysis (Scanning)\n",
    "- Syntax Analysis (Parsing)\n",
    "- Compilation to ByteCode\n",
    "\n",
    "NOTE:  If any error happens here (rare), it’s a compile-time error.\n",
    "\n",
    "-  Execution (Runtime Phase) - PVM\n",
    "        - This is when most of the other runtime exceptions are raised."
   ]
  },
  {
   "cell_type": "code",
   "execution_count": null,
   "metadata": {},
   "outputs": [],
   "source": [
    "# If this invalid code were written directly (not in exec()), Python would not even run the program.\n",
    "# By using exec(), Python lets you trap the SyntaxError like a normal exception."
   ]
  },
  {
   "cell_type": "markdown",
   "metadata": {},
   "source": [
    "---\n",
    "\n",
    "### Types of Exceptions in Python\n",
    "\n",
    "Here are some common built-in exceptions:\n",
    "\n",
    "| Exception Name      | Description |\n",
    "|---------------------|-------------|\n",
    "| `SyntaxError`        | Raised for syntax errors during parsing |\n",
    "| `IndentationError`   | Raised when there's incorrect indentation |\n",
    "| `NameError`          | Raised when an identifier is not found in the local/global namespace |\n",
    "| `TypeError`          | Raised when an operation/function is applied to an object of an inappropriate type |\n",
    "| `ValueError`         | Raised when a function receives an argument of the correct type but an inappropriate value |\n",
    "| `ZeroDivisionError`  | Raised when division or modulo by zero is attempted |\n",
    "| `FileNotFoundError`  | Raised when a file or directory is requested but not found |\n",
    "| `IndexError`         | Raised when a sequence index is out of range |\n",
    "\n",
    "All of the above Exception inherit from BaseException\n",
    "\n",
    "### Custom Exceptions\n",
    "\n",
    "You can define your own exceptions by creating a class that inherits from `Exception` or its subclasses. Details in next lecture\n",
    "\n",
    "---"
   ]
  },
  {
   "cell_type": "markdown",
   "metadata": {},
   "source": [
    "## Difference between Exception and Errors in Python\n",
    "\n",
    "The main difference between **exceptions** and **errors** in Python is:\n",
    "- An exception is a specific type of runtime error that Python can catch and handle using try-except.\n",
    "- An **error** is a more general term that refers to any unexpected or undesired situation that disrupts the normal execution of a program.\n",
    "\n",
    "#### Types of Errors:\n",
    "- **Syntax Errors**: Occur during the parsing (compilation) of the code, preventing it from running.\n",
    "  - **Examples**:\n",
    "    - Misspelled keywords\n",
    "    - Missing colons\n",
    "    - Incorrect indentation\n",
    "\n",
    "- **Runtime Errors**: Occur during the execution of the program due to various issues like:\n",
    "  - Invalid user input\n",
    "  - Division by zero\n",
    "  - Accessing an undefined variable\n",
    "\n",
    "---"
   ]
  },
  {
   "cell_type": "markdown",
   "metadata": {},
   "source": [
    "In Python, **exception handling** allows you to gracefully respond to errors that may occur during the execution of a program. This prevents the program from crashing and lets you take corrective actions."
   ]
  },
  {
   "cell_type": "markdown",
   "metadata": {
    "id": "1qLZxstNY-1p"
   },
   "source": [
    "## ✅ Why Use Exception Handling?\n",
    "\n",
    "- Prevent program crashes\n",
    "- Handle unexpected user input or system errors\n",
    "- Provide meaningful error messages\n",
    "- Ensure resources are properly released (e.g., file handles, network connections)\n",
    "\n",
    "## 🔧 Basic Syntax\n",
    "\n",
    "```python\n",
    "try:\n",
    "    # Code that may raise an exception\n",
    "    risky_operation()\n",
    "except SomeException:\n",
    "    # Code to handle the exception\n",
    "    print(\"An error occurred!\")\n",
    "```"
   ]
  },
  {
   "cell_type": "markdown",
   "metadata": {
    "id": "1nGFGOChY-5M"
   },
   "source": [
    "---\n",
    "\n",
    "**Primary Components of Exception Handling in Python:**\n",
    "\n",
    "1. **Try:** The try block is used to enclose the code that might raise an exception. It is the block where you want to handle potential errors."
   ]
  },
  {
   "cell_type": "code",
   "execution_count": null,
   "metadata": {
    "colab": {
     "base_uri": "https://localhost:8080/"
    },
    "id": "_sccUcQtXHUD",
    "outputId": "469c7bc3-f6a9-426a-a814-b53652e985d6"
   },
   "outputs": [
    {
     "name": "stdout",
     "output_type": "stream",
     "text": [
      "Error: Division by zero\n"
     ]
    }
   ],
   "source": [
    "try:\n",
    "    # Code that might raise an exception\n",
    "    result = 10 / 0\n",
    "except ZeroDivisionError:\n",
    "    print(\"Error: Division by zero\")"
   ]
  },
  {
   "cell_type": "markdown",
   "metadata": {
    "id": "rALuwKILajyA"
   },
   "source": [
    "---\n",
    "\n",
    "2. **Except:** The except block is used to catch and handle specific exceptions that might occur within the try block. You can have multiple except blocks to handle different types of exceptions."
   ]
  },
  {
   "cell_type": "code",
   "execution_count": null,
   "metadata": {
    "colab": {
     "base_uri": "https://localhost:8080/"
    },
    "id": "M1D30gFQbF-Y",
    "outputId": "041b4db8-8422-414b-fe25-ca435ff595bb"
   },
   "outputs": [
    {
     "name": "stdout",
     "output_type": "stream",
     "text": [
      "Error: Division by zero\n"
     ]
    }
   ],
   "source": [
    "try:\n",
    "    result = 10 / 0\n",
    "except ZeroDivisionError:\n",
    "    print(\"Error: Division by zero\")\n",
    "except ArithmeticError:\n",
    "    print(\"Arithmetic error occurred\")"
   ]
  },
  {
   "cell_type": "markdown",
   "metadata": {
    "id": "Z0oVovbJbNO4"
   },
   "source": [
    "---\n",
    "\n",
    "3.**Finally:** The `finally` block contains code that will be executed regardless of whether an exception occurred or not. It is useful for cleanup operations.\n",
    "\n",
    "It ensures that important actions always happen, such as:\n",
    "- Closing files\n",
    "- Releasing resources\n",
    "- Disconnecting from a database\n",
    "- Releasing a lock\n",
    "- Logging an operation"
   ]
  },
  {
   "cell_type": "code",
   "execution_count": 67,
   "metadata": {
    "colab": {
     "base_uri": "https://localhost:8080/"
    },
    "id": "42K0iDgQbd75",
    "outputId": "dbd1d9b0-1424-4c69-d490-a0af946043bd"
   },
   "outputs": [
    {
     "name": "stdout",
     "output_type": "stream",
     "text": [
      "Error: Division by zero\n",
      "Finally block executed\n"
     ]
    }
   ],
   "source": [
    "try:\n",
    "    result = 10 / 0\n",
    "except ZeroDivisionError:\n",
    "    print(\"Error: Division by zero\")\n",
    "finally:\n",
    "    print(\"Finally block executed\")"
   ]
  },
  {
   "cell_type": "markdown",
   "metadata": {
    "id": "Jk9AxUWNYiNj"
   },
   "source": [
    "---\n",
    "\n",
    "4.**Else:** The else block is optional and is executed only if no exceptions are raised in the try block. It is useful for code that should run only when there are no exceptions."
   ]
  },
  {
   "cell_type": "code",
   "execution_count": null,
   "metadata": {
    "colab": {
     "base_uri": "https://localhost:8080/"
    },
    "id": "RhIh0dNQbrYA",
    "outputId": "fee54ca2-48d9-4273-ebba-169d964a64fe"
   },
   "outputs": [
    {
     "name": "stdout",
     "output_type": "stream",
     "text": [
      "No exceptions occurred\n"
     ]
    }
   ],
   "source": [
    "try:\n",
    "    result = 10 / 2\n",
    "except ZeroDivisionError:\n",
    "    print(\"Error: Division by zero\")\n",
    "else:\n",
    "    print(\"No exceptions occurred\")"
   ]
  },
  {
   "cell_type": "markdown",
   "metadata": {
    "id": "Jlj2ViFabzh0"
   },
   "source": [
    "---\n",
    "\n",
    "5. **Raise:** The raise statement is used to manually raise an exception. This can be useful when you want to indicate that a certain condition is an error."
   ]
  },
  {
   "cell_type": "code",
   "execution_count": 66,
   "metadata": {
    "id": "dfo9392DbyuT"
   },
   "outputs": [
    {
     "ename": "ValueError",
     "evalue": "Age must be non-negative",
     "output_type": "error",
     "traceback": [
      "\u001b[31m---------------------------------------------------------------------------\u001b[39m",
      "\u001b[31mValueError\u001b[39m                                Traceback (most recent call last)",
      "\u001b[36mCell\u001b[39m\u001b[36m \u001b[39m\u001b[32mIn[66]\u001b[39m\u001b[32m, line 3\u001b[39m\n\u001b[32m      1\u001b[39m age = -\u001b[32m1\u001b[39m\n\u001b[32m      2\u001b[39m \u001b[38;5;28;01mif\u001b[39;00m age < \u001b[32m0\u001b[39m:\n\u001b[32m----> \u001b[39m\u001b[32m3\u001b[39m     \u001b[38;5;28;01mraise\u001b[39;00m \u001b[38;5;167;01mValueError\u001b[39;00m(\u001b[33m\"\u001b[39m\u001b[33mAge must be non-negative\u001b[39m\u001b[33m\"\u001b[39m)\n",
      "\u001b[31mValueError\u001b[39m: Age must be non-negative"
     ]
    }
   ],
   "source": [
    "age = -1\n",
    "if age < 0:\n",
    "    raise ValueError(\"Age must be non-negative\")"
   ]
  },
  {
   "cell_type": "markdown",
   "metadata": {
    "id": "dhb5b2YPrVon"
   },
   "source": [
    "**IMPORTANT NOTE**\n",
    "\n",
    "In Python, exceptions are objects, and they all derive from the BaseException class."
   ]
  },
  {
   "cell_type": "markdown",
   "metadata": {},
   "source": [
    "**Is Exception a class or Instance ?**\n",
    "| Term                 | Explanation                                                                            |\n",
    "| -------------------- | -------------------------------------------------------------------------------------- |\n",
    "| **Exception Class**  | All exceptions are defined as **classes** (usually inheriting from `BaseException`)    |\n",
    "| **Exception Object** | When an exception is **raised**, Python creates an **instance (object)** of that class |\n"
   ]
  },
  {
   "cell_type": "code",
   "execution_count": 14,
   "metadata": {},
   "outputs": [
    {
     "name": "stdout",
     "output_type": "stream",
     "text": [
      "<class 'ZeroDivisionError'>\n",
      "True\n"
     ]
    }
   ],
   "source": [
    "try:\n",
    "    1 / 0\n",
    "except ZeroDivisionError as e:\n",
    "    print(type(e))  # <class 'ZeroDivisionError'>\n",
    "    print(isinstance(e, ZeroDivisionError))  # True"
   ]
  },
  {
   "cell_type": "markdown",
   "metadata": {},
   "source": [
    "# 1.11.2 Custom Exceptions and real-world Exception-Handling examples"
   ]
  },
  {
   "cell_type": "markdown",
   "metadata": {},
   "source": [
    "### Custom Exceptions\n",
    "\n",
    "You can define your own exceptions by creating a class that inherits from `Exception` or its subclasses:\n",
    "\n",
    "```python\n",
    "class MyCustomError(Exception):\n",
    "    pass\n",
    "```"
   ]
  },
  {
   "cell_type": "code",
   "execution_count": 21,
   "metadata": {},
   "outputs": [
    {
     "data": {
      "text/plain": [
       "\"\\nLet's divide the problems into multiple subproblems.\\n\\n1. Declare a custom exception\\n2. Raise the custom exception\\n3. Handle it using try-except\\n\""
      ]
     },
     "execution_count": 21,
     "metadata": {},
     "output_type": "execute_result"
    }
   ],
   "source": [
    "# Problem: custom exception declaration, raising and handling\n",
    "\n",
    "\"\"\"\n",
    "Let's divide the problems into multiple subproblems.\n",
    "\n",
    "1. Declare a custom exception\n",
    "2. Raise the custom exception\n",
    "3. Handle it using try-except\n",
    "\"\"\""
   ]
  },
  {
   "cell_type": "code",
   "execution_count": null,
   "metadata": {},
   "outputs": [],
   "source": [
    "# ✅ Step 1: Declare a custom exception class\n",
    "class AgeTooSmallError(Exception):\n",
    "    \"\"\"Custom exception raised when age is below the allowed limit.\"\"\"\n",
    "    def __init__(self, message):\n",
    "        self.message = message\n",
    "        super().__init__(self.message)"
   ]
  },
  {
   "cell_type": "code",
   "execution_count": null,
   "metadata": {},
   "outputs": [],
   "source": [
    "# If you don’t call super().__init__(), your custom exception will:\n",
    "\n",
    "# Not display the message when printed"
   ]
  },
  {
   "cell_type": "code",
   "execution_count": null,
   "metadata": {},
   "outputs": [],
   "source": [
    "# 🚀 Step 2: Function that raises the custom exception\n",
    "def register_user(age):\n",
    "    if age < 18:\n",
    "        raise AgeTooSmallError(f\"Provided age {age} is too small to register.\")\n",
    "    else:\n",
    "        print(\"Registration successful!\")"
   ]
  },
  {
   "cell_type": "code",
   "execution_count": 68,
   "metadata": {},
   "outputs": [
    {
     "name": "stdin",
     "output_type": "stream",
     "text": [
      "Enter your age:  5\n"
     ]
    },
    {
     "name": "stdout",
     "output_type": "stream",
     "text": [
      "Custom Exception Caught:  Provided age 5 is too small to register.\n"
     ]
    }
   ],
   "source": [
    "# 🛠️ Step 3: Handle the exception using try-except\n",
    "try:\n",
    "    user_age = int(input(\"Enter your age: \"))\n",
    "    register_user(user_age)\n",
    "except AgeTooSmallError as e:\n",
    "    print(\"Custom Exception Caught: \", e)\n",
    "except ValueError:\n",
    "    print(\"Please enter a valid number.\")\n"
   ]
  },
  {
   "cell_type": "markdown",
   "metadata": {},
   "source": [
    "**IMPORTANT NOTE**\n",
    "\n",
    "1. If you do not explicitly call super().__init__() in the child class, the parent constructor is NOT called automatically.\n",
    "2. In C++, the parent constructor Is called automatically before the child constructor — unless you explicitly suppress it or choose a different constructor.\n"
   ]
  },
  {
   "cell_type": "markdown",
   "metadata": {},
   "source": [
    "### Scenario:\n",
    "You are loading a dataset, training a model, and saving it to disk. This Pipeline may fail due to:\n",
    "```python\n",
    "1. Missing or corrupt files\n",
    "      # Exceptions: FileNotFoundError\n",
    "2. Bad input data\n",
    "      # json.JSONDecodeError : Raised when trying to read malformed JSON data.\n",
    "      # csv.Error : Raised when reading an ill-formed CSV file.\n",
    "      # UnicodeDecodeError : Occurs if the file has an unexpected encoding (e.g., reading binary data as UTF-8).\n",
    "      \n",
    "- Model training errors\n",
    "      # ValueError : Raised when data has the wrong format, shape, or type.\n",
    "      # TypeError\n",
    "      # MemoryError\n",
    "      # RuntimeError\n",
    "- Issues saving the model\n",
    "      # FileNotFoundError : directory to save don't exists\n",
    "      # PermissionError : You don’t have permission to write in the target directory.\n",
    "      # OSError : Generic file system error (disk full, invalid path, etc.).\n",
    "      # PicklingError\n",
    "\n",
    "```"
   ]
  },
  {
   "cell_type": "markdown",
   "metadata": {},
   "source": [
    "**Exercise** : Write a basic machine learning model pipeline code in python along with exception handling demonstrating exception handling knowledge"
   ]
  },
  {
   "cell_type": "code",
   "execution_count": 69,
   "metadata": {},
   "outputs": [
    {
     "name": "stdout",
     "output_type": "stream",
     "text": [
      "Collecting pandas\n",
      "  Downloading pandas-2.3.1-cp313-cp313-win_amd64.whl.metadata (19 kB)\n",
      "Requirement already satisfied: numpy>=1.26.0 in c:\\users\\pc\\anaconda3\\envs\\decodeaienv\\lib\\site-packages (from pandas) (2.3.0)\n",
      "Requirement already satisfied: python-dateutil>=2.8.2 in c:\\users\\pc\\anaconda3\\envs\\decodeaienv\\lib\\site-packages (from pandas) (2.9.0.post0)\n",
      "Collecting pytz>=2020.1 (from pandas)\n",
      "  Downloading pytz-2025.2-py2.py3-none-any.whl.metadata (22 kB)\n",
      "Collecting tzdata>=2022.7 (from pandas)\n",
      "  Downloading tzdata-2025.2-py2.py3-none-any.whl.metadata (1.4 kB)\n",
      "Requirement already satisfied: six>=1.5 in c:\\users\\pc\\anaconda3\\envs\\decodeaienv\\lib\\site-packages (from python-dateutil>=2.8.2->pandas) (1.17.0)\n",
      "Downloading pandas-2.3.1-cp313-cp313-win_amd64.whl (11.0 MB)\n",
      "   ---------------------------------------- 0.0/11.0 MB ? eta -:--:--\n",
      "   ---------------------------------------- 0.0/11.0 MB ? eta -:--:--\n",
      "   ---------------------------------------- 0.0/11.0 MB ? eta -:--:--\n",
      "   ---------------------------------------- 0.0/11.0 MB ? eta -:--:--\n",
      "   ---------------------------------------- 0.0/11.0 MB ? eta -:--:--\n",
      "   ---------------------------------------- 0.0/11.0 MB ? eta -:--:--\n",
      "   ---------------------------------------- 0.0/11.0 MB ? eta -:--:--\n",
      "   ---------------------------------------- 0.0/11.0 MB ? eta -:--:--\n",
      "   ---------------------------------------- 0.0/11.0 MB ? eta -:--:--\n",
      "   ---------------------------------------- 0.0/11.0 MB ? eta -:--:--\n",
      "    --------------------------------------- 0.3/11.0 MB ? eta -:--:--\n",
      "    --------------------------------------- 0.3/11.0 MB ? eta -:--:--\n",
      "   --- ------------------------------------ 1.0/11.0 MB 1.7 MB/s eta 0:00:06\n",
      "   ----- ---------------------------------- 1.6/11.0 MB 1.9 MB/s eta 0:00:05\n",
      "   ------ --------------------------------- 1.8/11.0 MB 1.8 MB/s eta 0:00:06\n",
      "   ------- -------------------------------- 2.1/11.0 MB 1.7 MB/s eta 0:00:06\n",
      "   ----------- ---------------------------- 3.1/11.0 MB 2.2 MB/s eta 0:00:04\n",
      "   ------------ --------------------------- 3.4/11.0 MB 2.1 MB/s eta 0:00:04\n",
      "   --------------- ------------------------ 4.2/11.0 MB 2.3 MB/s eta 0:00:03\n",
      "   ----------------- ---------------------- 4.7/11.0 MB 2.3 MB/s eta 0:00:03\n",
      "   ------------------- -------------------- 5.2/11.0 MB 2.4 MB/s eta 0:00:03\n",
      "   --------------------- ------------------ 6.0/11.0 MB 2.4 MB/s eta 0:00:03\n",
      "   ----------------------- ---------------- 6.6/11.0 MB 2.5 MB/s eta 0:00:02\n",
      "   ------------------------- -------------- 7.1/11.0 MB 2.5 MB/s eta 0:00:02\n",
      "   --------------------------- ------------ 7.6/11.0 MB 2.4 MB/s eta 0:00:02\n",
      "   ---------------------------- ----------- 7.9/11.0 MB 2.3 MB/s eta 0:00:02\n",
      "   ------------------------------ --------- 8.4/11.0 MB 2.4 MB/s eta 0:00:02\n",
      "   ------------------------------- -------- 8.7/11.0 MB 2.4 MB/s eta 0:00:01\n",
      "   --------------------------------- ------ 9.2/11.0 MB 2.3 MB/s eta 0:00:01\n",
      "   ----------------------------------- ---- 9.7/11.0 MB 2.3 MB/s eta 0:00:01\n",
      "   ------------------------------------ --- 10.0/11.0 MB 2.2 MB/s eta 0:00:01\n",
      "   ---------------------------------------  10.7/11.0 MB 2.3 MB/s eta 0:00:01\n",
      "   ---------------------------------------  10.7/11.0 MB 2.3 MB/s eta 0:00:01\n",
      "   ---------------------------------------- 11.0/11.0 MB 2.2 MB/s eta 0:00:00\n",
      "Downloading pytz-2025.2-py2.py3-none-any.whl (509 kB)\n",
      "Downloading tzdata-2025.2-py2.py3-none-any.whl (347 kB)\n",
      "Installing collected packages: pytz, tzdata, pandas\n",
      "\n",
      "   ---------------------------------------- 0/3 [pytz]\n",
      "   ---------------------------------------- 0/3 [pytz]\n",
      "   ---------------------------------------- 0/3 [pytz]\n",
      "   ---------------------------------------- 0/3 [pytz]\n",
      "   ---------------------------------------- 0/3 [pytz]\n",
      "   ---------------------------------------- 0/3 [pytz]\n",
      "   ---------------------------------------- 0/3 [pytz]\n",
      "   ---------------------------------------- 0/3 [pytz]\n",
      "   ------------- -------------------------- 1/3 [tzdata]\n",
      "   ------------- -------------------------- 1/3 [tzdata]\n",
      "   ------------- -------------------------- 1/3 [tzdata]\n",
      "   ------------- -------------------------- 1/3 [tzdata]\n",
      "   ------------- -------------------------- 1/3 [tzdata]\n",
      "   ------------- -------------------------- 1/3 [tzdata]\n",
      "   ------------- -------------------------- 1/3 [tzdata]\n",
      "   ------------- -------------------------- 1/3 [tzdata]\n",
      "   ------------- -------------------------- 1/3 [tzdata]\n",
      "   ------------- -------------------------- 1/3 [tzdata]\n",
      "   -------------------------- ------------- 2/3 [pandas]\n",
      "   -------------------------- ------------- 2/3 [pandas]\n",
      "   -------------------------- ------------- 2/3 [pandas]\n",
      "   -------------------------- ------------- 2/3 [pandas]\n",
      "   -------------------------- ------------- 2/3 [pandas]\n",
      "   -------------------------- ------------- 2/3 [pandas]\n",
      "   -------------------------- ------------- 2/3 [pandas]\n",
      "   -------------------------- ------------- 2/3 [pandas]\n",
      "   -------------------------- ------------- 2/3 [pandas]\n",
      "   -------------------------- ------------- 2/3 [pandas]\n",
      "   -------------------------- ------------- 2/3 [pandas]\n",
      "   -------------------------- ------------- 2/3 [pandas]\n",
      "   -------------------------- ------------- 2/3 [pandas]\n",
      "   -------------------------- ------------- 2/3 [pandas]\n",
      "   -------------------------- ------------- 2/3 [pandas]\n",
      "   -------------------------- ------------- 2/3 [pandas]\n",
      "   -------------------------- ------------- 2/3 [pandas]\n",
      "   -------------------------- ------------- 2/3 [pandas]\n",
      "   -------------------------- ------------- 2/3 [pandas]\n",
      "   -------------------------- ------------- 2/3 [pandas]\n",
      "   -------------------------- ------------- 2/3 [pandas]\n",
      "   -------------------------- ------------- 2/3 [pandas]\n",
      "   -------------------------- ------------- 2/3 [pandas]\n",
      "   -------------------------- ------------- 2/3 [pandas]\n",
      "   -------------------------- ------------- 2/3 [pandas]\n",
      "   -------------------------- ------------- 2/3 [pandas]\n",
      "   -------------------------- ------------- 2/3 [pandas]\n",
      "   -------------------------- ------------- 2/3 [pandas]\n",
      "   -------------------------- ------------- 2/3 [pandas]\n",
      "   -------------------------- ------------- 2/3 [pandas]\n",
      "   -------------------------- ------------- 2/3 [pandas]\n",
      "   -------------------------- ------------- 2/3 [pandas]\n",
      "   -------------------------- ------------- 2/3 [pandas]\n",
      "   -------------------------- ------------- 2/3 [pandas]\n",
      "   -------------------------- ------------- 2/3 [pandas]\n",
      "   -------------------------- ------------- 2/3 [pandas]\n",
      "   -------------------------- ------------- 2/3 [pandas]\n",
      "   -------------------------- ------------- 2/3 [pandas]\n",
      "   -------------------------- ------------- 2/3 [pandas]\n",
      "   -------------------------- ------------- 2/3 [pandas]\n",
      "   -------------------------- ------------- 2/3 [pandas]\n",
      "   -------------------------- ------------- 2/3 [pandas]\n",
      "   -------------------------- ------------- 2/3 [pandas]\n",
      "   -------------------------- ------------- 2/3 [pandas]\n",
      "   -------------------------- ------------- 2/3 [pandas]\n",
      "   -------------------------- ------------- 2/3 [pandas]\n",
      "   -------------------------- ------------- 2/3 [pandas]\n",
      "   -------------------------- ------------- 2/3 [pandas]\n",
      "   -------------------------- ------------- 2/3 [pandas]\n",
      "   -------------------------- ------------- 2/3 [pandas]\n",
      "   -------------------------- ------------- 2/3 [pandas]\n",
      "   -------------------------- ------------- 2/3 [pandas]\n",
      "   -------------------------- ------------- 2/3 [pandas]\n",
      "   -------------------------- ------------- 2/3 [pandas]\n",
      "   -------------------------- ------------- 2/3 [pandas]\n",
      "   -------------------------- ------------- 2/3 [pandas]\n",
      "   -------------------------- ------------- 2/3 [pandas]\n",
      "   -------------------------- ------------- 2/3 [pandas]\n",
      "   -------------------------- ------------- 2/3 [pandas]\n",
      "   -------------------------- ------------- 2/3 [pandas]\n",
      "   -------------------------- ------------- 2/3 [pandas]\n",
      "   -------------------------- ------------- 2/3 [pandas]\n",
      "   -------------------------- ------------- 2/3 [pandas]\n",
      "   -------------------------- ------------- 2/3 [pandas]\n",
      "   -------------------------- ------------- 2/3 [pandas]\n",
      "   -------------------------- ------------- 2/3 [pandas]\n",
      "   -------------------------- ------------- 2/3 [pandas]\n",
      "   -------------------------- ------------- 2/3 [pandas]\n",
      "   -------------------------- ------------- 2/3 [pandas]\n",
      "   -------------------------- ------------- 2/3 [pandas]\n",
      "   -------------------------- ------------- 2/3 [pandas]\n",
      "   -------------------------- ------------- 2/3 [pandas]\n",
      "   -------------------------- ------------- 2/3 [pandas]\n",
      "   -------------------------- ------------- 2/3 [pandas]\n",
      "   -------------------------- ------------- 2/3 [pandas]\n",
      "   -------------------------- ------------- 2/3 [pandas]\n",
      "   -------------------------- ------------- 2/3 [pandas]\n",
      "   -------------------------- ------------- 2/3 [pandas]\n",
      "   -------------------------- ------------- 2/3 [pandas]\n",
      "   -------------------------- ------------- 2/3 [pandas]\n",
      "   -------------------------- ------------- 2/3 [pandas]\n",
      "   -------------------------- ------------- 2/3 [pandas]\n",
      "   -------------------------- ------------- 2/3 [pandas]\n",
      "   -------------------------- ------------- 2/3 [pandas]\n",
      "   -------------------------- ------------- 2/3 [pandas]\n",
      "   -------------------------- ------------- 2/3 [pandas]\n",
      "   -------------------------- ------------- 2/3 [pandas]\n",
      "   -------------------------- ------------- 2/3 [pandas]\n",
      "   -------------------------- ------------- 2/3 [pandas]\n",
      "   -------------------------- ------------- 2/3 [pandas]\n",
      "   -------------------------- ------------- 2/3 [pandas]\n",
      "   -------------------------- ------------- 2/3 [pandas]\n",
      "   -------------------------- ------------- 2/3 [pandas]\n",
      "   -------------------------- ------------- 2/3 [pandas]\n",
      "   -------------------------- ------------- 2/3 [pandas]\n",
      "   -------------------------- ------------- 2/3 [pandas]\n",
      "   -------------------------- ------------- 2/3 [pandas]\n",
      "   -------------------------- ------------- 2/3 [pandas]\n",
      "   -------------------------- ------------- 2/3 [pandas]\n",
      "   -------------------------- ------------- 2/3 [pandas]\n",
      "   -------------------------- ------------- 2/3 [pandas]\n",
      "   -------------------------- ------------- 2/3 [pandas]\n",
      "   -------------------------- ------------- 2/3 [pandas]\n",
      "   -------------------------- ------------- 2/3 [pandas]\n",
      "   -------------------------- ------------- 2/3 [pandas]\n",
      "   -------------------------- ------------- 2/3 [pandas]\n",
      "   -------------------------- ------------- 2/3 [pandas]\n",
      "   -------------------------- ------------- 2/3 [pandas]\n",
      "   -------------------------- ------------- 2/3 [pandas]\n",
      "   -------------------------- ------------- 2/3 [pandas]\n",
      "   -------------------------- ------------- 2/3 [pandas]\n",
      "   -------------------------- ------------- 2/3 [pandas]\n",
      "   -------------------------- ------------- 2/3 [pandas]\n",
      "   -------------------------- ------------- 2/3 [pandas]\n",
      "   -------------------------- ------------- 2/3 [pandas]\n",
      "   -------------------------- ------------- 2/3 [pandas]\n",
      "   -------------------------- ------------- 2/3 [pandas]\n",
      "   -------------------------- ------------- 2/3 [pandas]\n",
      "   -------------------------- ------------- 2/3 [pandas]\n",
      "   -------------------------- ------------- 2/3 [pandas]\n",
      "   -------------------------- ------------- 2/3 [pandas]\n",
      "   -------------------------- ------------- 2/3 [pandas]\n",
      "   -------------------------- ------------- 2/3 [pandas]\n",
      "   -------------------------- ------------- 2/3 [pandas]\n",
      "   -------------------------- ------------- 2/3 [pandas]\n",
      "   -------------------------- ------------- 2/3 [pandas]\n",
      "   -------------------------- ------------- 2/3 [pandas]\n",
      "   -------------------------- ------------- 2/3 [pandas]\n",
      "   -------------------------- ------------- 2/3 [pandas]\n",
      "   -------------------------- ------------- 2/3 [pandas]\n",
      "   -------------------------- ------------- 2/3 [pandas]\n",
      "   -------------------------- ------------- 2/3 [pandas]\n",
      "   -------------------------- ------------- 2/3 [pandas]\n",
      "   -------------------------- ------------- 2/3 [pandas]\n",
      "   -------------------------- ------------- 2/3 [pandas]\n",
      "   -------------------------- ------------- 2/3 [pandas]\n",
      "   -------------------------- ------------- 2/3 [pandas]\n",
      "   -------------------------- ------------- 2/3 [pandas]\n",
      "   -------------------------- ------------- 2/3 [pandas]\n",
      "   -------------------------- ------------- 2/3 [pandas]\n",
      "   -------------------------- ------------- 2/3 [pandas]\n",
      "   -------------------------- ------------- 2/3 [pandas]\n",
      "   -------------------------- ------------- 2/3 [pandas]\n",
      "   -------------------------- ------------- 2/3 [pandas]\n",
      "   -------------------------- ------------- 2/3 [pandas]\n",
      "   -------------------------- ------------- 2/3 [pandas]\n",
      "   -------------------------- ------------- 2/3 [pandas]\n",
      "   -------------------------- ------------- 2/3 [pandas]\n",
      "   -------------------------- ------------- 2/3 [pandas]\n",
      "   -------------------------- ------------- 2/3 [pandas]\n",
      "   -------------------------- ------------- 2/3 [pandas]\n",
      "   ---------------------------------------- 3/3 [pandas]\n",
      "\n",
      "Successfully installed pandas-2.3.1 pytz-2025.2 tzdata-2025.2\n"
     ]
    }
   ],
   "source": [
    "!pip install pandas"
   ]
  },
  {
   "cell_type": "code",
   "execution_count": 72,
   "metadata": {},
   "outputs": [
    {
     "name": "stdout",
     "output_type": "stream",
     "text": [
      "Collecting scikit-learn\n",
      "  Downloading scikit_learn-1.7.0-cp313-cp313-win_amd64.whl.metadata (14 kB)\n",
      "Requirement already satisfied: numpy>=1.22.0 in c:\\users\\pc\\anaconda3\\envs\\decodeaienv\\lib\\site-packages (from scikit-learn) (2.3.0)\n",
      "Collecting scipy>=1.8.0 (from scikit-learn)\n",
      "  Downloading scipy-1.16.0-cp313-cp313-win_amd64.whl.metadata (60 kB)\n",
      "Collecting joblib>=1.2.0 (from scikit-learn)\n",
      "  Downloading joblib-1.5.1-py3-none-any.whl.metadata (5.6 kB)\n",
      "Collecting threadpoolctl>=3.1.0 (from scikit-learn)\n",
      "  Downloading threadpoolctl-3.6.0-py3-none-any.whl.metadata (13 kB)\n",
      "Downloading scikit_learn-1.7.0-cp313-cp313-win_amd64.whl (10.7 MB)\n",
      "   ---------------------------------------- 0.0/10.7 MB ? eta -:--:--\n",
      "   ---------------------------------------- 0.0/10.7 MB ? eta -:--:--\n",
      "   -- ------------------------------------- 0.8/10.7 MB 3.5 MB/s eta 0:00:03\n",
      "   ----- ---------------------------------- 1.6/10.7 MB 3.7 MB/s eta 0:00:03\n",
      "   -------- ------------------------------- 2.4/10.7 MB 3.7 MB/s eta 0:00:03\n",
      "   ----------- ---------------------------- 3.1/10.7 MB 3.8 MB/s eta 0:00:02\n",
      "   --------------- ------------------------ 4.2/10.7 MB 3.9 MB/s eta 0:00:02\n",
      "   ------------------- -------------------- 5.2/10.7 MB 4.0 MB/s eta 0:00:02\n",
      "   ---------------------- ----------------- 6.0/10.7 MB 4.1 MB/s eta 0:00:02\n",
      "   -------------------------- ------------- 7.1/10.7 MB 4.1 MB/s eta 0:00:01\n",
      "   ----------------------------- ---------- 7.9/10.7 MB 4.1 MB/s eta 0:00:01\n",
      "   -------------------------------- ------- 8.7/10.7 MB 4.0 MB/s eta 0:00:01\n",
      "   --------------------------------- ------ 8.9/10.7 MB 4.0 MB/s eta 0:00:01\n",
      "   ---------------------------------- ----- 9.2/10.7 MB 3.6 MB/s eta 0:00:01\n",
      "   ------------------------------------ --- 9.7/10.7 MB 3.5 MB/s eta 0:00:01\n",
      "   -------------------------------------- - 10.2/10.7 MB 3.4 MB/s eta 0:00:01\n",
      "   ---------------------------------------- 10.7/10.7 MB 3.3 MB/s eta 0:00:00\n",
      "Downloading joblib-1.5.1-py3-none-any.whl (307 kB)\n",
      "Downloading scipy-1.16.0-cp313-cp313-win_amd64.whl (38.4 MB)\n",
      "   ---------------------------------------- 0.0/38.4 MB ? eta -:--:--\n",
      "    --------------------------------------- 0.5/38.4 MB 2.9 MB/s eta 0:00:14\n",
      "   - -------------------------------------- 1.0/38.4 MB 2.9 MB/s eta 0:00:13\n",
      "   - -------------------------------------- 1.8/38.4 MB 3.0 MB/s eta 0:00:13\n",
      "   -- ------------------------------------- 2.4/38.4 MB 3.1 MB/s eta 0:00:12\n",
      "   --- ------------------------------------ 3.1/38.4 MB 3.1 MB/s eta 0:00:12\n",
      "   ---- ----------------------------------- 3.9/38.4 MB 3.2 MB/s eta 0:00:11\n",
      "   ---- ----------------------------------- 4.2/38.4 MB 2.9 MB/s eta 0:00:12\n",
      "   ---- ----------------------------------- 4.7/38.4 MB 2.8 MB/s eta 0:00:12\n",
      "   ----- ---------------------------------- 5.2/38.4 MB 2.8 MB/s eta 0:00:12\n",
      "   ------ --------------------------------- 6.0/38.4 MB 2.8 MB/s eta 0:00:12\n",
      "   ------ --------------------------------- 6.6/38.4 MB 2.9 MB/s eta 0:00:12\n",
      "   ------- -------------------------------- 7.3/38.4 MB 2.9 MB/s eta 0:00:11\n",
      "   -------- ------------------------------- 8.1/38.4 MB 2.9 MB/s eta 0:00:11\n",
      "   --------- ------------------------------ 8.7/38.4 MB 2.9 MB/s eta 0:00:11\n",
      "   --------- ------------------------------ 9.4/38.4 MB 3.0 MB/s eta 0:00:10\n",
      "   ---------- ----------------------------- 10.2/38.4 MB 3.0 MB/s eta 0:00:10\n",
      "   ----------- ---------------------------- 11.0/38.4 MB 3.1 MB/s eta 0:00:09\n",
      "   ----------- ---------------------------- 11.3/38.4 MB 3.0 MB/s eta 0:00:10\n",
      "   ------------ --------------------------- 11.5/38.4 MB 2.9 MB/s eta 0:00:10\n",
      "   ------------ --------------------------- 12.1/38.4 MB 2.8 MB/s eta 0:00:10\n",
      "   ------------ --------------------------- 12.3/38.4 MB 2.8 MB/s eta 0:00:10\n",
      "   ------------- -------------------------- 12.8/38.4 MB 2.8 MB/s eta 0:00:10\n",
      "   ------------- -------------------------- 13.4/38.4 MB 2.7 MB/s eta 0:00:10\n",
      "   -------------- ------------------------- 13.9/38.4 MB 2.7 MB/s eta 0:00:09\n",
      "   --------------- ------------------------ 14.4/38.4 MB 2.7 MB/s eta 0:00:09\n",
      "   --------------- ------------------------ 14.9/38.4 MB 2.7 MB/s eta 0:00:09\n",
      "   ---------------- ----------------------- 15.7/38.4 MB 2.7 MB/s eta 0:00:09\n",
      "   ---------------- ----------------------- 16.3/38.4 MB 2.7 MB/s eta 0:00:09\n",
      "   ----------------- ---------------------- 17.0/38.4 MB 2.7 MB/s eta 0:00:08\n",
      "   ------------------ --------------------- 17.6/38.4 MB 2.8 MB/s eta 0:00:08\n",
      "   ------------------- -------------------- 18.4/38.4 MB 2.8 MB/s eta 0:00:08\n",
      "   ------------------- -------------------- 18.9/38.4 MB 2.8 MB/s eta 0:00:08\n",
      "   -------------------- ------------------- 19.4/38.4 MB 2.8 MB/s eta 0:00:07\n",
      "   -------------------- ------------------- 19.9/38.4 MB 2.8 MB/s eta 0:00:07\n",
      "   --------------------- ------------------ 20.4/38.4 MB 2.8 MB/s eta 0:00:07\n",
      "   ---------------------- ----------------- 21.2/38.4 MB 2.8 MB/s eta 0:00:07\n",
      "   ---------------------- ----------------- 21.8/38.4 MB 2.8 MB/s eta 0:00:07\n",
      "   ----------------------- ---------------- 22.5/38.4 MB 2.8 MB/s eta 0:00:06\n",
      "   ------------------------ --------------- 23.3/38.4 MB 2.8 MB/s eta 0:00:06\n",
      "   ------------------------ --------------- 23.9/38.4 MB 2.8 MB/s eta 0:00:06\n",
      "   ------------------------- -------------- 24.6/38.4 MB 2.8 MB/s eta 0:00:05\n",
      "   -------------------------- ------------- 25.4/38.4 MB 2.8 MB/s eta 0:00:05\n",
      "   --------------------------- ------------ 26.0/38.4 MB 2.9 MB/s eta 0:00:05\n",
      "   --------------------------- ------------ 26.5/38.4 MB 2.8 MB/s eta 0:00:05\n",
      "   ---------------------------- ----------- 27.3/38.4 MB 2.8 MB/s eta 0:00:04\n",
      "   ---------------------------- ----------- 27.8/38.4 MB 2.8 MB/s eta 0:00:04\n",
      "   ----------------------------- ---------- 28.6/38.4 MB 2.8 MB/s eta 0:00:04\n",
      "   ------------------------------ --------- 29.4/38.4 MB 2.9 MB/s eta 0:00:04\n",
      "   ------------------------------- -------- 29.9/38.4 MB 2.9 MB/s eta 0:00:03\n",
      "   ------------------------------- -------- 30.7/38.4 MB 2.9 MB/s eta 0:00:03\n",
      "   -------------------------------- ------- 31.2/38.4 MB 2.9 MB/s eta 0:00:03\n",
      "   --------------------------------- ------ 31.7/38.4 MB 2.9 MB/s eta 0:00:03\n",
      "   --------------------------------- ------ 32.2/38.4 MB 2.8 MB/s eta 0:00:03\n",
      "   ---------------------------------- ----- 32.8/38.4 MB 2.8 MB/s eta 0:00:02\n",
      "   ---------------------------------- ----- 33.6/38.4 MB 2.8 MB/s eta 0:00:02\n",
      "   ----------------------------------- ---- 34.1/38.4 MB 2.8 MB/s eta 0:00:02\n",
      "   ------------------------------------ --- 34.9/38.4 MB 2.8 MB/s eta 0:00:02\n",
      "   ------------------------------------ --- 35.4/38.4 MB 2.9 MB/s eta 0:00:02\n",
      "   ------------------------------------- -- 36.2/38.4 MB 2.9 MB/s eta 0:00:01\n",
      "   -------------------------------------- - 37.0/38.4 MB 2.9 MB/s eta 0:00:01\n",
      "   ---------------------------------------  37.7/38.4 MB 2.9 MB/s eta 0:00:01\n",
      "   ---------------------------------------  38.0/38.4 MB 2.9 MB/s eta 0:00:01\n",
      "   ---------------------------------------  38.3/38.4 MB 2.9 MB/s eta 0:00:01\n",
      "   ---------------------------------------- 38.4/38.4 MB 2.8 MB/s eta 0:00:00\n",
      "Downloading threadpoolctl-3.6.0-py3-none-any.whl (18 kB)\n",
      "Installing collected packages: threadpoolctl, scipy, joblib, scikit-learn\n",
      "\n",
      "   ---------- ----------------------------- 1/4 [scipy]\n",
      "   ---------- ----------------------------- 1/4 [scipy]\n",
      "   ---------- ----------------------------- 1/4 [scipy]\n",
      "   ---------- ----------------------------- 1/4 [scipy]\n",
      "   ---------- ----------------------------- 1/4 [scipy]\n",
      "   ---------- ----------------------------- 1/4 [scipy]\n",
      "   ---------- ----------------------------- 1/4 [scipy]\n",
      "   ---------- ----------------------------- 1/4 [scipy]\n",
      "   ---------- ----------------------------- 1/4 [scipy]\n",
      "   ---------- ----------------------------- 1/4 [scipy]\n",
      "   ---------- ----------------------------- 1/4 [scipy]\n",
      "   ---------- ----------------------------- 1/4 [scipy]\n",
      "   ---------- ----------------------------- 1/4 [scipy]\n",
      "   ---------- ----------------------------- 1/4 [scipy]\n",
      "   ---------- ----------------------------- 1/4 [scipy]\n",
      "   ---------- ----------------------------- 1/4 [scipy]\n",
      "   ---------- ----------------------------- 1/4 [scipy]\n",
      "   ---------- ----------------------------- 1/4 [scipy]\n",
      "   ---------- ----------------------------- 1/4 [scipy]\n",
      "   ---------- ----------------------------- 1/4 [scipy]\n",
      "   ---------- ----------------------------- 1/4 [scipy]\n",
      "   ---------- ----------------------------- 1/4 [scipy]\n",
      "   ---------- ----------------------------- 1/4 [scipy]\n",
      "   ---------- ----------------------------- 1/4 [scipy]\n",
      "   ---------- ----------------------------- 1/4 [scipy]\n",
      "   ---------- ----------------------------- 1/4 [scipy]\n",
      "   ---------- ----------------------------- 1/4 [scipy]\n",
      "   ---------- ----------------------------- 1/4 [scipy]\n",
      "   ---------- ----------------------------- 1/4 [scipy]\n",
      "   ---------- ----------------------------- 1/4 [scipy]\n",
      "   ---------- ----------------------------- 1/4 [scipy]\n",
      "   ---------- ----------------------------- 1/4 [scipy]\n",
      "   ---------- ----------------------------- 1/4 [scipy]\n",
      "   ---------- ----------------------------- 1/4 [scipy]\n",
      "   ---------- ----------------------------- 1/4 [scipy]\n",
      "   ---------- ----------------------------- 1/4 [scipy]\n",
      "   ---------- ----------------------------- 1/4 [scipy]\n",
      "   ---------- ----------------------------- 1/4 [scipy]\n",
      "   ---------- ----------------------------- 1/4 [scipy]\n",
      "   ---------- ----------------------------- 1/4 [scipy]\n",
      "   ---------- ----------------------------- 1/4 [scipy]\n",
      "   ---------- ----------------------------- 1/4 [scipy]\n",
      "   ---------- ----------------------------- 1/4 [scipy]\n",
      "   ---------- ----------------------------- 1/4 [scipy]\n",
      "   ---------- ----------------------------- 1/4 [scipy]\n",
      "   ---------- ----------------------------- 1/4 [scipy]\n",
      "   ---------- ----------------------------- 1/4 [scipy]\n",
      "   ---------- ----------------------------- 1/4 [scipy]\n",
      "   ---------- ----------------------------- 1/4 [scipy]\n",
      "   ---------- ----------------------------- 1/4 [scipy]\n",
      "   ---------- ----------------------------- 1/4 [scipy]\n",
      "   ---------- ----------------------------- 1/4 [scipy]\n",
      "   ---------- ----------------------------- 1/4 [scipy]\n",
      "   ---------- ----------------------------- 1/4 [scipy]\n",
      "   ---------- ----------------------------- 1/4 [scipy]\n",
      "   ---------- ----------------------------- 1/4 [scipy]\n",
      "   ---------- ----------------------------- 1/4 [scipy]\n",
      "   ---------- ----------------------------- 1/4 [scipy]\n",
      "   ---------- ----------------------------- 1/4 [scipy]\n",
      "   ---------- ----------------------------- 1/4 [scipy]\n",
      "   ---------- ----------------------------- 1/4 [scipy]\n",
      "   ---------- ----------------------------- 1/4 [scipy]\n",
      "   ---------- ----------------------------- 1/4 [scipy]\n",
      "   ---------- ----------------------------- 1/4 [scipy]\n",
      "   ---------- ----------------------------- 1/4 [scipy]\n",
      "   ---------- ----------------------------- 1/4 [scipy]\n",
      "   ---------- ----------------------------- 1/4 [scipy]\n",
      "   ---------- ----------------------------- 1/4 [scipy]\n",
      "   ---------- ----------------------------- 1/4 [scipy]\n",
      "   ---------- ----------------------------- 1/4 [scipy]\n",
      "   ---------- ----------------------------- 1/4 [scipy]\n",
      "   ---------- ----------------------------- 1/4 [scipy]\n",
      "   ---------- ----------------------------- 1/4 [scipy]\n",
      "   ---------- ----------------------------- 1/4 [scipy]\n",
      "   ---------- ----------------------------- 1/4 [scipy]\n",
      "   ---------- ----------------------------- 1/4 [scipy]\n",
      "   ---------- ----------------------------- 1/4 [scipy]\n",
      "   ---------- ----------------------------- 1/4 [scipy]\n",
      "   ---------- ----------------------------- 1/4 [scipy]\n",
      "   ---------- ----------------------------- 1/4 [scipy]\n",
      "   ---------- ----------------------------- 1/4 [scipy]\n",
      "   ---------- ----------------------------- 1/4 [scipy]\n",
      "   ---------- ----------------------------- 1/4 [scipy]\n",
      "   ---------- ----------------------------- 1/4 [scipy]\n",
      "   ---------- ----------------------------- 1/4 [scipy]\n",
      "   ---------- ----------------------------- 1/4 [scipy]\n",
      "   ---------- ----------------------------- 1/4 [scipy]\n",
      "   ---------- ----------------------------- 1/4 [scipy]\n",
      "   ---------- ----------------------------- 1/4 [scipy]\n",
      "   ---------- ----------------------------- 1/4 [scipy]\n",
      "   ---------- ----------------------------- 1/4 [scipy]\n",
      "   ---------- ----------------------------- 1/4 [scipy]\n",
      "   ---------- ----------------------------- 1/4 [scipy]\n",
      "   ---------- ----------------------------- 1/4 [scipy]\n",
      "   ---------- ----------------------------- 1/4 [scipy]\n",
      "   ---------- ----------------------------- 1/4 [scipy]\n",
      "   ---------- ----------------------------- 1/4 [scipy]\n",
      "   ---------- ----------------------------- 1/4 [scipy]\n",
      "   ---------- ----------------------------- 1/4 [scipy]\n",
      "   ---------- ----------------------------- 1/4 [scipy]\n",
      "   ---------- ----------------------------- 1/4 [scipy]\n",
      "   ---------- ----------------------------- 1/4 [scipy]\n",
      "   ---------- ----------------------------- 1/4 [scipy]\n",
      "   ---------- ----------------------------- 1/4 [scipy]\n",
      "   ---------- ----------------------------- 1/4 [scipy]\n",
      "   ---------- ----------------------------- 1/4 [scipy]\n",
      "   ---------- ----------------------------- 1/4 [scipy]\n",
      "   -------------------- ------------------- 2/4 [joblib]\n",
      "   -------------------- ------------------- 2/4 [joblib]\n",
      "   -------------------- ------------------- 2/4 [joblib]\n",
      "   -------------------- ------------------- 2/4 [joblib]\n",
      "   -------------------- ------------------- 2/4 [joblib]\n",
      "   -------------------- ------------------- 2/4 [joblib]\n",
      "   ------------------------------ --------- 3/4 [scikit-learn]\n",
      "   ------------------------------ --------- 3/4 [scikit-learn]\n",
      "   ------------------------------ --------- 3/4 [scikit-learn]\n",
      "   ------------------------------ --------- 3/4 [scikit-learn]\n",
      "   ------------------------------ --------- 3/4 [scikit-learn]\n",
      "   ------------------------------ --------- 3/4 [scikit-learn]\n",
      "   ------------------------------ --------- 3/4 [scikit-learn]\n",
      "   ------------------------------ --------- 3/4 [scikit-learn]\n",
      "   ------------------------------ --------- 3/4 [scikit-learn]\n",
      "   ------------------------------ --------- 3/4 [scikit-learn]\n",
      "   ------------------------------ --------- 3/4 [scikit-learn]\n",
      "   ------------------------------ --------- 3/4 [scikit-learn]\n",
      "   ------------------------------ --------- 3/4 [scikit-learn]\n",
      "   ------------------------------ --------- 3/4 [scikit-learn]\n",
      "   ------------------------------ --------- 3/4 [scikit-learn]\n",
      "   ------------------------------ --------- 3/4 [scikit-learn]\n",
      "   ------------------------------ --------- 3/4 [scikit-learn]\n",
      "   ------------------------------ --------- 3/4 [scikit-learn]\n",
      "   ------------------------------ --------- 3/4 [scikit-learn]\n",
      "   ------------------------------ --------- 3/4 [scikit-learn]\n",
      "   ------------------------------ --------- 3/4 [scikit-learn]\n",
      "   ------------------------------ --------- 3/4 [scikit-learn]\n",
      "   ------------------------------ --------- 3/4 [scikit-learn]\n",
      "   ------------------------------ --------- 3/4 [scikit-learn]\n",
      "   ------------------------------ --------- 3/4 [scikit-learn]\n",
      "   ------------------------------ --------- 3/4 [scikit-learn]\n",
      "   ------------------------------ --------- 3/4 [scikit-learn]\n",
      "   ------------------------------ --------- 3/4 [scikit-learn]\n",
      "   ------------------------------ --------- 3/4 [scikit-learn]\n",
      "   ------------------------------ --------- 3/4 [scikit-learn]\n",
      "   ------------------------------ --------- 3/4 [scikit-learn]\n",
      "   ------------------------------ --------- 3/4 [scikit-learn]\n",
      "   ------------------------------ --------- 3/4 [scikit-learn]\n",
      "   ------------------------------ --------- 3/4 [scikit-learn]\n",
      "   ------------------------------ --------- 3/4 [scikit-learn]\n",
      "   ------------------------------ --------- 3/4 [scikit-learn]\n",
      "   ------------------------------ --------- 3/4 [scikit-learn]\n",
      "   ------------------------------ --------- 3/4 [scikit-learn]\n",
      "   ------------------------------ --------- 3/4 [scikit-learn]\n",
      "   ------------------------------ --------- 3/4 [scikit-learn]\n",
      "   ------------------------------ --------- 3/4 [scikit-learn]\n",
      "   ------------------------------ --------- 3/4 [scikit-learn]\n",
      "   ------------------------------ --------- 3/4 [scikit-learn]\n",
      "   ------------------------------ --------- 3/4 [scikit-learn]\n",
      "   ------------------------------ --------- 3/4 [scikit-learn]\n",
      "   ------------------------------ --------- 3/4 [scikit-learn]\n",
      "   ------------------------------ --------- 3/4 [scikit-learn]\n",
      "   ------------------------------ --------- 3/4 [scikit-learn]\n",
      "   ------------------------------ --------- 3/4 [scikit-learn]\n",
      "   ------------------------------ --------- 3/4 [scikit-learn]\n",
      "   ------------------------------ --------- 3/4 [scikit-learn]\n",
      "   ------------------------------ --------- 3/4 [scikit-learn]\n",
      "   ------------------------------ --------- 3/4 [scikit-learn]\n",
      "   ------------------------------ --------- 3/4 [scikit-learn]\n",
      "   ------------------------------ --------- 3/4 [scikit-learn]\n",
      "   ------------------------------ --------- 3/4 [scikit-learn]\n",
      "   ------------------------------ --------- 3/4 [scikit-learn]\n",
      "   ------------------------------ --------- 3/4 [scikit-learn]\n",
      "   ------------------------------ --------- 3/4 [scikit-learn]\n",
      "   ------------------------------ --------- 3/4 [scikit-learn]\n",
      "   ------------------------------ --------- 3/4 [scikit-learn]\n",
      "   ------------------------------ --------- 3/4 [scikit-learn]\n",
      "   ------------------------------ --------- 3/4 [scikit-learn]\n",
      "   ------------------------------ --------- 3/4 [scikit-learn]\n",
      "   ---------------------------------------- 4/4 [scikit-learn]\n",
      "\n",
      "Successfully installed joblib-1.5.1 scikit-learn-1.7.0 scipy-1.16.0 threadpoolctl-3.6.0\n"
     ]
    }
   ],
   "source": [
    "!pip install scikit-learn"
   ]
  },
  {
   "cell_type": "code",
   "execution_count": 75,
   "metadata": {},
   "outputs": [
    {
     "name": "stdout",
     "output_type": "stream",
     "text": [
      "❌ File Error: Dataset 'data.csv' not found.\n",
      "🔚 Pipeline completed (with or without errors).\n"
     ]
    }
   ],
   "source": [
    "import pandas as pd\n",
    "from sklearn.linear_model import LogisticRegression\n",
    "from sklearn.model_selection import train_test_split\n",
    "import joblib\n",
    "import os\n",
    "\n",
    "try:\n",
    "    # 1. Load the dataset\n",
    "    if not os.path.exists(\"data.csv\"):\n",
    "        raise FileNotFoundError(\"Dataset 'data.csv' not found.\")\n",
    "\n",
    "    df = pd.read_csv(\"data.csv\")\n",
    "\n",
    "    # 2. Preprocess data\n",
    "    if df.isnull().any().any():\n",
    "        raise ValueError(\"Dataset contains missing values.\")\n",
    "\n",
    "    X = df.drop(\"target\", axis=1)\n",
    "    y = df[\"target\"]\n",
    "\n",
    "    # 3. Train-test split\n",
    "    X_train, X_test, y_train, y_test = train_test_split(X, y, test_size=0.2)\n",
    "\n",
    "    # 4. Train the model\n",
    "    model = LogisticRegression()\n",
    "    model.fit(X_train, y_train)\n",
    "\n",
    "    # 5. Save the model\n",
    "    joblib.dump(model, \"model.pkl\")\n",
    "    print(\"✅ Model trained and saved successfully!\")\n",
    "\n",
    "except FileNotFoundError as fnf_err:\n",
    "    print(\"❌ File Error:\", fnf_err)\n",
    "\n",
    "except ValueError as val_err:\n",
    "    print(\"❌ Data Error:\", val_err)\n",
    "\n",
    "except Exception as e:\n",
    "    print(\"❌ An unexpected error occurred:\", e)\n",
    "\n",
    "finally:\n",
    "    print(\"🔚 Pipeline completed (with or without errors).\")\n"
   ]
  },
  {
   "cell_type": "code",
   "execution_count": null,
   "metadata": {},
   "outputs": [],
   "source": []
  }
 ],
 "metadata": {
  "colab": {
   "provenance": []
  },
  "kernelspec": {
   "display_name": "Python 3 (ipykernel)",
   "language": "python",
   "name": "python3"
  },
  "language_info": {
   "codemirror_mode": {
    "name": "ipython",
    "version": 3
   },
   "file_extension": ".py",
   "mimetype": "text/x-python",
   "name": "python",
   "nbconvert_exporter": "python",
   "pygments_lexer": "ipython3",
   "version": "3.13.5"
  }
 },
 "nbformat": 4,
 "nbformat_minor": 4
}
